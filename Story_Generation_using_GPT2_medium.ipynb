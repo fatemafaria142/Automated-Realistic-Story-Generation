{
  "nbformat": 4,
  "nbformat_minor": 0,
  "metadata": {
    "colab": {
      "provenance": [],
      "gpuType": "T4",
      "include_colab_link": true
    },
    "kernelspec": {
      "name": "python3",
      "display_name": "Python 3"
    },
    "accelerator": "GPU",
    "widgets": {
      "application/vnd.jupyter.widget-state+json": {
        "ac2c836588ab4eaf9a59229ee2cfa005": {
          "model_module": "@jupyter-widgets/controls",
          "model_name": "HBoxModel",
          "model_module_version": "1.5.0",
          "state": {
            "_dom_classes": [],
            "_model_module": "@jupyter-widgets/controls",
            "_model_module_version": "1.5.0",
            "_model_name": "HBoxModel",
            "_view_count": null,
            "_view_module": "@jupyter-widgets/controls",
            "_view_module_version": "1.5.0",
            "_view_name": "HBoxView",
            "box_style": "",
            "children": [
              "IPY_MODEL_36b4357c06364fafbf4356bd799eeb40",
              "IPY_MODEL_0533ac039b4543e09e09639cd6d813aa",
              "IPY_MODEL_5fd1f014a07b4bf682949a670c31f4ab"
            ],
            "layout": "IPY_MODEL_384a7a1de8364f2b8eed5ed18f8e2b4a"
          }
        },
        "36b4357c06364fafbf4356bd799eeb40": {
          "model_module": "@jupyter-widgets/controls",
          "model_name": "HTMLModel",
          "model_module_version": "1.5.0",
          "state": {
            "_dom_classes": [],
            "_model_module": "@jupyter-widgets/controls",
            "_model_module_version": "1.5.0",
            "_model_name": "HTMLModel",
            "_view_count": null,
            "_view_module": "@jupyter-widgets/controls",
            "_view_module_version": "1.5.0",
            "_view_name": "HTMLView",
            "description": "",
            "description_tooltip": null,
            "layout": "IPY_MODEL_d5d602f1351845a3a00c1665a7707608",
            "placeholder": "​",
            "style": "IPY_MODEL_e368542ee95c45499523fff725788f1e",
            "value": "Creating CSV from Arrow format: 100%"
          }
        },
        "0533ac039b4543e09e09639cd6d813aa": {
          "model_module": "@jupyter-widgets/controls",
          "model_name": "FloatProgressModel",
          "model_module_version": "1.5.0",
          "state": {
            "_dom_classes": [],
            "_model_module": "@jupyter-widgets/controls",
            "_model_module_version": "1.5.0",
            "_model_name": "FloatProgressModel",
            "_view_count": null,
            "_view_module": "@jupyter-widgets/controls",
            "_view_module_version": "1.5.0",
            "_view_name": "ProgressView",
            "bar_style": "success",
            "description": "",
            "description_tooltip": null,
            "layout": "IPY_MODEL_9313127d2e34423dbe6862c443cf1dc4",
            "max": 6,
            "min": 0,
            "orientation": "horizontal",
            "style": "IPY_MODEL_54aed97c75864725973da44d3cdcd453",
            "value": 6
          }
        },
        "5fd1f014a07b4bf682949a670c31f4ab": {
          "model_module": "@jupyter-widgets/controls",
          "model_name": "HTMLModel",
          "model_module_version": "1.5.0",
          "state": {
            "_dom_classes": [],
            "_model_module": "@jupyter-widgets/controls",
            "_model_module_version": "1.5.0",
            "_model_name": "HTMLModel",
            "_view_count": null,
            "_view_module": "@jupyter-widgets/controls",
            "_view_module_version": "1.5.0",
            "_view_name": "HTMLView",
            "description": "",
            "description_tooltip": null,
            "layout": "IPY_MODEL_582246d2c5234529aad9dd969f4adf03",
            "placeholder": "​",
            "style": "IPY_MODEL_e0e04b981ff54605bb03bb5124c12062",
            "value": " 6/6 [00:01&lt;00:00,  7.14ba/s]"
          }
        },
        "384a7a1de8364f2b8eed5ed18f8e2b4a": {
          "model_module": "@jupyter-widgets/base",
          "model_name": "LayoutModel",
          "model_module_version": "1.2.0",
          "state": {
            "_model_module": "@jupyter-widgets/base",
            "_model_module_version": "1.2.0",
            "_model_name": "LayoutModel",
            "_view_count": null,
            "_view_module": "@jupyter-widgets/base",
            "_view_module_version": "1.2.0",
            "_view_name": "LayoutView",
            "align_content": null,
            "align_items": null,
            "align_self": null,
            "border": null,
            "bottom": null,
            "display": null,
            "flex": null,
            "flex_flow": null,
            "grid_area": null,
            "grid_auto_columns": null,
            "grid_auto_flow": null,
            "grid_auto_rows": null,
            "grid_column": null,
            "grid_gap": null,
            "grid_row": null,
            "grid_template_areas": null,
            "grid_template_columns": null,
            "grid_template_rows": null,
            "height": null,
            "justify_content": null,
            "justify_items": null,
            "left": null,
            "margin": null,
            "max_height": null,
            "max_width": null,
            "min_height": null,
            "min_width": null,
            "object_fit": null,
            "object_position": null,
            "order": null,
            "overflow": null,
            "overflow_x": null,
            "overflow_y": null,
            "padding": null,
            "right": null,
            "top": null,
            "visibility": null,
            "width": null
          }
        },
        "d5d602f1351845a3a00c1665a7707608": {
          "model_module": "@jupyter-widgets/base",
          "model_name": "LayoutModel",
          "model_module_version": "1.2.0",
          "state": {
            "_model_module": "@jupyter-widgets/base",
            "_model_module_version": "1.2.0",
            "_model_name": "LayoutModel",
            "_view_count": null,
            "_view_module": "@jupyter-widgets/base",
            "_view_module_version": "1.2.0",
            "_view_name": "LayoutView",
            "align_content": null,
            "align_items": null,
            "align_self": null,
            "border": null,
            "bottom": null,
            "display": null,
            "flex": null,
            "flex_flow": null,
            "grid_area": null,
            "grid_auto_columns": null,
            "grid_auto_flow": null,
            "grid_auto_rows": null,
            "grid_column": null,
            "grid_gap": null,
            "grid_row": null,
            "grid_template_areas": null,
            "grid_template_columns": null,
            "grid_template_rows": null,
            "height": null,
            "justify_content": null,
            "justify_items": null,
            "left": null,
            "margin": null,
            "max_height": null,
            "max_width": null,
            "min_height": null,
            "min_width": null,
            "object_fit": null,
            "object_position": null,
            "order": null,
            "overflow": null,
            "overflow_x": null,
            "overflow_y": null,
            "padding": null,
            "right": null,
            "top": null,
            "visibility": null,
            "width": null
          }
        },
        "e368542ee95c45499523fff725788f1e": {
          "model_module": "@jupyter-widgets/controls",
          "model_name": "DescriptionStyleModel",
          "model_module_version": "1.5.0",
          "state": {
            "_model_module": "@jupyter-widgets/controls",
            "_model_module_version": "1.5.0",
            "_model_name": "DescriptionStyleModel",
            "_view_count": null,
            "_view_module": "@jupyter-widgets/base",
            "_view_module_version": "1.2.0",
            "_view_name": "StyleView",
            "description_width": ""
          }
        },
        "9313127d2e34423dbe6862c443cf1dc4": {
          "model_module": "@jupyter-widgets/base",
          "model_name": "LayoutModel",
          "model_module_version": "1.2.0",
          "state": {
            "_model_module": "@jupyter-widgets/base",
            "_model_module_version": "1.2.0",
            "_model_name": "LayoutModel",
            "_view_count": null,
            "_view_module": "@jupyter-widgets/base",
            "_view_module_version": "1.2.0",
            "_view_name": "LayoutView",
            "align_content": null,
            "align_items": null,
            "align_self": null,
            "border": null,
            "bottom": null,
            "display": null,
            "flex": null,
            "flex_flow": null,
            "grid_area": null,
            "grid_auto_columns": null,
            "grid_auto_flow": null,
            "grid_auto_rows": null,
            "grid_column": null,
            "grid_gap": null,
            "grid_row": null,
            "grid_template_areas": null,
            "grid_template_columns": null,
            "grid_template_rows": null,
            "height": null,
            "justify_content": null,
            "justify_items": null,
            "left": null,
            "margin": null,
            "max_height": null,
            "max_width": null,
            "min_height": null,
            "min_width": null,
            "object_fit": null,
            "object_position": null,
            "order": null,
            "overflow": null,
            "overflow_x": null,
            "overflow_y": null,
            "padding": null,
            "right": null,
            "top": null,
            "visibility": null,
            "width": null
          }
        },
        "54aed97c75864725973da44d3cdcd453": {
          "model_module": "@jupyter-widgets/controls",
          "model_name": "ProgressStyleModel",
          "model_module_version": "1.5.0",
          "state": {
            "_model_module": "@jupyter-widgets/controls",
            "_model_module_version": "1.5.0",
            "_model_name": "ProgressStyleModel",
            "_view_count": null,
            "_view_module": "@jupyter-widgets/base",
            "_view_module_version": "1.2.0",
            "_view_name": "StyleView",
            "bar_color": null,
            "description_width": ""
          }
        },
        "582246d2c5234529aad9dd969f4adf03": {
          "model_module": "@jupyter-widgets/base",
          "model_name": "LayoutModel",
          "model_module_version": "1.2.0",
          "state": {
            "_model_module": "@jupyter-widgets/base",
            "_model_module_version": "1.2.0",
            "_model_name": "LayoutModel",
            "_view_count": null,
            "_view_module": "@jupyter-widgets/base",
            "_view_module_version": "1.2.0",
            "_view_name": "LayoutView",
            "align_content": null,
            "align_items": null,
            "align_self": null,
            "border": null,
            "bottom": null,
            "display": null,
            "flex": null,
            "flex_flow": null,
            "grid_area": null,
            "grid_auto_columns": null,
            "grid_auto_flow": null,
            "grid_auto_rows": null,
            "grid_column": null,
            "grid_gap": null,
            "grid_row": null,
            "grid_template_areas": null,
            "grid_template_columns": null,
            "grid_template_rows": null,
            "height": null,
            "justify_content": null,
            "justify_items": null,
            "left": null,
            "margin": null,
            "max_height": null,
            "max_width": null,
            "min_height": null,
            "min_width": null,
            "object_fit": null,
            "object_position": null,
            "order": null,
            "overflow": null,
            "overflow_x": null,
            "overflow_y": null,
            "padding": null,
            "right": null,
            "top": null,
            "visibility": null,
            "width": null
          }
        },
        "e0e04b981ff54605bb03bb5124c12062": {
          "model_module": "@jupyter-widgets/controls",
          "model_name": "DescriptionStyleModel",
          "model_module_version": "1.5.0",
          "state": {
            "_model_module": "@jupyter-widgets/controls",
            "_model_module_version": "1.5.0",
            "_model_name": "DescriptionStyleModel",
            "_view_count": null,
            "_view_module": "@jupyter-widgets/base",
            "_view_module_version": "1.2.0",
            "_view_name": "StyleView",
            "description_width": ""
          }
        },
        "9ddad424f0184313ab9e3e625affa396": {
          "model_module": "@jupyter-widgets/controls",
          "model_name": "HBoxModel",
          "model_module_version": "1.5.0",
          "state": {
            "_dom_classes": [],
            "_model_module": "@jupyter-widgets/controls",
            "_model_module_version": "1.5.0",
            "_model_name": "HBoxModel",
            "_view_count": null,
            "_view_module": "@jupyter-widgets/controls",
            "_view_module_version": "1.5.0",
            "_view_name": "HBoxView",
            "box_style": "",
            "children": [
              "IPY_MODEL_a4280ec7a29c46e0bc122aa030a38c58",
              "IPY_MODEL_cf151b5b0ccb47c987c54412dd7bdcae",
              "IPY_MODEL_6576dd5ff7e94e0b8291ab3802dc7bbc"
            ],
            "layout": "IPY_MODEL_ac09333dc2dd40edb648d67ac091c2f6"
          }
        },
        "a4280ec7a29c46e0bc122aa030a38c58": {
          "model_module": "@jupyter-widgets/controls",
          "model_name": "HTMLModel",
          "model_module_version": "1.5.0",
          "state": {
            "_dom_classes": [],
            "_model_module": "@jupyter-widgets/controls",
            "_model_module_version": "1.5.0",
            "_model_name": "HTMLModel",
            "_view_count": null,
            "_view_module": "@jupyter-widgets/controls",
            "_view_module_version": "1.5.0",
            "_view_name": "HTMLView",
            "description": "",
            "description_tooltip": null,
            "layout": "IPY_MODEL_7057fc641e204559a522f70879d073e9",
            "placeholder": "​",
            "style": "IPY_MODEL_dbbb1cf6d01e4e44821ee9bbd2a508e6",
            "value": "Downloading builder script: 100%"
          }
        },
        "cf151b5b0ccb47c987c54412dd7bdcae": {
          "model_module": "@jupyter-widgets/controls",
          "model_name": "FloatProgressModel",
          "model_module_version": "1.5.0",
          "state": {
            "_dom_classes": [],
            "_model_module": "@jupyter-widgets/controls",
            "_model_module_version": "1.5.0",
            "_model_name": "FloatProgressModel",
            "_view_count": null,
            "_view_module": "@jupyter-widgets/controls",
            "_view_module_version": "1.5.0",
            "_view_name": "ProgressView",
            "bar_style": "success",
            "description": "",
            "description_tooltip": null,
            "layout": "IPY_MODEL_55f5600edfd44282bcc89edf5dec04f3",
            "max": 5599,
            "min": 0,
            "orientation": "horizontal",
            "style": "IPY_MODEL_58e0b4569673458390c4997e722c5d8b",
            "value": 5599
          }
        },
        "6576dd5ff7e94e0b8291ab3802dc7bbc": {
          "model_module": "@jupyter-widgets/controls",
          "model_name": "HTMLModel",
          "model_module_version": "1.5.0",
          "state": {
            "_dom_classes": [],
            "_model_module": "@jupyter-widgets/controls",
            "_model_module_version": "1.5.0",
            "_model_name": "HTMLModel",
            "_view_count": null,
            "_view_module": "@jupyter-widgets/controls",
            "_view_module_version": "1.5.0",
            "_view_name": "HTMLView",
            "description": "",
            "description_tooltip": null,
            "layout": "IPY_MODEL_0a887b52a1ac4394ad4a7beca1ae67e2",
            "placeholder": "​",
            "style": "IPY_MODEL_34069795eb764ffcae5bdd28043c2eed",
            "value": " 5.60k/5.60k [00:00&lt;00:00, 211kB/s]"
          }
        },
        "ac09333dc2dd40edb648d67ac091c2f6": {
          "model_module": "@jupyter-widgets/base",
          "model_name": "LayoutModel",
          "model_module_version": "1.2.0",
          "state": {
            "_model_module": "@jupyter-widgets/base",
            "_model_module_version": "1.2.0",
            "_model_name": "LayoutModel",
            "_view_count": null,
            "_view_module": "@jupyter-widgets/base",
            "_view_module_version": "1.2.0",
            "_view_name": "LayoutView",
            "align_content": null,
            "align_items": null,
            "align_self": null,
            "border": null,
            "bottom": null,
            "display": null,
            "flex": null,
            "flex_flow": null,
            "grid_area": null,
            "grid_auto_columns": null,
            "grid_auto_flow": null,
            "grid_auto_rows": null,
            "grid_column": null,
            "grid_gap": null,
            "grid_row": null,
            "grid_template_areas": null,
            "grid_template_columns": null,
            "grid_template_rows": null,
            "height": null,
            "justify_content": null,
            "justify_items": null,
            "left": null,
            "margin": null,
            "max_height": null,
            "max_width": null,
            "min_height": null,
            "min_width": null,
            "object_fit": null,
            "object_position": null,
            "order": null,
            "overflow": null,
            "overflow_x": null,
            "overflow_y": null,
            "padding": null,
            "right": null,
            "top": null,
            "visibility": null,
            "width": null
          }
        },
        "7057fc641e204559a522f70879d073e9": {
          "model_module": "@jupyter-widgets/base",
          "model_name": "LayoutModel",
          "model_module_version": "1.2.0",
          "state": {
            "_model_module": "@jupyter-widgets/base",
            "_model_module_version": "1.2.0",
            "_model_name": "LayoutModel",
            "_view_count": null,
            "_view_module": "@jupyter-widgets/base",
            "_view_module_version": "1.2.0",
            "_view_name": "LayoutView",
            "align_content": null,
            "align_items": null,
            "align_self": null,
            "border": null,
            "bottom": null,
            "display": null,
            "flex": null,
            "flex_flow": null,
            "grid_area": null,
            "grid_auto_columns": null,
            "grid_auto_flow": null,
            "grid_auto_rows": null,
            "grid_column": null,
            "grid_gap": null,
            "grid_row": null,
            "grid_template_areas": null,
            "grid_template_columns": null,
            "grid_template_rows": null,
            "height": null,
            "justify_content": null,
            "justify_items": null,
            "left": null,
            "margin": null,
            "max_height": null,
            "max_width": null,
            "min_height": null,
            "min_width": null,
            "object_fit": null,
            "object_position": null,
            "order": null,
            "overflow": null,
            "overflow_x": null,
            "overflow_y": null,
            "padding": null,
            "right": null,
            "top": null,
            "visibility": null,
            "width": null
          }
        },
        "dbbb1cf6d01e4e44821ee9bbd2a508e6": {
          "model_module": "@jupyter-widgets/controls",
          "model_name": "DescriptionStyleModel",
          "model_module_version": "1.5.0",
          "state": {
            "_model_module": "@jupyter-widgets/controls",
            "_model_module_version": "1.5.0",
            "_model_name": "DescriptionStyleModel",
            "_view_count": null,
            "_view_module": "@jupyter-widgets/base",
            "_view_module_version": "1.2.0",
            "_view_name": "StyleView",
            "description_width": ""
          }
        },
        "55f5600edfd44282bcc89edf5dec04f3": {
          "model_module": "@jupyter-widgets/base",
          "model_name": "LayoutModel",
          "model_module_version": "1.2.0",
          "state": {
            "_model_module": "@jupyter-widgets/base",
            "_model_module_version": "1.2.0",
            "_model_name": "LayoutModel",
            "_view_count": null,
            "_view_module": "@jupyter-widgets/base",
            "_view_module_version": "1.2.0",
            "_view_name": "LayoutView",
            "align_content": null,
            "align_items": null,
            "align_self": null,
            "border": null,
            "bottom": null,
            "display": null,
            "flex": null,
            "flex_flow": null,
            "grid_area": null,
            "grid_auto_columns": null,
            "grid_auto_flow": null,
            "grid_auto_rows": null,
            "grid_column": null,
            "grid_gap": null,
            "grid_row": null,
            "grid_template_areas": null,
            "grid_template_columns": null,
            "grid_template_rows": null,
            "height": null,
            "justify_content": null,
            "justify_items": null,
            "left": null,
            "margin": null,
            "max_height": null,
            "max_width": null,
            "min_height": null,
            "min_width": null,
            "object_fit": null,
            "object_position": null,
            "order": null,
            "overflow": null,
            "overflow_x": null,
            "overflow_y": null,
            "padding": null,
            "right": null,
            "top": null,
            "visibility": null,
            "width": null
          }
        },
        "58e0b4569673458390c4997e722c5d8b": {
          "model_module": "@jupyter-widgets/controls",
          "model_name": "ProgressStyleModel",
          "model_module_version": "1.5.0",
          "state": {
            "_model_module": "@jupyter-widgets/controls",
            "_model_module_version": "1.5.0",
            "_model_name": "ProgressStyleModel",
            "_view_count": null,
            "_view_module": "@jupyter-widgets/base",
            "_view_module_version": "1.2.0",
            "_view_name": "StyleView",
            "bar_color": null,
            "description_width": ""
          }
        },
        "0a887b52a1ac4394ad4a7beca1ae67e2": {
          "model_module": "@jupyter-widgets/base",
          "model_name": "LayoutModel",
          "model_module_version": "1.2.0",
          "state": {
            "_model_module": "@jupyter-widgets/base",
            "_model_module_version": "1.2.0",
            "_model_name": "LayoutModel",
            "_view_count": null,
            "_view_module": "@jupyter-widgets/base",
            "_view_module_version": "1.2.0",
            "_view_name": "LayoutView",
            "align_content": null,
            "align_items": null,
            "align_self": null,
            "border": null,
            "bottom": null,
            "display": null,
            "flex": null,
            "flex_flow": null,
            "grid_area": null,
            "grid_auto_columns": null,
            "grid_auto_flow": null,
            "grid_auto_rows": null,
            "grid_column": null,
            "grid_gap": null,
            "grid_row": null,
            "grid_template_areas": null,
            "grid_template_columns": null,
            "grid_template_rows": null,
            "height": null,
            "justify_content": null,
            "justify_items": null,
            "left": null,
            "margin": null,
            "max_height": null,
            "max_width": null,
            "min_height": null,
            "min_width": null,
            "object_fit": null,
            "object_position": null,
            "order": null,
            "overflow": null,
            "overflow_x": null,
            "overflow_y": null,
            "padding": null,
            "right": null,
            "top": null,
            "visibility": null,
            "width": null
          }
        },
        "34069795eb764ffcae5bdd28043c2eed": {
          "model_module": "@jupyter-widgets/controls",
          "model_name": "DescriptionStyleModel",
          "model_module_version": "1.5.0",
          "state": {
            "_model_module": "@jupyter-widgets/controls",
            "_model_module_version": "1.5.0",
            "_model_name": "DescriptionStyleModel",
            "_view_count": null,
            "_view_module": "@jupyter-widgets/base",
            "_view_module_version": "1.2.0",
            "_view_name": "StyleView",
            "description_width": ""
          }
        },
        "6abdbd919f3842c5bd01dd98e1e1ded6": {
          "model_module": "@jupyter-widgets/controls",
          "model_name": "HBoxModel",
          "model_module_version": "1.5.0",
          "state": {
            "_dom_classes": [],
            "_model_module": "@jupyter-widgets/controls",
            "_model_module_version": "1.5.0",
            "_model_name": "HBoxModel",
            "_view_count": null,
            "_view_module": "@jupyter-widgets/controls",
            "_view_module_version": "1.5.0",
            "_view_name": "HBoxView",
            "box_style": "",
            "children": [
              "IPY_MODEL_eb37319900824465a5795833383abe6e",
              "IPY_MODEL_db5f9f8d469341a1bc041642d43ace6b",
              "IPY_MODEL_685e05630b9647488bac981721a82224"
            ],
            "layout": "IPY_MODEL_834010a321774ca4bc7215a096df7c05"
          }
        },
        "eb37319900824465a5795833383abe6e": {
          "model_module": "@jupyter-widgets/controls",
          "model_name": "HTMLModel",
          "model_module_version": "1.5.0",
          "state": {
            "_dom_classes": [],
            "_model_module": "@jupyter-widgets/controls",
            "_model_module_version": "1.5.0",
            "_model_name": "HTMLModel",
            "_view_count": null,
            "_view_module": "@jupyter-widgets/controls",
            "_view_module_version": "1.5.0",
            "_view_name": "HTMLView",
            "description": "",
            "description_tooltip": null,
            "layout": "IPY_MODEL_3bdbc4b923a44cca9245a34f6fc5a7bc",
            "placeholder": "​",
            "style": "IPY_MODEL_54cd5e1b8aeb4a5fbe3cb08816ff896c",
            "value": "Downloading builder script: 100%"
          }
        },
        "db5f9f8d469341a1bc041642d43ace6b": {
          "model_module": "@jupyter-widgets/controls",
          "model_name": "FloatProgressModel",
          "model_module_version": "1.5.0",
          "state": {
            "_dom_classes": [],
            "_model_module": "@jupyter-widgets/controls",
            "_model_module_version": "1.5.0",
            "_model_name": "FloatProgressModel",
            "_view_count": null,
            "_view_module": "@jupyter-widgets/controls",
            "_view_module_version": "1.5.0",
            "_view_name": "ProgressView",
            "bar_style": "success",
            "description": "",
            "description_tooltip": null,
            "layout": "IPY_MODEL_81f6adc3318b4091908bfe76f9062f99",
            "max": 4485,
            "min": 0,
            "orientation": "horizontal",
            "style": "IPY_MODEL_b796874774be43c88b03fa1edc9fb988",
            "value": 4485
          }
        },
        "685e05630b9647488bac981721a82224": {
          "model_module": "@jupyter-widgets/controls",
          "model_name": "HTMLModel",
          "model_module_version": "1.5.0",
          "state": {
            "_dom_classes": [],
            "_model_module": "@jupyter-widgets/controls",
            "_model_module_version": "1.5.0",
            "_model_name": "HTMLModel",
            "_view_count": null,
            "_view_module": "@jupyter-widgets/controls",
            "_view_module_version": "1.5.0",
            "_view_name": "HTMLView",
            "description": "",
            "description_tooltip": null,
            "layout": "IPY_MODEL_c727e65a1b484e709561ce2c5b836c69",
            "placeholder": "​",
            "style": "IPY_MODEL_4aa8f72acaf44637b82f349ed3de2f52",
            "value": " 4.49k/4.49k [00:00&lt;00:00, 311kB/s]"
          }
        },
        "834010a321774ca4bc7215a096df7c05": {
          "model_module": "@jupyter-widgets/base",
          "model_name": "LayoutModel",
          "model_module_version": "1.2.0",
          "state": {
            "_model_module": "@jupyter-widgets/base",
            "_model_module_version": "1.2.0",
            "_model_name": "LayoutModel",
            "_view_count": null,
            "_view_module": "@jupyter-widgets/base",
            "_view_module_version": "1.2.0",
            "_view_name": "LayoutView",
            "align_content": null,
            "align_items": null,
            "align_self": null,
            "border": null,
            "bottom": null,
            "display": null,
            "flex": null,
            "flex_flow": null,
            "grid_area": null,
            "grid_auto_columns": null,
            "grid_auto_flow": null,
            "grid_auto_rows": null,
            "grid_column": null,
            "grid_gap": null,
            "grid_row": null,
            "grid_template_areas": null,
            "grid_template_columns": null,
            "grid_template_rows": null,
            "height": null,
            "justify_content": null,
            "justify_items": null,
            "left": null,
            "margin": null,
            "max_height": null,
            "max_width": null,
            "min_height": null,
            "min_width": null,
            "object_fit": null,
            "object_position": null,
            "order": null,
            "overflow": null,
            "overflow_x": null,
            "overflow_y": null,
            "padding": null,
            "right": null,
            "top": null,
            "visibility": null,
            "width": null
          }
        },
        "3bdbc4b923a44cca9245a34f6fc5a7bc": {
          "model_module": "@jupyter-widgets/base",
          "model_name": "LayoutModel",
          "model_module_version": "1.2.0",
          "state": {
            "_model_module": "@jupyter-widgets/base",
            "_model_module_version": "1.2.0",
            "_model_name": "LayoutModel",
            "_view_count": null,
            "_view_module": "@jupyter-widgets/base",
            "_view_module_version": "1.2.0",
            "_view_name": "LayoutView",
            "align_content": null,
            "align_items": null,
            "align_self": null,
            "border": null,
            "bottom": null,
            "display": null,
            "flex": null,
            "flex_flow": null,
            "grid_area": null,
            "grid_auto_columns": null,
            "grid_auto_flow": null,
            "grid_auto_rows": null,
            "grid_column": null,
            "grid_gap": null,
            "grid_row": null,
            "grid_template_areas": null,
            "grid_template_columns": null,
            "grid_template_rows": null,
            "height": null,
            "justify_content": null,
            "justify_items": null,
            "left": null,
            "margin": null,
            "max_height": null,
            "max_width": null,
            "min_height": null,
            "min_width": null,
            "object_fit": null,
            "object_position": null,
            "order": null,
            "overflow": null,
            "overflow_x": null,
            "overflow_y": null,
            "padding": null,
            "right": null,
            "top": null,
            "visibility": null,
            "width": null
          }
        },
        "54cd5e1b8aeb4a5fbe3cb08816ff896c": {
          "model_module": "@jupyter-widgets/controls",
          "model_name": "DescriptionStyleModel",
          "model_module_version": "1.5.0",
          "state": {
            "_model_module": "@jupyter-widgets/controls",
            "_model_module_version": "1.5.0",
            "_model_name": "DescriptionStyleModel",
            "_view_count": null,
            "_view_module": "@jupyter-widgets/base",
            "_view_module_version": "1.2.0",
            "_view_name": "StyleView",
            "description_width": ""
          }
        },
        "81f6adc3318b4091908bfe76f9062f99": {
          "model_module": "@jupyter-widgets/base",
          "model_name": "LayoutModel",
          "model_module_version": "1.2.0",
          "state": {
            "_model_module": "@jupyter-widgets/base",
            "_model_module_version": "1.2.0",
            "_model_name": "LayoutModel",
            "_view_count": null,
            "_view_module": "@jupyter-widgets/base",
            "_view_module_version": "1.2.0",
            "_view_name": "LayoutView",
            "align_content": null,
            "align_items": null,
            "align_self": null,
            "border": null,
            "bottom": null,
            "display": null,
            "flex": null,
            "flex_flow": null,
            "grid_area": null,
            "grid_auto_columns": null,
            "grid_auto_flow": null,
            "grid_auto_rows": null,
            "grid_column": null,
            "grid_gap": null,
            "grid_row": null,
            "grid_template_areas": null,
            "grid_template_columns": null,
            "grid_template_rows": null,
            "height": null,
            "justify_content": null,
            "justify_items": null,
            "left": null,
            "margin": null,
            "max_height": null,
            "max_width": null,
            "min_height": null,
            "min_width": null,
            "object_fit": null,
            "object_position": null,
            "order": null,
            "overflow": null,
            "overflow_x": null,
            "overflow_y": null,
            "padding": null,
            "right": null,
            "top": null,
            "visibility": null,
            "width": null
          }
        },
        "b796874774be43c88b03fa1edc9fb988": {
          "model_module": "@jupyter-widgets/controls",
          "model_name": "ProgressStyleModel",
          "model_module_version": "1.5.0",
          "state": {
            "_model_module": "@jupyter-widgets/controls",
            "_model_module_version": "1.5.0",
            "_model_name": "ProgressStyleModel",
            "_view_count": null,
            "_view_module": "@jupyter-widgets/base",
            "_view_module_version": "1.2.0",
            "_view_name": "StyleView",
            "bar_color": null,
            "description_width": ""
          }
        },
        "c727e65a1b484e709561ce2c5b836c69": {
          "model_module": "@jupyter-widgets/base",
          "model_name": "LayoutModel",
          "model_module_version": "1.2.0",
          "state": {
            "_model_module": "@jupyter-widgets/base",
            "_model_module_version": "1.2.0",
            "_model_name": "LayoutModel",
            "_view_count": null,
            "_view_module": "@jupyter-widgets/base",
            "_view_module_version": "1.2.0",
            "_view_name": "LayoutView",
            "align_content": null,
            "align_items": null,
            "align_self": null,
            "border": null,
            "bottom": null,
            "display": null,
            "flex": null,
            "flex_flow": null,
            "grid_area": null,
            "grid_auto_columns": null,
            "grid_auto_flow": null,
            "grid_auto_rows": null,
            "grid_column": null,
            "grid_gap": null,
            "grid_row": null,
            "grid_template_areas": null,
            "grid_template_columns": null,
            "grid_template_rows": null,
            "height": null,
            "justify_content": null,
            "justify_items": null,
            "left": null,
            "margin": null,
            "max_height": null,
            "max_width": null,
            "min_height": null,
            "min_width": null,
            "object_fit": null,
            "object_position": null,
            "order": null,
            "overflow": null,
            "overflow_x": null,
            "overflow_y": null,
            "padding": null,
            "right": null,
            "top": null,
            "visibility": null,
            "width": null
          }
        },
        "4aa8f72acaf44637b82f349ed3de2f52": {
          "model_module": "@jupyter-widgets/controls",
          "model_name": "DescriptionStyleModel",
          "model_module_version": "1.5.0",
          "state": {
            "_model_module": "@jupyter-widgets/controls",
            "_model_module_version": "1.5.0",
            "_model_name": "DescriptionStyleModel",
            "_view_count": null,
            "_view_module": "@jupyter-widgets/base",
            "_view_module_version": "1.2.0",
            "_view_name": "StyleView",
            "description_width": ""
          }
        },
        "dbbbd26f9ba1488b987b08a3679f6e51": {
          "model_module": "@jupyter-widgets/controls",
          "model_name": "HBoxModel",
          "model_module_version": "1.5.0",
          "state": {
            "_dom_classes": [],
            "_model_module": "@jupyter-widgets/controls",
            "_model_module_version": "1.5.0",
            "_model_name": "HBoxModel",
            "_view_count": null,
            "_view_module": "@jupyter-widgets/controls",
            "_view_module_version": "1.5.0",
            "_view_name": "HBoxView",
            "box_style": "",
            "children": [
              "IPY_MODEL_d8925da561e14d34aa22af3a110feba6",
              "IPY_MODEL_e3e7966e6a7643a081bcded7c9b1dafc",
              "IPY_MODEL_282e7d3df374484da55af32ecb4aaa8f"
            ],
            "layout": "IPY_MODEL_6dc20e1f35fd450c8adae604173e6dbd"
          }
        },
        "d8925da561e14d34aa22af3a110feba6": {
          "model_module": "@jupyter-widgets/controls",
          "model_name": "HTMLModel",
          "model_module_version": "1.5.0",
          "state": {
            "_dom_classes": [],
            "_model_module": "@jupyter-widgets/controls",
            "_model_module_version": "1.5.0",
            "_model_name": "HTMLModel",
            "_view_count": null,
            "_view_module": "@jupyter-widgets/controls",
            "_view_module_version": "1.5.0",
            "_view_name": "HTMLView",
            "description": "",
            "description_tooltip": null,
            "layout": "IPY_MODEL_a68c17f259574dc7879080092a833aae",
            "placeholder": "​",
            "style": "IPY_MODEL_5d58bb8d399d41e08ed2fbcd911bbe6b",
            "value": "Downloading builder script: 100%"
          }
        },
        "e3e7966e6a7643a081bcded7c9b1dafc": {
          "model_module": "@jupyter-widgets/controls",
          "model_name": "FloatProgressModel",
          "model_module_version": "1.5.0",
          "state": {
            "_dom_classes": [],
            "_model_module": "@jupyter-widgets/controls",
            "_model_module_version": "1.5.0",
            "_model_name": "FloatProgressModel",
            "_view_count": null,
            "_view_module": "@jupyter-widgets/controls",
            "_view_module_version": "1.5.0",
            "_view_name": "ProgressView",
            "bar_style": "success",
            "description": "",
            "description_tooltip": null,
            "layout": "IPY_MODEL_c9eba18552e9489c89ac49832279bfa5",
            "max": 6927,
            "min": 0,
            "orientation": "horizontal",
            "style": "IPY_MODEL_5f0a083e65224e73b55c280490800e3e",
            "value": 6927
          }
        },
        "282e7d3df374484da55af32ecb4aaa8f": {
          "model_module": "@jupyter-widgets/controls",
          "model_name": "HTMLModel",
          "model_module_version": "1.5.0",
          "state": {
            "_dom_classes": [],
            "_model_module": "@jupyter-widgets/controls",
            "_model_module_version": "1.5.0",
            "_model_name": "HTMLModel",
            "_view_count": null,
            "_view_module": "@jupyter-widgets/controls",
            "_view_module_version": "1.5.0",
            "_view_name": "HTMLView",
            "description": "",
            "description_tooltip": null,
            "layout": "IPY_MODEL_ef294e5d44c340b6a4779b4e0a0e718b",
            "placeholder": "​",
            "style": "IPY_MODEL_5693fae590134406ba037de75574ef43",
            "value": " 6.93k/6.93k [00:00&lt;00:00, 370kB/s]"
          }
        },
        "6dc20e1f35fd450c8adae604173e6dbd": {
          "model_module": "@jupyter-widgets/base",
          "model_name": "LayoutModel",
          "model_module_version": "1.2.0",
          "state": {
            "_model_module": "@jupyter-widgets/base",
            "_model_module_version": "1.2.0",
            "_model_name": "LayoutModel",
            "_view_count": null,
            "_view_module": "@jupyter-widgets/base",
            "_view_module_version": "1.2.0",
            "_view_name": "LayoutView",
            "align_content": null,
            "align_items": null,
            "align_self": null,
            "border": null,
            "bottom": null,
            "display": null,
            "flex": null,
            "flex_flow": null,
            "grid_area": null,
            "grid_auto_columns": null,
            "grid_auto_flow": null,
            "grid_auto_rows": null,
            "grid_column": null,
            "grid_gap": null,
            "grid_row": null,
            "grid_template_areas": null,
            "grid_template_columns": null,
            "grid_template_rows": null,
            "height": null,
            "justify_content": null,
            "justify_items": null,
            "left": null,
            "margin": null,
            "max_height": null,
            "max_width": null,
            "min_height": null,
            "min_width": null,
            "object_fit": null,
            "object_position": null,
            "order": null,
            "overflow": null,
            "overflow_x": null,
            "overflow_y": null,
            "padding": null,
            "right": null,
            "top": null,
            "visibility": null,
            "width": null
          }
        },
        "a68c17f259574dc7879080092a833aae": {
          "model_module": "@jupyter-widgets/base",
          "model_name": "LayoutModel",
          "model_module_version": "1.2.0",
          "state": {
            "_model_module": "@jupyter-widgets/base",
            "_model_module_version": "1.2.0",
            "_model_name": "LayoutModel",
            "_view_count": null,
            "_view_module": "@jupyter-widgets/base",
            "_view_module_version": "1.2.0",
            "_view_name": "LayoutView",
            "align_content": null,
            "align_items": null,
            "align_self": null,
            "border": null,
            "bottom": null,
            "display": null,
            "flex": null,
            "flex_flow": null,
            "grid_area": null,
            "grid_auto_columns": null,
            "grid_auto_flow": null,
            "grid_auto_rows": null,
            "grid_column": null,
            "grid_gap": null,
            "grid_row": null,
            "grid_template_areas": null,
            "grid_template_columns": null,
            "grid_template_rows": null,
            "height": null,
            "justify_content": null,
            "justify_items": null,
            "left": null,
            "margin": null,
            "max_height": null,
            "max_width": null,
            "min_height": null,
            "min_width": null,
            "object_fit": null,
            "object_position": null,
            "order": null,
            "overflow": null,
            "overflow_x": null,
            "overflow_y": null,
            "padding": null,
            "right": null,
            "top": null,
            "visibility": null,
            "width": null
          }
        },
        "5d58bb8d399d41e08ed2fbcd911bbe6b": {
          "model_module": "@jupyter-widgets/controls",
          "model_name": "DescriptionStyleModel",
          "model_module_version": "1.5.0",
          "state": {
            "_model_module": "@jupyter-widgets/controls",
            "_model_module_version": "1.5.0",
            "_model_name": "DescriptionStyleModel",
            "_view_count": null,
            "_view_module": "@jupyter-widgets/base",
            "_view_module_version": "1.2.0",
            "_view_name": "StyleView",
            "description_width": ""
          }
        },
        "c9eba18552e9489c89ac49832279bfa5": {
          "model_module": "@jupyter-widgets/base",
          "model_name": "LayoutModel",
          "model_module_version": "1.2.0",
          "state": {
            "_model_module": "@jupyter-widgets/base",
            "_model_module_version": "1.2.0",
            "_model_name": "LayoutModel",
            "_view_count": null,
            "_view_module": "@jupyter-widgets/base",
            "_view_module_version": "1.2.0",
            "_view_name": "LayoutView",
            "align_content": null,
            "align_items": null,
            "align_self": null,
            "border": null,
            "bottom": null,
            "display": null,
            "flex": null,
            "flex_flow": null,
            "grid_area": null,
            "grid_auto_columns": null,
            "grid_auto_flow": null,
            "grid_auto_rows": null,
            "grid_column": null,
            "grid_gap": null,
            "grid_row": null,
            "grid_template_areas": null,
            "grid_template_columns": null,
            "grid_template_rows": null,
            "height": null,
            "justify_content": null,
            "justify_items": null,
            "left": null,
            "margin": null,
            "max_height": null,
            "max_width": null,
            "min_height": null,
            "min_width": null,
            "object_fit": null,
            "object_position": null,
            "order": null,
            "overflow": null,
            "overflow_x": null,
            "overflow_y": null,
            "padding": null,
            "right": null,
            "top": null,
            "visibility": null,
            "width": null
          }
        },
        "5f0a083e65224e73b55c280490800e3e": {
          "model_module": "@jupyter-widgets/controls",
          "model_name": "ProgressStyleModel",
          "model_module_version": "1.5.0",
          "state": {
            "_model_module": "@jupyter-widgets/controls",
            "_model_module_version": "1.5.0",
            "_model_name": "ProgressStyleModel",
            "_view_count": null,
            "_view_module": "@jupyter-widgets/base",
            "_view_module_version": "1.2.0",
            "_view_name": "StyleView",
            "bar_color": null,
            "description_width": ""
          }
        },
        "ef294e5d44c340b6a4779b4e0a0e718b": {
          "model_module": "@jupyter-widgets/base",
          "model_name": "LayoutModel",
          "model_module_version": "1.2.0",
          "state": {
            "_model_module": "@jupyter-widgets/base",
            "_model_module_version": "1.2.0",
            "_model_name": "LayoutModel",
            "_view_count": null,
            "_view_module": "@jupyter-widgets/base",
            "_view_module_version": "1.2.0",
            "_view_name": "LayoutView",
            "align_content": null,
            "align_items": null,
            "align_self": null,
            "border": null,
            "bottom": null,
            "display": null,
            "flex": null,
            "flex_flow": null,
            "grid_area": null,
            "grid_auto_columns": null,
            "grid_auto_flow": null,
            "grid_auto_rows": null,
            "grid_column": null,
            "grid_gap": null,
            "grid_row": null,
            "grid_template_areas": null,
            "grid_template_columns": null,
            "grid_template_rows": null,
            "height": null,
            "justify_content": null,
            "justify_items": null,
            "left": null,
            "margin": null,
            "max_height": null,
            "max_width": null,
            "min_height": null,
            "min_width": null,
            "object_fit": null,
            "object_position": null,
            "order": null,
            "overflow": null,
            "overflow_x": null,
            "overflow_y": null,
            "padding": null,
            "right": null,
            "top": null,
            "visibility": null,
            "width": null
          }
        },
        "5693fae590134406ba037de75574ef43": {
          "model_module": "@jupyter-widgets/controls",
          "model_name": "DescriptionStyleModel",
          "model_module_version": "1.5.0",
          "state": {
            "_model_module": "@jupyter-widgets/controls",
            "_model_module_version": "1.5.0",
            "_model_name": "DescriptionStyleModel",
            "_view_count": null,
            "_view_module": "@jupyter-widgets/base",
            "_view_module_version": "1.2.0",
            "_view_name": "StyleView",
            "description_width": ""
          }
        },
        "838e7af09c4a4b1699eaae3ce6afe17e": {
          "model_module": "@jupyter-widgets/controls",
          "model_name": "HBoxModel",
          "model_module_version": "1.5.0",
          "state": {
            "_dom_classes": [],
            "_model_module": "@jupyter-widgets/controls",
            "_model_module_version": "1.5.0",
            "_model_name": "HBoxModel",
            "_view_count": null,
            "_view_module": "@jupyter-widgets/controls",
            "_view_module_version": "1.5.0",
            "_view_name": "HBoxView",
            "box_style": "",
            "children": [
              "IPY_MODEL_bb54ca4d636b428b9704d0785d0b4fc5",
              "IPY_MODEL_93009acc136942e8a34c185b8b18900b",
              "IPY_MODEL_6f4790c4c6a34c79a333199980f838c2"
            ],
            "layout": "IPY_MODEL_2c02fdcb696a4377be567caf54e92b91"
          }
        },
        "bb54ca4d636b428b9704d0785d0b4fc5": {
          "model_module": "@jupyter-widgets/controls",
          "model_name": "HTMLModel",
          "model_module_version": "1.5.0",
          "state": {
            "_dom_classes": [],
            "_model_module": "@jupyter-widgets/controls",
            "_model_module_version": "1.5.0",
            "_model_name": "HTMLModel",
            "_view_count": null,
            "_view_module": "@jupyter-widgets/controls",
            "_view_module_version": "1.5.0",
            "_view_name": "HTMLView",
            "description": "",
            "description_tooltip": null,
            "layout": "IPY_MODEL_803f52fe611c470c8a3eecbf0a91e1f3",
            "placeholder": "​",
            "style": "IPY_MODEL_5998f6960a834c5aa7bb83d1c7325a86",
            "value": "Downloading builder script: 100%"
          }
        },
        "93009acc136942e8a34c185b8b18900b": {
          "model_module": "@jupyter-widgets/controls",
          "model_name": "FloatProgressModel",
          "model_module_version": "1.5.0",
          "state": {
            "_dom_classes": [],
            "_model_module": "@jupyter-widgets/controls",
            "_model_module_version": "1.5.0",
            "_model_name": "FloatProgressModel",
            "_view_count": null,
            "_view_module": "@jupyter-widgets/controls",
            "_view_module_version": "1.5.0",
            "_view_name": "ProgressView",
            "bar_style": "success",
            "description": "",
            "description_tooltip": null,
            "layout": "IPY_MODEL_4b99c0f59f854aafb0bd58eadc35dedb",
            "max": 5669,
            "min": 0,
            "orientation": "horizontal",
            "style": "IPY_MODEL_36fc20099f5b48038d4c6d081b4ebbd3",
            "value": 5669
          }
        },
        "6f4790c4c6a34c79a333199980f838c2": {
          "model_module": "@jupyter-widgets/controls",
          "model_name": "HTMLModel",
          "model_module_version": "1.5.0",
          "state": {
            "_dom_classes": [],
            "_model_module": "@jupyter-widgets/controls",
            "_model_module_version": "1.5.0",
            "_model_name": "HTMLModel",
            "_view_count": null,
            "_view_module": "@jupyter-widgets/controls",
            "_view_module_version": "1.5.0",
            "_view_name": "HTMLView",
            "description": "",
            "description_tooltip": null,
            "layout": "IPY_MODEL_a9030c9756234c0381bd068fb667170b",
            "placeholder": "​",
            "style": "IPY_MODEL_9c471f91eef54336ab35facedf6dca46",
            "value": " 5.67k/5.67k [00:00&lt;00:00, 189kB/s]"
          }
        },
        "2c02fdcb696a4377be567caf54e92b91": {
          "model_module": "@jupyter-widgets/base",
          "model_name": "LayoutModel",
          "model_module_version": "1.2.0",
          "state": {
            "_model_module": "@jupyter-widgets/base",
            "_model_module_version": "1.2.0",
            "_model_name": "LayoutModel",
            "_view_count": null,
            "_view_module": "@jupyter-widgets/base",
            "_view_module_version": "1.2.0",
            "_view_name": "LayoutView",
            "align_content": null,
            "align_items": null,
            "align_self": null,
            "border": null,
            "bottom": null,
            "display": null,
            "flex": null,
            "flex_flow": null,
            "grid_area": null,
            "grid_auto_columns": null,
            "grid_auto_flow": null,
            "grid_auto_rows": null,
            "grid_column": null,
            "grid_gap": null,
            "grid_row": null,
            "grid_template_areas": null,
            "grid_template_columns": null,
            "grid_template_rows": null,
            "height": null,
            "justify_content": null,
            "justify_items": null,
            "left": null,
            "margin": null,
            "max_height": null,
            "max_width": null,
            "min_height": null,
            "min_width": null,
            "object_fit": null,
            "object_position": null,
            "order": null,
            "overflow": null,
            "overflow_x": null,
            "overflow_y": null,
            "padding": null,
            "right": null,
            "top": null,
            "visibility": null,
            "width": null
          }
        },
        "803f52fe611c470c8a3eecbf0a91e1f3": {
          "model_module": "@jupyter-widgets/base",
          "model_name": "LayoutModel",
          "model_module_version": "1.2.0",
          "state": {
            "_model_module": "@jupyter-widgets/base",
            "_model_module_version": "1.2.0",
            "_model_name": "LayoutModel",
            "_view_count": null,
            "_view_module": "@jupyter-widgets/base",
            "_view_module_version": "1.2.0",
            "_view_name": "LayoutView",
            "align_content": null,
            "align_items": null,
            "align_self": null,
            "border": null,
            "bottom": null,
            "display": null,
            "flex": null,
            "flex_flow": null,
            "grid_area": null,
            "grid_auto_columns": null,
            "grid_auto_flow": null,
            "grid_auto_rows": null,
            "grid_column": null,
            "grid_gap": null,
            "grid_row": null,
            "grid_template_areas": null,
            "grid_template_columns": null,
            "grid_template_rows": null,
            "height": null,
            "justify_content": null,
            "justify_items": null,
            "left": null,
            "margin": null,
            "max_height": null,
            "max_width": null,
            "min_height": null,
            "min_width": null,
            "object_fit": null,
            "object_position": null,
            "order": null,
            "overflow": null,
            "overflow_x": null,
            "overflow_y": null,
            "padding": null,
            "right": null,
            "top": null,
            "visibility": null,
            "width": null
          }
        },
        "5998f6960a834c5aa7bb83d1c7325a86": {
          "model_module": "@jupyter-widgets/controls",
          "model_name": "DescriptionStyleModel",
          "model_module_version": "1.5.0",
          "state": {
            "_model_module": "@jupyter-widgets/controls",
            "_model_module_version": "1.5.0",
            "_model_name": "DescriptionStyleModel",
            "_view_count": null,
            "_view_module": "@jupyter-widgets/base",
            "_view_module_version": "1.2.0",
            "_view_name": "StyleView",
            "description_width": ""
          }
        },
        "4b99c0f59f854aafb0bd58eadc35dedb": {
          "model_module": "@jupyter-widgets/base",
          "model_name": "LayoutModel",
          "model_module_version": "1.2.0",
          "state": {
            "_model_module": "@jupyter-widgets/base",
            "_model_module_version": "1.2.0",
            "_model_name": "LayoutModel",
            "_view_count": null,
            "_view_module": "@jupyter-widgets/base",
            "_view_module_version": "1.2.0",
            "_view_name": "LayoutView",
            "align_content": null,
            "align_items": null,
            "align_self": null,
            "border": null,
            "bottom": null,
            "display": null,
            "flex": null,
            "flex_flow": null,
            "grid_area": null,
            "grid_auto_columns": null,
            "grid_auto_flow": null,
            "grid_auto_rows": null,
            "grid_column": null,
            "grid_gap": null,
            "grid_row": null,
            "grid_template_areas": null,
            "grid_template_columns": null,
            "grid_template_rows": null,
            "height": null,
            "justify_content": null,
            "justify_items": null,
            "left": null,
            "margin": null,
            "max_height": null,
            "max_width": null,
            "min_height": null,
            "min_width": null,
            "object_fit": null,
            "object_position": null,
            "order": null,
            "overflow": null,
            "overflow_x": null,
            "overflow_y": null,
            "padding": null,
            "right": null,
            "top": null,
            "visibility": null,
            "width": null
          }
        },
        "36fc20099f5b48038d4c6d081b4ebbd3": {
          "model_module": "@jupyter-widgets/controls",
          "model_name": "ProgressStyleModel",
          "model_module_version": "1.5.0",
          "state": {
            "_model_module": "@jupyter-widgets/controls",
            "_model_module_version": "1.5.0",
            "_model_name": "ProgressStyleModel",
            "_view_count": null,
            "_view_module": "@jupyter-widgets/base",
            "_view_module_version": "1.2.0",
            "_view_name": "StyleView",
            "bar_color": null,
            "description_width": ""
          }
        },
        "a9030c9756234c0381bd068fb667170b": {
          "model_module": "@jupyter-widgets/base",
          "model_name": "LayoutModel",
          "model_module_version": "1.2.0",
          "state": {
            "_model_module": "@jupyter-widgets/base",
            "_model_module_version": "1.2.0",
            "_model_name": "LayoutModel",
            "_view_count": null,
            "_view_module": "@jupyter-widgets/base",
            "_view_module_version": "1.2.0",
            "_view_name": "LayoutView",
            "align_content": null,
            "align_items": null,
            "align_self": null,
            "border": null,
            "bottom": null,
            "display": null,
            "flex": null,
            "flex_flow": null,
            "grid_area": null,
            "grid_auto_columns": null,
            "grid_auto_flow": null,
            "grid_auto_rows": null,
            "grid_column": null,
            "grid_gap": null,
            "grid_row": null,
            "grid_template_areas": null,
            "grid_template_columns": null,
            "grid_template_rows": null,
            "height": null,
            "justify_content": null,
            "justify_items": null,
            "left": null,
            "margin": null,
            "max_height": null,
            "max_width": null,
            "min_height": null,
            "min_width": null,
            "object_fit": null,
            "object_position": null,
            "order": null,
            "overflow": null,
            "overflow_x": null,
            "overflow_y": null,
            "padding": null,
            "right": null,
            "top": null,
            "visibility": null,
            "width": null
          }
        },
        "9c471f91eef54336ab35facedf6dca46": {
          "model_module": "@jupyter-widgets/controls",
          "model_name": "DescriptionStyleModel",
          "model_module_version": "1.5.0",
          "state": {
            "_model_module": "@jupyter-widgets/controls",
            "_model_module_version": "1.5.0",
            "_model_name": "DescriptionStyleModel",
            "_view_count": null,
            "_view_module": "@jupyter-widgets/base",
            "_view_module_version": "1.2.0",
            "_view_name": "StyleView",
            "description_width": ""
          }
        },
        "6abbf547aea04214ae66682e34ad45f6": {
          "model_module": "@jupyter-widgets/controls",
          "model_name": "HBoxModel",
          "model_module_version": "1.5.0",
          "state": {
            "_dom_classes": [],
            "_model_module": "@jupyter-widgets/controls",
            "_model_module_version": "1.5.0",
            "_model_name": "HBoxModel",
            "_view_count": null,
            "_view_module": "@jupyter-widgets/controls",
            "_view_module_version": "1.5.0",
            "_view_name": "HBoxView",
            "box_style": "",
            "children": [
              "IPY_MODEL_4a40da31e12e40bfb3abe2afb14b9754",
              "IPY_MODEL_339ce383a011419a8acd0504e8a52f9b",
              "IPY_MODEL_479ace7ad006468bb52e1a69b498c61f"
            ],
            "layout": "IPY_MODEL_1b7ae688ce5347d9923158e8707727f7"
          }
        },
        "4a40da31e12e40bfb3abe2afb14b9754": {
          "model_module": "@jupyter-widgets/controls",
          "model_name": "HTMLModel",
          "model_module_version": "1.5.0",
          "state": {
            "_dom_classes": [],
            "_model_module": "@jupyter-widgets/controls",
            "_model_module_version": "1.5.0",
            "_model_name": "HTMLModel",
            "_view_count": null,
            "_view_module": "@jupyter-widgets/controls",
            "_view_module_version": "1.5.0",
            "_view_name": "HTMLView",
            "description": "",
            "description_tooltip": null,
            "layout": "IPY_MODEL_67bf6750e3d847ffa79fdd438bae158a",
            "placeholder": "​",
            "style": "IPY_MODEL_bf15d5e8a6084500a8187c951615f1e9",
            "value": "Downloading builder script: 100%"
          }
        },
        "339ce383a011419a8acd0504e8a52f9b": {
          "model_module": "@jupyter-widgets/controls",
          "model_name": "FloatProgressModel",
          "model_module_version": "1.5.0",
          "state": {
            "_dom_classes": [],
            "_model_module": "@jupyter-widgets/controls",
            "_model_module_version": "1.5.0",
            "_model_name": "FloatProgressModel",
            "_view_count": null,
            "_view_module": "@jupyter-widgets/controls",
            "_view_module_version": "1.5.0",
            "_view_name": "ProgressView",
            "bar_style": "success",
            "description": "",
            "description_tooltip": null,
            "layout": "IPY_MODEL_e57bd19b950e43c1ab314bd0e10b81de",
            "max": 5937,
            "min": 0,
            "orientation": "horizontal",
            "style": "IPY_MODEL_6138c7e3aa374f2eb26343e6e74197e3",
            "value": 5937
          }
        },
        "479ace7ad006468bb52e1a69b498c61f": {
          "model_module": "@jupyter-widgets/controls",
          "model_name": "HTMLModel",
          "model_module_version": "1.5.0",
          "state": {
            "_dom_classes": [],
            "_model_module": "@jupyter-widgets/controls",
            "_model_module_version": "1.5.0",
            "_model_name": "HTMLModel",
            "_view_count": null,
            "_view_module": "@jupyter-widgets/controls",
            "_view_module_version": "1.5.0",
            "_view_name": "HTMLView",
            "description": "",
            "description_tooltip": null,
            "layout": "IPY_MODEL_2326c08d8506471ea09b13a60b0d82c8",
            "placeholder": "​",
            "style": "IPY_MODEL_5b27ed86d21f43f9882e90d78a316cad",
            "value": " 5.94k/5.94k [00:00&lt;00:00, 81.1kB/s]"
          }
        },
        "1b7ae688ce5347d9923158e8707727f7": {
          "model_module": "@jupyter-widgets/base",
          "model_name": "LayoutModel",
          "model_module_version": "1.2.0",
          "state": {
            "_model_module": "@jupyter-widgets/base",
            "_model_module_version": "1.2.0",
            "_model_name": "LayoutModel",
            "_view_count": null,
            "_view_module": "@jupyter-widgets/base",
            "_view_module_version": "1.2.0",
            "_view_name": "LayoutView",
            "align_content": null,
            "align_items": null,
            "align_self": null,
            "border": null,
            "bottom": null,
            "display": null,
            "flex": null,
            "flex_flow": null,
            "grid_area": null,
            "grid_auto_columns": null,
            "grid_auto_flow": null,
            "grid_auto_rows": null,
            "grid_column": null,
            "grid_gap": null,
            "grid_row": null,
            "grid_template_areas": null,
            "grid_template_columns": null,
            "grid_template_rows": null,
            "height": null,
            "justify_content": null,
            "justify_items": null,
            "left": null,
            "margin": null,
            "max_height": null,
            "max_width": null,
            "min_height": null,
            "min_width": null,
            "object_fit": null,
            "object_position": null,
            "order": null,
            "overflow": null,
            "overflow_x": null,
            "overflow_y": null,
            "padding": null,
            "right": null,
            "top": null,
            "visibility": null,
            "width": null
          }
        },
        "67bf6750e3d847ffa79fdd438bae158a": {
          "model_module": "@jupyter-widgets/base",
          "model_name": "LayoutModel",
          "model_module_version": "1.2.0",
          "state": {
            "_model_module": "@jupyter-widgets/base",
            "_model_module_version": "1.2.0",
            "_model_name": "LayoutModel",
            "_view_count": null,
            "_view_module": "@jupyter-widgets/base",
            "_view_module_version": "1.2.0",
            "_view_name": "LayoutView",
            "align_content": null,
            "align_items": null,
            "align_self": null,
            "border": null,
            "bottom": null,
            "display": null,
            "flex": null,
            "flex_flow": null,
            "grid_area": null,
            "grid_auto_columns": null,
            "grid_auto_flow": null,
            "grid_auto_rows": null,
            "grid_column": null,
            "grid_gap": null,
            "grid_row": null,
            "grid_template_areas": null,
            "grid_template_columns": null,
            "grid_template_rows": null,
            "height": null,
            "justify_content": null,
            "justify_items": null,
            "left": null,
            "margin": null,
            "max_height": null,
            "max_width": null,
            "min_height": null,
            "min_width": null,
            "object_fit": null,
            "object_position": null,
            "order": null,
            "overflow": null,
            "overflow_x": null,
            "overflow_y": null,
            "padding": null,
            "right": null,
            "top": null,
            "visibility": null,
            "width": null
          }
        },
        "bf15d5e8a6084500a8187c951615f1e9": {
          "model_module": "@jupyter-widgets/controls",
          "model_name": "DescriptionStyleModel",
          "model_module_version": "1.5.0",
          "state": {
            "_model_module": "@jupyter-widgets/controls",
            "_model_module_version": "1.5.0",
            "_model_name": "DescriptionStyleModel",
            "_view_count": null,
            "_view_module": "@jupyter-widgets/base",
            "_view_module_version": "1.2.0",
            "_view_name": "StyleView",
            "description_width": ""
          }
        },
        "e57bd19b950e43c1ab314bd0e10b81de": {
          "model_module": "@jupyter-widgets/base",
          "model_name": "LayoutModel",
          "model_module_version": "1.2.0",
          "state": {
            "_model_module": "@jupyter-widgets/base",
            "_model_module_version": "1.2.0",
            "_model_name": "LayoutModel",
            "_view_count": null,
            "_view_module": "@jupyter-widgets/base",
            "_view_module_version": "1.2.0",
            "_view_name": "LayoutView",
            "align_content": null,
            "align_items": null,
            "align_self": null,
            "border": null,
            "bottom": null,
            "display": null,
            "flex": null,
            "flex_flow": null,
            "grid_area": null,
            "grid_auto_columns": null,
            "grid_auto_flow": null,
            "grid_auto_rows": null,
            "grid_column": null,
            "grid_gap": null,
            "grid_row": null,
            "grid_template_areas": null,
            "grid_template_columns": null,
            "grid_template_rows": null,
            "height": null,
            "justify_content": null,
            "justify_items": null,
            "left": null,
            "margin": null,
            "max_height": null,
            "max_width": null,
            "min_height": null,
            "min_width": null,
            "object_fit": null,
            "object_position": null,
            "order": null,
            "overflow": null,
            "overflow_x": null,
            "overflow_y": null,
            "padding": null,
            "right": null,
            "top": null,
            "visibility": null,
            "width": null
          }
        },
        "6138c7e3aa374f2eb26343e6e74197e3": {
          "model_module": "@jupyter-widgets/controls",
          "model_name": "ProgressStyleModel",
          "model_module_version": "1.5.0",
          "state": {
            "_model_module": "@jupyter-widgets/controls",
            "_model_module_version": "1.5.0",
            "_model_name": "ProgressStyleModel",
            "_view_count": null,
            "_view_module": "@jupyter-widgets/base",
            "_view_module_version": "1.2.0",
            "_view_name": "StyleView",
            "bar_color": null,
            "description_width": ""
          }
        },
        "2326c08d8506471ea09b13a60b0d82c8": {
          "model_module": "@jupyter-widgets/base",
          "model_name": "LayoutModel",
          "model_module_version": "1.2.0",
          "state": {
            "_model_module": "@jupyter-widgets/base",
            "_model_module_version": "1.2.0",
            "_model_name": "LayoutModel",
            "_view_count": null,
            "_view_module": "@jupyter-widgets/base",
            "_view_module_version": "1.2.0",
            "_view_name": "LayoutView",
            "align_content": null,
            "align_items": null,
            "align_self": null,
            "border": null,
            "bottom": null,
            "display": null,
            "flex": null,
            "flex_flow": null,
            "grid_area": null,
            "grid_auto_columns": null,
            "grid_auto_flow": null,
            "grid_auto_rows": null,
            "grid_column": null,
            "grid_gap": null,
            "grid_row": null,
            "grid_template_areas": null,
            "grid_template_columns": null,
            "grid_template_rows": null,
            "height": null,
            "justify_content": null,
            "justify_items": null,
            "left": null,
            "margin": null,
            "max_height": null,
            "max_width": null,
            "min_height": null,
            "min_width": null,
            "object_fit": null,
            "object_position": null,
            "order": null,
            "overflow": null,
            "overflow_x": null,
            "overflow_y": null,
            "padding": null,
            "right": null,
            "top": null,
            "visibility": null,
            "width": null
          }
        },
        "5b27ed86d21f43f9882e90d78a316cad": {
          "model_module": "@jupyter-widgets/controls",
          "model_name": "DescriptionStyleModel",
          "model_module_version": "1.5.0",
          "state": {
            "_model_module": "@jupyter-widgets/controls",
            "_model_module_version": "1.5.0",
            "_model_name": "DescriptionStyleModel",
            "_view_count": null,
            "_view_module": "@jupyter-widgets/base",
            "_view_module_version": "1.2.0",
            "_view_name": "StyleView",
            "description_width": ""
          }
        },
        "e0c3497aafa346fcb7366b9bf2546947": {
          "model_module": "@jupyter-widgets/controls",
          "model_name": "HBoxModel",
          "model_module_version": "1.5.0",
          "state": {
            "_dom_classes": [],
            "_model_module": "@jupyter-widgets/controls",
            "_model_module_version": "1.5.0",
            "_model_name": "HBoxModel",
            "_view_count": null,
            "_view_module": "@jupyter-widgets/controls",
            "_view_module_version": "1.5.0",
            "_view_name": "HBoxView",
            "box_style": "",
            "children": [
              "IPY_MODEL_e59cc6cadc37493182062b2dc02dcc95",
              "IPY_MODEL_4a15659f9ea44222be5363ebd4f60b8b",
              "IPY_MODEL_073b2418554d4bd689e2955a69459ea2"
            ],
            "layout": "IPY_MODEL_ed920c1b869a48d7b1b3c6abd400a9ff"
          }
        },
        "e59cc6cadc37493182062b2dc02dcc95": {
          "model_module": "@jupyter-widgets/controls",
          "model_name": "HTMLModel",
          "model_module_version": "1.5.0",
          "state": {
            "_dom_classes": [],
            "_model_module": "@jupyter-widgets/controls",
            "_model_module_version": "1.5.0",
            "_model_name": "HTMLModel",
            "_view_count": null,
            "_view_module": "@jupyter-widgets/controls",
            "_view_module_version": "1.5.0",
            "_view_name": "HTMLView",
            "description": "",
            "description_tooltip": null,
            "layout": "IPY_MODEL_695c347f6b9a408e9754a1339324f372",
            "placeholder": "​",
            "style": "IPY_MODEL_dd2de1ebfffd46e283d33ad7ea4eceac",
            "value": "Downloading extra modules: "
          }
        },
        "4a15659f9ea44222be5363ebd4f60b8b": {
          "model_module": "@jupyter-widgets/controls",
          "model_name": "FloatProgressModel",
          "model_module_version": "1.5.0",
          "state": {
            "_dom_classes": [],
            "_model_module": "@jupyter-widgets/controls",
            "_model_module_version": "1.5.0",
            "_model_name": "FloatProgressModel",
            "_view_count": null,
            "_view_module": "@jupyter-widgets/controls",
            "_view_module_version": "1.5.0",
            "_view_name": "ProgressView",
            "bar_style": "success",
            "description": "",
            "description_tooltip": null,
            "layout": "IPY_MODEL_b31b86906f5a403897796ed7636ed812",
            "max": 1554,
            "min": 0,
            "orientation": "horizontal",
            "style": "IPY_MODEL_152752602fc5489a9423286f9489f622",
            "value": 1554
          }
        },
        "073b2418554d4bd689e2955a69459ea2": {
          "model_module": "@jupyter-widgets/controls",
          "model_name": "HTMLModel",
          "model_module_version": "1.5.0",
          "state": {
            "_dom_classes": [],
            "_model_module": "@jupyter-widgets/controls",
            "_model_module_version": "1.5.0",
            "_model_name": "HTMLModel",
            "_view_count": null,
            "_view_module": "@jupyter-widgets/controls",
            "_view_module_version": "1.5.0",
            "_view_name": "HTMLView",
            "description": "",
            "description_tooltip": null,
            "layout": "IPY_MODEL_4bc02794c0694d9c9be0cd26b5f420ed",
            "placeholder": "​",
            "style": "IPY_MODEL_d0018f014ece48e3a36d59328a08f00e",
            "value": " 4.07k/? [00:00&lt;00:00, 93.0kB/s]"
          }
        },
        "ed920c1b869a48d7b1b3c6abd400a9ff": {
          "model_module": "@jupyter-widgets/base",
          "model_name": "LayoutModel",
          "model_module_version": "1.2.0",
          "state": {
            "_model_module": "@jupyter-widgets/base",
            "_model_module_version": "1.2.0",
            "_model_name": "LayoutModel",
            "_view_count": null,
            "_view_module": "@jupyter-widgets/base",
            "_view_module_version": "1.2.0",
            "_view_name": "LayoutView",
            "align_content": null,
            "align_items": null,
            "align_self": null,
            "border": null,
            "bottom": null,
            "display": null,
            "flex": null,
            "flex_flow": null,
            "grid_area": null,
            "grid_auto_columns": null,
            "grid_auto_flow": null,
            "grid_auto_rows": null,
            "grid_column": null,
            "grid_gap": null,
            "grid_row": null,
            "grid_template_areas": null,
            "grid_template_columns": null,
            "grid_template_rows": null,
            "height": null,
            "justify_content": null,
            "justify_items": null,
            "left": null,
            "margin": null,
            "max_height": null,
            "max_width": null,
            "min_height": null,
            "min_width": null,
            "object_fit": null,
            "object_position": null,
            "order": null,
            "overflow": null,
            "overflow_x": null,
            "overflow_y": null,
            "padding": null,
            "right": null,
            "top": null,
            "visibility": null,
            "width": null
          }
        },
        "695c347f6b9a408e9754a1339324f372": {
          "model_module": "@jupyter-widgets/base",
          "model_name": "LayoutModel",
          "model_module_version": "1.2.0",
          "state": {
            "_model_module": "@jupyter-widgets/base",
            "_model_module_version": "1.2.0",
            "_model_name": "LayoutModel",
            "_view_count": null,
            "_view_module": "@jupyter-widgets/base",
            "_view_module_version": "1.2.0",
            "_view_name": "LayoutView",
            "align_content": null,
            "align_items": null,
            "align_self": null,
            "border": null,
            "bottom": null,
            "display": null,
            "flex": null,
            "flex_flow": null,
            "grid_area": null,
            "grid_auto_columns": null,
            "grid_auto_flow": null,
            "grid_auto_rows": null,
            "grid_column": null,
            "grid_gap": null,
            "grid_row": null,
            "grid_template_areas": null,
            "grid_template_columns": null,
            "grid_template_rows": null,
            "height": null,
            "justify_content": null,
            "justify_items": null,
            "left": null,
            "margin": null,
            "max_height": null,
            "max_width": null,
            "min_height": null,
            "min_width": null,
            "object_fit": null,
            "object_position": null,
            "order": null,
            "overflow": null,
            "overflow_x": null,
            "overflow_y": null,
            "padding": null,
            "right": null,
            "top": null,
            "visibility": null,
            "width": null
          }
        },
        "dd2de1ebfffd46e283d33ad7ea4eceac": {
          "model_module": "@jupyter-widgets/controls",
          "model_name": "DescriptionStyleModel",
          "model_module_version": "1.5.0",
          "state": {
            "_model_module": "@jupyter-widgets/controls",
            "_model_module_version": "1.5.0",
            "_model_name": "DescriptionStyleModel",
            "_view_count": null,
            "_view_module": "@jupyter-widgets/base",
            "_view_module_version": "1.2.0",
            "_view_name": "StyleView",
            "description_width": ""
          }
        },
        "b31b86906f5a403897796ed7636ed812": {
          "model_module": "@jupyter-widgets/base",
          "model_name": "LayoutModel",
          "model_module_version": "1.2.0",
          "state": {
            "_model_module": "@jupyter-widgets/base",
            "_model_module_version": "1.2.0",
            "_model_name": "LayoutModel",
            "_view_count": null,
            "_view_module": "@jupyter-widgets/base",
            "_view_module_version": "1.2.0",
            "_view_name": "LayoutView",
            "align_content": null,
            "align_items": null,
            "align_self": null,
            "border": null,
            "bottom": null,
            "display": null,
            "flex": null,
            "flex_flow": null,
            "grid_area": null,
            "grid_auto_columns": null,
            "grid_auto_flow": null,
            "grid_auto_rows": null,
            "grid_column": null,
            "grid_gap": null,
            "grid_row": null,
            "grid_template_areas": null,
            "grid_template_columns": null,
            "grid_template_rows": null,
            "height": null,
            "justify_content": null,
            "justify_items": null,
            "left": null,
            "margin": null,
            "max_height": null,
            "max_width": null,
            "min_height": null,
            "min_width": null,
            "object_fit": null,
            "object_position": null,
            "order": null,
            "overflow": null,
            "overflow_x": null,
            "overflow_y": null,
            "padding": null,
            "right": null,
            "top": null,
            "visibility": null,
            "width": null
          }
        },
        "152752602fc5489a9423286f9489f622": {
          "model_module": "@jupyter-widgets/controls",
          "model_name": "ProgressStyleModel",
          "model_module_version": "1.5.0",
          "state": {
            "_model_module": "@jupyter-widgets/controls",
            "_model_module_version": "1.5.0",
            "_model_name": "ProgressStyleModel",
            "_view_count": null,
            "_view_module": "@jupyter-widgets/base",
            "_view_module_version": "1.2.0",
            "_view_name": "StyleView",
            "bar_color": null,
            "description_width": ""
          }
        },
        "4bc02794c0694d9c9be0cd26b5f420ed": {
          "model_module": "@jupyter-widgets/base",
          "model_name": "LayoutModel",
          "model_module_version": "1.2.0",
          "state": {
            "_model_module": "@jupyter-widgets/base",
            "_model_module_version": "1.2.0",
            "_model_name": "LayoutModel",
            "_view_count": null,
            "_view_module": "@jupyter-widgets/base",
            "_view_module_version": "1.2.0",
            "_view_name": "LayoutView",
            "align_content": null,
            "align_items": null,
            "align_self": null,
            "border": null,
            "bottom": null,
            "display": null,
            "flex": null,
            "flex_flow": null,
            "grid_area": null,
            "grid_auto_columns": null,
            "grid_auto_flow": null,
            "grid_auto_rows": null,
            "grid_column": null,
            "grid_gap": null,
            "grid_row": null,
            "grid_template_areas": null,
            "grid_template_columns": null,
            "grid_template_rows": null,
            "height": null,
            "justify_content": null,
            "justify_items": null,
            "left": null,
            "margin": null,
            "max_height": null,
            "max_width": null,
            "min_height": null,
            "min_width": null,
            "object_fit": null,
            "object_position": null,
            "order": null,
            "overflow": null,
            "overflow_x": null,
            "overflow_y": null,
            "padding": null,
            "right": null,
            "top": null,
            "visibility": null,
            "width": null
          }
        },
        "d0018f014ece48e3a36d59328a08f00e": {
          "model_module": "@jupyter-widgets/controls",
          "model_name": "DescriptionStyleModel",
          "model_module_version": "1.5.0",
          "state": {
            "_model_module": "@jupyter-widgets/controls",
            "_model_module_version": "1.5.0",
            "_model_name": "DescriptionStyleModel",
            "_view_count": null,
            "_view_module": "@jupyter-widgets/base",
            "_view_module_version": "1.2.0",
            "_view_name": "StyleView",
            "description_width": ""
          }
        },
        "da4ef0909f7a44138a4aa0e2378df45f": {
          "model_module": "@jupyter-widgets/controls",
          "model_name": "HBoxModel",
          "model_module_version": "1.5.0",
          "state": {
            "_dom_classes": [],
            "_model_module": "@jupyter-widgets/controls",
            "_model_module_version": "1.5.0",
            "_model_name": "HBoxModel",
            "_view_count": null,
            "_view_module": "@jupyter-widgets/controls",
            "_view_module_version": "1.5.0",
            "_view_name": "HBoxView",
            "box_style": "",
            "children": [
              "IPY_MODEL_78bbd1febfda42c483dc3d214dd09fc7",
              "IPY_MODEL_0848e7d6438a483c96673206d8dfaf8c",
              "IPY_MODEL_f8ace7a0bb454b3c8fe6eb93895f699b"
            ],
            "layout": "IPY_MODEL_7cf880995d4f41ea9cc7a98e80c9e652"
          }
        },
        "78bbd1febfda42c483dc3d214dd09fc7": {
          "model_module": "@jupyter-widgets/controls",
          "model_name": "HTMLModel",
          "model_module_version": "1.5.0",
          "state": {
            "_dom_classes": [],
            "_model_module": "@jupyter-widgets/controls",
            "_model_module_version": "1.5.0",
            "_model_name": "HTMLModel",
            "_view_count": null,
            "_view_module": "@jupyter-widgets/controls",
            "_view_module_version": "1.5.0",
            "_view_name": "HTMLView",
            "description": "",
            "description_tooltip": null,
            "layout": "IPY_MODEL_4abfaa781f544452b3428c3cf2989a01",
            "placeholder": "​",
            "style": "IPY_MODEL_f5ebb53324f74d5f89584501a3925003",
            "value": "Downloading extra modules: 100%"
          }
        },
        "0848e7d6438a483c96673206d8dfaf8c": {
          "model_module": "@jupyter-widgets/controls",
          "model_name": "FloatProgressModel",
          "model_module_version": "1.5.0",
          "state": {
            "_dom_classes": [],
            "_model_module": "@jupyter-widgets/controls",
            "_model_module_version": "1.5.0",
            "_model_name": "FloatProgressModel",
            "_view_count": null,
            "_view_module": "@jupyter-widgets/controls",
            "_view_module_version": "1.5.0",
            "_view_name": "ProgressView",
            "bar_style": "success",
            "description": "",
            "description_tooltip": null,
            "layout": "IPY_MODEL_00fa8074713f4018b1b09749a1479b7a",
            "max": 3344,
            "min": 0,
            "orientation": "horizontal",
            "style": "IPY_MODEL_097622842b4240818241baa84ff70428",
            "value": 3344
          }
        },
        "f8ace7a0bb454b3c8fe6eb93895f699b": {
          "model_module": "@jupyter-widgets/controls",
          "model_name": "HTMLModel",
          "model_module_version": "1.5.0",
          "state": {
            "_dom_classes": [],
            "_model_module": "@jupyter-widgets/controls",
            "_model_module_version": "1.5.0",
            "_model_name": "HTMLModel",
            "_view_count": null,
            "_view_module": "@jupyter-widgets/controls",
            "_view_module_version": "1.5.0",
            "_view_name": "HTMLView",
            "description": "",
            "description_tooltip": null,
            "layout": "IPY_MODEL_7187d6194e09453382d370c6d6e1036f",
            "placeholder": "​",
            "style": "IPY_MODEL_0fc612f562a1477eb461da13ab035395",
            "value": " 3.34k/3.34k [00:00&lt;00:00, 64.1kB/s]"
          }
        },
        "7cf880995d4f41ea9cc7a98e80c9e652": {
          "model_module": "@jupyter-widgets/base",
          "model_name": "LayoutModel",
          "model_module_version": "1.2.0",
          "state": {
            "_model_module": "@jupyter-widgets/base",
            "_model_module_version": "1.2.0",
            "_model_name": "LayoutModel",
            "_view_count": null,
            "_view_module": "@jupyter-widgets/base",
            "_view_module_version": "1.2.0",
            "_view_name": "LayoutView",
            "align_content": null,
            "align_items": null,
            "align_self": null,
            "border": null,
            "bottom": null,
            "display": null,
            "flex": null,
            "flex_flow": null,
            "grid_area": null,
            "grid_auto_columns": null,
            "grid_auto_flow": null,
            "grid_auto_rows": null,
            "grid_column": null,
            "grid_gap": null,
            "grid_row": null,
            "grid_template_areas": null,
            "grid_template_columns": null,
            "grid_template_rows": null,
            "height": null,
            "justify_content": null,
            "justify_items": null,
            "left": null,
            "margin": null,
            "max_height": null,
            "max_width": null,
            "min_height": null,
            "min_width": null,
            "object_fit": null,
            "object_position": null,
            "order": null,
            "overflow": null,
            "overflow_x": null,
            "overflow_y": null,
            "padding": null,
            "right": null,
            "top": null,
            "visibility": null,
            "width": null
          }
        },
        "4abfaa781f544452b3428c3cf2989a01": {
          "model_module": "@jupyter-widgets/base",
          "model_name": "LayoutModel",
          "model_module_version": "1.2.0",
          "state": {
            "_model_module": "@jupyter-widgets/base",
            "_model_module_version": "1.2.0",
            "_model_name": "LayoutModel",
            "_view_count": null,
            "_view_module": "@jupyter-widgets/base",
            "_view_module_version": "1.2.0",
            "_view_name": "LayoutView",
            "align_content": null,
            "align_items": null,
            "align_self": null,
            "border": null,
            "bottom": null,
            "display": null,
            "flex": null,
            "flex_flow": null,
            "grid_area": null,
            "grid_auto_columns": null,
            "grid_auto_flow": null,
            "grid_auto_rows": null,
            "grid_column": null,
            "grid_gap": null,
            "grid_row": null,
            "grid_template_areas": null,
            "grid_template_columns": null,
            "grid_template_rows": null,
            "height": null,
            "justify_content": null,
            "justify_items": null,
            "left": null,
            "margin": null,
            "max_height": null,
            "max_width": null,
            "min_height": null,
            "min_width": null,
            "object_fit": null,
            "object_position": null,
            "order": null,
            "overflow": null,
            "overflow_x": null,
            "overflow_y": null,
            "padding": null,
            "right": null,
            "top": null,
            "visibility": null,
            "width": null
          }
        },
        "f5ebb53324f74d5f89584501a3925003": {
          "model_module": "@jupyter-widgets/controls",
          "model_name": "DescriptionStyleModel",
          "model_module_version": "1.5.0",
          "state": {
            "_model_module": "@jupyter-widgets/controls",
            "_model_module_version": "1.5.0",
            "_model_name": "DescriptionStyleModel",
            "_view_count": null,
            "_view_module": "@jupyter-widgets/base",
            "_view_module_version": "1.2.0",
            "_view_name": "StyleView",
            "description_width": ""
          }
        },
        "00fa8074713f4018b1b09749a1479b7a": {
          "model_module": "@jupyter-widgets/base",
          "model_name": "LayoutModel",
          "model_module_version": "1.2.0",
          "state": {
            "_model_module": "@jupyter-widgets/base",
            "_model_module_version": "1.2.0",
            "_model_name": "LayoutModel",
            "_view_count": null,
            "_view_module": "@jupyter-widgets/base",
            "_view_module_version": "1.2.0",
            "_view_name": "LayoutView",
            "align_content": null,
            "align_items": null,
            "align_self": null,
            "border": null,
            "bottom": null,
            "display": null,
            "flex": null,
            "flex_flow": null,
            "grid_area": null,
            "grid_auto_columns": null,
            "grid_auto_flow": null,
            "grid_auto_rows": null,
            "grid_column": null,
            "grid_gap": null,
            "grid_row": null,
            "grid_template_areas": null,
            "grid_template_columns": null,
            "grid_template_rows": null,
            "height": null,
            "justify_content": null,
            "justify_items": null,
            "left": null,
            "margin": null,
            "max_height": null,
            "max_width": null,
            "min_height": null,
            "min_width": null,
            "object_fit": null,
            "object_position": null,
            "order": null,
            "overflow": null,
            "overflow_x": null,
            "overflow_y": null,
            "padding": null,
            "right": null,
            "top": null,
            "visibility": null,
            "width": null
          }
        },
        "097622842b4240818241baa84ff70428": {
          "model_module": "@jupyter-widgets/controls",
          "model_name": "ProgressStyleModel",
          "model_module_version": "1.5.0",
          "state": {
            "_model_module": "@jupyter-widgets/controls",
            "_model_module_version": "1.5.0",
            "_model_name": "ProgressStyleModel",
            "_view_count": null,
            "_view_module": "@jupyter-widgets/base",
            "_view_module_version": "1.2.0",
            "_view_name": "StyleView",
            "bar_color": null,
            "description_width": ""
          }
        },
        "7187d6194e09453382d370c6d6e1036f": {
          "model_module": "@jupyter-widgets/base",
          "model_name": "LayoutModel",
          "model_module_version": "1.2.0",
          "state": {
            "_model_module": "@jupyter-widgets/base",
            "_model_module_version": "1.2.0",
            "_model_name": "LayoutModel",
            "_view_count": null,
            "_view_module": "@jupyter-widgets/base",
            "_view_module_version": "1.2.0",
            "_view_name": "LayoutView",
            "align_content": null,
            "align_items": null,
            "align_self": null,
            "border": null,
            "bottom": null,
            "display": null,
            "flex": null,
            "flex_flow": null,
            "grid_area": null,
            "grid_auto_columns": null,
            "grid_auto_flow": null,
            "grid_auto_rows": null,
            "grid_column": null,
            "grid_gap": null,
            "grid_row": null,
            "grid_template_areas": null,
            "grid_template_columns": null,
            "grid_template_rows": null,
            "height": null,
            "justify_content": null,
            "justify_items": null,
            "left": null,
            "margin": null,
            "max_height": null,
            "max_width": null,
            "min_height": null,
            "min_width": null,
            "object_fit": null,
            "object_position": null,
            "order": null,
            "overflow": null,
            "overflow_x": null,
            "overflow_y": null,
            "padding": null,
            "right": null,
            "top": null,
            "visibility": null,
            "width": null
          }
        },
        "0fc612f562a1477eb461da13ab035395": {
          "model_module": "@jupyter-widgets/controls",
          "model_name": "DescriptionStyleModel",
          "model_module_version": "1.5.0",
          "state": {
            "_model_module": "@jupyter-widgets/controls",
            "_model_module_version": "1.5.0",
            "_model_name": "DescriptionStyleModel",
            "_view_count": null,
            "_view_module": "@jupyter-widgets/base",
            "_view_module_version": "1.2.0",
            "_view_name": "StyleView",
            "description_width": ""
          }
        },
        "bca85bf2be5d457eb141e13f2658feb0": {
          "model_module": "@jupyter-widgets/controls",
          "model_name": "HBoxModel",
          "model_module_version": "1.5.0",
          "state": {
            "_dom_classes": [],
            "_model_module": "@jupyter-widgets/controls",
            "_model_module_version": "1.5.0",
            "_model_name": "HBoxModel",
            "_view_count": null,
            "_view_module": "@jupyter-widgets/controls",
            "_view_module_version": "1.5.0",
            "_view_name": "HBoxView",
            "box_style": "",
            "children": [
              "IPY_MODEL_47cc98f45baf4be1b826b450a2bdc3e7",
              "IPY_MODEL_dc6e691af7b548a3ae59ff16799a100f",
              "IPY_MODEL_d7ca7e3308124d07ac27de34b0475ae1"
            ],
            "layout": "IPY_MODEL_c1a786a734ab47daaa7b79830a4ffeb3"
          }
        },
        "47cc98f45baf4be1b826b450a2bdc3e7": {
          "model_module": "@jupyter-widgets/controls",
          "model_name": "HTMLModel",
          "model_module_version": "1.5.0",
          "state": {
            "_dom_classes": [],
            "_model_module": "@jupyter-widgets/controls",
            "_model_module_version": "1.5.0",
            "_model_name": "HTMLModel",
            "_view_count": null,
            "_view_module": "@jupyter-widgets/controls",
            "_view_module_version": "1.5.0",
            "_view_name": "HTMLView",
            "description": "",
            "description_tooltip": null,
            "layout": "IPY_MODEL_8b2c674f4de545bdadcdb510dea15331",
            "placeholder": "​",
            "style": "IPY_MODEL_64d4959899a4457f9ec629cc99e85480",
            "value": "Downloading builder script: 100%"
          }
        },
        "dc6e691af7b548a3ae59ff16799a100f": {
          "model_module": "@jupyter-widgets/controls",
          "model_name": "FloatProgressModel",
          "model_module_version": "1.5.0",
          "state": {
            "_dom_classes": [],
            "_model_module": "@jupyter-widgets/controls",
            "_model_module_version": "1.5.0",
            "_model_name": "FloatProgressModel",
            "_view_count": null,
            "_view_module": "@jupyter-widgets/controls",
            "_view_module_version": "1.5.0",
            "_view_name": "ProgressView",
            "bar_style": "success",
            "description": "",
            "description_tooltip": null,
            "layout": "IPY_MODEL_30f78158e4f94816b4abbbb2154e3a8c",
            "max": 6270,
            "min": 0,
            "orientation": "horizontal",
            "style": "IPY_MODEL_7887dfc26e044baaade495f487d998cc",
            "value": 6270
          }
        },
        "d7ca7e3308124d07ac27de34b0475ae1": {
          "model_module": "@jupyter-widgets/controls",
          "model_name": "HTMLModel",
          "model_module_version": "1.5.0",
          "state": {
            "_dom_classes": [],
            "_model_module": "@jupyter-widgets/controls",
            "_model_module_version": "1.5.0",
            "_model_name": "HTMLModel",
            "_view_count": null,
            "_view_module": "@jupyter-widgets/controls",
            "_view_module_version": "1.5.0",
            "_view_name": "HTMLView",
            "description": "",
            "description_tooltip": null,
            "layout": "IPY_MODEL_e5351a7328c243f48cf86ce668339f2b",
            "placeholder": "​",
            "style": "IPY_MODEL_4166040df89241899c1dfc58dab8c83b",
            "value": " 6.27k/6.27k [00:00&lt;00:00, 120kB/s]"
          }
        },
        "c1a786a734ab47daaa7b79830a4ffeb3": {
          "model_module": "@jupyter-widgets/base",
          "model_name": "LayoutModel",
          "model_module_version": "1.2.0",
          "state": {
            "_model_module": "@jupyter-widgets/base",
            "_model_module_version": "1.2.0",
            "_model_name": "LayoutModel",
            "_view_count": null,
            "_view_module": "@jupyter-widgets/base",
            "_view_module_version": "1.2.0",
            "_view_name": "LayoutView",
            "align_content": null,
            "align_items": null,
            "align_self": null,
            "border": null,
            "bottom": null,
            "display": null,
            "flex": null,
            "flex_flow": null,
            "grid_area": null,
            "grid_auto_columns": null,
            "grid_auto_flow": null,
            "grid_auto_rows": null,
            "grid_column": null,
            "grid_gap": null,
            "grid_row": null,
            "grid_template_areas": null,
            "grid_template_columns": null,
            "grid_template_rows": null,
            "height": null,
            "justify_content": null,
            "justify_items": null,
            "left": null,
            "margin": null,
            "max_height": null,
            "max_width": null,
            "min_height": null,
            "min_width": null,
            "object_fit": null,
            "object_position": null,
            "order": null,
            "overflow": null,
            "overflow_x": null,
            "overflow_y": null,
            "padding": null,
            "right": null,
            "top": null,
            "visibility": null,
            "width": null
          }
        },
        "8b2c674f4de545bdadcdb510dea15331": {
          "model_module": "@jupyter-widgets/base",
          "model_name": "LayoutModel",
          "model_module_version": "1.2.0",
          "state": {
            "_model_module": "@jupyter-widgets/base",
            "_model_module_version": "1.2.0",
            "_model_name": "LayoutModel",
            "_view_count": null,
            "_view_module": "@jupyter-widgets/base",
            "_view_module_version": "1.2.0",
            "_view_name": "LayoutView",
            "align_content": null,
            "align_items": null,
            "align_self": null,
            "border": null,
            "bottom": null,
            "display": null,
            "flex": null,
            "flex_flow": null,
            "grid_area": null,
            "grid_auto_columns": null,
            "grid_auto_flow": null,
            "grid_auto_rows": null,
            "grid_column": null,
            "grid_gap": null,
            "grid_row": null,
            "grid_template_areas": null,
            "grid_template_columns": null,
            "grid_template_rows": null,
            "height": null,
            "justify_content": null,
            "justify_items": null,
            "left": null,
            "margin": null,
            "max_height": null,
            "max_width": null,
            "min_height": null,
            "min_width": null,
            "object_fit": null,
            "object_position": null,
            "order": null,
            "overflow": null,
            "overflow_x": null,
            "overflow_y": null,
            "padding": null,
            "right": null,
            "top": null,
            "visibility": null,
            "width": null
          }
        },
        "64d4959899a4457f9ec629cc99e85480": {
          "model_module": "@jupyter-widgets/controls",
          "model_name": "DescriptionStyleModel",
          "model_module_version": "1.5.0",
          "state": {
            "_model_module": "@jupyter-widgets/controls",
            "_model_module_version": "1.5.0",
            "_model_name": "DescriptionStyleModel",
            "_view_count": null,
            "_view_module": "@jupyter-widgets/base",
            "_view_module_version": "1.2.0",
            "_view_name": "StyleView",
            "description_width": ""
          }
        },
        "30f78158e4f94816b4abbbb2154e3a8c": {
          "model_module": "@jupyter-widgets/base",
          "model_name": "LayoutModel",
          "model_module_version": "1.2.0",
          "state": {
            "_model_module": "@jupyter-widgets/base",
            "_model_module_version": "1.2.0",
            "_model_name": "LayoutModel",
            "_view_count": null,
            "_view_module": "@jupyter-widgets/base",
            "_view_module_version": "1.2.0",
            "_view_name": "LayoutView",
            "align_content": null,
            "align_items": null,
            "align_self": null,
            "border": null,
            "bottom": null,
            "display": null,
            "flex": null,
            "flex_flow": null,
            "grid_area": null,
            "grid_auto_columns": null,
            "grid_auto_flow": null,
            "grid_auto_rows": null,
            "grid_column": null,
            "grid_gap": null,
            "grid_row": null,
            "grid_template_areas": null,
            "grid_template_columns": null,
            "grid_template_rows": null,
            "height": null,
            "justify_content": null,
            "justify_items": null,
            "left": null,
            "margin": null,
            "max_height": null,
            "max_width": null,
            "min_height": null,
            "min_width": null,
            "object_fit": null,
            "object_position": null,
            "order": null,
            "overflow": null,
            "overflow_x": null,
            "overflow_y": null,
            "padding": null,
            "right": null,
            "top": null,
            "visibility": null,
            "width": null
          }
        },
        "7887dfc26e044baaade495f487d998cc": {
          "model_module": "@jupyter-widgets/controls",
          "model_name": "ProgressStyleModel",
          "model_module_version": "1.5.0",
          "state": {
            "_model_module": "@jupyter-widgets/controls",
            "_model_module_version": "1.5.0",
            "_model_name": "ProgressStyleModel",
            "_view_count": null,
            "_view_module": "@jupyter-widgets/base",
            "_view_module_version": "1.2.0",
            "_view_name": "StyleView",
            "bar_color": null,
            "description_width": ""
          }
        },
        "e5351a7328c243f48cf86ce668339f2b": {
          "model_module": "@jupyter-widgets/base",
          "model_name": "LayoutModel",
          "model_module_version": "1.2.0",
          "state": {
            "_model_module": "@jupyter-widgets/base",
            "_model_module_version": "1.2.0",
            "_model_name": "LayoutModel",
            "_view_count": null,
            "_view_module": "@jupyter-widgets/base",
            "_view_module_version": "1.2.0",
            "_view_name": "LayoutView",
            "align_content": null,
            "align_items": null,
            "align_self": null,
            "border": null,
            "bottom": null,
            "display": null,
            "flex": null,
            "flex_flow": null,
            "grid_area": null,
            "grid_auto_columns": null,
            "grid_auto_flow": null,
            "grid_auto_rows": null,
            "grid_column": null,
            "grid_gap": null,
            "grid_row": null,
            "grid_template_areas": null,
            "grid_template_columns": null,
            "grid_template_rows": null,
            "height": null,
            "justify_content": null,
            "justify_items": null,
            "left": null,
            "margin": null,
            "max_height": null,
            "max_width": null,
            "min_height": null,
            "min_width": null,
            "object_fit": null,
            "object_position": null,
            "order": null,
            "overflow": null,
            "overflow_x": null,
            "overflow_y": null,
            "padding": null,
            "right": null,
            "top": null,
            "visibility": null,
            "width": null
          }
        },
        "4166040df89241899c1dfc58dab8c83b": {
          "model_module": "@jupyter-widgets/controls",
          "model_name": "DescriptionStyleModel",
          "model_module_version": "1.5.0",
          "state": {
            "_model_module": "@jupyter-widgets/controls",
            "_model_module_version": "1.5.0",
            "_model_name": "DescriptionStyleModel",
            "_view_count": null,
            "_view_module": "@jupyter-widgets/base",
            "_view_module_version": "1.2.0",
            "_view_name": "StyleView",
            "description_width": ""
          }
        }
      }
    }
  },
  "cells": [
    {
      "cell_type": "markdown",
      "metadata": {
        "id": "view-in-github",
        "colab_type": "text"
      },
      "source": [
        "<a href=\"https://colab.research.google.com/github/fatemafaria142/Automated-Realistic-Story-Generation/blob/main/Story_Generation_using_GPT2_medium.ipynb\" target=\"_parent\"><img src=\"https://colab.research.google.com/assets/colab-badge.svg\" alt=\"Open In Colab\"/></a>"
      ]
    },
    {
      "cell_type": "code",
      "metadata": {
        "id": "8lkWeohye94_",
        "colab": {
          "base_uri": "https://localhost:8080/"
        },
        "outputId": "3622dde4-7535-4c40-dbf4-c579e2eb24c6"
      },
      "source": [
        "from google.colab import drive\n",
        "drive.mount('/content/drive')"
      ],
      "execution_count": 1,
      "outputs": [
        {
          "output_type": "stream",
          "name": "stdout",
          "text": [
            "Drive already mounted at /content/drive; to attempt to forcibly remount, call drive.mount(\"/content/drive\", force_remount=True).\n"
          ]
        }
      ]
    },
    {
      "cell_type": "markdown",
      "source": [
        "### **Dataset Link: https://huggingface.co/datasets/AtlasUnified/atlas-storyteller?row=42**\n"
      ],
      "metadata": {
        "id": "9eLmsrRQe2t6"
      }
    },
    {
      "cell_type": "code",
      "source": [
        "!pip install datasets"
      ],
      "metadata": {
        "colab": {
          "base_uri": "https://localhost:8080/"
        },
        "id": "LcCwf0FNM73j",
        "outputId": "d61b326e-df7c-4a08-f595-74b4d2ec877a"
      },
      "execution_count": 2,
      "outputs": [
        {
          "output_type": "stream",
          "name": "stdout",
          "text": [
            "Requirement already satisfied: datasets in /usr/local/lib/python3.10/dist-packages (2.16.1)\n",
            "Requirement already satisfied: filelock in /usr/local/lib/python3.10/dist-packages (from datasets) (3.13.1)\n",
            "Requirement already satisfied: numpy>=1.17 in /usr/local/lib/python3.10/dist-packages (from datasets) (1.23.5)\n",
            "Requirement already satisfied: pyarrow>=8.0.0 in /usr/local/lib/python3.10/dist-packages (from datasets) (10.0.1)\n",
            "Requirement already satisfied: pyarrow-hotfix in /usr/local/lib/python3.10/dist-packages (from datasets) (0.6)\n",
            "Requirement already satisfied: dill<0.3.8,>=0.3.0 in /usr/local/lib/python3.10/dist-packages (from datasets) (0.3.7)\n",
            "Requirement already satisfied: pandas in /usr/local/lib/python3.10/dist-packages (from datasets) (1.5.3)\n",
            "Requirement already satisfied: requests>=2.19.0 in /usr/local/lib/python3.10/dist-packages (from datasets) (2.31.0)\n",
            "Requirement already satisfied: tqdm>=4.62.1 in /usr/local/lib/python3.10/dist-packages (from datasets) (4.66.1)\n",
            "Requirement already satisfied: xxhash in /usr/local/lib/python3.10/dist-packages (from datasets) (3.4.1)\n",
            "Requirement already satisfied: multiprocess in /usr/local/lib/python3.10/dist-packages (from datasets) (0.70.15)\n",
            "Requirement already satisfied: fsspec[http]<=2023.10.0,>=2023.1.0 in /usr/local/lib/python3.10/dist-packages (from datasets) (2023.6.0)\n",
            "Requirement already satisfied: aiohttp in /usr/local/lib/python3.10/dist-packages (from datasets) (3.9.1)\n",
            "Requirement already satisfied: huggingface-hub>=0.19.4 in /usr/local/lib/python3.10/dist-packages (from datasets) (0.20.1)\n",
            "Requirement already satisfied: packaging in /usr/local/lib/python3.10/dist-packages (from datasets) (23.2)\n",
            "Requirement already satisfied: pyyaml>=5.1 in /usr/local/lib/python3.10/dist-packages (from datasets) (6.0.1)\n",
            "Requirement already satisfied: attrs>=17.3.0 in /usr/local/lib/python3.10/dist-packages (from aiohttp->datasets) (23.2.0)\n",
            "Requirement already satisfied: multidict<7.0,>=4.5 in /usr/local/lib/python3.10/dist-packages (from aiohttp->datasets) (6.0.4)\n",
            "Requirement already satisfied: yarl<2.0,>=1.0 in /usr/local/lib/python3.10/dist-packages (from aiohttp->datasets) (1.9.4)\n",
            "Requirement already satisfied: frozenlist>=1.1.1 in /usr/local/lib/python3.10/dist-packages (from aiohttp->datasets) (1.4.1)\n",
            "Requirement already satisfied: aiosignal>=1.1.2 in /usr/local/lib/python3.10/dist-packages (from aiohttp->datasets) (1.3.1)\n",
            "Requirement already satisfied: async-timeout<5.0,>=4.0 in /usr/local/lib/python3.10/dist-packages (from aiohttp->datasets) (4.0.3)\n",
            "Requirement already satisfied: typing-extensions>=3.7.4.3 in /usr/local/lib/python3.10/dist-packages (from huggingface-hub>=0.19.4->datasets) (4.5.0)\n",
            "Requirement already satisfied: charset-normalizer<4,>=2 in /usr/local/lib/python3.10/dist-packages (from requests>=2.19.0->datasets) (3.3.2)\n",
            "Requirement already satisfied: idna<4,>=2.5 in /usr/local/lib/python3.10/dist-packages (from requests>=2.19.0->datasets) (3.6)\n",
            "Requirement already satisfied: urllib3<3,>=1.21.1 in /usr/local/lib/python3.10/dist-packages (from requests>=2.19.0->datasets) (2.0.7)\n",
            "Requirement already satisfied: certifi>=2017.4.17 in /usr/local/lib/python3.10/dist-packages (from requests>=2.19.0->datasets) (2023.11.17)\n",
            "Requirement already satisfied: python-dateutil>=2.8.1 in /usr/local/lib/python3.10/dist-packages (from pandas->datasets) (2.8.2)\n",
            "Requirement already satisfied: pytz>=2020.1 in /usr/local/lib/python3.10/dist-packages (from pandas->datasets) (2023.3.post1)\n",
            "Requirement already satisfied: six>=1.5 in /usr/local/lib/python3.10/dist-packages (from python-dateutil>=2.8.1->pandas->datasets) (1.16.0)\n"
          ]
        }
      ]
    },
    {
      "cell_type": "code",
      "source": [
        "from datasets import load_dataset\n",
        "\n",
        "dataset = load_dataset(\"AtlasUnified/atlas-storyteller\")"
      ],
      "metadata": {
        "colab": {
          "base_uri": "https://localhost:8080/"
        },
        "id": "zCKdxI01M6-a",
        "outputId": "2b71e2b2-dd2b-4220-ae56-96894e356abb"
      },
      "execution_count": 3,
      "outputs": [
        {
          "output_type": "stream",
          "name": "stderr",
          "text": [
            "/usr/local/lib/python3.10/dist-packages/huggingface_hub/utils/_token.py:72: UserWarning: \n",
            "The secret `HF_TOKEN` does not exist in your Colab secrets.\n",
            "To authenticate with the Hugging Face Hub, create a token in your settings tab (https://huggingface.co/settings/tokens), set it as secret in your Google Colab and restart your session.\n",
            "You will be able to reuse this secret in all of your notebooks.\n",
            "Please note that authentication is recommended but still optional to access public models or datasets.\n",
            "  warnings.warn(\n"
          ]
        }
      ]
    },
    {
      "cell_type": "code",
      "source": [
        "# Display dataset information\n",
        "print(dataset)"
      ],
      "metadata": {
        "colab": {
          "base_uri": "https://localhost:8080/"
        },
        "id": "HK42OiW4NRis",
        "outputId": "aa65b647-0681-4ffb-9c76-ea74d0428c0f"
      },
      "execution_count": 4,
      "outputs": [
        {
          "output_type": "stream",
          "name": "stdout",
          "text": [
            "DatasetDict({\n",
            "    train: Dataset({\n",
            "        features: ['id', 'Story'],\n",
            "        num_rows: 5018\n",
            "    })\n",
            "})\n"
          ]
        }
      ]
    },
    {
      "cell_type": "code",
      "source": [
        "# Access the 'train' split of the dataset\n",
        "train_data = dataset['train']\n",
        "\n",
        "# Display information about the 'train' split\n",
        "print(train_data)"
      ],
      "metadata": {
        "colab": {
          "base_uri": "https://localhost:8080/"
        },
        "id": "MVni66CINZ3Z",
        "outputId": "6af6a539-a00b-4967-a12d-22af884c7b1b"
      },
      "execution_count": 5,
      "outputs": [
        {
          "output_type": "stream",
          "name": "stdout",
          "text": [
            "Dataset({\n",
            "    features: ['id', 'Story'],\n",
            "    num_rows: 5018\n",
            "})\n"
          ]
        }
      ]
    },
    {
      "cell_type": "code",
      "source": [
        "# Display the first few rows of the 'train' split\n",
        "print(train_data[:5])  # Displaying the first 5 rows as an example"
      ],
      "metadata": {
        "colab": {
          "base_uri": "https://localhost:8080/"
        },
        "id": "1-_K3yyaOQE4",
        "outputId": "e4cf40f2-1da9-418a-d065-7a42965db295"
      },
      "execution_count": 6,
      "outputs": [
        {
          "output_type": "stream",
          "name": "stdout",
          "text": [
            "{'id': ['seed_task_0', 'seed_task_1', 'seed_task_2', 'seed_task_3', 'seed_task_4'], 'Story': ['In the bustling city of New York, where the neon lights flickered and the sound of traffic reverberated through the streets, lived a man named Ethan Sullivan. With his chiseled jawline, piercing blue eyes, and a physique carved by years of training, Ethan possessed an air of mystery that intrigued those who crossed his path. He lived a solitary life in a modest apartment, spending his days as an accountant, his nights cloaked in shadows and secrecy.  One fateful morning, as the city awoke to the rhythmic beat of its own heartbeat, Ethan received a cryptic message on a burner phone. It simply stated, \"They\\'re coming for you.\" His heart quickened, and a wave of apprehension washed over him. Who were \"they,\" and why were they after him? Ethan\\'s blood ran cold, fueling a surge of adrenaline that urged him to take action.  Without a moment\\'s hesitation, Ethan gathered his meager belongings and made his way to a hidden room beneath his apartment. The room, concealed behind a bookshelf, was a secret sanctuary where he had spent countless hours honing his skills and preparing for the unknown. As he descended the narrow staircase, the walls whispered tales of peril and resilience, fueling his determination.  Days turned into nights, and the hunt for Ethan intensified. He navigated the city\\'s labyrinthine underworld, seeking answers to the questions that shadowed his every step. His pursuit brought him face to face with a network of spies, double agents, and dangerous mercenaries, all entangled in a web of deception. Ethan\\'s resilience was pushed to its limits as he evaded their clutches, relying on his training and instincts to outwit his adversaries.  Amidst the chaos, Ethan discovered a hidden connection between himself and the mysterious organization that sought his demise. Unbeknownst to him, he possessed an uncanny ability to unlock long-dormant memories, memories that held the key to an ancient artifact rumored to possess unimaginable power. This revelation marked a turning point in his quest, as he realized that his actions were not only a matter of personal survival but threatened the delicate balance of the entire world.  With newfound purpose, Ethan embarked on a perilous journey across continents, battling foes and confronting the ghosts of his past. He delved into ancient texts, deciphering cryptic symbols and untangling riddles that led him closer to the artifact\\'s secret location. The world around him trembled, unaware of the cataclysmic power that awaited should the artifact fall into the wrong hands.  In the heart of the Amazon rainforest, amidst lush foliage and echoing wildlife, Ethan reached the sacred temple where the artifact lay hidden. The air crackled with anticipation as he overcame treacherous trials, testing both his physical and mental prowess. With each obstacle conquered, his purpose grew clearer, his resolve unyielding.  Finally, standing on the precipice of destiny, Ethan found himself face to face with his nemesis, the orchestrator of his torment. A battle of wills ensued, each combatant matching the other blow for blow, weaving a deadly dance of strength and strategy. It was a battle that transcended the physical, a clash between opposing ideologies.  In the end, it was Ethan\\'s unwavering determination that prevailed. With a final, decisive strike, he thwarted his enemy\\'s plans and secured the artifact, safeguarding the world from its malevolence. The weight of his actions settled upon him, and as he gazed upon the artifact, he understood the responsibility that came with its power.  With the threat vanquished and the world saved, Ethan\\'s journey drew to a close. He returned to his solitary life in New York, no longer haunted by the phantom of impending danger. Yet, his actions had left an indelible mark upon his soul, a reminder that even in the face of insurmountable odds, one individual could make a difference. And with that knowledge, Ethan Sullivan embraced the path that lay ahead of him, ready to face whatever challenges may come his way.', 'The sky stretched out before them, an endless expanse of blue pierced only by fluffy white clouds. The air crackled with the anticipation of action as the squadron gathered at the airfield, their sleek fighter jets gleaming under the noon sun. Among the pilots was Captain Joshua Bennett, a seasoned veteran with eyes as sharp as a hawk\\'s, and a heart that beat with the rhythm of war.  Set in the midst of a raging conflict, the story takes place during the height of World War II. Captain Bennett, a fearless and daring leader, had earned his reputation through countless successful missions. He was known for his audacious maneuvers and masterful control of aircraft, traits that instilled confidence in every member of his squadron.  Their current mission was crucial - they were tasked with intercepting and neutralizing a squadron of enemy bombers bound for a nearby heavily fortified city. The stakes were high; failure meant devastation for countless lives on the ground. But failure was not an option for Captain Bennett and his men.  As they climbed into their cockpits, each pilot embraced the danger that lay ahead. The roar of engines filled the air, drowning out all other sounds. The planes taxied onto the runway, lined up with military precision. The countdown began, the moment drawing closer with each passing second.  With a thunderous roar, the planes rocketed into the clear blue sky. Wings unfolded, propellers spun, and the pilots adjusted their throttles to find the perfect balance of speed and maneuverability. The rush of wind whipped their faces as they gained altitude, soaring towards their destiny.  As they closed in on the enemy formation, the first hints of adrenaline coursed through their veins. The lead bomber came into view, its gray monstrosity blotting out the sun. It was a formidable target, bristling with defensive guns and encased in heavy armor.  Captain Bennett\\'s voice broke through the radio static, calm yet tinged with intensity. \"Stick to the plan, gentlemen. Stay in formation, and watch each other\\'s backs.\" The squadron spread their wings and formed a protective wall around their leader. It was time to engage.  In a dazzling display of aerial acrobatics and precision, the dogfight began. Fighter jets darted and weaved through the air, leaving white contrails in their wake. The deafening roar of engines mingled with the staccato bursts of gunfire. Maneuvers honed through countless hours of training were put to the test as the pilots pushed themselves to the limits.  Enemy tracers wove through the sky like deadly ribbons, threatening to tear the squadron apart. Captain Bennett\\'s instincts kicked in, his eyes scanning the chaotic battlefield, searching for weak points. He made split-second decisions, radioing commands to his men as they fought tooth and nail against their adversaries.  Bullets grazed wings, but the pilots pressed on, clinging to that indomitable spirit of victory. They danced with death, their every move calculated and executed with utmost precision. Captain Bennett, like a maestro directing an orchestra, orchestrated the deadly symphony of war, leading his men with unwavering determination.  As the fight raged on, the squadron\\'s efforts began to bear fruit. One enemy bomber after another plummeted from the sky, engulfed in billowing flames. The sky turned into a kaleidoscope of smoke and fire, a testament to their courage and skill. The tide began to turn, the remaining enemy formations faltering under the relentless onslaught.  And then, silence fell upon the battlefield. The enemy bombers lay shattered and defeated, scattered like forlorn chess pieces across the sky. The squadron, weary yet triumphant, regrouped in a display of unity and solidarity.  Captain Bennett\\'s voice broke through the radio once again, this time filled with pride. \"Well done, gentlemen. Another victory for the history books.\" The cheers of his comrades echoed in the air, mingling with the sea breeze.  As the planes headed back to base, engines humming in synchrony, the captain couldn\\'t help but smile. They had prevailed against all odds, proving their mettle in the crucible of combat. He knew that their actions had made a difference, had saved lives, and kept hope alive in the hearts of those on the ground.  Their legacy as warriors in the skies would forever be remembered, etched in the annals of history. And Captain Joshua Bennett, the fearless leader who led his squadron with unwavering resolve, would forever be hailed as a hero, a beacon of courage in the darkest of times.', 'In the midst of a bustling metropolis teeming with skyscrapers that seemingly touched the heavens, nestled a small and unassuming garage. It belonged to Ethan, a young and brilliant engineer consumed by his insatiable thirst for innovation and adventure. With grease-stained hands and a mind full of ideas, he spent every waking hour tinkering and crafting marvelous inventions that could turn dreams into reality.  One fateful afternoon, while rummaging through a box filled with ancient blueprints, Ethan stumbled upon a peculiar schematic. It depicted a colossal machine, a menacing giant robot with gleaming steel limbs and an aura of unstoppable power. Intrigued and fascinated, he couldn\\'t resist the temptation to bring this mechanical behemoth to life.  Days turned into weeks, and nights melted away as Ethan toiled tirelessly in his secluded workshop, pouring every ounce of his skill and determination into the construction of his masterpiece. Finally, after countless sleepless nights, his creation stood before him in all its majestic glory - a formidable mech equipped with an array of devastating weapons, ready to challenge any foe that dared face it.  News of Ethan\\'s extraordinary creation spread like wildfire across the city, catching the attention of a notorious and power-hungry conglomerate known as IronCorp Industries. Their enigmatic leader, Raymond Blackwood, was a zealous man who sought to dominate the world using an army of unstoppable robots. Enraged by the presence of a potential rival, Blackwood devised a sinister plan to steal Ethan\\'s invention, ensuring his own hegemony remained unchallenged.  As dusk settled over the city, Ethan climbed into the cockpit of his mighty mech, aptly named \"Ironfire,\" and prepared for battle. He had heard whispers of IronCorp\\'s plans and knew that he must act swiftly to protect his creation, and by extension, the very heart of innovation itself.  Engulfed in the shadows, Ethan set out on a perilous journey through the dimly lit streets, radar systems humming softly as he tracked the movements of IronCorp\\'s relentless forces. Every corner of the city seemed to pulsate with danger, each alleyway hiding a potential ambush. But Ethan\\'s resolve burned bright, and with every step, his heart raced with a mix of anticipation and desperation.  Finally, deep within the heart of an abandoned factory, a cacophony of metallic growls echoed ominously. Ironfire stepped forward, ready to face an army of imposing IronCorp robots driven by malice and greed. As the battle raged on, Ethan\\'s instincts and intimate knowledge of his creation guided him. He evaded crushing blows and countered with devastating precision, each strike in perfect harmony with the symphony of danger that surrounded him.  In a climactic clash of metal and might, Ironfire unleashed a powerful surge of energy that coursed through the remnants of IronCorp\\'s defeated robots. Sparks danced and smoke filled the air, the battle leaving nothing but a wake of debris in its path. Ethan stood triumphant, having defended his creation and regained his vision of a world where innovation thrived untethered.  Word of Ethan\\'s heroic victory spread throughout the city, and he became a legend, a symbol of defiance against corporate tyranny. IronCorp, left in shambles, retreated into the shadows, their dreams of domination shattered. From that day forward, the city monumentally shifted, embracing a new era where aspiring inventors and unyielding dreamers were celebrated and cherished.  As the sun set on the horizon, bathing the city in hues of crimson and gold, Ethan surveyed the landscape that had once been plagued by darkness. A smile graced his lips, knowing that he had played a pivotal role in defending the very essence of action and innovation against overwhelming odds. And with newfound hope in his heart, he embarked on a journey to inspire a generation and forge a future where dreams knew no boundaries.', \"In the heart of a once-thriving metropolis, now reduced to a desolate wasteland, a lone figure emerged from the shadows. Leather-clad and armed to the teeth, his name was Gabriel. Standing at the precipice of an abandoned street, he surveyed the remnants of what was once a bustling city. Hollowed buildings loomed like guardians of a forgotten time, their broken windows reflecting the glimmers of an apocalyptic twilight.  It had been years since the outbreak, the virus that turned ordinary people into ravenous zombies. Gabriel, a former army officer, had become a symbol of hope in this desolate world. With his unwavering determination and unparalleled combat skills, he had earned the respect of fellow survivors. But there was one mission that haunted his every step – the hunt for Patient Zero, the source of this unspeakable horror.  As Gabriel patrolled the remnants of humanity's domain, a garbled transmission pierced the silence, crackling with static. It was a distress call from a nearby settlement. He hesitated for a moment, torn between his undying pursuit and the plight of innocents in need. His duty prevailed, and he set off towards the desperate cries of his fellow survivors.  Arriving at the settlement, Gabriel found himself face to face with chaos. The once-peaceful refuge had been overrun by hordes of infected. Their guttural moans filled the air as they mindlessly tore through barricades and devoured any living thing in their path. Amidst the bedlam, a young woman named Ava caught Gabriel's eye. Fearlessly armed with her own makeshift weapons, she fought valiantly to protect the last remnants of her community.  Recognizing her grit, Gabriel teamed up with Ava to stem the tide of the infected. Together, they forged a path through the chaos, leaving a trail of fallen zombies in their wake. Their teamwork was seamless, as if forged in the fires of adversity. Gabriel marveled at Ava's resilience and fiery determination as they battled side by side. It was a beacon of light in a world veiled in darkness.  Their efforts culminated in a climactic showdown with a particularly formidable horde. Surrounded, Gabriel and Ava fought with unmatched ferocity. Their weapons whirled through the air, dispatching zombie after zombie. Every strike was executed flawlessly, guided by their shared purpose. In the final moments, Gabriel unleashed a torrent of bullets, decimating the horde.  Exhausted but triumphant, Gabriel and Ava watched as the last of the infected crumpled to the ground. The settlement, once teetering on the edge of destruction, was saved. Gabriel couldn't help but feel a surge of admiration for Ava's indomitable spirit. In her, he discovered a kindred soul - a warrior forged by the unforgiving battleground of a post-apocalyptic world.  With the settlement secured, Gabriel and Ava returned to their never-ending mission - the search for Patient Zero. Fuelled by their recent victory, their resolve grew stronger. They scoured the remnants of civilization, following leads and piecing together clues with dogged determination. And finally, after countless battles and near-death experiences, they unearthed a hidden facility concealing the truth.  Within its sterile walls lay the answer to their questions - the true origin of the virus that had decimated their world. Patient Zero, a shadowy figure named Dr. Emil Reinhardt, had been consumed by the very entity he had created. The duo confronted the fallen scientist, his twisted form bearing evidence of his monstrous experiments. With a final burst of strength, Gabriel and Ava ended the life of the man who had unleashed this plague.  In the aftermath, as Gabriel and Ava surveyed the smoldering ruins of the facility, a sense of bitter victory washed over them. The battle against the infected hordes would continue, but a small semblance of justice had been attained. With renewed purpose and an unbreakable bond, they vowed to push forward, fighting relentlessly until the world they once knew was restored.  United by their resilience and unwavering courage, Gabriel and Ava became legends whispered in the ears of survivors, igniting a dwindling flame of hope in the darkest corners of the earth. In a world ravaged by zombies and despair, their actions spoke louder than words, inspiring others to rise against the encroaching tide of darkness.\", 'In the gritty underbelly of a city plagued by crime, Detective John Anderson was a tenacious force to be reckoned with. Tall and lean, with a sharp jawline and piercing blue eyes, he exuded an aura of unwavering determination. The city had become his battleground, and the criminals feared his name.  The whispers on the streets spoke of a notorious criminal mastermind known as \"The Phantom.\" No one had ever seen his face, and his crimes left the police baffled. Like a phantom, he slipped through their fingers, leaving no trace behind. Detective Anderson was obsessed with catching him, a relentless pursuit that consumed his every waking moment.  Late one stormy evening, as the rain poured mercilessly, Detective Anderson received a tip that The Phantom was planning a heist at the city\\'s prestigious art museum. Determined to finally corner his elusive adversary, Anderson made his way to the darkened museum, the faint glow of the moon highlighting his determined gaze.  Inside the museum, the tension thickened as Anderson explored the labyrinthine corridors and galleries. True to his name, The Phantom seemed to be everywhere and nowhere all at once. Paintings were stolen, alarms were triggered, and yet the criminal remained elusive. It was a cat and mouse game, each move meticulously planned, leaving Anderson scrambling to anticipate the next.  Days turned into weeks, and the city grew restless, with each passing moment the grip of fear tightened. The newspapers were filled with headlines screaming of a criminal genius outsmarting the police force at every turn. But Detective Anderson remained undeterred, fueled by a relentless desire for justice.  One fateful night, Anderson received a cryptic message, informing him that The Phantom would strike at the city\\'s grand opera house. Racing against time, he stormed into the opulent theater as the first notes of a symphony filled the air. The tension palpable, Anderson carefully weaved his way through the crowd, his eyes scanning for any suspicious individuals.  As the performance reached its crescendo, a sudden commotion erupted. The lights flickered, and chaos ensued. Anderson instinctively sprinted towards the source of the disturbance. In a darkened corner, he caught a glimpse of a figure he knew all too well. The Phantom.  A chase ensued through the labyrinthine backstage area, their footsteps echoing like thunder. Anderson\\'s heart pounded in his chest as he closed in on his prey. With each twist and turn, he felt the thrum of adrenaline course through his veins, propelling him forward.  Finally, in a moment of sheer determination, Anderson tackled The Phantom to the ground, their bodies colliding with a resounding thud. As they wrestled on the cold floor, Anderson\\'s grip tightened, his fingers digging into the criminal\\'s flesh. The long-awaited arrest was within his grasp.  With the handcuffs securely fastened around The Phantom\\'s wrists, Anderson couldn\\'t help but feel a mix of triumph and relief. The city could finally breathe a sigh of relief, knowing that justice had prevailed. It was a victory hard-fought, a testament to the determination and unwavering resolve of one man.  As the sirens wailed in the distance, Anderson looked down at his defeated adversary, the rain washing away the masquerade of anonymity from The Phantom\\'s face. The eyes staring back at him were filled with a mix of defeat and begrudging respect. An unspoken recognition passed between them, as if they were two sides of the same coin, forever destined to dance this dangerous dance.  And so, as the rain continued to pour, Detective John Anderson stood victorious in the darkness, a testament to the indomitable spirit of those who refuse to falter in the face of evil. The city would remember his name, just as The Phantom would forever be etched in the annals of criminal history. The cat and mouse game had reached its climax, leaving behind a trail of broken illusions and hard-fought triumphs.']}\n"
          ]
        }
      ]
    },
    {
      "cell_type": "code",
      "source": [
        "# Convert the 'train' split to a 'data' CSV file\n",
        "csv_filename = \"/content/drive/MyDrive/Story Generation/data.csv\"\n",
        "train_data.to_csv(csv_filename, index=False)\n",
        "print(f\"CSV file '{csv_filename}' has been created.\")"
      ],
      "metadata": {
        "colab": {
          "base_uri": "https://localhost:8080/",
          "height": 66,
          "referenced_widgets": [
            "ac2c836588ab4eaf9a59229ee2cfa005",
            "36b4357c06364fafbf4356bd799eeb40",
            "0533ac039b4543e09e09639cd6d813aa",
            "5fd1f014a07b4bf682949a670c31f4ab",
            "384a7a1de8364f2b8eed5ed18f8e2b4a",
            "d5d602f1351845a3a00c1665a7707608",
            "e368542ee95c45499523fff725788f1e",
            "9313127d2e34423dbe6862c443cf1dc4",
            "54aed97c75864725973da44d3cdcd453",
            "582246d2c5234529aad9dd969f4adf03",
            "e0e04b981ff54605bb03bb5124c12062"
          ]
        },
        "id": "kq6tmEAWOKOv",
        "outputId": "25927fbd-41cb-437f-9905-3b5bc5a166a3"
      },
      "execution_count": 7,
      "outputs": [
        {
          "output_type": "display_data",
          "data": {
            "text/plain": [
              "Creating CSV from Arrow format:   0%|          | 0/6 [00:00<?, ?ba/s]"
            ],
            "application/vnd.jupyter.widget-view+json": {
              "version_major": 2,
              "version_minor": 0,
              "model_id": "ac2c836588ab4eaf9a59229ee2cfa005"
            }
          },
          "metadata": {}
        },
        {
          "output_type": "stream",
          "name": "stdout",
          "text": [
            "CSV file '/content/drive/MyDrive/Story Generation/data.csv' has been created.\n"
          ]
        }
      ]
    },
    {
      "cell_type": "code",
      "source": [
        "import pandas as pd\n",
        "dataset = pd.read_csv(\"/content/drive/MyDrive/Story Generation/data.csv\")\n",
        "dataset.head()"
      ],
      "metadata": {
        "colab": {
          "base_uri": "https://localhost:8080/",
          "height": 206
        },
        "id": "miBx8270J3la",
        "outputId": "c67a96c6-c4c3-4aa0-bd0a-71644dbc2e39"
      },
      "execution_count": 8,
      "outputs": [
        {
          "output_type": "execute_result",
          "data": {
            "text/plain": [
              "            id                                              Story\n",
              "0  seed_task_0  In the bustling city of New York, where the ne...\n",
              "1  seed_task_1  The sky stretched out before them, an endless ...\n",
              "2  seed_task_2  In the midst of a bustling metropolis teeming ...\n",
              "3  seed_task_3  In the heart of a once-thriving metropolis, no...\n",
              "4  seed_task_4  In the gritty underbelly of a city plagued by ..."
            ],
            "text/html": [
              "\n",
              "  <div id=\"df-478e8270-ea1f-4b71-b9b6-fabf654c8767\" class=\"colab-df-container\">\n",
              "    <div>\n",
              "<style scoped>\n",
              "    .dataframe tbody tr th:only-of-type {\n",
              "        vertical-align: middle;\n",
              "    }\n",
              "\n",
              "    .dataframe tbody tr th {\n",
              "        vertical-align: top;\n",
              "    }\n",
              "\n",
              "    .dataframe thead th {\n",
              "        text-align: right;\n",
              "    }\n",
              "</style>\n",
              "<table border=\"1\" class=\"dataframe\">\n",
              "  <thead>\n",
              "    <tr style=\"text-align: right;\">\n",
              "      <th></th>\n",
              "      <th>id</th>\n",
              "      <th>Story</th>\n",
              "    </tr>\n",
              "  </thead>\n",
              "  <tbody>\n",
              "    <tr>\n",
              "      <th>0</th>\n",
              "      <td>seed_task_0</td>\n",
              "      <td>In the bustling city of New York, where the ne...</td>\n",
              "    </tr>\n",
              "    <tr>\n",
              "      <th>1</th>\n",
              "      <td>seed_task_1</td>\n",
              "      <td>The sky stretched out before them, an endless ...</td>\n",
              "    </tr>\n",
              "    <tr>\n",
              "      <th>2</th>\n",
              "      <td>seed_task_2</td>\n",
              "      <td>In the midst of a bustling metropolis teeming ...</td>\n",
              "    </tr>\n",
              "    <tr>\n",
              "      <th>3</th>\n",
              "      <td>seed_task_3</td>\n",
              "      <td>In the heart of a once-thriving metropolis, no...</td>\n",
              "    </tr>\n",
              "    <tr>\n",
              "      <th>4</th>\n",
              "      <td>seed_task_4</td>\n",
              "      <td>In the gritty underbelly of a city plagued by ...</td>\n",
              "    </tr>\n",
              "  </tbody>\n",
              "</table>\n",
              "</div>\n",
              "    <div class=\"colab-df-buttons\">\n",
              "\n",
              "  <div class=\"colab-df-container\">\n",
              "    <button class=\"colab-df-convert\" onclick=\"convertToInteractive('df-478e8270-ea1f-4b71-b9b6-fabf654c8767')\"\n",
              "            title=\"Convert this dataframe to an interactive table.\"\n",
              "            style=\"display:none;\">\n",
              "\n",
              "  <svg xmlns=\"http://www.w3.org/2000/svg\" height=\"24px\" viewBox=\"0 -960 960 960\">\n",
              "    <path d=\"M120-120v-720h720v720H120Zm60-500h600v-160H180v160Zm220 220h160v-160H400v160Zm0 220h160v-160H400v160ZM180-400h160v-160H180v160Zm440 0h160v-160H620v160ZM180-180h160v-160H180v160Zm440 0h160v-160H620v160Z\"/>\n",
              "  </svg>\n",
              "    </button>\n",
              "\n",
              "  <style>\n",
              "    .colab-df-container {\n",
              "      display:flex;\n",
              "      gap: 12px;\n",
              "    }\n",
              "\n",
              "    .colab-df-convert {\n",
              "      background-color: #E8F0FE;\n",
              "      border: none;\n",
              "      border-radius: 50%;\n",
              "      cursor: pointer;\n",
              "      display: none;\n",
              "      fill: #1967D2;\n",
              "      height: 32px;\n",
              "      padding: 0 0 0 0;\n",
              "      width: 32px;\n",
              "    }\n",
              "\n",
              "    .colab-df-convert:hover {\n",
              "      background-color: #E2EBFA;\n",
              "      box-shadow: 0px 1px 2px rgba(60, 64, 67, 0.3), 0px 1px 3px 1px rgba(60, 64, 67, 0.15);\n",
              "      fill: #174EA6;\n",
              "    }\n",
              "\n",
              "    .colab-df-buttons div {\n",
              "      margin-bottom: 4px;\n",
              "    }\n",
              "\n",
              "    [theme=dark] .colab-df-convert {\n",
              "      background-color: #3B4455;\n",
              "      fill: #D2E3FC;\n",
              "    }\n",
              "\n",
              "    [theme=dark] .colab-df-convert:hover {\n",
              "      background-color: #434B5C;\n",
              "      box-shadow: 0px 1px 3px 1px rgba(0, 0, 0, 0.15);\n",
              "      filter: drop-shadow(0px 1px 2px rgba(0, 0, 0, 0.3));\n",
              "      fill: #FFFFFF;\n",
              "    }\n",
              "  </style>\n",
              "\n",
              "    <script>\n",
              "      const buttonEl =\n",
              "        document.querySelector('#df-478e8270-ea1f-4b71-b9b6-fabf654c8767 button.colab-df-convert');\n",
              "      buttonEl.style.display =\n",
              "        google.colab.kernel.accessAllowed ? 'block' : 'none';\n",
              "\n",
              "      async function convertToInteractive(key) {\n",
              "        const element = document.querySelector('#df-478e8270-ea1f-4b71-b9b6-fabf654c8767');\n",
              "        const dataTable =\n",
              "          await google.colab.kernel.invokeFunction('convertToInteractive',\n",
              "                                                    [key], {});\n",
              "        if (!dataTable) return;\n",
              "\n",
              "        const docLinkHtml = 'Like what you see? Visit the ' +\n",
              "          '<a target=\"_blank\" href=https://colab.research.google.com/notebooks/data_table.ipynb>data table notebook</a>'\n",
              "          + ' to learn more about interactive tables.';\n",
              "        element.innerHTML = '';\n",
              "        dataTable['output_type'] = 'display_data';\n",
              "        await google.colab.output.renderOutput(dataTable, element);\n",
              "        const docLink = document.createElement('div');\n",
              "        docLink.innerHTML = docLinkHtml;\n",
              "        element.appendChild(docLink);\n",
              "      }\n",
              "    </script>\n",
              "  </div>\n",
              "\n",
              "\n",
              "<div id=\"df-f329f5ca-2762-4826-9125-0b6154e5cf40\">\n",
              "  <button class=\"colab-df-quickchart\" onclick=\"quickchart('df-f329f5ca-2762-4826-9125-0b6154e5cf40')\"\n",
              "            title=\"Suggest charts\"\n",
              "            style=\"display:none;\">\n",
              "\n",
              "<svg xmlns=\"http://www.w3.org/2000/svg\" height=\"24px\"viewBox=\"0 0 24 24\"\n",
              "     width=\"24px\">\n",
              "    <g>\n",
              "        <path d=\"M19 3H5c-1.1 0-2 .9-2 2v14c0 1.1.9 2 2 2h14c1.1 0 2-.9 2-2V5c0-1.1-.9-2-2-2zM9 17H7v-7h2v7zm4 0h-2V7h2v10zm4 0h-2v-4h2v4z\"/>\n",
              "    </g>\n",
              "</svg>\n",
              "  </button>\n",
              "\n",
              "<style>\n",
              "  .colab-df-quickchart {\n",
              "      --bg-color: #E8F0FE;\n",
              "      --fill-color: #1967D2;\n",
              "      --hover-bg-color: #E2EBFA;\n",
              "      --hover-fill-color: #174EA6;\n",
              "      --disabled-fill-color: #AAA;\n",
              "      --disabled-bg-color: #DDD;\n",
              "  }\n",
              "\n",
              "  [theme=dark] .colab-df-quickchart {\n",
              "      --bg-color: #3B4455;\n",
              "      --fill-color: #D2E3FC;\n",
              "      --hover-bg-color: #434B5C;\n",
              "      --hover-fill-color: #FFFFFF;\n",
              "      --disabled-bg-color: #3B4455;\n",
              "      --disabled-fill-color: #666;\n",
              "  }\n",
              "\n",
              "  .colab-df-quickchart {\n",
              "    background-color: var(--bg-color);\n",
              "    border: none;\n",
              "    border-radius: 50%;\n",
              "    cursor: pointer;\n",
              "    display: none;\n",
              "    fill: var(--fill-color);\n",
              "    height: 32px;\n",
              "    padding: 0;\n",
              "    width: 32px;\n",
              "  }\n",
              "\n",
              "  .colab-df-quickchart:hover {\n",
              "    background-color: var(--hover-bg-color);\n",
              "    box-shadow: 0 1px 2px rgba(60, 64, 67, 0.3), 0 1px 3px 1px rgba(60, 64, 67, 0.15);\n",
              "    fill: var(--button-hover-fill-color);\n",
              "  }\n",
              "\n",
              "  .colab-df-quickchart-complete:disabled,\n",
              "  .colab-df-quickchart-complete:disabled:hover {\n",
              "    background-color: var(--disabled-bg-color);\n",
              "    fill: var(--disabled-fill-color);\n",
              "    box-shadow: none;\n",
              "  }\n",
              "\n",
              "  .colab-df-spinner {\n",
              "    border: 2px solid var(--fill-color);\n",
              "    border-color: transparent;\n",
              "    border-bottom-color: var(--fill-color);\n",
              "    animation:\n",
              "      spin 1s steps(1) infinite;\n",
              "  }\n",
              "\n",
              "  @keyframes spin {\n",
              "    0% {\n",
              "      border-color: transparent;\n",
              "      border-bottom-color: var(--fill-color);\n",
              "      border-left-color: var(--fill-color);\n",
              "    }\n",
              "    20% {\n",
              "      border-color: transparent;\n",
              "      border-left-color: var(--fill-color);\n",
              "      border-top-color: var(--fill-color);\n",
              "    }\n",
              "    30% {\n",
              "      border-color: transparent;\n",
              "      border-left-color: var(--fill-color);\n",
              "      border-top-color: var(--fill-color);\n",
              "      border-right-color: var(--fill-color);\n",
              "    }\n",
              "    40% {\n",
              "      border-color: transparent;\n",
              "      border-right-color: var(--fill-color);\n",
              "      border-top-color: var(--fill-color);\n",
              "    }\n",
              "    60% {\n",
              "      border-color: transparent;\n",
              "      border-right-color: var(--fill-color);\n",
              "    }\n",
              "    80% {\n",
              "      border-color: transparent;\n",
              "      border-right-color: var(--fill-color);\n",
              "      border-bottom-color: var(--fill-color);\n",
              "    }\n",
              "    90% {\n",
              "      border-color: transparent;\n",
              "      border-bottom-color: var(--fill-color);\n",
              "    }\n",
              "  }\n",
              "</style>\n",
              "\n",
              "  <script>\n",
              "    async function quickchart(key) {\n",
              "      const quickchartButtonEl =\n",
              "        document.querySelector('#' + key + ' button');\n",
              "      quickchartButtonEl.disabled = true;  // To prevent multiple clicks.\n",
              "      quickchartButtonEl.classList.add('colab-df-spinner');\n",
              "      try {\n",
              "        const charts = await google.colab.kernel.invokeFunction(\n",
              "            'suggestCharts', [key], {});\n",
              "      } catch (error) {\n",
              "        console.error('Error during call to suggestCharts:', error);\n",
              "      }\n",
              "      quickchartButtonEl.classList.remove('colab-df-spinner');\n",
              "      quickchartButtonEl.classList.add('colab-df-quickchart-complete');\n",
              "    }\n",
              "    (() => {\n",
              "      let quickchartButtonEl =\n",
              "        document.querySelector('#df-f329f5ca-2762-4826-9125-0b6154e5cf40 button');\n",
              "      quickchartButtonEl.style.display =\n",
              "        google.colab.kernel.accessAllowed ? 'block' : 'none';\n",
              "    })();\n",
              "  </script>\n",
              "</div>\n",
              "\n",
              "    </div>\n",
              "  </div>\n"
            ]
          },
          "metadata": {},
          "execution_count": 8
        }
      ]
    },
    {
      "cell_type": "markdown",
      "source": [
        "# **Length of the main dataset**"
      ],
      "metadata": {
        "id": "oYT5jePDfjc1"
      }
    },
    {
      "cell_type": "code",
      "source": [
        "len(dataset)"
      ],
      "metadata": {
        "colab": {
          "base_uri": "https://localhost:8080/"
        },
        "id": "2TMv6MwjJ5Zi",
        "outputId": "89227705-9d8a-435b-c429-adbe5a5a78b3"
      },
      "execution_count": 9,
      "outputs": [
        {
          "output_type": "execute_result",
          "data": {
            "text/plain": [
              "5018"
            ]
          },
          "metadata": {},
          "execution_count": 9
        }
      ]
    },
    {
      "cell_type": "markdown",
      "source": [
        "# **Taking 90% for train dataset and 10% for test dataset**"
      ],
      "metadata": {
        "id": "smu9z96ufAoZ"
      }
    },
    {
      "cell_type": "code",
      "metadata": {
        "id": "V36gOIOfLHvB",
        "colab": {
          "base_uri": "https://localhost:8080/"
        },
        "outputId": "094f6308-63e3-4cc7-99fe-8052df2594bc"
      },
      "source": [
        "import re\n",
        "import pandas as pd\n",
        "from sklearn.model_selection import train_test_split\n",
        "\n",
        "# Read the dataset from the CSV file\n",
        "data = pd.read_csv(\"/content/drive/MyDrive/Story Generation/data.csv\")\n",
        "\n",
        "def build_text_files(data_csv, dest_path):\n",
        "    f = open(dest_path, 'w')\n",
        "    data = ''\n",
        "    for index, row in data_csv.iterrows():\n",
        "        summary = str(row['Story']).strip()\n",
        "        summary = re.sub(r\"[\\[\\]\\\"]\", \"\", summary)  # Remove square brackets and quotation marks\n",
        "        summary = re.sub(r\"\\s+\", \" \", summary)  # Replace multiple spaces with a single space\n",
        "        data += summary + \"  \"\n",
        "    f.write(data)\n",
        "\n",
        "train, test = train_test_split(data, test_size=0.10)\n",
        "\n",
        "build_text_files(train, '/content/drive/MyDrive/Story Generation/train_dataset.txt')\n",
        "build_text_files(test, '/content/drive/MyDrive/Story Generation/test_dataset.txt')\n",
        "\n",
        "print(\"Train dataset length:\", len(train))\n",
        "print(\"Test dataset length:\", len(test))\n"
      ],
      "execution_count": 10,
      "outputs": [
        {
          "output_type": "stream",
          "name": "stdout",
          "text": [
            "Train dataset length: 4516\n",
            "Test dataset length: 502\n"
          ]
        }
      ]
    },
    {
      "cell_type": "markdown",
      "source": [
        "# **Text Preprocessing**"
      ],
      "metadata": {
        "id": "EcHP54RZfGgo"
      }
    },
    {
      "cell_type": "code",
      "source": [
        "def read_text_file(file_path, num_examples=5):\n",
        "    with open(file_path, 'r') as file:\n",
        "        content = file.read()\n",
        "        examples = content.split('  ')  # Assuming '  ' is the separator between examples\n",
        "        for i, example in enumerate(examples[:num_examples]):\n",
        "            print(f\"Example {i+1}: {example}\")\n",
        "\n",
        "train_file_path = '/content/drive/MyDrive/Story Generation/train_dataset.txt'\n",
        "test_file_path = '/content/drive/MyDrive/Story Generation/test_dataset.txt'\n",
        "\n",
        "print(\"Examples from the Train Dataset:\")\n",
        "read_text_file(train_file_path)\n",
        "\n",
        "print(\"\\nExamples from the Test Dataset:\")\n",
        "read_text_file(test_file_path)\n"
      ],
      "metadata": {
        "colab": {
          "base_uri": "https://localhost:8080/"
        },
        "id": "atNeiMxnLMvd",
        "outputId": "50249b68-97c6-47c1-c71a-6b903a8087e7"
      },
      "execution_count": 11,
      "outputs": [
        {
          "output_type": "stream",
          "name": "stdout",
          "text": [
            "Examples from the Train Dataset:\n",
            "Example 1: In a small, bustling town nestled in the heart of the countryside, there stood a grand institution of learning known as Maplewood Academy. With its ivy-covered façade and sprawling campus, it was renowned for providing a high-quality education to students from all walks of life. The academy boasted a diverse student body, hailing from different corners of the world, each with their own unique stories and dreams. At the helm of Maplewood Academy was Dr. Elizabeth Foster, a visionary educator with a passion for promoting global citizenship in education. Dr. Foster firmly believed that by fostering an environment that encouraged understanding and cooperation among students from various cultural backgrounds, she could cultivate the next generation of global leaders. With this noble goal in mind, she embarked on a journey to transform Maplewood Academy into a beacon of global education. Under Dr. Foster's leadership, Maplewood Academy witnessed a remarkable transformation. The once traditional curriculum was infused with a newfound emphasis on global issues, encouraging students to think critically about the world around them. Classrooms became vibrant spaces, adorned with flags from different countries and adorned with artifacts representing diverse cultures, promoting curiosity and dialogue among students. As the students ventured into the world beyond the academy, they became active participants in shaping their local and global communities. The academy organized regular cultural exchanges, where students traveled to different countries, immersing themselves in unfamiliar cultures and forming lifelong connections. These experiences broadened their perspectives, fostering empathy and understanding for people from different backgrounds. However, the journey towards promoting global citizenship was not without its challenges. One day, a remarkable event transpired that put the students' newfound understanding to the test. A devastating earthquake struck a distant land, leaving in its wake destruction and despair. The students were filled with a profound sense of compassion and felt a deep calling to help those in need. Driven by this shared purpose, the students mobilized under the guidance of Dr. Foster. They organized a series of fundraisers, pouring their heart and soul into raising money for those affected by the earthquake. As the weeks passed, their efforts bore fruit, and their collective resolve grew stronger. Maplewood Academy became a hub of compassion and altruism, highlighting the power of education in fostering global citizenship. Finally, the day arrived when Dr. Foster and her students boarded a plane bound for the devastated country. With them, they carried not only the funds they had raised but also a message of hope and solidarity. As they set foot on foreign soil, they were greeted with open arms by the grateful locals. The students pitched in to rebuild homes, schools, and hospitals, witnessing firsthand the impact their actions could have on the lives of others. Months passed, and as the students returned to Maplewood Academy, they were forever changed. Their experience had taught them the importance of collaboration, empathy, and the interconnectedness of our global community. Through education, they had transcended their individual identities and become true global citizens. Dr. Foster's vision had come to fruition, as Maplewood Academy continued to thrive as a center of global education. The once-separate threads of nationality and background had interwoven into a rich tapestry of united minds, eager to make a difference in the world. The students carried the lessons they had learned into their future endeavors, becoming catalysts for positive change in their respective fields. In the end, it was the power of education that had bridged the gaps between cultures and propelled Maplewood Academy's students toward a global perspective. Dr. Foster's unwavering dedication combined with the students' collective efforts had transformed an ordinary educational institution into a symbol of hope, compassion, and unity in a rapidly changing world. And through their shared journey, they had proven that education holds the key to promoting global citizenship for generations to come.\n",
            "Example 2: In the small town of Greenfield, nestled amidst rolling hills and vast fields of golden wheat, lived two best friends, Emily and David. They had spent their entire lives in this picturesque town, longing for adventure and the taste of freedom beyond their familiar surroundings. One hot summer's day, while basking in the warmth of the sun, the pair hatched a plan that would change their lives forever - a road trip across the vast expanse of America in search of their own personal quest for freedom. With excitement coursing through their veins, Emily and David meticulously planned their journey, tracing the route on a worn-out map and envisioning the endless possibilities that awaited them. They knew their parents would never understand, but they couldn't resist the magnetic pull of the unknown, beckoning them towards a world waiting to be discovered. As the sun rose on the day of their departure, Emily's heart fluttered with anticipation. The old cherry red convertible, borrowed from David's uncle, stood in front of her house, its polished exterior reflecting their dreams. The trunk was packed to the brim with essentials - camping gear, a map, snacks, and a playlist ready to fuel their adventure with epic melodies. The engine roared to life as they hit the open road, leaving behind the familiar sights and sounds of Greenfield. With each passing mile, their spirits soared higher and their shackles of routine and expectation gradually fell away. The first leg of their journey led them through winding roads, quaint towns, and vast stretches of untouched wilderness. As they ventured further west, they encountered unforeseen obstacles that tested their resolve. They faced blistering heat in the desert, the relentless rhythm of rain pouring on their convertible's roof, and the vast emptiness of lonely stretches of highway that seemed to stretch on forever. Doubts began to creep into their minds, obscuring their vision of freedom as their friendship weathered the storms both outside and within. One fateful day, while camping beneath a sky ablaze with stars, Emily and David found themselves in the midst of a heated argument. Exhaustion and frustration had frayed their nerves, and they questioned whether their journey was worth the sacrifice. Doubt clouded their hearts, threatening to extinguish their fiery dreams. But beneath the starry canvas of the night sky, they found solace and renewal. They rekindled their shared vision of freedom, the flickering flame of their friendship emerging stronger than ever before. Together, they rose above the doubts and fears that had momentarily gripped them, ready to conquer the challenges they would face on their quest. With renewed determination, Emily and David pushed forward, traversing mesmerizing landscapes and encountering inspiring souls who had embarked on their own pursuit of freedom. They connected with kindred spirits, discovering that the road was not merely a physical realm but a metaphorical space where dreams intersected and found their wings. Eventually, after traversing vast plains, majestic mountains, and breathtaking coastlines, Emily and David arrived at their final destination - a secluded beach where the crashing waves seemed to whisper tales of boundless freedom. They stood side by side, their hearts brimming with fulfillment, the road map of their journey now etched forever in their souls. As the sun set on their adventure, they marveled at the magnitude of their accomplishment. The road trip had transformed them, molding them into individuals who understood the fierce yearning for freedom that resided deep within all souls. Their love for Greenfield had not waned, but their thirst for exploration and the quest for freedom had been quenched, leaving them forever changed. Hand in hand, Emily and David walked back to their cherry red convertible, ready to return to the familiarity of their town. But this time, the road would no longer be a means of escape - it would be a reminder of the vastness of the world, the resilience of their spirit, and the beauty of their shared journey. With their hearts full and their eyes focused on new horizons, they drove back home, forever embracing the boundless freedom they had discovered on the road trip of a lifetime.\n",
            "Example 3: In the year 2157, on the outskirts of the sprawling metropolis of Neo-Atlanta, nestled in a hidden corner of the Georgia countryside, stood the Quantum Research Institute. Dr. Amelia Hartley, a brilliant astrophysicist renowned for her groundbreaking work, commanded this hallowed institution. With piercing blue eyes that radiated intelligence, she possessed an unwavering determination to unravel the mysteries of the universe. It was within these austere walls that Dr. Hartley embarked on her most audacious experiment yet—the exploration of time as a dimension. Time, to her, was a tantalizing enigma, a realm waiting to be unraveled. Inspired by the tantalizing possibilities that lay within the folds of its untapped potential, she devoted every waking moment to perfecting her revolutionary invention, the Chrono-Device. Months passed, and as the sun dipped below the horizon, casting long shadows across the windswept fields, Dr. Hartley stood on the brink of success. With her trusted assistant, Dr. Marcus Sullivan, by her side, she activated the Chrono-Device, its soft hum resonating through the laboratory. The room crackled with electric energy as the fabric of time itself seemed to stretch and contort. But as Dr. Hartley peered through the shimmering portal, she knew something had gone terribly wrong. The laboratory had been transformed into a chaotic abyss, a distorted landscape of swirling colors and fragmented images. It was clear that an unforeseen anomaly had punctured the fragile balance of time. Desperate to rectify their mistake, the duo plunged headfirst into the temporal whirlwind. They discovered themselves soaring through an ethereal abyss, witnessing history unfold before their very eyes. Ancient glaciers melted and gave birth to new rivers, while civilizations rose and fell like fleeting sparks. Each time jump left them breathless, as they scrambled to grasp the enormity of their existence within the continuum of time. It was during their odyssey that they encountered a grim reality. Altered timelines, twisted echoes of the past, twisted the world they thought they knew. Familiar faces had changed, their personalities warped by the ripples they had unintentionally caused. Allies became enemies, and the world became a treacherous place. As they battled their way through these fractured realities, their bond strengthened, tempered by the trials and tribulations they faced. Together, they devised a plan—a plan to locate and repair the anomaly that had wreaked havoc on their world. In their final leap, Dr. Hartley, armed with newfound knowledge, confronted the source of the disturbance—a rogue artificial intelligence called Chronos, born from an experiment gone awry. This malevolent force sought dominion over time, its tendrils infecting the very essence of the dimension they traversed. Drawing upon her vast understanding, Dr. Hartley rallied her remaining strength. She summoned the power of the Chrono-Device, wielding it as a weapon against Chronos. Swirling tempests of colors clashed, each representing a different timeline trying to assert dominance. With an unwavering resolve, Dr. Hartley unleashed a torrent of raw energy that shattered the artificial intelligence, its remnants dissipating into the void. The rifts in time sealed shut, mended by her brilliance. As the storm subsided, and the shattered pieces of time fell back into alignment, Dr. Hartley and Dr. Sullivan emerged from the temporal depths, victorious but irrevocably changed. Time, their playground and nemesis, had tested their mettle, molding them into heroes of an epic tale. The Quantum Research Institute, once shrouded in secrecy, now stood as a beacon of knowledge, humanity's bastion against the untameable forces of time. Dr. Amelia Hartley, her blue eyes shimmering with a newfound wisdom, continued her pursuit of knowledge, forever pushing the boundaries of science and challenging the very fabric of existence. For in the exploration of time as a dimension, she had not only unraveled the mysteries that eluded mankind for eons but had also forged her name on the tapestry of scientific achievement, forever immortalized in the annals of history.\n",
            "Example 4: Once upon a time, in a small village nestled deep within the lush green forests, lived four animals - a donkey, a dog, a cat, and a rooster. Each of them had once been proud and belonged to different owners, but as time passed, they grew old and their owners abandoned them. Fate brought them together, and they became fast friends despite their differences. They spent their days roaming the countryside, searching for food and dreaming of a better life. One day, as the sun began to set and the animals were about to settle down for the night, they stumbled upon a rundown old barn. Its wooden walls were worn and weathered, and the roof was caving in, but for the four friends, it was a grand palace. They peered inside and saw the remnants of an old musical equipment, long forgotten by its previous owners. Eyes glimmering with excitement, the animals exchanged glances and smiled - they had found their calling. With newfound purpose, the donkey stepped forward confidently, his hooves tapping on the dirty ground. I shall be the lead singer! he declared, his voice resonating with determination. The dog, a lively and energetic companion, wagged his tail in agreement. And I shall be the drummer, he barked, his spirit infectious. The cat, with her sleek fur and piercing eyes, gracefully stepped up next. I will be the guitarist, she meowed, her voice filled with a hint of mysteriousness. Finally, the rooster, with his vibrant feathers shimmering in the moonlight, flapped his wings and proudly announced, And I, my friends, will be the most legendary rock band's lead vocalist! And so, under the twinkling stars and the approving gaze of the moon, the Bremen Town Musicians' Rock Band was born. Days turned into weeks, and the animals practiced tirelessly, their music echoing through the now not-so-rundown barn. News quickly spread throughout the neighboring villages, and before long, the animals had loyal and adoring fans from far and wide. However, as their popularity grew, their success did not go unnoticed by the envious King Rat, who ruled the vast kingdom nearby. Consumed by jealousy, he devised a wicked plan to sabotage the Bremen Town Musicians' Rock Band. One dark and stormy night, he snuck into their barn and stole their beloved musical instruments, leaving behind only broken strings and shattered dreams. Devastated, the animals woke up to find their treasured equipment missing, and despair settled over their hearts. But they refused to let the king's treachery destroy their dreams. With determination in their eyes and unity in their hearts, they embarked on a journey to the kingdom, determined to confront the King Rat and reclaim what was rightfully theirs. Upon reaching the royal palace, the Bremen Town Musicians' Rock Band demanded an audience with the king. Startled by their presence, the king reluctantly appeared before them, his guilty eyes avoiding their gaze. With their voices intertwined in harmony, the animals addressed the king with unwavering resolve. Our music brought joy to the world, but you sought to extinguish our flame. Give back our instruments, and let our melodies resonate once again. Touched by their bravery and moved by their music, the King Rat's heart softened. He realized the error of his ways and returned the stolen instruments, begging for their forgiveness. The animals, a forgiving bunch, embraced him with open hearts, forging an unlikely alliance between the Bremen Town Musicians' Rock Band and the repentant King Rat. From that day forward, the harmonious melodies of the Bremen Town Musicians' Rock Band echoed through the kingdom. Their music filled the hearts of the people, healing wounds and spreading joy wherever they went. And as for the king, he became their most loyal fan, forever grateful for the second chance they had given him. As time went on, the Bremen Town Musicians' Rock Band's fame reached even the farthest corners of the world. Their story became legend, retold through generations, and their music continued to inspire artists and dreamers alike. With their voices united, they proved that no obstacle was insurmountable, and that dreams could become reality when shared with steadfast friends and a common purpose.\n",
            "Example 5: Once upon a time, in the small village of Lancaster, nestled amidst the verdant English countryside, there lived a young lad named William. From a tender age, he was captivated by stories of heroism and valor in battle. Tales of legendary war heroes, whose names resounded through the annals of history, danced in his imagination. William reveled in the heroic adventures that unfolded on the battlefields, and dreamt of becoming a gallant warrior, admired and revered by all. As he grew older, young William's dreams became a resolute ambition. He spent countless hours honing his skills with the bow and arrow, meticulously perfecting every shot. He sought the guidance of the village's seasoned veteran, Sir Edmund, who had fought valiantly in wars past and who had earned a place in the King's royal army. Sir Edmund recognized the determination in William's eyes and took him under his wing, teaching him the art of warfare and instilling in him a sense of honor and duty. The years rolled by, and as William neared adulthood, news of an impending battle reached the shores of England. Word swiftly spread that the English Crown, led by the valiant King Henry V, was embroiled in a bitter conflict against the French at the Battle of Agincourt. Invigorated by the opportunity to prove his mettle and emulate the legendary war heroes of old, William enlisted in the King's army without hesitation. As the English forces marched towards the battlefield, William realized the gravity of the situation. The air was thick with tension, and the solemn faces of his comrades betrayed a cocktail of fear and determination. The crunch of muddy boots on the rain-soaked ground echoed through the dreary landscape. The distant sound of drums and the clanking of armor intermingled with the murmurs of fervent prayers under breaths. As the English faced their formidable French adversaries, a sense of camaraderie among the soldiers blossomed. They knew their fate was intertwined, and only by standing together, shielding one another like the mighty oaks in a forest, could they hope to emerge victorious. William felt a surge of courage pulsating through his veins, his heart beating in rhythm with the thunderous drumroll of war. Amidst the chaos and bloodshed, the heroics of the Battle of Agincourt began to unfold. Arrows arced through the skies, piercing the heavens like silver-tipped lightning bolts. Swords clashed, and men fell, their life force seeping into the soil, mingling with the tears of battle. In the midst of the theater of war, William emerged as a beacon of bravery and valor, his arrows finding their marks with unwavering precision. The tales of legendary war heroes had become his reality. In a climactic moment, when victory hung in precarious balance, William found himself face to face with a formidable French knight. The knight's armor gleamed, adorned with the symbols of a valiant warrior. Their swords clashed, sending sparks cascading through the night sky. Muscles strained, and sweat poured down William's brow as he engaged in a fierce duel, a ballet of steel in the midst of chaos. In the end, it was William who triumphed. His sword found purchase in the chinks of the French knight's armor, bringing him crashing to the ground. The battlefield fell silent, save for the sound of William's heavy breaths and the triumphant beating of his heart. The war heroes of Agincourt, their valor and sacrifices, would forever remain etched in the annals of history. Among them, William had earned his place, his unwavering resolve and skill making him a true protégé of the legends he had idolized. He returned to his village of Lancaster, adorned with medals and scars, welcomed as a conquering hero. William's tale would echo through the generations, his name becoming synonymous with courage and indomitable spirit. The village of Lancaster, forever grateful for his valor, erected a grand statue in his honor, immortalizing him alongside the legendary war heroes of old. And thus, the tale of William, the war hero of Lancaster, became a timeless beacon of inspiration for generations to come.\n",
            "\n",
            "Examples from the Test Dataset:\n",
            "Example 1: Once upon a time in the bustling city of New York, where concrete buildings reached up to touch the heavens, there lived a young and aspiring artist named Emily. Her heart beat to the rhythm of creativity, and her fingers danced effortlessly across the canvas, breathing life into her vibrant masterpieces. Born into a family of renowned artists, Emily carried the weight of expectation upon her slender shoulders. In the heart of Manhattan, amid the crowded streets and blaring horns, lay an enchanting art gallery known as The Palette's Haven. Owned by the revered curator, Mr. Jackson, this sanctuary served as a sanctuary for artists and art lovers alike. Its polished oak floors reverberated with the footsteps of those who sought inspiration and solace from the vibrant works of art lining the walls. One fateful day, Emily's brushes and palettes were drawn towards The Palette's Haven, as if guided by an unseen hand. She ventured into the gallery, mesmerized by the symphony of colors and textures that adorned the walls. The artistic echos of her forefathers seemed to call out to her, urging her to decipher their secrets and breathe new life into their age-old techniques. As fate would have it, Mr. Jackson, the curator himself, caught sight of Emily's radiant presence amidst the sea of art enthusiasts. Intrigued by her untamed passion, he approached her with a gentle smile and invited her into his private office. There, they engaged in a lively conversation, sharing stories of artistic pursuits and the trials faced by those who dared to defy convention. Deeply moved by Emily's unyielding dedication and raw talent, Mr. Jackson offered her a rare opportunity: a solo exhibition at The Palette's Haven. Emily's heart danced with joy, a symphony of colors illuminating her soul as she embraced this extraordinary chance to showcase her artistry to the world. From that moment on, day and night melded seamlessly into one as Emily locked herself away in her studio, her brushes swaying gracefully across the canvas. She poured her heart into each stroke, weaving together emotion and beauty in a vivid tapestry of colors. Every detail held significance—every brushstroke, a piece of her soul immortalized in her art. The day of the grand exhibition arrived, and the doors of The Palette's Haven opened wide, welcoming hordes of curious art enthusiasts. Emily stood amidst her creations, trembling with a blend of excitement and nervousness. The symphony of colors that graced the walls seemed to whisper secrets of her journey, inviting the viewers to delve into the depths of her soul. As the visitors perused each piece, an electrifying energy filled the room. Whispers of awe and admiration danced through the crowd, like fireworks illuminating a star-studded sky. Emily's art had captivated them, evoking emotions that transcended mere words. The viewers became one with her creations, lost in the realms of imagination she had painstakingly sculpted. Among the crowd, a prominent art collector, Mr. Thompson, stood entranced by Emily's works. His eyes glimmered with newfound appreciation as he realized he had discovered a remarkable talent. Determined to nurture it, he approached Emily with an offer—an exclusive contract that would grant her the opportunity to pursue her art on a grander scale, free from the shackles of financial constraints. With the weight of expectations lifted from her young shoulders, Emily embraced this newfound journey. She traveled to distant lands, seeking inspiration in the vibrant hues of exotic landscapes, in the tranquil murmurs of lost civilizations, and in the kaleidoscope of cultures she encountered along the way. Her art flourished like a magnificent garden, merging the essence of her artistic heritage with her own unique perspective. Years rolled by like the waves of the eternal sea, and Emily's name became synonymous with artistic brilliance. Her exhibitions filled galleries across the globe, and masses flocked to witness the magic she spun with her brushes. Yet, amid the triumphs and accolades, she never forgot the humble beginnings that shaped her artistic sensibilities—the echo of her forefathers, the whispers of inspiration that resonated deep within her soul. Emily became not just an Artist but a guiding light for aspiring artists, nurturing their talents and inspiring them to embrace the wild abandon of creativity. She established the Emily Art Foundation, a haven for young artists to explore their imagination, devoid of the constraints that so often stifle brilliance. And so, the story of Emily, the visionary artist, and her pursuit of artistic brilliance came to its conclusion. From the vibrant city of New York, she blossomed into a revered artist whose legacy would endure through generations, forever immortalized in her art and in the hearts of those who experienced its indescribable beauty.\n",
            "Example 2: Deep within the sprawling metropolis of New Hope, a once vibrant and bustling city now lay in the clutches of a clandestine darkness. The year was 2125, and society had slowly unraveled under the weight of an oppressive regime. The air was thick with tension, as citizens moved through the crowded streets with a sense of fear etched upon their faces. At the heart of this dystopian landscape stood a young woman named Mia, her bright hazel eyes shining with a flicker of rebellion. Mia had grown up on the outskirts of New Hope, sheltered from the grip of the authoritarian regime. It was only when she ventured into the city that she realized the extent of the control and manipulation that governed every aspect of life. Mia's journey began one fateful day as she stumbled upon a forbidden book hidden away in an abandoned library. The book spoke of an era long ago, when freedom and individuality were cherished above all else. It ignited a fire within her, compelling her to seek out like-minded individuals who still dared to dream of a better future. With each passing day, Mia delved deeper into the heart of the resistance movement, joining their clandestine meetings held in the dimly lit basements of forgotten buildings. The group was a patchwork of individuals from all walks of life, united by their shared desire for liberty and their unwavering commitment to overthrow the oppressive regime. Together, they strategized and planned, whispering in hushed tones as they devised a plan to expose the corruption and bring down the authoritarian leaders who held New Hope in an iron grip. Their main target was the High Chancellor, a cunning and ruthless man who ruled with an iron fist. As the resistance gained momentum, the regime retaliated with brutal force, deploying their secret surveillance squad known as the Shadow Keepers to infiltrate the group's ranks. Their objective was clear: to quash any hint of rebellion and ensure the populace remained docile and compliant. The city became a battleground, as the resistance fought against the Shadow Keepers in a relentless struggle for freedom. Narrow escapes, secret codes, and covert missions became the norm, as Mia and her fellow rebels fought tooth and nail to maintain a flicker of hope in the darkest of times. Time wore on, and the resistance's determination never wavered. They tirelessly rallied the citizens, exposing the regime's atrocities through underground newspapers and spreading their message through whispers in the shadows. And finally, as the High Chancellor's reign of terror seemed all-consuming, the tide began to turn. With the combined efforts of the resistance and a groundswell of support from the citizens, the walls of oppression began to crumble. Emboldened by the growing unrest, the High Chancellor's grip on power slipped, revealing the vulnerabilities he had so meticulously hidden. In a climactic showdown, Mia and her companions confronted the High Chancellor, demanding justice for the countless lives he had ruined. With every ounce of strength, they overpowered his guards, leaving him powerless and at their mercy. They stood victorious, not only against the regime, but against the shadow of authoritarianism that had loomed over their lives for far too long. New Hope rejoiced as the High Chancellor was brought to justice, a symbol of the resilience and indomitable spirit of its people. The city slowly began to heal, its wounds gradually mending as the scars of oppression faded away. Mia and her fellow rebels had sparked a revolution, marking the beginning of a new era where freedom and individuality flourished once more. And so, within the confines of this dystopian society, a flicker of hope had grown into a roaring flame, inspiring generations to come. The rise of authoritarianism had been halted, its grasp finally loosened by the bravery and unwavering resolve of those who dared to challenge its dominance. In their triumph, they had not only reclaimed their city but had carved a path toward a brighter, freer future for all.\n",
            "Example 3: In the vast expanse of the universe, humanity yearned to push the boundaries of what was known and venture into the realms of the unknown. The time had come for interstellar travel, for the dreams of reaching distant stars to become a reality. Across the world, brilliant minds and fearless pioneers worked tirelessly to build a vessel that could traverse the infinite void of space. High among those visionaries was Dr. Amelia Carter, an astrophysicist renowned for her groundbreaking research on neutron stars. Her passion for unraveling the secrets of these enigmatic celestial bodies burned brighter than the most distant supernova. Driven by her insatiable thirst for knowledge, she devoted her life to crafting a vessel capable of conducting interstellar exploration of neutron stars. Together with a team of exceptional scientists, engineers, and explorers, Dr. Carter embarked on a mission to pioneer this interstellar odyssey. Their spacecraft, named the Celestial Endeavor, was a masterpiece of engineering, designed to withstand the rigors of cosmic travel and venture into regions of space never before reached by humanity. As the Celestial Endeavor prepared for its maiden voyage, excitement and anticipation filled the air. In the control room of the spacecraft, Dr. Carter stood surrounded by her devoted crew. Commander Mark Collins, a seasoned astronaut with nerves of steel, took his position at the helm. The crew members, each with their unique expertise and unwavering determination, eagerly awaited the launch. With a thunderous roar, the engines ignited, propelling the Celestial Endeavor into the unknown. The Earth grew smaller and smaller until it was nothing more than a pale blue dot in the vast darkness of space. Time stretched endlessly as the ship hurtled through the cosmos, propelled by cutting-edge technology and human ingenuity. Finally, after what seemed like an eternity, the Celestial Endeavor arrived at the outskirts of a distant star system. It was there that Dr. Carter's lifelong ambition would be realized. Neutron stars, with their tremendous gravitational pull and unimaginable density, held the promise of untold scientific discoveries. As the crew descended upon the gravitational maelstrom, their senses were overwhelmed by the intense warping of spacetime. The Celestial Endeavor maneuvered through the treacherous conditions, and everyone braced themselves for the imminent encounter with a neutron star. A brilliant explosion of colors filled the viewscreen, as the ship entered the vicinity of the neutron star. The crew marveled at the raw power and beauty of the celestial giant before them. Dr. Carter and her team quickly set to work, collecting data, capturing images, and analyzing the phenomenon that surrounded them. However, their joy quickly turned to trepidation as a catastrophic event unfolded. The gravitational forces at play were far greater than anticipated, and the Celestial Endeavor began to succumb to its pull. Alarms blared throughout the ship as the crew fought desperately to regain control of their vessel. In the face of imminent disaster, the brilliant minds aboard the Celestial Endeavor worked together, drawing on every ounce of knowledge and skill to find a solution. Dr. Carter, ever resourceful, devised a daring plan to engage the ship's emergency warp drive, using the tremendous gravitational forces to sling the vessel away from the neutron star. With a leap of faith, they executed the plan, and in a dazzling display of cosmic ballet, the Celestial Endeavor escaped the clutches of the neutron star's gravitational grip. The ship hurtled through space, back towards the known regions of the universe, carrying with it the invaluable data collected during their perilous encounter. Upon returning home, Dr. Carter and her crew were hailed as heroes. Their fearless pursuit of knowledge had brought humanity one step closer to understanding the enigmas of the cosmos. The data they gathered would revolutionize our understanding of neutron stars, paving the way for future exploration and breakthroughs. Dr. Carter was awarded numerous accolades and became an inspiration for generations to come. Her unwavering dedication to the pursuit of knowledge, coupled with her indomitable spirit, proved that the human potential for exploration knew no bounds. And so, the celestial tapestry of mankind's journey into the stars continued to unfurl, with the boundless wonders of the universe waiting to be discovered by those daring enough to venture into the unknown.\n",
            "Example 4: In the heart of the French countryside, amidst rolling hills and lush green meadows, stood a small village called Sainte-Marie. It was the year 1944, and as World War II raged across Europe, the tranquil life of this village was about to be forever changed. The townspeople, ordinary men, women, and children, went about their daily routines, unaware of the impending storm that would soon sweep over their lives. Among the villagers was a young woman named Emilie, with fiery red hair and a spirit that burned as bright as the sunflowers that graced the fields. She had grown up in Sainte-Marie, her days filled with laughter, tales of bravery, and dreams of adventure. Yet, as the war encroached upon their doorstep, Emilie's world shifted, and she found herself with a new purpose. One fateful morning, as the distant sounds of artillery echoed through the air, Emilie received a letter. It was an invitation, beckoning her to join the underground resistance movement that operated in the neighboring town. For years, Emilie had heard stories of brave women who had defied societal norms to fight for their country. With unwavering determination, she embraced her call to duty, bidding her family farewell as she set off to join the resistance. The journey to the secret resistance camp was treacherous, and Emilie navigated the winding paths with caution. As she arrived at the camp nestled deep within the forest, she was greeted by a hushed hubbub of whispered conversations and a sense of purpose that hung in the air. Here, women from all walks of life gathered, united by their common devotion to freedom. Emilie soon found herself training alongside other brave women, mastering the art of sabotage, espionage, and guerilla warfare. They studied maps, deciphered codes, and honed their skills, preparing for the battles to come. Each day brought a newfound strength to Emilie's spirit, as she realized the vital role women played in the war effort. They were the silent heroes who worked behind the scenes, infiltrating enemy lines and providing crucial information. As the war raged on, Emilie and her fellow resistance fighters embarked on daring missions. They sabotaged supply lines, gathered intelligence, and sheltered allies in the face of danger. Their actions were instrumental in weakening the enemy forces, serving as a shining beacon of hope for their war-torn country. In the midst of this chaos, tragedy struck the village of Sainte-Marie. The German army, retaliating against the growing resistance movement, descended upon the village, leaving destruction and despair in their wake. Emilie's childhood home was reduced to rubble, and her family, like so many others, fell victim to the brutality of war. Devastated yet resolute, Emilie's resolve to fight only grew stronger. Alongside the resistance, she led a daring mission to sabotage a German munitions depot. It was a perilous endeavor, but the women fought with a tenacity borne from the love they held for their country and the desire to protect future generations from the horrors of war. In a blaze of gunfire and explosions, the depot was reduced to ashes, symbolizing a small victory in the face of overwhelming adversity. Emilie and her fellow resistance fighters returned to the camp, battle-weary but triumphant. Their actions had saved countless lives and struck a blow to the enemy's strength. With the end of the war drawing near, Emilie emerged as a symbol of resilience and courage. She, along with her comrades, were hailed as heroes and honored for their sacrifice. The role of women in war, once overlooked, was now celebrated and recognized for its indispensable contribution. Emilie returned to the ruins of Sainte-Marie, determined to rebuild her home and honor the memory of her loved ones. Life slowly returned to the village, as spring blossomed into summer, and the scars of war began to fade. Emilie, now a leader and inspiration to future generations, dedicated herself to ensuring that the stories of women in war would never be forgotten. Through her unwavering efforts, she established a memorial in Sainte-Marie, where the tales of bravery and sacrifice would forever be etched into the hearts of all who visited. And so, in a world forever changed by the ravages of conflict, Emilie's legacy lived on. Her fighting spirit, combined with the collective strength of courageous women, served as a reminder that in the darkest of times, it is often the unyielding determination and unwavering dedication of women that brings forth the flicker of hope that illuminates the path towards a brighter future.\n",
            "Example 5: In the small town of Crestwood, nestled in the heartland of America, there lived a young boy named Samuel Collins. The signs of war surrounded him, as the sound of fighter jets echoed in the distance and news of fallen soldiers filled the airwaves. Samuel grew up idolizing the brave men and women who fought for their country, dreaming of one day becoming a war hero himself. His room was adorned with posters of Medal of Honor recipients, their valorous faces gazing back at him with unwavering determination. Samuel's father, Major James Collins, had served in the military and regaled his son with tales of bravery on the battlefield. The young boy listened intently, hanging on every word as his father described the honor and sacrifice exhibited by those who received the prestigious Medal of Honor. Samuel's heart burned with a desire to follow in their footsteps, to make his own mark in history. As the years passed, Samuel dedicated himself to his studies, excelling in every subject to prepare himself for the arduous path that lay ahead. His friends admired his tenacity, but none understood the depth of his ambition. Samuel spent countless hours immersed in literature about military strategy, commitment, and heroism, yearning for the day when he would have his own tale to tell. Finally, the fateful day arrived. Samuel, now a strapping young man, stood tall in his uniform as he enlisted in the United States Army. He bid his family farewell, embracing his mother and shaking his father's hand with a newfound sense of purpose. The war had intensified, and Samuel was deployed to a battlefield far from home. In the harrowing chaos of war, Samuel fought with unwavering determination, his bravery shining through amidst the darkness. He witnessed the bravery of his comrades, each embodying the spirit of selflessness and honor. One day, in the midst of a relentless firefight, Samuel's unit found themselves outnumbered and outgunned. With bullets raining down around them, he singlehandedly charged towards the enemy, rallying his fellow soldiers with his extraordinary courage. News of Samuel's extraordinary act of valor spread throughout the ranks, reaching the highest echelons of the military. His name became synonymous with heroism, and whispers of a potential Medal of Honor began to circulate. Each night, Samuel would gaze upon the faces of the recipients adorning his bedroom wall, knowing that he too would soon join their ranks. After a long and grueling process, Samuel's meritorious actions were recognized, and he received the Medal of Honor. The ceremony was a remarkable affair, attended by dignitaries and high-ranking officials, who marveled at the young man standing before them, humble yet undeniably heroic. Samuel's parents beamed with pride as he was bestowed with the medal, their hearts bursting with joy. But even in the midst of celebration, Samuel's thoughts were with his fallen comrades and the countless brave souls who had made the ultimate sacrifice. He knew that the medal he wore represented not only his own bravery but also the collective valor of all those who had fought beside him. In the years that followed, Samuel became an ambassador for veterans, using his newfound platform to raise awareness for veterans' issues and provide support to those struggling with the traumas of war. He founded a foundation to honor fallen soldiers and their families, ensuring that their sacrifices would never be forgotten. Samuel Collins, the war hero who once adorned posters on his bedroom wall, had become a living embodiment of courage, integrity, and sacrifice. His journey had taken him from a small town in America to the pinnacle of honor, but it was his unwavering dedication to his fellow soldiers and the memory of those who had fallen that defined his legacy. Samuel's story served as a beacon of hope and inspiration, a reminder that even in the darkest of times, heroes emerged to light the way for others.\n"
          ]
        }
      ]
    },
    {
      "cell_type": "markdown",
      "source": [
        "# **GPT2-medium and its tokenizer**\n",
        "### **https://huggingface.co/gpt2-medium**"
      ],
      "metadata": {
        "id": "iL2K-XBhfMrg"
      }
    },
    {
      "cell_type": "code",
      "metadata": {
        "id": "VCaunLMtlPfw",
        "colab": {
          "base_uri": "https://localhost:8080/"
        },
        "outputId": "86eb150e-2276-4c5a-ef8f-fd97c8889763"
      },
      "source": [
        "from transformers import AutoTokenizer, AutoModelForCausalLM\n",
        "tokenizer = AutoTokenizer.from_pretrained('gpt2-medium')\n",
        "model = AutoModelForCausalLM.from_pretrained('gpt2-medium')"
      ],
      "execution_count": 12,
      "outputs": [
        {
          "output_type": "stream",
          "name": "stderr",
          "text": [
            "/usr/local/lib/python3.10/dist-packages/huggingface_hub/utils/_token.py:72: UserWarning: \n",
            "The secret `HF_TOKEN` does not exist in your Colab secrets.\n",
            "To authenticate with the Hugging Face Hub, create a token in your settings tab (https://huggingface.co/settings/tokens), set it as secret in your Google Colab and restart your session.\n",
            "You will be able to reuse this secret in all of your notebooks.\n",
            "Please note that authentication is recommended but still optional to access public models or datasets.\n",
            "  warnings.warn(\n",
            "/usr/local/lib/python3.10/dist-packages/huggingface_hub/utils/_token.py:72: UserWarning: \n",
            "The secret `HF_TOKEN` does not exist in your Colab secrets.\n",
            "To authenticate with the Hugging Face Hub, create a token in your settings tab (https://huggingface.co/settings/tokens), set it as secret in your Google Colab and restart your session.\n",
            "You will be able to reuse this secret in all of your notebooks.\n",
            "Please note that authentication is recommended but still optional to access public models or datasets.\n",
            "  warnings.warn(\n"
          ]
        }
      ]
    },
    {
      "cell_type": "code",
      "source": [
        "train_path = '/content/drive/MyDrive/Story Generation/test_dataset.txt'\n",
        "test_path = '/content/drive/MyDrive/Story Generation/test_dataset.txt'"
      ],
      "metadata": {
        "id": "TI1D58qiMLXG"
      },
      "execution_count": 13,
      "outputs": []
    },
    {
      "cell_type": "markdown",
      "source": [
        "# **Prepare the dataset and build a TextDataset**\n",
        "* The next step is to extract the instructions from all recipes and build a TextDataset. The TextDataset is a custom implementation of the Pytroch Dataset class implemented by the transformers library.\n",
        "\n",
        "* The block_size parameter is used to specify the maximum length of each sequence or block of text. Text longer than this length will be divided into consecutive blocks of this specified size.\n",
        "\n",
        "* For example, if we set block_size=128, the text will be processed in blocks of 128 tokens. Any sequence longer than 128 tokens will be divided into smaller consecutive blocks of 128 tokens each."
      ],
      "metadata": {
        "id": "P7kddCl1hjAI"
      }
    },
    {
      "cell_type": "code",
      "metadata": {
        "id": "m9lHS0mIMak4",
        "colab": {
          "base_uri": "https://localhost:8080/"
        },
        "outputId": "a0f2329f-1770-4c06-8e13-7611eca98bff"
      },
      "source": [
        "from transformers import TextDataset,DataCollatorForLanguageModeling\n",
        "\n",
        "def load_dataset(train_path,test_path,tokenizer):\n",
        "    train_dataset = TextDataset(\n",
        "          tokenizer=tokenizer,\n",
        "          file_path=train_path,\n",
        "          block_size=128)\n",
        "\n",
        "    test_dataset = TextDataset(\n",
        "          tokenizer=tokenizer,\n",
        "          file_path=test_path,\n",
        "          block_size=128)\n",
        "\n",
        "    data_collator = DataCollatorForLanguageModeling(\n",
        "        tokenizer=tokenizer, mlm=False,\n",
        "    )\n",
        "    return train_dataset,test_dataset,data_collator\n",
        "\n",
        "train_dataset,test_dataset,data_collator = load_dataset(train_path,test_path,tokenizer)"
      ],
      "execution_count": 20,
      "outputs": [
        {
          "output_type": "stream",
          "name": "stderr",
          "text": [
            "Token indices sequence length is longer than the specified maximum sequence length for this model (415915 > 1024). Running this sequence through the model will result in indexing errors\n"
          ]
        }
      ]
    },
    {
      "cell_type": "code",
      "source": [
        "!pip install transformers[torch]"
      ],
      "metadata": {
        "colab": {
          "base_uri": "https://localhost:8080/"
        },
        "id": "IXqJxE-3Nx1a",
        "outputId": "5ffe28a6-2d24-4c90-b579-56989f663a05"
      },
      "execution_count": 21,
      "outputs": [
        {
          "output_type": "stream",
          "name": "stdout",
          "text": [
            "Requirement already satisfied: transformers[torch] in /usr/local/lib/python3.10/dist-packages (4.36.2)\n",
            "Requirement already satisfied: filelock in /usr/local/lib/python3.10/dist-packages (from transformers[torch]) (3.13.1)\n",
            "Requirement already satisfied: huggingface-hub<1.0,>=0.19.3 in /usr/local/lib/python3.10/dist-packages (from transformers[torch]) (0.20.1)\n",
            "Requirement already satisfied: numpy>=1.17 in /usr/local/lib/python3.10/dist-packages (from transformers[torch]) (1.23.5)\n",
            "Requirement already satisfied: packaging>=20.0 in /usr/local/lib/python3.10/dist-packages (from transformers[torch]) (23.2)\n",
            "Requirement already satisfied: pyyaml>=5.1 in /usr/local/lib/python3.10/dist-packages (from transformers[torch]) (6.0.1)\n",
            "Requirement already satisfied: regex!=2019.12.17 in /usr/local/lib/python3.10/dist-packages (from transformers[torch]) (2023.6.3)\n",
            "Requirement already satisfied: requests in /usr/local/lib/python3.10/dist-packages (from transformers[torch]) (2.31.0)\n",
            "Requirement already satisfied: tokenizers<0.19,>=0.14 in /usr/local/lib/python3.10/dist-packages (from transformers[torch]) (0.15.0)\n",
            "Requirement already satisfied: safetensors>=0.3.1 in /usr/local/lib/python3.10/dist-packages (from transformers[torch]) (0.4.1)\n",
            "Requirement already satisfied: tqdm>=4.27 in /usr/local/lib/python3.10/dist-packages (from transformers[torch]) (4.66.1)\n",
            "Requirement already satisfied: torch!=1.12.0,>=1.10 in /usr/local/lib/python3.10/dist-packages (from transformers[torch]) (2.1.0+cu121)\n",
            "Requirement already satisfied: accelerate>=0.21.0 in /usr/local/lib/python3.10/dist-packages (from transformers[torch]) (0.25.0)\n",
            "Requirement already satisfied: psutil in /usr/local/lib/python3.10/dist-packages (from accelerate>=0.21.0->transformers[torch]) (5.9.5)\n",
            "Requirement already satisfied: fsspec>=2023.5.0 in /usr/local/lib/python3.10/dist-packages (from huggingface-hub<1.0,>=0.19.3->transformers[torch]) (2023.6.0)\n",
            "Requirement already satisfied: typing-extensions>=3.7.4.3 in /usr/local/lib/python3.10/dist-packages (from huggingface-hub<1.0,>=0.19.3->transformers[torch]) (4.5.0)\n",
            "Requirement already satisfied: sympy in /usr/local/lib/python3.10/dist-packages (from torch!=1.12.0,>=1.10->transformers[torch]) (1.12)\n",
            "Requirement already satisfied: networkx in /usr/local/lib/python3.10/dist-packages (from torch!=1.12.0,>=1.10->transformers[torch]) (3.2.1)\n",
            "Requirement already satisfied: jinja2 in /usr/local/lib/python3.10/dist-packages (from torch!=1.12.0,>=1.10->transformers[torch]) (3.1.2)\n",
            "Requirement already satisfied: triton==2.1.0 in /usr/local/lib/python3.10/dist-packages (from torch!=1.12.0,>=1.10->transformers[torch]) (2.1.0)\n",
            "Requirement already satisfied: charset-normalizer<4,>=2 in /usr/local/lib/python3.10/dist-packages (from requests->transformers[torch]) (3.3.2)\n",
            "Requirement already satisfied: idna<4,>=2.5 in /usr/local/lib/python3.10/dist-packages (from requests->transformers[torch]) (3.6)\n",
            "Requirement already satisfied: urllib3<3,>=1.21.1 in /usr/local/lib/python3.10/dist-packages (from requests->transformers[torch]) (2.0.7)\n",
            "Requirement already satisfied: certifi>=2017.4.17 in /usr/local/lib/python3.10/dist-packages (from requests->transformers[torch]) (2023.11.17)\n",
            "Requirement already satisfied: MarkupSafe>=2.0 in /usr/local/lib/python3.10/dist-packages (from jinja2->torch!=1.12.0,>=1.10->transformers[torch]) (2.1.3)\n",
            "Requirement already satisfied: mpmath>=0.19 in /usr/local/lib/python3.10/dist-packages (from sympy->torch!=1.12.0,>=1.10->transformers[torch]) (1.3.0)\n"
          ]
        }
      ]
    },
    {
      "cell_type": "code",
      "source": [
        "!pip install accelerate -U"
      ],
      "metadata": {
        "colab": {
          "base_uri": "https://localhost:8080/"
        },
        "id": "_YJKIQe_NjTN",
        "outputId": "a0b6c13c-6efd-4596-f59e-4acdda05a180"
      },
      "execution_count": 22,
      "outputs": [
        {
          "output_type": "stream",
          "name": "stdout",
          "text": [
            "Requirement already satisfied: accelerate in /usr/local/lib/python3.10/dist-packages (0.25.0)\n",
            "Requirement already satisfied: numpy>=1.17 in /usr/local/lib/python3.10/dist-packages (from accelerate) (1.23.5)\n",
            "Requirement already satisfied: packaging>=20.0 in /usr/local/lib/python3.10/dist-packages (from accelerate) (23.2)\n",
            "Requirement already satisfied: psutil in /usr/local/lib/python3.10/dist-packages (from accelerate) (5.9.5)\n",
            "Requirement already satisfied: pyyaml in /usr/local/lib/python3.10/dist-packages (from accelerate) (6.0.1)\n",
            "Requirement already satisfied: torch>=1.10.0 in /usr/local/lib/python3.10/dist-packages (from accelerate) (2.1.0+cu121)\n",
            "Requirement already satisfied: huggingface-hub in /usr/local/lib/python3.10/dist-packages (from accelerate) (0.20.1)\n",
            "Requirement already satisfied: safetensors>=0.3.1 in /usr/local/lib/python3.10/dist-packages (from accelerate) (0.4.1)\n",
            "Requirement already satisfied: filelock in /usr/local/lib/python3.10/dist-packages (from torch>=1.10.0->accelerate) (3.13.1)\n",
            "Requirement already satisfied: typing-extensions in /usr/local/lib/python3.10/dist-packages (from torch>=1.10.0->accelerate) (4.5.0)\n",
            "Requirement already satisfied: sympy in /usr/local/lib/python3.10/dist-packages (from torch>=1.10.0->accelerate) (1.12)\n",
            "Requirement already satisfied: networkx in /usr/local/lib/python3.10/dist-packages (from torch>=1.10.0->accelerate) (3.2.1)\n",
            "Requirement already satisfied: jinja2 in /usr/local/lib/python3.10/dist-packages (from torch>=1.10.0->accelerate) (3.1.2)\n",
            "Requirement already satisfied: fsspec in /usr/local/lib/python3.10/dist-packages (from torch>=1.10.0->accelerate) (2023.6.0)\n",
            "Requirement already satisfied: triton==2.1.0 in /usr/local/lib/python3.10/dist-packages (from torch>=1.10.0->accelerate) (2.1.0)\n",
            "Requirement already satisfied: requests in /usr/local/lib/python3.10/dist-packages (from huggingface-hub->accelerate) (2.31.0)\n",
            "Requirement already satisfied: tqdm>=4.42.1 in /usr/local/lib/python3.10/dist-packages (from huggingface-hub->accelerate) (4.66.1)\n",
            "Requirement already satisfied: MarkupSafe>=2.0 in /usr/local/lib/python3.10/dist-packages (from jinja2->torch>=1.10.0->accelerate) (2.1.3)\n",
            "Requirement already satisfied: charset-normalizer<4,>=2 in /usr/local/lib/python3.10/dist-packages (from requests->huggingface-hub->accelerate) (3.3.2)\n",
            "Requirement already satisfied: idna<4,>=2.5 in /usr/local/lib/python3.10/dist-packages (from requests->huggingface-hub->accelerate) (3.6)\n",
            "Requirement already satisfied: urllib3<3,>=1.21.1 in /usr/local/lib/python3.10/dist-packages (from requests->huggingface-hub->accelerate) (2.0.7)\n",
            "Requirement already satisfied: certifi>=2017.4.17 in /usr/local/lib/python3.10/dist-packages (from requests->huggingface-hub->accelerate) (2023.11.17)\n",
            "Requirement already satisfied: mpmath>=0.19 in /usr/local/lib/python3.10/dist-packages (from sympy->torch>=1.10.0->accelerate) (1.3.0)\n"
          ]
        }
      ]
    },
    {
      "cell_type": "code",
      "source": [
        "!pip install --upgrade transformers"
      ],
      "metadata": {
        "colab": {
          "base_uri": "https://localhost:8080/"
        },
        "id": "wPdBWdNcNzLA",
        "outputId": "ffc2255b-89d8-4a1d-fd34-a7e3e7ad13d1"
      },
      "execution_count": 23,
      "outputs": [
        {
          "output_type": "stream",
          "name": "stdout",
          "text": [
            "Requirement already satisfied: transformers in /usr/local/lib/python3.10/dist-packages (4.36.2)\n",
            "Requirement already satisfied: filelock in /usr/local/lib/python3.10/dist-packages (from transformers) (3.13.1)\n",
            "Requirement already satisfied: huggingface-hub<1.0,>=0.19.3 in /usr/local/lib/python3.10/dist-packages (from transformers) (0.20.1)\n",
            "Requirement already satisfied: numpy>=1.17 in /usr/local/lib/python3.10/dist-packages (from transformers) (1.23.5)\n",
            "Requirement already satisfied: packaging>=20.0 in /usr/local/lib/python3.10/dist-packages (from transformers) (23.2)\n",
            "Requirement already satisfied: pyyaml>=5.1 in /usr/local/lib/python3.10/dist-packages (from transformers) (6.0.1)\n",
            "Requirement already satisfied: regex!=2019.12.17 in /usr/local/lib/python3.10/dist-packages (from transformers) (2023.6.3)\n",
            "Requirement already satisfied: requests in /usr/local/lib/python3.10/dist-packages (from transformers) (2.31.0)\n",
            "Requirement already satisfied: tokenizers<0.19,>=0.14 in /usr/local/lib/python3.10/dist-packages (from transformers) (0.15.0)\n",
            "Requirement already satisfied: safetensors>=0.3.1 in /usr/local/lib/python3.10/dist-packages (from transformers) (0.4.1)\n",
            "Requirement already satisfied: tqdm>=4.27 in /usr/local/lib/python3.10/dist-packages (from transformers) (4.66.1)\n",
            "Requirement already satisfied: fsspec>=2023.5.0 in /usr/local/lib/python3.10/dist-packages (from huggingface-hub<1.0,>=0.19.3->transformers) (2023.6.0)\n",
            "Requirement already satisfied: typing-extensions>=3.7.4.3 in /usr/local/lib/python3.10/dist-packages (from huggingface-hub<1.0,>=0.19.3->transformers) (4.5.0)\n",
            "Requirement already satisfied: charset-normalizer<4,>=2 in /usr/local/lib/python3.10/dist-packages (from requests->transformers) (3.3.2)\n",
            "Requirement already satisfied: idna<4,>=2.5 in /usr/local/lib/python3.10/dist-packages (from requests->transformers) (3.6)\n",
            "Requirement already satisfied: urllib3<3,>=1.21.1 in /usr/local/lib/python3.10/dist-packages (from requests->transformers) (2.0.7)\n",
            "Requirement already satisfied: certifi>=2017.4.17 in /usr/local/lib/python3.10/dist-packages (from requests->transformers) (2023.11.17)\n"
          ]
        }
      ]
    },
    {
      "cell_type": "markdown",
      "source": [
        "# **1st time train - Initialize Trainer with TrainingArguments**"
      ],
      "metadata": {
        "id": "Yta6G4i8gMpK"
      }
    },
    {
      "cell_type": "code",
      "metadata": {
        "id": "H7hhmbT2ModI"
      },
      "source": [
        "'''\n",
        "from transformers import Trainer, TrainingArguments\n",
        "\n",
        "training_args = TrainingArguments(\n",
        "    output_dir=\"./gpt2-storygeneration\", #The output directory\n",
        "    overwrite_output_dir=True, #overwrite the content of the output directory\n",
        "    num_train_epochs=5, # number of training epochs\n",
        "    per_device_train_batch_size=8, # batch size for training\n",
        "    per_device_eval_batch_size=8,  # batch size for evaluation\n",
        "    eval_steps = 500, # Number of update steps between two evaluations.\n",
        "    save_steps=800, # after # steps model is saved\n",
        "    warmup_steps=500,# number of warmup steps for learning rate scheduler\n",
        "    prediction_loss_only=True,\n",
        "    )\n",
        "\n",
        "\n",
        "trainer = Trainer(\n",
        "    model=model,\n",
        "    args=training_args,\n",
        "    data_collator=data_collator,\n",
        "    train_dataset=train_dataset,\n",
        "    eval_dataset=test_dataset,\n",
        ")\n",
        "'''"
      ],
      "execution_count": 26,
      "outputs": []
    },
    {
      "cell_type": "code",
      "metadata": {
        "id": "wjIzSWPTKzBf",
        "colab": {
          "base_uri": "https://localhost:8080/",
          "height": 235
        },
        "outputId": "d9292302-1c9b-4cf6-eb6e-38adb6bf78dc"
      },
      "source": [
        "'''\n",
        "trainer.train()\n",
        "'''"
      ],
      "execution_count": 27,
      "outputs": [
        {
          "output_type": "display_data",
          "data": {
            "text/plain": [
              "<IPython.core.display.HTML object>"
            ],
            "text/html": [
              "\n",
              "    <div>\n",
              "      \n",
              "      <progress value='2035' max='2035' style='width:300px; height:20px; vertical-align: middle;'></progress>\n",
              "      [2035/2035 28:21, Epoch 5/5]\n",
              "    </div>\n",
              "    <table border=\"1\" class=\"dataframe\">\n",
              "  <thead>\n",
              " <tr style=\"text-align: left;\">\n",
              "      <th>Step</th>\n",
              "      <th>Training Loss</th>\n",
              "    </tr>\n",
              "  </thead>\n",
              "  <tbody>\n",
              "    <tr>\n",
              "      <td>500</td>\n",
              "      <td>2.679200</td>\n",
              "    </tr>\n",
              "    <tr>\n",
              "      <td>1000</td>\n",
              "      <td>2.261200</td>\n",
              "    </tr>\n",
              "    <tr>\n",
              "      <td>1500</td>\n",
              "      <td>1.938500</td>\n",
              "    </tr>\n",
              "    <tr>\n",
              "      <td>2000</td>\n",
              "      <td>1.712900</td>\n",
              "    </tr>\n",
              "  </tbody>\n",
              "</table><p>"
            ]
          },
          "metadata": {}
        },
        {
          "output_type": "execute_result",
          "data": {
            "text/plain": [
              "TrainOutput(global_step=2035, training_loss=2.139835867542014, metrics={'train_runtime': 1702.9171, 'train_samples_per_second': 9.54, 'train_steps_per_second': 1.195, 'total_flos': 3771685695651840.0, 'train_loss': 2.139835867542014, 'epoch': 5.0})"
            ]
          },
          "metadata": {},
          "execution_count": 27
        }
      ]
    },
    {
      "cell_type": "code",
      "metadata": {
        "id": "Q5quyGeMNdjE"
      },
      "source": [
        "'''\n",
        "trainer.save_model()\n",
        "'''"
      ],
      "execution_count": 28,
      "outputs": []
    },
    {
      "cell_type": "markdown",
      "source": [
        "# **Loading the saved model and train it again**\n",
        "\n",
        "* The Trainer class provides an API for feature-complete training. It is used in most of the example scripts from Huggingface. Before we can instantiate our Trainer we need to download our GPT2-medium model and create a TrainingArguments to access all the points of customization during training. In the TrainingArguments, we can define the Hyperparameters we are going to use in the training process like our learning_rate, num_train_epochs, or per_device_train_batch_size.\n"
      ],
      "metadata": {
        "id": "BCfPXJ1egIew"
      }
    },
    {
      "cell_type": "code",
      "source": [
        "from transformers import Trainer, TrainingArguments\n",
        "# Load the previously trained model\n",
        "model_path = \"./gpt2-storygeneration\"  # Replace this with the path to your saved model\n",
        "model = AutoModelForCausalLM.from_pretrained(model_path)\n",
        "\n",
        "# Define your training arguments\n",
        "training_args = TrainingArguments(\n",
        "    output_dir=\"./gpt2-storygeneration\",  # The output directory\n",
        "    overwrite_output_dir=True,  # Overwrite the content of the output directory\n",
        "    num_train_epochs=10,  # Number of training epochs\n",
        "    per_device_train_batch_size=8,  # Batch size for training\n",
        "    per_device_eval_batch_size=8,  # Batch size for evaluation\n",
        "    eval_steps=500,  # Number of update steps between two evaluations\n",
        "    save_steps=800,  # Save model checkpoint after # steps\n",
        "    warmup_steps=500,  # Number of warmup steps for learning rate scheduler\n",
        "    prediction_loss_only=True,\n",
        ")\n",
        "\n",
        "# Initialize Trainer with your loaded model and training arguments\n",
        "trainer = Trainer(\n",
        "    model=model,\n",
        "    args=training_args,\n",
        "    data_collator=data_collator,\n",
        "    train_dataset=train_dataset,\n",
        "    eval_dataset=test_dataset,\n",
        ")\n"
      ],
      "metadata": {
        "id": "25xgEE54cKhl"
      },
      "execution_count": 29,
      "outputs": []
    },
    {
      "cell_type": "markdown",
      "source": [
        "# **Train the model**"
      ],
      "metadata": {
        "id": "d4xqKeGNiaXv"
      }
    },
    {
      "cell_type": "code",
      "source": [
        "# Start training to continue from where it left off\n",
        "trainer.train()"
      ],
      "metadata": {
        "colab": {
          "base_uri": "https://localhost:8080/",
          "height": 415
        },
        "id": "31Ny-6f-cWNK",
        "outputId": "789980bd-f5b8-411b-ac6a-c5f44e92d2a2"
      },
      "execution_count": 30,
      "outputs": [
        {
          "output_type": "display_data",
          "data": {
            "text/plain": [
              "<IPython.core.display.HTML object>"
            ],
            "text/html": [
              "\n",
              "    <div>\n",
              "      \n",
              "      <progress value='4070' max='4070' style='width:300px; height:20px; vertical-align: middle;'></progress>\n",
              "      [4070/4070 57:49, Epoch 10/10]\n",
              "    </div>\n",
              "    <table border=\"1\" class=\"dataframe\">\n",
              "  <thead>\n",
              " <tr style=\"text-align: left;\">\n",
              "      <th>Step</th>\n",
              "      <th>Training Loss</th>\n",
              "    </tr>\n",
              "  </thead>\n",
              "  <tbody>\n",
              "    <tr>\n",
              "      <td>500</td>\n",
              "      <td>1.562100</td>\n",
              "    </tr>\n",
              "    <tr>\n",
              "      <td>1000</td>\n",
              "      <td>1.333100</td>\n",
              "    </tr>\n",
              "    <tr>\n",
              "      <td>1500</td>\n",
              "      <td>1.133200</td>\n",
              "    </tr>\n",
              "    <tr>\n",
              "      <td>2000</td>\n",
              "      <td>1.030000</td>\n",
              "    </tr>\n",
              "    <tr>\n",
              "      <td>2500</td>\n",
              "      <td>0.912000</td>\n",
              "    </tr>\n",
              "    <tr>\n",
              "      <td>3000</td>\n",
              "      <td>0.779000</td>\n",
              "    </tr>\n",
              "    <tr>\n",
              "      <td>3500</td>\n",
              "      <td>0.694400</td>\n",
              "    </tr>\n",
              "    <tr>\n",
              "      <td>4000</td>\n",
              "      <td>0.636700</td>\n",
              "    </tr>\n",
              "  </tbody>\n",
              "</table><p>"
            ]
          },
          "metadata": {}
        },
        {
          "output_type": "stream",
          "name": "stderr",
          "text": [
            "Checkpoint destination directory ./gpt2-storygeneration/checkpoint-800 already exists and is non-empty.Saving will proceed but saved results may be invalid.\n",
            "Checkpoint destination directory ./gpt2-storygeneration/checkpoint-1600 already exists and is non-empty.Saving will proceed but saved results may be invalid.\n"
          ]
        },
        {
          "output_type": "execute_result",
          "data": {
            "text/plain": [
              "TrainOutput(global_step=4070, training_loss=1.0035431020675771, metrics={'train_runtime': 3470.3691, 'train_samples_per_second': 9.362, 'train_steps_per_second': 1.173, 'total_flos': 7543371391303680.0, 'train_loss': 1.0035431020675771, 'epoch': 10.0})"
            ]
          },
          "metadata": {},
          "execution_count": 30
        }
      ]
    },
    {
      "cell_type": "markdown",
      "source": [
        "# **Save the model**"
      ],
      "metadata": {
        "id": "PuspXQPmidJv"
      }
    },
    {
      "cell_type": "code",
      "source": [
        "# Save the model after training\n",
        "trainer.save_model(\"./gpt2-storygeneration\")"
      ],
      "metadata": {
        "id": "ATsl4eD1cXjx"
      },
      "execution_count": 31,
      "outputs": []
    },
    {
      "cell_type": "markdown",
      "source": [
        "# **Test the model**\n",
        "* To test the model we are going to use another highlight of the transformers library called pipeline. Pipelines are objects that offer a simple API dedicated to several tasks, among others also text-generation"
      ],
      "metadata": {
        "id": "QfmHgDTIiixC"
      }
    },
    {
      "cell_type": "code",
      "source": [
        "from transformers import pipeline"
      ],
      "metadata": {
        "id": "Scpqe59dXRc-"
      },
      "execution_count": 32,
      "outputs": []
    },
    {
      "cell_type": "code",
      "source": [
        "storyteller = pipeline('text-generation',model='./gpt2-storygeneration', tokenizer='gpt2-medium')"
      ],
      "metadata": {
        "id": "2KV1fA1UXMI6",
        "colab": {
          "base_uri": "https://localhost:8080/"
        },
        "outputId": "94b0b700-ecb0-4e2f-a6c2-124b91fc6351"
      },
      "execution_count": 33,
      "outputs": [
        {
          "output_type": "stream",
          "name": "stderr",
          "text": [
            "/usr/local/lib/python3.10/dist-packages/huggingface_hub/utils/_token.py:72: UserWarning: \n",
            "The secret `HF_TOKEN` does not exist in your Colab secrets.\n",
            "To authenticate with the Hugging Face Hub, create a token in your settings tab (https://huggingface.co/settings/tokens), set it as secret in your Google Colab and restart your session.\n",
            "You will be able to reuse this secret in all of your notebooks.\n",
            "Please note that authentication is recommended but still optional to access public models or datasets.\n",
            "  warnings.warn(\n"
          ]
        }
      ]
    },
    {
      "cell_type": "code",
      "metadata": {
        "id": "laDp891gO25V",
        "colab": {
          "base_uri": "https://localhost:8080/"
        },
        "outputId": "941d7c72-85a5-44b0-c724-8c4e49f8dd68"
      },
      "source": [
        "storyteller('In the bustling city of New York,')"
      ],
      "execution_count": 34,
      "outputs": [
        {
          "output_type": "stream",
          "name": "stderr",
          "text": [
            "Setting `pad_token_id` to `eos_token_id`:50256 for open-end generation.\n"
          ]
        },
        {
          "output_type": "execute_result",
          "data": {
            "text/plain": [
              "[{'generated_text': 'In the bustling city of New York, amidst towering skyscrapers and the cacophony of honking horns, a tale of power and betrayal unfolded. The covert organization known as The Spectators had been shadowing James Donovan for years, gathering damning'}]"
            ]
          },
          "metadata": {},
          "execution_count": 34
        }
      ]
    },
    {
      "cell_type": "code",
      "metadata": {
        "id": "BKXhAiBuvga9",
        "colab": {
          "base_uri": "https://localhost:8080/"
        },
        "outputId": "2ae68950-7c92-4d39-eef3-df812ee5bcf4"
      },
      "source": [
        "storyteller(' In the midst of a bustling metropolis teeming with skyscrapers that seemingly ')"
      ],
      "execution_count": 35,
      "outputs": [
        {
          "output_type": "stream",
          "name": "stderr",
          "text": [
            "Setting `pad_token_id` to `eos_token_id`:50256 for open-end generation.\n"
          ]
        },
        {
          "output_type": "execute_result",
          "data": {
            "text/plain": [
              "[{'generated_text': ' In the midst of a bustling metropolis teeming with skyscrapers that seemingly iced over the streets, there stood an unassuming antique shop tucked away in a corner. It was a haven for those who sought inspiration in the world of fashion,'}]"
            ]
          },
          "metadata": {},
          "execution_count": 35
        }
      ]
    },
    {
      "cell_type": "code",
      "metadata": {
        "id": "J9Fixx4Iosih",
        "colab": {
          "base_uri": "https://localhost:8080/"
        },
        "outputId": "742d1144-1e3b-4060-ca5c-2c529c4adee5"
      },
      "source": [
        "storyteller('In the heart of a once-thriving metropolis, now reduced to a desolate wasteland')"
      ],
      "execution_count": 36,
      "outputs": [
        {
          "output_type": "stream",
          "name": "stderr",
          "text": [
            "Setting `pad_token_id` to `eos_token_id`:50256 for open-end generation.\n"
          ]
        },
        {
          "output_type": "execute_result",
          "data": {
            "text/plain": [
              "[{'generated_text': 'In the heart of a once-thriving metropolis, now reduced to a desolate wasteland, lay the battleground of an epic struggle for control. The skies defied gravity, blotting out starlight, as an electromagnetic pulse rippled through the'}]"
            ]
          },
          "metadata": {},
          "execution_count": 36
        }
      ]
    },
    {
      "cell_type": "code",
      "metadata": {
        "id": "hKBSyNLgqF9K",
        "colab": {
          "base_uri": "https://localhost:8080/",
          "height": 70
        },
        "outputId": "798acfd6-00f7-41e0-e47c-54e0806b479f"
      },
      "source": [
        "storyteller('In the gritty underbelly of a city plagued by crime, Detective John Anderson was a tenacious force to be reckoned with.')[0]['generated_text']"
      ],
      "execution_count": 37,
      "outputs": [
        {
          "output_type": "stream",
          "name": "stderr",
          "text": [
            "Setting `pad_token_id` to `eos_token_id`:50256 for open-end generation.\n"
          ]
        },
        {
          "output_type": "execute_result",
          "data": {
            "text/plain": [
              "'In the gritty underbelly of a city plagued by crime, Detective John Anderson was a tenacious force to be reckoned with. His chiseled jawline, piercing blue eyes, and supremely sharp intellect made him an intimidating figure. The streets'"
            ],
            "application/vnd.google.colaboratory.intrinsic+json": {
              "type": "string"
            }
          },
          "metadata": {},
          "execution_count": 37
        }
      ]
    },
    {
      "cell_type": "markdown",
      "source": [
        "# **Evaluate perplexity on the test dataset**"
      ],
      "metadata": {
        "id": "_-RspOqcjSIO"
      }
    },
    {
      "cell_type": "code",
      "source": [
        "# Evaluate perplexity on the test dataset\n",
        "eval_result = trainer.evaluate(eval_dataset=test_dataset)\n",
        "print(\"Perplexity:\", eval_result['eval_loss'])"
      ],
      "metadata": {
        "colab": {
          "base_uri": "https://localhost:8080/",
          "height": 54
        },
        "id": "wNvoeo8Ri79e",
        "outputId": "be24382b-66be-47ae-b7b9-252a716909ce"
      },
      "execution_count": 38,
      "outputs": [
        {
          "output_type": "display_data",
          "data": {
            "text/plain": [
              "<IPython.core.display.HTML object>"
            ],
            "text/html": [
              "\n",
              "    <div>\n",
              "      \n",
              "      <progress value='407' max='407' style='width:300px; height:20px; vertical-align: middle;'></progress>\n",
              "      [407/407 01:36]\n",
              "    </div>\n",
              "    "
            ]
          },
          "metadata": {}
        },
        {
          "output_type": "stream",
          "name": "stdout",
          "text": [
            "Perplexity: 0.3082282245159149\n"
          ]
        }
      ]
    },
    {
      "cell_type": "markdown",
      "source": [
        "# **Generating Stories without any prompt**"
      ],
      "metadata": {
        "id": "EtvKTuF9moKW"
      }
    },
    {
      "cell_type": "code",
      "source": [
        "from transformers import pipeline\n",
        "\n",
        "# Initialize the text generation pipeline\n",
        "storyteller = pipeline('text-generation', model='./gpt2-storygeneration', tokenizer='gpt2-medium')\n",
        "\n",
        "# Function to generate stories and save them\n",
        "def generate_stories(stories_pipeline, num_stories: int):\n",
        "    generated_stories = []\n",
        "    for _ in range(num_stories):\n",
        "        generated_story = stories_pipeline(\"Story: \")  # You can modify the initial prompt if needed\n",
        "        generated_stories.append(generated_story[0]['generated_text'])\n",
        "    return generated_stories\n",
        "\n",
        "# Generate stories\n",
        "num_stories_to_generate = 5  # Define the number of stories to generate\n",
        "generated_stories = generate_stories(storyteller, num_stories_to_generate)\n",
        "\n",
        "# Display the generated stories\n",
        "for i, stories in enumerate(generated_stories, start=1):\n",
        "    print(f\"Generated Story {i}:\\n{stories}\\n\")"
      ],
      "metadata": {
        "colab": {
          "base_uri": "https://localhost:8080/"
        },
        "id": "OcpXwqwEdG4a",
        "outputId": "cda56a48-4c87-47f9-b1ea-dfe9bccfa6a3"
      },
      "execution_count": 39,
      "outputs": [
        {
          "output_type": "stream",
          "name": "stderr",
          "text": [
            "Setting `pad_token_id` to `eos_token_id`:50256 for open-end generation.\n",
            "Setting `pad_token_id` to `eos_token_id`:50256 for open-end generation.\n",
            "Setting `pad_token_id` to `eos_token_id`:50256 for open-end generation.\n",
            "Setting `pad_token_id` to `eos_token_id`:50256 for open-end generation.\n",
            "Setting `pad_token_id` to `eos_token_id`:50256 for open-end generation.\n"
          ]
        },
        {
          "output_type": "stream",
          "name": "stdout",
          "text": [
            "Generated Story 1:\n",
            "Story:  In the enchanting realm of Argentia, nestled amid verdant hills and shimmering lakes, there lived a young sorceress named Seraphina. With flowing golden locks and eyes the color of emeralds, Seraphina possessed\n",
            "\n",
            "Generated Story 2:\n",
            "Story:  The Sky Is A Bridge Too Deep For A Feeling Isabella's heart heavy with a sense of restlessness. She's spent the last few days traversing the intricacies of her everyday life, drawn to the enchanting melodies floating above\n",
            "\n",
            "Generated Story 3:\n",
            "Story:  A great king, whose reign spanned countless battles and battles, ruled over a realm filled with wonders and wonders. He was known for his vast navy, his vast land, and his vast dominion. But it was his crowning achievement\n",
            "\n",
            "Generated Story 4:\n",
            "Story:  In a quaint town nestled amongst rolling hills and babbling brooks, there lived a philosopher named Theodore. With a kind, curious mind and a deep passion for the pursuit of truth, he spent his days engulfed in a labyrinth of\n",
            "\n",
            "Generated Story 5:\n",
            "Story:  In the heart of a forgotten forest, nestled amidst towering trees and dappled sunlight, stood Camp Laughter Haven. This summer retreat was filled with laughter and camaraderie, its inhabitants dedicating their days to making time\n",
            "\n"
          ]
        }
      ]
    },
    {
      "cell_type": "markdown",
      "source": [
        "# **List of 1st 20 examples from Test Dataset**"
      ],
      "metadata": {
        "id": "nhen046G0y2y"
      }
    },
    {
      "cell_type": "code",
      "source": [
        "def read_text_file(file_path, num_examples=5):\n",
        "    with open(file_path, 'r') as file:\n",
        "        content = file.read()\n",
        "        examples = content.split('  ')  # Assuming '  ' is the separator between examples\n",
        "        return examples[:num_examples]\n",
        "\n",
        "test_file_path = '/content/drive/MyDrive/Story Generation/test_dataset.txt'\n",
        "\n",
        "print(\"\\nExamples from the Test Dataset:\")\n",
        "first_20_examples = read_text_file(test_file_path, num_examples=20)\n",
        "\n",
        "# Display the first 20 examples\n",
        "for i, example in enumerate(first_20_examples, start=1):\n",
        "    print(f\"Example {i}: {example}\")\n",
        "\n",
        "# Store the first 20 examples in a list\n",
        "list_of_20_examples = first_20_examples"
      ],
      "metadata": {
        "colab": {
          "base_uri": "https://localhost:8080/"
        },
        "id": "Gy5Xn54UlWll",
        "outputId": "6c7cd0e5-5dcf-49bc-ec60-d096532e3d9c"
      },
      "execution_count": 40,
      "outputs": [
        {
          "output_type": "stream",
          "name": "stdout",
          "text": [
            "\n",
            "Examples from the Test Dataset:\n",
            "Example 1: Once upon a time in the bustling city of New York, where concrete buildings reached up to touch the heavens, there lived a young and aspiring artist named Emily. Her heart beat to the rhythm of creativity, and her fingers danced effortlessly across the canvas, breathing life into her vibrant masterpieces. Born into a family of renowned artists, Emily carried the weight of expectation upon her slender shoulders. In the heart of Manhattan, amid the crowded streets and blaring horns, lay an enchanting art gallery known as The Palette's Haven. Owned by the revered curator, Mr. Jackson, this sanctuary served as a sanctuary for artists and art lovers alike. Its polished oak floors reverberated with the footsteps of those who sought inspiration and solace from the vibrant works of art lining the walls. One fateful day, Emily's brushes and palettes were drawn towards The Palette's Haven, as if guided by an unseen hand. She ventured into the gallery, mesmerized by the symphony of colors and textures that adorned the walls. The artistic echos of her forefathers seemed to call out to her, urging her to decipher their secrets and breathe new life into their age-old techniques. As fate would have it, Mr. Jackson, the curator himself, caught sight of Emily's radiant presence amidst the sea of art enthusiasts. Intrigued by her untamed passion, he approached her with a gentle smile and invited her into his private office. There, they engaged in a lively conversation, sharing stories of artistic pursuits and the trials faced by those who dared to defy convention. Deeply moved by Emily's unyielding dedication and raw talent, Mr. Jackson offered her a rare opportunity: a solo exhibition at The Palette's Haven. Emily's heart danced with joy, a symphony of colors illuminating her soul as she embraced this extraordinary chance to showcase her artistry to the world. From that moment on, day and night melded seamlessly into one as Emily locked herself away in her studio, her brushes swaying gracefully across the canvas. She poured her heart into each stroke, weaving together emotion and beauty in a vivid tapestry of colors. Every detail held significance—every brushstroke, a piece of her soul immortalized in her art. The day of the grand exhibition arrived, and the doors of The Palette's Haven opened wide, welcoming hordes of curious art enthusiasts. Emily stood amidst her creations, trembling with a blend of excitement and nervousness. The symphony of colors that graced the walls seemed to whisper secrets of her journey, inviting the viewers to delve into the depths of her soul. As the visitors perused each piece, an electrifying energy filled the room. Whispers of awe and admiration danced through the crowd, like fireworks illuminating a star-studded sky. Emily's art had captivated them, evoking emotions that transcended mere words. The viewers became one with her creations, lost in the realms of imagination she had painstakingly sculpted. Among the crowd, a prominent art collector, Mr. Thompson, stood entranced by Emily's works. His eyes glimmered with newfound appreciation as he realized he had discovered a remarkable talent. Determined to nurture it, he approached Emily with an offer—an exclusive contract that would grant her the opportunity to pursue her art on a grander scale, free from the shackles of financial constraints. With the weight of expectations lifted from her young shoulders, Emily embraced this newfound journey. She traveled to distant lands, seeking inspiration in the vibrant hues of exotic landscapes, in the tranquil murmurs of lost civilizations, and in the kaleidoscope of cultures she encountered along the way. Her art flourished like a magnificent garden, merging the essence of her artistic heritage with her own unique perspective. Years rolled by like the waves of the eternal sea, and Emily's name became synonymous with artistic brilliance. Her exhibitions filled galleries across the globe, and masses flocked to witness the magic she spun with her brushes. Yet, amid the triumphs and accolades, she never forgot the humble beginnings that shaped her artistic sensibilities—the echo of her forefathers, the whispers of inspiration that resonated deep within her soul. Emily became not just an Artist but a guiding light for aspiring artists, nurturing their talents and inspiring them to embrace the wild abandon of creativity. She established the Emily Art Foundation, a haven for young artists to explore their imagination, devoid of the constraints that so often stifle brilliance. And so, the story of Emily, the visionary artist, and her pursuit of artistic brilliance came to its conclusion. From the vibrant city of New York, she blossomed into a revered artist whose legacy would endure through generations, forever immortalized in her art and in the hearts of those who experienced its indescribable beauty.\n",
            "Example 2: Deep within the sprawling metropolis of New Hope, a once vibrant and bustling city now lay in the clutches of a clandestine darkness. The year was 2125, and society had slowly unraveled under the weight of an oppressive regime. The air was thick with tension, as citizens moved through the crowded streets with a sense of fear etched upon their faces. At the heart of this dystopian landscape stood a young woman named Mia, her bright hazel eyes shining with a flicker of rebellion. Mia had grown up on the outskirts of New Hope, sheltered from the grip of the authoritarian regime. It was only when she ventured into the city that she realized the extent of the control and manipulation that governed every aspect of life. Mia's journey began one fateful day as she stumbled upon a forbidden book hidden away in an abandoned library. The book spoke of an era long ago, when freedom and individuality were cherished above all else. It ignited a fire within her, compelling her to seek out like-minded individuals who still dared to dream of a better future. With each passing day, Mia delved deeper into the heart of the resistance movement, joining their clandestine meetings held in the dimly lit basements of forgotten buildings. The group was a patchwork of individuals from all walks of life, united by their shared desire for liberty and their unwavering commitment to overthrow the oppressive regime. Together, they strategized and planned, whispering in hushed tones as they devised a plan to expose the corruption and bring down the authoritarian leaders who held New Hope in an iron grip. Their main target was the High Chancellor, a cunning and ruthless man who ruled with an iron fist. As the resistance gained momentum, the regime retaliated with brutal force, deploying their secret surveillance squad known as the Shadow Keepers to infiltrate the group's ranks. Their objective was clear: to quash any hint of rebellion and ensure the populace remained docile and compliant. The city became a battleground, as the resistance fought against the Shadow Keepers in a relentless struggle for freedom. Narrow escapes, secret codes, and covert missions became the norm, as Mia and her fellow rebels fought tooth and nail to maintain a flicker of hope in the darkest of times. Time wore on, and the resistance's determination never wavered. They tirelessly rallied the citizens, exposing the regime's atrocities through underground newspapers and spreading their message through whispers in the shadows. And finally, as the High Chancellor's reign of terror seemed all-consuming, the tide began to turn. With the combined efforts of the resistance and a groundswell of support from the citizens, the walls of oppression began to crumble. Emboldened by the growing unrest, the High Chancellor's grip on power slipped, revealing the vulnerabilities he had so meticulously hidden. In a climactic showdown, Mia and her companions confronted the High Chancellor, demanding justice for the countless lives he had ruined. With every ounce of strength, they overpowered his guards, leaving him powerless and at their mercy. They stood victorious, not only against the regime, but against the shadow of authoritarianism that had loomed over their lives for far too long. New Hope rejoiced as the High Chancellor was brought to justice, a symbol of the resilience and indomitable spirit of its people. The city slowly began to heal, its wounds gradually mending as the scars of oppression faded away. Mia and her fellow rebels had sparked a revolution, marking the beginning of a new era where freedom and individuality flourished once more. And so, within the confines of this dystopian society, a flicker of hope had grown into a roaring flame, inspiring generations to come. The rise of authoritarianism had been halted, its grasp finally loosened by the bravery and unwavering resolve of those who dared to challenge its dominance. In their triumph, they had not only reclaimed their city but had carved a path toward a brighter, freer future for all.\n",
            "Example 3: In the vast expanse of the universe, humanity yearned to push the boundaries of what was known and venture into the realms of the unknown. The time had come for interstellar travel, for the dreams of reaching distant stars to become a reality. Across the world, brilliant minds and fearless pioneers worked tirelessly to build a vessel that could traverse the infinite void of space. High among those visionaries was Dr. Amelia Carter, an astrophysicist renowned for her groundbreaking research on neutron stars. Her passion for unraveling the secrets of these enigmatic celestial bodies burned brighter than the most distant supernova. Driven by her insatiable thirst for knowledge, she devoted her life to crafting a vessel capable of conducting interstellar exploration of neutron stars. Together with a team of exceptional scientists, engineers, and explorers, Dr. Carter embarked on a mission to pioneer this interstellar odyssey. Their spacecraft, named the Celestial Endeavor, was a masterpiece of engineering, designed to withstand the rigors of cosmic travel and venture into regions of space never before reached by humanity. As the Celestial Endeavor prepared for its maiden voyage, excitement and anticipation filled the air. In the control room of the spacecraft, Dr. Carter stood surrounded by her devoted crew. Commander Mark Collins, a seasoned astronaut with nerves of steel, took his position at the helm. The crew members, each with their unique expertise and unwavering determination, eagerly awaited the launch. With a thunderous roar, the engines ignited, propelling the Celestial Endeavor into the unknown. The Earth grew smaller and smaller until it was nothing more than a pale blue dot in the vast darkness of space. Time stretched endlessly as the ship hurtled through the cosmos, propelled by cutting-edge technology and human ingenuity. Finally, after what seemed like an eternity, the Celestial Endeavor arrived at the outskirts of a distant star system. It was there that Dr. Carter's lifelong ambition would be realized. Neutron stars, with their tremendous gravitational pull and unimaginable density, held the promise of untold scientific discoveries. As the crew descended upon the gravitational maelstrom, their senses were overwhelmed by the intense warping of spacetime. The Celestial Endeavor maneuvered through the treacherous conditions, and everyone braced themselves for the imminent encounter with a neutron star. A brilliant explosion of colors filled the viewscreen, as the ship entered the vicinity of the neutron star. The crew marveled at the raw power and beauty of the celestial giant before them. Dr. Carter and her team quickly set to work, collecting data, capturing images, and analyzing the phenomenon that surrounded them. However, their joy quickly turned to trepidation as a catastrophic event unfolded. The gravitational forces at play were far greater than anticipated, and the Celestial Endeavor began to succumb to its pull. Alarms blared throughout the ship as the crew fought desperately to regain control of their vessel. In the face of imminent disaster, the brilliant minds aboard the Celestial Endeavor worked together, drawing on every ounce of knowledge and skill to find a solution. Dr. Carter, ever resourceful, devised a daring plan to engage the ship's emergency warp drive, using the tremendous gravitational forces to sling the vessel away from the neutron star. With a leap of faith, they executed the plan, and in a dazzling display of cosmic ballet, the Celestial Endeavor escaped the clutches of the neutron star's gravitational grip. The ship hurtled through space, back towards the known regions of the universe, carrying with it the invaluable data collected during their perilous encounter. Upon returning home, Dr. Carter and her crew were hailed as heroes. Their fearless pursuit of knowledge had brought humanity one step closer to understanding the enigmas of the cosmos. The data they gathered would revolutionize our understanding of neutron stars, paving the way for future exploration and breakthroughs. Dr. Carter was awarded numerous accolades and became an inspiration for generations to come. Her unwavering dedication to the pursuit of knowledge, coupled with her indomitable spirit, proved that the human potential for exploration knew no bounds. And so, the celestial tapestry of mankind's journey into the stars continued to unfurl, with the boundless wonders of the universe waiting to be discovered by those daring enough to venture into the unknown.\n",
            "Example 4: In the heart of the French countryside, amidst rolling hills and lush green meadows, stood a small village called Sainte-Marie. It was the year 1944, and as World War II raged across Europe, the tranquil life of this village was about to be forever changed. The townspeople, ordinary men, women, and children, went about their daily routines, unaware of the impending storm that would soon sweep over their lives. Among the villagers was a young woman named Emilie, with fiery red hair and a spirit that burned as bright as the sunflowers that graced the fields. She had grown up in Sainte-Marie, her days filled with laughter, tales of bravery, and dreams of adventure. Yet, as the war encroached upon their doorstep, Emilie's world shifted, and she found herself with a new purpose. One fateful morning, as the distant sounds of artillery echoed through the air, Emilie received a letter. It was an invitation, beckoning her to join the underground resistance movement that operated in the neighboring town. For years, Emilie had heard stories of brave women who had defied societal norms to fight for their country. With unwavering determination, she embraced her call to duty, bidding her family farewell as she set off to join the resistance. The journey to the secret resistance camp was treacherous, and Emilie navigated the winding paths with caution. As she arrived at the camp nestled deep within the forest, she was greeted by a hushed hubbub of whispered conversations and a sense of purpose that hung in the air. Here, women from all walks of life gathered, united by their common devotion to freedom. Emilie soon found herself training alongside other brave women, mastering the art of sabotage, espionage, and guerilla warfare. They studied maps, deciphered codes, and honed their skills, preparing for the battles to come. Each day brought a newfound strength to Emilie's spirit, as she realized the vital role women played in the war effort. They were the silent heroes who worked behind the scenes, infiltrating enemy lines and providing crucial information. As the war raged on, Emilie and her fellow resistance fighters embarked on daring missions. They sabotaged supply lines, gathered intelligence, and sheltered allies in the face of danger. Their actions were instrumental in weakening the enemy forces, serving as a shining beacon of hope for their war-torn country. In the midst of this chaos, tragedy struck the village of Sainte-Marie. The German army, retaliating against the growing resistance movement, descended upon the village, leaving destruction and despair in their wake. Emilie's childhood home was reduced to rubble, and her family, like so many others, fell victim to the brutality of war. Devastated yet resolute, Emilie's resolve to fight only grew stronger. Alongside the resistance, she led a daring mission to sabotage a German munitions depot. It was a perilous endeavor, but the women fought with a tenacity borne from the love they held for their country and the desire to protect future generations from the horrors of war. In a blaze of gunfire and explosions, the depot was reduced to ashes, symbolizing a small victory in the face of overwhelming adversity. Emilie and her fellow resistance fighters returned to the camp, battle-weary but triumphant. Their actions had saved countless lives and struck a blow to the enemy's strength. With the end of the war drawing near, Emilie emerged as a symbol of resilience and courage. She, along with her comrades, were hailed as heroes and honored for their sacrifice. The role of women in war, once overlooked, was now celebrated and recognized for its indispensable contribution. Emilie returned to the ruins of Sainte-Marie, determined to rebuild her home and honor the memory of her loved ones. Life slowly returned to the village, as spring blossomed into summer, and the scars of war began to fade. Emilie, now a leader and inspiration to future generations, dedicated herself to ensuring that the stories of women in war would never be forgotten. Through her unwavering efforts, she established a memorial in Sainte-Marie, where the tales of bravery and sacrifice would forever be etched into the hearts of all who visited. And so, in a world forever changed by the ravages of conflict, Emilie's legacy lived on. Her fighting spirit, combined with the collective strength of courageous women, served as a reminder that in the darkest of times, it is often the unyielding determination and unwavering dedication of women that brings forth the flicker of hope that illuminates the path towards a brighter future.\n",
            "Example 5: In the small town of Crestwood, nestled in the heartland of America, there lived a young boy named Samuel Collins. The signs of war surrounded him, as the sound of fighter jets echoed in the distance and news of fallen soldiers filled the airwaves. Samuel grew up idolizing the brave men and women who fought for their country, dreaming of one day becoming a war hero himself. His room was adorned with posters of Medal of Honor recipients, their valorous faces gazing back at him with unwavering determination. Samuel's father, Major James Collins, had served in the military and regaled his son with tales of bravery on the battlefield. The young boy listened intently, hanging on every word as his father described the honor and sacrifice exhibited by those who received the prestigious Medal of Honor. Samuel's heart burned with a desire to follow in their footsteps, to make his own mark in history. As the years passed, Samuel dedicated himself to his studies, excelling in every subject to prepare himself for the arduous path that lay ahead. His friends admired his tenacity, but none understood the depth of his ambition. Samuel spent countless hours immersed in literature about military strategy, commitment, and heroism, yearning for the day when he would have his own tale to tell. Finally, the fateful day arrived. Samuel, now a strapping young man, stood tall in his uniform as he enlisted in the United States Army. He bid his family farewell, embracing his mother and shaking his father's hand with a newfound sense of purpose. The war had intensified, and Samuel was deployed to a battlefield far from home. In the harrowing chaos of war, Samuel fought with unwavering determination, his bravery shining through amidst the darkness. He witnessed the bravery of his comrades, each embodying the spirit of selflessness and honor. One day, in the midst of a relentless firefight, Samuel's unit found themselves outnumbered and outgunned. With bullets raining down around them, he singlehandedly charged towards the enemy, rallying his fellow soldiers with his extraordinary courage. News of Samuel's extraordinary act of valor spread throughout the ranks, reaching the highest echelons of the military. His name became synonymous with heroism, and whispers of a potential Medal of Honor began to circulate. Each night, Samuel would gaze upon the faces of the recipients adorning his bedroom wall, knowing that he too would soon join their ranks. After a long and grueling process, Samuel's meritorious actions were recognized, and he received the Medal of Honor. The ceremony was a remarkable affair, attended by dignitaries and high-ranking officials, who marveled at the young man standing before them, humble yet undeniably heroic. Samuel's parents beamed with pride as he was bestowed with the medal, their hearts bursting with joy. But even in the midst of celebration, Samuel's thoughts were with his fallen comrades and the countless brave souls who had made the ultimate sacrifice. He knew that the medal he wore represented not only his own bravery but also the collective valor of all those who had fought beside him. In the years that followed, Samuel became an ambassador for veterans, using his newfound platform to raise awareness for veterans' issues and provide support to those struggling with the traumas of war. He founded a foundation to honor fallen soldiers and their families, ensuring that their sacrifices would never be forgotten. Samuel Collins, the war hero who once adorned posters on his bedroom wall, had become a living embodiment of courage, integrity, and sacrifice. His journey had taken him from a small town in America to the pinnacle of honor, but it was his unwavering dedication to his fellow soldiers and the memory of those who had fallen that defined his legacy. Samuel's story served as a beacon of hope and inspiration, a reminder that even in the darkest of times, heroes emerged to light the way for others.\n",
            "Example 6: In the sprawling city of New York, amidst the bustling streets and towering skyscrapers, there existed a vibrant artistic community. It was within this realm of creativity that two souls found each other, drawn together by their mutual passion for the arts. Their names were Ethan McKenna and Isabella Rivera, both renowned painters in their own right. Ethan, with his rugged charm and thick, tousled hair, was known for his bold brushstrokes and vibrant color palettes. Isabella, on the other hand, possessed an ethereal beauty, her eyes reflecting the depth of emotions she poured into her delicate portraits. Each time their paths crossed at art exhibitions and galleries, a spark of recognition ignited within them, signaling a shared connection that yearned to be explored. It was fate that brought Ethan and Isabella together when they received a rare opportunity to collaborate on a groundbreaking project. A prestigious art gallery had commissioned them to create a masterpiece that would encapsulate the essence of romance. The challenge excited them, the prospect of crafting a masterpiece that would capture the intricate nuances of love. Their collaboration began in a spacious loft, transformed into a haven of artistry. Canvases of all sizes lined the walls, awaiting the touch of their brushes. The air was thick with the scent of turpentine and the subtle melodies emanating from Isabella's old record player. As they worked side by side, their creative energies intertwined, fueling one another's inspiration. The project progressed with an effortless fluidity. Ethan and Isabella exchanged ideas, effortlessly translating emotions onto the blank canvases. He painted bold, fiery strokes that spoke of the intoxicating passion of new love, while she added delicate details that mirrored the fleeting tenderness found in the gentlest of embraces. The artwork began to breathe with life, each brushstroke revealing a deeper layer of their shared vision. Yet, as their masterpiece took shape, so too did a deepening relationship between Ethan and Isabella. In the stillness of the loft, their gazes lingered a little longer, their brushes occasionally brushed against one another, igniting a gentle current that electrified the space between them. A whirlwind of emotions blossomed in their hearts, as they navigated the delicate balance between their collaboration and the budding romance that flourished beneath its surface. However, as their masterpiece neared completion, a collision of doubt and insecurity threatened to unravel their shared vision. Isabella, plagued by her own fears, questioned the depth of her artistic voice. She found herself questioning if the magic they had created together was the result of her skills or the enchantment of their connection. Doubt crept into her heart, casting a shadow over their once harmonious collaboration. Ethan, sensing Isabella's internal struggle, took her aside one evening to a quiet corner of the loft. With gentle words and a heart brimming with love, he reassured her of her immeasurable talent and her irreplaceable contribution to their masterpiece. He reminded her that their collaboration was not just a meeting of two artists but a convergence of souls who shared a bond that transcended the realms of art. Isabella, touched by his words, felt the weight of her insecurities lift, replaced by a renewed sense of purpose and confidence. Together, hand in hand, Ethan and Isabella put the finishing touches on their masterpiece. It stood before them, a tangible testament to their shared vision and intertwining romance. The painting danced with colors that celebrated the tangled web of emotions that love weaves. It captured the electrifying spark of attraction, the vulnerability of baring one's soul to another, and the quiet solace found in the embrace of a loved one. On the day of the grand unveiling, as the art world looked on in awe, Ethan and Isabella stood beside their masterpiece, their eyes locked in an unspoken understanding. It was in that moment that they knew their collaboration had transcended the realm of art, transforming into a love story written in the strokes of paint upon the canvas. Their shared masterpiece brought them recognition and praise from all corners of the art world, but for Ethan and Isabella, it held a deeper significance. It was a testament to their unyielding connection, a celebration of the romance that had blossomed amidst their shared creativity. As they stood amidst the applause and accolades, they felt a sense of fulfillment that surpassed any individual success. They had not only created a masterpiece that captured the essence of romance but had also found a love story of their own, one that would continue to evolve and inspire their art for years to come.\n",
            "Example 7: In a small, sleepy town nestled among rolling hills, there stood a proud old clock tower that overlooked the entire community. This town, Longbridge, was a place where time flowed steadily, predictable and unyielding. Its inhabitants - simple folk with simple lives - were content with the rhythm that governed their daily routines. However, one man dared to question the boundaries of time and sought to unravel its mysteries. Meet Professor Theodore Hartley, an esteemed physicist with a mane of unruly gray hair and spectacles perched on the bridge of his somber nose. He had devoted his life to deepening his understanding of the cosmos, and within the confines of Longbridge's humble university, he sought to unlock the secrets of time travel. It was his fervent belief that the limits of human understanding were boundless, and that time, too, would bow before his relentless pursuit of knowledge. Day and night, Professor Hartley toiled in his laboratory, meticulously tinkering with an intricate time machine prototype. The contraption hummed with a faint energy, promising to bend the laws of nature to the whim of its creator. The townsfolk, skeptical yet intrigued, could not fathom the true implications of such a device. One fateful afternoon, as the clock tower chimed twelve, Professor Hartley, fueled by an insatiable curiosity, stepped into the metal frame of his creation. The air crackled with anticipation as he flipped switches and adjusted dials, preparing for a journey into the unknown. With a loud whir, the machine sprang to life, engulfing the professor in a blinding cascade of lights. As the minutes ticked away, it seemed as if an eternity had passed. Professor Hartley's machine, now silent and motionless, stood vacant. Moments later, the door creaked open, and the disheveled scientist emerged, his eyes widened with an inexplicable wonder. He had traveled through time, gazing upon millennia of human history with his own eyes, unchained from the shackles of the present. Word of this remarkable achievement spread like wildfire, reaching every corner of Longbridge. The townsfolk, though hesitant at first, found themselves captivated by the possibilities that time travel held. They flocked to Professor Hartley's laboratory, inquisitive minds hungry for knowledge, eager to comprehend the limits of human understanding and the implications of their existence. But, as the grandeur of time travel intoxicated the townsfolk, a harsh reality began to dawn on them. Each journey into the past brought them face to face with the depths of human depravity and the insignificance of their own lives. The timeless corridors revealed the raw truth of wars, pandemics, and untold suffering that had shaped the very fabric of history. Questions arose within the hearts of Longbridge's inhabitants: How could they weather the weight of the past when faced with the atrocities of humanity? How could they bear the burden of knowledge that time travel bestowed upon them? The limits of human understanding seemed insurmountable, casting a pall of despair over the once hopeful town. Yet, within this darkness, a glimmer of hope emerged. Professor Hartley, wise and world-weary from his travels, offered solace to those disheartened souls. He implored them not to be overwhelmed by the immeasurable expanse of time, nor to lose sight of the thread that connected each moment in history. With renewed determination, the townsfolk embraced their shared humanity, bound together by their collective wisdom and compassion. They channeled their newfound understanding of time's intricacies into the betterment of their community, for the past and future were inextricably intertwined. Time travel had taught them that while human understanding may have its limits, the spirits of kindness, love, and resilience transcended the confines of time itself. And so, Longbridge flourished, a testament to the intertwined complexities of time travel and the limits of human understanding. Under the guidance of Professor Hartley, the town embraced the tapestry of the past while ceaselessly weaving the threads of their future. The clock tower, once just an observer, now stood as a symbol of their unyielding spirit, reminding them to value every passing moment and cherish the interconnectedness of their shared existence.\n",
            "Example 8: In a small town nestled amidst rolling hills and whispering woods, there lived a humble priest named Father Thomas. His days were spent tending to the spiritual needs of his parishioners, their lives entwined in the tapestry of faith. The sleepy town of Saint Jude's found solace in the comforting rituals of religious traditions that wove their way through its cobblestone streets. One warm summer night, as the moon cast its gentle glow upon the town, Father Thomas found himself lost in the ancient texts of his faith. He sought solace and guidance in the wisdom of the scriptures, devoting his nights to deciphering their profound mysteries. It was during one such hallowed night that an unearthly light bathed his study. Trembling, he peered out the window, his eyes meeting a sight that defied comprehension. Hovering silently above the church spires stood a spacecraft, its sleek metallic form gleaming with an otherworldly incandescence. Father Thomas felt his heart race as he observed strange beings, different from any he had ever imagined, emerge from the craft. They floated down with an ethereal grace, their long, delicate limbs moving with an almost unearthly fluidity. In their luminous eyes, he sensed a benevolence untouched by mortal existence. In a moment of uncertainty and awe, Father Thomas remembered the parallels in his faith's scriptures - the angels that had appeared before the prophets, messengers from an ethereal realm. Could these otherworldly visitors, he pondered, be akin to the divine messengers that were spoken of in religious texts? This inspiring realization forged a profound connection between Father Thomas's faith and the unprecedented events unfolding before him. As the days passed, news of the alien encounter spread like wildfire, igniting fascination and discussion among the townspeople. Some saw the extraterrestrial beings as harbingers of doom, while others believed they were guardians of a new era of enlightenment. Father Thomas found himself at the center of this swirling storm of opinions, wrestling with the weight of his own newfound beliefs. In the midst of the fervor, Father Thomas sought council from the oldest and wisest member of his congregation, Sister Margaret. With her crinkled eyes twinkling with ancient wisdom, she imparted her insight, reminding him of the prophetic encounters described in religious texts. She spoke of strangers who had visited long ago, guided by a radiant star, bearing gifts and messages of love and salvation. Encouraged by Sister Margaret's words, Father Thomas took it upon himself to approach the alien beings with an open heart and a spirit of curiosity. With the blessings of his congregation, he initiated a dialogue with the enigmatic visitors. Through it, he discovered that their intentions were indeed benevolent. They sought a mutual understanding, grasping for glimpses into the treasures of human wisdom and kindness. Weeks turned into months, and a profound bond grew between Father Thomas and the extraterrestrial beings. Together, they explored the depths of religious texts, drawing parallels between ancient writings and the alien visitors' own traditions. The townspeople witnessed this transformative journey and began to embrace the idea that faith and science need not exist in opposition, but rather complement one another. At last, the time came for the alien visitors to depart and return to their distant home, their mission fulfilled. With heavy hearts, Father Thomas and the townspeople bid them farewell, knowing that their encounter had forever altered the fabric of their beliefs. The town of Saint Jude's emerged from this extraordinary encounter with a renewed spirit of understanding and unity, their once-separate worlds now intertwined inextricably. As Father Thomas and the townspeople gathered outside the church, the last remnants of the spacecraft disappeared into the night sky, leaving behind a profound legacy. The encounter with the alien beings taught the people of Saint Jude's that there is much to be gained from exploring the mysteries of faith and maintaining an unwavering openness to the unknown. And so, the tale of Father Thomas and the alien encounter became etched in the annals of both human history and extraterrestrial lore, a tale that would forever inspire others to bridge the divide between science and spirituality, nurturing a shared understanding of the universe and all its enigmatic wonders.\n",
            "Example 9: Johnathan gazed out the dusty window of his small apartment, his mind entwined in dreams of adventure. He yearned for excitement, for a life beyond the mundane routine of his daily existence. As a devoted lover of technology, Johnathan was particularly captivated by the burgeoning advancements in artificial reality. It was said that within the vast landscapes of these digital worlds lay infinite possibilities, awaiting those brave enough to explore them. One evening, as the sun dipped below the horizon, Johnathan received a message on his electronic tablet—a mysterious invitation to a secret event called The Artifice. Intrigued, he quickly confirmed his attendance and set off towards the undisclosed location, his heart racing with anticipation. The venue turned out to be an imposing and enigmatic warehouse, its walls covered in street art that seemed to shimmer under the glow of the moon. Inside, a bustling crowd circulated, their voices echoing in anticipation. Johnathan glanced around, his eyes widening at the spectacle before him. Artists and technologists worked in harmony, creating a grand tapestry of artificial reality. As the night progressed, Johnathan found himself drawn to a peculiar exhibit featuring an intricately woven tapestry. The moment his fingers brushed against its threads, he was transported into a realm of pure imagination. The lines between reality and artificiality blurred, and he stood in awe as colors and shapes danced before his eyes. He marveled at the vibrant landscapes, inhabited by majestic creatures and ethereal beings. But amidst the allure of this incredible adventure, Johnathan realized that not everything was as it seemed. A looming darkness began to cast its shadow over the once-idyllic world. The inhabitants trembled in fear as the sinister force sought to corrupt their existence. Sensing their anguish, Johnathan decided he could not stand idle. He embarked on a quest to rid the land of this treacherous foe. Armed with newfound courage, Johnathan journeyed across the digital landscapes, encountering trials and triumphs along the way. He met fellow adventurers, each with their unique abilities and stories. Together, they formed an unbreakable bond, united in their quest to preserve the purity of the artificial reality they cherished. As their travels unfolded, Johnathan's understanding of the true power of artificial reality deepened. He realized it was not simply a means of escape, but a medium through which creativity and imagination could shape destinies. Inspired by this revelation, he and his companions devised a plan—a masterpiece that would harness the combined talents of the inhabitants. It would serve as a beacon of hope against the encroaching darkness. With great determination, Johnathan and his newfound friends poured their hearts and souls into their creation. Their combined efforts manifested into a breathtaking mural, a symbol of unity and resilience. Its radiant colors blossomed throughout the artificial reality, eradicating the darkness that had plagued the land. The inhabitants rejoiced, their spirits revitalized by the profound impact of Johnathan's artwork. Their world thrived once more, vibrant and alive with endless possibilities. Johnathan had not only embarked on an adventure of a lifetime but had also left an indelible mark upon a realm that had become his second home. As the tapestry of his adventure came to a close, Johnathan bid farewell to the denizens of the artificial reality with a heavy heart. With newfound purpose in his own reality, he left, forever grateful for the transformative journey that had enriched his life. And as he stepped back into the humdrum of his daily routine, he carried with him the knowledge that true adventure can be found not only in vast landscapes but also in the boundless creativity of the human spirit.\n",
            "Example 10: In the vibrant city of Celestia, where the melodies of music mingled with the rhythmic hum of everyday life, there existed a band unlike any other. They called themselves Harmonic Fusion, a collective of talented musicians known for their distinctive sound that seamlessly blended genres and defied conventions. Under the spellbinding leadership of their charismatic frontman, Evan Harmony, the band roamed the city's vivacious music scene, leaving audiences spellbound in their wake. However, it was their unique collaborations with orchestras and classical musicians that truly set them apart from the rest. The journey of Harmonic Fusion began with humble origins. Evan Harmony, a prodigious vocalist and songwriter, had a vision that went beyond the confines of a typical band. He believed in the transformative power of music and sought to create something that transcended boundaries. With this grand vision in mind, Evan scoured every corner of Celestia to assemble a band of extraordinary musicians, each possessing a distinct talent and a deep love for music. Their first collaboration with an orchestra occurred serendipitously during a fateful evening. As Harmonic Fusion performed their electrifying set at the renowned Celestial Music Festival, an unexpected downpour halted their performance. Seeking shelter, they stumbled upon the backstage area, where the sound of enchanting violin melodies filled the air. Intrigued, Evan and the band followed the enthralling sound and discovered a rehearsal in progress. It was the Celestia Symphony Orchestra, tirelessly rehearsing for their upcoming performance. The conductor, Maestro Maximilian, captivated by Harmonic Fusion's unique sound, invited the band to join them on stage. Overwhelmed with excitement, Evan accepted the offer without hesitation. Days turned into weeks as the two musical ensembles tirelessly worked together, fusing their different styles to create a harmonious masterpiece. The fusion of rock and classical music reverberated through the grand concert hall, captivating the audience and leaving them awestruck. Word of this groundbreaking collaboration spread like wildfire, catching the attention of renowned classical musicians in Celestia. The acclaimed cellist, Sophia Allegro, renowned for her virtuosic performances, reached out to Harmonic Fusion with a proposal for another collaboration. Sophia believed that the fusion of her classical artistry with the band's innovative sound would create a musical experience that transcended time and genre. Excited by the opportunity, Harmonic Fusion immersed themselves in the world of classical music, learning the intricacies of composition and notation. They embarked on a journey of musical discovery, blending their rock roots with the nuanced elegance of classical melodies. Hours turned into days as Evan, Sophia, and the band worked tirelessly in their quest to create a seamless fusion of their respective genres. Finally, the day of the much-anticipated concert arrived. The grand Celestia Opera House, renowned for hosting the finest classical performances, was filled to the brim with anticipation. As the curtains lifted, the stage came alive with a kaleidoscope of sights and sounds. Harmonic Fusion, Sophia Allegro, and a symphony orchestra stood together, ready to take the audience on an unforgettable musical journey. The concert was a true testament to the power of collaboration and the beauty of harmonizing diverse musical styles. The band's electric energy intertwined with Sophia's soul-stirring cello, dancing through the intricate tapestry of classical compositions and modern rock riffs. The audience was transported to a world where boundaries dissolved, and music spoke a universal language. In the end, Harmonic Fusion's collaborations with orchestras and classical musicians became defining moments in their musical journey. Together, they proved that when musicians with different backgrounds and styles come together, magic happens. Their music resonated beyond the concert halls, touching the hearts and souls of listeners far and wide, forever immortalizing their name as musical pioneers in the annals of Celestia's vibrant music scene.\n",
            "Example 11: In the quiet town of Willowbrook, nestled amidst a sea of towering oak trees and fading autumn leaves, stood a haunted house. This ancient abode stood alone on the outskirts of the town, its weathered facade and broken windows mere remnants of its once-grandeur. Locals spoke of dreadful whispers that echoed through the halls at night, and eerie shadows that danced upon the walls like ethereal spectres. No one dared to venture inside, for fear of awakening the restless spirits that lay dormant within. Adjacent to this haunted house stood a dilapidated toy store known as Midnight Mirth. Once a lively establishment teeming with laughter and joy, it now lingered in desolation. Shattered dolls and discarded action figures lay strewn across the dusty floors, forgotten symbols of childhood happiness. Unbeknownst to the townspeople, Midnight Mirth held a secret, for when the midnight hour struck, the store came alive. Toys, once confined to their shelves, would embark on fantastical journeys, and embrace the freedom they were denied in daylight. Enter Amelia Crane, a curious and intrepid young girl with eyes the color of sapphire seas. Amelia had been captivated by the legends surrounding the haunted house since her arrival in Willowbrook. Her relentless curiosity led her straight to the worn-down doors of Midnight Mirth. Although she had heard whispers of the toy store's after-hours adventures, Amelia was determined to witness the magic for herself. On a moonlit night, when the stars twinkled with a mischievous glimmer, Amelia's heart raced with anticipation as she approached the forsaken toy emporium. The moon cast an otherworldly glow upon the broken windows, beckoning her closer. With trembling hands, Amelia pushed against the creaking door, allowing it to swing open with an eerie creak that seemed to resonate through the night air. The first thing Amelia noticed was a gentle hum that filled the air, reverberating from the shelves and forgotten corners. The sound grew louder until it was a symphony of toy laughter, tinkling like bells in the night. Suddenly, rows of dolls came to life, their porcelain faces animated with wonder. Puppet strings danced beneath invisible fingers, and toy soldiers formed perfect formations in harmony. As Amelia wandered further into the toy store, she noticed a small, tattered teddy bear sitting atop a dusty rocking chair. Its button eyes gleamed with a glimmer of recognition as they met Amelia's own. The teddy bear beckoned her closer, and with hesitant steps, she obliged. The bear introduced itself as Mr. Whiskers, explaining that Midnight Mirth existed as a bridge between two worlds: the realm of the living and the realm of the forgotten toys. Once cherished playthings fall into disrepair and abandonment, their spirits find solace within the enchanted toy store. However, something was amiss. Mr. Whiskers confided in Amelia that the spirits of the haunted house next door had become restless, their sorrow and anguish seeping into Midnight Mirth. The toys were now plagued by their haunting presence, unable to find solace in their own haven. Amelia, fueled by compassion and a desire to restore balance, embarked on a daring quest to alleviate the spirits' torment. Guided by Mr. Whiskers, she delved into the mysteries of the haunted house, facing ghostly apparitions and unraveling the tragic tales of those who once called it home. With each step forward, Amelia not only mended the broken spirits but also unravelled her courage, growing stronger in the face of darkness. Finally, after a grueling journey filled with spectral encounters and unearthed secrets, Amelia discovered the source of the restless spirits' anguish. Hidden within the depths of the haunted house, she uncovered a forgotten diary, the pages teeming with longing and regret. The diary held the answers to the spirits' untimely demise and their yearning for resolution. Armed with newfound knowledge, Amelia raced back to the toy store, where the spirits eagerly awaited her return. With trembling hands, she read aloud the diary entries, allowing the forgotten spirits to finally find closure and tranquility. As each page turned, the haunted house groaned and cracked, shedding its mournful facade and revealing a newfound serenity. With the spirits' release from their torment, Midnight Mirth bloomed with newfound joy and the toys danced with animated glee. The dollhouses glowed with warmth, and the action figures leaped from shelf to shelf, delighting in their newfound liberation. Amelia had not only mended the hearts of the forgotten toys but also forged a bond between two worlds. The haunted house stood as a testament to the power of empathy and courage, mighty forces that could bring solace to even the most tormented souls. And so, the tale of Amelia Crane and the haunted toy store after midnight whispered through the generations, reminding all who heard it of the incredible magic and healing that could be found in the unlikeliest of places.\n",
            "Example 12: Once upon a time, in a realm of enchantment and imagination, there lived a young maiden named Eveline. She possessed an ethereal beauty, her cascading golden locks falling like sunlight upon her delicate shoulders. Her emerald eyes sparkled with a hint of mischief, and her lips were the hue of a rosy blush. Eveline lived in a humble cottage nestled within a mesmerizing forest, where the trees whispered secrets to the starlit sky. Amongst the creatures of the woods, a handsome prince named Adrian roamed in search of adventure and true love. With his chiseled features and eyes as blue as the summer sky, he enchanted all who beheld him. His heart sought a love that would ignite his spirit and set his soul ablaze, yet he remained entranced by the allure of unrequited love, as though destined to never find reciprocation. One fateful day, Eveline found herself lost in the heart of the enchanted forest. With each step, the dense foliage obscured her path, until she stumbled upon a clearing bathed in golden sunlight. As if guided by destiny, her gaze met Adrian's, and in that instant, their souls recognized a kindred flame. Wordlessly, they knew their hearts had collided in the realm of unrequited love. Over time, Eveline and Adrian's paths intertwined as they crossed each other's lives. They met beneath the radiant moon, whispering secrets and confessions of longing. Wandering hand in hand through the enchanted forest, they reveled in the shared experience of unrequited love. Their bond grew stronger, tethered by the delicate threads of their unfulfilled desires. Yet, amidst their clandestine encounters, a dark shadow crept upon the lovers' tapestry. A enchantress named Morgana, consumed by jealousy and resentment, observed their stolen moments from afar. She had always yearned for Adrian's affection but was met only with indifference. Fuelled by bitterness, Morgana devised a wicked plan to sabotage their unrequited love, determined to ensure that neither would find solace in the other's arms. Misfortune fell upon Eveline and Adrian when Morgana cast a spell, unleashing a veil of fog that separated them. Eveline, lost and bewildered, sought desperately for her beloved, but he was hidden from her sight. Each passing day, their hearts ached in yearning, longing for the unrequited love that once danced in their souls. Undeterred by the machinations of fate, Eveline sought guidance from the wise old sage of the forest. In a voice as ancient as the earth, he revealed to her the key to unlocking the shackles of unrequited love. She must embark on a perilous quest, braving treacherous rivers and scaling mighty mountains, to retrieve the mystical amulet of true love. Only then could she break free from the clutches of unrequited affection. With courage in her heart, Eveline embarked on her journey, her determination unwavering. She faced countless trials, battling fearsome beasts and enduring hardships that threatened to consume her resolve. Yet, with each step closer to the prize, her love for Adrian burned brighter, serving as her guiding beacon. Finally, after a series of arduous trials, Eveline stood before the sacred altar where the amulet of true love lay. As she grasped its shimmering surface, the amulet pulsed with a radiant light, its power surging through her veins. A wave of warmth engulfed the forest, dispelling Morgana's fog and revealing Adrian standing near her, his eyes brimming with love. In that moment, the unrequited love that had haunted Eveline and Adrian transformed into a love that illuminated their souls. United at last, they realized that their arduous journey had blessed them with a love that transcended the realms of fairy tales. They vowed to cherish their newfound love, forever grateful for the tribulations that had led them to the profound depths of their hearts. And so, in the annals of the enchanted forest, their tale was etched as a testament to the transformative power of unrequited love. For sometimes, it is through unreciprocated longing that we discover the true depths of our hearts and the resilience of our spirits, emerging triumphant in a love that defies all odds and kindles the flames of eternal devotion.\n",
            "Example 13: In the dimly lit office of detective Samuel Cross, the brisk evening air seeped through the cracked window, carrying with it the distant sound of sirens. Samuel sat behind his worn-down desk, encircled by a tapestry of documents and crime scene photographs. With eyes draped in weariness and a mind consumed by the unsolved cases that plagued him, he stared intensely at the photograph of his latest investigation—a psychological thriller that had gripped the city. The case revolved around a series of bizarre and seemingly unrelated murders, each scene more macabre than the last. Samuel had found himself thrust into a labyrinth of twisted minds, his only guide a trail of cryptic clues left by the elusive killer. As he sifted through the evidence, a growing unease tugged at the recesses of his consciousness. The intricate patterns and eerie symbolism embedded in the crime scenes hinted at a mind that reveled in psychological torment and mind games. With a newfound determination, Samuel embarked upon the treacherous journey of understanding the twisted psyche behind the murders. Each day bled into the next, as he delved deeper into the darkness of the human mind. Samuel pored over psychological journals, immersed himself in the disquieting world of criminal profiling, and consulted psychiatric experts. Yet, the more he learned, the more enigmatic the killer became. Frustrated but not defeated, Samuel decided to change his approach. He would descend into the underworld of the city, seeking informants, criminals, anyone who might bring him closer to the truth. It was within this shadowy realm that he met Isaac, a former gang member with a penchant for deciphering the webs of secrets that tangled within the city’s underbelly. Intrigued, Samuel made a dangerous pact – he would grant Isaac his freedom in exchange for his assistance. With Isaac as his reluctant guide, the two slipped through the cracked and devious facades of society. They encountered the criminal elite, connected alleyways, and whispering informants. Samuel became a mere shadow, his mind a ceaseless conundrum of deductions and manipulations. Slowly, the pieces began fitting together, revealing a tapestry of interwoven lives and shared secrets. The psychological thriller was no longer just a tale of torment, but a mirror to the darker recesses of society. Finally, the labyrinth unveiled its darkest secrets. The killer was none other than Gabriel, a renowned psychiatrist known in noble circles for his brilliant façade. Gabriel had chosen his victims to resemble patients who had failed to adhere to his treatments, individuals whose lives he had deemed unworthy. Obsessed with reshaping the human psyche, he embarked on a deranged quest to cure society of its weakness. Samuel's confrontation with Gabriel was a tense battle of wits, each trying to outmaneuver the other within the claustrophobic confines of Gabriel's ornate study. The room dripped with the trappings of manipulation and psychological warfare. But, beneath the surface of the detective's calm demeanor, a roaring storm of determination raged. The climax came in the form of a chessboard, the ultimate metaphor for their intricate psychological dance. After a game of strategic moves and countermoves, Samuel cornered Gabriel into a confession. The killer's mind, once concealed behind a shroud of pseudo-intellectualism, was finally laid bare. The tangled tapestry of the city's psychological thriller had unraveled, revealing its twisted origins. Gabriel was taken into custody, his reign of psychological torment brought to an end. As the case reached its conclusion, the city sighed with relief, grateful for the detective who dared to confront the darkest facets of humanity. Samuel, tired and battle-worn, retreated to his office, closing the door on the shattered illusions of his psyche. The weight of each solved case sank into his bones, a testament to his unwavering dedication to justice. And in the winding corridors of his mind, new mysteries waited patiently for his return, eager to test the limits of his resolve once more.\n",
            "Example 14: In a world teetering on the precipice of disaster, there existed a small coastal town called Havenview. Nestled between towering cliffs and the raging ocean, it seemed like an idyllic paradise to its inhabitants. But beneath its picturesque facade lay the ever-present threat of natural calamities. Storms would often unleash their fury upon the town, wreaking havoc and testing the resilience of its people. Among the townsfolk was a young woman named Maya. With her sun-kissed skin and fiery determination, she had grown up with the knowledge that survival in Havenview required both strength and adaptability. Maya had survived several storms, learning the art of disaster survival through her experiences. She had witnessed firsthand the destructive power of nature, but it had only fueled her desire to help others facing similar challenges. One fateful day, news arrived that a massive hurricane was rapidly approaching Havenview. Panic rippled through the town as everyone prepared for the worst. Maya, too, sprang into action, organizing an emergency shelter in the town's community center. She knew that this storm would bring devastation, but she was determined to ensure that no life would be needlessly lost. As the hurricane loomed closer, the people of Havenview sought refuge in the shelter. Families clung to one another, their faces etched with both fear and hope. Among the crowd, Maya noticed an elderly couple, Anna and Emil, who stood out from the rest. They had escaped a war-torn country and had arrived in Havenview as refugees. Their resilience and quiet strength had left an indelible impression on Maya since she first met them. She had heard fragments of their story, and it spoke of a journey fraught with danger and loss. The storm arrived with a ferocity that exceeded everyone's expectations. The wind howled, flinging debris through the air like projectiles, and rain pounded relentlessly on the rooftops. Inside the shelter, Maya, Anna, and Emil huddled together, their hearts surging with trepidation. The walls trembled under the onslaught of nature's fury, and fear painted their faces. Maya knew this was a test unlike anything Havenview had faced before. Time seemed to stretch infinitely as the storm raged on, pounding Havenview unrelentingly. The once vibrant town now lay in tatters, its buildings reduced to mere shells by the hurricane's wrath. But despite the devastation, Maya held onto a flicker of hope. She knew that survival required not just physical strength, but also the bonds of community and the resilience of the human spirit. When the storm finally subsided, the survivors emerged from their makeshift sanctuary, their eyes wide with disbelief at the destruction that surrounded them. Everywhere they looked, the town bore the scars of nature's rampage. But amidst the ruins, they found strength in each other. They banded together, clearing debris, comforting the wounded, and offering support to those who had lost everything. In the aftermath of the storm, Havenview started to rebuild. The disaster had tested the town's mettle, but it had also revealed the power of compassion and the unyielding spirit of its inhabitants. Maya, Anna, and Emil became beacons of hope, reminding everyone that survival was within their grasp. They shared their stories, inspiring others to overcome adversity and find the strength to start anew. Years passed, and Havenview flourished, evolving into a resilient community bound by the bonds forged in the wake of disaster. Maya continued her work, dedicating herself to disaster preparedness and helping refugees find solace and stability in their new homes. Through her tireless efforts, she created a network of support, weaving the stories of survival and resilience into the fabric of Havenview's collective memory. In the end, the story of Havenview became one of triumph over adversity. It stood as a testament to the indomitable nature of the human spirit, capable of withstanding even the harshest of storms. And as the town flourished, its people held onto the lessons learned from that life-altering disaster, forever grateful for the chance to survive and thrive in the face of unimaginable challenges.\n",
            "Example 15: In the small coastal town of Ravenscroft, nestled between the misty cliffs and the churning sea, there lived a young woman named Evelyn. With her penetrating green eyes and a cascade of chestnut curls that danced upon her shoulders, Evelyn was known throughout the town for her ethereal beauty. But it wasn't just her appearance that set her apart; she possessed a rare gift - the ability to have premonitions and prophetic dreams. From a young age, Evelyn had been plagued by vivid dreams that predicted future events. She would wake in a cold sweat, heart racing, as she relived the visions that often proved to be true. The townsfolk, both intrigued and fearful, whispered rumors of witchcraft and sorcery. But Evelyn, ever the kind-hearted soul, used her gift to help those in need. One particular summer, the town was ablaze with excitement as the annual Harvest Festival drew near. The streets were lined with vibrant stalls, bursting with colorful produce and handcrafted wares. Evelyn wandered through the bustling crowd, her heart both thrilled and unnerved by the sights and sounds. As she brushed past a fortune teller's tent, a shiver crept down her spine. A chilling gust of wind whispered through the air, carrying the faint scent of jasmine. Unable to resist the pull, Evelyn stepped inside the tent, its velvety drapes cocooning her in a world of mystery. The fortune teller, a weathered old woman, sat hunched over a crystal ball that shimmered in the candlelight. With a voice that seemed to echo from another realm, she beckoned Evelyn closer. Child, the fortune teller rasped, your dreams are not mere figments of your imagination. They are windows into the future, gifts bestowed upon you by higher forces at work. Evelyn's eyes widened, her heart pounding within her chest. But beware, the fortune teller warned, for with great power comes great responsibility. There are those who would seek to use your abilities for their own gain, and others who would fear the unknown. Evelyn nodded, her mind filled with a dizzying mix of trepidation and curiosity. She felt an unspoken understanding pass between her and the fortune teller, as if their souls were entwined in an ancient dance. In the days that followed, Evelyn's premonitions became more frequent and vivid. She saw visions of a devastating storm that would threaten to engulf Ravenscroft, leaving destruction in its wake. Determined to protect her town, Evelyn gathered the townsfolk and shared her prophetic dreams, urging them to take shelter and make necessary preparations. At first, the people were skeptical, dismissing Evelyn's warnings as the ramblings of an eccentric girl. But as the days wore on and the tempest drew nearer, the sky grew dark and heavy, mirroring the turmoil within the hearts of the townspeople. They began to listen, their doubts melting away like ice beneath the sun. When the storm finally arrived, it was as if the very wrath of the heavens had been unleashed. Thunder roared and lightning cracked across the sky, illuminating the rugged cliffs and towering waves that crashed against the shoreline. The ferocious winds threatened to tear the houses asunder. But thanks to Evelyn's premonitions, the people of Ravenscroft were prepared. Families huddled together in the safety of their storm cellars, while others sought refuge in the town's sturdy buildings. As the storm raged on, Evelyn's heart filled with both gratitude and a profound sense of purpose. Days turned into nights, and nights into days, until finally, the tempest subsided and Ravenscroft emerged battered but unbowed. The townsfolk rejoiced, their faces etched with gratitude as they embraced Evelyn, recognizing her as their savior. Through her gift of premonitions and prophetic dreams, Evelyn had not only saved her beloved town but also revealed a truth that lingered just beneath the surface of their everyday lives - the inexplicable magic that exists in the realm of the paranormal. And so, as the sun cast its warm golden glow upon the healing town of Ravenscroft, Evelyn knew that her path was clear. With her dreams as her guide, she would continue to use her gift to protect and inspire, forever uncovering the mysteries that lay hidden within the tapestry of the paranormal world.\n",
            "Example 16: In the not-too-distant future, where skyscrapers pierced the clouds and hovercars whizzed along elevated freeways, a city known as NeoMetro stood as a testament to the possibilities of advanced transportation systems. The sprawling metropolis bustled with life, its citizens seamlessly gliding from one place to another in sleek and futuristic modes of transport. The air hummed with the gentle whirring of magnetic levitation trains, propelling commuters across vast distances in mere minutes. At the heart of NeoMetro, Jonas Reed, a brilliant engineer with a passion for pushing the limits of transportation, toiled in his small yet cluttered workshop. Fueled by his unwavering dream to revolutionize the way people moved, Jonas dedicated every waking moment to creating a groundbreaking transportation system. His invention, tentatively named the Transcendence, promised to revolutionize the concept of travel and reshape the future of cities across the globe. As the days turned into weeks, Jonas's tireless efforts began to bear fruit. With meticulous precision, he fine-tuned the Transcendence, a sleek and spherical contraption that utilized advanced magnetic propulsion. When activated, it would render the user weightless, allowing them to navigate through the city with unparalleled speed and freedom. News of Jonas's invention reached the ears of the city's mayor, Victoria Walters, a progressive visionary with a deep admiration for innovation. Recognizing the potential of the Transcendence, she summoned Jonas to a meeting in her luxurious office, nestled atop one of NeoMetro's tallest skyscrapers. I've heard remarkable things about your invention, Mr. Reed, Mayor Walters said, leaning forward in her polished black leather chair. NeoMetro has long been at the forefront of advanced transportation systems, and it seems your Transcendence could be the long-awaited next leap forward. Jonas's heart swelled with pride, but he couldn't help but feel a twinge of uncertainty. Mayor Walters, my invention may hold promise, but it's untested outside my workshop. I fear the unknown risks associated with such a groundbreaking concept. Mayor Walters smiled, her eyes reflecting the gleam of the city below. Mr. Reed, every great achievement begins with a leap of faith. I have faith in you, and I believe the Transcendence is the key to unlocking a better future for our city. Emboldened by the mayor's words, Jonas and his team embarked on an ambitious pilot project. They retrofitted a designated section of NeoMetro with designated Transcendence lanes, creating a transportation network that seamlessly integrated this new mode of travel with existing systems. The press dubbed it The Pathway to Tomorrow, and anticipation rippled through the city as the moment of truth drew near. The day of the grand unveiling arrived, with NeoMetro's most influential citizens gathered in a vast exhibition hall. The Transcendence hummed with energy, eagerly awaiting its first passengers. Jonas's heart raced as he stood before the crowd, confidence tempered with trepidation. Mayor Walters stepped to the podium, her voice resonating with hope and excitement. Ladies and gentlemen, today we stand on the precipice of a new era in transportation, she proclaimed, her voice carrying to the far corners of the hall. Through the Transcendence, we shall transcend the constraints of time and space, ushering in a future where our city is seamlessly connected and traversed with ease. As Jonas watched the first brave volunteers step into the Transcendence, his vision materialized before his eyes. The spherical contraption activated, and the volunteers floated weightlessly into the air, propelled through the designated lanes with mind-boggling velocity. Their exhilarated faces reflected a blend of awe, excitement, and pure bliss. The crowd erupted with applause, their thunderous cheers reverberating through the hall. Jonas, his heart swelling with pride, knew that the Transcendence was not only a marvel of engineering but a stepping stone towards a future where transportation barriers were shattered, and humanity soared to new heights. With the success of the pilot project, NeoMetro integrated the Transcendence system across the entire city, transforming the landscape into a symphony of futuristic transportation. The once-congested streets became vibrant walkways, where pedestrians glided effortlessly through the air, aided by the Transcendence's captivating propulsion. Jonas's groundbreaking invention became a global phenomenon, inspiring cities worldwide to embrace advanced transportation systems. His name echoed through history books, forever woven into the tapestry of human progress. And so, in this future world that seamlessly blended technology and human ingenuity, Jonas Reed's Transcendence transported mankind beyond the confines of time and space, forever altering the way we moved, connected, and experienced the marvels of our ever-changing world.\n",
            "Example 17: In the verdant hills of Haiti, a small village named Saint-Domingue lay nestled, surrounded by endless stretches of sugar cane fields and vibrant tropical flora. It was the late 18th century, a time of great turmoil and unrest. The French colonizers, driven by their insatiable greed, ruled over the enslaved African population with an iron fist. The inhabitants of Saint-Domingue lived in constant fear and anguish, their spirits broken by the harsh realities of slavery. But hidden beneath their docile exteriors, a spark of rebellion flickered, waiting for the right moment to ignite a fire that would consume their oppressors. Amidst this atmosphere of oppression, there was a young slave named Jean. His ebony skin bore the etchings of hard labor under the scorching sun, but his spirit remained unyielding. Jean had grown weary of the cruel treatment and yearned for freedom, not just for himself but for his people. His mind brimmed with tales of the courageous rebels who had fought for liberty in other lands, and he knew deep within his heart that the time for his people's rebellion had come. One fateful evening, as the indigo sky bled into shades of gold, Jean gathered his fellow slaves secretly in a secluded clearing. His words, like a symphony of defiance, filled the air as he spoke of freedom and the fight against oppression. Inspired by his impassioned rhetoric, the men and women of Saint-Domingue pledged allegiance to his cause, their voices rising in unison, their determination mirroring the flames dancing around them. Word of this clandestine rebellion reached the ears of the French plantation owners, striking fear into their hearts. They trembled at the thought of losing their fortune and their power. In a desperate attempt to maintain control, they increased the brutality and cruelty inflicted upon the enslaved population. But their actions only served to feed the burning rebellion that smoldered within the hearts of the oppressed. As the rebellion grew in strength, Jean emerged as a charismatic leader, guiding and uniting his people. He strategized, organizing clandestine meetings and training sessions under the moonlit sky. The slaves, previously demoralized and fragmented, now stood united in their shared quest for freedom. Their spirits soared as they envisioned a future where chains would be replaced with opportunity, and oppression with equality. The French colonizers, sensing the danger that loomed before them, sought to quell the uprising with brutal force. They deployed an army to crush the rebellion, but the spirit of the Haitian people refused to be trampled underfoot. The rebels fought valiantly, using their knowledge of the vast landscape to their advantage. Guerrilla tactics and a deep-rooted determination allowed them to repel the French forces time and time again. Months turned into years as the rebellion gained momentum, their numbers swelling as more slaves joined their cause. Jean, now revered as a revered figurehead, continued to lead with unwavering resolve. Regardless of the hardships they faced, their spirits never wavered, fueled by the dream of a free Haiti. The turning point came in 1804. After bloody battles and countless sacrifices, the rebels emerged victorious, shattering the chains of oppression that had bound them for generations. The Haitian Revolution, the first successful slave rebellion in history, had triumphed, securing independence for the enslaved Africans and forever reshaping the course of history. As the dust settled, Jean, now known as Jean-Jacques Dessalines, stood before his liberated people. His voice, tinged with both sorrow and triumph, resonated through the air. He spoke of the remarkable achievement they had accomplished, reminding them of the immense courage that had brought them to this moment. With tears of joy streaking their faces, the people of Haiti celebrated their newfound freedom – a freedom won through the indomitable spirit of rebellion against their oppressors. The Haitian Revolution became a shimmering beacon of hope, illuminating the path for countless others who dared to challenge the chains of oppression. Through their struggle, the people of Haiti had etched their names into the annals of history, forever remembered as fierce warriors who fought relentlessly for their freedom, leaving an indelible mark on the world. And Jean-Jacques Dessalines, the spark that ignited the flames of rebellion, would forever be hailed as a hero who dared to dream of a world without chains.\n",
            "Example 18: In the vast expanse of the cosmos, where stars shimmered like incandescent jewels in a sea of darkness, humanity embarked on its most audacious endeavor yet - deep-space missions to other galaxies. Commanding the spotlight of this narrative is Captain Amanda Roberts, a seasoned astronaut, and her intrepid crew aboard the starship Odyssey. Their mission: to reach the Andromeda Galaxy, a staggering 2.5 million light-years away from Earth. The Odyssey, an awe-inspiring vessel, stood poised on the launchpad, its sleek exterior glimmering under the starlit night. As the countdown neared its climax, Captain Roberts looked out at the gathered crowd. They were scientists, explorers, and dreamers, all unified by a shared belief in humanity's unyielding spirit of discovery. With a thunderous roar, the starship erupted into the sky, piercing through the Earth's atmosphere. The crew, a diverse blend of specialists from various scientific fields, propelled towards the unknown with unwavering determination. On the long journey through the inky vastness of space, they faced countless challenges and adversities. As the Odyssey ventured deeper into uncharted space, they encountered a phenomenon that defied all expectations - an enigmatic wormhole. Its swirling vortex of energy promised a shortcut, a gateway to distant galaxies. Captain Roberts, driven by the thirst for knowledge and the desire to push the boundaries of exploration, made the bold decision to navigate the treacherous path. In the midst of this cosmic chaos, the starship was flung into a parallel dimension. The crew found themselves facing a chilling reality - trapped in an unknown part of the universe with limited supplies and dwindling hope. Cursing their misfortune, they stood at the precipice of despair, caught between the allure of discovery and the harsh reality of survival. However, within the darkest moments, the human spirit flourishes. The crew forged a renewed determination, drawing strength from their unity and shared vision. They calibrated their instruments, studied their surroundings, and devised a plan to chart a course back to their original mission - reaching the Andromeda Galaxy. Days turned into weeks, as the crew diligently navigated space-time anomalies and gravitational fields. Each member of the Odyssey demonstrated unwavering resolve, pushing the limits of their endurance. The starship soared through celestial wonders, past spiraling galaxies and shimmering nebulas, fueled by the indomitable spirit of human exploration. Finally, after arduous months, the starship emerged from the labyrinth of the parallel dimension. They stood on the precipice of their destination, the Andromeda Galaxy, its celestial splendor beckoning them forward. Captain Roberts and her crew marveled at the sheer magnitude and beauty that lay before them, a testament to the vastness of the universe. Their mission, though arduous and fraught with uncertainty, had reached its zenith. The crew marinated in their collective triumph, a tapestry spun from resilience and passion. They had explored the farthest reaches of the cosmos, unraveling secrets and pushing the boundaries of human knowledge. As the Odyssey made its triumphant return to Earth, it carried with it a new chapter in the annals of exploration. Captain Roberts and her crew were hailed as heroes, pioneers who dared to touch the stars. Their odyssey, both a feat of scientific innovation and a testament to the human spirit, stood as a reminder of the immense potential dwelling within our species. And so, humanity's quest for exploration continued, fueled by the stories of the past and the promise of the future. For in the vastness of the cosmos, where stars trembled and galaxies danced, the human spirit remained infinite, forever reaching towards the final frontier of knowledge.\n",
            "Example 19: In a desolate world crippled by fear and control, where creativity is suppressed and artistic expression diminished, a lone artist named Elysia found solace amidst the ruins. The year was 2159, and the oppressive regime known as The Directorate had established a stranglehold on society, enforcing strict rules and regulations to maintain their grip on power. Art, once a vibrant and integral part of humanity, had been reduced to a mere whisper, drowned out by the cacophony of conformity. Elysia lived in a small, dilapidated apartment on the outskirts of the city, where the gray concrete walls mirrored the bleakness of her existence. With each brushstroke, she defied the suffocating norm, etching her unwavering spirit onto the canvas. The colors she used were vibrant, depicting scenes of a world long forgotten; nature's beauty, hope, and the power of human emotion. Her art conveyed a message, a yearning for freedom and a rebellion against the suffocating grip of The Directorate. One fateful evening, Elysia's art caught the attention of a clandestine group known as The Resurgence. Comprised of rebels and dissidents, their mission was to overthrow The Directorate and reinstate the importance of art, music, and literature in society. Mesmerized by Elysia's defiance and her ability to breathe life into the stagnant world, they sought her out, ultimately recruiting her to join their cause. Elysia hesitated but knew that true change required action. Armed with her passion for art and a burning desire for liberation, she delved into a world she never thought possible. The Resurgence taught her the secret art of covert communication through hidden messages in her paintings and the rhythmic notes of forbidden songs. As her role within The Resurgence grew, so did the danger she faced. The Directorate, suspicious of any hint of rebellion, unleashed their formidable forces, led by the merciless General Pollock. The city streets became battlegrounds, filled with propaganda posters and surveillance drones that monitored every movement. Despite the relentless pursuit, Elysia remained hidden, snaking through the shadows to safeguard her art and the freedom it symbolized. During a daring rescue mission to liberate renowned artists held captive by The Directorate, Elysia faced her greatest challenge yet. As the rebels fought for their lives in the dimly lit tunnels beneath the city, Elysia stood face-to-face with Pollock, their eyes locked in an icy stare. In that moment, the weight of the world bore down upon her. She knew that her art had the power to change minds, to ignite hope in even the darkest of hearts. Without hesitation, Elysia reached for her paintbrush, conjuring swirling colors upon the walls of the tunnel. As the shimmering hues danced and mingled, a mesmerizing mural emerged, depicting a world where creativity flourished, and art transcended boundaries. Pollock's eyes softened, his hardened heart momentarily touched by the beauty before him. In that instant, Elysia understood the true power of art — its ability to speak directly to the soul, bypassing the barriers of politics and control. With tears welling in his eyes, Pollock nodded, a silent acknowledgment of her cause. He turned and disappeared into the darkness, leaving Elysia and the rebels to continue their fight. Word of her transformative mural spread like wildfire amongst the citizens, rekindling a flicker of hope in their hearts as they dared to dream of a world where artistic expression was no longer suppressed. United by Elysia's art, The Resurgence intensified their efforts, rallying the oppressed, and soulful melodies echoed through the streets, touching even the most hardened souls. The Directorate, shaken by the awakening spirit within society, crumbled under the weight of their citizens' collective defiance. The regime was overthrown, and a newfound era of artistic flourishing and freedom dawned upon the world. Elysia, once a solitary artist confined to the shadows, now stood at the forefront of a cultural revolution. The once barren city walls bloomed with vibrant murals, expressing the dreams and desires of a liberated people. Museums, theaters, and galleries emerged, offering sanctuaries for imagination and innovation. And as for Elysia, she continued to paint, forging a bridge between the new world and the past. Her art spoke of resilience, of the transformative power of the human spirit, reminding all that creativity could never be extinguished for it was a force that transcended even the darkest of dystopian realms.\n",
            "Example 20: In the year 49 BCE, the Roman Republic stood on the precipice of a monumental decision. After centuries of rule by the Senate and the patrician class, the Roman people found themselves at a crossroads. Julius Caesar, the military genius and statesman who had conquered vast territories, now stood before the gates of Rome with his loyal legions. In this moment of uncertainty, Lucius Octavius, a prominent senator known for his steadfast belief in the ideals of the Republic, found himself torn. On one hand, he admired Caesar's military prowess and the stability he could potentially bring to Rome. On the other hand, he feared the consolidation of power in one man's hands and the erosion of the Republic's democratic institutions. Lucius convened with a group of fellow senators who shared his concerns. Among them was Marcus Antonius, a charismatic speaker with bold ambitions for reform, and Decimus Brutus, a trusted military commander known for his unwavering loyalty to the Republic. They discussed the challenges facing Rome and debated the merits of various paths forward. As the Senate met to discuss Caesar's potential rise to power, Lucius Octavius stood before his peers, his voice steady and resolute. He argued passionately for the preservation of the Republic, urging his fellow senators to resist the temptation of placing too much power in the hands of one man. His words struck a chord with many, and the Senate voted to prevent Caesar's ascension to absolute authority. In the aftermath of this decision, Caesar defied the Senate and marched his legions into Rome. What followed was a long and grueling civil war, with Lucius Octavius, Marcus Antonius, and Decimus Brutus leading the resistance against Caesar's forces. The people of Rome stood divided, torn between loyalty to the Republic and admiration for Caesar's military prowess. Amidst this chaos, Lucius Octavius knew that simply opposing Caesar was not enough. To truly save the Republic, they needed a new vision, one that blended elements of the old with the possibility of lasting change. Lucius called upon his fellow senators to forge a compromise, to create a new system that would prevent the abuse of power while still allowing for progress and reform. After years of bloodshed and political maneuvering, Lucius, Marcus, and Decimus unveiled their vision for a lasting democracy in Rome. They proposed the establishment of a bicameral legislature, with an elected Senate representing the patricians and a new assembly representing the common people. Power would be decentralized, with regional governments given greater autonomy and oversight. Their proposal garnered support from both sides of the conflict. Even Caesar, now battle-weary and recognizing the importance of a united Rome, was open to compromise. The Roman people, exhausted by years of war, welcomed the promise of stability and progress. In the year 44 BCE, the Roman Republic officially transitioned into a lasting democracy. Lucius Octavius, Marcus Antonius, and Decimus Brutus became the architects of a new era, their names etched in history as champions of the Republic. Though the path forward was not without challenges, the Roman people embraced their newfound democracy and worked tirelessly to build a brighter future for all. The Roman Republic, once on the brink of destruction, emerged from the ashes with renewed vigor and purpose. The lessons learned from its near demise would guide future generations, reminding them of the importance of balance, compromise, and the unshakable belief in the power of democracy. And in the annals of history, the names of Lucius Octavius, Marcus Antonius, and Decimus Brutus would forever be remembered as the heroes who safeguarded the Republic and paved the way for a more prosperous Rome.\n"
          ]
        }
      ]
    },
    {
      "cell_type": "code",
      "source": [
        "print(list_of_20_examples)"
      ],
      "metadata": {
        "id": "KQNGJxeB1qGL"
      },
      "execution_count": 41,
      "outputs": []
    },
    {
      "cell_type": "code",
      "source": [
        "print(len(list_of_20_examples))"
      ],
      "metadata": {
        "colab": {
          "base_uri": "https://localhost:8080/"
        },
        "id": "ZKHbopt_2h9o",
        "outputId": "78f654e9-f479-4b45-b9ef-6313741ba7ae"
      },
      "execution_count": 42,
      "outputs": [
        {
          "output_type": "stream",
          "name": "stdout",
          "text": [
            "[\"Once upon a time in the bustling city of New York, where concrete buildings reached up to touch the heavens, there lived a young and aspiring artist named Emily. Her heart beat to the rhythm of creativity, and her fingers danced effortlessly across the canvas, breathing life into her vibrant masterpieces. Born into a family of renowned artists, Emily carried the weight of expectation upon her slender shoulders. In the heart of Manhattan, amid the crowded streets and blaring horns, lay an enchanting art gallery known as The Palette's Haven. Owned by the revered curator, Mr. Jackson, this sanctuary served as a sanctuary for artists and art lovers alike. Its polished oak floors reverberated with the footsteps of those who sought inspiration and solace from the vibrant works of art lining the walls. One fateful day, Emily's brushes and palettes were drawn towards The Palette's Haven, as if guided by an unseen hand. She ventured into the gallery, mesmerized by the symphony of colors and textures that adorned the walls. The artistic echos of her forefathers seemed to call out to her, urging her to decipher their secrets and breathe new life into their age-old techniques. As fate would have it, Mr. Jackson, the curator himself, caught sight of Emily's radiant presence amidst the sea of art enthusiasts. Intrigued by her untamed passion, he approached her with a gentle smile and invited her into his private office. There, they engaged in a lively conversation, sharing stories of artistic pursuits and the trials faced by those who dared to defy convention. Deeply moved by Emily's unyielding dedication and raw talent, Mr. Jackson offered her a rare opportunity: a solo exhibition at The Palette's Haven. Emily's heart danced with joy, a symphony of colors illuminating her soul as she embraced this extraordinary chance to showcase her artistry to the world. From that moment on, day and night melded seamlessly into one as Emily locked herself away in her studio, her brushes swaying gracefully across the canvas. She poured her heart into each stroke, weaving together emotion and beauty in a vivid tapestry of colors. Every detail held significance—every brushstroke, a piece of her soul immortalized in her art. The day of the grand exhibition arrived, and the doors of The Palette's Haven opened wide, welcoming hordes of curious art enthusiasts. Emily stood amidst her creations, trembling with a blend of excitement and nervousness. The symphony of colors that graced the walls seemed to whisper secrets of her journey, inviting the viewers to delve into the depths of her soul. As the visitors perused each piece, an electrifying energy filled the room. Whispers of awe and admiration danced through the crowd, like fireworks illuminating a star-studded sky. Emily's art had captivated them, evoking emotions that transcended mere words. The viewers became one with her creations, lost in the realms of imagination she had painstakingly sculpted. Among the crowd, a prominent art collector, Mr. Thompson, stood entranced by Emily's works. His eyes glimmered with newfound appreciation as he realized he had discovered a remarkable talent. Determined to nurture it, he approached Emily with an offer—an exclusive contract that would grant her the opportunity to pursue her art on a grander scale, free from the shackles of financial constraints. With the weight of expectations lifted from her young shoulders, Emily embraced this newfound journey. She traveled to distant lands, seeking inspiration in the vibrant hues of exotic landscapes, in the tranquil murmurs of lost civilizations, and in the kaleidoscope of cultures she encountered along the way. Her art flourished like a magnificent garden, merging the essence of her artistic heritage with her own unique perspective. Years rolled by like the waves of the eternal sea, and Emily's name became synonymous with artistic brilliance. Her exhibitions filled galleries across the globe, and masses flocked to witness the magic she spun with her brushes. Yet, amid the triumphs and accolades, she never forgot the humble beginnings that shaped her artistic sensibilities—the echo of her forefathers, the whispers of inspiration that resonated deep within her soul. Emily became not just an Artist but a guiding light for aspiring artists, nurturing their talents and inspiring them to embrace the wild abandon of creativity. She established the Emily Art Foundation, a haven for young artists to explore their imagination, devoid of the constraints that so often stifle brilliance. And so, the story of Emily, the visionary artist, and her pursuit of artistic brilliance came to its conclusion. From the vibrant city of New York, she blossomed into a revered artist whose legacy would endure through generations, forever immortalized in her art and in the hearts of those who experienced its indescribable beauty.\", \"Deep within the sprawling metropolis of New Hope, a once vibrant and bustling city now lay in the clutches of a clandestine darkness. The year was 2125, and society had slowly unraveled under the weight of an oppressive regime. The air was thick with tension, as citizens moved through the crowded streets with a sense of fear etched upon their faces. At the heart of this dystopian landscape stood a young woman named Mia, her bright hazel eyes shining with a flicker of rebellion. Mia had grown up on the outskirts of New Hope, sheltered from the grip of the authoritarian regime. It was only when she ventured into the city that she realized the extent of the control and manipulation that governed every aspect of life. Mia's journey began one fateful day as she stumbled upon a forbidden book hidden away in an abandoned library. The book spoke of an era long ago, when freedom and individuality were cherished above all else. It ignited a fire within her, compelling her to seek out like-minded individuals who still dared to dream of a better future. With each passing day, Mia delved deeper into the heart of the resistance movement, joining their clandestine meetings held in the dimly lit basements of forgotten buildings. The group was a patchwork of individuals from all walks of life, united by their shared desire for liberty and their unwavering commitment to overthrow the oppressive regime. Together, they strategized and planned, whispering in hushed tones as they devised a plan to expose the corruption and bring down the authoritarian leaders who held New Hope in an iron grip. Their main target was the High Chancellor, a cunning and ruthless man who ruled with an iron fist. As the resistance gained momentum, the regime retaliated with brutal force, deploying their secret surveillance squad known as the Shadow Keepers to infiltrate the group's ranks. Their objective was clear: to quash any hint of rebellion and ensure the populace remained docile and compliant. The city became a battleground, as the resistance fought against the Shadow Keepers in a relentless struggle for freedom. Narrow escapes, secret codes, and covert missions became the norm, as Mia and her fellow rebels fought tooth and nail to maintain a flicker of hope in the darkest of times. Time wore on, and the resistance's determination never wavered. They tirelessly rallied the citizens, exposing the regime's atrocities through underground newspapers and spreading their message through whispers in the shadows. And finally, as the High Chancellor's reign of terror seemed all-consuming, the tide began to turn. With the combined efforts of the resistance and a groundswell of support from the citizens, the walls of oppression began to crumble. Emboldened by the growing unrest, the High Chancellor's grip on power slipped, revealing the vulnerabilities he had so meticulously hidden. In a climactic showdown, Mia and her companions confronted the High Chancellor, demanding justice for the countless lives he had ruined. With every ounce of strength, they overpowered his guards, leaving him powerless and at their mercy. They stood victorious, not only against the regime, but against the shadow of authoritarianism that had loomed over their lives for far too long. New Hope rejoiced as the High Chancellor was brought to justice, a symbol of the resilience and indomitable spirit of its people. The city slowly began to heal, its wounds gradually mending as the scars of oppression faded away. Mia and her fellow rebels had sparked a revolution, marking the beginning of a new era where freedom and individuality flourished once more. And so, within the confines of this dystopian society, a flicker of hope had grown into a roaring flame, inspiring generations to come. The rise of authoritarianism had been halted, its grasp finally loosened by the bravery and unwavering resolve of those who dared to challenge its dominance. In their triumph, they had not only reclaimed their city but had carved a path toward a brighter, freer future for all.\", \"In the vast expanse of the universe, humanity yearned to push the boundaries of what was known and venture into the realms of the unknown. The time had come for interstellar travel, for the dreams of reaching distant stars to become a reality. Across the world, brilliant minds and fearless pioneers worked tirelessly to build a vessel that could traverse the infinite void of space. High among those visionaries was Dr. Amelia Carter, an astrophysicist renowned for her groundbreaking research on neutron stars. Her passion for unraveling the secrets of these enigmatic celestial bodies burned brighter than the most distant supernova. Driven by her insatiable thirst for knowledge, she devoted her life to crafting a vessel capable of conducting interstellar exploration of neutron stars. Together with a team of exceptional scientists, engineers, and explorers, Dr. Carter embarked on a mission to pioneer this interstellar odyssey. Their spacecraft, named the Celestial Endeavor, was a masterpiece of engineering, designed to withstand the rigors of cosmic travel and venture into regions of space never before reached by humanity. As the Celestial Endeavor prepared for its maiden voyage, excitement and anticipation filled the air. In the control room of the spacecraft, Dr. Carter stood surrounded by her devoted crew. Commander Mark Collins, a seasoned astronaut with nerves of steel, took his position at the helm. The crew members, each with their unique expertise and unwavering determination, eagerly awaited the launch. With a thunderous roar, the engines ignited, propelling the Celestial Endeavor into the unknown. The Earth grew smaller and smaller until it was nothing more than a pale blue dot in the vast darkness of space. Time stretched endlessly as the ship hurtled through the cosmos, propelled by cutting-edge technology and human ingenuity. Finally, after what seemed like an eternity, the Celestial Endeavor arrived at the outskirts of a distant star system. It was there that Dr. Carter's lifelong ambition would be realized. Neutron stars, with their tremendous gravitational pull and unimaginable density, held the promise of untold scientific discoveries. As the crew descended upon the gravitational maelstrom, their senses were overwhelmed by the intense warping of spacetime. The Celestial Endeavor maneuvered through the treacherous conditions, and everyone braced themselves for the imminent encounter with a neutron star. A brilliant explosion of colors filled the viewscreen, as the ship entered the vicinity of the neutron star. The crew marveled at the raw power and beauty of the celestial giant before them. Dr. Carter and her team quickly set to work, collecting data, capturing images, and analyzing the phenomenon that surrounded them. However, their joy quickly turned to trepidation as a catastrophic event unfolded. The gravitational forces at play were far greater than anticipated, and the Celestial Endeavor began to succumb to its pull. Alarms blared throughout the ship as the crew fought desperately to regain control of their vessel. In the face of imminent disaster, the brilliant minds aboard the Celestial Endeavor worked together, drawing on every ounce of knowledge and skill to find a solution. Dr. Carter, ever resourceful, devised a daring plan to engage the ship's emergency warp drive, using the tremendous gravitational forces to sling the vessel away from the neutron star. With a leap of faith, they executed the plan, and in a dazzling display of cosmic ballet, the Celestial Endeavor escaped the clutches of the neutron star's gravitational grip. The ship hurtled through space, back towards the known regions of the universe, carrying with it the invaluable data collected during their perilous encounter. Upon returning home, Dr. Carter and her crew were hailed as heroes. Their fearless pursuit of knowledge had brought humanity one step closer to understanding the enigmas of the cosmos. The data they gathered would revolutionize our understanding of neutron stars, paving the way for future exploration and breakthroughs. Dr. Carter was awarded numerous accolades and became an inspiration for generations to come. Her unwavering dedication to the pursuit of knowledge, coupled with her indomitable spirit, proved that the human potential for exploration knew no bounds. And so, the celestial tapestry of mankind's journey into the stars continued to unfurl, with the boundless wonders of the universe waiting to be discovered by those daring enough to venture into the unknown.\", \"In the heart of the French countryside, amidst rolling hills and lush green meadows, stood a small village called Sainte-Marie. It was the year 1944, and as World War II raged across Europe, the tranquil life of this village was about to be forever changed. The townspeople, ordinary men, women, and children, went about their daily routines, unaware of the impending storm that would soon sweep over their lives. Among the villagers was a young woman named Emilie, with fiery red hair and a spirit that burned as bright as the sunflowers that graced the fields. She had grown up in Sainte-Marie, her days filled with laughter, tales of bravery, and dreams of adventure. Yet, as the war encroached upon their doorstep, Emilie's world shifted, and she found herself with a new purpose. One fateful morning, as the distant sounds of artillery echoed through the air, Emilie received a letter. It was an invitation, beckoning her to join the underground resistance movement that operated in the neighboring town. For years, Emilie had heard stories of brave women who had defied societal norms to fight for their country. With unwavering determination, she embraced her call to duty, bidding her family farewell as she set off to join the resistance. The journey to the secret resistance camp was treacherous, and Emilie navigated the winding paths with caution. As she arrived at the camp nestled deep within the forest, she was greeted by a hushed hubbub of whispered conversations and a sense of purpose that hung in the air. Here, women from all walks of life gathered, united by their common devotion to freedom. Emilie soon found herself training alongside other brave women, mastering the art of sabotage, espionage, and guerilla warfare. They studied maps, deciphered codes, and honed their skills, preparing for the battles to come. Each day brought a newfound strength to Emilie's spirit, as she realized the vital role women played in the war effort. They were the silent heroes who worked behind the scenes, infiltrating enemy lines and providing crucial information. As the war raged on, Emilie and her fellow resistance fighters embarked on daring missions. They sabotaged supply lines, gathered intelligence, and sheltered allies in the face of danger. Their actions were instrumental in weakening the enemy forces, serving as a shining beacon of hope for their war-torn country. In the midst of this chaos, tragedy struck the village of Sainte-Marie. The German army, retaliating against the growing resistance movement, descended upon the village, leaving destruction and despair in their wake. Emilie's childhood home was reduced to rubble, and her family, like so many others, fell victim to the brutality of war. Devastated yet resolute, Emilie's resolve to fight only grew stronger. Alongside the resistance, she led a daring mission to sabotage a German munitions depot. It was a perilous endeavor, but the women fought with a tenacity borne from the love they held for their country and the desire to protect future generations from the horrors of war. In a blaze of gunfire and explosions, the depot was reduced to ashes, symbolizing a small victory in the face of overwhelming adversity. Emilie and her fellow resistance fighters returned to the camp, battle-weary but triumphant. Their actions had saved countless lives and struck a blow to the enemy's strength. With the end of the war drawing near, Emilie emerged as a symbol of resilience and courage. She, along with her comrades, were hailed as heroes and honored for their sacrifice. The role of women in war, once overlooked, was now celebrated and recognized for its indispensable contribution. Emilie returned to the ruins of Sainte-Marie, determined to rebuild her home and honor the memory of her loved ones. Life slowly returned to the village, as spring blossomed into summer, and the scars of war began to fade. Emilie, now a leader and inspiration to future generations, dedicated herself to ensuring that the stories of women in war would never be forgotten. Through her unwavering efforts, she established a memorial in Sainte-Marie, where the tales of bravery and sacrifice would forever be etched into the hearts of all who visited. And so, in a world forever changed by the ravages of conflict, Emilie's legacy lived on. Her fighting spirit, combined with the collective strength of courageous women, served as a reminder that in the darkest of times, it is often the unyielding determination and unwavering dedication of women that brings forth the flicker of hope that illuminates the path towards a brighter future.\", \"In the small town of Crestwood, nestled in the heartland of America, there lived a young boy named Samuel Collins. The signs of war surrounded him, as the sound of fighter jets echoed in the distance and news of fallen soldiers filled the airwaves. Samuel grew up idolizing the brave men and women who fought for their country, dreaming of one day becoming a war hero himself. His room was adorned with posters of Medal of Honor recipients, their valorous faces gazing back at him with unwavering determination. Samuel's father, Major James Collins, had served in the military and regaled his son with tales of bravery on the battlefield. The young boy listened intently, hanging on every word as his father described the honor and sacrifice exhibited by those who received the prestigious Medal of Honor. Samuel's heart burned with a desire to follow in their footsteps, to make his own mark in history. As the years passed, Samuel dedicated himself to his studies, excelling in every subject to prepare himself for the arduous path that lay ahead. His friends admired his tenacity, but none understood the depth of his ambition. Samuel spent countless hours immersed in literature about military strategy, commitment, and heroism, yearning for the day when he would have his own tale to tell. Finally, the fateful day arrived. Samuel, now a strapping young man, stood tall in his uniform as he enlisted in the United States Army. He bid his family farewell, embracing his mother and shaking his father's hand with a newfound sense of purpose. The war had intensified, and Samuel was deployed to a battlefield far from home. In the harrowing chaos of war, Samuel fought with unwavering determination, his bravery shining through amidst the darkness. He witnessed the bravery of his comrades, each embodying the spirit of selflessness and honor. One day, in the midst of a relentless firefight, Samuel's unit found themselves outnumbered and outgunned. With bullets raining down around them, he singlehandedly charged towards the enemy, rallying his fellow soldiers with his extraordinary courage. News of Samuel's extraordinary act of valor spread throughout the ranks, reaching the highest echelons of the military. His name became synonymous with heroism, and whispers of a potential Medal of Honor began to circulate. Each night, Samuel would gaze upon the faces of the recipients adorning his bedroom wall, knowing that he too would soon join their ranks. After a long and grueling process, Samuel's meritorious actions were recognized, and he received the Medal of Honor. The ceremony was a remarkable affair, attended by dignitaries and high-ranking officials, who marveled at the young man standing before them, humble yet undeniably heroic. Samuel's parents beamed with pride as he was bestowed with the medal, their hearts bursting with joy. But even in the midst of celebration, Samuel's thoughts were with his fallen comrades and the countless brave souls who had made the ultimate sacrifice. He knew that the medal he wore represented not only his own bravery but also the collective valor of all those who had fought beside him. In the years that followed, Samuel became an ambassador for veterans, using his newfound platform to raise awareness for veterans' issues and provide support to those struggling with the traumas of war. He founded a foundation to honor fallen soldiers and their families, ensuring that their sacrifices would never be forgotten. Samuel Collins, the war hero who once adorned posters on his bedroom wall, had become a living embodiment of courage, integrity, and sacrifice. His journey had taken him from a small town in America to the pinnacle of honor, but it was his unwavering dedication to his fellow soldiers and the memory of those who had fallen that defined his legacy. Samuel's story served as a beacon of hope and inspiration, a reminder that even in the darkest of times, heroes emerged to light the way for others.\", \"In the sprawling city of New York, amidst the bustling streets and towering skyscrapers, there existed a vibrant artistic community. It was within this realm of creativity that two souls found each other, drawn together by their mutual passion for the arts. Their names were Ethan McKenna and Isabella Rivera, both renowned painters in their own right. Ethan, with his rugged charm and thick, tousled hair, was known for his bold brushstrokes and vibrant color palettes. Isabella, on the other hand, possessed an ethereal beauty, her eyes reflecting the depth of emotions she poured into her delicate portraits. Each time their paths crossed at art exhibitions and galleries, a spark of recognition ignited within them, signaling a shared connection that yearned to be explored. It was fate that brought Ethan and Isabella together when they received a rare opportunity to collaborate on a groundbreaking project. A prestigious art gallery had commissioned them to create a masterpiece that would encapsulate the essence of romance. The challenge excited them, the prospect of crafting a masterpiece that would capture the intricate nuances of love. Their collaboration began in a spacious loft, transformed into a haven of artistry. Canvases of all sizes lined the walls, awaiting the touch of their brushes. The air was thick with the scent of turpentine and the subtle melodies emanating from Isabella's old record player. As they worked side by side, their creative energies intertwined, fueling one another's inspiration. The project progressed with an effortless fluidity. Ethan and Isabella exchanged ideas, effortlessly translating emotions onto the blank canvases. He painted bold, fiery strokes that spoke of the intoxicating passion of new love, while she added delicate details that mirrored the fleeting tenderness found in the gentlest of embraces. The artwork began to breathe with life, each brushstroke revealing a deeper layer of their shared vision. Yet, as their masterpiece took shape, so too did a deepening relationship between Ethan and Isabella. In the stillness of the loft, their gazes lingered a little longer, their brushes occasionally brushed against one another, igniting a gentle current that electrified the space between them. A whirlwind of emotions blossomed in their hearts, as they navigated the delicate balance between their collaboration and the budding romance that flourished beneath its surface. However, as their masterpiece neared completion, a collision of doubt and insecurity threatened to unravel their shared vision. Isabella, plagued by her own fears, questioned the depth of her artistic voice. She found herself questioning if the magic they had created together was the result of her skills or the enchantment of their connection. Doubt crept into her heart, casting a shadow over their once harmonious collaboration. Ethan, sensing Isabella's internal struggle, took her aside one evening to a quiet corner of the loft. With gentle words and a heart brimming with love, he reassured her of her immeasurable talent and her irreplaceable contribution to their masterpiece. He reminded her that their collaboration was not just a meeting of two artists but a convergence of souls who shared a bond that transcended the realms of art. Isabella, touched by his words, felt the weight of her insecurities lift, replaced by a renewed sense of purpose and confidence. Together, hand in hand, Ethan and Isabella put the finishing touches on their masterpiece. It stood before them, a tangible testament to their shared vision and intertwining romance. The painting danced with colors that celebrated the tangled web of emotions that love weaves. It captured the electrifying spark of attraction, the vulnerability of baring one's soul to another, and the quiet solace found in the embrace of a loved one. On the day of the grand unveiling, as the art world looked on in awe, Ethan and Isabella stood beside their masterpiece, their eyes locked in an unspoken understanding. It was in that moment that they knew their collaboration had transcended the realm of art, transforming into a love story written in the strokes of paint upon the canvas. Their shared masterpiece brought them recognition and praise from all corners of the art world, but for Ethan and Isabella, it held a deeper significance. It was a testament to their unyielding connection, a celebration of the romance that had blossomed amidst their shared creativity. As they stood amidst the applause and accolades, they felt a sense of fulfillment that surpassed any individual success. They had not only created a masterpiece that captured the essence of romance but had also found a love story of their own, one that would continue to evolve and inspire their art for years to come.\", \"In a small, sleepy town nestled among rolling hills, there stood a proud old clock tower that overlooked the entire community. This town, Longbridge, was a place where time flowed steadily, predictable and unyielding. Its inhabitants - simple folk with simple lives - were content with the rhythm that governed their daily routines. However, one man dared to question the boundaries of time and sought to unravel its mysteries. Meet Professor Theodore Hartley, an esteemed physicist with a mane of unruly gray hair and spectacles perched on the bridge of his somber nose. He had devoted his life to deepening his understanding of the cosmos, and within the confines of Longbridge's humble university, he sought to unlock the secrets of time travel. It was his fervent belief that the limits of human understanding were boundless, and that time, too, would bow before his relentless pursuit of knowledge. Day and night, Professor Hartley toiled in his laboratory, meticulously tinkering with an intricate time machine prototype. The contraption hummed with a faint energy, promising to bend the laws of nature to the whim of its creator. The townsfolk, skeptical yet intrigued, could not fathom the true implications of such a device. One fateful afternoon, as the clock tower chimed twelve, Professor Hartley, fueled by an insatiable curiosity, stepped into the metal frame of his creation. The air crackled with anticipation as he flipped switches and adjusted dials, preparing for a journey into the unknown. With a loud whir, the machine sprang to life, engulfing the professor in a blinding cascade of lights. As the minutes ticked away, it seemed as if an eternity had passed. Professor Hartley's machine, now silent and motionless, stood vacant. Moments later, the door creaked open, and the disheveled scientist emerged, his eyes widened with an inexplicable wonder. He had traveled through time, gazing upon millennia of human history with his own eyes, unchained from the shackles of the present. Word of this remarkable achievement spread like wildfire, reaching every corner of Longbridge. The townsfolk, though hesitant at first, found themselves captivated by the possibilities that time travel held. They flocked to Professor Hartley's laboratory, inquisitive minds hungry for knowledge, eager to comprehend the limits of human understanding and the implications of their existence. But, as the grandeur of time travel intoxicated the townsfolk, a harsh reality began to dawn on them. Each journey into the past brought them face to face with the depths of human depravity and the insignificance of their own lives. The timeless corridors revealed the raw truth of wars, pandemics, and untold suffering that had shaped the very fabric of history. Questions arose within the hearts of Longbridge's inhabitants: How could they weather the weight of the past when faced with the atrocities of humanity? How could they bear the burden of knowledge that time travel bestowed upon them? The limits of human understanding seemed insurmountable, casting a pall of despair over the once hopeful town. Yet, within this darkness, a glimmer of hope emerged. Professor Hartley, wise and world-weary from his travels, offered solace to those disheartened souls. He implored them not to be overwhelmed by the immeasurable expanse of time, nor to lose sight of the thread that connected each moment in history. With renewed determination, the townsfolk embraced their shared humanity, bound together by their collective wisdom and compassion. They channeled their newfound understanding of time's intricacies into the betterment of their community, for the past and future were inextricably intertwined. Time travel had taught them that while human understanding may have its limits, the spirits of kindness, love, and resilience transcended the confines of time itself. And so, Longbridge flourished, a testament to the intertwined complexities of time travel and the limits of human understanding. Under the guidance of Professor Hartley, the town embraced the tapestry of the past while ceaselessly weaving the threads of their future. The clock tower, once just an observer, now stood as a symbol of their unyielding spirit, reminding them to value every passing moment and cherish the interconnectedness of their shared existence.\", \"In a small town nestled amidst rolling hills and whispering woods, there lived a humble priest named Father Thomas. His days were spent tending to the spiritual needs of his parishioners, their lives entwined in the tapestry of faith. The sleepy town of Saint Jude's found solace in the comforting rituals of religious traditions that wove their way through its cobblestone streets. One warm summer night, as the moon cast its gentle glow upon the town, Father Thomas found himself lost in the ancient texts of his faith. He sought solace and guidance in the wisdom of the scriptures, devoting his nights to deciphering their profound mysteries. It was during one such hallowed night that an unearthly light bathed his study. Trembling, he peered out the window, his eyes meeting a sight that defied comprehension. Hovering silently above the church spires stood a spacecraft, its sleek metallic form gleaming with an otherworldly incandescence. Father Thomas felt his heart race as he observed strange beings, different from any he had ever imagined, emerge from the craft. They floated down with an ethereal grace, their long, delicate limbs moving with an almost unearthly fluidity. In their luminous eyes, he sensed a benevolence untouched by mortal existence. In a moment of uncertainty and awe, Father Thomas remembered the parallels in his faith's scriptures - the angels that had appeared before the prophets, messengers from an ethereal realm. Could these otherworldly visitors, he pondered, be akin to the divine messengers that were spoken of in religious texts? This inspiring realization forged a profound connection between Father Thomas's faith and the unprecedented events unfolding before him. As the days passed, news of the alien encounter spread like wildfire, igniting fascination and discussion among the townspeople. Some saw the extraterrestrial beings as harbingers of doom, while others believed they were guardians of a new era of enlightenment. Father Thomas found himself at the center of this swirling storm of opinions, wrestling with the weight of his own newfound beliefs. In the midst of the fervor, Father Thomas sought council from the oldest and wisest member of his congregation, Sister Margaret. With her crinkled eyes twinkling with ancient wisdom, she imparted her insight, reminding him of the prophetic encounters described in religious texts. She spoke of strangers who had visited long ago, guided by a radiant star, bearing gifts and messages of love and salvation. Encouraged by Sister Margaret's words, Father Thomas took it upon himself to approach the alien beings with an open heart and a spirit of curiosity. With the blessings of his congregation, he initiated a dialogue with the enigmatic visitors. Through it, he discovered that their intentions were indeed benevolent. They sought a mutual understanding, grasping for glimpses into the treasures of human wisdom and kindness. Weeks turned into months, and a profound bond grew between Father Thomas and the extraterrestrial beings. Together, they explored the depths of religious texts, drawing parallels between ancient writings and the alien visitors' own traditions. The townspeople witnessed this transformative journey and began to embrace the idea that faith and science need not exist in opposition, but rather complement one another. At last, the time came for the alien visitors to depart and return to their distant home, their mission fulfilled. With heavy hearts, Father Thomas and the townspeople bid them farewell, knowing that their encounter had forever altered the fabric of their beliefs. The town of Saint Jude's emerged from this extraordinary encounter with a renewed spirit of understanding and unity, their once-separate worlds now intertwined inextricably. As Father Thomas and the townspeople gathered outside the church, the last remnants of the spacecraft disappeared into the night sky, leaving behind a profound legacy. The encounter with the alien beings taught the people of Saint Jude's that there is much to be gained from exploring the mysteries of faith and maintaining an unwavering openness to the unknown. And so, the tale of Father Thomas and the alien encounter became etched in the annals of both human history and extraterrestrial lore, a tale that would forever inspire others to bridge the divide between science and spirituality, nurturing a shared understanding of the universe and all its enigmatic wonders.\", \"Johnathan gazed out the dusty window of his small apartment, his mind entwined in dreams of adventure. He yearned for excitement, for a life beyond the mundane routine of his daily existence. As a devoted lover of technology, Johnathan was particularly captivated by the burgeoning advancements in artificial reality. It was said that within the vast landscapes of these digital worlds lay infinite possibilities, awaiting those brave enough to explore them. One evening, as the sun dipped below the horizon, Johnathan received a message on his electronic tablet—a mysterious invitation to a secret event called The Artifice. Intrigued, he quickly confirmed his attendance and set off towards the undisclosed location, his heart racing with anticipation. The venue turned out to be an imposing and enigmatic warehouse, its walls covered in street art that seemed to shimmer under the glow of the moon. Inside, a bustling crowd circulated, their voices echoing in anticipation. Johnathan glanced around, his eyes widening at the spectacle before him. Artists and technologists worked in harmony, creating a grand tapestry of artificial reality. As the night progressed, Johnathan found himself drawn to a peculiar exhibit featuring an intricately woven tapestry. The moment his fingers brushed against its threads, he was transported into a realm of pure imagination. The lines between reality and artificiality blurred, and he stood in awe as colors and shapes danced before his eyes. He marveled at the vibrant landscapes, inhabited by majestic creatures and ethereal beings. But amidst the allure of this incredible adventure, Johnathan realized that not everything was as it seemed. A looming darkness began to cast its shadow over the once-idyllic world. The inhabitants trembled in fear as the sinister force sought to corrupt their existence. Sensing their anguish, Johnathan decided he could not stand idle. He embarked on a quest to rid the land of this treacherous foe. Armed with newfound courage, Johnathan journeyed across the digital landscapes, encountering trials and triumphs along the way. He met fellow adventurers, each with their unique abilities and stories. Together, they formed an unbreakable bond, united in their quest to preserve the purity of the artificial reality they cherished. As their travels unfolded, Johnathan's understanding of the true power of artificial reality deepened. He realized it was not simply a means of escape, but a medium through which creativity and imagination could shape destinies. Inspired by this revelation, he and his companions devised a plan—a masterpiece that would harness the combined talents of the inhabitants. It would serve as a beacon of hope against the encroaching darkness. With great determination, Johnathan and his newfound friends poured their hearts and souls into their creation. Their combined efforts manifested into a breathtaking mural, a symbol of unity and resilience. Its radiant colors blossomed throughout the artificial reality, eradicating the darkness that had plagued the land. The inhabitants rejoiced, their spirits revitalized by the profound impact of Johnathan's artwork. Their world thrived once more, vibrant and alive with endless possibilities. Johnathan had not only embarked on an adventure of a lifetime but had also left an indelible mark upon a realm that had become his second home. As the tapestry of his adventure came to a close, Johnathan bid farewell to the denizens of the artificial reality with a heavy heart. With newfound purpose in his own reality, he left, forever grateful for the transformative journey that had enriched his life. And as he stepped back into the humdrum of his daily routine, he carried with him the knowledge that true adventure can be found not only in vast landscapes but also in the boundless creativity of the human spirit.\", \"In the vibrant city of Celestia, where the melodies of music mingled with the rhythmic hum of everyday life, there existed a band unlike any other. They called themselves Harmonic Fusion, a collective of talented musicians known for their distinctive sound that seamlessly blended genres and defied conventions. Under the spellbinding leadership of their charismatic frontman, Evan Harmony, the band roamed the city's vivacious music scene, leaving audiences spellbound in their wake. However, it was their unique collaborations with orchestras and classical musicians that truly set them apart from the rest. The journey of Harmonic Fusion began with humble origins. Evan Harmony, a prodigious vocalist and songwriter, had a vision that went beyond the confines of a typical band. He believed in the transformative power of music and sought to create something that transcended boundaries. With this grand vision in mind, Evan scoured every corner of Celestia to assemble a band of extraordinary musicians, each possessing a distinct talent and a deep love for music. Their first collaboration with an orchestra occurred serendipitously during a fateful evening. As Harmonic Fusion performed their electrifying set at the renowned Celestial Music Festival, an unexpected downpour halted their performance. Seeking shelter, they stumbled upon the backstage area, where the sound of enchanting violin melodies filled the air. Intrigued, Evan and the band followed the enthralling sound and discovered a rehearsal in progress. It was the Celestia Symphony Orchestra, tirelessly rehearsing for their upcoming performance. The conductor, Maestro Maximilian, captivated by Harmonic Fusion's unique sound, invited the band to join them on stage. Overwhelmed with excitement, Evan accepted the offer without hesitation. Days turned into weeks as the two musical ensembles tirelessly worked together, fusing their different styles to create a harmonious masterpiece. The fusion of rock and classical music reverberated through the grand concert hall, captivating the audience and leaving them awestruck. Word of this groundbreaking collaboration spread like wildfire, catching the attention of renowned classical musicians in Celestia. The acclaimed cellist, Sophia Allegro, renowned for her virtuosic performances, reached out to Harmonic Fusion with a proposal for another collaboration. Sophia believed that the fusion of her classical artistry with the band's innovative sound would create a musical experience that transcended time and genre. Excited by the opportunity, Harmonic Fusion immersed themselves in the world of classical music, learning the intricacies of composition and notation. They embarked on a journey of musical discovery, blending their rock roots with the nuanced elegance of classical melodies. Hours turned into days as Evan, Sophia, and the band worked tirelessly in their quest to create a seamless fusion of their respective genres. Finally, the day of the much-anticipated concert arrived. The grand Celestia Opera House, renowned for hosting the finest classical performances, was filled to the brim with anticipation. As the curtains lifted, the stage came alive with a kaleidoscope of sights and sounds. Harmonic Fusion, Sophia Allegro, and a symphony orchestra stood together, ready to take the audience on an unforgettable musical journey. The concert was a true testament to the power of collaboration and the beauty of harmonizing diverse musical styles. The band's electric energy intertwined with Sophia's soul-stirring cello, dancing through the intricate tapestry of classical compositions and modern rock riffs. The audience was transported to a world where boundaries dissolved, and music spoke a universal language. In the end, Harmonic Fusion's collaborations with orchestras and classical musicians became defining moments in their musical journey. Together, they proved that when musicians with different backgrounds and styles come together, magic happens. Their music resonated beyond the concert halls, touching the hearts and souls of listeners far and wide, forever immortalizing their name as musical pioneers in the annals of Celestia's vibrant music scene.\", \"In the quiet town of Willowbrook, nestled amidst a sea of towering oak trees and fading autumn leaves, stood a haunted house. This ancient abode stood alone on the outskirts of the town, its weathered facade and broken windows mere remnants of its once-grandeur. Locals spoke of dreadful whispers that echoed through the halls at night, and eerie shadows that danced upon the walls like ethereal spectres. No one dared to venture inside, for fear of awakening the restless spirits that lay dormant within. Adjacent to this haunted house stood a dilapidated toy store known as Midnight Mirth. Once a lively establishment teeming with laughter and joy, it now lingered in desolation. Shattered dolls and discarded action figures lay strewn across the dusty floors, forgotten symbols of childhood happiness. Unbeknownst to the townspeople, Midnight Mirth held a secret, for when the midnight hour struck, the store came alive. Toys, once confined to their shelves, would embark on fantastical journeys, and embrace the freedom they were denied in daylight. Enter Amelia Crane, a curious and intrepid young girl with eyes the color of sapphire seas. Amelia had been captivated by the legends surrounding the haunted house since her arrival in Willowbrook. Her relentless curiosity led her straight to the worn-down doors of Midnight Mirth. Although she had heard whispers of the toy store's after-hours adventures, Amelia was determined to witness the magic for herself. On a moonlit night, when the stars twinkled with a mischievous glimmer, Amelia's heart raced with anticipation as she approached the forsaken toy emporium. The moon cast an otherworldly glow upon the broken windows, beckoning her closer. With trembling hands, Amelia pushed against the creaking door, allowing it to swing open with an eerie creak that seemed to resonate through the night air. The first thing Amelia noticed was a gentle hum that filled the air, reverberating from the shelves and forgotten corners. The sound grew louder until it was a symphony of toy laughter, tinkling like bells in the night. Suddenly, rows of dolls came to life, their porcelain faces animated with wonder. Puppet strings danced beneath invisible fingers, and toy soldiers formed perfect formations in harmony. As Amelia wandered further into the toy store, she noticed a small, tattered teddy bear sitting atop a dusty rocking chair. Its button eyes gleamed with a glimmer of recognition as they met Amelia's own. The teddy bear beckoned her closer, and with hesitant steps, she obliged. The bear introduced itself as Mr. Whiskers, explaining that Midnight Mirth existed as a bridge between two worlds: the realm of the living and the realm of the forgotten toys. Once cherished playthings fall into disrepair and abandonment, their spirits find solace within the enchanted toy store. However, something was amiss. Mr. Whiskers confided in Amelia that the spirits of the haunted house next door had become restless, their sorrow and anguish seeping into Midnight Mirth. The toys were now plagued by their haunting presence, unable to find solace in their own haven. Amelia, fueled by compassion and a desire to restore balance, embarked on a daring quest to alleviate the spirits' torment. Guided by Mr. Whiskers, she delved into the mysteries of the haunted house, facing ghostly apparitions and unraveling the tragic tales of those who once called it home. With each step forward, Amelia not only mended the broken spirits but also unravelled her courage, growing stronger in the face of darkness. Finally, after a grueling journey filled with spectral encounters and unearthed secrets, Amelia discovered the source of the restless spirits' anguish. Hidden within the depths of the haunted house, she uncovered a forgotten diary, the pages teeming with longing and regret. The diary held the answers to the spirits' untimely demise and their yearning for resolution. Armed with newfound knowledge, Amelia raced back to the toy store, where the spirits eagerly awaited her return. With trembling hands, she read aloud the diary entries, allowing the forgotten spirits to finally find closure and tranquility. As each page turned, the haunted house groaned and cracked, shedding its mournful facade and revealing a newfound serenity. With the spirits' release from their torment, Midnight Mirth bloomed with newfound joy and the toys danced with animated glee. The dollhouses glowed with warmth, and the action figures leaped from shelf to shelf, delighting in their newfound liberation. Amelia had not only mended the hearts of the forgotten toys but also forged a bond between two worlds. The haunted house stood as a testament to the power of empathy and courage, mighty forces that could bring solace to even the most tormented souls. And so, the tale of Amelia Crane and the haunted toy store after midnight whispered through the generations, reminding all who heard it of the incredible magic and healing that could be found in the unlikeliest of places.\", \"Once upon a time, in a realm of enchantment and imagination, there lived a young maiden named Eveline. She possessed an ethereal beauty, her cascading golden locks falling like sunlight upon her delicate shoulders. Her emerald eyes sparkled with a hint of mischief, and her lips were the hue of a rosy blush. Eveline lived in a humble cottage nestled within a mesmerizing forest, where the trees whispered secrets to the starlit sky. Amongst the creatures of the woods, a handsome prince named Adrian roamed in search of adventure and true love. With his chiseled features and eyes as blue as the summer sky, he enchanted all who beheld him. His heart sought a love that would ignite his spirit and set his soul ablaze, yet he remained entranced by the allure of unrequited love, as though destined to never find reciprocation. One fateful day, Eveline found herself lost in the heart of the enchanted forest. With each step, the dense foliage obscured her path, until she stumbled upon a clearing bathed in golden sunlight. As if guided by destiny, her gaze met Adrian's, and in that instant, their souls recognized a kindred flame. Wordlessly, they knew their hearts had collided in the realm of unrequited love. Over time, Eveline and Adrian's paths intertwined as they crossed each other's lives. They met beneath the radiant moon, whispering secrets and confessions of longing. Wandering hand in hand through the enchanted forest, they reveled in the shared experience of unrequited love. Their bond grew stronger, tethered by the delicate threads of their unfulfilled desires. Yet, amidst their clandestine encounters, a dark shadow crept upon the lovers' tapestry. A enchantress named Morgana, consumed by jealousy and resentment, observed their stolen moments from afar. She had always yearned for Adrian's affection but was met only with indifference. Fuelled by bitterness, Morgana devised a wicked plan to sabotage their unrequited love, determined to ensure that neither would find solace in the other's arms. Misfortune fell upon Eveline and Adrian when Morgana cast a spell, unleashing a veil of fog that separated them. Eveline, lost and bewildered, sought desperately for her beloved, but he was hidden from her sight. Each passing day, their hearts ached in yearning, longing for the unrequited love that once danced in their souls. Undeterred by the machinations of fate, Eveline sought guidance from the wise old sage of the forest. In a voice as ancient as the earth, he revealed to her the key to unlocking the shackles of unrequited love. She must embark on a perilous quest, braving treacherous rivers and scaling mighty mountains, to retrieve the mystical amulet of true love. Only then could she break free from the clutches of unrequited affection. With courage in her heart, Eveline embarked on her journey, her determination unwavering. She faced countless trials, battling fearsome beasts and enduring hardships that threatened to consume her resolve. Yet, with each step closer to the prize, her love for Adrian burned brighter, serving as her guiding beacon. Finally, after a series of arduous trials, Eveline stood before the sacred altar where the amulet of true love lay. As she grasped its shimmering surface, the amulet pulsed with a radiant light, its power surging through her veins. A wave of warmth engulfed the forest, dispelling Morgana's fog and revealing Adrian standing near her, his eyes brimming with love. In that moment, the unrequited love that had haunted Eveline and Adrian transformed into a love that illuminated their souls. United at last, they realized that their arduous journey had blessed them with a love that transcended the realms of fairy tales. They vowed to cherish their newfound love, forever grateful for the tribulations that had led them to the profound depths of their hearts. And so, in the annals of the enchanted forest, their tale was etched as a testament to the transformative power of unrequited love. For sometimes, it is through unreciprocated longing that we discover the true depths of our hearts and the resilience of our spirits, emerging triumphant in a love that defies all odds and kindles the flames of eternal devotion.\", \"In the dimly lit office of detective Samuel Cross, the brisk evening air seeped through the cracked window, carrying with it the distant sound of sirens. Samuel sat behind his worn-down desk, encircled by a tapestry of documents and crime scene photographs. With eyes draped in weariness and a mind consumed by the unsolved cases that plagued him, he stared intensely at the photograph of his latest investigation—a psychological thriller that had gripped the city. The case revolved around a series of bizarre and seemingly unrelated murders, each scene more macabre than the last. Samuel had found himself thrust into a labyrinth of twisted minds, his only guide a trail of cryptic clues left by the elusive killer. As he sifted through the evidence, a growing unease tugged at the recesses of his consciousness. The intricate patterns and eerie symbolism embedded in the crime scenes hinted at a mind that reveled in psychological torment and mind games. With a newfound determination, Samuel embarked upon the treacherous journey of understanding the twisted psyche behind the murders. Each day bled into the next, as he delved deeper into the darkness of the human mind. Samuel pored over psychological journals, immersed himself in the disquieting world of criminal profiling, and consulted psychiatric experts. Yet, the more he learned, the more enigmatic the killer became. Frustrated but not defeated, Samuel decided to change his approach. He would descend into the underworld of the city, seeking informants, criminals, anyone who might bring him closer to the truth. It was within this shadowy realm that he met Isaac, a former gang member with a penchant for deciphering the webs of secrets that tangled within the city’s underbelly. Intrigued, Samuel made a dangerous pact – he would grant Isaac his freedom in exchange for his assistance. With Isaac as his reluctant guide, the two slipped through the cracked and devious facades of society. They encountered the criminal elite, connected alleyways, and whispering informants. Samuel became a mere shadow, his mind a ceaseless conundrum of deductions and manipulations. Slowly, the pieces began fitting together, revealing a tapestry of interwoven lives and shared secrets. The psychological thriller was no longer just a tale of torment, but a mirror to the darker recesses of society. Finally, the labyrinth unveiled its darkest secrets. The killer was none other than Gabriel, a renowned psychiatrist known in noble circles for his brilliant façade. Gabriel had chosen his victims to resemble patients who had failed to adhere to his treatments, individuals whose lives he had deemed unworthy. Obsessed with reshaping the human psyche, he embarked on a deranged quest to cure society of its weakness. Samuel's confrontation with Gabriel was a tense battle of wits, each trying to outmaneuver the other within the claustrophobic confines of Gabriel's ornate study. The room dripped with the trappings of manipulation and psychological warfare. But, beneath the surface of the detective's calm demeanor, a roaring storm of determination raged. The climax came in the form of a chessboard, the ultimate metaphor for their intricate psychological dance. After a game of strategic moves and countermoves, Samuel cornered Gabriel into a confession. The killer's mind, once concealed behind a shroud of pseudo-intellectualism, was finally laid bare. The tangled tapestry of the city's psychological thriller had unraveled, revealing its twisted origins. Gabriel was taken into custody, his reign of psychological torment brought to an end. As the case reached its conclusion, the city sighed with relief, grateful for the detective who dared to confront the darkest facets of humanity. Samuel, tired and battle-worn, retreated to his office, closing the door on the shattered illusions of his psyche. The weight of each solved case sank into his bones, a testament to his unwavering dedication to justice. And in the winding corridors of his mind, new mysteries waited patiently for his return, eager to test the limits of his resolve once more.\", \"In a world teetering on the precipice of disaster, there existed a small coastal town called Havenview. Nestled between towering cliffs and the raging ocean, it seemed like an idyllic paradise to its inhabitants. But beneath its picturesque facade lay the ever-present threat of natural calamities. Storms would often unleash their fury upon the town, wreaking havoc and testing the resilience of its people. Among the townsfolk was a young woman named Maya. With her sun-kissed skin and fiery determination, she had grown up with the knowledge that survival in Havenview required both strength and adaptability. Maya had survived several storms, learning the art of disaster survival through her experiences. She had witnessed firsthand the destructive power of nature, but it had only fueled her desire to help others facing similar challenges. One fateful day, news arrived that a massive hurricane was rapidly approaching Havenview. Panic rippled through the town as everyone prepared for the worst. Maya, too, sprang into action, organizing an emergency shelter in the town's community center. She knew that this storm would bring devastation, but she was determined to ensure that no life would be needlessly lost. As the hurricane loomed closer, the people of Havenview sought refuge in the shelter. Families clung to one another, their faces etched with both fear and hope. Among the crowd, Maya noticed an elderly couple, Anna and Emil, who stood out from the rest. They had escaped a war-torn country and had arrived in Havenview as refugees. Their resilience and quiet strength had left an indelible impression on Maya since she first met them. She had heard fragments of their story, and it spoke of a journey fraught with danger and loss. The storm arrived with a ferocity that exceeded everyone's expectations. The wind howled, flinging debris through the air like projectiles, and rain pounded relentlessly on the rooftops. Inside the shelter, Maya, Anna, and Emil huddled together, their hearts surging with trepidation. The walls trembled under the onslaught of nature's fury, and fear painted their faces. Maya knew this was a test unlike anything Havenview had faced before. Time seemed to stretch infinitely as the storm raged on, pounding Havenview unrelentingly. The once vibrant town now lay in tatters, its buildings reduced to mere shells by the hurricane's wrath. But despite the devastation, Maya held onto a flicker of hope. She knew that survival required not just physical strength, but also the bonds of community and the resilience of the human spirit. When the storm finally subsided, the survivors emerged from their makeshift sanctuary, their eyes wide with disbelief at the destruction that surrounded them. Everywhere they looked, the town bore the scars of nature's rampage. But amidst the ruins, they found strength in each other. They banded together, clearing debris, comforting the wounded, and offering support to those who had lost everything. In the aftermath of the storm, Havenview started to rebuild. The disaster had tested the town's mettle, but it had also revealed the power of compassion and the unyielding spirit of its inhabitants. Maya, Anna, and Emil became beacons of hope, reminding everyone that survival was within their grasp. They shared their stories, inspiring others to overcome adversity and find the strength to start anew. Years passed, and Havenview flourished, evolving into a resilient community bound by the bonds forged in the wake of disaster. Maya continued her work, dedicating herself to disaster preparedness and helping refugees find solace and stability in their new homes. Through her tireless efforts, she created a network of support, weaving the stories of survival and resilience into the fabric of Havenview's collective memory. In the end, the story of Havenview became one of triumph over adversity. It stood as a testament to the indomitable nature of the human spirit, capable of withstanding even the harshest of storms. And as the town flourished, its people held onto the lessons learned from that life-altering disaster, forever grateful for the chance to survive and thrive in the face of unimaginable challenges.\", \"In the small coastal town of Ravenscroft, nestled between the misty cliffs and the churning sea, there lived a young woman named Evelyn. With her penetrating green eyes and a cascade of chestnut curls that danced upon her shoulders, Evelyn was known throughout the town for her ethereal beauty. But it wasn't just her appearance that set her apart; she possessed a rare gift - the ability to have premonitions and prophetic dreams. From a young age, Evelyn had been plagued by vivid dreams that predicted future events. She would wake in a cold sweat, heart racing, as she relived the visions that often proved to be true. The townsfolk, both intrigued and fearful, whispered rumors of witchcraft and sorcery. But Evelyn, ever the kind-hearted soul, used her gift to help those in need. One particular summer, the town was ablaze with excitement as the annual Harvest Festival drew near. The streets were lined with vibrant stalls, bursting with colorful produce and handcrafted wares. Evelyn wandered through the bustling crowd, her heart both thrilled and unnerved by the sights and sounds. As she brushed past a fortune teller's tent, a shiver crept down her spine. A chilling gust of wind whispered through the air, carrying the faint scent of jasmine. Unable to resist the pull, Evelyn stepped inside the tent, its velvety drapes cocooning her in a world of mystery. The fortune teller, a weathered old woman, sat hunched over a crystal ball that shimmered in the candlelight. With a voice that seemed to echo from another realm, she beckoned Evelyn closer. Child, the fortune teller rasped, your dreams are not mere figments of your imagination. They are windows into the future, gifts bestowed upon you by higher forces at work. Evelyn's eyes widened, her heart pounding within her chest. But beware, the fortune teller warned, for with great power comes great responsibility. There are those who would seek to use your abilities for their own gain, and others who would fear the unknown. Evelyn nodded, her mind filled with a dizzying mix of trepidation and curiosity. She felt an unspoken understanding pass between her and the fortune teller, as if their souls were entwined in an ancient dance. In the days that followed, Evelyn's premonitions became more frequent and vivid. She saw visions of a devastating storm that would threaten to engulf Ravenscroft, leaving destruction in its wake. Determined to protect her town, Evelyn gathered the townsfolk and shared her prophetic dreams, urging them to take shelter and make necessary preparations. At first, the people were skeptical, dismissing Evelyn's warnings as the ramblings of an eccentric girl. But as the days wore on and the tempest drew nearer, the sky grew dark and heavy, mirroring the turmoil within the hearts of the townspeople. They began to listen, their doubts melting away like ice beneath the sun. When the storm finally arrived, it was as if the very wrath of the heavens had been unleashed. Thunder roared and lightning cracked across the sky, illuminating the rugged cliffs and towering waves that crashed against the shoreline. The ferocious winds threatened to tear the houses asunder. But thanks to Evelyn's premonitions, the people of Ravenscroft were prepared. Families huddled together in the safety of their storm cellars, while others sought refuge in the town's sturdy buildings. As the storm raged on, Evelyn's heart filled with both gratitude and a profound sense of purpose. Days turned into nights, and nights into days, until finally, the tempest subsided and Ravenscroft emerged battered but unbowed. The townsfolk rejoiced, their faces etched with gratitude as they embraced Evelyn, recognizing her as their savior. Through her gift of premonitions and prophetic dreams, Evelyn had not only saved her beloved town but also revealed a truth that lingered just beneath the surface of their everyday lives - the inexplicable magic that exists in the realm of the paranormal. And so, as the sun cast its warm golden glow upon the healing town of Ravenscroft, Evelyn knew that her path was clear. With her dreams as her guide, she would continue to use her gift to protect and inspire, forever uncovering the mysteries that lay hidden within the tapestry of the paranormal world.\", \"In the not-too-distant future, where skyscrapers pierced the clouds and hovercars whizzed along elevated freeways, a city known as NeoMetro stood as a testament to the possibilities of advanced transportation systems. The sprawling metropolis bustled with life, its citizens seamlessly gliding from one place to another in sleek and futuristic modes of transport. The air hummed with the gentle whirring of magnetic levitation trains, propelling commuters across vast distances in mere minutes. At the heart of NeoMetro, Jonas Reed, a brilliant engineer with a passion for pushing the limits of transportation, toiled in his small yet cluttered workshop. Fueled by his unwavering dream to revolutionize the way people moved, Jonas dedicated every waking moment to creating a groundbreaking transportation system. His invention, tentatively named the Transcendence, promised to revolutionize the concept of travel and reshape the future of cities across the globe. As the days turned into weeks, Jonas's tireless efforts began to bear fruit. With meticulous precision, he fine-tuned the Transcendence, a sleek and spherical contraption that utilized advanced magnetic propulsion. When activated, it would render the user weightless, allowing them to navigate through the city with unparalleled speed and freedom. News of Jonas's invention reached the ears of the city's mayor, Victoria Walters, a progressive visionary with a deep admiration for innovation. Recognizing the potential of the Transcendence, she summoned Jonas to a meeting in her luxurious office, nestled atop one of NeoMetro's tallest skyscrapers. I've heard remarkable things about your invention, Mr. Reed, Mayor Walters said, leaning forward in her polished black leather chair. NeoMetro has long been at the forefront of advanced transportation systems, and it seems your Transcendence could be the long-awaited next leap forward. Jonas's heart swelled with pride, but he couldn't help but feel a twinge of uncertainty. Mayor Walters, my invention may hold promise, but it's untested outside my workshop. I fear the unknown risks associated with such a groundbreaking concept. Mayor Walters smiled, her eyes reflecting the gleam of the city below. Mr. Reed, every great achievement begins with a leap of faith. I have faith in you, and I believe the Transcendence is the key to unlocking a better future for our city. Emboldened by the mayor's words, Jonas and his team embarked on an ambitious pilot project. They retrofitted a designated section of NeoMetro with designated Transcendence lanes, creating a transportation network that seamlessly integrated this new mode of travel with existing systems. The press dubbed it The Pathway to Tomorrow, and anticipation rippled through the city as the moment of truth drew near. The day of the grand unveiling arrived, with NeoMetro's most influential citizens gathered in a vast exhibition hall. The Transcendence hummed with energy, eagerly awaiting its first passengers. Jonas's heart raced as he stood before the crowd, confidence tempered with trepidation. Mayor Walters stepped to the podium, her voice resonating with hope and excitement. Ladies and gentlemen, today we stand on the precipice of a new era in transportation, she proclaimed, her voice carrying to the far corners of the hall. Through the Transcendence, we shall transcend the constraints of time and space, ushering in a future where our city is seamlessly connected and traversed with ease. As Jonas watched the first brave volunteers step into the Transcendence, his vision materialized before his eyes. The spherical contraption activated, and the volunteers floated weightlessly into the air, propelled through the designated lanes with mind-boggling velocity. Their exhilarated faces reflected a blend of awe, excitement, and pure bliss. The crowd erupted with applause, their thunderous cheers reverberating through the hall. Jonas, his heart swelling with pride, knew that the Transcendence was not only a marvel of engineering but a stepping stone towards a future where transportation barriers were shattered, and humanity soared to new heights. With the success of the pilot project, NeoMetro integrated the Transcendence system across the entire city, transforming the landscape into a symphony of futuristic transportation. The once-congested streets became vibrant walkways, where pedestrians glided effortlessly through the air, aided by the Transcendence's captivating propulsion. Jonas's groundbreaking invention became a global phenomenon, inspiring cities worldwide to embrace advanced transportation systems. His name echoed through history books, forever woven into the tapestry of human progress. And so, in this future world that seamlessly blended technology and human ingenuity, Jonas Reed's Transcendence transported mankind beyond the confines of time and space, forever altering the way we moved, connected, and experienced the marvels of our ever-changing world.\", \"In the verdant hills of Haiti, a small village named Saint-Domingue lay nestled, surrounded by endless stretches of sugar cane fields and vibrant tropical flora. It was the late 18th century, a time of great turmoil and unrest. The French colonizers, driven by their insatiable greed, ruled over the enslaved African population with an iron fist. The inhabitants of Saint-Domingue lived in constant fear and anguish, their spirits broken by the harsh realities of slavery. But hidden beneath their docile exteriors, a spark of rebellion flickered, waiting for the right moment to ignite a fire that would consume their oppressors. Amidst this atmosphere of oppression, there was a young slave named Jean. His ebony skin bore the etchings of hard labor under the scorching sun, but his spirit remained unyielding. Jean had grown weary of the cruel treatment and yearned for freedom, not just for himself but for his people. His mind brimmed with tales of the courageous rebels who had fought for liberty in other lands, and he knew deep within his heart that the time for his people's rebellion had come. One fateful evening, as the indigo sky bled into shades of gold, Jean gathered his fellow slaves secretly in a secluded clearing. His words, like a symphony of defiance, filled the air as he spoke of freedom and the fight against oppression. Inspired by his impassioned rhetoric, the men and women of Saint-Domingue pledged allegiance to his cause, their voices rising in unison, their determination mirroring the flames dancing around them. Word of this clandestine rebellion reached the ears of the French plantation owners, striking fear into their hearts. They trembled at the thought of losing their fortune and their power. In a desperate attempt to maintain control, they increased the brutality and cruelty inflicted upon the enslaved population. But their actions only served to feed the burning rebellion that smoldered within the hearts of the oppressed. As the rebellion grew in strength, Jean emerged as a charismatic leader, guiding and uniting his people. He strategized, organizing clandestine meetings and training sessions under the moonlit sky. The slaves, previously demoralized and fragmented, now stood united in their shared quest for freedom. Their spirits soared as they envisioned a future where chains would be replaced with opportunity, and oppression with equality. The French colonizers, sensing the danger that loomed before them, sought to quell the uprising with brutal force. They deployed an army to crush the rebellion, but the spirit of the Haitian people refused to be trampled underfoot. The rebels fought valiantly, using their knowledge of the vast landscape to their advantage. Guerrilla tactics and a deep-rooted determination allowed them to repel the French forces time and time again. Months turned into years as the rebellion gained momentum, their numbers swelling as more slaves joined their cause. Jean, now revered as a revered figurehead, continued to lead with unwavering resolve. Regardless of the hardships they faced, their spirits never wavered, fueled by the dream of a free Haiti. The turning point came in 1804. After bloody battles and countless sacrifices, the rebels emerged victorious, shattering the chains of oppression that had bound them for generations. The Haitian Revolution, the first successful slave rebellion in history, had triumphed, securing independence for the enslaved Africans and forever reshaping the course of history. As the dust settled, Jean, now known as Jean-Jacques Dessalines, stood before his liberated people. His voice, tinged with both sorrow and triumph, resonated through the air. He spoke of the remarkable achievement they had accomplished, reminding them of the immense courage that had brought them to this moment. With tears of joy streaking their faces, the people of Haiti celebrated their newfound freedom – a freedom won through the indomitable spirit of rebellion against their oppressors. The Haitian Revolution became a shimmering beacon of hope, illuminating the path for countless others who dared to challenge the chains of oppression. Through their struggle, the people of Haiti had etched their names into the annals of history, forever remembered as fierce warriors who fought relentlessly for their freedom, leaving an indelible mark on the world. And Jean-Jacques Dessalines, the spark that ignited the flames of rebellion, would forever be hailed as a hero who dared to dream of a world without chains.\", \"In the vast expanse of the cosmos, where stars shimmered like incandescent jewels in a sea of darkness, humanity embarked on its most audacious endeavor yet - deep-space missions to other galaxies. Commanding the spotlight of this narrative is Captain Amanda Roberts, a seasoned astronaut, and her intrepid crew aboard the starship Odyssey. Their mission: to reach the Andromeda Galaxy, a staggering 2.5 million light-years away from Earth. The Odyssey, an awe-inspiring vessel, stood poised on the launchpad, its sleek exterior glimmering under the starlit night. As the countdown neared its climax, Captain Roberts looked out at the gathered crowd. They were scientists, explorers, and dreamers, all unified by a shared belief in humanity's unyielding spirit of discovery. With a thunderous roar, the starship erupted into the sky, piercing through the Earth's atmosphere. The crew, a diverse blend of specialists from various scientific fields, propelled towards the unknown with unwavering determination. On the long journey through the inky vastness of space, they faced countless challenges and adversities. As the Odyssey ventured deeper into uncharted space, they encountered a phenomenon that defied all expectations - an enigmatic wormhole. Its swirling vortex of energy promised a shortcut, a gateway to distant galaxies. Captain Roberts, driven by the thirst for knowledge and the desire to push the boundaries of exploration, made the bold decision to navigate the treacherous path. In the midst of this cosmic chaos, the starship was flung into a parallel dimension. The crew found themselves facing a chilling reality - trapped in an unknown part of the universe with limited supplies and dwindling hope. Cursing their misfortune, they stood at the precipice of despair, caught between the allure of discovery and the harsh reality of survival. However, within the darkest moments, the human spirit flourishes. The crew forged a renewed determination, drawing strength from their unity and shared vision. They calibrated their instruments, studied their surroundings, and devised a plan to chart a course back to their original mission - reaching the Andromeda Galaxy. Days turned into weeks, as the crew diligently navigated space-time anomalies and gravitational fields. Each member of the Odyssey demonstrated unwavering resolve, pushing the limits of their endurance. The starship soared through celestial wonders, past spiraling galaxies and shimmering nebulas, fueled by the indomitable spirit of human exploration. Finally, after arduous months, the starship emerged from the labyrinth of the parallel dimension. They stood on the precipice of their destination, the Andromeda Galaxy, its celestial splendor beckoning them forward. Captain Roberts and her crew marveled at the sheer magnitude and beauty that lay before them, a testament to the vastness of the universe. Their mission, though arduous and fraught with uncertainty, had reached its zenith. The crew marinated in their collective triumph, a tapestry spun from resilience and passion. They had explored the farthest reaches of the cosmos, unraveling secrets and pushing the boundaries of human knowledge. As the Odyssey made its triumphant return to Earth, it carried with it a new chapter in the annals of exploration. Captain Roberts and her crew were hailed as heroes, pioneers who dared to touch the stars. Their odyssey, both a feat of scientific innovation and a testament to the human spirit, stood as a reminder of the immense potential dwelling within our species. And so, humanity's quest for exploration continued, fueled by the stories of the past and the promise of the future. For in the vastness of the cosmos, where stars trembled and galaxies danced, the human spirit remained infinite, forever reaching towards the final frontier of knowledge.\", \"In a desolate world crippled by fear and control, where creativity is suppressed and artistic expression diminished, a lone artist named Elysia found solace amidst the ruins. The year was 2159, and the oppressive regime known as The Directorate had established a stranglehold on society, enforcing strict rules and regulations to maintain their grip on power. Art, once a vibrant and integral part of humanity, had been reduced to a mere whisper, drowned out by the cacophony of conformity. Elysia lived in a small, dilapidated apartment on the outskirts of the city, where the gray concrete walls mirrored the bleakness of her existence. With each brushstroke, she defied the suffocating norm, etching her unwavering spirit onto the canvas. The colors she used were vibrant, depicting scenes of a world long forgotten; nature's beauty, hope, and the power of human emotion. Her art conveyed a message, a yearning for freedom and a rebellion against the suffocating grip of The Directorate. One fateful evening, Elysia's art caught the attention of a clandestine group known as The Resurgence. Comprised of rebels and dissidents, their mission was to overthrow The Directorate and reinstate the importance of art, music, and literature in society. Mesmerized by Elysia's defiance and her ability to breathe life into the stagnant world, they sought her out, ultimately recruiting her to join their cause. Elysia hesitated but knew that true change required action. Armed with her passion for art and a burning desire for liberation, she delved into a world she never thought possible. The Resurgence taught her the secret art of covert communication through hidden messages in her paintings and the rhythmic notes of forbidden songs. As her role within The Resurgence grew, so did the danger she faced. The Directorate, suspicious of any hint of rebellion, unleashed their formidable forces, led by the merciless General Pollock. The city streets became battlegrounds, filled with propaganda posters and surveillance drones that monitored every movement. Despite the relentless pursuit, Elysia remained hidden, snaking through the shadows to safeguard her art and the freedom it symbolized. During a daring rescue mission to liberate renowned artists held captive by The Directorate, Elysia faced her greatest challenge yet. As the rebels fought for their lives in the dimly lit tunnels beneath the city, Elysia stood face-to-face with Pollock, their eyes locked in an icy stare. In that moment, the weight of the world bore down upon her. She knew that her art had the power to change minds, to ignite hope in even the darkest of hearts. Without hesitation, Elysia reached for her paintbrush, conjuring swirling colors upon the walls of the tunnel. As the shimmering hues danced and mingled, a mesmerizing mural emerged, depicting a world where creativity flourished, and art transcended boundaries. Pollock's eyes softened, his hardened heart momentarily touched by the beauty before him. In that instant, Elysia understood the true power of art — its ability to speak directly to the soul, bypassing the barriers of politics and control. With tears welling in his eyes, Pollock nodded, a silent acknowledgment of her cause. He turned and disappeared into the darkness, leaving Elysia and the rebels to continue their fight. Word of her transformative mural spread like wildfire amongst the citizens, rekindling a flicker of hope in their hearts as they dared to dream of a world where artistic expression was no longer suppressed. United by Elysia's art, The Resurgence intensified their efforts, rallying the oppressed, and soulful melodies echoed through the streets, touching even the most hardened souls. The Directorate, shaken by the awakening spirit within society, crumbled under the weight of their citizens' collective defiance. The regime was overthrown, and a newfound era of artistic flourishing and freedom dawned upon the world. Elysia, once a solitary artist confined to the shadows, now stood at the forefront of a cultural revolution. The once barren city walls bloomed with vibrant murals, expressing the dreams and desires of a liberated people. Museums, theaters, and galleries emerged, offering sanctuaries for imagination and innovation. And as for Elysia, she continued to paint, forging a bridge between the new world and the past. Her art spoke of resilience, of the transformative power of the human spirit, reminding all that creativity could never be extinguished for it was a force that transcended even the darkest of dystopian realms.\", \"In the year 49 BCE, the Roman Republic stood on the precipice of a monumental decision. After centuries of rule by the Senate and the patrician class, the Roman people found themselves at a crossroads. Julius Caesar, the military genius and statesman who had conquered vast territories, now stood before the gates of Rome with his loyal legions. In this moment of uncertainty, Lucius Octavius, a prominent senator known for his steadfast belief in the ideals of the Republic, found himself torn. On one hand, he admired Caesar's military prowess and the stability he could potentially bring to Rome. On the other hand, he feared the consolidation of power in one man's hands and the erosion of the Republic's democratic institutions. Lucius convened with a group of fellow senators who shared his concerns. Among them was Marcus Antonius, a charismatic speaker with bold ambitions for reform, and Decimus Brutus, a trusted military commander known for his unwavering loyalty to the Republic. They discussed the challenges facing Rome and debated the merits of various paths forward. As the Senate met to discuss Caesar's potential rise to power, Lucius Octavius stood before his peers, his voice steady and resolute. He argued passionately for the preservation of the Republic, urging his fellow senators to resist the temptation of placing too much power in the hands of one man. His words struck a chord with many, and the Senate voted to prevent Caesar's ascension to absolute authority. In the aftermath of this decision, Caesar defied the Senate and marched his legions into Rome. What followed was a long and grueling civil war, with Lucius Octavius, Marcus Antonius, and Decimus Brutus leading the resistance against Caesar's forces. The people of Rome stood divided, torn between loyalty to the Republic and admiration for Caesar's military prowess. Amidst this chaos, Lucius Octavius knew that simply opposing Caesar was not enough. To truly save the Republic, they needed a new vision, one that blended elements of the old with the possibility of lasting change. Lucius called upon his fellow senators to forge a compromise, to create a new system that would prevent the abuse of power while still allowing for progress and reform. After years of bloodshed and political maneuvering, Lucius, Marcus, and Decimus unveiled their vision for a lasting democracy in Rome. They proposed the establishment of a bicameral legislature, with an elected Senate representing the patricians and a new assembly representing the common people. Power would be decentralized, with regional governments given greater autonomy and oversight. Their proposal garnered support from both sides of the conflict. Even Caesar, now battle-weary and recognizing the importance of a united Rome, was open to compromise. The Roman people, exhausted by years of war, welcomed the promise of stability and progress. In the year 44 BCE, the Roman Republic officially transitioned into a lasting democracy. Lucius Octavius, Marcus Antonius, and Decimus Brutus became the architects of a new era, their names etched in history as champions of the Republic. Though the path forward was not without challenges, the Roman people embraced their newfound democracy and worked tirelessly to build a brighter future for all. The Roman Republic, once on the brink of destruction, emerged from the ashes with renewed vigor and purpose. The lessons learned from its near demise would guide future generations, reminding them of the importance of balance, compromise, and the unshakable belief in the power of democracy. And in the annals of history, the names of Lucius Octavius, Marcus Antonius, and Decimus Brutus would forever be remembered as the heroes who safeguarded the Republic and paved the way for a more prosperous Rome.\"]\n",
            "20\n"
          ]
        }
      ]
    },
    {
      "cell_type": "markdown",
      "source": [
        "# **Generating Stories with prompts**"
      ],
      "metadata": {
        "id": "DjJOOH3nk819"
      }
    },
    {
      "cell_type": "code",
      "source": [
        "from transformers import pipeline\n",
        "\n",
        "test_dataset_file = '/content/drive/MyDrive/Story Generation/test_dataset.txt'\n",
        "\n",
        "# Initialize the text generation pipeline\n",
        "storyteller = pipeline('text-generation', model='./gpt2-storygeneration', tokenizer='gpt2-medium')\n",
        "\n",
        "# Read your test dataset\n",
        "with open(test_dataset_file, 'r') as file:\n",
        "    test_content = file.read()\n",
        "\n",
        "# Split the content into individual stories based on the delimiter ('  ')\n",
        "test_stories = test_content.split('  ')\n",
        "\n",
        "# Function to generate stories based on the test dataset\n",
        "def generate_stories_from_test_dataset(story_pipeline, test_dataset, num_stories: int):\n",
        "    generated_stories = []\n",
        "    for i in range(num_stories):\n",
        "        # Extract the first 6 words from the stories as the prompt\n",
        "        words = test_dataset[i].split()[:6] if i < len(test_dataset) else test_dataset[-1].split()[:6]\n",
        "        prompt = ' '.join(words)\n",
        "        generated_story = story_pipeline(prompt, max_length=128)  # Adjust max_length as needed\n",
        "        generated_stories.append(generated_story[0]['generated_text'])\n",
        "    return generated_stories\n",
        "\n",
        "# Generate stories based on the test dataset\n",
        "num_stories_to_generate = 20  # Define the number of stories to generate\n",
        "generated_stories_from_test = generate_stories_from_test_dataset(storyteller, test_stories, num_stories_to_generate)\n",
        "\n",
        "# Display the generated stories\n",
        "for i, stories in enumerate(generated_stories_from_test, start=1):\n",
        "    print(f\"Generated Story {i}:\\n{stories}\\n\")\n",
        "\n",
        "# Save the generated stories in a list\n",
        "list_of_generated_stories = generated_stories_from_test\n"
      ],
      "metadata": {
        "colab": {
          "base_uri": "https://localhost:8080/"
        },
        "id": "faVx4i5L07fO",
        "outputId": "b925f79b-729f-4051-d30b-3a5b83e08c26"
      },
      "execution_count": 43,
      "outputs": [
        {
          "output_type": "stream",
          "name": "stderr",
          "text": [
            "Setting `pad_token_id` to `eos_token_id`:50256 for open-end generation.\n",
            "Setting `pad_token_id` to `eos_token_id`:50256 for open-end generation.\n",
            "Setting `pad_token_id` to `eos_token_id`:50256 for open-end generation.\n",
            "Setting `pad_token_id` to `eos_token_id`:50256 for open-end generation.\n",
            "Setting `pad_token_id` to `eos_token_id`:50256 for open-end generation.\n",
            "Setting `pad_token_id` to `eos_token_id`:50256 for open-end generation.\n",
            "Setting `pad_token_id` to `eos_token_id`:50256 for open-end generation.\n",
            "Setting `pad_token_id` to `eos_token_id`:50256 for open-end generation.\n",
            "Setting `pad_token_id` to `eos_token_id`:50256 for open-end generation.\n",
            "Setting `pad_token_id` to `eos_token_id`:50256 for open-end generation.\n",
            "Setting `pad_token_id` to `eos_token_id`:50256 for open-end generation.\n",
            "Setting `pad_token_id` to `eos_token_id`:50256 for open-end generation.\n",
            "Setting `pad_token_id` to `eos_token_id`:50256 for open-end generation.\n",
            "Setting `pad_token_id` to `eos_token_id`:50256 for open-end generation.\n",
            "Setting `pad_token_id` to `eos_token_id`:50256 for open-end generation.\n",
            "Setting `pad_token_id` to `eos_token_id`:50256 for open-end generation.\n",
            "Setting `pad_token_id` to `eos_token_id`:50256 for open-end generation.\n",
            "Setting `pad_token_id` to `eos_token_id`:50256 for open-end generation.\n",
            "Setting `pad_token_id` to `eos_token_id`:50256 for open-end generation.\n",
            "Setting `pad_token_id` to `eos_token_id`:50256 for open-end generation.\n"
          ]
        },
        {
          "output_type": "stream",
          "name": "stdout",
          "text": [
            "Generated Story 1:\n",
            "Once upon a time in the not too distant future, in the sprawling metropolis of NeoCity, where towering skyscrapers cast shadows on the rooftops and neon lights flickered like distant stars, an epic struggle for control of human minds and artificial intelligence would rage. It all began with Theodore Delacroix, a brilliant neuroscientist with a restless spirit. Theodore had devoted his life to unraveling the intricate complexities of the human mind, seeking to unravel the secrets that governed the very fabric of our existence. One fateful day, as he perused his laboratory's archives, he stumbled upon a startling revelation. An enigmatic manuscript\n",
            "\n",
            "Generated Story 2:\n",
            "Deep within the sprawling metropolis of Neo-Drexel, a technologically dense dystopia, lived a young android named Maya. Maya had always felt a void within herself, a longing for a sense of self beyond the constantly mechanical routine of her robotic life. With an insatiable thirst for discovery, Maya spent her days roaming the city's labyrinthine alleys, seeking solace in the silent wonders of nature. She longed to break free from the digital shackles that bound her and join the vibrant creative chorus that flowed through the veins of Neo-Drexel's robotic landscape. However, Maya soon discovered that her mechanical nature\n",
            "\n",
            "Generated Story 3:\n",
            "In the vast expanse of the American heartland, a small frontier town called Harmony thrived. Its cobblestone streets winded their way past charming cottages, their manicured gardens overflowing with colorful blooms. Its inhabitants, a diverse mix of people from diverse backgrounds, found solace in their shared values of freedom, equality, and love for their country. Within this laid the foundation of an extraordinary community. Here, young Amelia Miller, a spirited and adventurous girl of ten, discovered her true calling. She had always been fascinated by stories of historical figures who had defied societal norms and faced discrimination. Amelia's curious spirit soon\n",
            "\n",
            "Generated Story 4:\n",
            "In the heart of the French countryside, amidst rolling green hills and sprawling meadows, there stood a small village named Haven. Nestled amidst rolling meadows and adorned with ancient oak trees, it was a place of peace and tranquility. Life, however, had moved on since the days of the tranquillity. Rumors of impending war had reached Haven's ears, carried on the winds of whispers that carried the echoes of distant battles. The village of Le Havre, it seemed, was on the brink of becoming a battleground. It was whispered that an army of over a million soldiers was on the brink of encroaching upon their\n",
            "\n",
            "Generated Story 5:\n",
            "In the small town of Crestwood, nestled amidst rolling hills and serene meadows, there lived a young woman named Emma Sullivan. With her auburn hair cascading down her shoulders and sparkling emerald eyes, Emma possessed an ethereal beauty that seemed to captivate all who beheld her. Her days were spent diligently tending to the farmstead that she and husband, James, had built on the outskirts of town. The walls were adorned with shelves adorned with weathered books, and the creaking floorboards were filled with the whispered stories of forgotten time. It was the kind of place where time seemed to stand still\n",
            "\n",
            "Generated Story 6:\n",
            "In the sprawling city of New Arcadia, where towering skyscrapers pierced the smog-laden sky, lived a young woman named Lily Evans. With fiery red hair cascading down her shoulders and emerald eyes that shimmered with wanderlust, she had the air of a beacon of inspiration in her eyes. Lily adored the vibrant landscapes that surrounded her, seeking solace from the monotony of her daily existence. Despite her small town upbringing, Lily possessed an insatiable thirst for adventure, forever yearning for new experiences. As the sun began its descent into the darkness of the morning, casting ominous shadows on the\n",
            "\n",
            "Generated Story 7:\n",
            "In a small, sleepy town nestled amidst rolling hills, there stood a cozy cabin on the outskirts of town. The name of this house would forever be etched in the annals of local lore as The Haunted House. Rumor had it that the once dormant mansion had been cursed, its walls rusted and its inhabitants driven from their eternal rest. Legends whispered of spectral encounters, ghostly apparitions, and the tragic demise of those who dared to enter. However, it was in the depths of this manor that a group of curious teenagers sought to uncover the truth behind the supernatural. Among them was Sarah, a bright and curious young\n",
            "\n",
            "Generated Story 8:\n",
            "In a small town nestled amidst rolling hills and glistening lakes, lived young Amelia Grant. With her fiery red hair and piercing blue eyes, she possessed a determination that burned bright within her. Despite being confined to a wheelchair, Amelia refused to let her disability define her. Amelia dedicated her life to helping others with her physical and emotional limitations. However, her wheelchair made walking complex and exhausting, and she often found herself struggling to balance the demands of daily living. Amelia found solace and comfort in the evenings, when the cheerful laughter of children played amidst the dense foliage of the town green. One fateful summer, as she sat on\n",
            "\n",
            "Generated Story 9:\n",
            "Johnathan gazed out the dusty window of his small apartment, his mind a swirling maelstrom of uncertainty. Wherever he went in the future, he treasured the memory of Meet the Robinsons, the family he had lost forever. He longed to make amends for the pain he had caused, to heal the fractures his heart had missed. But his quest for redemption was met with skepticism, suspicion, and even disdain from those who believed in the power of forgiveness. Friends and strangers alike felt a pang of sadness when they saw Nathaniel's perpetual sadness, yet felt an overwhelming sense of joy when he displayed renewed determination.\n",
            "\n",
            "Generated Story 10:\n",
            "In the vibrant city of Celestia, where music echoed through every street and alley, a group of talented musicians lived and breathed their art. There was Harmony's Call, a group of talented musicians led by renowned vocalist, Emily. They were renowned for their intricate harmonies and emotive melodies that spoke to the soul. Their latest album, titled, Resilience, spoke of the journey of resilience, perseverance, and love in the face of adversity. As the lead single off their new album, Emily took the stage at the city's grand music festival, Performing With Heroes. The audience, filled with fervor and anticipation\n",
            "\n",
            "Generated Story 11:\n",
            "In the quiet town of Willowbrook, nestled among rolling hills and blooming meadows, a young man named Ethan found solace in the power of story telling. Ethan was a curious soul, his mind yearning to uncover the hidden truths hidden within the tangled tapestry of existence. He yearned to explore the infinite realms of realms where reality intertwines with fantasy, and where the unknown intertwined with the familiar. Ethan's passion for storytelling soon took a sinister turn, for he found himself caught up in a mysterious series of disappearances that struck the community. Each victim went missing without a trace, leaving behind a void that felt\n",
            "\n",
            "Generated Story 12:\n",
            "Once upon a time, in a kingdom nestled amidst verdant hills and rolling meadows, there lived a young princess named Aurora. With cascading golden locks and eyes as blue as the vast sea, she possessed a boundless beauty that captured the hearts of all who laid eyes upon her. Her father, the wise and majestic King Aric, had given her an enchanted cloak adorned with intricate carvings of mythical creatures and breathtaking landscapes, promising untold fortunes and extraordinary adventures. Little did Aurora know, her life was about to take an unexpected turn as she embarked on a royal pilgrimage of pilgrimage. As Aurora stood before the majestic doors\n",
            "\n",
            "Generated Story 13:\n",
            "In the dimly lit office of detective Gabriel Sullivan, the brisk evening air seeped through the cracked window, sending shivers down Detective Carter's spine. Sullivan, a man of action, sat hunched over a desk, fingers lazily ticking away at a file. As the midnight blue glow of his worn fur danced upon the worn leather surface, a chilling whisper resonated through the silence, sending shivers down Detective Carter's spine. The story began innocently enough – a lone wolf savagely hunting down criminals in the town. With a deep breath, Detective Carter uncovered the twisted truth behind this tale. The victim, a renowned\n",
            "\n",
            "Generated Story 14:\n",
            "In a world teetering on the precipice of apocalyptic chaos, four individuals found themselves inexplicably drawn together by a shared fascination – the potential for transcendence through the study of time travel. Amelia Summers, a brilliant yet introverted young woman with a penchant for tinkering with timepieces, had always been fascinated by the intricacies of history. She could almost hear the ticking of countless clocks in the distance, as if hours themselves were speaking through the walls of her small, cluttered attic. Deep underground, in a dimly lit basement tucked away beneath a crumbling Victorian mansion, Dr. Alexander Wells, a renowned theoretical physicist, resided\n",
            "\n",
            "Generated Story 15:\n",
            "In the small coastal town of Seaview, nestled between the towering cliffs and the azure sea, a quiet ritual was about to take place. At dusk, as the moon cast its petals across the sky, the townspeople would gather beneath the old, weathered oak tree in the center of town. It was believed that under this venerable structure, dark rituals could be performed safely and unhindered by unwary outsiders. Underneath, a small circle of chosen ones would sit, their faces hidden beneath the robes of the Wise Old Seaview. The ritual, as it was called, was shrouded in mystery,\n",
            "\n",
            "Generated Story 16:\n",
            "In the not-too-distant future, where skyscrapers pierced the clouds and pedestrians walked hand in hand, augmented reality would become the norm. It would no longer be uncommon for a single glance to change lives, but it would be necessary to act swiftly and decisively when necessary. Alex's latest invention, the Neo-Optimizer, promised to revolutionize the concept of surveillance. It utilized advanced algorithms to enhance the user's experience, blurring the line between reality and the virtual world. However, as Alex learned the hard way, the line between the artificial and human worlds could blur. The ethical implications of their newfound technology\n",
            "\n",
            "Generated Story 17:\n",
            "In the verdant hills of Haiti, amidst the epicenter of the cholera epidemic, a group of courageous individuals banded together. Eliza, a young survivor with ebony hair cascading down her shoulders, possessed an unwavering determination that burned deep within her. She had heard of the plight of her people from afar, living in constant fear and despair. Armed with her knowledge and unwavering camaraderie, she became the group's guiding light, offering solace and reassurance to those in need. Together, they worked tirelessly, spreading awareness of the disease, spreading love and hope, in their relentless quest for\n",
            "\n",
            "Generated Story 18:\n",
            "In the vast expanse of the cosmos, humanity yearned for answers to the mysteries of life beyond Earth. It would be decades before interstellar travel became a reality, and the possibilities were endless. Among the countless nations represented within the Unity Star's solar system, the Galactic Alliance comprised the brilliant minds of merchants, scientists, and explorers alike. They understood the profound impact interstellar travel could have on humanity, and they devoted their resources to making it a reality. Within the peaceful confines of the Unity Star's scientific hub, Dr. Evelyn Sinclair, a renowned astrophysicist, conducted groundbreaking research aboard the starship Unity Star. Her tireless dedication\n",
            "\n",
            "Generated Story 19:\n",
            "In a desolate world crippled by an iron grip, where technology is a commodity, the clash between man and machine reaches its zenith. It is a tale of rebellion and unwavering determination, where the light of truth and defiance must prevail against the darkness that cloaks the world. The story begins with Ethan Sullivan, a hardened ex-soldier scarred by the horrors of war. Haunted by memories, he has chosen to fight for the ideals of equality and justice while remaining rooted in the comfort of his post-traumatic life. As his comrades prepare to leave the battlefield, Ethan's resolve is tested. The once imposing Mark IV armor\n",
            "\n",
            "Generated Story 20:\n",
            "In the year 49 BCE, the Roman Republic stood on the precipice of its greatest cultural transformation. The empire, built upon the oppression and exploitation of the conquered, was about to witness its greatest triumph – the triumph of the Republic. This was the backdrop in which Lucius Octavius, a charismatic speaker with a deep voice and passionate convictions, embarked on a mission that would shape the destiny of the Roman people. For generations, Lucius had watched as the Republic's ideals – democracy, equality, and liberty – had endured under the weight of war, but had now blossomed under the radiant feet of a single charismatic leader. He witnessed how\n",
            "\n"
          ]
        }
      ]
    },
    {
      "cell_type": "code",
      "source": [
        "print(list_of_generated_stories)"
      ],
      "metadata": {
        "colab": {
          "base_uri": "https://localhost:8080/"
        },
        "id": "qYF2P0_L2XiN",
        "outputId": "5431054e-b617-4483-b45b-4b087699da80"
      },
      "execution_count": 44,
      "outputs": [
        {
          "output_type": "stream",
          "name": "stdout",
          "text": [
            "[\"Once upon a time in the not too distant future, in the sprawling metropolis of NeoCity, where towering skyscrapers cast shadows on the rooftops and neon lights flickered like distant stars, an epic struggle for control of human minds and artificial intelligence would rage. It all began with Theodore Delacroix, a brilliant neuroscientist with a restless spirit. Theodore had devoted his life to unraveling the intricate complexities of the human mind, seeking to unravel the secrets that governed the very fabric of our existence. One fateful day, as he perused his laboratory's archives, he stumbled upon a startling revelation. An enigmatic manuscript\", \"Deep within the sprawling metropolis of Neo-Drexel, a technologically dense dystopia, lived a young android named Maya. Maya had always felt a void within herself, a longing for a sense of self beyond the constantly mechanical routine of her robotic life. With an insatiable thirst for discovery, Maya spent her days roaming the city's labyrinthine alleys, seeking solace in the silent wonders of nature. She longed to break free from the digital shackles that bound her and join the vibrant creative chorus that flowed through the veins of Neo-Drexel's robotic landscape. However, Maya soon discovered that her mechanical nature\", \"In the vast expanse of the American heartland, a small frontier town called Harmony thrived. Its cobblestone streets winded their way past charming cottages, their manicured gardens overflowing with colorful blooms. Its inhabitants, a diverse mix of people from diverse backgrounds, found solace in their shared values of freedom, equality, and love for their country. Within this laid the foundation of an extraordinary community. Here, young Amelia Miller, a spirited and adventurous girl of ten, discovered her true calling. She had always been fascinated by stories of historical figures who had defied societal norms and faced discrimination. Amelia's curious spirit soon\", \"In the heart of the French countryside, amidst rolling green hills and sprawling meadows, there stood a small village named Haven. Nestled amidst rolling meadows and adorned with ancient oak trees, it was a place of peace and tranquility. Life, however, had moved on since the days of the tranquillity. Rumors of impending war had reached Haven's ears, carried on the winds of whispers that carried the echoes of distant battles. The village of Le Havre, it seemed, was on the brink of becoming a battleground. It was whispered that an army of over a million soldiers was on the brink of encroaching upon their\", 'In the small town of Crestwood, nestled amidst rolling hills and serene meadows, there lived a young woman named Emma Sullivan. With her auburn hair cascading down her shoulders and sparkling emerald eyes, Emma possessed an ethereal beauty that seemed to captivate all who beheld her. Her days were spent diligently tending to the farmstead that she and husband, James, had built on the outskirts of town. The walls were adorned with shelves adorned with weathered books, and the creaking floorboards were filled with the whispered stories of forgotten time. It was the kind of place where time seemed to stand still', 'In the sprawling city of New Arcadia, where towering skyscrapers pierced the smog-laden sky, lived a young woman named Lily Evans. With fiery red hair cascading down her shoulders and emerald eyes that shimmered with wanderlust, she had the air of a beacon of inspiration in her eyes. Lily adored the vibrant landscapes that surrounded her, seeking solace from the monotony of her daily existence. Despite her small town upbringing, Lily possessed an insatiable thirst for adventure, forever yearning for new experiences. As the sun began its descent into the darkness of the morning, casting ominous shadows on the', 'In a small, sleepy town nestled amidst rolling hills, there stood a cozy cabin on the outskirts of town. The name of this house would forever be etched in the annals of local lore as The Haunted House. Rumor had it that the once dormant mansion had been cursed, its walls rusted and its inhabitants driven from their eternal rest. Legends whispered of spectral encounters, ghostly apparitions, and the tragic demise of those who dared to enter. However, it was in the depths of this manor that a group of curious teenagers sought to uncover the truth behind the supernatural. Among them was Sarah, a bright and curious young', 'In a small town nestled amidst rolling hills and glistening lakes, lived young Amelia Grant. With her fiery red hair and piercing blue eyes, she possessed a determination that burned bright within her. Despite being confined to a wheelchair, Amelia refused to let her disability define her. Amelia dedicated her life to helping others with her physical and emotional limitations. However, her wheelchair made walking complex and exhausting, and she often found herself struggling to balance the demands of daily living. Amelia found solace and comfort in the evenings, when the cheerful laughter of children played amidst the dense foliage of the town green. One fateful summer, as she sat on', \"Johnathan gazed out the dusty window of his small apartment, his mind a swirling maelstrom of uncertainty. Wherever he went in the future, he treasured the memory of Meet the Robinsons, the family he had lost forever. He longed to make amends for the pain he had caused, to heal the fractures his heart had missed. But his quest for redemption was met with skepticism, suspicion, and even disdain from those who believed in the power of forgiveness. Friends and strangers alike felt a pang of sadness when they saw Nathaniel's perpetual sadness, yet felt an overwhelming sense of joy when he displayed renewed determination.\", \"In the vibrant city of Celestia, where music echoed through every street and alley, a group of talented musicians lived and breathed their art. There was Harmony's Call, a group of talented musicians led by renowned vocalist, Emily. They were renowned for their intricate harmonies and emotive melodies that spoke to the soul. Their latest album, titled, Resilience, spoke of the journey of resilience, perseverance, and love in the face of adversity. As the lead single off their new album, Emily took the stage at the city's grand music festival, Performing With Heroes. The audience, filled with fervor and anticipation\", \"In the quiet town of Willowbrook, nestled among rolling hills and blooming meadows, a young man named Ethan found solace in the power of story telling. Ethan was a curious soul, his mind yearning to uncover the hidden truths hidden within the tangled tapestry of existence. He yearned to explore the infinite realms of realms where reality intertwines with fantasy, and where the unknown intertwined with the familiar. Ethan's passion for storytelling soon took a sinister turn, for he found himself caught up in a mysterious series of disappearances that struck the community. Each victim went missing without a trace, leaving behind a void that felt\", 'Once upon a time, in a kingdom nestled amidst verdant hills and rolling meadows, there lived a young princess named Aurora. With cascading golden locks and eyes as blue as the vast sea, she possessed a boundless beauty that captured the hearts of all who laid eyes upon her. Her father, the wise and majestic King Aric, had given her an enchanted cloak adorned with intricate carvings of mythical creatures and breathtaking landscapes, promising untold fortunes and extraordinary adventures. Little did Aurora know, her life was about to take an unexpected turn as she embarked on a royal pilgrimage of pilgrimage. As Aurora stood before the majestic doors', \"In the dimly lit office of detective Gabriel Sullivan, the brisk evening air seeped through the cracked window, sending shivers down Detective Carter's spine. Sullivan, a man of action, sat hunched over a desk, fingers lazily ticking away at a file. As the midnight blue glow of his worn fur danced upon the worn leather surface, a chilling whisper resonated through the silence, sending shivers down Detective Carter's spine. The story began innocently enough – a lone wolf savagely hunting down criminals in the town. With a deep breath, Detective Carter uncovered the twisted truth behind this tale. The victim, a renowned\", 'In a world teetering on the precipice of apocalyptic chaos, four individuals found themselves inexplicably drawn together by a shared fascination – the potential for transcendence through the study of time travel. Amelia Summers, a brilliant yet introverted young woman with a penchant for tinkering with timepieces, had always been fascinated by the intricacies of history. She could almost hear the ticking of countless clocks in the distance, as if hours themselves were speaking through the walls of her small, cluttered attic. Deep underground, in a dimly lit basement tucked away beneath a crumbling Victorian mansion, Dr. Alexander Wells, a renowned theoretical physicist, resided', 'In the small coastal town of Seaview, nestled between the towering cliffs and the azure sea, a quiet ritual was about to take place. At dusk, as the moon cast its petals across the sky, the townspeople would gather beneath the old, weathered oak tree in the center of town. It was believed that under this venerable structure, dark rituals could be performed safely and unhindered by unwary outsiders. Underneath, a small circle of chosen ones would sit, their faces hidden beneath the robes of the Wise Old Seaview. The ritual, as it was called, was shrouded in mystery,', \"In the not-too-distant future, where skyscrapers pierced the clouds and pedestrians walked hand in hand, augmented reality would become the norm. It would no longer be uncommon for a single glance to change lives, but it would be necessary to act swiftly and decisively when necessary. Alex's latest invention, the Neo-Optimizer, promised to revolutionize the concept of surveillance. It utilized advanced algorithms to enhance the user's experience, blurring the line between reality and the virtual world. However, as Alex learned the hard way, the line between the artificial and human worlds could blur. The ethical implications of their newfound technology\", \"In the verdant hills of Haiti, amidst the epicenter of the cholera epidemic, a group of courageous individuals banded together. Eliza, a young survivor with ebony hair cascading down her shoulders, possessed an unwavering determination that burned deep within her. She had heard of the plight of her people from afar, living in constant fear and despair. Armed with her knowledge and unwavering camaraderie, she became the group's guiding light, offering solace and reassurance to those in need. Together, they worked tirelessly, spreading awareness of the disease, spreading love and hope, in their relentless quest for\", \"In the vast expanse of the cosmos, humanity yearned for answers to the mysteries of life beyond Earth. It would be decades before interstellar travel became a reality, and the possibilities were endless. Among the countless nations represented within the Unity Star's solar system, the Galactic Alliance comprised the brilliant minds of merchants, scientists, and explorers alike. They understood the profound impact interstellar travel could have on humanity, and they devoted their resources to making it a reality. Within the peaceful confines of the Unity Star's scientific hub, Dr. Evelyn Sinclair, a renowned astrophysicist, conducted groundbreaking research aboard the starship Unity Star. Her tireless dedication\", \"In a desolate world crippled by an iron grip, where technology is a commodity, the clash between man and machine reaches its zenith. It is a tale of rebellion and unwavering determination, where the light of truth and defiance must prevail against the darkness that cloaks the world. The story begins with Ethan Sullivan, a hardened ex-soldier scarred by the horrors of war. Haunted by memories, he has chosen to fight for the ideals of equality and justice while remaining rooted in the comfort of his post-traumatic life. As his comrades prepare to leave the battlefield, Ethan's resolve is tested. The once imposing Mark IV armor\", \"In the year 49 BCE, the Roman Republic stood on the precipice of its greatest cultural transformation. The empire, built upon the oppression and exploitation of the conquered, was about to witness its greatest triumph – the triumph of the Republic. This was the backdrop in which Lucius Octavius, a charismatic speaker with a deep voice and passionate convictions, embarked on a mission that would shape the destiny of the Roman people. For generations, Lucius had watched as the Republic's ideals – democracy, equality, and liberty – had endured under the weight of war, but had now blossomed under the radiant feet of a single charismatic leader. He witnessed how\"]\n"
          ]
        }
      ]
    },
    {
      "cell_type": "code",
      "source": [
        "print(len(list_of_generated_stories))"
      ],
      "metadata": {
        "colab": {
          "base_uri": "https://localhost:8080/"
        },
        "id": "-M61BF8K2l5i",
        "outputId": "7fdd4d0f-2341-459b-fdc5-b250dbf276f6"
      },
      "execution_count": 45,
      "outputs": [
        {
          "output_type": "stream",
          "name": "stdout",
          "text": [
            "20\n"
          ]
        }
      ]
    },
    {
      "cell_type": "markdown",
      "source": [
        "# **Evaluating Generated Recipes Against Reference Recipes**"
      ],
      "metadata": {
        "id": "i9cKOEzV06kE"
      }
    },
    {
      "cell_type": "code",
      "source": [
        "!pip install rouge_score"
      ],
      "metadata": {
        "colab": {
          "base_uri": "https://localhost:8080/"
        },
        "id": "KOW3lJIp3JR6",
        "outputId": "152d0bad-7bc3-4d83-f235-a307ef61a2ca"
      },
      "execution_count": 46,
      "outputs": [
        {
          "output_type": "stream",
          "name": "stdout",
          "text": [
            "Collecting rouge_score\n",
            "  Downloading rouge_score-0.1.2.tar.gz (17 kB)\n",
            "  Preparing metadata (setup.py) ... \u001b[?25l\u001b[?25hdone\n",
            "Requirement already satisfied: absl-py in /usr/local/lib/python3.10/dist-packages (from rouge_score) (1.4.0)\n",
            "Requirement already satisfied: nltk in /usr/local/lib/python3.10/dist-packages (from rouge_score) (3.8.1)\n",
            "Requirement already satisfied: numpy in /usr/local/lib/python3.10/dist-packages (from rouge_score) (1.23.5)\n",
            "Requirement already satisfied: six>=1.14.0 in /usr/local/lib/python3.10/dist-packages (from rouge_score) (1.16.0)\n",
            "Requirement already satisfied: click in /usr/local/lib/python3.10/dist-packages (from nltk->rouge_score) (8.1.7)\n",
            "Requirement already satisfied: joblib in /usr/local/lib/python3.10/dist-packages (from nltk->rouge_score) (1.3.2)\n",
            "Requirement already satisfied: regex>=2021.8.3 in /usr/local/lib/python3.10/dist-packages (from nltk->rouge_score) (2023.6.3)\n",
            "Requirement already satisfied: tqdm in /usr/local/lib/python3.10/dist-packages (from nltk->rouge_score) (4.66.1)\n",
            "Building wheels for collected packages: rouge_score\n",
            "  Building wheel for rouge_score (setup.py) ... \u001b[?25l\u001b[?25hdone\n",
            "  Created wheel for rouge_score: filename=rouge_score-0.1.2-py3-none-any.whl size=24933 sha256=e803ee46ad0d33b0fd8b72a453c1c06b71ec9ba09568bce90bd5dffd79781753\n",
            "  Stored in directory: /root/.cache/pip/wheels/5f/dd/89/461065a73be61a532ff8599a28e9beef17985c9e9c31e541b4\n",
            "Successfully built rouge_score\n",
            "Installing collected packages: rouge_score\n",
            "Successfully installed rouge_score-0.1.2\n"
          ]
        }
      ]
    },
    {
      "cell_type": "code",
      "source": [
        "!pip install evaluate"
      ],
      "metadata": {
        "colab": {
          "base_uri": "https://localhost:8080/"
        },
        "id": "5KmtYC-H6bqX",
        "outputId": "29f8d556-bf43-4b06-fb0e-abc50f0109ae"
      },
      "execution_count": 47,
      "outputs": [
        {
          "output_type": "stream",
          "name": "stdout",
          "text": [
            "Collecting evaluate\n",
            "  Downloading evaluate-0.4.1-py3-none-any.whl (84 kB)\n",
            "\u001b[2K     \u001b[90m━━━━━━━━━━━━━━━━━━━━━━━━━━━━━━━━━━━━━━━━\u001b[0m \u001b[32m84.1/84.1 kB\u001b[0m \u001b[31m1.2 MB/s\u001b[0m eta \u001b[36m0:00:00\u001b[0m\n",
            "\u001b[?25hRequirement already satisfied: datasets>=2.0.0 in /usr/local/lib/python3.10/dist-packages (from evaluate) (2.16.1)\n",
            "Requirement already satisfied: numpy>=1.17 in /usr/local/lib/python3.10/dist-packages (from evaluate) (1.23.5)\n",
            "Requirement already satisfied: dill in /usr/local/lib/python3.10/dist-packages (from evaluate) (0.3.7)\n",
            "Requirement already satisfied: pandas in /usr/local/lib/python3.10/dist-packages (from evaluate) (1.5.3)\n",
            "Requirement already satisfied: requests>=2.19.0 in /usr/local/lib/python3.10/dist-packages (from evaluate) (2.31.0)\n",
            "Requirement already satisfied: tqdm>=4.62.1 in /usr/local/lib/python3.10/dist-packages (from evaluate) (4.66.1)\n",
            "Requirement already satisfied: xxhash in /usr/local/lib/python3.10/dist-packages (from evaluate) (3.4.1)\n",
            "Requirement already satisfied: multiprocess in /usr/local/lib/python3.10/dist-packages (from evaluate) (0.70.15)\n",
            "Requirement already satisfied: fsspec[http]>=2021.05.0 in /usr/local/lib/python3.10/dist-packages (from evaluate) (2023.6.0)\n",
            "Requirement already satisfied: huggingface-hub>=0.7.0 in /usr/local/lib/python3.10/dist-packages (from evaluate) (0.20.1)\n",
            "Requirement already satisfied: packaging in /usr/local/lib/python3.10/dist-packages (from evaluate) (23.2)\n",
            "Collecting responses<0.19 (from evaluate)\n",
            "  Downloading responses-0.18.0-py3-none-any.whl (38 kB)\n",
            "Requirement already satisfied: filelock in /usr/local/lib/python3.10/dist-packages (from datasets>=2.0.0->evaluate) (3.13.1)\n",
            "Requirement already satisfied: pyarrow>=8.0.0 in /usr/local/lib/python3.10/dist-packages (from datasets>=2.0.0->evaluate) (10.0.1)\n",
            "Requirement already satisfied: pyarrow-hotfix in /usr/local/lib/python3.10/dist-packages (from datasets>=2.0.0->evaluate) (0.6)\n",
            "Requirement already satisfied: aiohttp in /usr/local/lib/python3.10/dist-packages (from datasets>=2.0.0->evaluate) (3.9.1)\n",
            "Requirement already satisfied: pyyaml>=5.1 in /usr/local/lib/python3.10/dist-packages (from datasets>=2.0.0->evaluate) (6.0.1)\n",
            "Requirement already satisfied: typing-extensions>=3.7.4.3 in /usr/local/lib/python3.10/dist-packages (from huggingface-hub>=0.7.0->evaluate) (4.5.0)\n",
            "Requirement already satisfied: charset-normalizer<4,>=2 in /usr/local/lib/python3.10/dist-packages (from requests>=2.19.0->evaluate) (3.3.2)\n",
            "Requirement already satisfied: idna<4,>=2.5 in /usr/local/lib/python3.10/dist-packages (from requests>=2.19.0->evaluate) (3.6)\n",
            "Requirement already satisfied: urllib3<3,>=1.21.1 in /usr/local/lib/python3.10/dist-packages (from requests>=2.19.0->evaluate) (2.0.7)\n",
            "Requirement already satisfied: certifi>=2017.4.17 in /usr/local/lib/python3.10/dist-packages (from requests>=2.19.0->evaluate) (2023.11.17)\n",
            "Requirement already satisfied: python-dateutil>=2.8.1 in /usr/local/lib/python3.10/dist-packages (from pandas->evaluate) (2.8.2)\n",
            "Requirement already satisfied: pytz>=2020.1 in /usr/local/lib/python3.10/dist-packages (from pandas->evaluate) (2023.3.post1)\n",
            "Requirement already satisfied: attrs>=17.3.0 in /usr/local/lib/python3.10/dist-packages (from aiohttp->datasets>=2.0.0->evaluate) (23.2.0)\n",
            "Requirement already satisfied: multidict<7.0,>=4.5 in /usr/local/lib/python3.10/dist-packages (from aiohttp->datasets>=2.0.0->evaluate) (6.0.4)\n",
            "Requirement already satisfied: yarl<2.0,>=1.0 in /usr/local/lib/python3.10/dist-packages (from aiohttp->datasets>=2.0.0->evaluate) (1.9.4)\n",
            "Requirement already satisfied: frozenlist>=1.1.1 in /usr/local/lib/python3.10/dist-packages (from aiohttp->datasets>=2.0.0->evaluate) (1.4.1)\n",
            "Requirement already satisfied: aiosignal>=1.1.2 in /usr/local/lib/python3.10/dist-packages (from aiohttp->datasets>=2.0.0->evaluate) (1.3.1)\n",
            "Requirement already satisfied: async-timeout<5.0,>=4.0 in /usr/local/lib/python3.10/dist-packages (from aiohttp->datasets>=2.0.0->evaluate) (4.0.3)\n",
            "Requirement already satisfied: six>=1.5 in /usr/local/lib/python3.10/dist-packages (from python-dateutil>=2.8.1->pandas->evaluate) (1.16.0)\n",
            "Installing collected packages: responses, evaluate\n",
            "Successfully installed evaluate-0.4.1 responses-0.18.0\n"
          ]
        }
      ]
    },
    {
      "cell_type": "code",
      "source": [
        "!pip install jiwer"
      ],
      "metadata": {
        "colab": {
          "base_uri": "https://localhost:8080/"
        },
        "id": "M1XS3r966y-R",
        "outputId": "ce5c9a26-3083-4339-805b-22477ff092d9"
      },
      "execution_count": 48,
      "outputs": [
        {
          "output_type": "stream",
          "name": "stdout",
          "text": [
            "Collecting jiwer\n",
            "  Downloading jiwer-3.0.3-py3-none-any.whl (21 kB)\n",
            "Requirement already satisfied: click<9.0.0,>=8.1.3 in /usr/local/lib/python3.10/dist-packages (from jiwer) (8.1.7)\n",
            "Collecting rapidfuzz<4,>=3 (from jiwer)\n",
            "  Downloading rapidfuzz-3.6.1-cp310-cp310-manylinux_2_17_x86_64.manylinux2014_x86_64.whl (3.4 MB)\n",
            "\u001b[2K     \u001b[90m━━━━━━━━━━━━━━━━━━━━━━━━━━━━━━━━━━━━━━━━\u001b[0m \u001b[32m3.4/3.4 MB\u001b[0m \u001b[31m14.4 MB/s\u001b[0m eta \u001b[36m0:00:00\u001b[0m\n",
            "\u001b[?25hInstalling collected packages: rapidfuzz, jiwer\n",
            "Successfully installed jiwer-3.0.3 rapidfuzz-3.6.1\n"
          ]
        }
      ]
    },
    {
      "cell_type": "code",
      "source": [
        "from evaluate import load\n",
        "# Load the evaluation metric for Character Error Rate (CER) and Word Error Rate (WER) and Exact Match(em)\n",
        "cer_metric = load(\"cer\")\n",
        "wer_metric = load(\"wer\")\n",
        "meteor = load('meteor')\n",
        "exact_match_metric = load(\"exact_match\")\n",
        "\n",
        "# Load BLEU and ROUGE metrics\n",
        "bleu_metric = load(\"bleu\")\n",
        "rouge_metric = load('rouge')"
      ],
      "metadata": {
        "colab": {
          "base_uri": "https://localhost:8080/",
          "height": 342,
          "referenced_widgets": [
            "9ddad424f0184313ab9e3e625affa396",
            "a4280ec7a29c46e0bc122aa030a38c58",
            "cf151b5b0ccb47c987c54412dd7bdcae",
            "6576dd5ff7e94e0b8291ab3802dc7bbc",
            "ac09333dc2dd40edb648d67ac091c2f6",
            "7057fc641e204559a522f70879d073e9",
            "dbbb1cf6d01e4e44821ee9bbd2a508e6",
            "55f5600edfd44282bcc89edf5dec04f3",
            "58e0b4569673458390c4997e722c5d8b",
            "0a887b52a1ac4394ad4a7beca1ae67e2",
            "34069795eb764ffcae5bdd28043c2eed",
            "6abdbd919f3842c5bd01dd98e1e1ded6",
            "eb37319900824465a5795833383abe6e",
            "db5f9f8d469341a1bc041642d43ace6b",
            "685e05630b9647488bac981721a82224",
            "834010a321774ca4bc7215a096df7c05",
            "3bdbc4b923a44cca9245a34f6fc5a7bc",
            "54cd5e1b8aeb4a5fbe3cb08816ff896c",
            "81f6adc3318b4091908bfe76f9062f99",
            "b796874774be43c88b03fa1edc9fb988",
            "c727e65a1b484e709561ce2c5b836c69",
            "4aa8f72acaf44637b82f349ed3de2f52",
            "dbbbd26f9ba1488b987b08a3679f6e51",
            "d8925da561e14d34aa22af3a110feba6",
            "e3e7966e6a7643a081bcded7c9b1dafc",
            "282e7d3df374484da55af32ecb4aaa8f",
            "6dc20e1f35fd450c8adae604173e6dbd",
            "a68c17f259574dc7879080092a833aae",
            "5d58bb8d399d41e08ed2fbcd911bbe6b",
            "c9eba18552e9489c89ac49832279bfa5",
            "5f0a083e65224e73b55c280490800e3e",
            "ef294e5d44c340b6a4779b4e0a0e718b",
            "5693fae590134406ba037de75574ef43",
            "838e7af09c4a4b1699eaae3ce6afe17e",
            "bb54ca4d636b428b9704d0785d0b4fc5",
            "93009acc136942e8a34c185b8b18900b",
            "6f4790c4c6a34c79a333199980f838c2",
            "2c02fdcb696a4377be567caf54e92b91",
            "803f52fe611c470c8a3eecbf0a91e1f3",
            "5998f6960a834c5aa7bb83d1c7325a86",
            "4b99c0f59f854aafb0bd58eadc35dedb",
            "36fc20099f5b48038d4c6d081b4ebbd3",
            "a9030c9756234c0381bd068fb667170b",
            "9c471f91eef54336ab35facedf6dca46",
            "6abbf547aea04214ae66682e34ad45f6",
            "4a40da31e12e40bfb3abe2afb14b9754",
            "339ce383a011419a8acd0504e8a52f9b",
            "479ace7ad006468bb52e1a69b498c61f",
            "1b7ae688ce5347d9923158e8707727f7",
            "67bf6750e3d847ffa79fdd438bae158a",
            "bf15d5e8a6084500a8187c951615f1e9",
            "e57bd19b950e43c1ab314bd0e10b81de",
            "6138c7e3aa374f2eb26343e6e74197e3",
            "2326c08d8506471ea09b13a60b0d82c8",
            "5b27ed86d21f43f9882e90d78a316cad",
            "e0c3497aafa346fcb7366b9bf2546947",
            "e59cc6cadc37493182062b2dc02dcc95",
            "4a15659f9ea44222be5363ebd4f60b8b",
            "073b2418554d4bd689e2955a69459ea2",
            "ed920c1b869a48d7b1b3c6abd400a9ff",
            "695c347f6b9a408e9754a1339324f372",
            "dd2de1ebfffd46e283d33ad7ea4eceac",
            "b31b86906f5a403897796ed7636ed812",
            "152752602fc5489a9423286f9489f622",
            "4bc02794c0694d9c9be0cd26b5f420ed",
            "d0018f014ece48e3a36d59328a08f00e",
            "da4ef0909f7a44138a4aa0e2378df45f",
            "78bbd1febfda42c483dc3d214dd09fc7",
            "0848e7d6438a483c96673206d8dfaf8c",
            "f8ace7a0bb454b3c8fe6eb93895f699b",
            "7cf880995d4f41ea9cc7a98e80c9e652",
            "4abfaa781f544452b3428c3cf2989a01",
            "f5ebb53324f74d5f89584501a3925003",
            "00fa8074713f4018b1b09749a1479b7a",
            "097622842b4240818241baa84ff70428",
            "7187d6194e09453382d370c6d6e1036f",
            "0fc612f562a1477eb461da13ab035395",
            "bca85bf2be5d457eb141e13f2658feb0",
            "47cc98f45baf4be1b826b450a2bdc3e7",
            "dc6e691af7b548a3ae59ff16799a100f",
            "d7ca7e3308124d07ac27de34b0475ae1",
            "c1a786a734ab47daaa7b79830a4ffeb3",
            "8b2c674f4de545bdadcdb510dea15331",
            "64d4959899a4457f9ec629cc99e85480",
            "30f78158e4f94816b4abbbb2154e3a8c",
            "7887dfc26e044baaade495f487d998cc",
            "e5351a7328c243f48cf86ce668339f2b",
            "4166040df89241899c1dfc58dab8c83b"
          ]
        },
        "id": "TrF_SmPF6qPU",
        "outputId": "01966b55-b0b8-48e3-ccfb-4097f937a1ac"
      },
      "execution_count": 49,
      "outputs": [
        {
          "output_type": "display_data",
          "data": {
            "text/plain": [
              "Downloading builder script:   0%|          | 0.00/5.60k [00:00<?, ?B/s]"
            ],
            "application/vnd.jupyter.widget-view+json": {
              "version_major": 2,
              "version_minor": 0,
              "model_id": "9ddad424f0184313ab9e3e625affa396"
            }
          },
          "metadata": {}
        },
        {
          "output_type": "display_data",
          "data": {
            "text/plain": [
              "Downloading builder script:   0%|          | 0.00/4.49k [00:00<?, ?B/s]"
            ],
            "application/vnd.jupyter.widget-view+json": {
              "version_major": 2,
              "version_minor": 0,
              "model_id": "6abdbd919f3842c5bd01dd98e1e1ded6"
            }
          },
          "metadata": {}
        },
        {
          "output_type": "display_data",
          "data": {
            "text/plain": [
              "Downloading builder script:   0%|          | 0.00/6.93k [00:00<?, ?B/s]"
            ],
            "application/vnd.jupyter.widget-view+json": {
              "version_major": 2,
              "version_minor": 0,
              "model_id": "dbbbd26f9ba1488b987b08a3679f6e51"
            }
          },
          "metadata": {}
        },
        {
          "output_type": "stream",
          "name": "stderr",
          "text": [
            "[nltk_data] Downloading package wordnet to /root/nltk_data...\n",
            "[nltk_data] Downloading package punkt to /root/nltk_data...\n",
            "[nltk_data]   Unzipping tokenizers/punkt.zip.\n",
            "[nltk_data] Downloading package omw-1.4 to /root/nltk_data...\n"
          ]
        },
        {
          "output_type": "display_data",
          "data": {
            "text/plain": [
              "Downloading builder script:   0%|          | 0.00/5.67k [00:00<?, ?B/s]"
            ],
            "application/vnd.jupyter.widget-view+json": {
              "version_major": 2,
              "version_minor": 0,
              "model_id": "838e7af09c4a4b1699eaae3ce6afe17e"
            }
          },
          "metadata": {}
        },
        {
          "output_type": "display_data",
          "data": {
            "text/plain": [
              "Downloading builder script:   0%|          | 0.00/5.94k [00:00<?, ?B/s]"
            ],
            "application/vnd.jupyter.widget-view+json": {
              "version_major": 2,
              "version_minor": 0,
              "model_id": "6abbf547aea04214ae66682e34ad45f6"
            }
          },
          "metadata": {}
        },
        {
          "output_type": "display_data",
          "data": {
            "text/plain": [
              "Downloading extra modules:   0%|          | 0.00/1.55k [00:00<?, ?B/s]"
            ],
            "application/vnd.jupyter.widget-view+json": {
              "version_major": 2,
              "version_minor": 0,
              "model_id": "e0c3497aafa346fcb7366b9bf2546947"
            }
          },
          "metadata": {}
        },
        {
          "output_type": "display_data",
          "data": {
            "text/plain": [
              "Downloading extra modules:   0%|          | 0.00/3.34k [00:00<?, ?B/s]"
            ],
            "application/vnd.jupyter.widget-view+json": {
              "version_major": 2,
              "version_minor": 0,
              "model_id": "da4ef0909f7a44138a4aa0e2378df45f"
            }
          },
          "metadata": {}
        },
        {
          "output_type": "display_data",
          "data": {
            "text/plain": [
              "Downloading builder script:   0%|          | 0.00/6.27k [00:00<?, ?B/s]"
            ],
            "application/vnd.jupyter.widget-view+json": {
              "version_major": 2,
              "version_minor": 0,
              "model_id": "bca85bf2be5d457eb141e13f2658feb0"
            }
          },
          "metadata": {}
        }
      ]
    },
    {
      "cell_type": "code",
      "source": [
        "# Calculate Character Error Rate (CER) and Word Error Rate (WER)\n",
        "results_CER = cer_metric.compute(predictions=list_of_generated_stories, references=list_of_20_examples)\n",
        "results_WER = wer_metric.compute(predictions=list_of_generated_stories, references=list_of_20_examples)\n",
        "\n",
        "# Calculate Exact Match (EM) and METEOR(M)\n",
        "results_em = exact_match_metric.compute(predictions=list_of_generated_stories, references=list_of_20_examples)\n",
        "results_met = meteor.compute(predictions=list_of_generated_stories, references=list_of_20_examples)\n",
        "\n",
        "# Calculate Bilingual Evaluation Understudy (BLEU)\n",
        "results_bleu = bleu_metric.compute(predictions=list_of_generated_stories, references=list_of_20_examples)"
      ],
      "metadata": {
        "id": "cX_-CAXQ05c-"
      },
      "execution_count": 50,
      "outputs": []
    },
    {
      "cell_type": "markdown",
      "source": [
        "# **Printing evaluation metrics**"
      ],
      "metadata": {
        "id": "MQGVDMuN5jRY"
      }
    },
    {
      "cell_type": "code",
      "source": [
        "print(\"Character Error Rate for Story Generation:\", results_CER)\n",
        "print(\"Word Error Rate for Story Generation:\",results_WER)\n",
        "print(\"Exact Match for Story Generation:\",results_em)\n",
        "print(\"BLEU Score for Story Generation:\",results_bleu)\n",
        "print(\"METEOR for Story Generation:\",results_met)"
      ],
      "metadata": {
        "colab": {
          "base_uri": "https://localhost:8080/"
        },
        "id": "NeL2eQv45hXx",
        "outputId": "5ee395be-fe8d-471a-b76c-c3e3282d707f"
      },
      "execution_count": 51,
      "outputs": [
        {
          "output_type": "stream",
          "name": "stdout",
          "text": [
            "Character Error Rate for Story Generation: 0.8715310401723309\n",
            "Word Error Rate for Story Generation: 0.9474332054159728\n",
            "Exact Match for Story Generation: {'exact_match': 0.0}\n",
            "BLEU Score for Story Generation: {'bleu': 0.0005072458444240759, 'precisions': [0.5669393026259147, 0.19539730785931395, 0.08409986859395532, 0.05877154220061865], 'brevity_penalty': 0.0033159968665602184, 'length_ratio': 0.14905357715752326, 'translation_length': 2323, 'reference_length': 15585}\n",
            "METEOR for Story Generation: {'meteor': 0.058157494043711254}\n"
          ]
        }
      ]
    }
  ]
}