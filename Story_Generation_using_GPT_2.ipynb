{
  "nbformat": 4,
  "nbformat_minor": 0,
  "metadata": {
    "colab": {
      "provenance": [],
      "gpuType": "T4",
      "include_colab_link": true
    },
    "kernelspec": {
      "name": "python3",
      "display_name": "Python 3"
    },
    "accelerator": "GPU",
    "widgets": {
      "application/vnd.jupyter.widget-state+json": {
        "e9db2a257d614203b87822ef342ca247": {
          "model_module": "@jupyter-widgets/controls",
          "model_name": "HBoxModel",
          "model_module_version": "1.5.0",
          "state": {
            "_dom_classes": [],
            "_model_module": "@jupyter-widgets/controls",
            "_model_module_version": "1.5.0",
            "_model_name": "HBoxModel",
            "_view_count": null,
            "_view_module": "@jupyter-widgets/controls",
            "_view_module_version": "1.5.0",
            "_view_name": "HBoxView",
            "box_style": "",
            "children": [
              "IPY_MODEL_a8802fe05b1a413aa74a688f4e81a623",
              "IPY_MODEL_9c4e68a201494939a8fc8da92b38989f",
              "IPY_MODEL_95e6b267fac94cec8ea45e0788ccbe66"
            ],
            "layout": "IPY_MODEL_0093067253ce4686bf8c1ab3906a062d"
          }
        },
        "a8802fe05b1a413aa74a688f4e81a623": {
          "model_module": "@jupyter-widgets/controls",
          "model_name": "HTMLModel",
          "model_module_version": "1.5.0",
          "state": {
            "_dom_classes": [],
            "_model_module": "@jupyter-widgets/controls",
            "_model_module_version": "1.5.0",
            "_model_name": "HTMLModel",
            "_view_count": null,
            "_view_module": "@jupyter-widgets/controls",
            "_view_module_version": "1.5.0",
            "_view_name": "HTMLView",
            "description": "",
            "description_tooltip": null,
            "layout": "IPY_MODEL_b8a24c46fe644bdc9e201910d63fbfa7",
            "placeholder": "​",
            "style": "IPY_MODEL_fe548cca5f4749fdb44721da0703320c",
            "value": "Creating CSV from Arrow format: 100%"
          }
        },
        "9c4e68a201494939a8fc8da92b38989f": {
          "model_module": "@jupyter-widgets/controls",
          "model_name": "FloatProgressModel",
          "model_module_version": "1.5.0",
          "state": {
            "_dom_classes": [],
            "_model_module": "@jupyter-widgets/controls",
            "_model_module_version": "1.5.0",
            "_model_name": "FloatProgressModel",
            "_view_count": null,
            "_view_module": "@jupyter-widgets/controls",
            "_view_module_version": "1.5.0",
            "_view_name": "ProgressView",
            "bar_style": "success",
            "description": "",
            "description_tooltip": null,
            "layout": "IPY_MODEL_c676611583c940059a30848358c26662",
            "max": 6,
            "min": 0,
            "orientation": "horizontal",
            "style": "IPY_MODEL_17c5cadfcd8544cba9ebd94f17f89b30",
            "value": 6
          }
        },
        "95e6b267fac94cec8ea45e0788ccbe66": {
          "model_module": "@jupyter-widgets/controls",
          "model_name": "HTMLModel",
          "model_module_version": "1.5.0",
          "state": {
            "_dom_classes": [],
            "_model_module": "@jupyter-widgets/controls",
            "_model_module_version": "1.5.0",
            "_model_name": "HTMLModel",
            "_view_count": null,
            "_view_module": "@jupyter-widgets/controls",
            "_view_module_version": "1.5.0",
            "_view_name": "HTMLView",
            "description": "",
            "description_tooltip": null,
            "layout": "IPY_MODEL_4a784a9f06264bf7a709aa25f1f819ce",
            "placeholder": "​",
            "style": "IPY_MODEL_b37f1eb162904d369d07d28df791587d",
            "value": " 6/6 [00:01&lt;00:00,  5.23ba/s]"
          }
        },
        "0093067253ce4686bf8c1ab3906a062d": {
          "model_module": "@jupyter-widgets/base",
          "model_name": "LayoutModel",
          "model_module_version": "1.2.0",
          "state": {
            "_model_module": "@jupyter-widgets/base",
            "_model_module_version": "1.2.0",
            "_model_name": "LayoutModel",
            "_view_count": null,
            "_view_module": "@jupyter-widgets/base",
            "_view_module_version": "1.2.0",
            "_view_name": "LayoutView",
            "align_content": null,
            "align_items": null,
            "align_self": null,
            "border": null,
            "bottom": null,
            "display": null,
            "flex": null,
            "flex_flow": null,
            "grid_area": null,
            "grid_auto_columns": null,
            "grid_auto_flow": null,
            "grid_auto_rows": null,
            "grid_column": null,
            "grid_gap": null,
            "grid_row": null,
            "grid_template_areas": null,
            "grid_template_columns": null,
            "grid_template_rows": null,
            "height": null,
            "justify_content": null,
            "justify_items": null,
            "left": null,
            "margin": null,
            "max_height": null,
            "max_width": null,
            "min_height": null,
            "min_width": null,
            "object_fit": null,
            "object_position": null,
            "order": null,
            "overflow": null,
            "overflow_x": null,
            "overflow_y": null,
            "padding": null,
            "right": null,
            "top": null,
            "visibility": null,
            "width": null
          }
        },
        "b8a24c46fe644bdc9e201910d63fbfa7": {
          "model_module": "@jupyter-widgets/base",
          "model_name": "LayoutModel",
          "model_module_version": "1.2.0",
          "state": {
            "_model_module": "@jupyter-widgets/base",
            "_model_module_version": "1.2.0",
            "_model_name": "LayoutModel",
            "_view_count": null,
            "_view_module": "@jupyter-widgets/base",
            "_view_module_version": "1.2.0",
            "_view_name": "LayoutView",
            "align_content": null,
            "align_items": null,
            "align_self": null,
            "border": null,
            "bottom": null,
            "display": null,
            "flex": null,
            "flex_flow": null,
            "grid_area": null,
            "grid_auto_columns": null,
            "grid_auto_flow": null,
            "grid_auto_rows": null,
            "grid_column": null,
            "grid_gap": null,
            "grid_row": null,
            "grid_template_areas": null,
            "grid_template_columns": null,
            "grid_template_rows": null,
            "height": null,
            "justify_content": null,
            "justify_items": null,
            "left": null,
            "margin": null,
            "max_height": null,
            "max_width": null,
            "min_height": null,
            "min_width": null,
            "object_fit": null,
            "object_position": null,
            "order": null,
            "overflow": null,
            "overflow_x": null,
            "overflow_y": null,
            "padding": null,
            "right": null,
            "top": null,
            "visibility": null,
            "width": null
          }
        },
        "fe548cca5f4749fdb44721da0703320c": {
          "model_module": "@jupyter-widgets/controls",
          "model_name": "DescriptionStyleModel",
          "model_module_version": "1.5.0",
          "state": {
            "_model_module": "@jupyter-widgets/controls",
            "_model_module_version": "1.5.0",
            "_model_name": "DescriptionStyleModel",
            "_view_count": null,
            "_view_module": "@jupyter-widgets/base",
            "_view_module_version": "1.2.0",
            "_view_name": "StyleView",
            "description_width": ""
          }
        },
        "c676611583c940059a30848358c26662": {
          "model_module": "@jupyter-widgets/base",
          "model_name": "LayoutModel",
          "model_module_version": "1.2.0",
          "state": {
            "_model_module": "@jupyter-widgets/base",
            "_model_module_version": "1.2.0",
            "_model_name": "LayoutModel",
            "_view_count": null,
            "_view_module": "@jupyter-widgets/base",
            "_view_module_version": "1.2.0",
            "_view_name": "LayoutView",
            "align_content": null,
            "align_items": null,
            "align_self": null,
            "border": null,
            "bottom": null,
            "display": null,
            "flex": null,
            "flex_flow": null,
            "grid_area": null,
            "grid_auto_columns": null,
            "grid_auto_flow": null,
            "grid_auto_rows": null,
            "grid_column": null,
            "grid_gap": null,
            "grid_row": null,
            "grid_template_areas": null,
            "grid_template_columns": null,
            "grid_template_rows": null,
            "height": null,
            "justify_content": null,
            "justify_items": null,
            "left": null,
            "margin": null,
            "max_height": null,
            "max_width": null,
            "min_height": null,
            "min_width": null,
            "object_fit": null,
            "object_position": null,
            "order": null,
            "overflow": null,
            "overflow_x": null,
            "overflow_y": null,
            "padding": null,
            "right": null,
            "top": null,
            "visibility": null,
            "width": null
          }
        },
        "17c5cadfcd8544cba9ebd94f17f89b30": {
          "model_module": "@jupyter-widgets/controls",
          "model_name": "ProgressStyleModel",
          "model_module_version": "1.5.0",
          "state": {
            "_model_module": "@jupyter-widgets/controls",
            "_model_module_version": "1.5.0",
            "_model_name": "ProgressStyleModel",
            "_view_count": null,
            "_view_module": "@jupyter-widgets/base",
            "_view_module_version": "1.2.0",
            "_view_name": "StyleView",
            "bar_color": null,
            "description_width": ""
          }
        },
        "4a784a9f06264bf7a709aa25f1f819ce": {
          "model_module": "@jupyter-widgets/base",
          "model_name": "LayoutModel",
          "model_module_version": "1.2.0",
          "state": {
            "_model_module": "@jupyter-widgets/base",
            "_model_module_version": "1.2.0",
            "_model_name": "LayoutModel",
            "_view_count": null,
            "_view_module": "@jupyter-widgets/base",
            "_view_module_version": "1.2.0",
            "_view_name": "LayoutView",
            "align_content": null,
            "align_items": null,
            "align_self": null,
            "border": null,
            "bottom": null,
            "display": null,
            "flex": null,
            "flex_flow": null,
            "grid_area": null,
            "grid_auto_columns": null,
            "grid_auto_flow": null,
            "grid_auto_rows": null,
            "grid_column": null,
            "grid_gap": null,
            "grid_row": null,
            "grid_template_areas": null,
            "grid_template_columns": null,
            "grid_template_rows": null,
            "height": null,
            "justify_content": null,
            "justify_items": null,
            "left": null,
            "margin": null,
            "max_height": null,
            "max_width": null,
            "min_height": null,
            "min_width": null,
            "object_fit": null,
            "object_position": null,
            "order": null,
            "overflow": null,
            "overflow_x": null,
            "overflow_y": null,
            "padding": null,
            "right": null,
            "top": null,
            "visibility": null,
            "width": null
          }
        },
        "b37f1eb162904d369d07d28df791587d": {
          "model_module": "@jupyter-widgets/controls",
          "model_name": "DescriptionStyleModel",
          "model_module_version": "1.5.0",
          "state": {
            "_model_module": "@jupyter-widgets/controls",
            "_model_module_version": "1.5.0",
            "_model_name": "DescriptionStyleModel",
            "_view_count": null,
            "_view_module": "@jupyter-widgets/base",
            "_view_module_version": "1.2.0",
            "_view_name": "StyleView",
            "description_width": ""
          }
        },
        "86766aade4994d18bee8e70efdc911a8": {
          "model_module": "@jupyter-widgets/controls",
          "model_name": "HBoxModel",
          "model_module_version": "1.5.0",
          "state": {
            "_dom_classes": [],
            "_model_module": "@jupyter-widgets/controls",
            "_model_module_version": "1.5.0",
            "_model_name": "HBoxModel",
            "_view_count": null,
            "_view_module": "@jupyter-widgets/controls",
            "_view_module_version": "1.5.0",
            "_view_name": "HBoxView",
            "box_style": "",
            "children": [
              "IPY_MODEL_d93215a2f757403bbff3cfd6a1626c24",
              "IPY_MODEL_f4873e542eae4f039ec228a5a1d02503",
              "IPY_MODEL_cdd9f926131b433297fa42c0f0c59c12"
            ],
            "layout": "IPY_MODEL_a05dd0394c614cb7be959182b83245f5"
          }
        },
        "d93215a2f757403bbff3cfd6a1626c24": {
          "model_module": "@jupyter-widgets/controls",
          "model_name": "HTMLModel",
          "model_module_version": "1.5.0",
          "state": {
            "_dom_classes": [],
            "_model_module": "@jupyter-widgets/controls",
            "_model_module_version": "1.5.0",
            "_model_name": "HTMLModel",
            "_view_count": null,
            "_view_module": "@jupyter-widgets/controls",
            "_view_module_version": "1.5.0",
            "_view_name": "HTMLView",
            "description": "",
            "description_tooltip": null,
            "layout": "IPY_MODEL_5686a5c193764f93b01c356f57be3176",
            "placeholder": "​",
            "style": "IPY_MODEL_59f4782c16e940dea768e7d2d4f78b93",
            "value": "Downloading builder script: 100%"
          }
        },
        "f4873e542eae4f039ec228a5a1d02503": {
          "model_module": "@jupyter-widgets/controls",
          "model_name": "FloatProgressModel",
          "model_module_version": "1.5.0",
          "state": {
            "_dom_classes": [],
            "_model_module": "@jupyter-widgets/controls",
            "_model_module_version": "1.5.0",
            "_model_name": "FloatProgressModel",
            "_view_count": null,
            "_view_module": "@jupyter-widgets/controls",
            "_view_module_version": "1.5.0",
            "_view_name": "ProgressView",
            "bar_style": "success",
            "description": "",
            "description_tooltip": null,
            "layout": "IPY_MODEL_830938f8b7d4406f8b85177d3c3e8a16",
            "max": 5599,
            "min": 0,
            "orientation": "horizontal",
            "style": "IPY_MODEL_1d5f77facfaa4848a5461310f0e30361",
            "value": 5599
          }
        },
        "cdd9f926131b433297fa42c0f0c59c12": {
          "model_module": "@jupyter-widgets/controls",
          "model_name": "HTMLModel",
          "model_module_version": "1.5.0",
          "state": {
            "_dom_classes": [],
            "_model_module": "@jupyter-widgets/controls",
            "_model_module_version": "1.5.0",
            "_model_name": "HTMLModel",
            "_view_count": null,
            "_view_module": "@jupyter-widgets/controls",
            "_view_module_version": "1.5.0",
            "_view_name": "HTMLView",
            "description": "",
            "description_tooltip": null,
            "layout": "IPY_MODEL_2a543edf392249fa8fdc28672b3a82dc",
            "placeholder": "​",
            "style": "IPY_MODEL_1d9f44a156b94d639bb8541da3413b58",
            "value": " 5.60k/5.60k [00:00&lt;00:00, 118kB/s]"
          }
        },
        "a05dd0394c614cb7be959182b83245f5": {
          "model_module": "@jupyter-widgets/base",
          "model_name": "LayoutModel",
          "model_module_version": "1.2.0",
          "state": {
            "_model_module": "@jupyter-widgets/base",
            "_model_module_version": "1.2.0",
            "_model_name": "LayoutModel",
            "_view_count": null,
            "_view_module": "@jupyter-widgets/base",
            "_view_module_version": "1.2.0",
            "_view_name": "LayoutView",
            "align_content": null,
            "align_items": null,
            "align_self": null,
            "border": null,
            "bottom": null,
            "display": null,
            "flex": null,
            "flex_flow": null,
            "grid_area": null,
            "grid_auto_columns": null,
            "grid_auto_flow": null,
            "grid_auto_rows": null,
            "grid_column": null,
            "grid_gap": null,
            "grid_row": null,
            "grid_template_areas": null,
            "grid_template_columns": null,
            "grid_template_rows": null,
            "height": null,
            "justify_content": null,
            "justify_items": null,
            "left": null,
            "margin": null,
            "max_height": null,
            "max_width": null,
            "min_height": null,
            "min_width": null,
            "object_fit": null,
            "object_position": null,
            "order": null,
            "overflow": null,
            "overflow_x": null,
            "overflow_y": null,
            "padding": null,
            "right": null,
            "top": null,
            "visibility": null,
            "width": null
          }
        },
        "5686a5c193764f93b01c356f57be3176": {
          "model_module": "@jupyter-widgets/base",
          "model_name": "LayoutModel",
          "model_module_version": "1.2.0",
          "state": {
            "_model_module": "@jupyter-widgets/base",
            "_model_module_version": "1.2.0",
            "_model_name": "LayoutModel",
            "_view_count": null,
            "_view_module": "@jupyter-widgets/base",
            "_view_module_version": "1.2.0",
            "_view_name": "LayoutView",
            "align_content": null,
            "align_items": null,
            "align_self": null,
            "border": null,
            "bottom": null,
            "display": null,
            "flex": null,
            "flex_flow": null,
            "grid_area": null,
            "grid_auto_columns": null,
            "grid_auto_flow": null,
            "grid_auto_rows": null,
            "grid_column": null,
            "grid_gap": null,
            "grid_row": null,
            "grid_template_areas": null,
            "grid_template_columns": null,
            "grid_template_rows": null,
            "height": null,
            "justify_content": null,
            "justify_items": null,
            "left": null,
            "margin": null,
            "max_height": null,
            "max_width": null,
            "min_height": null,
            "min_width": null,
            "object_fit": null,
            "object_position": null,
            "order": null,
            "overflow": null,
            "overflow_x": null,
            "overflow_y": null,
            "padding": null,
            "right": null,
            "top": null,
            "visibility": null,
            "width": null
          }
        },
        "59f4782c16e940dea768e7d2d4f78b93": {
          "model_module": "@jupyter-widgets/controls",
          "model_name": "DescriptionStyleModel",
          "model_module_version": "1.5.0",
          "state": {
            "_model_module": "@jupyter-widgets/controls",
            "_model_module_version": "1.5.0",
            "_model_name": "DescriptionStyleModel",
            "_view_count": null,
            "_view_module": "@jupyter-widgets/base",
            "_view_module_version": "1.2.0",
            "_view_name": "StyleView",
            "description_width": ""
          }
        },
        "830938f8b7d4406f8b85177d3c3e8a16": {
          "model_module": "@jupyter-widgets/base",
          "model_name": "LayoutModel",
          "model_module_version": "1.2.0",
          "state": {
            "_model_module": "@jupyter-widgets/base",
            "_model_module_version": "1.2.0",
            "_model_name": "LayoutModel",
            "_view_count": null,
            "_view_module": "@jupyter-widgets/base",
            "_view_module_version": "1.2.0",
            "_view_name": "LayoutView",
            "align_content": null,
            "align_items": null,
            "align_self": null,
            "border": null,
            "bottom": null,
            "display": null,
            "flex": null,
            "flex_flow": null,
            "grid_area": null,
            "grid_auto_columns": null,
            "grid_auto_flow": null,
            "grid_auto_rows": null,
            "grid_column": null,
            "grid_gap": null,
            "grid_row": null,
            "grid_template_areas": null,
            "grid_template_columns": null,
            "grid_template_rows": null,
            "height": null,
            "justify_content": null,
            "justify_items": null,
            "left": null,
            "margin": null,
            "max_height": null,
            "max_width": null,
            "min_height": null,
            "min_width": null,
            "object_fit": null,
            "object_position": null,
            "order": null,
            "overflow": null,
            "overflow_x": null,
            "overflow_y": null,
            "padding": null,
            "right": null,
            "top": null,
            "visibility": null,
            "width": null
          }
        },
        "1d5f77facfaa4848a5461310f0e30361": {
          "model_module": "@jupyter-widgets/controls",
          "model_name": "ProgressStyleModel",
          "model_module_version": "1.5.0",
          "state": {
            "_model_module": "@jupyter-widgets/controls",
            "_model_module_version": "1.5.0",
            "_model_name": "ProgressStyleModel",
            "_view_count": null,
            "_view_module": "@jupyter-widgets/base",
            "_view_module_version": "1.2.0",
            "_view_name": "StyleView",
            "bar_color": null,
            "description_width": ""
          }
        },
        "2a543edf392249fa8fdc28672b3a82dc": {
          "model_module": "@jupyter-widgets/base",
          "model_name": "LayoutModel",
          "model_module_version": "1.2.0",
          "state": {
            "_model_module": "@jupyter-widgets/base",
            "_model_module_version": "1.2.0",
            "_model_name": "LayoutModel",
            "_view_count": null,
            "_view_module": "@jupyter-widgets/base",
            "_view_module_version": "1.2.0",
            "_view_name": "LayoutView",
            "align_content": null,
            "align_items": null,
            "align_self": null,
            "border": null,
            "bottom": null,
            "display": null,
            "flex": null,
            "flex_flow": null,
            "grid_area": null,
            "grid_auto_columns": null,
            "grid_auto_flow": null,
            "grid_auto_rows": null,
            "grid_column": null,
            "grid_gap": null,
            "grid_row": null,
            "grid_template_areas": null,
            "grid_template_columns": null,
            "grid_template_rows": null,
            "height": null,
            "justify_content": null,
            "justify_items": null,
            "left": null,
            "margin": null,
            "max_height": null,
            "max_width": null,
            "min_height": null,
            "min_width": null,
            "object_fit": null,
            "object_position": null,
            "order": null,
            "overflow": null,
            "overflow_x": null,
            "overflow_y": null,
            "padding": null,
            "right": null,
            "top": null,
            "visibility": null,
            "width": null
          }
        },
        "1d9f44a156b94d639bb8541da3413b58": {
          "model_module": "@jupyter-widgets/controls",
          "model_name": "DescriptionStyleModel",
          "model_module_version": "1.5.0",
          "state": {
            "_model_module": "@jupyter-widgets/controls",
            "_model_module_version": "1.5.0",
            "_model_name": "DescriptionStyleModel",
            "_view_count": null,
            "_view_module": "@jupyter-widgets/base",
            "_view_module_version": "1.2.0",
            "_view_name": "StyleView",
            "description_width": ""
          }
        },
        "e3338083d87e49f5b86d4c7146935c27": {
          "model_module": "@jupyter-widgets/controls",
          "model_name": "HBoxModel",
          "model_module_version": "1.5.0",
          "state": {
            "_dom_classes": [],
            "_model_module": "@jupyter-widgets/controls",
            "_model_module_version": "1.5.0",
            "_model_name": "HBoxModel",
            "_view_count": null,
            "_view_module": "@jupyter-widgets/controls",
            "_view_module_version": "1.5.0",
            "_view_name": "HBoxView",
            "box_style": "",
            "children": [
              "IPY_MODEL_17b6b442579a4ec9bf48b637fe1f40be",
              "IPY_MODEL_c9cef36a1e494f98b0b97ab23d9e52db",
              "IPY_MODEL_11be62a47be4453e803d5fe30251e165"
            ],
            "layout": "IPY_MODEL_dc06ea7e81b14757b40f870b1e693ee9"
          }
        },
        "17b6b442579a4ec9bf48b637fe1f40be": {
          "model_module": "@jupyter-widgets/controls",
          "model_name": "HTMLModel",
          "model_module_version": "1.5.0",
          "state": {
            "_dom_classes": [],
            "_model_module": "@jupyter-widgets/controls",
            "_model_module_version": "1.5.0",
            "_model_name": "HTMLModel",
            "_view_count": null,
            "_view_module": "@jupyter-widgets/controls",
            "_view_module_version": "1.5.0",
            "_view_name": "HTMLView",
            "description": "",
            "description_tooltip": null,
            "layout": "IPY_MODEL_2f87da99cb7848cf82f6fc264bcde965",
            "placeholder": "​",
            "style": "IPY_MODEL_46ee66bdc84343109752b68764381a50",
            "value": "Downloading builder script: 100%"
          }
        },
        "c9cef36a1e494f98b0b97ab23d9e52db": {
          "model_module": "@jupyter-widgets/controls",
          "model_name": "FloatProgressModel",
          "model_module_version": "1.5.0",
          "state": {
            "_dom_classes": [],
            "_model_module": "@jupyter-widgets/controls",
            "_model_module_version": "1.5.0",
            "_model_name": "FloatProgressModel",
            "_view_count": null,
            "_view_module": "@jupyter-widgets/controls",
            "_view_module_version": "1.5.0",
            "_view_name": "ProgressView",
            "bar_style": "success",
            "description": "",
            "description_tooltip": null,
            "layout": "IPY_MODEL_6e61ba8be91f4c7da9089a384de16de5",
            "max": 4485,
            "min": 0,
            "orientation": "horizontal",
            "style": "IPY_MODEL_010417f4fa944af380c0bfa5e128b45f",
            "value": 4485
          }
        },
        "11be62a47be4453e803d5fe30251e165": {
          "model_module": "@jupyter-widgets/controls",
          "model_name": "HTMLModel",
          "model_module_version": "1.5.0",
          "state": {
            "_dom_classes": [],
            "_model_module": "@jupyter-widgets/controls",
            "_model_module_version": "1.5.0",
            "_model_name": "HTMLModel",
            "_view_count": null,
            "_view_module": "@jupyter-widgets/controls",
            "_view_module_version": "1.5.0",
            "_view_name": "HTMLView",
            "description": "",
            "description_tooltip": null,
            "layout": "IPY_MODEL_5a5b04ec6c2d486da04affad7b443689",
            "placeholder": "​",
            "style": "IPY_MODEL_771b3c2c303445a28a5f8ebe962ff0c5",
            "value": " 4.49k/4.49k [00:00&lt;00:00, 198kB/s]"
          }
        },
        "dc06ea7e81b14757b40f870b1e693ee9": {
          "model_module": "@jupyter-widgets/base",
          "model_name": "LayoutModel",
          "model_module_version": "1.2.0",
          "state": {
            "_model_module": "@jupyter-widgets/base",
            "_model_module_version": "1.2.0",
            "_model_name": "LayoutModel",
            "_view_count": null,
            "_view_module": "@jupyter-widgets/base",
            "_view_module_version": "1.2.0",
            "_view_name": "LayoutView",
            "align_content": null,
            "align_items": null,
            "align_self": null,
            "border": null,
            "bottom": null,
            "display": null,
            "flex": null,
            "flex_flow": null,
            "grid_area": null,
            "grid_auto_columns": null,
            "grid_auto_flow": null,
            "grid_auto_rows": null,
            "grid_column": null,
            "grid_gap": null,
            "grid_row": null,
            "grid_template_areas": null,
            "grid_template_columns": null,
            "grid_template_rows": null,
            "height": null,
            "justify_content": null,
            "justify_items": null,
            "left": null,
            "margin": null,
            "max_height": null,
            "max_width": null,
            "min_height": null,
            "min_width": null,
            "object_fit": null,
            "object_position": null,
            "order": null,
            "overflow": null,
            "overflow_x": null,
            "overflow_y": null,
            "padding": null,
            "right": null,
            "top": null,
            "visibility": null,
            "width": null
          }
        },
        "2f87da99cb7848cf82f6fc264bcde965": {
          "model_module": "@jupyter-widgets/base",
          "model_name": "LayoutModel",
          "model_module_version": "1.2.0",
          "state": {
            "_model_module": "@jupyter-widgets/base",
            "_model_module_version": "1.2.0",
            "_model_name": "LayoutModel",
            "_view_count": null,
            "_view_module": "@jupyter-widgets/base",
            "_view_module_version": "1.2.0",
            "_view_name": "LayoutView",
            "align_content": null,
            "align_items": null,
            "align_self": null,
            "border": null,
            "bottom": null,
            "display": null,
            "flex": null,
            "flex_flow": null,
            "grid_area": null,
            "grid_auto_columns": null,
            "grid_auto_flow": null,
            "grid_auto_rows": null,
            "grid_column": null,
            "grid_gap": null,
            "grid_row": null,
            "grid_template_areas": null,
            "grid_template_columns": null,
            "grid_template_rows": null,
            "height": null,
            "justify_content": null,
            "justify_items": null,
            "left": null,
            "margin": null,
            "max_height": null,
            "max_width": null,
            "min_height": null,
            "min_width": null,
            "object_fit": null,
            "object_position": null,
            "order": null,
            "overflow": null,
            "overflow_x": null,
            "overflow_y": null,
            "padding": null,
            "right": null,
            "top": null,
            "visibility": null,
            "width": null
          }
        },
        "46ee66bdc84343109752b68764381a50": {
          "model_module": "@jupyter-widgets/controls",
          "model_name": "DescriptionStyleModel",
          "model_module_version": "1.5.0",
          "state": {
            "_model_module": "@jupyter-widgets/controls",
            "_model_module_version": "1.5.0",
            "_model_name": "DescriptionStyleModel",
            "_view_count": null,
            "_view_module": "@jupyter-widgets/base",
            "_view_module_version": "1.2.0",
            "_view_name": "StyleView",
            "description_width": ""
          }
        },
        "6e61ba8be91f4c7da9089a384de16de5": {
          "model_module": "@jupyter-widgets/base",
          "model_name": "LayoutModel",
          "model_module_version": "1.2.0",
          "state": {
            "_model_module": "@jupyter-widgets/base",
            "_model_module_version": "1.2.0",
            "_model_name": "LayoutModel",
            "_view_count": null,
            "_view_module": "@jupyter-widgets/base",
            "_view_module_version": "1.2.0",
            "_view_name": "LayoutView",
            "align_content": null,
            "align_items": null,
            "align_self": null,
            "border": null,
            "bottom": null,
            "display": null,
            "flex": null,
            "flex_flow": null,
            "grid_area": null,
            "grid_auto_columns": null,
            "grid_auto_flow": null,
            "grid_auto_rows": null,
            "grid_column": null,
            "grid_gap": null,
            "grid_row": null,
            "grid_template_areas": null,
            "grid_template_columns": null,
            "grid_template_rows": null,
            "height": null,
            "justify_content": null,
            "justify_items": null,
            "left": null,
            "margin": null,
            "max_height": null,
            "max_width": null,
            "min_height": null,
            "min_width": null,
            "object_fit": null,
            "object_position": null,
            "order": null,
            "overflow": null,
            "overflow_x": null,
            "overflow_y": null,
            "padding": null,
            "right": null,
            "top": null,
            "visibility": null,
            "width": null
          }
        },
        "010417f4fa944af380c0bfa5e128b45f": {
          "model_module": "@jupyter-widgets/controls",
          "model_name": "ProgressStyleModel",
          "model_module_version": "1.5.0",
          "state": {
            "_model_module": "@jupyter-widgets/controls",
            "_model_module_version": "1.5.0",
            "_model_name": "ProgressStyleModel",
            "_view_count": null,
            "_view_module": "@jupyter-widgets/base",
            "_view_module_version": "1.2.0",
            "_view_name": "StyleView",
            "bar_color": null,
            "description_width": ""
          }
        },
        "5a5b04ec6c2d486da04affad7b443689": {
          "model_module": "@jupyter-widgets/base",
          "model_name": "LayoutModel",
          "model_module_version": "1.2.0",
          "state": {
            "_model_module": "@jupyter-widgets/base",
            "_model_module_version": "1.2.0",
            "_model_name": "LayoutModel",
            "_view_count": null,
            "_view_module": "@jupyter-widgets/base",
            "_view_module_version": "1.2.0",
            "_view_name": "LayoutView",
            "align_content": null,
            "align_items": null,
            "align_self": null,
            "border": null,
            "bottom": null,
            "display": null,
            "flex": null,
            "flex_flow": null,
            "grid_area": null,
            "grid_auto_columns": null,
            "grid_auto_flow": null,
            "grid_auto_rows": null,
            "grid_column": null,
            "grid_gap": null,
            "grid_row": null,
            "grid_template_areas": null,
            "grid_template_columns": null,
            "grid_template_rows": null,
            "height": null,
            "justify_content": null,
            "justify_items": null,
            "left": null,
            "margin": null,
            "max_height": null,
            "max_width": null,
            "min_height": null,
            "min_width": null,
            "object_fit": null,
            "object_position": null,
            "order": null,
            "overflow": null,
            "overflow_x": null,
            "overflow_y": null,
            "padding": null,
            "right": null,
            "top": null,
            "visibility": null,
            "width": null
          }
        },
        "771b3c2c303445a28a5f8ebe962ff0c5": {
          "model_module": "@jupyter-widgets/controls",
          "model_name": "DescriptionStyleModel",
          "model_module_version": "1.5.0",
          "state": {
            "_model_module": "@jupyter-widgets/controls",
            "_model_module_version": "1.5.0",
            "_model_name": "DescriptionStyleModel",
            "_view_count": null,
            "_view_module": "@jupyter-widgets/base",
            "_view_module_version": "1.2.0",
            "_view_name": "StyleView",
            "description_width": ""
          }
        },
        "b19d62fc041e4e2782c2d046898faf3b": {
          "model_module": "@jupyter-widgets/controls",
          "model_name": "HBoxModel",
          "model_module_version": "1.5.0",
          "state": {
            "_dom_classes": [],
            "_model_module": "@jupyter-widgets/controls",
            "_model_module_version": "1.5.0",
            "_model_name": "HBoxModel",
            "_view_count": null,
            "_view_module": "@jupyter-widgets/controls",
            "_view_module_version": "1.5.0",
            "_view_name": "HBoxView",
            "box_style": "",
            "children": [
              "IPY_MODEL_d20a35a8815a454ea42853025fac2d3f",
              "IPY_MODEL_36a454ea836e48308144576bc2f4da67",
              "IPY_MODEL_16e023266d1e442f8bf4be7f78462815"
            ],
            "layout": "IPY_MODEL_5acf31ac237e48b59f3412900db5fff6"
          }
        },
        "d20a35a8815a454ea42853025fac2d3f": {
          "model_module": "@jupyter-widgets/controls",
          "model_name": "HTMLModel",
          "model_module_version": "1.5.0",
          "state": {
            "_dom_classes": [],
            "_model_module": "@jupyter-widgets/controls",
            "_model_module_version": "1.5.0",
            "_model_name": "HTMLModel",
            "_view_count": null,
            "_view_module": "@jupyter-widgets/controls",
            "_view_module_version": "1.5.0",
            "_view_name": "HTMLView",
            "description": "",
            "description_tooltip": null,
            "layout": "IPY_MODEL_e7f2a46d95d148ce9f610fd399fbc5f3",
            "placeholder": "​",
            "style": "IPY_MODEL_a545de9c3271475ebac4501a93b13fff",
            "value": "Downloading builder script: 100%"
          }
        },
        "36a454ea836e48308144576bc2f4da67": {
          "model_module": "@jupyter-widgets/controls",
          "model_name": "FloatProgressModel",
          "model_module_version": "1.5.0",
          "state": {
            "_dom_classes": [],
            "_model_module": "@jupyter-widgets/controls",
            "_model_module_version": "1.5.0",
            "_model_name": "FloatProgressModel",
            "_view_count": null,
            "_view_module": "@jupyter-widgets/controls",
            "_view_module_version": "1.5.0",
            "_view_name": "ProgressView",
            "bar_style": "success",
            "description": "",
            "description_tooltip": null,
            "layout": "IPY_MODEL_da832a48e11243bb80804cda166c56bb",
            "max": 6927,
            "min": 0,
            "orientation": "horizontal",
            "style": "IPY_MODEL_3dca73bc2ea843bb81a2bcc67d05c401",
            "value": 6927
          }
        },
        "16e023266d1e442f8bf4be7f78462815": {
          "model_module": "@jupyter-widgets/controls",
          "model_name": "HTMLModel",
          "model_module_version": "1.5.0",
          "state": {
            "_dom_classes": [],
            "_model_module": "@jupyter-widgets/controls",
            "_model_module_version": "1.5.0",
            "_model_name": "HTMLModel",
            "_view_count": null,
            "_view_module": "@jupyter-widgets/controls",
            "_view_module_version": "1.5.0",
            "_view_name": "HTMLView",
            "description": "",
            "description_tooltip": null,
            "layout": "IPY_MODEL_16f061830ac54a4aa6f9b6c06e747ae6",
            "placeholder": "​",
            "style": "IPY_MODEL_57d62c7f36304d2fa3da562a3302f659",
            "value": " 6.93k/6.93k [00:00&lt;00:00, 167kB/s]"
          }
        },
        "5acf31ac237e48b59f3412900db5fff6": {
          "model_module": "@jupyter-widgets/base",
          "model_name": "LayoutModel",
          "model_module_version": "1.2.0",
          "state": {
            "_model_module": "@jupyter-widgets/base",
            "_model_module_version": "1.2.0",
            "_model_name": "LayoutModel",
            "_view_count": null,
            "_view_module": "@jupyter-widgets/base",
            "_view_module_version": "1.2.0",
            "_view_name": "LayoutView",
            "align_content": null,
            "align_items": null,
            "align_self": null,
            "border": null,
            "bottom": null,
            "display": null,
            "flex": null,
            "flex_flow": null,
            "grid_area": null,
            "grid_auto_columns": null,
            "grid_auto_flow": null,
            "grid_auto_rows": null,
            "grid_column": null,
            "grid_gap": null,
            "grid_row": null,
            "grid_template_areas": null,
            "grid_template_columns": null,
            "grid_template_rows": null,
            "height": null,
            "justify_content": null,
            "justify_items": null,
            "left": null,
            "margin": null,
            "max_height": null,
            "max_width": null,
            "min_height": null,
            "min_width": null,
            "object_fit": null,
            "object_position": null,
            "order": null,
            "overflow": null,
            "overflow_x": null,
            "overflow_y": null,
            "padding": null,
            "right": null,
            "top": null,
            "visibility": null,
            "width": null
          }
        },
        "e7f2a46d95d148ce9f610fd399fbc5f3": {
          "model_module": "@jupyter-widgets/base",
          "model_name": "LayoutModel",
          "model_module_version": "1.2.0",
          "state": {
            "_model_module": "@jupyter-widgets/base",
            "_model_module_version": "1.2.0",
            "_model_name": "LayoutModel",
            "_view_count": null,
            "_view_module": "@jupyter-widgets/base",
            "_view_module_version": "1.2.0",
            "_view_name": "LayoutView",
            "align_content": null,
            "align_items": null,
            "align_self": null,
            "border": null,
            "bottom": null,
            "display": null,
            "flex": null,
            "flex_flow": null,
            "grid_area": null,
            "grid_auto_columns": null,
            "grid_auto_flow": null,
            "grid_auto_rows": null,
            "grid_column": null,
            "grid_gap": null,
            "grid_row": null,
            "grid_template_areas": null,
            "grid_template_columns": null,
            "grid_template_rows": null,
            "height": null,
            "justify_content": null,
            "justify_items": null,
            "left": null,
            "margin": null,
            "max_height": null,
            "max_width": null,
            "min_height": null,
            "min_width": null,
            "object_fit": null,
            "object_position": null,
            "order": null,
            "overflow": null,
            "overflow_x": null,
            "overflow_y": null,
            "padding": null,
            "right": null,
            "top": null,
            "visibility": null,
            "width": null
          }
        },
        "a545de9c3271475ebac4501a93b13fff": {
          "model_module": "@jupyter-widgets/controls",
          "model_name": "DescriptionStyleModel",
          "model_module_version": "1.5.0",
          "state": {
            "_model_module": "@jupyter-widgets/controls",
            "_model_module_version": "1.5.0",
            "_model_name": "DescriptionStyleModel",
            "_view_count": null,
            "_view_module": "@jupyter-widgets/base",
            "_view_module_version": "1.2.0",
            "_view_name": "StyleView",
            "description_width": ""
          }
        },
        "da832a48e11243bb80804cda166c56bb": {
          "model_module": "@jupyter-widgets/base",
          "model_name": "LayoutModel",
          "model_module_version": "1.2.0",
          "state": {
            "_model_module": "@jupyter-widgets/base",
            "_model_module_version": "1.2.0",
            "_model_name": "LayoutModel",
            "_view_count": null,
            "_view_module": "@jupyter-widgets/base",
            "_view_module_version": "1.2.0",
            "_view_name": "LayoutView",
            "align_content": null,
            "align_items": null,
            "align_self": null,
            "border": null,
            "bottom": null,
            "display": null,
            "flex": null,
            "flex_flow": null,
            "grid_area": null,
            "grid_auto_columns": null,
            "grid_auto_flow": null,
            "grid_auto_rows": null,
            "grid_column": null,
            "grid_gap": null,
            "grid_row": null,
            "grid_template_areas": null,
            "grid_template_columns": null,
            "grid_template_rows": null,
            "height": null,
            "justify_content": null,
            "justify_items": null,
            "left": null,
            "margin": null,
            "max_height": null,
            "max_width": null,
            "min_height": null,
            "min_width": null,
            "object_fit": null,
            "object_position": null,
            "order": null,
            "overflow": null,
            "overflow_x": null,
            "overflow_y": null,
            "padding": null,
            "right": null,
            "top": null,
            "visibility": null,
            "width": null
          }
        },
        "3dca73bc2ea843bb81a2bcc67d05c401": {
          "model_module": "@jupyter-widgets/controls",
          "model_name": "ProgressStyleModel",
          "model_module_version": "1.5.0",
          "state": {
            "_model_module": "@jupyter-widgets/controls",
            "_model_module_version": "1.5.0",
            "_model_name": "ProgressStyleModel",
            "_view_count": null,
            "_view_module": "@jupyter-widgets/base",
            "_view_module_version": "1.2.0",
            "_view_name": "StyleView",
            "bar_color": null,
            "description_width": ""
          }
        },
        "16f061830ac54a4aa6f9b6c06e747ae6": {
          "model_module": "@jupyter-widgets/base",
          "model_name": "LayoutModel",
          "model_module_version": "1.2.0",
          "state": {
            "_model_module": "@jupyter-widgets/base",
            "_model_module_version": "1.2.0",
            "_model_name": "LayoutModel",
            "_view_count": null,
            "_view_module": "@jupyter-widgets/base",
            "_view_module_version": "1.2.0",
            "_view_name": "LayoutView",
            "align_content": null,
            "align_items": null,
            "align_self": null,
            "border": null,
            "bottom": null,
            "display": null,
            "flex": null,
            "flex_flow": null,
            "grid_area": null,
            "grid_auto_columns": null,
            "grid_auto_flow": null,
            "grid_auto_rows": null,
            "grid_column": null,
            "grid_gap": null,
            "grid_row": null,
            "grid_template_areas": null,
            "grid_template_columns": null,
            "grid_template_rows": null,
            "height": null,
            "justify_content": null,
            "justify_items": null,
            "left": null,
            "margin": null,
            "max_height": null,
            "max_width": null,
            "min_height": null,
            "min_width": null,
            "object_fit": null,
            "object_position": null,
            "order": null,
            "overflow": null,
            "overflow_x": null,
            "overflow_y": null,
            "padding": null,
            "right": null,
            "top": null,
            "visibility": null,
            "width": null
          }
        },
        "57d62c7f36304d2fa3da562a3302f659": {
          "model_module": "@jupyter-widgets/controls",
          "model_name": "DescriptionStyleModel",
          "model_module_version": "1.5.0",
          "state": {
            "_model_module": "@jupyter-widgets/controls",
            "_model_module_version": "1.5.0",
            "_model_name": "DescriptionStyleModel",
            "_view_count": null,
            "_view_module": "@jupyter-widgets/base",
            "_view_module_version": "1.2.0",
            "_view_name": "StyleView",
            "description_width": ""
          }
        },
        "c9e2ce1ae2d34c78a5476973ae5c6659": {
          "model_module": "@jupyter-widgets/controls",
          "model_name": "HBoxModel",
          "model_module_version": "1.5.0",
          "state": {
            "_dom_classes": [],
            "_model_module": "@jupyter-widgets/controls",
            "_model_module_version": "1.5.0",
            "_model_name": "HBoxModel",
            "_view_count": null,
            "_view_module": "@jupyter-widgets/controls",
            "_view_module_version": "1.5.0",
            "_view_name": "HBoxView",
            "box_style": "",
            "children": [
              "IPY_MODEL_cbf56e5b2be44d8dae78bc91833616c0",
              "IPY_MODEL_5f2787f847e547769238f528e46c097c",
              "IPY_MODEL_dcbdaf30d98d41998f5e6b1eded24a63"
            ],
            "layout": "IPY_MODEL_80f0299a3c484ba8859d551673eb8007"
          }
        },
        "cbf56e5b2be44d8dae78bc91833616c0": {
          "model_module": "@jupyter-widgets/controls",
          "model_name": "HTMLModel",
          "model_module_version": "1.5.0",
          "state": {
            "_dom_classes": [],
            "_model_module": "@jupyter-widgets/controls",
            "_model_module_version": "1.5.0",
            "_model_name": "HTMLModel",
            "_view_count": null,
            "_view_module": "@jupyter-widgets/controls",
            "_view_module_version": "1.5.0",
            "_view_name": "HTMLView",
            "description": "",
            "description_tooltip": null,
            "layout": "IPY_MODEL_3d251504ce4f4c17b924ddaff28b282b",
            "placeholder": "​",
            "style": "IPY_MODEL_a44178bf77f6458e9b799d7ab0fb619e",
            "value": "Downloading builder script: 100%"
          }
        },
        "5f2787f847e547769238f528e46c097c": {
          "model_module": "@jupyter-widgets/controls",
          "model_name": "FloatProgressModel",
          "model_module_version": "1.5.0",
          "state": {
            "_dom_classes": [],
            "_model_module": "@jupyter-widgets/controls",
            "_model_module_version": "1.5.0",
            "_model_name": "FloatProgressModel",
            "_view_count": null,
            "_view_module": "@jupyter-widgets/controls",
            "_view_module_version": "1.5.0",
            "_view_name": "ProgressView",
            "bar_style": "success",
            "description": "",
            "description_tooltip": null,
            "layout": "IPY_MODEL_1ab05bacda374ba5855be5b1f1231538",
            "max": 5669,
            "min": 0,
            "orientation": "horizontal",
            "style": "IPY_MODEL_941deda6e6ac47d0a348da34279dffc9",
            "value": 5669
          }
        },
        "dcbdaf30d98d41998f5e6b1eded24a63": {
          "model_module": "@jupyter-widgets/controls",
          "model_name": "HTMLModel",
          "model_module_version": "1.5.0",
          "state": {
            "_dom_classes": [],
            "_model_module": "@jupyter-widgets/controls",
            "_model_module_version": "1.5.0",
            "_model_name": "HTMLModel",
            "_view_count": null,
            "_view_module": "@jupyter-widgets/controls",
            "_view_module_version": "1.5.0",
            "_view_name": "HTMLView",
            "description": "",
            "description_tooltip": null,
            "layout": "IPY_MODEL_73f0cf33af594293b5ed8bcb7148dc22",
            "placeholder": "​",
            "style": "IPY_MODEL_d22c35e20c9a467a807a2b3d334d8a2b",
            "value": " 5.67k/5.67k [00:00&lt;00:00, 79.3kB/s]"
          }
        },
        "80f0299a3c484ba8859d551673eb8007": {
          "model_module": "@jupyter-widgets/base",
          "model_name": "LayoutModel",
          "model_module_version": "1.2.0",
          "state": {
            "_model_module": "@jupyter-widgets/base",
            "_model_module_version": "1.2.0",
            "_model_name": "LayoutModel",
            "_view_count": null,
            "_view_module": "@jupyter-widgets/base",
            "_view_module_version": "1.2.0",
            "_view_name": "LayoutView",
            "align_content": null,
            "align_items": null,
            "align_self": null,
            "border": null,
            "bottom": null,
            "display": null,
            "flex": null,
            "flex_flow": null,
            "grid_area": null,
            "grid_auto_columns": null,
            "grid_auto_flow": null,
            "grid_auto_rows": null,
            "grid_column": null,
            "grid_gap": null,
            "grid_row": null,
            "grid_template_areas": null,
            "grid_template_columns": null,
            "grid_template_rows": null,
            "height": null,
            "justify_content": null,
            "justify_items": null,
            "left": null,
            "margin": null,
            "max_height": null,
            "max_width": null,
            "min_height": null,
            "min_width": null,
            "object_fit": null,
            "object_position": null,
            "order": null,
            "overflow": null,
            "overflow_x": null,
            "overflow_y": null,
            "padding": null,
            "right": null,
            "top": null,
            "visibility": null,
            "width": null
          }
        },
        "3d251504ce4f4c17b924ddaff28b282b": {
          "model_module": "@jupyter-widgets/base",
          "model_name": "LayoutModel",
          "model_module_version": "1.2.0",
          "state": {
            "_model_module": "@jupyter-widgets/base",
            "_model_module_version": "1.2.0",
            "_model_name": "LayoutModel",
            "_view_count": null,
            "_view_module": "@jupyter-widgets/base",
            "_view_module_version": "1.2.0",
            "_view_name": "LayoutView",
            "align_content": null,
            "align_items": null,
            "align_self": null,
            "border": null,
            "bottom": null,
            "display": null,
            "flex": null,
            "flex_flow": null,
            "grid_area": null,
            "grid_auto_columns": null,
            "grid_auto_flow": null,
            "grid_auto_rows": null,
            "grid_column": null,
            "grid_gap": null,
            "grid_row": null,
            "grid_template_areas": null,
            "grid_template_columns": null,
            "grid_template_rows": null,
            "height": null,
            "justify_content": null,
            "justify_items": null,
            "left": null,
            "margin": null,
            "max_height": null,
            "max_width": null,
            "min_height": null,
            "min_width": null,
            "object_fit": null,
            "object_position": null,
            "order": null,
            "overflow": null,
            "overflow_x": null,
            "overflow_y": null,
            "padding": null,
            "right": null,
            "top": null,
            "visibility": null,
            "width": null
          }
        },
        "a44178bf77f6458e9b799d7ab0fb619e": {
          "model_module": "@jupyter-widgets/controls",
          "model_name": "DescriptionStyleModel",
          "model_module_version": "1.5.0",
          "state": {
            "_model_module": "@jupyter-widgets/controls",
            "_model_module_version": "1.5.0",
            "_model_name": "DescriptionStyleModel",
            "_view_count": null,
            "_view_module": "@jupyter-widgets/base",
            "_view_module_version": "1.2.0",
            "_view_name": "StyleView",
            "description_width": ""
          }
        },
        "1ab05bacda374ba5855be5b1f1231538": {
          "model_module": "@jupyter-widgets/base",
          "model_name": "LayoutModel",
          "model_module_version": "1.2.0",
          "state": {
            "_model_module": "@jupyter-widgets/base",
            "_model_module_version": "1.2.0",
            "_model_name": "LayoutModel",
            "_view_count": null,
            "_view_module": "@jupyter-widgets/base",
            "_view_module_version": "1.2.0",
            "_view_name": "LayoutView",
            "align_content": null,
            "align_items": null,
            "align_self": null,
            "border": null,
            "bottom": null,
            "display": null,
            "flex": null,
            "flex_flow": null,
            "grid_area": null,
            "grid_auto_columns": null,
            "grid_auto_flow": null,
            "grid_auto_rows": null,
            "grid_column": null,
            "grid_gap": null,
            "grid_row": null,
            "grid_template_areas": null,
            "grid_template_columns": null,
            "grid_template_rows": null,
            "height": null,
            "justify_content": null,
            "justify_items": null,
            "left": null,
            "margin": null,
            "max_height": null,
            "max_width": null,
            "min_height": null,
            "min_width": null,
            "object_fit": null,
            "object_position": null,
            "order": null,
            "overflow": null,
            "overflow_x": null,
            "overflow_y": null,
            "padding": null,
            "right": null,
            "top": null,
            "visibility": null,
            "width": null
          }
        },
        "941deda6e6ac47d0a348da34279dffc9": {
          "model_module": "@jupyter-widgets/controls",
          "model_name": "ProgressStyleModel",
          "model_module_version": "1.5.0",
          "state": {
            "_model_module": "@jupyter-widgets/controls",
            "_model_module_version": "1.5.0",
            "_model_name": "ProgressStyleModel",
            "_view_count": null,
            "_view_module": "@jupyter-widgets/base",
            "_view_module_version": "1.2.0",
            "_view_name": "StyleView",
            "bar_color": null,
            "description_width": ""
          }
        },
        "73f0cf33af594293b5ed8bcb7148dc22": {
          "model_module": "@jupyter-widgets/base",
          "model_name": "LayoutModel",
          "model_module_version": "1.2.0",
          "state": {
            "_model_module": "@jupyter-widgets/base",
            "_model_module_version": "1.2.0",
            "_model_name": "LayoutModel",
            "_view_count": null,
            "_view_module": "@jupyter-widgets/base",
            "_view_module_version": "1.2.0",
            "_view_name": "LayoutView",
            "align_content": null,
            "align_items": null,
            "align_self": null,
            "border": null,
            "bottom": null,
            "display": null,
            "flex": null,
            "flex_flow": null,
            "grid_area": null,
            "grid_auto_columns": null,
            "grid_auto_flow": null,
            "grid_auto_rows": null,
            "grid_column": null,
            "grid_gap": null,
            "grid_row": null,
            "grid_template_areas": null,
            "grid_template_columns": null,
            "grid_template_rows": null,
            "height": null,
            "justify_content": null,
            "justify_items": null,
            "left": null,
            "margin": null,
            "max_height": null,
            "max_width": null,
            "min_height": null,
            "min_width": null,
            "object_fit": null,
            "object_position": null,
            "order": null,
            "overflow": null,
            "overflow_x": null,
            "overflow_y": null,
            "padding": null,
            "right": null,
            "top": null,
            "visibility": null,
            "width": null
          }
        },
        "d22c35e20c9a467a807a2b3d334d8a2b": {
          "model_module": "@jupyter-widgets/controls",
          "model_name": "DescriptionStyleModel",
          "model_module_version": "1.5.0",
          "state": {
            "_model_module": "@jupyter-widgets/controls",
            "_model_module_version": "1.5.0",
            "_model_name": "DescriptionStyleModel",
            "_view_count": null,
            "_view_module": "@jupyter-widgets/base",
            "_view_module_version": "1.2.0",
            "_view_name": "StyleView",
            "description_width": ""
          }
        },
        "34e3c6ca763d489da4db832cf5cd00eb": {
          "model_module": "@jupyter-widgets/controls",
          "model_name": "HBoxModel",
          "model_module_version": "1.5.0",
          "state": {
            "_dom_classes": [],
            "_model_module": "@jupyter-widgets/controls",
            "_model_module_version": "1.5.0",
            "_model_name": "HBoxModel",
            "_view_count": null,
            "_view_module": "@jupyter-widgets/controls",
            "_view_module_version": "1.5.0",
            "_view_name": "HBoxView",
            "box_style": "",
            "children": [
              "IPY_MODEL_eee016b9a2194c1b95284ee74531e238",
              "IPY_MODEL_5a5ae799407b405d9ce99b7d67746217",
              "IPY_MODEL_16a007ec4a3b4aff815feaaeeebaa69b"
            ],
            "layout": "IPY_MODEL_f4e5f509c18043edb2ad3406017321fb"
          }
        },
        "eee016b9a2194c1b95284ee74531e238": {
          "model_module": "@jupyter-widgets/controls",
          "model_name": "HTMLModel",
          "model_module_version": "1.5.0",
          "state": {
            "_dom_classes": [],
            "_model_module": "@jupyter-widgets/controls",
            "_model_module_version": "1.5.0",
            "_model_name": "HTMLModel",
            "_view_count": null,
            "_view_module": "@jupyter-widgets/controls",
            "_view_module_version": "1.5.0",
            "_view_name": "HTMLView",
            "description": "",
            "description_tooltip": null,
            "layout": "IPY_MODEL_1b55d5a30f5a43689b14024a30c9bb47",
            "placeholder": "​",
            "style": "IPY_MODEL_9e346ea2944045cc9c01b3b3ec5fb473",
            "value": "Downloading builder script: 100%"
          }
        },
        "5a5ae799407b405d9ce99b7d67746217": {
          "model_module": "@jupyter-widgets/controls",
          "model_name": "FloatProgressModel",
          "model_module_version": "1.5.0",
          "state": {
            "_dom_classes": [],
            "_model_module": "@jupyter-widgets/controls",
            "_model_module_version": "1.5.0",
            "_model_name": "FloatProgressModel",
            "_view_count": null,
            "_view_module": "@jupyter-widgets/controls",
            "_view_module_version": "1.5.0",
            "_view_name": "ProgressView",
            "bar_style": "success",
            "description": "",
            "description_tooltip": null,
            "layout": "IPY_MODEL_c53ab92c50534efea57d3b79878a2072",
            "max": 5937,
            "min": 0,
            "orientation": "horizontal",
            "style": "IPY_MODEL_1481188971b94247b0779d4e53c3274e",
            "value": 5937
          }
        },
        "16a007ec4a3b4aff815feaaeeebaa69b": {
          "model_module": "@jupyter-widgets/controls",
          "model_name": "HTMLModel",
          "model_module_version": "1.5.0",
          "state": {
            "_dom_classes": [],
            "_model_module": "@jupyter-widgets/controls",
            "_model_module_version": "1.5.0",
            "_model_name": "HTMLModel",
            "_view_count": null,
            "_view_module": "@jupyter-widgets/controls",
            "_view_module_version": "1.5.0",
            "_view_name": "HTMLView",
            "description": "",
            "description_tooltip": null,
            "layout": "IPY_MODEL_010e91886f2f458d806d9fd4f3497796",
            "placeholder": "​",
            "style": "IPY_MODEL_12a8e975d9a9432395b94f7c3c4c13e2",
            "value": " 5.94k/5.94k [00:00&lt;00:00, 137kB/s]"
          }
        },
        "f4e5f509c18043edb2ad3406017321fb": {
          "model_module": "@jupyter-widgets/base",
          "model_name": "LayoutModel",
          "model_module_version": "1.2.0",
          "state": {
            "_model_module": "@jupyter-widgets/base",
            "_model_module_version": "1.2.0",
            "_model_name": "LayoutModel",
            "_view_count": null,
            "_view_module": "@jupyter-widgets/base",
            "_view_module_version": "1.2.0",
            "_view_name": "LayoutView",
            "align_content": null,
            "align_items": null,
            "align_self": null,
            "border": null,
            "bottom": null,
            "display": null,
            "flex": null,
            "flex_flow": null,
            "grid_area": null,
            "grid_auto_columns": null,
            "grid_auto_flow": null,
            "grid_auto_rows": null,
            "grid_column": null,
            "grid_gap": null,
            "grid_row": null,
            "grid_template_areas": null,
            "grid_template_columns": null,
            "grid_template_rows": null,
            "height": null,
            "justify_content": null,
            "justify_items": null,
            "left": null,
            "margin": null,
            "max_height": null,
            "max_width": null,
            "min_height": null,
            "min_width": null,
            "object_fit": null,
            "object_position": null,
            "order": null,
            "overflow": null,
            "overflow_x": null,
            "overflow_y": null,
            "padding": null,
            "right": null,
            "top": null,
            "visibility": null,
            "width": null
          }
        },
        "1b55d5a30f5a43689b14024a30c9bb47": {
          "model_module": "@jupyter-widgets/base",
          "model_name": "LayoutModel",
          "model_module_version": "1.2.0",
          "state": {
            "_model_module": "@jupyter-widgets/base",
            "_model_module_version": "1.2.0",
            "_model_name": "LayoutModel",
            "_view_count": null,
            "_view_module": "@jupyter-widgets/base",
            "_view_module_version": "1.2.0",
            "_view_name": "LayoutView",
            "align_content": null,
            "align_items": null,
            "align_self": null,
            "border": null,
            "bottom": null,
            "display": null,
            "flex": null,
            "flex_flow": null,
            "grid_area": null,
            "grid_auto_columns": null,
            "grid_auto_flow": null,
            "grid_auto_rows": null,
            "grid_column": null,
            "grid_gap": null,
            "grid_row": null,
            "grid_template_areas": null,
            "grid_template_columns": null,
            "grid_template_rows": null,
            "height": null,
            "justify_content": null,
            "justify_items": null,
            "left": null,
            "margin": null,
            "max_height": null,
            "max_width": null,
            "min_height": null,
            "min_width": null,
            "object_fit": null,
            "object_position": null,
            "order": null,
            "overflow": null,
            "overflow_x": null,
            "overflow_y": null,
            "padding": null,
            "right": null,
            "top": null,
            "visibility": null,
            "width": null
          }
        },
        "9e346ea2944045cc9c01b3b3ec5fb473": {
          "model_module": "@jupyter-widgets/controls",
          "model_name": "DescriptionStyleModel",
          "model_module_version": "1.5.0",
          "state": {
            "_model_module": "@jupyter-widgets/controls",
            "_model_module_version": "1.5.0",
            "_model_name": "DescriptionStyleModel",
            "_view_count": null,
            "_view_module": "@jupyter-widgets/base",
            "_view_module_version": "1.2.0",
            "_view_name": "StyleView",
            "description_width": ""
          }
        },
        "c53ab92c50534efea57d3b79878a2072": {
          "model_module": "@jupyter-widgets/base",
          "model_name": "LayoutModel",
          "model_module_version": "1.2.0",
          "state": {
            "_model_module": "@jupyter-widgets/base",
            "_model_module_version": "1.2.0",
            "_model_name": "LayoutModel",
            "_view_count": null,
            "_view_module": "@jupyter-widgets/base",
            "_view_module_version": "1.2.0",
            "_view_name": "LayoutView",
            "align_content": null,
            "align_items": null,
            "align_self": null,
            "border": null,
            "bottom": null,
            "display": null,
            "flex": null,
            "flex_flow": null,
            "grid_area": null,
            "grid_auto_columns": null,
            "grid_auto_flow": null,
            "grid_auto_rows": null,
            "grid_column": null,
            "grid_gap": null,
            "grid_row": null,
            "grid_template_areas": null,
            "grid_template_columns": null,
            "grid_template_rows": null,
            "height": null,
            "justify_content": null,
            "justify_items": null,
            "left": null,
            "margin": null,
            "max_height": null,
            "max_width": null,
            "min_height": null,
            "min_width": null,
            "object_fit": null,
            "object_position": null,
            "order": null,
            "overflow": null,
            "overflow_x": null,
            "overflow_y": null,
            "padding": null,
            "right": null,
            "top": null,
            "visibility": null,
            "width": null
          }
        },
        "1481188971b94247b0779d4e53c3274e": {
          "model_module": "@jupyter-widgets/controls",
          "model_name": "ProgressStyleModel",
          "model_module_version": "1.5.0",
          "state": {
            "_model_module": "@jupyter-widgets/controls",
            "_model_module_version": "1.5.0",
            "_model_name": "ProgressStyleModel",
            "_view_count": null,
            "_view_module": "@jupyter-widgets/base",
            "_view_module_version": "1.2.0",
            "_view_name": "StyleView",
            "bar_color": null,
            "description_width": ""
          }
        },
        "010e91886f2f458d806d9fd4f3497796": {
          "model_module": "@jupyter-widgets/base",
          "model_name": "LayoutModel",
          "model_module_version": "1.2.0",
          "state": {
            "_model_module": "@jupyter-widgets/base",
            "_model_module_version": "1.2.0",
            "_model_name": "LayoutModel",
            "_view_count": null,
            "_view_module": "@jupyter-widgets/base",
            "_view_module_version": "1.2.0",
            "_view_name": "LayoutView",
            "align_content": null,
            "align_items": null,
            "align_self": null,
            "border": null,
            "bottom": null,
            "display": null,
            "flex": null,
            "flex_flow": null,
            "grid_area": null,
            "grid_auto_columns": null,
            "grid_auto_flow": null,
            "grid_auto_rows": null,
            "grid_column": null,
            "grid_gap": null,
            "grid_row": null,
            "grid_template_areas": null,
            "grid_template_columns": null,
            "grid_template_rows": null,
            "height": null,
            "justify_content": null,
            "justify_items": null,
            "left": null,
            "margin": null,
            "max_height": null,
            "max_width": null,
            "min_height": null,
            "min_width": null,
            "object_fit": null,
            "object_position": null,
            "order": null,
            "overflow": null,
            "overflow_x": null,
            "overflow_y": null,
            "padding": null,
            "right": null,
            "top": null,
            "visibility": null,
            "width": null
          }
        },
        "12a8e975d9a9432395b94f7c3c4c13e2": {
          "model_module": "@jupyter-widgets/controls",
          "model_name": "DescriptionStyleModel",
          "model_module_version": "1.5.0",
          "state": {
            "_model_module": "@jupyter-widgets/controls",
            "_model_module_version": "1.5.0",
            "_model_name": "DescriptionStyleModel",
            "_view_count": null,
            "_view_module": "@jupyter-widgets/base",
            "_view_module_version": "1.2.0",
            "_view_name": "StyleView",
            "description_width": ""
          }
        },
        "74c2ece0c47f4be9ba6feb4e66c35e24": {
          "model_module": "@jupyter-widgets/controls",
          "model_name": "HBoxModel",
          "model_module_version": "1.5.0",
          "state": {
            "_dom_classes": [],
            "_model_module": "@jupyter-widgets/controls",
            "_model_module_version": "1.5.0",
            "_model_name": "HBoxModel",
            "_view_count": null,
            "_view_module": "@jupyter-widgets/controls",
            "_view_module_version": "1.5.0",
            "_view_name": "HBoxView",
            "box_style": "",
            "children": [
              "IPY_MODEL_938875e6f8a34429995576fc039acc5e",
              "IPY_MODEL_f05544f8500749a891da7322055b6983",
              "IPY_MODEL_18b38b24f0a842fd9297718c3c36acb3"
            ],
            "layout": "IPY_MODEL_51f718f6ee444d72a7b692eb1fb4934c"
          }
        },
        "938875e6f8a34429995576fc039acc5e": {
          "model_module": "@jupyter-widgets/controls",
          "model_name": "HTMLModel",
          "model_module_version": "1.5.0",
          "state": {
            "_dom_classes": [],
            "_model_module": "@jupyter-widgets/controls",
            "_model_module_version": "1.5.0",
            "_model_name": "HTMLModel",
            "_view_count": null,
            "_view_module": "@jupyter-widgets/controls",
            "_view_module_version": "1.5.0",
            "_view_name": "HTMLView",
            "description": "",
            "description_tooltip": null,
            "layout": "IPY_MODEL_8d3880f5d16c4601a93bdd1d274e626c",
            "placeholder": "​",
            "style": "IPY_MODEL_a0cba7eac3114caa9251c332ed16131d",
            "value": "Downloading extra modules: "
          }
        },
        "f05544f8500749a891da7322055b6983": {
          "model_module": "@jupyter-widgets/controls",
          "model_name": "FloatProgressModel",
          "model_module_version": "1.5.0",
          "state": {
            "_dom_classes": [],
            "_model_module": "@jupyter-widgets/controls",
            "_model_module_version": "1.5.0",
            "_model_name": "FloatProgressModel",
            "_view_count": null,
            "_view_module": "@jupyter-widgets/controls",
            "_view_module_version": "1.5.0",
            "_view_name": "ProgressView",
            "bar_style": "success",
            "description": "",
            "description_tooltip": null,
            "layout": "IPY_MODEL_ce05c8e4607c42ef85c7ec3824aab674",
            "max": 1554,
            "min": 0,
            "orientation": "horizontal",
            "style": "IPY_MODEL_10a966c5c8784ab4aeb5f7165b81dafd",
            "value": 1554
          }
        },
        "18b38b24f0a842fd9297718c3c36acb3": {
          "model_module": "@jupyter-widgets/controls",
          "model_name": "HTMLModel",
          "model_module_version": "1.5.0",
          "state": {
            "_dom_classes": [],
            "_model_module": "@jupyter-widgets/controls",
            "_model_module_version": "1.5.0",
            "_model_name": "HTMLModel",
            "_view_count": null,
            "_view_module": "@jupyter-widgets/controls",
            "_view_module_version": "1.5.0",
            "_view_name": "HTMLView",
            "description": "",
            "description_tooltip": null,
            "layout": "IPY_MODEL_4c078ce5dd914798a6ec6ab3842e0277",
            "placeholder": "​",
            "style": "IPY_MODEL_806ee39eb4b444a2952326b6931273e0",
            "value": " 4.07k/? [00:00&lt;00:00, 54.3kB/s]"
          }
        },
        "51f718f6ee444d72a7b692eb1fb4934c": {
          "model_module": "@jupyter-widgets/base",
          "model_name": "LayoutModel",
          "model_module_version": "1.2.0",
          "state": {
            "_model_module": "@jupyter-widgets/base",
            "_model_module_version": "1.2.0",
            "_model_name": "LayoutModel",
            "_view_count": null,
            "_view_module": "@jupyter-widgets/base",
            "_view_module_version": "1.2.0",
            "_view_name": "LayoutView",
            "align_content": null,
            "align_items": null,
            "align_self": null,
            "border": null,
            "bottom": null,
            "display": null,
            "flex": null,
            "flex_flow": null,
            "grid_area": null,
            "grid_auto_columns": null,
            "grid_auto_flow": null,
            "grid_auto_rows": null,
            "grid_column": null,
            "grid_gap": null,
            "grid_row": null,
            "grid_template_areas": null,
            "grid_template_columns": null,
            "grid_template_rows": null,
            "height": null,
            "justify_content": null,
            "justify_items": null,
            "left": null,
            "margin": null,
            "max_height": null,
            "max_width": null,
            "min_height": null,
            "min_width": null,
            "object_fit": null,
            "object_position": null,
            "order": null,
            "overflow": null,
            "overflow_x": null,
            "overflow_y": null,
            "padding": null,
            "right": null,
            "top": null,
            "visibility": null,
            "width": null
          }
        },
        "8d3880f5d16c4601a93bdd1d274e626c": {
          "model_module": "@jupyter-widgets/base",
          "model_name": "LayoutModel",
          "model_module_version": "1.2.0",
          "state": {
            "_model_module": "@jupyter-widgets/base",
            "_model_module_version": "1.2.0",
            "_model_name": "LayoutModel",
            "_view_count": null,
            "_view_module": "@jupyter-widgets/base",
            "_view_module_version": "1.2.0",
            "_view_name": "LayoutView",
            "align_content": null,
            "align_items": null,
            "align_self": null,
            "border": null,
            "bottom": null,
            "display": null,
            "flex": null,
            "flex_flow": null,
            "grid_area": null,
            "grid_auto_columns": null,
            "grid_auto_flow": null,
            "grid_auto_rows": null,
            "grid_column": null,
            "grid_gap": null,
            "grid_row": null,
            "grid_template_areas": null,
            "grid_template_columns": null,
            "grid_template_rows": null,
            "height": null,
            "justify_content": null,
            "justify_items": null,
            "left": null,
            "margin": null,
            "max_height": null,
            "max_width": null,
            "min_height": null,
            "min_width": null,
            "object_fit": null,
            "object_position": null,
            "order": null,
            "overflow": null,
            "overflow_x": null,
            "overflow_y": null,
            "padding": null,
            "right": null,
            "top": null,
            "visibility": null,
            "width": null
          }
        },
        "a0cba7eac3114caa9251c332ed16131d": {
          "model_module": "@jupyter-widgets/controls",
          "model_name": "DescriptionStyleModel",
          "model_module_version": "1.5.0",
          "state": {
            "_model_module": "@jupyter-widgets/controls",
            "_model_module_version": "1.5.0",
            "_model_name": "DescriptionStyleModel",
            "_view_count": null,
            "_view_module": "@jupyter-widgets/base",
            "_view_module_version": "1.2.0",
            "_view_name": "StyleView",
            "description_width": ""
          }
        },
        "ce05c8e4607c42ef85c7ec3824aab674": {
          "model_module": "@jupyter-widgets/base",
          "model_name": "LayoutModel",
          "model_module_version": "1.2.0",
          "state": {
            "_model_module": "@jupyter-widgets/base",
            "_model_module_version": "1.2.0",
            "_model_name": "LayoutModel",
            "_view_count": null,
            "_view_module": "@jupyter-widgets/base",
            "_view_module_version": "1.2.0",
            "_view_name": "LayoutView",
            "align_content": null,
            "align_items": null,
            "align_self": null,
            "border": null,
            "bottom": null,
            "display": null,
            "flex": null,
            "flex_flow": null,
            "grid_area": null,
            "grid_auto_columns": null,
            "grid_auto_flow": null,
            "grid_auto_rows": null,
            "grid_column": null,
            "grid_gap": null,
            "grid_row": null,
            "grid_template_areas": null,
            "grid_template_columns": null,
            "grid_template_rows": null,
            "height": null,
            "justify_content": null,
            "justify_items": null,
            "left": null,
            "margin": null,
            "max_height": null,
            "max_width": null,
            "min_height": null,
            "min_width": null,
            "object_fit": null,
            "object_position": null,
            "order": null,
            "overflow": null,
            "overflow_x": null,
            "overflow_y": null,
            "padding": null,
            "right": null,
            "top": null,
            "visibility": null,
            "width": null
          }
        },
        "10a966c5c8784ab4aeb5f7165b81dafd": {
          "model_module": "@jupyter-widgets/controls",
          "model_name": "ProgressStyleModel",
          "model_module_version": "1.5.0",
          "state": {
            "_model_module": "@jupyter-widgets/controls",
            "_model_module_version": "1.5.0",
            "_model_name": "ProgressStyleModel",
            "_view_count": null,
            "_view_module": "@jupyter-widgets/base",
            "_view_module_version": "1.2.0",
            "_view_name": "StyleView",
            "bar_color": null,
            "description_width": ""
          }
        },
        "4c078ce5dd914798a6ec6ab3842e0277": {
          "model_module": "@jupyter-widgets/base",
          "model_name": "LayoutModel",
          "model_module_version": "1.2.0",
          "state": {
            "_model_module": "@jupyter-widgets/base",
            "_model_module_version": "1.2.0",
            "_model_name": "LayoutModel",
            "_view_count": null,
            "_view_module": "@jupyter-widgets/base",
            "_view_module_version": "1.2.0",
            "_view_name": "LayoutView",
            "align_content": null,
            "align_items": null,
            "align_self": null,
            "border": null,
            "bottom": null,
            "display": null,
            "flex": null,
            "flex_flow": null,
            "grid_area": null,
            "grid_auto_columns": null,
            "grid_auto_flow": null,
            "grid_auto_rows": null,
            "grid_column": null,
            "grid_gap": null,
            "grid_row": null,
            "grid_template_areas": null,
            "grid_template_columns": null,
            "grid_template_rows": null,
            "height": null,
            "justify_content": null,
            "justify_items": null,
            "left": null,
            "margin": null,
            "max_height": null,
            "max_width": null,
            "min_height": null,
            "min_width": null,
            "object_fit": null,
            "object_position": null,
            "order": null,
            "overflow": null,
            "overflow_x": null,
            "overflow_y": null,
            "padding": null,
            "right": null,
            "top": null,
            "visibility": null,
            "width": null
          }
        },
        "806ee39eb4b444a2952326b6931273e0": {
          "model_module": "@jupyter-widgets/controls",
          "model_name": "DescriptionStyleModel",
          "model_module_version": "1.5.0",
          "state": {
            "_model_module": "@jupyter-widgets/controls",
            "_model_module_version": "1.5.0",
            "_model_name": "DescriptionStyleModel",
            "_view_count": null,
            "_view_module": "@jupyter-widgets/base",
            "_view_module_version": "1.2.0",
            "_view_name": "StyleView",
            "description_width": ""
          }
        },
        "426a47333ee4401580459c87dc5c7ea1": {
          "model_module": "@jupyter-widgets/controls",
          "model_name": "HBoxModel",
          "model_module_version": "1.5.0",
          "state": {
            "_dom_classes": [],
            "_model_module": "@jupyter-widgets/controls",
            "_model_module_version": "1.5.0",
            "_model_name": "HBoxModel",
            "_view_count": null,
            "_view_module": "@jupyter-widgets/controls",
            "_view_module_version": "1.5.0",
            "_view_name": "HBoxView",
            "box_style": "",
            "children": [
              "IPY_MODEL_b0a4f4e8b7cf4ebbae0c56e2da3aef5b",
              "IPY_MODEL_a84aee3c920a43ed9bb58d1d14c419a2",
              "IPY_MODEL_54ad115d83144f1f956204da5f868241"
            ],
            "layout": "IPY_MODEL_b81f0f4e08d548749ebf4fe53f6f2c1a"
          }
        },
        "b0a4f4e8b7cf4ebbae0c56e2da3aef5b": {
          "model_module": "@jupyter-widgets/controls",
          "model_name": "HTMLModel",
          "model_module_version": "1.5.0",
          "state": {
            "_dom_classes": [],
            "_model_module": "@jupyter-widgets/controls",
            "_model_module_version": "1.5.0",
            "_model_name": "HTMLModel",
            "_view_count": null,
            "_view_module": "@jupyter-widgets/controls",
            "_view_module_version": "1.5.0",
            "_view_name": "HTMLView",
            "description": "",
            "description_tooltip": null,
            "layout": "IPY_MODEL_c3cf789f6e4e4632a4c6c89dc3c0f97b",
            "placeholder": "​",
            "style": "IPY_MODEL_747fc6112b62412d945f5f3cf647f7fa",
            "value": "Downloading extra modules: 100%"
          }
        },
        "a84aee3c920a43ed9bb58d1d14c419a2": {
          "model_module": "@jupyter-widgets/controls",
          "model_name": "FloatProgressModel",
          "model_module_version": "1.5.0",
          "state": {
            "_dom_classes": [],
            "_model_module": "@jupyter-widgets/controls",
            "_model_module_version": "1.5.0",
            "_model_name": "FloatProgressModel",
            "_view_count": null,
            "_view_module": "@jupyter-widgets/controls",
            "_view_module_version": "1.5.0",
            "_view_name": "ProgressView",
            "bar_style": "success",
            "description": "",
            "description_tooltip": null,
            "layout": "IPY_MODEL_8b2f217b70d94ff48d9d4feed95ff08f",
            "max": 3344,
            "min": 0,
            "orientation": "horizontal",
            "style": "IPY_MODEL_69f3f4ce2aad4837a2895331baa1625d",
            "value": 3344
          }
        },
        "54ad115d83144f1f956204da5f868241": {
          "model_module": "@jupyter-widgets/controls",
          "model_name": "HTMLModel",
          "model_module_version": "1.5.0",
          "state": {
            "_dom_classes": [],
            "_model_module": "@jupyter-widgets/controls",
            "_model_module_version": "1.5.0",
            "_model_name": "HTMLModel",
            "_view_count": null,
            "_view_module": "@jupyter-widgets/controls",
            "_view_module_version": "1.5.0",
            "_view_name": "HTMLView",
            "description": "",
            "description_tooltip": null,
            "layout": "IPY_MODEL_271720e565474489b8c465d89daa35de",
            "placeholder": "​",
            "style": "IPY_MODEL_6ddfdb4339ed45ffb6d471d0bbe80b3e",
            "value": " 3.34k/3.34k [00:00&lt;00:00, 48.0kB/s]"
          }
        },
        "b81f0f4e08d548749ebf4fe53f6f2c1a": {
          "model_module": "@jupyter-widgets/base",
          "model_name": "LayoutModel",
          "model_module_version": "1.2.0",
          "state": {
            "_model_module": "@jupyter-widgets/base",
            "_model_module_version": "1.2.0",
            "_model_name": "LayoutModel",
            "_view_count": null,
            "_view_module": "@jupyter-widgets/base",
            "_view_module_version": "1.2.0",
            "_view_name": "LayoutView",
            "align_content": null,
            "align_items": null,
            "align_self": null,
            "border": null,
            "bottom": null,
            "display": null,
            "flex": null,
            "flex_flow": null,
            "grid_area": null,
            "grid_auto_columns": null,
            "grid_auto_flow": null,
            "grid_auto_rows": null,
            "grid_column": null,
            "grid_gap": null,
            "grid_row": null,
            "grid_template_areas": null,
            "grid_template_columns": null,
            "grid_template_rows": null,
            "height": null,
            "justify_content": null,
            "justify_items": null,
            "left": null,
            "margin": null,
            "max_height": null,
            "max_width": null,
            "min_height": null,
            "min_width": null,
            "object_fit": null,
            "object_position": null,
            "order": null,
            "overflow": null,
            "overflow_x": null,
            "overflow_y": null,
            "padding": null,
            "right": null,
            "top": null,
            "visibility": null,
            "width": null
          }
        },
        "c3cf789f6e4e4632a4c6c89dc3c0f97b": {
          "model_module": "@jupyter-widgets/base",
          "model_name": "LayoutModel",
          "model_module_version": "1.2.0",
          "state": {
            "_model_module": "@jupyter-widgets/base",
            "_model_module_version": "1.2.0",
            "_model_name": "LayoutModel",
            "_view_count": null,
            "_view_module": "@jupyter-widgets/base",
            "_view_module_version": "1.2.0",
            "_view_name": "LayoutView",
            "align_content": null,
            "align_items": null,
            "align_self": null,
            "border": null,
            "bottom": null,
            "display": null,
            "flex": null,
            "flex_flow": null,
            "grid_area": null,
            "grid_auto_columns": null,
            "grid_auto_flow": null,
            "grid_auto_rows": null,
            "grid_column": null,
            "grid_gap": null,
            "grid_row": null,
            "grid_template_areas": null,
            "grid_template_columns": null,
            "grid_template_rows": null,
            "height": null,
            "justify_content": null,
            "justify_items": null,
            "left": null,
            "margin": null,
            "max_height": null,
            "max_width": null,
            "min_height": null,
            "min_width": null,
            "object_fit": null,
            "object_position": null,
            "order": null,
            "overflow": null,
            "overflow_x": null,
            "overflow_y": null,
            "padding": null,
            "right": null,
            "top": null,
            "visibility": null,
            "width": null
          }
        },
        "747fc6112b62412d945f5f3cf647f7fa": {
          "model_module": "@jupyter-widgets/controls",
          "model_name": "DescriptionStyleModel",
          "model_module_version": "1.5.0",
          "state": {
            "_model_module": "@jupyter-widgets/controls",
            "_model_module_version": "1.5.0",
            "_model_name": "DescriptionStyleModel",
            "_view_count": null,
            "_view_module": "@jupyter-widgets/base",
            "_view_module_version": "1.2.0",
            "_view_name": "StyleView",
            "description_width": ""
          }
        },
        "8b2f217b70d94ff48d9d4feed95ff08f": {
          "model_module": "@jupyter-widgets/base",
          "model_name": "LayoutModel",
          "model_module_version": "1.2.0",
          "state": {
            "_model_module": "@jupyter-widgets/base",
            "_model_module_version": "1.2.0",
            "_model_name": "LayoutModel",
            "_view_count": null,
            "_view_module": "@jupyter-widgets/base",
            "_view_module_version": "1.2.0",
            "_view_name": "LayoutView",
            "align_content": null,
            "align_items": null,
            "align_self": null,
            "border": null,
            "bottom": null,
            "display": null,
            "flex": null,
            "flex_flow": null,
            "grid_area": null,
            "grid_auto_columns": null,
            "grid_auto_flow": null,
            "grid_auto_rows": null,
            "grid_column": null,
            "grid_gap": null,
            "grid_row": null,
            "grid_template_areas": null,
            "grid_template_columns": null,
            "grid_template_rows": null,
            "height": null,
            "justify_content": null,
            "justify_items": null,
            "left": null,
            "margin": null,
            "max_height": null,
            "max_width": null,
            "min_height": null,
            "min_width": null,
            "object_fit": null,
            "object_position": null,
            "order": null,
            "overflow": null,
            "overflow_x": null,
            "overflow_y": null,
            "padding": null,
            "right": null,
            "top": null,
            "visibility": null,
            "width": null
          }
        },
        "69f3f4ce2aad4837a2895331baa1625d": {
          "model_module": "@jupyter-widgets/controls",
          "model_name": "ProgressStyleModel",
          "model_module_version": "1.5.0",
          "state": {
            "_model_module": "@jupyter-widgets/controls",
            "_model_module_version": "1.5.0",
            "_model_name": "ProgressStyleModel",
            "_view_count": null,
            "_view_module": "@jupyter-widgets/base",
            "_view_module_version": "1.2.0",
            "_view_name": "StyleView",
            "bar_color": null,
            "description_width": ""
          }
        },
        "271720e565474489b8c465d89daa35de": {
          "model_module": "@jupyter-widgets/base",
          "model_name": "LayoutModel",
          "model_module_version": "1.2.0",
          "state": {
            "_model_module": "@jupyter-widgets/base",
            "_model_module_version": "1.2.0",
            "_model_name": "LayoutModel",
            "_view_count": null,
            "_view_module": "@jupyter-widgets/base",
            "_view_module_version": "1.2.0",
            "_view_name": "LayoutView",
            "align_content": null,
            "align_items": null,
            "align_self": null,
            "border": null,
            "bottom": null,
            "display": null,
            "flex": null,
            "flex_flow": null,
            "grid_area": null,
            "grid_auto_columns": null,
            "grid_auto_flow": null,
            "grid_auto_rows": null,
            "grid_column": null,
            "grid_gap": null,
            "grid_row": null,
            "grid_template_areas": null,
            "grid_template_columns": null,
            "grid_template_rows": null,
            "height": null,
            "justify_content": null,
            "justify_items": null,
            "left": null,
            "margin": null,
            "max_height": null,
            "max_width": null,
            "min_height": null,
            "min_width": null,
            "object_fit": null,
            "object_position": null,
            "order": null,
            "overflow": null,
            "overflow_x": null,
            "overflow_y": null,
            "padding": null,
            "right": null,
            "top": null,
            "visibility": null,
            "width": null
          }
        },
        "6ddfdb4339ed45ffb6d471d0bbe80b3e": {
          "model_module": "@jupyter-widgets/controls",
          "model_name": "DescriptionStyleModel",
          "model_module_version": "1.5.0",
          "state": {
            "_model_module": "@jupyter-widgets/controls",
            "_model_module_version": "1.5.0",
            "_model_name": "DescriptionStyleModel",
            "_view_count": null,
            "_view_module": "@jupyter-widgets/base",
            "_view_module_version": "1.2.0",
            "_view_name": "StyleView",
            "description_width": ""
          }
        },
        "6c86ac1af81642f8853b9ec9388ef613": {
          "model_module": "@jupyter-widgets/controls",
          "model_name": "HBoxModel",
          "model_module_version": "1.5.0",
          "state": {
            "_dom_classes": [],
            "_model_module": "@jupyter-widgets/controls",
            "_model_module_version": "1.5.0",
            "_model_name": "HBoxModel",
            "_view_count": null,
            "_view_module": "@jupyter-widgets/controls",
            "_view_module_version": "1.5.0",
            "_view_name": "HBoxView",
            "box_style": "",
            "children": [
              "IPY_MODEL_ff1dfa9d954349eeb2d327744b4c80fc",
              "IPY_MODEL_c7170bafa2c54e5d8f99bdd56ad219e9",
              "IPY_MODEL_b9ace6872d1346c9a264ecb9b2e40e6b"
            ],
            "layout": "IPY_MODEL_ceafe36cf01f405682a76603e0f03978"
          }
        },
        "ff1dfa9d954349eeb2d327744b4c80fc": {
          "model_module": "@jupyter-widgets/controls",
          "model_name": "HTMLModel",
          "model_module_version": "1.5.0",
          "state": {
            "_dom_classes": [],
            "_model_module": "@jupyter-widgets/controls",
            "_model_module_version": "1.5.0",
            "_model_name": "HTMLModel",
            "_view_count": null,
            "_view_module": "@jupyter-widgets/controls",
            "_view_module_version": "1.5.0",
            "_view_name": "HTMLView",
            "description": "",
            "description_tooltip": null,
            "layout": "IPY_MODEL_23d762a0e8fd4a50a8d3c38c3b7b172e",
            "placeholder": "​",
            "style": "IPY_MODEL_9ef79019017344c0b98d5b8929ed80ef",
            "value": "Downloading builder script: 100%"
          }
        },
        "c7170bafa2c54e5d8f99bdd56ad219e9": {
          "model_module": "@jupyter-widgets/controls",
          "model_name": "FloatProgressModel",
          "model_module_version": "1.5.0",
          "state": {
            "_dom_classes": [],
            "_model_module": "@jupyter-widgets/controls",
            "_model_module_version": "1.5.0",
            "_model_name": "FloatProgressModel",
            "_view_count": null,
            "_view_module": "@jupyter-widgets/controls",
            "_view_module_version": "1.5.0",
            "_view_name": "ProgressView",
            "bar_style": "success",
            "description": "",
            "description_tooltip": null,
            "layout": "IPY_MODEL_4bcc4601d2a2449385de0ff348416c4a",
            "max": 6270,
            "min": 0,
            "orientation": "horizontal",
            "style": "IPY_MODEL_674c79ec4ace4f1dadddaa137db30e1c",
            "value": 6270
          }
        },
        "b9ace6872d1346c9a264ecb9b2e40e6b": {
          "model_module": "@jupyter-widgets/controls",
          "model_name": "HTMLModel",
          "model_module_version": "1.5.0",
          "state": {
            "_dom_classes": [],
            "_model_module": "@jupyter-widgets/controls",
            "_model_module_version": "1.5.0",
            "_model_name": "HTMLModel",
            "_view_count": null,
            "_view_module": "@jupyter-widgets/controls",
            "_view_module_version": "1.5.0",
            "_view_name": "HTMLView",
            "description": "",
            "description_tooltip": null,
            "layout": "IPY_MODEL_49596b53602640eea19a01a7dd41f3d8",
            "placeholder": "​",
            "style": "IPY_MODEL_0f3305aeeedc447d93cde22fc85c2e7e",
            "value": " 6.27k/6.27k [00:00&lt;00:00, 119kB/s]"
          }
        },
        "ceafe36cf01f405682a76603e0f03978": {
          "model_module": "@jupyter-widgets/base",
          "model_name": "LayoutModel",
          "model_module_version": "1.2.0",
          "state": {
            "_model_module": "@jupyter-widgets/base",
            "_model_module_version": "1.2.0",
            "_model_name": "LayoutModel",
            "_view_count": null,
            "_view_module": "@jupyter-widgets/base",
            "_view_module_version": "1.2.0",
            "_view_name": "LayoutView",
            "align_content": null,
            "align_items": null,
            "align_self": null,
            "border": null,
            "bottom": null,
            "display": null,
            "flex": null,
            "flex_flow": null,
            "grid_area": null,
            "grid_auto_columns": null,
            "grid_auto_flow": null,
            "grid_auto_rows": null,
            "grid_column": null,
            "grid_gap": null,
            "grid_row": null,
            "grid_template_areas": null,
            "grid_template_columns": null,
            "grid_template_rows": null,
            "height": null,
            "justify_content": null,
            "justify_items": null,
            "left": null,
            "margin": null,
            "max_height": null,
            "max_width": null,
            "min_height": null,
            "min_width": null,
            "object_fit": null,
            "object_position": null,
            "order": null,
            "overflow": null,
            "overflow_x": null,
            "overflow_y": null,
            "padding": null,
            "right": null,
            "top": null,
            "visibility": null,
            "width": null
          }
        },
        "23d762a0e8fd4a50a8d3c38c3b7b172e": {
          "model_module": "@jupyter-widgets/base",
          "model_name": "LayoutModel",
          "model_module_version": "1.2.0",
          "state": {
            "_model_module": "@jupyter-widgets/base",
            "_model_module_version": "1.2.0",
            "_model_name": "LayoutModel",
            "_view_count": null,
            "_view_module": "@jupyter-widgets/base",
            "_view_module_version": "1.2.0",
            "_view_name": "LayoutView",
            "align_content": null,
            "align_items": null,
            "align_self": null,
            "border": null,
            "bottom": null,
            "display": null,
            "flex": null,
            "flex_flow": null,
            "grid_area": null,
            "grid_auto_columns": null,
            "grid_auto_flow": null,
            "grid_auto_rows": null,
            "grid_column": null,
            "grid_gap": null,
            "grid_row": null,
            "grid_template_areas": null,
            "grid_template_columns": null,
            "grid_template_rows": null,
            "height": null,
            "justify_content": null,
            "justify_items": null,
            "left": null,
            "margin": null,
            "max_height": null,
            "max_width": null,
            "min_height": null,
            "min_width": null,
            "object_fit": null,
            "object_position": null,
            "order": null,
            "overflow": null,
            "overflow_x": null,
            "overflow_y": null,
            "padding": null,
            "right": null,
            "top": null,
            "visibility": null,
            "width": null
          }
        },
        "9ef79019017344c0b98d5b8929ed80ef": {
          "model_module": "@jupyter-widgets/controls",
          "model_name": "DescriptionStyleModel",
          "model_module_version": "1.5.0",
          "state": {
            "_model_module": "@jupyter-widgets/controls",
            "_model_module_version": "1.5.0",
            "_model_name": "DescriptionStyleModel",
            "_view_count": null,
            "_view_module": "@jupyter-widgets/base",
            "_view_module_version": "1.2.0",
            "_view_name": "StyleView",
            "description_width": ""
          }
        },
        "4bcc4601d2a2449385de0ff348416c4a": {
          "model_module": "@jupyter-widgets/base",
          "model_name": "LayoutModel",
          "model_module_version": "1.2.0",
          "state": {
            "_model_module": "@jupyter-widgets/base",
            "_model_module_version": "1.2.0",
            "_model_name": "LayoutModel",
            "_view_count": null,
            "_view_module": "@jupyter-widgets/base",
            "_view_module_version": "1.2.0",
            "_view_name": "LayoutView",
            "align_content": null,
            "align_items": null,
            "align_self": null,
            "border": null,
            "bottom": null,
            "display": null,
            "flex": null,
            "flex_flow": null,
            "grid_area": null,
            "grid_auto_columns": null,
            "grid_auto_flow": null,
            "grid_auto_rows": null,
            "grid_column": null,
            "grid_gap": null,
            "grid_row": null,
            "grid_template_areas": null,
            "grid_template_columns": null,
            "grid_template_rows": null,
            "height": null,
            "justify_content": null,
            "justify_items": null,
            "left": null,
            "margin": null,
            "max_height": null,
            "max_width": null,
            "min_height": null,
            "min_width": null,
            "object_fit": null,
            "object_position": null,
            "order": null,
            "overflow": null,
            "overflow_x": null,
            "overflow_y": null,
            "padding": null,
            "right": null,
            "top": null,
            "visibility": null,
            "width": null
          }
        },
        "674c79ec4ace4f1dadddaa137db30e1c": {
          "model_module": "@jupyter-widgets/controls",
          "model_name": "ProgressStyleModel",
          "model_module_version": "1.5.0",
          "state": {
            "_model_module": "@jupyter-widgets/controls",
            "_model_module_version": "1.5.0",
            "_model_name": "ProgressStyleModel",
            "_view_count": null,
            "_view_module": "@jupyter-widgets/base",
            "_view_module_version": "1.2.0",
            "_view_name": "StyleView",
            "bar_color": null,
            "description_width": ""
          }
        },
        "49596b53602640eea19a01a7dd41f3d8": {
          "model_module": "@jupyter-widgets/base",
          "model_name": "LayoutModel",
          "model_module_version": "1.2.0",
          "state": {
            "_model_module": "@jupyter-widgets/base",
            "_model_module_version": "1.2.0",
            "_model_name": "LayoutModel",
            "_view_count": null,
            "_view_module": "@jupyter-widgets/base",
            "_view_module_version": "1.2.0",
            "_view_name": "LayoutView",
            "align_content": null,
            "align_items": null,
            "align_self": null,
            "border": null,
            "bottom": null,
            "display": null,
            "flex": null,
            "flex_flow": null,
            "grid_area": null,
            "grid_auto_columns": null,
            "grid_auto_flow": null,
            "grid_auto_rows": null,
            "grid_column": null,
            "grid_gap": null,
            "grid_row": null,
            "grid_template_areas": null,
            "grid_template_columns": null,
            "grid_template_rows": null,
            "height": null,
            "justify_content": null,
            "justify_items": null,
            "left": null,
            "margin": null,
            "max_height": null,
            "max_width": null,
            "min_height": null,
            "min_width": null,
            "object_fit": null,
            "object_position": null,
            "order": null,
            "overflow": null,
            "overflow_x": null,
            "overflow_y": null,
            "padding": null,
            "right": null,
            "top": null,
            "visibility": null,
            "width": null
          }
        },
        "0f3305aeeedc447d93cde22fc85c2e7e": {
          "model_module": "@jupyter-widgets/controls",
          "model_name": "DescriptionStyleModel",
          "model_module_version": "1.5.0",
          "state": {
            "_model_module": "@jupyter-widgets/controls",
            "_model_module_version": "1.5.0",
            "_model_name": "DescriptionStyleModel",
            "_view_count": null,
            "_view_module": "@jupyter-widgets/base",
            "_view_module_version": "1.2.0",
            "_view_name": "StyleView",
            "description_width": ""
          }
        }
      }
    }
  },
  "cells": [
    {
      "cell_type": "markdown",
      "metadata": {
        "id": "view-in-github",
        "colab_type": "text"
      },
      "source": [
        "<a href=\"https://colab.research.google.com/github/fatemafaria142/Automated-Realistic-Story-Generation/blob/main/Story_Generation_using_GPT_2.ipynb\" target=\"_parent\"><img src=\"https://colab.research.google.com/assets/colab-badge.svg\" alt=\"Open In Colab\"/></a>"
      ]
    },
    {
      "cell_type": "code",
      "metadata": {
        "id": "8lkWeohye94_",
        "colab": {
          "base_uri": "https://localhost:8080/"
        },
        "outputId": "ae166947-19e7-4755-b5a8-855619dd5ef1"
      },
      "source": [
        "from google.colab import drive\n",
        "drive.mount('/content/drive')"
      ],
      "execution_count": 1,
      "outputs": [
        {
          "output_type": "stream",
          "name": "stdout",
          "text": [
            "Drive already mounted at /content/drive; to attempt to forcibly remount, call drive.mount(\"/content/drive\", force_remount=True).\n"
          ]
        }
      ]
    },
    {
      "cell_type": "markdown",
      "source": [
        "### **Dataset Link: https://huggingface.co/datasets/AtlasUnified/atlas-storyteller?row=42**\n"
      ],
      "metadata": {
        "id": "9eLmsrRQe2t6"
      }
    },
    {
      "cell_type": "code",
      "source": [
        "!pip install datasets"
      ],
      "metadata": {
        "colab": {
          "base_uri": "https://localhost:8080/"
        },
        "id": "LcCwf0FNM73j",
        "outputId": "1690717e-4647-4d3a-a7da-714d95623b2e"
      },
      "execution_count": 2,
      "outputs": [
        {
          "output_type": "stream",
          "name": "stdout",
          "text": [
            "Requirement already satisfied: datasets in /usr/local/lib/python3.10/dist-packages (2.16.1)\n",
            "Requirement already satisfied: filelock in /usr/local/lib/python3.10/dist-packages (from datasets) (3.13.1)\n",
            "Requirement already satisfied: numpy>=1.17 in /usr/local/lib/python3.10/dist-packages (from datasets) (1.23.5)\n",
            "Requirement already satisfied: pyarrow>=8.0.0 in /usr/local/lib/python3.10/dist-packages (from datasets) (10.0.1)\n",
            "Requirement already satisfied: pyarrow-hotfix in /usr/local/lib/python3.10/dist-packages (from datasets) (0.6)\n",
            "Requirement already satisfied: dill<0.3.8,>=0.3.0 in /usr/local/lib/python3.10/dist-packages (from datasets) (0.3.7)\n",
            "Requirement already satisfied: pandas in /usr/local/lib/python3.10/dist-packages (from datasets) (1.5.3)\n",
            "Requirement already satisfied: requests>=2.19.0 in /usr/local/lib/python3.10/dist-packages (from datasets) (2.31.0)\n",
            "Requirement already satisfied: tqdm>=4.62.1 in /usr/local/lib/python3.10/dist-packages (from datasets) (4.66.1)\n",
            "Requirement already satisfied: xxhash in /usr/local/lib/python3.10/dist-packages (from datasets) (3.4.1)\n",
            "Requirement already satisfied: multiprocess in /usr/local/lib/python3.10/dist-packages (from datasets) (0.70.15)\n",
            "Requirement already satisfied: fsspec[http]<=2023.10.0,>=2023.1.0 in /usr/local/lib/python3.10/dist-packages (from datasets) (2023.6.0)\n",
            "Requirement already satisfied: aiohttp in /usr/local/lib/python3.10/dist-packages (from datasets) (3.9.1)\n",
            "Requirement already satisfied: huggingface-hub>=0.19.4 in /usr/local/lib/python3.10/dist-packages (from datasets) (0.20.1)\n",
            "Requirement already satisfied: packaging in /usr/local/lib/python3.10/dist-packages (from datasets) (23.2)\n",
            "Requirement already satisfied: pyyaml>=5.1 in /usr/local/lib/python3.10/dist-packages (from datasets) (6.0.1)\n",
            "Requirement already satisfied: attrs>=17.3.0 in /usr/local/lib/python3.10/dist-packages (from aiohttp->datasets) (23.2.0)\n",
            "Requirement already satisfied: multidict<7.0,>=4.5 in /usr/local/lib/python3.10/dist-packages (from aiohttp->datasets) (6.0.4)\n",
            "Requirement already satisfied: yarl<2.0,>=1.0 in /usr/local/lib/python3.10/dist-packages (from aiohttp->datasets) (1.9.4)\n",
            "Requirement already satisfied: frozenlist>=1.1.1 in /usr/local/lib/python3.10/dist-packages (from aiohttp->datasets) (1.4.1)\n",
            "Requirement already satisfied: aiosignal>=1.1.2 in /usr/local/lib/python3.10/dist-packages (from aiohttp->datasets) (1.3.1)\n",
            "Requirement already satisfied: async-timeout<5.0,>=4.0 in /usr/local/lib/python3.10/dist-packages (from aiohttp->datasets) (4.0.3)\n",
            "Requirement already satisfied: typing-extensions>=3.7.4.3 in /usr/local/lib/python3.10/dist-packages (from huggingface-hub>=0.19.4->datasets) (4.5.0)\n",
            "Requirement already satisfied: charset-normalizer<4,>=2 in /usr/local/lib/python3.10/dist-packages (from requests>=2.19.0->datasets) (3.3.2)\n",
            "Requirement already satisfied: idna<4,>=2.5 in /usr/local/lib/python3.10/dist-packages (from requests>=2.19.0->datasets) (3.6)\n",
            "Requirement already satisfied: urllib3<3,>=1.21.1 in /usr/local/lib/python3.10/dist-packages (from requests>=2.19.0->datasets) (2.0.7)\n",
            "Requirement already satisfied: certifi>=2017.4.17 in /usr/local/lib/python3.10/dist-packages (from requests>=2.19.0->datasets) (2023.11.17)\n",
            "Requirement already satisfied: python-dateutil>=2.8.1 in /usr/local/lib/python3.10/dist-packages (from pandas->datasets) (2.8.2)\n",
            "Requirement already satisfied: pytz>=2020.1 in /usr/local/lib/python3.10/dist-packages (from pandas->datasets) (2023.3.post1)\n",
            "Requirement already satisfied: six>=1.5 in /usr/local/lib/python3.10/dist-packages (from python-dateutil>=2.8.1->pandas->datasets) (1.16.0)\n"
          ]
        }
      ]
    },
    {
      "cell_type": "code",
      "source": [
        "from datasets import load_dataset\n",
        "\n",
        "dataset = load_dataset(\"AtlasUnified/atlas-storyteller\")"
      ],
      "metadata": {
        "colab": {
          "base_uri": "https://localhost:8080/"
        },
        "id": "zCKdxI01M6-a",
        "outputId": "03e06a89-f2be-49d9-fc60-5ab1616ea5c1"
      },
      "execution_count": 3,
      "outputs": [
        {
          "output_type": "stream",
          "name": "stderr",
          "text": [
            "/usr/local/lib/python3.10/dist-packages/huggingface_hub/utils/_token.py:72: UserWarning: \n",
            "The secret `HF_TOKEN` does not exist in your Colab secrets.\n",
            "To authenticate with the Hugging Face Hub, create a token in your settings tab (https://huggingface.co/settings/tokens), set it as secret in your Google Colab and restart your session.\n",
            "You will be able to reuse this secret in all of your notebooks.\n",
            "Please note that authentication is recommended but still optional to access public models or datasets.\n",
            "  warnings.warn(\n"
          ]
        }
      ]
    },
    {
      "cell_type": "code",
      "source": [
        "# Display dataset information\n",
        "print(dataset)"
      ],
      "metadata": {
        "colab": {
          "base_uri": "https://localhost:8080/"
        },
        "id": "HK42OiW4NRis",
        "outputId": "6a615e63-c106-437a-9372-a2487dd2bf2e"
      },
      "execution_count": 4,
      "outputs": [
        {
          "output_type": "stream",
          "name": "stdout",
          "text": [
            "DatasetDict({\n",
            "    train: Dataset({\n",
            "        features: ['id', 'Story'],\n",
            "        num_rows: 5018\n",
            "    })\n",
            "})\n"
          ]
        }
      ]
    },
    {
      "cell_type": "code",
      "source": [
        "# Access the 'train' split of the dataset\n",
        "train_data = dataset['train']\n",
        "\n",
        "# Display information about the 'train' split\n",
        "print(train_data)"
      ],
      "metadata": {
        "colab": {
          "base_uri": "https://localhost:8080/"
        },
        "id": "MVni66CINZ3Z",
        "outputId": "38ed0ab5-cf73-41d5-bad6-4d46e59f450d"
      },
      "execution_count": 5,
      "outputs": [
        {
          "output_type": "stream",
          "name": "stdout",
          "text": [
            "Dataset({\n",
            "    features: ['id', 'Story'],\n",
            "    num_rows: 5018\n",
            "})\n"
          ]
        }
      ]
    },
    {
      "cell_type": "code",
      "source": [
        "# Display the first few rows of the 'train' split\n",
        "print(train_data[:5])  # Displaying the first 5 rows as an example"
      ],
      "metadata": {
        "colab": {
          "base_uri": "https://localhost:8080/"
        },
        "id": "1-_K3yyaOQE4",
        "outputId": "65bcf80b-f164-4d05-acc5-bbafab43bb8b"
      },
      "execution_count": 6,
      "outputs": [
        {
          "output_type": "stream",
          "name": "stdout",
          "text": [
            "{'id': ['seed_task_0', 'seed_task_1', 'seed_task_2', 'seed_task_3', 'seed_task_4'], 'Story': ['In the bustling city of New York, where the neon lights flickered and the sound of traffic reverberated through the streets, lived a man named Ethan Sullivan. With his chiseled jawline, piercing blue eyes, and a physique carved by years of training, Ethan possessed an air of mystery that intrigued those who crossed his path. He lived a solitary life in a modest apartment, spending his days as an accountant, his nights cloaked in shadows and secrecy.  One fateful morning, as the city awoke to the rhythmic beat of its own heartbeat, Ethan received a cryptic message on a burner phone. It simply stated, \"They\\'re coming for you.\" His heart quickened, and a wave of apprehension washed over him. Who were \"they,\" and why were they after him? Ethan\\'s blood ran cold, fueling a surge of adrenaline that urged him to take action.  Without a moment\\'s hesitation, Ethan gathered his meager belongings and made his way to a hidden room beneath his apartment. The room, concealed behind a bookshelf, was a secret sanctuary where he had spent countless hours honing his skills and preparing for the unknown. As he descended the narrow staircase, the walls whispered tales of peril and resilience, fueling his determination.  Days turned into nights, and the hunt for Ethan intensified. He navigated the city\\'s labyrinthine underworld, seeking answers to the questions that shadowed his every step. His pursuit brought him face to face with a network of spies, double agents, and dangerous mercenaries, all entangled in a web of deception. Ethan\\'s resilience was pushed to its limits as he evaded their clutches, relying on his training and instincts to outwit his adversaries.  Amidst the chaos, Ethan discovered a hidden connection between himself and the mysterious organization that sought his demise. Unbeknownst to him, he possessed an uncanny ability to unlock long-dormant memories, memories that held the key to an ancient artifact rumored to possess unimaginable power. This revelation marked a turning point in his quest, as he realized that his actions were not only a matter of personal survival but threatened the delicate balance of the entire world.  With newfound purpose, Ethan embarked on a perilous journey across continents, battling foes and confronting the ghosts of his past. He delved into ancient texts, deciphering cryptic symbols and untangling riddles that led him closer to the artifact\\'s secret location. The world around him trembled, unaware of the cataclysmic power that awaited should the artifact fall into the wrong hands.  In the heart of the Amazon rainforest, amidst lush foliage and echoing wildlife, Ethan reached the sacred temple where the artifact lay hidden. The air crackled with anticipation as he overcame treacherous trials, testing both his physical and mental prowess. With each obstacle conquered, his purpose grew clearer, his resolve unyielding.  Finally, standing on the precipice of destiny, Ethan found himself face to face with his nemesis, the orchestrator of his torment. A battle of wills ensued, each combatant matching the other blow for blow, weaving a deadly dance of strength and strategy. It was a battle that transcended the physical, a clash between opposing ideologies.  In the end, it was Ethan\\'s unwavering determination that prevailed. With a final, decisive strike, he thwarted his enemy\\'s plans and secured the artifact, safeguarding the world from its malevolence. The weight of his actions settled upon him, and as he gazed upon the artifact, he understood the responsibility that came with its power.  With the threat vanquished and the world saved, Ethan\\'s journey drew to a close. He returned to his solitary life in New York, no longer haunted by the phantom of impending danger. Yet, his actions had left an indelible mark upon his soul, a reminder that even in the face of insurmountable odds, one individual could make a difference. And with that knowledge, Ethan Sullivan embraced the path that lay ahead of him, ready to face whatever challenges may come his way.', 'The sky stretched out before them, an endless expanse of blue pierced only by fluffy white clouds. The air crackled with the anticipation of action as the squadron gathered at the airfield, their sleek fighter jets gleaming under the noon sun. Among the pilots was Captain Joshua Bennett, a seasoned veteran with eyes as sharp as a hawk\\'s, and a heart that beat with the rhythm of war.  Set in the midst of a raging conflict, the story takes place during the height of World War II. Captain Bennett, a fearless and daring leader, had earned his reputation through countless successful missions. He was known for his audacious maneuvers and masterful control of aircraft, traits that instilled confidence in every member of his squadron.  Their current mission was crucial - they were tasked with intercepting and neutralizing a squadron of enemy bombers bound for a nearby heavily fortified city. The stakes were high; failure meant devastation for countless lives on the ground. But failure was not an option for Captain Bennett and his men.  As they climbed into their cockpits, each pilot embraced the danger that lay ahead. The roar of engines filled the air, drowning out all other sounds. The planes taxied onto the runway, lined up with military precision. The countdown began, the moment drawing closer with each passing second.  With a thunderous roar, the planes rocketed into the clear blue sky. Wings unfolded, propellers spun, and the pilots adjusted their throttles to find the perfect balance of speed and maneuverability. The rush of wind whipped their faces as they gained altitude, soaring towards their destiny.  As they closed in on the enemy formation, the first hints of adrenaline coursed through their veins. The lead bomber came into view, its gray monstrosity blotting out the sun. It was a formidable target, bristling with defensive guns and encased in heavy armor.  Captain Bennett\\'s voice broke through the radio static, calm yet tinged with intensity. \"Stick to the plan, gentlemen. Stay in formation, and watch each other\\'s backs.\" The squadron spread their wings and formed a protective wall around their leader. It was time to engage.  In a dazzling display of aerial acrobatics and precision, the dogfight began. Fighter jets darted and weaved through the air, leaving white contrails in their wake. The deafening roar of engines mingled with the staccato bursts of gunfire. Maneuvers honed through countless hours of training were put to the test as the pilots pushed themselves to the limits.  Enemy tracers wove through the sky like deadly ribbons, threatening to tear the squadron apart. Captain Bennett\\'s instincts kicked in, his eyes scanning the chaotic battlefield, searching for weak points. He made split-second decisions, radioing commands to his men as they fought tooth and nail against their adversaries.  Bullets grazed wings, but the pilots pressed on, clinging to that indomitable spirit of victory. They danced with death, their every move calculated and executed with utmost precision. Captain Bennett, like a maestro directing an orchestra, orchestrated the deadly symphony of war, leading his men with unwavering determination.  As the fight raged on, the squadron\\'s efforts began to bear fruit. One enemy bomber after another plummeted from the sky, engulfed in billowing flames. The sky turned into a kaleidoscope of smoke and fire, a testament to their courage and skill. The tide began to turn, the remaining enemy formations faltering under the relentless onslaught.  And then, silence fell upon the battlefield. The enemy bombers lay shattered and defeated, scattered like forlorn chess pieces across the sky. The squadron, weary yet triumphant, regrouped in a display of unity and solidarity.  Captain Bennett\\'s voice broke through the radio once again, this time filled with pride. \"Well done, gentlemen. Another victory for the history books.\" The cheers of his comrades echoed in the air, mingling with the sea breeze.  As the planes headed back to base, engines humming in synchrony, the captain couldn\\'t help but smile. They had prevailed against all odds, proving their mettle in the crucible of combat. He knew that their actions had made a difference, had saved lives, and kept hope alive in the hearts of those on the ground.  Their legacy as warriors in the skies would forever be remembered, etched in the annals of history. And Captain Joshua Bennett, the fearless leader who led his squadron with unwavering resolve, would forever be hailed as a hero, a beacon of courage in the darkest of times.', 'In the midst of a bustling metropolis teeming with skyscrapers that seemingly touched the heavens, nestled a small and unassuming garage. It belonged to Ethan, a young and brilliant engineer consumed by his insatiable thirst for innovation and adventure. With grease-stained hands and a mind full of ideas, he spent every waking hour tinkering and crafting marvelous inventions that could turn dreams into reality.  One fateful afternoon, while rummaging through a box filled with ancient blueprints, Ethan stumbled upon a peculiar schematic. It depicted a colossal machine, a menacing giant robot with gleaming steel limbs and an aura of unstoppable power. Intrigued and fascinated, he couldn\\'t resist the temptation to bring this mechanical behemoth to life.  Days turned into weeks, and nights melted away as Ethan toiled tirelessly in his secluded workshop, pouring every ounce of his skill and determination into the construction of his masterpiece. Finally, after countless sleepless nights, his creation stood before him in all its majestic glory - a formidable mech equipped with an array of devastating weapons, ready to challenge any foe that dared face it.  News of Ethan\\'s extraordinary creation spread like wildfire across the city, catching the attention of a notorious and power-hungry conglomerate known as IronCorp Industries. Their enigmatic leader, Raymond Blackwood, was a zealous man who sought to dominate the world using an army of unstoppable robots. Enraged by the presence of a potential rival, Blackwood devised a sinister plan to steal Ethan\\'s invention, ensuring his own hegemony remained unchallenged.  As dusk settled over the city, Ethan climbed into the cockpit of his mighty mech, aptly named \"Ironfire,\" and prepared for battle. He had heard whispers of IronCorp\\'s plans and knew that he must act swiftly to protect his creation, and by extension, the very heart of innovation itself.  Engulfed in the shadows, Ethan set out on a perilous journey through the dimly lit streets, radar systems humming softly as he tracked the movements of IronCorp\\'s relentless forces. Every corner of the city seemed to pulsate with danger, each alleyway hiding a potential ambush. But Ethan\\'s resolve burned bright, and with every step, his heart raced with a mix of anticipation and desperation.  Finally, deep within the heart of an abandoned factory, a cacophony of metallic growls echoed ominously. Ironfire stepped forward, ready to face an army of imposing IronCorp robots driven by malice and greed. As the battle raged on, Ethan\\'s instincts and intimate knowledge of his creation guided him. He evaded crushing blows and countered with devastating precision, each strike in perfect harmony with the symphony of danger that surrounded him.  In a climactic clash of metal and might, Ironfire unleashed a powerful surge of energy that coursed through the remnants of IronCorp\\'s defeated robots. Sparks danced and smoke filled the air, the battle leaving nothing but a wake of debris in its path. Ethan stood triumphant, having defended his creation and regained his vision of a world where innovation thrived untethered.  Word of Ethan\\'s heroic victory spread throughout the city, and he became a legend, a symbol of defiance against corporate tyranny. IronCorp, left in shambles, retreated into the shadows, their dreams of domination shattered. From that day forward, the city monumentally shifted, embracing a new era where aspiring inventors and unyielding dreamers were celebrated and cherished.  As the sun set on the horizon, bathing the city in hues of crimson and gold, Ethan surveyed the landscape that had once been plagued by darkness. A smile graced his lips, knowing that he had played a pivotal role in defending the very essence of action and innovation against overwhelming odds. And with newfound hope in his heart, he embarked on a journey to inspire a generation and forge a future where dreams knew no boundaries.', \"In the heart of a once-thriving metropolis, now reduced to a desolate wasteland, a lone figure emerged from the shadows. Leather-clad and armed to the teeth, his name was Gabriel. Standing at the precipice of an abandoned street, he surveyed the remnants of what was once a bustling city. Hollowed buildings loomed like guardians of a forgotten time, their broken windows reflecting the glimmers of an apocalyptic twilight.  It had been years since the outbreak, the virus that turned ordinary people into ravenous zombies. Gabriel, a former army officer, had become a symbol of hope in this desolate world. With his unwavering determination and unparalleled combat skills, he had earned the respect of fellow survivors. But there was one mission that haunted his every step – the hunt for Patient Zero, the source of this unspeakable horror.  As Gabriel patrolled the remnants of humanity's domain, a garbled transmission pierced the silence, crackling with static. It was a distress call from a nearby settlement. He hesitated for a moment, torn between his undying pursuit and the plight of innocents in need. His duty prevailed, and he set off towards the desperate cries of his fellow survivors.  Arriving at the settlement, Gabriel found himself face to face with chaos. The once-peaceful refuge had been overrun by hordes of infected. Their guttural moans filled the air as they mindlessly tore through barricades and devoured any living thing in their path. Amidst the bedlam, a young woman named Ava caught Gabriel's eye. Fearlessly armed with her own makeshift weapons, she fought valiantly to protect the last remnants of her community.  Recognizing her grit, Gabriel teamed up with Ava to stem the tide of the infected. Together, they forged a path through the chaos, leaving a trail of fallen zombies in their wake. Their teamwork was seamless, as if forged in the fires of adversity. Gabriel marveled at Ava's resilience and fiery determination as they battled side by side. It was a beacon of light in a world veiled in darkness.  Their efforts culminated in a climactic showdown with a particularly formidable horde. Surrounded, Gabriel and Ava fought with unmatched ferocity. Their weapons whirled through the air, dispatching zombie after zombie. Every strike was executed flawlessly, guided by their shared purpose. In the final moments, Gabriel unleashed a torrent of bullets, decimating the horde.  Exhausted but triumphant, Gabriel and Ava watched as the last of the infected crumpled to the ground. The settlement, once teetering on the edge of destruction, was saved. Gabriel couldn't help but feel a surge of admiration for Ava's indomitable spirit. In her, he discovered a kindred soul - a warrior forged by the unforgiving battleground of a post-apocalyptic world.  With the settlement secured, Gabriel and Ava returned to their never-ending mission - the search for Patient Zero. Fuelled by their recent victory, their resolve grew stronger. They scoured the remnants of civilization, following leads and piecing together clues with dogged determination. And finally, after countless battles and near-death experiences, they unearthed a hidden facility concealing the truth.  Within its sterile walls lay the answer to their questions - the true origin of the virus that had decimated their world. Patient Zero, a shadowy figure named Dr. Emil Reinhardt, had been consumed by the very entity he had created. The duo confronted the fallen scientist, his twisted form bearing evidence of his monstrous experiments. With a final burst of strength, Gabriel and Ava ended the life of the man who had unleashed this plague.  In the aftermath, as Gabriel and Ava surveyed the smoldering ruins of the facility, a sense of bitter victory washed over them. The battle against the infected hordes would continue, but a small semblance of justice had been attained. With renewed purpose and an unbreakable bond, they vowed to push forward, fighting relentlessly until the world they once knew was restored.  United by their resilience and unwavering courage, Gabriel and Ava became legends whispered in the ears of survivors, igniting a dwindling flame of hope in the darkest corners of the earth. In a world ravaged by zombies and despair, their actions spoke louder than words, inspiring others to rise against the encroaching tide of darkness.\", 'In the gritty underbelly of a city plagued by crime, Detective John Anderson was a tenacious force to be reckoned with. Tall and lean, with a sharp jawline and piercing blue eyes, he exuded an aura of unwavering determination. The city had become his battleground, and the criminals feared his name.  The whispers on the streets spoke of a notorious criminal mastermind known as \"The Phantom.\" No one had ever seen his face, and his crimes left the police baffled. Like a phantom, he slipped through their fingers, leaving no trace behind. Detective Anderson was obsessed with catching him, a relentless pursuit that consumed his every waking moment.  Late one stormy evening, as the rain poured mercilessly, Detective Anderson received a tip that The Phantom was planning a heist at the city\\'s prestigious art museum. Determined to finally corner his elusive adversary, Anderson made his way to the darkened museum, the faint glow of the moon highlighting his determined gaze.  Inside the museum, the tension thickened as Anderson explored the labyrinthine corridors and galleries. True to his name, The Phantom seemed to be everywhere and nowhere all at once. Paintings were stolen, alarms were triggered, and yet the criminal remained elusive. It was a cat and mouse game, each move meticulously planned, leaving Anderson scrambling to anticipate the next.  Days turned into weeks, and the city grew restless, with each passing moment the grip of fear tightened. The newspapers were filled with headlines screaming of a criminal genius outsmarting the police force at every turn. But Detective Anderson remained undeterred, fueled by a relentless desire for justice.  One fateful night, Anderson received a cryptic message, informing him that The Phantom would strike at the city\\'s grand opera house. Racing against time, he stormed into the opulent theater as the first notes of a symphony filled the air. The tension palpable, Anderson carefully weaved his way through the crowd, his eyes scanning for any suspicious individuals.  As the performance reached its crescendo, a sudden commotion erupted. The lights flickered, and chaos ensued. Anderson instinctively sprinted towards the source of the disturbance. In a darkened corner, he caught a glimpse of a figure he knew all too well. The Phantom.  A chase ensued through the labyrinthine backstage area, their footsteps echoing like thunder. Anderson\\'s heart pounded in his chest as he closed in on his prey. With each twist and turn, he felt the thrum of adrenaline course through his veins, propelling him forward.  Finally, in a moment of sheer determination, Anderson tackled The Phantom to the ground, their bodies colliding with a resounding thud. As they wrestled on the cold floor, Anderson\\'s grip tightened, his fingers digging into the criminal\\'s flesh. The long-awaited arrest was within his grasp.  With the handcuffs securely fastened around The Phantom\\'s wrists, Anderson couldn\\'t help but feel a mix of triumph and relief. The city could finally breathe a sigh of relief, knowing that justice had prevailed. It was a victory hard-fought, a testament to the determination and unwavering resolve of one man.  As the sirens wailed in the distance, Anderson looked down at his defeated adversary, the rain washing away the masquerade of anonymity from The Phantom\\'s face. The eyes staring back at him were filled with a mix of defeat and begrudging respect. An unspoken recognition passed between them, as if they were two sides of the same coin, forever destined to dance this dangerous dance.  And so, as the rain continued to pour, Detective John Anderson stood victorious in the darkness, a testament to the indomitable spirit of those who refuse to falter in the face of evil. The city would remember his name, just as The Phantom would forever be etched in the annals of criminal history. The cat and mouse game had reached its climax, leaving behind a trail of broken illusions and hard-fought triumphs.']}\n"
          ]
        }
      ]
    },
    {
      "cell_type": "code",
      "source": [
        "# Convert the 'train' split to a 'data' CSV file\n",
        "csv_filename = \"/content/drive/MyDrive/Story Generation/data.csv\"\n",
        "train_data.to_csv(csv_filename, index=False)\n",
        "print(f\"CSV file '{csv_filename}' has been created.\")"
      ],
      "metadata": {
        "colab": {
          "base_uri": "https://localhost:8080/",
          "height": 66,
          "referenced_widgets": [
            "e9db2a257d614203b87822ef342ca247",
            "a8802fe05b1a413aa74a688f4e81a623",
            "9c4e68a201494939a8fc8da92b38989f",
            "95e6b267fac94cec8ea45e0788ccbe66",
            "0093067253ce4686bf8c1ab3906a062d",
            "b8a24c46fe644bdc9e201910d63fbfa7",
            "fe548cca5f4749fdb44721da0703320c",
            "c676611583c940059a30848358c26662",
            "17c5cadfcd8544cba9ebd94f17f89b30",
            "4a784a9f06264bf7a709aa25f1f819ce",
            "b37f1eb162904d369d07d28df791587d"
          ]
        },
        "id": "kq6tmEAWOKOv",
        "outputId": "bc825d58-6a2a-427a-f7fc-d2b3fe8ae3dc"
      },
      "execution_count": 7,
      "outputs": [
        {
          "output_type": "display_data",
          "data": {
            "text/plain": [
              "Creating CSV from Arrow format:   0%|          | 0/6 [00:00<?, ?ba/s]"
            ],
            "application/vnd.jupyter.widget-view+json": {
              "version_major": 2,
              "version_minor": 0,
              "model_id": "e9db2a257d614203b87822ef342ca247"
            }
          },
          "metadata": {}
        },
        {
          "output_type": "stream",
          "name": "stdout",
          "text": [
            "CSV file '/content/drive/MyDrive/Story Generation/data.csv' has been created.\n"
          ]
        }
      ]
    },
    {
      "cell_type": "code",
      "source": [
        "import pandas as pd\n",
        "dataset = pd.read_csv(\"/content/drive/MyDrive/Story Generation/data.csv\")\n",
        "dataset.head()"
      ],
      "metadata": {
        "colab": {
          "base_uri": "https://localhost:8080/",
          "height": 2329
        },
        "id": "miBx8270J3la",
        "outputId": "57f77e8c-3904-4f83-fce1-8a7a834d99fa"
      },
      "execution_count": 8,
      "outputs": [
        {
          "output_type": "execute_result",
          "data": {
            "text/plain": [
              "            id                                              Story\n",
              "0  seed_task_0  In the bustling city of New York, where the ne...\n",
              "1  seed_task_1  The sky stretched out before them, an endless ...\n",
              "2  seed_task_2  In the midst of a bustling metropolis teeming ...\n",
              "3  seed_task_3  In the heart of a once-thriving metropolis, no...\n",
              "4  seed_task_4  In the gritty underbelly of a city plagued by ..."
            ],
            "text/html": [
              "\n",
              "  <div id=\"df-2eff3857-2415-48db-aed9-47d6ea3559b2\" class=\"colab-df-container\">\n",
              "    <div>\n",
              "<style scoped>\n",
              "    .dataframe tbody tr th:only-of-type {\n",
              "        vertical-align: middle;\n",
              "    }\n",
              "\n",
              "    .dataframe tbody tr th {\n",
              "        vertical-align: top;\n",
              "    }\n",
              "\n",
              "    .dataframe thead th {\n",
              "        text-align: right;\n",
              "    }\n",
              "</style>\n",
              "<table border=\"1\" class=\"dataframe\">\n",
              "  <thead>\n",
              "    <tr style=\"text-align: right;\">\n",
              "      <th></th>\n",
              "      <th>id</th>\n",
              "      <th>Story</th>\n",
              "    </tr>\n",
              "  </thead>\n",
              "  <tbody>\n",
              "    <tr>\n",
              "      <th>0</th>\n",
              "      <td>seed_task_0</td>\n",
              "      <td>In the bustling city of New York, where the ne...</td>\n",
              "    </tr>\n",
              "    <tr>\n",
              "      <th>1</th>\n",
              "      <td>seed_task_1</td>\n",
              "      <td>The sky stretched out before them, an endless ...</td>\n",
              "    </tr>\n",
              "    <tr>\n",
              "      <th>2</th>\n",
              "      <td>seed_task_2</td>\n",
              "      <td>In the midst of a bustling metropolis teeming ...</td>\n",
              "    </tr>\n",
              "    <tr>\n",
              "      <th>3</th>\n",
              "      <td>seed_task_3</td>\n",
              "      <td>In the heart of a once-thriving metropolis, no...</td>\n",
              "    </tr>\n",
              "    <tr>\n",
              "      <th>4</th>\n",
              "      <td>seed_task_4</td>\n",
              "      <td>In the gritty underbelly of a city plagued by ...</td>\n",
              "    </tr>\n",
              "  </tbody>\n",
              "</table>\n",
              "</div>\n",
              "    <div class=\"colab-df-buttons\">\n",
              "\n",
              "  <div class=\"colab-df-container\">\n",
              "    <button class=\"colab-df-convert\" onclick=\"convertToInteractive('df-2eff3857-2415-48db-aed9-47d6ea3559b2')\"\n",
              "            title=\"Convert this dataframe to an interactive table.\"\n",
              "            style=\"display:none;\">\n",
              "\n",
              "  <svg xmlns=\"http://www.w3.org/2000/svg\" height=\"24px\" viewBox=\"0 -960 960 960\">\n",
              "    <path d=\"M120-120v-720h720v720H120Zm60-500h600v-160H180v160Zm220 220h160v-160H400v160Zm0 220h160v-160H400v160ZM180-400h160v-160H180v160Zm440 0h160v-160H620v160ZM180-180h160v-160H180v160Zm440 0h160v-160H620v160Z\"/>\n",
              "  </svg>\n",
              "    </button>\n",
              "\n",
              "  <style>\n",
              "    .colab-df-container {\n",
              "      display:flex;\n",
              "      gap: 12px;\n",
              "    }\n",
              "\n",
              "    .colab-df-convert {\n",
              "      background-color: #E8F0FE;\n",
              "      border: none;\n",
              "      border-radius: 50%;\n",
              "      cursor: pointer;\n",
              "      display: none;\n",
              "      fill: #1967D2;\n",
              "      height: 32px;\n",
              "      padding: 0 0 0 0;\n",
              "      width: 32px;\n",
              "    }\n",
              "\n",
              "    .colab-df-convert:hover {\n",
              "      background-color: #E2EBFA;\n",
              "      box-shadow: 0px 1px 2px rgba(60, 64, 67, 0.3), 0px 1px 3px 1px rgba(60, 64, 67, 0.15);\n",
              "      fill: #174EA6;\n",
              "    }\n",
              "\n",
              "    .colab-df-buttons div {\n",
              "      margin-bottom: 4px;\n",
              "    }\n",
              "\n",
              "    [theme=dark] .colab-df-convert {\n",
              "      background-color: #3B4455;\n",
              "      fill: #D2E3FC;\n",
              "    }\n",
              "\n",
              "    [theme=dark] .colab-df-convert:hover {\n",
              "      background-color: #434B5C;\n",
              "      box-shadow: 0px 1px 3px 1px rgba(0, 0, 0, 0.15);\n",
              "      filter: drop-shadow(0px 1px 2px rgba(0, 0, 0, 0.3));\n",
              "      fill: #FFFFFF;\n",
              "    }\n",
              "  </style>\n",
              "\n",
              "    <script>\n",
              "      const buttonEl =\n",
              "        document.querySelector('#df-2eff3857-2415-48db-aed9-47d6ea3559b2 button.colab-df-convert');\n",
              "      buttonEl.style.display =\n",
              "        google.colab.kernel.accessAllowed ? 'block' : 'none';\n",
              "\n",
              "      async function convertToInteractive(key) {\n",
              "        const element = document.querySelector('#df-2eff3857-2415-48db-aed9-47d6ea3559b2');\n",
              "        const dataTable =\n",
              "          await google.colab.kernel.invokeFunction('convertToInteractive',\n",
              "                                                    [key], {});\n",
              "        if (!dataTable) return;\n",
              "\n",
              "        const docLinkHtml = 'Like what you see? Visit the ' +\n",
              "          '<a target=\"_blank\" href=https://colab.research.google.com/notebooks/data_table.ipynb>data table notebook</a>'\n",
              "          + ' to learn more about interactive tables.';\n",
              "        element.innerHTML = '';\n",
              "        dataTable['output_type'] = 'display_data';\n",
              "        await google.colab.output.renderOutput(dataTable, element);\n",
              "        const docLink = document.createElement('div');\n",
              "        docLink.innerHTML = docLinkHtml;\n",
              "        element.appendChild(docLink);\n",
              "      }\n",
              "    </script>\n",
              "  </div>\n",
              "\n",
              "\n",
              "<div id=\"df-94c3503a-8655-4982-bc51-bb232194e5f4\">\n",
              "  <button class=\"colab-df-quickchart\" onclick=\"quickchart('df-94c3503a-8655-4982-bc51-bb232194e5f4')\"\n",
              "            title=\"Suggest charts\"\n",
              "            style=\"display:none;\">\n",
              "\n",
              "<svg xmlns=\"http://www.w3.org/2000/svg\" height=\"24px\"viewBox=\"0 0 24 24\"\n",
              "     width=\"24px\">\n",
              "    <g>\n",
              "        <path d=\"M19 3H5c-1.1 0-2 .9-2 2v14c0 1.1.9 2 2 2h14c1.1 0 2-.9 2-2V5c0-1.1-.9-2-2-2zM9 17H7v-7h2v7zm4 0h-2V7h2v10zm4 0h-2v-4h2v4z\"/>\n",
              "    </g>\n",
              "</svg>\n",
              "  </button>\n",
              "\n",
              "<style>\n",
              "  .colab-df-quickchart {\n",
              "      --bg-color: #E8F0FE;\n",
              "      --fill-color: #1967D2;\n",
              "      --hover-bg-color: #E2EBFA;\n",
              "      --hover-fill-color: #174EA6;\n",
              "      --disabled-fill-color: #AAA;\n",
              "      --disabled-bg-color: #DDD;\n",
              "  }\n",
              "\n",
              "  [theme=dark] .colab-df-quickchart {\n",
              "      --bg-color: #3B4455;\n",
              "      --fill-color: #D2E3FC;\n",
              "      --hover-bg-color: #434B5C;\n",
              "      --hover-fill-color: #FFFFFF;\n",
              "      --disabled-bg-color: #3B4455;\n",
              "      --disabled-fill-color: #666;\n",
              "  }\n",
              "\n",
              "  .colab-df-quickchart {\n",
              "    background-color: var(--bg-color);\n",
              "    border: none;\n",
              "    border-radius: 50%;\n",
              "    cursor: pointer;\n",
              "    display: none;\n",
              "    fill: var(--fill-color);\n",
              "    height: 32px;\n",
              "    padding: 0;\n",
              "    width: 32px;\n",
              "  }\n",
              "\n",
              "  .colab-df-quickchart:hover {\n",
              "    background-color: var(--hover-bg-color);\n",
              "    box-shadow: 0 1px 2px rgba(60, 64, 67, 0.3), 0 1px 3px 1px rgba(60, 64, 67, 0.15);\n",
              "    fill: var(--button-hover-fill-color);\n",
              "  }\n",
              "\n",
              "  .colab-df-quickchart-complete:disabled,\n",
              "  .colab-df-quickchart-complete:disabled:hover {\n",
              "    background-color: var(--disabled-bg-color);\n",
              "    fill: var(--disabled-fill-color);\n",
              "    box-shadow: none;\n",
              "  }\n",
              "\n",
              "  .colab-df-spinner {\n",
              "    border: 2px solid var(--fill-color);\n",
              "    border-color: transparent;\n",
              "    border-bottom-color: var(--fill-color);\n",
              "    animation:\n",
              "      spin 1s steps(1) infinite;\n",
              "  }\n",
              "\n",
              "  @keyframes spin {\n",
              "    0% {\n",
              "      border-color: transparent;\n",
              "      border-bottom-color: var(--fill-color);\n",
              "      border-left-color: var(--fill-color);\n",
              "    }\n",
              "    20% {\n",
              "      border-color: transparent;\n",
              "      border-left-color: var(--fill-color);\n",
              "      border-top-color: var(--fill-color);\n",
              "    }\n",
              "    30% {\n",
              "      border-color: transparent;\n",
              "      border-left-color: var(--fill-color);\n",
              "      border-top-color: var(--fill-color);\n",
              "      border-right-color: var(--fill-color);\n",
              "    }\n",
              "    40% {\n",
              "      border-color: transparent;\n",
              "      border-right-color: var(--fill-color);\n",
              "      border-top-color: var(--fill-color);\n",
              "    }\n",
              "    60% {\n",
              "      border-color: transparent;\n",
              "      border-right-color: var(--fill-color);\n",
              "    }\n",
              "    80% {\n",
              "      border-color: transparent;\n",
              "      border-right-color: var(--fill-color);\n",
              "      border-bottom-color: var(--fill-color);\n",
              "    }\n",
              "    90% {\n",
              "      border-color: transparent;\n",
              "      border-bottom-color: var(--fill-color);\n",
              "    }\n",
              "  }\n",
              "</style>\n",
              "\n",
              "  <script>\n",
              "    async function quickchart(key) {\n",
              "      const quickchartButtonEl =\n",
              "        document.querySelector('#' + key + ' button');\n",
              "      quickchartButtonEl.disabled = true;  // To prevent multiple clicks.\n",
              "      quickchartButtonEl.classList.add('colab-df-spinner');\n",
              "      try {\n",
              "        const charts = await google.colab.kernel.invokeFunction(\n",
              "            'suggestCharts', [key], {});\n",
              "      } catch (error) {\n",
              "        console.error('Error during call to suggestCharts:', error);\n",
              "      }\n",
              "      quickchartButtonEl.classList.remove('colab-df-spinner');\n",
              "      quickchartButtonEl.classList.add('colab-df-quickchart-complete');\n",
              "    }\n",
              "    (() => {\n",
              "      let quickchartButtonEl =\n",
              "        document.querySelector('#df-94c3503a-8655-4982-bc51-bb232194e5f4 button');\n",
              "      quickchartButtonEl.style.display =\n",
              "        google.colab.kernel.accessAllowed ? 'block' : 'none';\n",
              "    })();\n",
              "  </script>\n",
              "</div>\n",
              "\n",
              "    </div>\n",
              "  </div>\n"
            ]
          },
          "metadata": {},
          "execution_count": 8
        }
      ]
    },
    {
      "cell_type": "markdown",
      "source": [
        "# **Length of the main dataset**"
      ],
      "metadata": {
        "id": "oYT5jePDfjc1"
      }
    },
    {
      "cell_type": "code",
      "source": [
        "len(dataset)"
      ],
      "metadata": {
        "colab": {
          "base_uri": "https://localhost:8080/"
        },
        "id": "2TMv6MwjJ5Zi",
        "outputId": "f1474778-8194-4863-b403-7a0bee9a960b"
      },
      "execution_count": 9,
      "outputs": [
        {
          "output_type": "execute_result",
          "data": {
            "text/plain": [
              "5018"
            ]
          },
          "metadata": {},
          "execution_count": 9
        }
      ]
    },
    {
      "cell_type": "markdown",
      "source": [
        "# **Taking 90% for train dataset and 10% for test dataset**"
      ],
      "metadata": {
        "id": "smu9z96ufAoZ"
      }
    },
    {
      "cell_type": "code",
      "metadata": {
        "id": "V36gOIOfLHvB",
        "colab": {
          "base_uri": "https://localhost:8080/"
        },
        "outputId": "aa804253-dbc6-4cfe-9410-073469350b74"
      },
      "source": [
        "import re\n",
        "import pandas as pd\n",
        "from sklearn.model_selection import train_test_split\n",
        "\n",
        "# Read the dataset from the CSV file\n",
        "data = pd.read_csv(\"/content/drive/MyDrive/Story Generation/data.csv\")\n",
        "\n",
        "def build_text_files(data_csv, dest_path):\n",
        "    f = open(dest_path, 'w')\n",
        "    data = ''\n",
        "    for index, row in data_csv.iterrows():\n",
        "        summary = str(row['Story']).strip()\n",
        "        summary = re.sub(r\"[\\[\\]\\\"]\", \"\", summary)  # Remove square brackets and quotation marks\n",
        "        summary = re.sub(r\"\\s+\", \" \", summary)  # Replace multiple spaces with a single space\n",
        "        data += summary + \"  \"\n",
        "    f.write(data)\n",
        "\n",
        "train, test = train_test_split(data, test_size=0.10)\n",
        "\n",
        "build_text_files(train, '/content/drive/MyDrive/Story Generation/train_dataset.txt')\n",
        "build_text_files(test, '/content/drive/MyDrive/Story Generation/test_dataset.txt')\n",
        "\n",
        "print(\"Train dataset length:\", len(train))\n",
        "print(\"Test dataset length:\", len(test))\n"
      ],
      "execution_count": 10,
      "outputs": [
        {
          "output_type": "stream",
          "name": "stdout",
          "text": [
            "Train dataset length: 4516\n",
            "Test dataset length: 502\n"
          ]
        }
      ]
    },
    {
      "cell_type": "markdown",
      "source": [
        "# **Text Preprocessing**"
      ],
      "metadata": {
        "id": "EcHP54RZfGgo"
      }
    },
    {
      "cell_type": "code",
      "source": [
        "def read_text_file(file_path, num_examples=5):\n",
        "    with open(file_path, 'r') as file:\n",
        "        content = file.read()\n",
        "        examples = content.split('  ')  # Assuming '  ' is the separator between examples\n",
        "        for i, example in enumerate(examples[:num_examples]):\n",
        "            print(f\"Example {i+1}: {example}\")\n",
        "\n",
        "train_file_path = '/content/drive/MyDrive/Story Generation/train_dataset.txt'\n",
        "test_file_path = '/content/drive/MyDrive/Story Generation/test_dataset.txt'\n",
        "\n",
        "print(\"Examples from the Train Dataset:\")\n",
        "read_text_file(train_file_path)\n",
        "\n",
        "print(\"\\nExamples from the Test Dataset:\")\n",
        "read_text_file(test_file_path)\n"
      ],
      "metadata": {
        "colab": {
          "base_uri": "https://localhost:8080/"
        },
        "id": "atNeiMxnLMvd",
        "outputId": "41f96bc8-3a69-4767-e412-a4c49b2ce7d1"
      },
      "execution_count": 11,
      "outputs": [
        {
          "output_type": "stream",
          "name": "stdout",
          "text": [
            "Examples from the Train Dataset:\n",
            "Example 1: In the dimly lit streets of a bustling city, Detective Alex Walker slipped quietly through the shadows, his heart pounding with anticipation. His mission: to infiltrate the sinister web of a corrupt religious organization known as The Sanctum. The organization, which masqueraded as a beacon of spirituality, was rumored to be involved in illicit activities behind closed doors. Determined to expose their true nature, Alex had adopted the identity of a devoted disciple seeking enlightenment. Disguised in humble attire, Alex roamed the streets, careful to avoid any suspicious glances that might betray his true purpose. As he made his way to the entrance of The Sanctum, he couldn't help but marvel at the grandeur of the building before him. Its gray stone walls stood tall, adorned with intricate carvings depicting scenes of divine devotion. Entering the premises, Alex found himself in an ethereal sanctuary, illuminated by a cascade of sunlight streaming through stained-glass windows. Rows of pews lined the hall, each occupied by seemingly devout followers engrossed in prayer. As he cautiously moved forward, his eyes met those of Sister Margaret, a high-ranking member of The Sanctum, known for her unwavering dedication to the cause. Sister Margaret approached Alex, her eyes gleaming with unmistakable zeal. Welcome, my child, she said, her voice carrying an air of authority. May I assist you on your path to enlightenment? Alex composed himself, assuming the role of an eager neophyte. I have traveled far seeking answers, he responded humbly. I wish to understand the deeper truths this sacred place holds. Impressed by his display of devotion, Sister Margaret directed Alex to a secluded chamber where the inner workings of The Sanctum were said to unfold. Eager to unravel the organization's secrets, he entered the room with trepidation, prepared to navigate the labyrinth of deceit that lay ahead. Inside the chamber, Alex stumbled upon a clandestine meeting. Through a half-opened door, he glimpsed a circle of hooded figures engaged in whispered conversations. Their sinister aura bore testimony to the sinister underbelly of The Sanctum. Determined to gather undeniable evidence, Alex began meticulously documenting their discussions. He deciphered their cryptic language and uncovered a labyrinthine network of corruption extending far beyond what he had initially expected. The Sanctum, it seemed, was funneling its vast communal resources into illegal activities, exploiting the faith of its followers for personal gain. However, as Alex delved deeper into the secrets of The Sanctum, he realized that exposing the organization would not be as simple as he had hoped. The inner circle of The Sanctum was guarded by layers of protection, requiring not only wit but also cunning to bypass. Alex's breakthrough came when he discovered a hidden symbol within the chamber: a key to unlocking the organization's darkest secrets. Upon decoding its meaning, he learned of an upcoming ceremony where the leaders of The Sanctum would gather to discuss their nefarious plans. With the date set, Alex prepared meticulously. He assembled a team of trusted colleagues from the police force to aid in the takedown of The Sanctum. Armed with their collective knowledge, they hatched a plan to apprehend the leaders and reveal the truth to the world. Under the cover of darkness, just as the ceremony began, Alex and his team swooped in, arresting those responsible for the corruption that had tainted The Sanctum's reputation. The leaders, caught by surprise, could no longer hide behind the façade of spirituality. News of the operation spread like wildfire, causing shockwaves throughout the city. The arrest of The Sanctum's corrupt leaders marked a turning point in the fight against organized crime masquerading as a religious institution. The people rejoiced as justice prevailed, and the city began the slow process of healing from the trauma inflicted by The Sanctum. In the aftermath, Alex was commended for his bravery and expertise, an exemplar of what it meant to be a dedicated police officer. His undercover mission had not only exposed the corruption within The Sanctum but also dismantled a criminal organization masquerading as a religious institution. With his unwavering determination, Alex had given the city a glimmer of hope and a renewed faith in the power of righteousness. As the sun set on the city, casting long shadows across its streets, Detective Alex Walker found solace in knowing that his undercover mission had served its purpose. The corruption within The Sanctum had been unveiled, exposing the darkness hiding beneath its lofty ideals. Though scars remained, the unraveling of The Sanctum allowed the light to seep through, offering a chance for redemption, both for the city and those betrayed by the false promise of The Sanctum's embrace.\n",
            "Example 2: In the bustling city of New Stellara, technological advancement had reached unprecedented heights. The streets were lined with sleek electric cars gliding silently, while towering skyscrapers stood as testaments to mankind's progress. In this world, a brilliant and driven scientist named Dr. Arielle Morgan was at the forefront of cutting-edge biomedical technology. Her passion lay in 3D bioprinting for organ transplants, a revolutionary field that held the promise of saving countless lives. Dr. Morgan's lab was a marvel in itself, filled with state-of-the-art equipment and bustling with dedicated researchers. Here, they strived to develop a breakthrough bioprinting technique that would enable the creation of fully functioning organs. The possibilities were endless, but obstacles plagued their path. The scarcity of organ donors and the complexities of compatibility made the need for 3D bioprinting even more pressing. As fate would have it, amidst her tireless pursuit, Dr. Morgan received a call from a frantic woman named Mary Johnson. Hope tinged her voice as she explained that her young daughter Emily was suffering from a rare genetic heart condition. The doctors had given Emily only a few months to live, and Mary had heard whispers of Dr. Morgan's work. She poured her desperation into her plea, begging for a chance at saving her daughter through 3D bioprinting. Moved by Mary's heartfelt plea, Dr. Morgan agreed to take on Emily's case. The news spread like wildfire, carrying whispers of hope to those whose lives had been touched by organ failure. The city buzzed with anticipation, and the media descended upon Dr. Morgan's lab, eager to capture the unfolding story of technological prowess meeting human frailty. Guided by unwavering determination, Dr. Morgan and her team embarked on an intense research journey. Countless hours were spent meticulously designing and testing the bioinks, the synthetic inks used in 3D bioprinting, to ensure the printed organs would function seamlessly within the recipient's body. Their dedication knew no bounds as they worked tirelessly, driven by the weight of countless lives hanging in the balance. Months passed, and finally, a breakthrough occurred. After countless trials and errors, Dr. Morgan successfully bioprinted a fully functioning human heart. It was a moment of triumph, a testament to the power of human ingenuity. The world marveled at Dr. Morgan's achievement, hailing it as a turning point in medical science. But the challenges were far from over. The ultimate obstacle lay in transplanting the bioprinted organ into Emily's fragile body. The surgical procedure was complex, and the team had to overcome multiple hurdles to ensure its success. With the support and expertise of renowned transplant surgeon Dr. Benjamin Reed, they prepared for the moment that would define their life's work. Anticipation hung heavy in the air as the operation commenced. The world held its breath, collectively hoping for the success of this monumental endeavor. Hours passed like slow waves crashing against the shore, as the surgical team navigated the delicate intricacies of connecting blood vessels and integrating the new heart. It was a dance of precision and innovation, the culmination of years of tireless effort. Finally, the moment of truth arrived. Emily's new heart beat in sync with hers, breathing life into her weakened body. The operation was a resounding success, and the world erupted in applause for Dr. Morgan and her team. The boundaries of what was once thought impossible had been shattered, and a new era in medicine had begun. In the years that followed, Dr. Morgan's groundbreaking work became the cornerstone of organ transplantation. 3D bioprinting advanced at an astounding pace, as more scientists joined the cause, driven by the hope of saving lives. The scarcity of organ donors became a distant memory, as bioengineered organs became widely accessible. Emily, now a vibrant young woman, stood as a symbol of triumph over adversity, a walking testament to the transformative power of technology. And as the city of New Stellara swelled with gratitude, Dr. Morgan continued her tireless quest to push the boundaries of possibility, forever fueled by the unyielding belief that technology, driven by compassion, could change the world.\n",
            "Example 3: In the heart of a mist-shrouded town stood a grand mansion, its looming turrets piercing the night sky. This was Ravenswood Manor, a stately home that seemed eternally suspended in a realm betwixt reality and the otherworldly. Moss clung to its worn stone walls, and ivy cascaded down like creeping tendrils, as if nature itself sought to reclaim this desolate abode. Inside, the house whispered of forgotten secrets, and every creaking floorboard sang a mournful symphony. Enshrouded in darkness, Lucia Ashcroft, a young and intrepid filmmaker, embarked on an audacious endeavor. She sought to delve into the depths of Gothic storytelling, a genre that had forever titillated the senses and bewitched the imagination. Armed with her camera, a small crew, and a profound curiosity, Lucia aimed to capture the essence of this enigmatic world on celluloid. Lucia's obsession with Gothic themes was birthed from an early age, as she devoured classics like Mary Shelley's Frankenstein and Bram Stoker's Dracula. She yearned to evoke that same sense of foreboding and fascination in modern audiences. With this mission, Lucia and her crew began to delve into the haunting realm of Ravenswood Manor, hoping to bring its mystical tales to life. As the moon cast its pale glow upon the manor, Lucia directed her team to capture the eerie beauty that resided within its walls. The rustle of a velvet curtain, the flickering of candlelight, the fleeting shadow of a figure down a dimly lit corridor - every nuance was meticulously framed to enhance the Gothic allure. Each room whispered secrets, the air thick with a palpable sense of unease. Peering through her camera lens, Lucia sensed a disquieting presence within the manor's forsaken halls. Dark whispers echoed, compelling her to venture further into the labyrinthine depths, where the story she sought to unveil lay dormant. It was within the bowels of Ravenswood Manor that Lucia and her crew unearthed an aged diary, bound in cracked leather and inked with cryptic writings. The diary belonged to a former resident, Rebecca Montague, who had vanished under mysterious circumstances. The entries chronicled her descent into madness, her fears of a vengeful apparition haunting the manor's darkest corners. Intrigued and consumed by her discovery, Lucia knew this was the turning point for her film. Recreating Rebecca's tragedy would send shivers down the spines of audiences, beckoning them to question the fine line between reality and the supernatural. With the diary as her guide, Lucia began scripting an opus that would encapsulate the true essence of Gothic storytelling. Embracing the power of practical effects and atmospheric lighting, Lucia transformed Ravenswood Manor into a surreal dreamscape that mirrored the chilling tales of Gothic fiction. As cameras rolled, the veil between the living and the dead grew thin. Shadows danced upon the walls as the ghostly apparition of Rebecca Montague materialized before their eyes. Day and night merged into one, immersion blurring the boundaries of sanity and make-believe. The crew, spellbound by their own creation, succumbed to the narrative's hypnotic sway. In a torrent of emotions, fears once contained within nightmares found a pathway to reality, threatening to consume the filmmakers. With each passing day, the enraptured cast and crew lost control of the macabre entity they had summoned. Lucia, her grip on reality slipping, realized that she had unwittingly unlocked a realm where fiction wrestled with tangible horrors. Panic and chaos ensued as the walls of Ravenswood Manor crumbled into a maelstrom of supernatural terror. With the urgency of survival fueling their actions, Lucia and her crew pieced together the fragments of Rebecca Montague's diary. In her final entry, Rebecca had discovered a talisman – an ancient key that could banish the malevolent spirit forever. Desperate to restore order, Lucia led the brave remnants of her crew into the heart of darkness, their cameras serving as both shields and conduits for cinematic incantation. Through the crumbling ruins, they ventured, confronted with ghastly apparitions, specters of despair, and a maddening cacophony that threatened to smother every semblance of hope. But Lucia's tenacity proved unwavering, fueled by a fearlessness reminiscent of her adored protagonists from Gothic literature. Within the oppressive gloom, Lucia spotted the specter of Rebecca Montague, her mournful eyes pleading for release from a world caught between realms. With trepidation, she approached, the ancient key clutched tightly in her trembling hand. As the ethereal figure reached out, Lucia unlocked the gateway to salvation. In a blinding burst of light, the spirit of Rebecca Montague evaporated, leaving the fallen walls of Ravenswood Manor empty once more. The darkness retreated, replaced by the glow of dawning daylight. Lucia and her crew emerged, their harrowing journey transforming into a tale that would live forever on celluloid. Returning to the realm of the living, the filmmakers realized the transformative power of the Gothic genre. Its twisted beauty and fantastical horrors had left an indelible mark upon their souls. Lucia pledged to unleash this captivating darkness onto the silver screen, forever embodying the essence of Gothic storytelling in the realm of film. Thus, a symphony of light and shadows woven from the strands of Gothic mystery arose, beckoning audiences into a realm where nightmares and dreams intertwine. And in that haunting tapestry, the legacy of Lucia Ashcroft and the eerie allure of Ravenswood Manor would forever endure, ensuring the Gothic would forever reign supreme in the realm of film and television.\n",
            "Example 4: In the quaint town of Ravenswood, nestled among the towering ancient trees and veiled in an eternal shroud of mist, there lay a graveyard, solemn and eerie under the watchful gaze of the moon. The air was thick with mystery, and the gravestones, weathered and crooked, stood as sentinels marking the resting place of the deceased. Within this gothic realm, where time seemed to stand still, a tale of darkness and redemption unfolded. Amid the delicate balance of light and shadows, there lived a young woman named Amelia. With jet-black hair cascading down her porcelain skin and eyes the color of midnight, she exuded an ethereal beauty that captivated the hearts of those who dared to meet her gaze. Amelia possessed an old soul, tormented by a haunted past that clung to her delicate frame. One moonlit evening as Amelia ventured into the cemetery, her heart heavy with an unspoken despair, she discovered a hidden path, obscured by an overgrown briar. Intrigued by the secrets it promised to reveal, she hesitantly stepped forward, the crunch of autumn leaves beneath her feet the only sound in the stillness. As Amelia followed the winding trail, she stumbled upon an ancient grave, forgotten by time. The inscription on the moss-covered headstone read: Here lies Edgar Langley, a tortured soul, seeking solace in death. Amelia's heart skipped a beat as she felt an inexplicable connection to the departed spirit. Intrigued by Edgar's tragic story, Amelia embarked on a quest to uncover the truth about his untimely demise. Through dusty archives and aged books, she pieced together a tale of betrayal and revenge—a tale that wove the fabric of darkness within the fabric of her own family history. As the days turned into nights, Amelia delved deeper into the secrets of Ravenswood, unravelling the threads of the past, adorned with whispered legends and long-forgotten lore. The cemetery itself became her sanctuary, its solemn beauty a refuge from the chaos of the living world. Amid her quest, Amelia encountered a stranger named Gabriel, a brooding figure with piercing green eyes that mirrored her own pain. Though their meeting was fated, their connection was shrouded in enigma, bound by a shared sorrow and a shared destiny. Together, Amelia and Gabriel unraveled the web of darkness, confronting long-buried secrets and unlocking the gateway to redemption. In a climactic night, under the pale glow of the moon, they discovered the truth about Edgar Langley's demise—his life stolen by a bitter rival, his spirit bound to the graveyard until justice was served. With courage pulsating in their veins, Amelia and Gabriel confronted the tormentors of the past, ensuring that the sins of Ravenswood were finally laid to rest. Love and sacrifice intertwined as they unearthed the truth, freeing Edgar Langley's spirit from its eternal torment, and in turn, releasing the shackles that had bound Amelia's tormented soul. As dawn broke over the cemetery, the air felt lighter, infused with a newfound sense of peace. The sun's gentle rays caressed the gravestones, casting a warm glow upon the once-gloomy realm. Amelia and Gabriel, forever linked by their shared journey, stood hand in hand, gazing upon a horizon teeming with possibilities. And so, in the heart of Ravenswood, where shadows danced and the echoes of the past lingered, a tale of darkness and redemption was etched into the fabric of time, reminding all who came after that even in the most gothic of places, there can still be a glimmer of hope, and that in the stillness of the graveyard, life can be born anew.\n",
            "Example 5: In the heart of a bustling metropolis, where skyscrapers kissed the clouds and the streets hummed with life, there lived a young and ambitious engineer named Ethan. From a tender age, Ethan had been fascinated by the untapped potential of technology and the transformative power it held. With a relentless curiosity and an unwavering determination, he dedicated himself to pushing the boundaries of what was possible. Ethan's passion for technological advancement had always been intertwined with his deep-rooted concern for the environment. He firmly believed that the key to a sustainable future lay in renewable energy technologies. Day and night, he immersed himself in research, tirelessly seeking innovative solutions to harness the power of the sun, wind, and water, and transform it into clean and renewable energy. As he delved deeper into his studies, Ethan's name began to resonate within the scientific community. One fateful day, he received an invitation that would forever alter the course of his life. The prestigious International Renewable Energy Symposium was being held in a scenic coastal town, gathering the brightest minds from around the world. It was an extraordinary opportunity to showcase his groundbreaking research on solar energy conversion. With a determined stride, Ethan entered the symposium hall, greeted by an enthusiastic buzz of anticipation. The space was adorned with posters, each displaying cutting-edge renewable energy technologies, capturing the attention of the attendees. Among the crowd, Ethan spotted Dr. Olivia Bennett, a renowned physicist and a leading advocate for renewable energy. She had been an inspiration to him throughout his career, and now, he would have the chance to learn from her firsthand. Ethan's presentation on his new solar panel technology was met with resounding applause. His invention promised to revolutionize the industry, imbuing solar panels with unprecedented efficiency and affordability. Dr. Bennett's eyes twinkled with intrigue as she approached him, extending her hand in congratulation. Impressed by his work, she offered Ethan an opportunity of a lifetime - a position at her renewable energy research institute tucked away deep in the mountains. Eager to collaborate with experts in the field, Ethan eagerly accepted the offer and embarked on a journey that would test his mettle like never before. At the heart of the research institute, Ethan found himself surrounded by a brilliant and diverse team of scientists, engineers, and visionaries. Together, they set out to tackle the most pressing challenges hindering the widespread adoption of renewable energy technologies. From improving battery storage capacities to optimizing wind turbine efficiency, they left no stone unturned. Months turned into years as Ethan and his team toiled away, tirelessly refining their innovations. Their perseverance paid off when they unveiled a breakthrough in energy storage technology. Their novel solution rendered conventional batteries obsolete, offering a longer lifespan, faster charging times, and reduced environmental impact. The world was captivated by their achievement, and the demand for renewable energy soared. Nonetheless, amidst their success, a staunch opposition emerged from powerful entities profiting from traditional energy sources. Lobbyists and politicians waged a war against renewable energy, spreading misinformation and sowing seeds of doubt among the public. The future of sustainable technology hung in the balance, threatening to undo years of progress. Ethan realized that they needed a different approach – one that could sway the hearts and minds of the masses. Leveraging his expertise in communication technologies, he spearheaded a grassroots movement, fueled by education and awareness. Taking to social media, public lectures, and community engagement, they dispelled myths and highlighted the environmental, social, and economic benefits of renewable energy technologies. Their message resonated with people from all walks of life, transcending borders and boundaries. The movement grew exponentially, spawning a wave of renewable energy enthusiasts who demanded change. Governments began to take notice, enacting policies and incentives that encouraged the adoption of clean energy. As the tide of public opinion shifted, the opposition waned, realizing they could no longer deny the undeniable benefits of renewable energy technologies. They begrudgingly embraced a future where sustainable practices were the norm rather than the exception. The world had become a greener, cleaner place, thanks to the indomitable spirit of Ethan and his comrades. In the end, technological advancement and the untiring pursuit of renewable energy technologies prevailed. Ethan's unwavering commitment had transformed a dream into a reality, illuminating a path towards a brighter and more sustainable future for all. And as he stood atop a wind-swept hill, watching rows of sleek solar panels and towering wind turbines, he knew that his journey had only just begun.\n",
            "\n",
            "Examples from the Test Dataset:\n",
            "Example 1: In the humble town of Newbridge, nestled in the heartland of the countryside, there lived a peculiar man named Barnaby Grimsby. Tall and hunched, with a shock of unruly gray hair and a perpetual crinkle of mischief in his eyes, Barnaby was the local satirist. With his sharp wit and cutting tongue, he sought to expose the follies and absurdities of society. But it was not just any society that captured Barnaby's satirical commentary—it was the glaring social inequality and rampant poverty that plagued the town. As the sun rose on another day in Newbridge, Barnaby set out on his mission of enlightenment. He wore a tattered coat, threadbare pants, and mismatched shoes, a deliberate choice to mirror the destitution that plagued so many. Armed with his trusty quill and boundless imagination, he roamed the cobblestone streets, observing the townsfolk and seeking inspiration for his biting commentary. At the center of Newbridge stood a grand mansion, belonging to Lord Percival Kingston, a self-proclaimed benefactor of the town. Dressed in exquisite garments and parading his wealth, Lord Kingston was the epitome of obliviousness to the suffering that surrounded him. Barnaby couldn't resist the opportunity to satirize this glaring hypocrisy. One fateful evening, during the annual masquerade ball held at Lord Kingston's mansion, Barnaby concocted an audacious plan. Disguised as a wealthy nobleman, he mingled with the elite, blending seamlessly in their opulent surroundings. As the night wore on, Barnaby skillfully steered conversations toward the topic of poverty, slowly revealing his knowledge of the cruel realities faced by the less fortunate. Word spread like wildfire throughout the grand ballroom, and soon whispers of Barnaby's presence reached Lord Kingston's ears. Filled with curiosity and amusement, Lord Kingston invited Barnaby to a private salon, where the two men engaged in a battle of wits and words. Barnaby pulled no punches as he charmed Lord Kingston with glittering tales of opulence and extravagance. With a subtle twist, he would then sprinkle his conversation with hard-hitting tales of the impoverished, their strife, and the inequality rampant in Newbridge. Slowly, but surely, Barnaby chipped away at the nobleman's facade. Days turned into weeks, and Barnaby's relentless satire began to stir something deep within Lord Kingston's conscience. The stark contrast between the lavish lifestyle he luxuriated in and the underprivileged citizens he rarely encountered plagued his mind. In sleepless nights, he questioned his role in perpetuating social inequality. And so it came to pass that Lord Kingston, struck by an epiphany, issued a public decree. He vowed to distribute a portion of his immense wealth to alleviate the suffering of the impoverished in Newbridge. The townspeople, once skeptical of his intentions, were astounded by his genuine desire for change. Barnaby watched from a distance as the town he loved began to transform. His biting satire had sparked a revolution of empathy, paving the way for a more equitable society. He continued to pen his witty commentaries, but now they carried a glimmer of hope, a call for unity and compassion. In the years that followed, Newbridge became a beacon of change. Lord Kingston's act of philanthropy inspired other wealthy individuals to follow suit, leading to the establishment of schools, hospitals, and welfare organizations. Poverty still existed, but its grip on the town had weakened significantly. And so, the tale of Barnaby Grimsby, the satirist of Newbridge, reached its poignant conclusion. His sharp quill, combined with the vulnerability of biting social commentary, had brought about a metamorphosis in the hearts and minds of the townspeople. Barnaby's legacy of satire, fused with a call for justice, would forever be cherished in the annals of Newbridge's history, serving as a reminder that even the bleakest of circumstances could be transformed by the power of words and the unwavering pursuit of equality.\n",
            "Example 2: In a small town nestled amidst rolling hills and colorful meadows, there lived a spirited young woman named Emily. With her eyes alight with dreams and her heart brimming with passion, she longed to share her deep love for music with the world. Residing in this idyllic countryside, Emily yearned to uncover the secrets of melodies that echoed through the ages, for she firmly believed that music could transcend boundaries and unite souls. Little did she know that her journey would intertwine with a profound exploration of national anthems and their cultural significance. As Emily eagerly practiced her piano, her fingers dancing over the keys, her voice lifted in song, the townspeople couldn't help but be captivated by her enchanting performances. They gathered in the town square, drawn by the irresistible allure of her music. It was at one such gathering where Emily's talent caught the attention of Professor Michael Jefferson, a renowned musicologist with a deep fascination for the cultural power of national anthems. Curiosity ignited within Professor Jefferson as he watched Emily's fingers delicately caress the piano keys, effortlessly weaving a tapestry of emotions. He approached her with a gentle smile, extending an invitation to join him on a journey of discovery. Emily, filled with excitement and a thirst for knowledge, readily accepted his offer, eager to unravel the hidden stories locked within the notes of national anthems. Together, they embarked on a voyage through time and space, tracing the roots of national anthems from distant lands. From the epic and stirring melodies of the French La Marseillaise to the haunting beauty of Japan's Kimigayo, they reveled in the diversity and significance of each composition. Every interaction and exchange carried them deeper into the rich tapestry of humanity's musical heritage, enlightening them about the profound cultural bond that national anthems forged within societies. However, their voyage encountered turbulent waters when they stumbled upon a forgotten, yet incredibly powerful national anthem. It belonged to a war-torn nation where division and strife had torn the fabric of society apart. The anthem, known as The Song of Unity, had the potential to heal the wounds and bridge the chasms that had plagued the nation for decades. With hearts brimming with hope, Emily and Professor Jefferson made it their mission to restore the forgotten anthem to its rightful place in the hearts of the people. Through tireless research, they discovered that the words and melodies of the anthem held within them an inherent power to invoke unity, foster empathy, and inspire change. Bravely, they took to the streets, inviting all citizens to gather in the town square to witness the revitalization of this long-lost anthem. As the people assembled, the air crackled with anticipation. Emily took her place at the piano, and as her fingers danced across the keys, the melodies of The Song of Unity gracefully filled the space. The notes resonated within the souls of the onlookers, stirring emotions long suppressed by the unyielding force of division. Tears streamed down weathered faces, and hands interlocked in a newfound sense of solidarity. As the anthem reached its crescendo, the people erupted with thunderous applause, their voices joining in a triumphant chorus. In that moment, the power of music, harmonized with the cultural significance of the national anthem, had triumphed over discord, fostering compassion and healing the irrevocable wounds of the past. From that day forward, the town thrived as a haven of harmony and understanding. The story of Emily and Professor Jefferson's musical odyssey, intertwined with the exploration of national anthems and their cultural significance, became a legend passed down through generations. The people of the town celebrated their poignant journey, recognizing the everlasting bond between music and the cultural fabric of society. And there, amidst the rolling hills and colorful meadows, the transformative power of melody continued to echo, reminding all who listened of the transformative force that music, together with national anthems, encompassed.\n",
            "Example 3: In the bustling halls of St. Mary's Hospital, amidst the whirlwind of beeping machines and urgent footsteps, stood Sarah Collins, a seasoned ER nurse with a heart of gold. The early morning light streamed through the windows, casting a warm glow on the sterile surroundings. Sarah, with her radiant smile and caring demeanor, was beloved by patients and colleagues alike. As she prepared for her shift, donning her crisp navy scrubs and tying her hair into a neat bun, Sarah's mind braced for the unpredictable day ahead. Today, she would be faced with the relentless flow of patients, each with their own unique story, pain, and hope. The ER, she knew, was a melting pot of human experiences. As the clock chimed 7, signaling the start of her shift, the ER doors swung open, revealing a flurry of activity. Sarah's heart quickened as she prepared herself mentally for the intricate dance that awaited her. She took her position at the triage desk, where she would assess the urgency of each patient's situation and prioritize their care accordingly. The day unfolded with a symphony of emotions, as Sarah attended to broken bones, fevers, and anguished cries. With each patient, she employed her gentle touch, offering words of comfort and reassurance. Be it stitching up a laceration or providing pain relief to those in need, Sarah's dedication to her craft shone through, unwavering and unwaveringly compassionate. Amidst the cadence of the ER, a particularly challenging case presented itself. A young boy named Tommy was rushed in, his face pale and his body wracked with coughs. Sarah's heart ached as she observed his distressed parents, their eyes filled with terror. Time seemed to stand still as she worked tirelessly to stabilize Tommy, coordinating swiftly with the medical team to administer lifesaving treatments. Hours turned into minutes as the ER became a whirlwind of activity. Sarah's adrenaline surged, propelling her forward into an endless cycle of healing. Yet, deep within her, fatigue threatened to take its toll. The weight of responsibility, the constant surge of emotions, and the demanding physicality of the job gnawed at her like a persistent ache. As the sun began its descent, Sarah's resolve remained steadfast. She knew that her purpose was to be the guiding light in the darkest hours of others. And so, with weary legs and a fierce determination, she pressed on. Finally, as the night settled in, a calmness washed over the ER. Sarah's eyes, heavy with exhaustion, took a moment to survey the space around her. The bustling chaos had transformed into a sanctuary of tranquility. She could almost hear the collective sigh of relief from both patients and staff. In the depths of that stillness, Sarah's unwavering commitment and unwavering strength found their reward. Tommy, the young boy she had fought so ardently for, slept peacefully, his fever subsiding and his breathing steady. His parents, worn but grateful, clung to each other, tears of relief streaming down their faces. Sarah, humbled by the impact of her work, felt a profound sense of fulfillment. In the face of all the heartaches and uncertainties that shadowed the ER, she was reminded of the power of resilience, compassion, and the unwavering spirit of those who dedicate their lives to healing. The morning sun peeked over the horizon, casting a golden glow on the world outside. As Sarah bid farewell to the ER, her steps carried a newfound sense of purpose. She knew that tomorrow would bring new challenges, new stories, and new lives to touch. And for that, she would forever be grateful – for the privilege of being an unsung hero in the ever-unfolding drama of life.\n",
            "Example 4: In the bustling metropolis of NeoTech City, where the gleaming skyscrapers reached for the heavens and hovercars whizzed through the air like shooting stars, a young biohacker named Ethan Darrow toiled away in his hidden laboratory. Lit by the soft glow of monitors displaying complex strands of DNA code, Ethan feverishly worked towards his goal of harnessing the power of genetic modifications for the betterment of mankind. Ethan, with his unruly mop of jet-black hair and piercing blue eyes, had always been fascinated by the endless possibilities that the future held. He dreamed of a world where illnesses could be eradicated, where physical prowess could be enhanced, and where even the limitations of the human mind could be overcome. Inspired by the stories of the great biohackers who had come before him, he dedicated himself to pushing the boundaries of scientific discovery. In the heart of NeoTech City, Ethan was considered somewhat of a prodigy. He had gained a reputation for his remarkable aptitude in genetic engineering and his ability to push the limits of what was thought to be possible. He had a small circle of like-minded friends who shared his passion for biohacking, and together they formed a clandestine group known as the Gene Guardians. One evening, as Ethan worked diligently in his lab, he received an urgent message from his friend and fellow biohacker, Zoe. Something had gone horribly wrong with one of her experiments, and she needed Ethan's expertise to help her fix it. Intrigued and concerned, Ethan quickly packed his gear and made his way to Zoe's secret laboratory located on the outskirts of NeoTech City. Upon arriving at Zoe's laboratory, Ethan found her in a state of distress. Her usually vibrant green eyes were clouded with worry as she explained the situation. In her quest to unlock the secrets of intelligence enhancement, Zoe had inadvertently unleashed a strain of genetically modified bacteria that was rapidly multiplying and causing havoc in her lab. Realizing the potential danger this posed, Ethan activated the laboratory's containment protocols, sealing off the area and cutting off any possibility of the bacteria escaping into the city. Together, Ethan and Zoe began to analyze the bacteria and devise a solution to neutralize their unintended creation. After hours of tireless work, Ethan and Zoe made a breakthrough. They discovered a gene sequence that, when targeted with a specific enzyme, would trigger the bacteria to self-destruct. With this newfound knowledge, they swiftly synthesized the enzyme and administered it to the bacteria. As the last remnants of the bacteria disintegrated, Ethan and Zoe let out a collective sigh of relief. They had successfully averted what could have been a catastrophic event, safeguarding not only the city but also the reputation of the Gene Guardians. Eager to prevent any future mishaps, Ethan proposed the establishment of a dedicated research facility, funded by the city, where biohackers like themselves could explore the boundaries of genetic modifications under controlled conditions. Recognizing the potential benefits such a facility could bring, the city's governing council readily agreed and pledged their support. And so, NeoTech City became a beacon of futuristic innovation, a hub where biohacking and genetic modifications were embraced and carefully monitored. The city's residents marveled at the cutting-edge advancements that were ushered in, from the eradication of previously incurable diseases to the development of cognitive enhancements that propelled humanity to new heights of intellectual prowess. Ethan and Zoe, along with their fellow Gene Guardians, continued to push the boundaries of what was possible while ensuring the ethical and responsible use of genetic modifications. In this brave new world of the future, the power of biohacking stood as a testament to human ingenuity and the endless possibilities that awaited mankind.\n",
            "Example 5: In the small town of Elmwood, nestled among the rolling hills of a picturesque countryside, lived the Parker family. They were known for their close-knit bond, spending Sundays picnicking at the nearby river and gathering for family dinners every Friday night. John and Emily Parker, the parents, had two children: Michael, an ambitious lawyer, and Sarah, a talented pianist. As the Parkers reveled in their seemingly idyllic life, little did they know that behind the walls of their cozy home, family secrets lay waiting to be unearthed. Part 1: The scent of fresh earth danced through the air in Elmwood as autumn arrived, gently painting the trees with fiery hues. The Parkers, like the rest of the town, were abuzz with excitement for the annual Fall Festival. This year, a small circus troupe was headlining the event with an impressive array of acrobats, tightrope walkers, and extraordinary performers. The whispered rumor among the townsfolk was that one of the acrobats had a striking resemblance to Emily Parker, the matriarch of the family. During the festival's opening night, the Parkers made their way through the bustling crowd. Suddenly, Sarah, the youngest of the family, froze upon catching sight of the acrobat. Her heart thudded in her chest as she realized the uncanny resemblance between the performer and her mother. Sarah's mind was whirling with questions, but she chose to keep her discovery to herself, not wanting to disrupt their harmonious family life. Part 2: As months passed, Sarah's curiosity consumed her. Unable to suppress her suspicions any longer, she decided to delve deeper into her mother's past. She discreetly searched through old photo albums, discarded letters, and hidden compartments, hoping to unravel the enigma shrouding her mother's identity. One afternoon, she stumbled upon an aged newspaper article, revealing the truth of her mother's secret past. Emily Parker had once been hailed as a talented trapeze artist known as The Flying Swan. With the weight of the secret bearing down on Sarah, she found herself torn between exposing the truth to her family or keeping the secret locked away forever. Knowing that the revelation could bring both joy and pain, she cautiously approached her mother one evening, gently revealing her discovery. Emily's eyes welled with tears as she confessed that before meeting John, she had led a life filled with leaps and twirls, soaring through the air to the applause of enraptured audiences. Part 3: The revelation sent ripples through the Parker family. Michael, unable to contain his astonishment, couldn't help but imagine the vibrant world his parents had hidden from them. Discussions were spurred, and the family found solace in sharing their deepest desires and regrets. Emily, with trepidation, contacted her former circus companions, reigniting her passion for the stage. The family rallied behind her, offering unwavering support and encouragement. With the Fall Festival approaching once again, the Parkers decided it was time to unveil the hidden talents that lay within their own family. Together, they devised a plan to create a memorable performance, a tribute to Emily's past life as The Flying Swan. Michael showcased his flair for storytelling through a tailored script, while Sarah's nimble fingers danced across the piano keys, composing an original score that resonated with every heart in the audience. As the night of the performance arrived, the townsfolk gathered under the starry sky. Emily, adorned in her vibrant circus attire, took center stage, ready to reclaim a piece of her past. The crowd held its breath as she gracefully ascended the trapeze, embracing her true self with every breathtaking stunt. It was a performance that transcended words, touching the deepest corners of the spectator's souls. At the culmination of the performance, not only did the Parkers discover the beauty of their family's legacy, but the town of Elmwood celebrated the unbreakable bond of family and the indomitable spirit that lies in facing one's past. From that moment on, the Parkers lived in harmony with their newfound truth, cherishing every moment and nurturing their dreams with unwavering determination.\n"
          ]
        }
      ]
    },
    {
      "cell_type": "markdown",
      "source": [
        "# **GPT2 and its tokenizer**\n",
        "### **https://huggingface.co/gpt2**"
      ],
      "metadata": {
        "id": "iL2K-XBhfMrg"
      }
    },
    {
      "cell_type": "code",
      "metadata": {
        "id": "VCaunLMtlPfw",
        "colab": {
          "base_uri": "https://localhost:8080/"
        },
        "outputId": "e70135a2-9e15-4ea8-ec69-e5e2e08b6a61"
      },
      "source": [
        "from transformers import AutoTokenizer, AutoModelForCausalLM\n",
        "tokenizer = AutoTokenizer.from_pretrained('gpt2')\n",
        "model = AutoModelForCausalLM.from_pretrained('gpt2')"
      ],
      "execution_count": 12,
      "outputs": [
        {
          "output_type": "stream",
          "name": "stderr",
          "text": [
            "/usr/local/lib/python3.10/dist-packages/huggingface_hub/utils/_token.py:72: UserWarning: \n",
            "The secret `HF_TOKEN` does not exist in your Colab secrets.\n",
            "To authenticate with the Hugging Face Hub, create a token in your settings tab (https://huggingface.co/settings/tokens), set it as secret in your Google Colab and restart your session.\n",
            "You will be able to reuse this secret in all of your notebooks.\n",
            "Please note that authentication is recommended but still optional to access public models or datasets.\n",
            "  warnings.warn(\n",
            "/usr/local/lib/python3.10/dist-packages/huggingface_hub/utils/_token.py:72: UserWarning: \n",
            "The secret `HF_TOKEN` does not exist in your Colab secrets.\n",
            "To authenticate with the Hugging Face Hub, create a token in your settings tab (https://huggingface.co/settings/tokens), set it as secret in your Google Colab and restart your session.\n",
            "You will be able to reuse this secret in all of your notebooks.\n",
            "Please note that authentication is recommended but still optional to access public models or datasets.\n",
            "  warnings.warn(\n"
          ]
        }
      ]
    },
    {
      "cell_type": "code",
      "source": [
        "train_path = '/content/drive/MyDrive/Story Generation/test_dataset.txt'\n",
        "test_path = '/content/drive/MyDrive/Story Generation/test_dataset.txt'"
      ],
      "metadata": {
        "id": "TI1D58qiMLXG"
      },
      "execution_count": 13,
      "outputs": []
    },
    {
      "cell_type": "markdown",
      "source": [
        "# **Prepare the dataset and build a TextDataset**\n",
        "* The next step is to extract the instructions from all recipes and build a TextDataset. The TextDataset is a custom implementation of the Pytroch Dataset class implemented by the transformers library.\n",
        "\n",
        "* The block_size parameter is used to specify the maximum length of each sequence or block of text. Text longer than this length will be divided into consecutive blocks of this specified size.\n",
        "\n",
        "* For example, if we set block_size=128, the text will be processed in blocks of 128 tokens. Any sequence longer than 128 tokens will be divided into smaller consecutive blocks of 128 tokens each."
      ],
      "metadata": {
        "id": "P7kddCl1hjAI"
      }
    },
    {
      "cell_type": "code",
      "metadata": {
        "id": "m9lHS0mIMak4",
        "colab": {
          "base_uri": "https://localhost:8080/"
        },
        "outputId": "3480fd23-4a53-4ae2-8a60-e1400cc28710"
      },
      "source": [
        "from transformers import TextDataset,DataCollatorForLanguageModeling\n",
        "\n",
        "def load_dataset(train_path,test_path,tokenizer):\n",
        "    train_dataset = TextDataset(\n",
        "          tokenizer=tokenizer,\n",
        "          file_path=train_path,\n",
        "          block_size=128)\n",
        "\n",
        "    test_dataset = TextDataset(\n",
        "          tokenizer=tokenizer,\n",
        "          file_path=test_path,\n",
        "          block_size=128)\n",
        "\n",
        "    data_collator = DataCollatorForLanguageModeling(\n",
        "        tokenizer=tokenizer, mlm=False,\n",
        "    )\n",
        "    return train_dataset,test_dataset,data_collator\n",
        "\n",
        "train_dataset,test_dataset,data_collator = load_dataset(train_path,test_path,tokenizer)"
      ],
      "execution_count": 14,
      "outputs": [
        {
          "output_type": "stream",
          "name": "stderr",
          "text": [
            "/usr/local/lib/python3.10/dist-packages/transformers/data/datasets/language_modeling.py:53: FutureWarning: This dataset will be removed from the library soon, preprocessing should be handled with the 🤗 Datasets library. You can have a look at this example script for pointers: https://github.com/huggingface/transformers/blob/main/examples/pytorch/language-modeling/run_mlm.py\n",
            "  warnings.warn(\n"
          ]
        }
      ]
    },
    {
      "cell_type": "code",
      "source": [
        "!pip install transformers[torch]"
      ],
      "metadata": {
        "colab": {
          "base_uri": "https://localhost:8080/"
        },
        "id": "IXqJxE-3Nx1a",
        "outputId": "c1ad6055-8c5a-4e7f-c4e7-a748368646f0"
      },
      "execution_count": 15,
      "outputs": [
        {
          "output_type": "stream",
          "name": "stdout",
          "text": [
            "Requirement already satisfied: transformers[torch] in /usr/local/lib/python3.10/dist-packages (4.36.2)\n",
            "Requirement already satisfied: filelock in /usr/local/lib/python3.10/dist-packages (from transformers[torch]) (3.13.1)\n",
            "Requirement already satisfied: huggingface-hub<1.0,>=0.19.3 in /usr/local/lib/python3.10/dist-packages (from transformers[torch]) (0.20.1)\n",
            "Requirement already satisfied: numpy>=1.17 in /usr/local/lib/python3.10/dist-packages (from transformers[torch]) (1.23.5)\n",
            "Requirement already satisfied: packaging>=20.0 in /usr/local/lib/python3.10/dist-packages (from transformers[torch]) (23.2)\n",
            "Requirement already satisfied: pyyaml>=5.1 in /usr/local/lib/python3.10/dist-packages (from transformers[torch]) (6.0.1)\n",
            "Requirement already satisfied: regex!=2019.12.17 in /usr/local/lib/python3.10/dist-packages (from transformers[torch]) (2023.6.3)\n",
            "Requirement already satisfied: requests in /usr/local/lib/python3.10/dist-packages (from transformers[torch]) (2.31.0)\n",
            "Requirement already satisfied: tokenizers<0.19,>=0.14 in /usr/local/lib/python3.10/dist-packages (from transformers[torch]) (0.15.0)\n",
            "Requirement already satisfied: safetensors>=0.3.1 in /usr/local/lib/python3.10/dist-packages (from transformers[torch]) (0.4.1)\n",
            "Requirement already satisfied: tqdm>=4.27 in /usr/local/lib/python3.10/dist-packages (from transformers[torch]) (4.66.1)\n",
            "Requirement already satisfied: torch!=1.12.0,>=1.10 in /usr/local/lib/python3.10/dist-packages (from transformers[torch]) (2.1.0+cu121)\n",
            "Requirement already satisfied: accelerate>=0.21.0 in /usr/local/lib/python3.10/dist-packages (from transformers[torch]) (0.25.0)\n",
            "Requirement already satisfied: psutil in /usr/local/lib/python3.10/dist-packages (from accelerate>=0.21.0->transformers[torch]) (5.9.5)\n",
            "Requirement already satisfied: fsspec>=2023.5.0 in /usr/local/lib/python3.10/dist-packages (from huggingface-hub<1.0,>=0.19.3->transformers[torch]) (2023.6.0)\n",
            "Requirement already satisfied: typing-extensions>=3.7.4.3 in /usr/local/lib/python3.10/dist-packages (from huggingface-hub<1.0,>=0.19.3->transformers[torch]) (4.5.0)\n",
            "Requirement already satisfied: sympy in /usr/local/lib/python3.10/dist-packages (from torch!=1.12.0,>=1.10->transformers[torch]) (1.12)\n",
            "Requirement already satisfied: networkx in /usr/local/lib/python3.10/dist-packages (from torch!=1.12.0,>=1.10->transformers[torch]) (3.2.1)\n",
            "Requirement already satisfied: jinja2 in /usr/local/lib/python3.10/dist-packages (from torch!=1.12.0,>=1.10->transformers[torch]) (3.1.2)\n",
            "Requirement already satisfied: triton==2.1.0 in /usr/local/lib/python3.10/dist-packages (from torch!=1.12.0,>=1.10->transformers[torch]) (2.1.0)\n",
            "Requirement already satisfied: charset-normalizer<4,>=2 in /usr/local/lib/python3.10/dist-packages (from requests->transformers[torch]) (3.3.2)\n",
            "Requirement already satisfied: idna<4,>=2.5 in /usr/local/lib/python3.10/dist-packages (from requests->transformers[torch]) (3.6)\n",
            "Requirement already satisfied: urllib3<3,>=1.21.1 in /usr/local/lib/python3.10/dist-packages (from requests->transformers[torch]) (2.0.7)\n",
            "Requirement already satisfied: certifi>=2017.4.17 in /usr/local/lib/python3.10/dist-packages (from requests->transformers[torch]) (2023.11.17)\n",
            "Requirement already satisfied: MarkupSafe>=2.0 in /usr/local/lib/python3.10/dist-packages (from jinja2->torch!=1.12.0,>=1.10->transformers[torch]) (2.1.3)\n",
            "Requirement already satisfied: mpmath>=0.19 in /usr/local/lib/python3.10/dist-packages (from sympy->torch!=1.12.0,>=1.10->transformers[torch]) (1.3.0)\n"
          ]
        }
      ]
    },
    {
      "cell_type": "code",
      "source": [
        "!pip install accelerate -U"
      ],
      "metadata": {
        "colab": {
          "base_uri": "https://localhost:8080/"
        },
        "id": "_YJKIQe_NjTN",
        "outputId": "e1911c48-5c55-4104-b294-ce8326922c97"
      },
      "execution_count": 16,
      "outputs": [
        {
          "output_type": "stream",
          "name": "stdout",
          "text": [
            "Requirement already satisfied: accelerate in /usr/local/lib/python3.10/dist-packages (0.25.0)\n",
            "Requirement already satisfied: numpy>=1.17 in /usr/local/lib/python3.10/dist-packages (from accelerate) (1.23.5)\n",
            "Requirement already satisfied: packaging>=20.0 in /usr/local/lib/python3.10/dist-packages (from accelerate) (23.2)\n",
            "Requirement already satisfied: psutil in /usr/local/lib/python3.10/dist-packages (from accelerate) (5.9.5)\n",
            "Requirement already satisfied: pyyaml in /usr/local/lib/python3.10/dist-packages (from accelerate) (6.0.1)\n",
            "Requirement already satisfied: torch>=1.10.0 in /usr/local/lib/python3.10/dist-packages (from accelerate) (2.1.0+cu121)\n",
            "Requirement already satisfied: huggingface-hub in /usr/local/lib/python3.10/dist-packages (from accelerate) (0.20.1)\n",
            "Requirement already satisfied: safetensors>=0.3.1 in /usr/local/lib/python3.10/dist-packages (from accelerate) (0.4.1)\n",
            "Requirement already satisfied: filelock in /usr/local/lib/python3.10/dist-packages (from torch>=1.10.0->accelerate) (3.13.1)\n",
            "Requirement already satisfied: typing-extensions in /usr/local/lib/python3.10/dist-packages (from torch>=1.10.0->accelerate) (4.5.0)\n",
            "Requirement already satisfied: sympy in /usr/local/lib/python3.10/dist-packages (from torch>=1.10.0->accelerate) (1.12)\n",
            "Requirement already satisfied: networkx in /usr/local/lib/python3.10/dist-packages (from torch>=1.10.0->accelerate) (3.2.1)\n",
            "Requirement already satisfied: jinja2 in /usr/local/lib/python3.10/dist-packages (from torch>=1.10.0->accelerate) (3.1.2)\n",
            "Requirement already satisfied: fsspec in /usr/local/lib/python3.10/dist-packages (from torch>=1.10.0->accelerate) (2023.6.0)\n",
            "Requirement already satisfied: triton==2.1.0 in /usr/local/lib/python3.10/dist-packages (from torch>=1.10.0->accelerate) (2.1.0)\n",
            "Requirement already satisfied: requests in /usr/local/lib/python3.10/dist-packages (from huggingface-hub->accelerate) (2.31.0)\n",
            "Requirement already satisfied: tqdm>=4.42.1 in /usr/local/lib/python3.10/dist-packages (from huggingface-hub->accelerate) (4.66.1)\n",
            "Requirement already satisfied: MarkupSafe>=2.0 in /usr/local/lib/python3.10/dist-packages (from jinja2->torch>=1.10.0->accelerate) (2.1.3)\n",
            "Requirement already satisfied: charset-normalizer<4,>=2 in /usr/local/lib/python3.10/dist-packages (from requests->huggingface-hub->accelerate) (3.3.2)\n",
            "Requirement already satisfied: idna<4,>=2.5 in /usr/local/lib/python3.10/dist-packages (from requests->huggingface-hub->accelerate) (3.6)\n",
            "Requirement already satisfied: urllib3<3,>=1.21.1 in /usr/local/lib/python3.10/dist-packages (from requests->huggingface-hub->accelerate) (2.0.7)\n",
            "Requirement already satisfied: certifi>=2017.4.17 in /usr/local/lib/python3.10/dist-packages (from requests->huggingface-hub->accelerate) (2023.11.17)\n",
            "Requirement already satisfied: mpmath>=0.19 in /usr/local/lib/python3.10/dist-packages (from sympy->torch>=1.10.0->accelerate) (1.3.0)\n"
          ]
        }
      ]
    },
    {
      "cell_type": "code",
      "source": [
        "!pip install --upgrade transformers"
      ],
      "metadata": {
        "colab": {
          "base_uri": "https://localhost:8080/"
        },
        "id": "wPdBWdNcNzLA",
        "outputId": "33193b59-9c52-4c91-bb65-b50e47236e25"
      },
      "execution_count": 17,
      "outputs": [
        {
          "output_type": "stream",
          "name": "stdout",
          "text": [
            "Requirement already satisfied: transformers in /usr/local/lib/python3.10/dist-packages (4.36.2)\n",
            "Requirement already satisfied: filelock in /usr/local/lib/python3.10/dist-packages (from transformers) (3.13.1)\n",
            "Requirement already satisfied: huggingface-hub<1.0,>=0.19.3 in /usr/local/lib/python3.10/dist-packages (from transformers) (0.20.1)\n",
            "Requirement already satisfied: numpy>=1.17 in /usr/local/lib/python3.10/dist-packages (from transformers) (1.23.5)\n",
            "Requirement already satisfied: packaging>=20.0 in /usr/local/lib/python3.10/dist-packages (from transformers) (23.2)\n",
            "Requirement already satisfied: pyyaml>=5.1 in /usr/local/lib/python3.10/dist-packages (from transformers) (6.0.1)\n",
            "Requirement already satisfied: regex!=2019.12.17 in /usr/local/lib/python3.10/dist-packages (from transformers) (2023.6.3)\n",
            "Requirement already satisfied: requests in /usr/local/lib/python3.10/dist-packages (from transformers) (2.31.0)\n",
            "Requirement already satisfied: tokenizers<0.19,>=0.14 in /usr/local/lib/python3.10/dist-packages (from transformers) (0.15.0)\n",
            "Requirement already satisfied: safetensors>=0.3.1 in /usr/local/lib/python3.10/dist-packages (from transformers) (0.4.1)\n",
            "Requirement already satisfied: tqdm>=4.27 in /usr/local/lib/python3.10/dist-packages (from transformers) (4.66.1)\n",
            "Requirement already satisfied: fsspec>=2023.5.0 in /usr/local/lib/python3.10/dist-packages (from huggingface-hub<1.0,>=0.19.3->transformers) (2023.6.0)\n",
            "Requirement already satisfied: typing-extensions>=3.7.4.3 in /usr/local/lib/python3.10/dist-packages (from huggingface-hub<1.0,>=0.19.3->transformers) (4.5.0)\n",
            "Requirement already satisfied: charset-normalizer<4,>=2 in /usr/local/lib/python3.10/dist-packages (from requests->transformers) (3.3.2)\n",
            "Requirement already satisfied: idna<4,>=2.5 in /usr/local/lib/python3.10/dist-packages (from requests->transformers) (3.6)\n",
            "Requirement already satisfied: urllib3<3,>=1.21.1 in /usr/local/lib/python3.10/dist-packages (from requests->transformers) (2.0.7)\n",
            "Requirement already satisfied: certifi>=2017.4.17 in /usr/local/lib/python3.10/dist-packages (from requests->transformers) (2023.11.17)\n"
          ]
        }
      ]
    },
    {
      "cell_type": "markdown",
      "source": [
        "# **1st time train - Initialize Trainer with TrainingArguments**"
      ],
      "metadata": {
        "id": "Yta6G4i8gMpK"
      }
    },
    {
      "cell_type": "code",
      "metadata": {
        "id": "H7hhmbT2ModI"
      },
      "source": [
        "'''\n",
        "from transformers import Trainer, TrainingArguments\n",
        "\n",
        "training_args = TrainingArguments(\n",
        "    output_dir=\"./gpt2-storygeneration\", #The output directory\n",
        "    overwrite_output_dir=True, #overwrite the content of the output directory\n",
        "    num_train_epochs=10, # number of training epochs\n",
        "    per_device_train_batch_size=32, # batch size for training\n",
        "    per_device_eval_batch_size=64,  # batch size for evaluation\n",
        "    eval_steps = 500, # Number of update steps between two evaluations.\n",
        "    save_steps=800, # after # steps model is saved\n",
        "    warmup_steps=500,# number of warmup steps for learning rate scheduler\n",
        "    prediction_loss_only=True,\n",
        "    )\n",
        "\n",
        "\n",
        "trainer = Trainer(\n",
        "    model=model,\n",
        "    args=training_args,\n",
        "    data_collator=data_collator,\n",
        "    train_dataset=train_dataset,\n",
        "    eval_dataset=test_dataset,\n",
        ")\n",
        "'''"
      ],
      "execution_count": 18,
      "outputs": []
    },
    {
      "cell_type": "code",
      "metadata": {
        "id": "wjIzSWPTKzBf",
        "colab": {
          "base_uri": "https://localhost:8080/",
          "height": 173
        },
        "outputId": "8c416385-823f-4c31-9bbd-7e72d5c63fd5"
      },
      "source": [
        "'''\n",
        "trainer.train()\n",
        "'''"
      ],
      "execution_count": 19,
      "outputs": [
        {
          "output_type": "display_data",
          "data": {
            "text/plain": [
              "<IPython.core.display.HTML object>"
            ],
            "text/html": [
              "\n",
              "    <div>\n",
              "      \n",
              "      <progress value='1020' max='1020' style='width:300px; height:20px; vertical-align: middle;'></progress>\n",
              "      [1020/1020 18:18, Epoch 10/10]\n",
              "    </div>\n",
              "    <table border=\"1\" class=\"dataframe\">\n",
              "  <thead>\n",
              " <tr style=\"text-align: left;\">\n",
              "      <th>Step</th>\n",
              "      <th>Training Loss</th>\n",
              "    </tr>\n",
              "  </thead>\n",
              "  <tbody>\n",
              "    <tr>\n",
              "      <td>500</td>\n",
              "      <td>2.946000</td>\n",
              "    </tr>\n",
              "    <tr>\n",
              "      <td>1000</td>\n",
              "      <td>2.409000</td>\n",
              "    </tr>\n",
              "  </tbody>\n",
              "</table><p>"
            ]
          },
          "metadata": {}
        },
        {
          "output_type": "execute_result",
          "data": {
            "text/plain": [
              "TrainOutput(global_step=1020, training_loss=2.670274087494495, metrics={'train_runtime': 1102.0508, 'train_samples_per_second': 29.373, 'train_steps_per_second': 0.926, 'total_flos': 2114505768960000.0, 'train_loss': 2.670274087494495, 'epoch': 10.0})"
            ]
          },
          "metadata": {},
          "execution_count": 19
        }
      ]
    },
    {
      "cell_type": "code",
      "metadata": {
        "id": "Q5quyGeMNdjE"
      },
      "source": [
        "'''\n",
        "trainer.save_model()\n",
        "'''"
      ],
      "execution_count": 20,
      "outputs": []
    },
    {
      "cell_type": "markdown",
      "source": [
        "# **Loading the saved model and train it again**\n",
        "\n",
        "* The Trainer class provides an API for feature-complete training. It is used in most of the example scripts from Huggingface. Before we can instantiate our Trainer we need to download our GPT-2 model and create a TrainingArguments to access all the points of customization during training. In the TrainingArguments, we can define the Hyperparameters we are going to use in the training process like our learning_rate, num_train_epochs, or per_device_train_batch_size.\n"
      ],
      "metadata": {
        "id": "BCfPXJ1egIew"
      }
    },
    {
      "cell_type": "code",
      "source": [
        "from transformers import Trainer, TrainingArguments\n",
        "# Load the previously trained model\n",
        "model_path = \"./gpt2-storygeneration\"  # Replace this with the path to your saved model\n",
        "model = AutoModelForCausalLM.from_pretrained(model_path)\n",
        "\n",
        "# Define your training arguments\n",
        "training_args = TrainingArguments(\n",
        "    output_dir=\"./gpt2-storygeneration\",  # The output directory\n",
        "    overwrite_output_dir=True,  # Overwrite the content of the output directory\n",
        "    num_train_epochs=10,  # Number of training epochs\n",
        "    per_device_train_batch_size=32,  # Batch size for training\n",
        "    per_device_eval_batch_size=64,  # Batch size for evaluation\n",
        "    eval_steps=500,  # Number of update steps between two evaluations\n",
        "    save_steps=800,  # Save model checkpoint after # steps\n",
        "    warmup_steps=500,  # Number of warmup steps for learning rate scheduler\n",
        "    prediction_loss_only=True,\n",
        ")\n",
        "\n",
        "# Initialize Trainer with your loaded model and training arguments\n",
        "trainer = Trainer(\n",
        "    model=model,\n",
        "    args=training_args,\n",
        "    data_collator=data_collator,\n",
        "    train_dataset=train_dataset,\n",
        "    eval_dataset=test_dataset,\n",
        ")\n"
      ],
      "metadata": {
        "id": "25xgEE54cKhl"
      },
      "execution_count": 21,
      "outputs": []
    },
    {
      "cell_type": "markdown",
      "source": [
        "# **Train the model**"
      ],
      "metadata": {
        "id": "d4xqKeGNiaXv"
      }
    },
    {
      "cell_type": "code",
      "source": [
        "# Start training to continue from where it left off\n",
        "trainer.train()"
      ],
      "metadata": {
        "colab": {
          "base_uri": "https://localhost:8080/",
          "height": 210
        },
        "id": "31Ny-6f-cWNK",
        "outputId": "9089a1cd-2dfe-45ae-9208-2d508ea34cda"
      },
      "execution_count": 22,
      "outputs": [
        {
          "output_type": "display_data",
          "data": {
            "text/plain": [
              "<IPython.core.display.HTML object>"
            ],
            "text/html": [
              "\n",
              "    <div>\n",
              "      \n",
              "      <progress value='1020' max='1020' style='width:300px; height:20px; vertical-align: middle;'></progress>\n",
              "      [1020/1020 18:18, Epoch 10/10]\n",
              "    </div>\n",
              "    <table border=\"1\" class=\"dataframe\">\n",
              "  <thead>\n",
              " <tr style=\"text-align: left;\">\n",
              "      <th>Step</th>\n",
              "      <th>Training Loss</th>\n",
              "    </tr>\n",
              "  </thead>\n",
              "  <tbody>\n",
              "    <tr>\n",
              "      <td>500</td>\n",
              "      <td>2.225700</td>\n",
              "    </tr>\n",
              "    <tr>\n",
              "      <td>1000</td>\n",
              "      <td>1.985000</td>\n",
              "    </tr>\n",
              "  </tbody>\n",
              "</table><p>"
            ]
          },
          "metadata": {}
        },
        {
          "output_type": "stream",
          "name": "stderr",
          "text": [
            "Checkpoint destination directory ./gpt2-storygeneration/checkpoint-800 already exists and is non-empty.Saving will proceed but saved results may be invalid.\n"
          ]
        },
        {
          "output_type": "execute_result",
          "data": {
            "text/plain": [
              "TrainOutput(global_step=1020, training_loss=2.1023019229664524, metrics={'train_runtime': 1099.8239, 'train_samples_per_second': 29.432, 'train_steps_per_second': 0.927, 'total_flos': 2114505768960000.0, 'train_loss': 2.1023019229664524, 'epoch': 10.0})"
            ]
          },
          "metadata": {},
          "execution_count": 22
        }
      ]
    },
    {
      "cell_type": "markdown",
      "source": [
        "# **Save the model**"
      ],
      "metadata": {
        "id": "PuspXQPmidJv"
      }
    },
    {
      "cell_type": "code",
      "source": [
        "# Save the model after training\n",
        "trainer.save_model(\"./gpt2-englishchef\")"
      ],
      "metadata": {
        "id": "ATsl4eD1cXjx"
      },
      "execution_count": 23,
      "outputs": []
    },
    {
      "cell_type": "markdown",
      "source": [
        "# **Test the model**\n",
        "* To test the model we are going to use another highlight of the transformers library called pipeline. Pipelines are objects that offer a simple API dedicated to several tasks, among others also text-generation"
      ],
      "metadata": {
        "id": "QfmHgDTIiixC"
      }
    },
    {
      "cell_type": "code",
      "source": [
        "from transformers import pipeline"
      ],
      "metadata": {
        "id": "Scpqe59dXRc-"
      },
      "execution_count": 24,
      "outputs": []
    },
    {
      "cell_type": "code",
      "source": [
        "storyteller = pipeline('text-generation',model='./gpt2-storygeneration', tokenizer='gpt2')"
      ],
      "metadata": {
        "id": "2KV1fA1UXMI6",
        "colab": {
          "base_uri": "https://localhost:8080/"
        },
        "outputId": "0e14a8bf-815d-4141-bee7-5c642b553e02"
      },
      "execution_count": 28,
      "outputs": [
        {
          "output_type": "stream",
          "name": "stderr",
          "text": [
            "/usr/local/lib/python3.10/dist-packages/huggingface_hub/utils/_token.py:72: UserWarning: \n",
            "The secret `HF_TOKEN` does not exist in your Colab secrets.\n",
            "To authenticate with the Hugging Face Hub, create a token in your settings tab (https://huggingface.co/settings/tokens), set it as secret in your Google Colab and restart your session.\n",
            "You will be able to reuse this secret in all of your notebooks.\n",
            "Please note that authentication is recommended but still optional to access public models or datasets.\n",
            "  warnings.warn(\n"
          ]
        }
      ]
    },
    {
      "cell_type": "code",
      "metadata": {
        "id": "laDp891gO25V",
        "colab": {
          "base_uri": "https://localhost:8080/"
        },
        "outputId": "5299de47-006c-4111-f4e2-4bcd25ab90bb"
      },
      "source": [
        "storyteller('In the bustling city of New York,')"
      ],
      "execution_count": 29,
      "outputs": [
        {
          "output_type": "stream",
          "name": "stderr",
          "text": [
            "Setting `pad_token_id` to `eos_token_id`:50256 for open-end generation.\n"
          ]
        },
        {
          "output_type": "execute_result",
          "data": {
            "text/plain": [
              "[{'generated_text': 'In the bustling city of New York, Benjamin, with his unwavering dedication, had found himself embroiled in a delicate and often tragic tale. He had been awarded a prestigious honor, the privilege of being invited to the prestigious ceremony at the prestigious Benjamin Franklin'}]"
            ]
          },
          "metadata": {},
          "execution_count": 29
        }
      ]
    },
    {
      "cell_type": "code",
      "metadata": {
        "id": "BKXhAiBuvga9",
        "colab": {
          "base_uri": "https://localhost:8080/"
        },
        "outputId": "ed84765b-0d53-4f7d-f0d9-84478e36ef93"
      },
      "source": [
        "storyteller(' In the midst of a bustling metropolis teeming with skyscrapers that seemingly ')"
      ],
      "execution_count": 30,
      "outputs": [
        {
          "output_type": "stream",
          "name": "stderr",
          "text": [
            "Setting `pad_token_id` to `eos_token_id`:50256 for open-end generation.\n"
          ]
        },
        {
          "output_type": "execute_result",
          "data": {
            "text/plain": [
              "[{'generated_text': ' In the midst of a bustling metropolis teeming with skyscrapers that seemingly iced off his nose, the young programmer sat at a keyboard, his mind clouded by a world where time became everything. As the first pages of his code flowed'}]"
            ]
          },
          "metadata": {},
          "execution_count": 30
        }
      ]
    },
    {
      "cell_type": "code",
      "metadata": {
        "id": "J9Fixx4Iosih",
        "colab": {
          "base_uri": "https://localhost:8080/"
        },
        "outputId": "a4911e16-a2b7-4d2b-ceb2-6d5d5577c211"
      },
      "source": [
        "storyteller('In the heart of a once-thriving metropolis, now reduced to a desolate wasteland')"
      ],
      "execution_count": 32,
      "outputs": [
        {
          "output_type": "stream",
          "name": "stderr",
          "text": [
            "Setting `pad_token_id` to `eos_token_id`:50256 for open-end generation.\n"
          ]
        },
        {
          "output_type": "execute_result",
          "data": {
            "text/plain": [
              "[{'generated_text': 'In the heart of a once-thriving metropolis, now reduced to a desolate wasteland, lived a young woman named Maya, whose heart had been ravaged by genetic mutations. Intrigued by her journey, Maya vowed to unlock the secrets she'}]"
            ]
          },
          "metadata": {},
          "execution_count": 32
        }
      ]
    },
    {
      "cell_type": "code",
      "metadata": {
        "id": "hKBSyNLgqF9K",
        "colab": {
          "base_uri": "https://localhost:8080/",
          "height": 70
        },
        "outputId": "b986aa56-6865-4c30-c46d-76fb7d4b0046"
      },
      "source": [
        "storyteller('In the gritty underbelly of a city plagued by crime, Detective John Anderson was a tenacious force to be reckoned with.')[0]['generated_text']"
      ],
      "execution_count": 33,
      "outputs": [
        {
          "output_type": "stream",
          "name": "stderr",
          "text": [
            "Setting `pad_token_id` to `eos_token_id`:50256 for open-end generation.\n"
          ]
        },
        {
          "output_type": "execute_result",
          "data": {
            "text/plain": [
              "'In the gritty underbelly of a city plagued by crime, Detective John Anderson was a tenacious force to be reckoned with. With his sleek black suits and fiery red eyes, he wore his detective badge on his every move. It was said that'"
            ],
            "application/vnd.google.colaboratory.intrinsic+json": {
              "type": "string"
            }
          },
          "metadata": {},
          "execution_count": 33
        }
      ]
    },
    {
      "cell_type": "markdown",
      "source": [
        "# **Evaluate perplexity on the test dataset**"
      ],
      "metadata": {
        "id": "_-RspOqcjSIO"
      }
    },
    {
      "cell_type": "code",
      "source": [
        "# Evaluate perplexity on the test dataset\n",
        "eval_result = trainer.evaluate(eval_dataset=test_dataset)\n",
        "print(\"Perplexity:\", eval_result['eval_loss'])"
      ],
      "metadata": {
        "colab": {
          "base_uri": "https://localhost:8080/",
          "height": 54
        },
        "id": "wNvoeo8Ri79e",
        "outputId": "815295d1-c39b-4674-8c0a-85f07c5914b6"
      },
      "execution_count": 27,
      "outputs": [
        {
          "output_type": "display_data",
          "data": {
            "text/plain": [
              "<IPython.core.display.HTML object>"
            ],
            "text/html": [
              "\n",
              "    <div>\n",
              "      \n",
              "      <progress value='51' max='51' style='width:300px; height:20px; vertical-align: middle;'></progress>\n",
              "      [51/51 00:32]\n",
              "    </div>\n",
              "    "
            ]
          },
          "metadata": {}
        },
        {
          "output_type": "stream",
          "name": "stdout",
          "text": [
            "Perplexity: 1.698707938194275\n"
          ]
        }
      ]
    },
    {
      "cell_type": "markdown",
      "source": [
        "# **Generating Stories without any prompt**"
      ],
      "metadata": {
        "id": "EtvKTuF9moKW"
      }
    },
    {
      "cell_type": "code",
      "source": [
        "from transformers import pipeline\n",
        "\n",
        "# Initialize the text generation pipeline\n",
        "storyteller = pipeline('text-generation', model='./gpt2-storygeneration', tokenizer='gpt2')\n",
        "\n",
        "# Function to generate stories and save them\n",
        "def generate_stories(stories_pipeline, num_stories: int):\n",
        "    generated_stories = []\n",
        "    for _ in range(num_stories):\n",
        "        generated_story = stories_pipeline(\"Story: \")  # You can modify the initial prompt if needed\n",
        "        generated_stories.append(generated_story[0]['generated_text'])\n",
        "    return generated_stories\n",
        "\n",
        "# Generate stories\n",
        "num_stories_to_generate = 5  # Define the number of stories to generate\n",
        "generated_stories = generate_stories(storyteller, num_stories_to_generate)\n",
        "\n",
        "# Display the generated stories\n",
        "for i, stories in enumerate(generated_stories, start=1):\n",
        "    print(f\"Generated Story {i}:\\n{stories}\\n\")"
      ],
      "metadata": {
        "colab": {
          "base_uri": "https://localhost:8080/"
        },
        "id": "OcpXwqwEdG4a",
        "outputId": "600b9bd3-1e68-4422-9312-bde38e848fa5"
      },
      "execution_count": 54,
      "outputs": [
        {
          "output_type": "stream",
          "name": "stderr",
          "text": [
            "/usr/local/lib/python3.10/dist-packages/huggingface_hub/utils/_token.py:72: UserWarning: \n",
            "The secret `HF_TOKEN` does not exist in your Colab secrets.\n",
            "To authenticate with the Hugging Face Hub, create a token in your settings tab (https://huggingface.co/settings/tokens), set it as secret in your Google Colab and restart your session.\n",
            "You will be able to reuse this secret in all of your notebooks.\n",
            "Please note that authentication is recommended but still optional to access public models or datasets.\n",
            "  warnings.warn(\n",
            "Setting `pad_token_id` to `eos_token_id`:50256 for open-end generation.\n",
            "Setting `pad_token_id` to `eos_token_id`:50256 for open-end generation.\n",
            "Setting `pad_token_id` to `eos_token_id`:50256 for open-end generation.\n",
            "Setting `pad_token_id` to `eos_token_id`:50256 for open-end generation.\n",
            "Setting `pad_token_id` to `eos_token_id`:50256 for open-end generation.\n"
          ]
        },
        {
          "output_type": "stream",
          "name": "stdout",
          "text": [
            "Generated Story 1:\n",
            "Story:  Amelia's name echoed through the corridors of Eldoria, as we delved into the secrets that awaited her. Amelia lived in a small rural village named Eldoria. Its streets were lined with winding paths and quaint quaint homes. It was\n",
            "\n",
            "Generated Story 2:\n",
            "Story:  It was a dimly lit, dilapidated building, a maze-like maze. Its doors were heavy, and to enter its crumbling halls, you had to find a way home. It was a place where the stories were whispered\n",
            "\n",
            "Generated Story 3:\n",
            "Story:  In the quiet town of Oakwood, nestled on a serene bay, a sense of unease hung heavy in the air. The constant tension and uncertainty had gripped the lives of both the citizens and the wealthy, leaving them doub\n",
            "\n",
            "Generated Story 4:\n",
            "Story:  In the bustling streets of New York City, where towering skyscrapers pierced the sky and the constant whirring of machinery breathed life into the once-happy city, lived a man named James. With a jagged black beard and\n",
            "\n",
            "Generated Story 5:\n",
            "Story:  In the heart of a bustling city, where towering skyscrapers danced in the breeze and the bustling marketplace was a quaint little speakeasy, two intertwined paths converged. At the base of both worlds, there was Captain Amelia Grayson\n",
            "\n"
          ]
        }
      ]
    },
    {
      "cell_type": "markdown",
      "source": [
        "# **List of 1st 20 examples from Test Dataset**"
      ],
      "metadata": {
        "id": "nhen046G0y2y"
      }
    },
    {
      "cell_type": "code",
      "source": [
        "def read_text_file(file_path, num_examples=5):\n",
        "    with open(file_path, 'r') as file:\n",
        "        content = file.read()\n",
        "        examples = content.split('  ')  # Assuming '  ' is the separator between examples\n",
        "        return examples[:num_examples]\n",
        "\n",
        "test_file_path = '/content/drive/MyDrive/Story Generation/test_dataset.txt'\n",
        "\n",
        "print(\"\\nExamples from the Test Dataset:\")\n",
        "first_20_examples = read_text_file(test_file_path, num_examples=20)\n",
        "\n",
        "# Display the first 20 examples\n",
        "for i, example in enumerate(first_20_examples, start=1):\n",
        "    print(f\"Example {i}: {example}\")\n",
        "\n",
        "# Store the first 20 examples in a list\n",
        "list_of_20_examples = first_20_examples"
      ],
      "metadata": {
        "colab": {
          "base_uri": "https://localhost:8080/"
        },
        "id": "Gy5Xn54UlWll",
        "outputId": "c39cb173-90e5-462a-ce07-27062f263781"
      },
      "execution_count": 39,
      "outputs": [
        {
          "output_type": "stream",
          "name": "stdout",
          "text": [
            "\n",
            "Examples from the Test Dataset:\n",
            "Example 1: In the humble town of Newbridge, nestled in the heartland of the countryside, there lived a peculiar man named Barnaby Grimsby. Tall and hunched, with a shock of unruly gray hair and a perpetual crinkle of mischief in his eyes, Barnaby was the local satirist. With his sharp wit and cutting tongue, he sought to expose the follies and absurdities of society. But it was not just any society that captured Barnaby's satirical commentary—it was the glaring social inequality and rampant poverty that plagued the town. As the sun rose on another day in Newbridge, Barnaby set out on his mission of enlightenment. He wore a tattered coat, threadbare pants, and mismatched shoes, a deliberate choice to mirror the destitution that plagued so many. Armed with his trusty quill and boundless imagination, he roamed the cobblestone streets, observing the townsfolk and seeking inspiration for his biting commentary. At the center of Newbridge stood a grand mansion, belonging to Lord Percival Kingston, a self-proclaimed benefactor of the town. Dressed in exquisite garments and parading his wealth, Lord Kingston was the epitome of obliviousness to the suffering that surrounded him. Barnaby couldn't resist the opportunity to satirize this glaring hypocrisy. One fateful evening, during the annual masquerade ball held at Lord Kingston's mansion, Barnaby concocted an audacious plan. Disguised as a wealthy nobleman, he mingled with the elite, blending seamlessly in their opulent surroundings. As the night wore on, Barnaby skillfully steered conversations toward the topic of poverty, slowly revealing his knowledge of the cruel realities faced by the less fortunate. Word spread like wildfire throughout the grand ballroom, and soon whispers of Barnaby's presence reached Lord Kingston's ears. Filled with curiosity and amusement, Lord Kingston invited Barnaby to a private salon, where the two men engaged in a battle of wits and words. Barnaby pulled no punches as he charmed Lord Kingston with glittering tales of opulence and extravagance. With a subtle twist, he would then sprinkle his conversation with hard-hitting tales of the impoverished, their strife, and the inequality rampant in Newbridge. Slowly, but surely, Barnaby chipped away at the nobleman's facade. Days turned into weeks, and Barnaby's relentless satire began to stir something deep within Lord Kingston's conscience. The stark contrast between the lavish lifestyle he luxuriated in and the underprivileged citizens he rarely encountered plagued his mind. In sleepless nights, he questioned his role in perpetuating social inequality. And so it came to pass that Lord Kingston, struck by an epiphany, issued a public decree. He vowed to distribute a portion of his immense wealth to alleviate the suffering of the impoverished in Newbridge. The townspeople, once skeptical of his intentions, were astounded by his genuine desire for change. Barnaby watched from a distance as the town he loved began to transform. His biting satire had sparked a revolution of empathy, paving the way for a more equitable society. He continued to pen his witty commentaries, but now they carried a glimmer of hope, a call for unity and compassion. In the years that followed, Newbridge became a beacon of change. Lord Kingston's act of philanthropy inspired other wealthy individuals to follow suit, leading to the establishment of schools, hospitals, and welfare organizations. Poverty still existed, but its grip on the town had weakened significantly. And so, the tale of Barnaby Grimsby, the satirist of Newbridge, reached its poignant conclusion. His sharp quill, combined with the vulnerability of biting social commentary, had brought about a metamorphosis in the hearts and minds of the townspeople. Barnaby's legacy of satire, fused with a call for justice, would forever be cherished in the annals of Newbridge's history, serving as a reminder that even the bleakest of circumstances could be transformed by the power of words and the unwavering pursuit of equality.\n",
            "Example 2: In a small town nestled amidst rolling hills and colorful meadows, there lived a spirited young woman named Emily. With her eyes alight with dreams and her heart brimming with passion, she longed to share her deep love for music with the world. Residing in this idyllic countryside, Emily yearned to uncover the secrets of melodies that echoed through the ages, for she firmly believed that music could transcend boundaries and unite souls. Little did she know that her journey would intertwine with a profound exploration of national anthems and their cultural significance. As Emily eagerly practiced her piano, her fingers dancing over the keys, her voice lifted in song, the townspeople couldn't help but be captivated by her enchanting performances. They gathered in the town square, drawn by the irresistible allure of her music. It was at one such gathering where Emily's talent caught the attention of Professor Michael Jefferson, a renowned musicologist with a deep fascination for the cultural power of national anthems. Curiosity ignited within Professor Jefferson as he watched Emily's fingers delicately caress the piano keys, effortlessly weaving a tapestry of emotions. He approached her with a gentle smile, extending an invitation to join him on a journey of discovery. Emily, filled with excitement and a thirst for knowledge, readily accepted his offer, eager to unravel the hidden stories locked within the notes of national anthems. Together, they embarked on a voyage through time and space, tracing the roots of national anthems from distant lands. From the epic and stirring melodies of the French La Marseillaise to the haunting beauty of Japan's Kimigayo, they reveled in the diversity and significance of each composition. Every interaction and exchange carried them deeper into the rich tapestry of humanity's musical heritage, enlightening them about the profound cultural bond that national anthems forged within societies. However, their voyage encountered turbulent waters when they stumbled upon a forgotten, yet incredibly powerful national anthem. It belonged to a war-torn nation where division and strife had torn the fabric of society apart. The anthem, known as The Song of Unity, had the potential to heal the wounds and bridge the chasms that had plagued the nation for decades. With hearts brimming with hope, Emily and Professor Jefferson made it their mission to restore the forgotten anthem to its rightful place in the hearts of the people. Through tireless research, they discovered that the words and melodies of the anthem held within them an inherent power to invoke unity, foster empathy, and inspire change. Bravely, they took to the streets, inviting all citizens to gather in the town square to witness the revitalization of this long-lost anthem. As the people assembled, the air crackled with anticipation. Emily took her place at the piano, and as her fingers danced across the keys, the melodies of The Song of Unity gracefully filled the space. The notes resonated within the souls of the onlookers, stirring emotions long suppressed by the unyielding force of division. Tears streamed down weathered faces, and hands interlocked in a newfound sense of solidarity. As the anthem reached its crescendo, the people erupted with thunderous applause, their voices joining in a triumphant chorus. In that moment, the power of music, harmonized with the cultural significance of the national anthem, had triumphed over discord, fostering compassion and healing the irrevocable wounds of the past. From that day forward, the town thrived as a haven of harmony and understanding. The story of Emily and Professor Jefferson's musical odyssey, intertwined with the exploration of national anthems and their cultural significance, became a legend passed down through generations. The people of the town celebrated their poignant journey, recognizing the everlasting bond between music and the cultural fabric of society. And there, amidst the rolling hills and colorful meadows, the transformative power of melody continued to echo, reminding all who listened of the transformative force that music, together with national anthems, encompassed.\n",
            "Example 3: In the bustling halls of St. Mary's Hospital, amidst the whirlwind of beeping machines and urgent footsteps, stood Sarah Collins, a seasoned ER nurse with a heart of gold. The early morning light streamed through the windows, casting a warm glow on the sterile surroundings. Sarah, with her radiant smile and caring demeanor, was beloved by patients and colleagues alike. As she prepared for her shift, donning her crisp navy scrubs and tying her hair into a neat bun, Sarah's mind braced for the unpredictable day ahead. Today, she would be faced with the relentless flow of patients, each with their own unique story, pain, and hope. The ER, she knew, was a melting pot of human experiences. As the clock chimed 7, signaling the start of her shift, the ER doors swung open, revealing a flurry of activity. Sarah's heart quickened as she prepared herself mentally for the intricate dance that awaited her. She took her position at the triage desk, where she would assess the urgency of each patient's situation and prioritize their care accordingly. The day unfolded with a symphony of emotions, as Sarah attended to broken bones, fevers, and anguished cries. With each patient, she employed her gentle touch, offering words of comfort and reassurance. Be it stitching up a laceration or providing pain relief to those in need, Sarah's dedication to her craft shone through, unwavering and unwaveringly compassionate. Amidst the cadence of the ER, a particularly challenging case presented itself. A young boy named Tommy was rushed in, his face pale and his body wracked with coughs. Sarah's heart ached as she observed his distressed parents, their eyes filled with terror. Time seemed to stand still as she worked tirelessly to stabilize Tommy, coordinating swiftly with the medical team to administer lifesaving treatments. Hours turned into minutes as the ER became a whirlwind of activity. Sarah's adrenaline surged, propelling her forward into an endless cycle of healing. Yet, deep within her, fatigue threatened to take its toll. The weight of responsibility, the constant surge of emotions, and the demanding physicality of the job gnawed at her like a persistent ache. As the sun began its descent, Sarah's resolve remained steadfast. She knew that her purpose was to be the guiding light in the darkest hours of others. And so, with weary legs and a fierce determination, she pressed on. Finally, as the night settled in, a calmness washed over the ER. Sarah's eyes, heavy with exhaustion, took a moment to survey the space around her. The bustling chaos had transformed into a sanctuary of tranquility. She could almost hear the collective sigh of relief from both patients and staff. In the depths of that stillness, Sarah's unwavering commitment and unwavering strength found their reward. Tommy, the young boy she had fought so ardently for, slept peacefully, his fever subsiding and his breathing steady. His parents, worn but grateful, clung to each other, tears of relief streaming down their faces. Sarah, humbled by the impact of her work, felt a profound sense of fulfillment. In the face of all the heartaches and uncertainties that shadowed the ER, she was reminded of the power of resilience, compassion, and the unwavering spirit of those who dedicate their lives to healing. The morning sun peeked over the horizon, casting a golden glow on the world outside. As Sarah bid farewell to the ER, her steps carried a newfound sense of purpose. She knew that tomorrow would bring new challenges, new stories, and new lives to touch. And for that, she would forever be grateful – for the privilege of being an unsung hero in the ever-unfolding drama of life.\n",
            "Example 4: In the bustling metropolis of NeoTech City, where the gleaming skyscrapers reached for the heavens and hovercars whizzed through the air like shooting stars, a young biohacker named Ethan Darrow toiled away in his hidden laboratory. Lit by the soft glow of monitors displaying complex strands of DNA code, Ethan feverishly worked towards his goal of harnessing the power of genetic modifications for the betterment of mankind. Ethan, with his unruly mop of jet-black hair and piercing blue eyes, had always been fascinated by the endless possibilities that the future held. He dreamed of a world where illnesses could be eradicated, where physical prowess could be enhanced, and where even the limitations of the human mind could be overcome. Inspired by the stories of the great biohackers who had come before him, he dedicated himself to pushing the boundaries of scientific discovery. In the heart of NeoTech City, Ethan was considered somewhat of a prodigy. He had gained a reputation for his remarkable aptitude in genetic engineering and his ability to push the limits of what was thought to be possible. He had a small circle of like-minded friends who shared his passion for biohacking, and together they formed a clandestine group known as the Gene Guardians. One evening, as Ethan worked diligently in his lab, he received an urgent message from his friend and fellow biohacker, Zoe. Something had gone horribly wrong with one of her experiments, and she needed Ethan's expertise to help her fix it. Intrigued and concerned, Ethan quickly packed his gear and made his way to Zoe's secret laboratory located on the outskirts of NeoTech City. Upon arriving at Zoe's laboratory, Ethan found her in a state of distress. Her usually vibrant green eyes were clouded with worry as she explained the situation. In her quest to unlock the secrets of intelligence enhancement, Zoe had inadvertently unleashed a strain of genetically modified bacteria that was rapidly multiplying and causing havoc in her lab. Realizing the potential danger this posed, Ethan activated the laboratory's containment protocols, sealing off the area and cutting off any possibility of the bacteria escaping into the city. Together, Ethan and Zoe began to analyze the bacteria and devise a solution to neutralize their unintended creation. After hours of tireless work, Ethan and Zoe made a breakthrough. They discovered a gene sequence that, when targeted with a specific enzyme, would trigger the bacteria to self-destruct. With this newfound knowledge, they swiftly synthesized the enzyme and administered it to the bacteria. As the last remnants of the bacteria disintegrated, Ethan and Zoe let out a collective sigh of relief. They had successfully averted what could have been a catastrophic event, safeguarding not only the city but also the reputation of the Gene Guardians. Eager to prevent any future mishaps, Ethan proposed the establishment of a dedicated research facility, funded by the city, where biohackers like themselves could explore the boundaries of genetic modifications under controlled conditions. Recognizing the potential benefits such a facility could bring, the city's governing council readily agreed and pledged their support. And so, NeoTech City became a beacon of futuristic innovation, a hub where biohacking and genetic modifications were embraced and carefully monitored. The city's residents marveled at the cutting-edge advancements that were ushered in, from the eradication of previously incurable diseases to the development of cognitive enhancements that propelled humanity to new heights of intellectual prowess. Ethan and Zoe, along with their fellow Gene Guardians, continued to push the boundaries of what was possible while ensuring the ethical and responsible use of genetic modifications. In this brave new world of the future, the power of biohacking stood as a testament to human ingenuity and the endless possibilities that awaited mankind.\n",
            "Example 5: In the small town of Elmwood, nestled among the rolling hills of a picturesque countryside, lived the Parker family. They were known for their close-knit bond, spending Sundays picnicking at the nearby river and gathering for family dinners every Friday night. John and Emily Parker, the parents, had two children: Michael, an ambitious lawyer, and Sarah, a talented pianist. As the Parkers reveled in their seemingly idyllic life, little did they know that behind the walls of their cozy home, family secrets lay waiting to be unearthed. Part 1: The scent of fresh earth danced through the air in Elmwood as autumn arrived, gently painting the trees with fiery hues. The Parkers, like the rest of the town, were abuzz with excitement for the annual Fall Festival. This year, a small circus troupe was headlining the event with an impressive array of acrobats, tightrope walkers, and extraordinary performers. The whispered rumor among the townsfolk was that one of the acrobats had a striking resemblance to Emily Parker, the matriarch of the family. During the festival's opening night, the Parkers made their way through the bustling crowd. Suddenly, Sarah, the youngest of the family, froze upon catching sight of the acrobat. Her heart thudded in her chest as she realized the uncanny resemblance between the performer and her mother. Sarah's mind was whirling with questions, but she chose to keep her discovery to herself, not wanting to disrupt their harmonious family life. Part 2: As months passed, Sarah's curiosity consumed her. Unable to suppress her suspicions any longer, she decided to delve deeper into her mother's past. She discreetly searched through old photo albums, discarded letters, and hidden compartments, hoping to unravel the enigma shrouding her mother's identity. One afternoon, she stumbled upon an aged newspaper article, revealing the truth of her mother's secret past. Emily Parker had once been hailed as a talented trapeze artist known as The Flying Swan. With the weight of the secret bearing down on Sarah, she found herself torn between exposing the truth to her family or keeping the secret locked away forever. Knowing that the revelation could bring both joy and pain, she cautiously approached her mother one evening, gently revealing her discovery. Emily's eyes welled with tears as she confessed that before meeting John, she had led a life filled with leaps and twirls, soaring through the air to the applause of enraptured audiences. Part 3: The revelation sent ripples through the Parker family. Michael, unable to contain his astonishment, couldn't help but imagine the vibrant world his parents had hidden from them. Discussions were spurred, and the family found solace in sharing their deepest desires and regrets. Emily, with trepidation, contacted her former circus companions, reigniting her passion for the stage. The family rallied behind her, offering unwavering support and encouragement. With the Fall Festival approaching once again, the Parkers decided it was time to unveil the hidden talents that lay within their own family. Together, they devised a plan to create a memorable performance, a tribute to Emily's past life as The Flying Swan. Michael showcased his flair for storytelling through a tailored script, while Sarah's nimble fingers danced across the piano keys, composing an original score that resonated with every heart in the audience. As the night of the performance arrived, the townsfolk gathered under the starry sky. Emily, adorned in her vibrant circus attire, took center stage, ready to reclaim a piece of her past. The crowd held its breath as she gracefully ascended the trapeze, embracing her true self with every breathtaking stunt. It was a performance that transcended words, touching the deepest corners of the spectator's souls. At the culmination of the performance, not only did the Parkers discover the beauty of their family's legacy, but the town of Elmwood celebrated the unbreakable bond of family and the indomitable spirit that lies in facing one's past. From that moment on, the Parkers lived in harmony with their newfound truth, cherishing every moment and nurturing their dreams with unwavering determination.\n",
            "Example 6: In the heart of the sprawling metropolis known as NeoCity, a sense of unease hung heavily in the air. Shadows danced across the towering skyscrapers, casting a veil of mystery over the city streets below. Among the multitudes of bustling life, there lived a young scientist named Dr. Evelyn Bennett. Driven by her insatiable curiosity and passion for unraveling the secrets of the universe, she dedicated her days to genetic manipulation, pushing the boundaries of what was deemed possible. In the basement laboratory of her modest brownstone, Dr. Bennett toiled tirelessly, studying the intricacies of DNA. Among her numerous experiments, she stumbled upon a groundbreaking discovery: a dormant gene that, when activated, granted extraordinary abilities. Eager to explore the boundless potential of this revelation, she named it the X1 gene. However, she soon realized the ethical implications of her findings and vowed to ensure that her research remained hidden from those who might abuse it. Months turned into years as Dr. Bennett painstakingly refined her work. The overwhelming secrecy surrounding her discoveries and her insistence on remaining undercover began to take its toll on her. Long-forgotten friends and family faded into the recesses of her mind as her obsession grew. Yet, an unforeseen twist of fate was about to alter the course of her solitary existence. Late one stormy evening, a hooded figure approached her doorstep. Reluctantly, Dr. Bennett opened the door and found herself face-to-face with a figure from her past - Dr. Thomas Stevens, her former mentor. His piercing eyes mirrored her own blend of curiosity and weariness, and his gravelly voice trembled with excitement. Evelyn, my dear, I've been tracking your progress from afar, he said. I've come to warn you. Legends speak of a hidden organization known as the Society of Shadows. They seek to manipulate the X1 gene for nefarious purposes. You must be extremely cautious. Dr. Bennett's heart raced with a mix of fear and exhilaration. The existence of an organization dedicated to harnessing the power of the X1 gene explained the unease that hung over NeoCity like a thick fog. Determined to protect her research and prevent further manipulation, she reluctantly agreed to collaborate with Dr. Stevens. Together, they delved into the dark underbelly of the city, following a trail of cryptic clues left behind by the Society of Shadows. The deeper they ventured, the more they realized the extent of the organization's reach. The Society's plans extended far beyond simple genetic manipulation - they sought to create an army of superhumans to orchestrate their bid for ultimate power. As they gathered evidence and mapped out their strategy, Dr. Bennett and Dr. Stevens became hunted. The Society's agents lurked in the shadows, always a step behind, as if they possessed an uncanny ability to anticipate their every move. With each passing encounter and confrontation, the stakes grew higher, and the noose tightened around their necks. In their darkest hour, on the eve of their final confrontation with the Society of Shadows, Dr. Bennett and Dr. Stevens uncovered the truth. The X1 gene was not merely a key to unlocking superhuman abilities; it was an evolutionary leap, a seed of extraordinary potential within every human being. The Society targeted them not just for their research, but because they understood the world-shattering implications of the X1 gene's true power. Armed with this knowledge, Dr. Bennett and Dr. Stevens devised a plan to expose the Society and its grotesque ambitions to the world. They unleashed their findings upon the global stage, causing a seismic shift in the balance of power. NeoCity erupted into chaos as the citizens, previously unaware of their own dormant abilities, awakened to a new reality. The Society's grand plans crumbled beneath the weight of public outcry and fierce opposition. In the aftermath of the revelation, Dr. Bennett and Dr. Stevens faded back into the obscurity from which they had emerged. Their deeds became the stuff of urban legends, whispered in hushed tones by those who dared to dream of the hidden potential carried within their very cells. Some years later, as the sun cast gentle rays upon the city streets, Dr. Evelyn Bennett marveled at the profound impact her work had made. Though she longed for the solitude of her basement laboratory, she knew her journey had only just begun. The mysteries of the X1 gene and the world of genetic manipulation would continue to unfold, promising new possibilities and untold wonders, forever altering the tapestry of human existence.\n",
            "Example 7: In the dimly lit office of Detective Ethan Walker, the swirling smoke from his cigarette danced with the shadows on the wall. The room was filled with the smell of old books, the faint scent of coffee, and the weight of unsolved cases weighing heavy on his conscience. As a seasoned detective, Ethan had seen it all – the depravity of man's dark side, the twisted paths that led to violence and pain. But there was one case that haunted him, the elusive serial killer known only as The Shadow. The city, draped in an eternal darkness, was on edge. The inhabitants whispered fearful tales of The Shadow, a phantom who stalked the slums, preying on the vulnerable. Each victim was found with a single playing card, the infamous Ace of Spades, left as a morbid calling card. Despite his best efforts, Ethan had yet to catch a glimpse of the killer, a true puppet master who orchestrated his deadly game from the shadows. Determined to bring justice to the victims and peace to the city, Ethan threw himself headfirst into the investigation. Days blurred into nights as Ethan pieced together the fragments of the macabre puzzle. Mentally retracing the steps of the victims, he haunted crime scenes and interviewed witnesses, seeking the slightest shred of evidence to unmask The Shadow. As whispers of desperation grew louder, the weight of the case threatened to break him. But Ethan was driven, his spirit unyielding, as he refused to let the darkness consume him entirely. Just when hope seemed lost, a break in the case emerged. A witness, frail and fearful, came forward with information that could unravel the killer's twisted game. Cherise Malone, a survivor of an attempted attack, described the killer's chilling allure. With her help, Ethan crafted a composite sketch, hoping to put a face to the monster they chased. Media outlets seized the opportunity to showcase the drawing, plastering it across newspapers and TV screens, urging citizens to be vigilant and report any sightings. Days turned into weeks, and finally, a tip led Ethan and his team to a deserted warehouse on the outskirts of the city. As they descended upon the location, their hearts pounding with anticipation, they found themselves enraptured in a deadly game of cat and mouse. The sound of footsteps echoed through the vast emptiness, shrouded in a haunting silence. Ethan's pulse quickened, his senses heightened, as he followed the eerie whispers that seemed to lead him forward. Their footsteps halted suddenly, as they stumbled upon a hidden cellar, bathed in a dim, flickering light. With guns drawn and hearts racing, Ethan and his team descended into the depths of the abyss, each step echoing like a death knell. The cellar revealed a chilling tableau - walls adorned with photographs of the victims, arranged carefully like macabre trophies. In the corner of the room stood a man, the embodiment of evil itself – tall, gaunt, and clad in a black suit, concealing his morbid desires. It was The Shadow. Fear flickered across the killer's eyes as he realized his reign of terror was at an end. Ethan, the hunter, locked eyes with his prey, determined to bring an end to the darkness that consumed the city. In a tense standoff, shots rang out, shattering the silence of the cellar. The echoes of the gunshots mixed with the collective breath of a city held captive by fear. When the dust settled, The Shadow lay motionless on the cold cellar floor, his twisted reign of terror forever extinguished. The city breathed a collective sigh of relief, but Ethan knew that the scars left by the killer's heinous acts would linger. Justice had finally been done, but the road to healing would be long and arduous. As the city began to heal, Detective Ethan Walker stood at the edge of a cemetery, paying his respects to the victims who had lost their lives. Though the case had been solved, their memory would forever stay etched in his heart. With a heavy heart and a newfound resolve, Ethan vowed to protect the innocent, to be a beacon of light in a world shrouded by darkness. The city would rise once more, stronger than before, united by the triumph over evil. And so, the tale of The Shadow became a legend, a dark chapter in the city's history, reminding its inhabitants of the resilience of the human spirit. Detective Ethan Walker, forever marked by the haunting case, continued his pursuit of justice, knowing that the shadows would always lurk but never snuff out the light.\n",
            "Example 8: In the quiet town of Willowbrook, nestled amidst rolling hills and meandering streams, there lived a young maiden named Ella. She possessed a delicate beauty that was matched only by her gentle demeanor. Ella was the village seamstress, weaving together fabrics with expert precision to create garments that spoke of grace and elegance. For many years, she had followed the path laid out for her, content with her craft and the modest life she led. Yet, deep within her heart, a longing yearned to be awakened, a desire to go beyond the mundane and bloom into something extraordinary. One fateful day, a mysterious traveler arrived in Willowbrook, his name whispered only as Xavier. Draped in a flowing cloak of midnight blue, he exuded an aura of wisdom and enchantment. Xavier had journeyed far and wide, seeking those who possessed an inner light awaiting to be ignited. As news of his arrival spread, the townsfolk gathered in anticipation, eager to witness the magic they believed he carried. Curiosity tugged at Ella, urging her to explore the realm of possibility that Xavier offered. Igniting a flame of courage within her, she bravely approached the enigmatic visitor, seeking guidance on her path to transformation. Xavier gazed into her eyes, recognizing the spark hidden within her and smiled knowingly. He spoke softly to Ella, his words weaving a tapestry of wisdom and insight, unveiling the way from ignorance to enlightenment. From that moment on, Ella embarked on a transformative journey, delving into the depths of her being to uncover the hidden reservoirs of knowledge waiting to be tapped. Xavier became her mentor, nurturing her hunger for understanding, as her mind blossomed like a rare flower under his tutelage. Day and night, they immersed themselves in ancient texts and philosophical discussions, unearthing the secrets of the universe and unraveling the mysteries of existence. As months turned into years, Ella witnessed her newfound enlightenment permeating every aspect of her life. The once mundane world transformed into a canvas of vibrant colors and intricate patterns. Her designs evolved, reflecting the depth of her newfound understanding. As each stitch bound together, she wove threads of enlightenment into the very fabric of her creations, infusing her garments with a touch of magic that captivated all who beheld them. Word of Ella's enchanting garments and her journey from ignorance to enlightenment spread far and wide, reaching the ears of a nobleman from a distant land. Curiosity piqued, the nobleman sought her out, captivated by the whispers of her extraordinary talents. Eager to possess such beauty, he commissioned Ella to create a masterpiece that would rival the grandest of works. With every stitch, Ella poured her heart and soul into the creation, infusing it with the profound wisdom she had gained from Xavier. The garment transcended mere cloth, becoming a testament to Ella's transformation and the power of enlightenment. It shimmered with a radiant glow, as if it held secrets whispered by the universe itself. When the nobleman beheld the completed masterpiece, tears streamed down his face, for he recognized in that moment that he too had witnessed a remarkable transformation. With newfound clarity, he vowed to use his power and influence not for personal gain, but to foster enlightenment and growth within his kingdom. And so, the story of Ella's transformation from ignorance to enlightenment, her beautiful garments, and the nobleman's newfound purpose spread throughout the land, inspiring countless souls to embark on their own journey of self-discovery. Guided by the light of knowledge, they awakened dormant aspirations and pursued the limitless possibilities that lay within each heart. Thus, in the quiet town of Willowbrook, the transformative power of enlightenment touched the lives of all who dared to embrace it, leaving an indelible mark on their souls and forever changing the course of their lives.\n",
            "Example 9: In the small town of Riverton, nestled among rolling hills and whispering pines, stood St. Mary's Hospital. The narrow streets lined with quaint houses painted in pastel colors gave the town a whimsical charm. It was a place where everybody knew everybody, and secrets were shared in hushed whispers. At the heart of it all was Dr. Rebecca Lawson, a dedicated and compassionate physician who had felt the call to heal from a young age. Morning sunlight spilled through the large windows of Dr. Lawson's office, casting a warm glow on the rows of medical books and diplomas adorning the walls. Her desk, cluttered with patient files, held the weight of countless lives in its drawers. Dr. Lawson sat there, deep in thought, as she contemplated her latest case: Jack Thompson, a young man who had come to her seeking solace for wounds both physical and emotional. Jack, a former firefighter, had suffered a devastating accident that left him scarred, not just on the outside, but within his very soul. The fire that had consumed his body had ignited a myriad of painful memories from his past. Scars covered his once-handsome face, a constant reminder of the trauma he had endured. As Dr. Lawson reflected on Jack's case, she knew that healing wasn't just about mending wounds but also about addressing the deep-seated emotional pain that lingered beneath the surface. She knew that Jack needed more than just treatments and bandages; he needed understanding, empathy, and a community of support. With determination, Dr. Lawson embarked on a journey to bring healing not only to Jack but to the entire town of Riverton. She organized workshops to raise awareness about trauma and its healing process, inviting psychologists, therapists, and medical professionals from neighboring cities. The town's community center became a safe space, teeming with people seeking solace, understanding, and the chance to heal their own wounds. Through numerous conversations with Jack, Dr. Lawson uncovered the layers of pain that engulfed his spirit. They delved into his childhood scars, the fear that had haunted him since the accident, and the overwhelming guilt he carried for not saving all the lives he had sworn to protect. Weeks turned into months, and Dr. Lawson's efforts yielded significant progress. Jack, once withdrawn and reluctant, began to open up to the community of support that had rallied around him. The scars on his face, though still visible, no longer defined him. With each passing day, his smile grew wider, radiating the hope and strength that had been rekindled within him. The autumn air in Riverton was crisp as the town gathered for a celebration of healing, organized by Dr. Lawson. The community center buzzed with excitement, as townsfolk mingled, sharing stories of their personal triumphs and the newfound resilience they had discovered. And there, standing at the center of it all, was Dr. Lawson, gratified by the transformation she had witnessed in Jack and the entire community. She knew that healing wounds, both physical and emotional, required courage, determination, and the unwavering support of those around us. As the sun set on Riverton, casting a warm light over its winding streets, Dr. Lawson couldn't help but feel a sense of fulfillment. The scars of the town may never fully fade, but the wounds of the heart had begun to mend, one embrace, one conversation, and one act of kindness at a time. In the end, it was the collective healing of wounds, both physical and emotional, that forever changed the lives of the residents of Riverton, leaving behind an enduring legacy of resilience and hope, all thanks to the unwavering dedication of Dr. Rebecca Lawson, a healer armed not only with medicine but with compassion and the power to mend souls.\n",
            "Example 10: In the bustling city of Marlowe, nestled within the glass and steel tower of Crescent Corp, three lives found themselves entangled in a web of desire and deception. At the heart of this tale was the enigmatic Ethan Holloway, a charismatic and ambitious young executive, whose charm was only rivaled by his ruthless pursuit of success. His piercing blue eyes and impeccably tailored suits gave him an air of invincibility that seemed to captivate all who crossed his path. Alongside Ethan was the beautiful and talented Olivia Morrison, a rising star within the company. Her stunning auburn locks cascaded down her shoulders, framing a face that held both intelligence and vulnerability. Olivia possessed a rare combination of intelligence and charm, making her an asset to Crescent Corp and sending male hearts aflutter. And then there was Rachel Adams, the vivacious and confident marketing expert. With her fiery red hair and a smile that could melt even the coldest of hearts, Rachel exuded an aura of adventure and spontaneity. Her sharp wit and fearless personality made her a force to be reckoned with, both in and out of the workplace. Within the confines of Crescent Corp, the three found themselves caught in a tempestuous love triangle, each driven by their own desires and ambitions, and unknowingly embarking on a perilous path that would test the limits of their relationships. As the days turned into weeks, Ethan found himself torn between the undeniable chemistry he shared with both Olivia and Rachel. He relished the intellectual stimulation of Olivia's company, finding solace in their late-night discussions about business strategies and ambitions. But deep within his heart, it was the fiery passion and uninhibited nature of Rachel that called to him, whispering promises of excitement and adventure. Olivia, on the other hand, was blissfully unaware of the fierce competition that raged beneath the facade of friendship. Her heart belonged wholly to Ethan, and she believed their connection was as unbreakable as the tower that housed Crescent Corp. Her nights were consumed with dreams of a future by his side, where they would conquer the corporate world together. Rachel, astute and perceptive, sensed the growing tension between Ethan and Olivia. With each passing day, her love for Ethan swelled, and she knew she had to be brave and fight for what she wanted. Yet, her loyalty to Olivia, her closest friend, created a tumult within her soul, tearing her between the desire for Ethan's love and the need to protect the friendships she held dear. As the pressure within the office began to build, the heightened emotions threatened to spill over, jeopardizing not only their personal lives but also the harmony within Crescent Corp. Gossip swirled, whispers echoed through the halls, and coworkers began to choose sides in the invisible battle for Ethan's affection. But destiny had a different plan in store for this impassioned trio. One fateful evening, as the city lights twinkled outside the corporate windows, the three found themselves locked in Ethan's spacious corner office, secrets and desires exposed in the raw honesty of the dimly lit room. In that moment, their shared vulnerability bridged the gap between them. The realization crystallized that their ambitions had led them astray, blinding them to the precious connections they had forged in one another. Love, tangled in a web of ambition and desire, had wounded them all, leaving invisible scars that could only heal with deeper understanding and forgiveness. United by the pain they had caused one another, Ethan, Olivia, and Rachel decided to face the consequences of their actions together. They sought redemption not only within themselves but within the company they had grown to love. They sought solace in friendships that could only be strengthened by the trials they had endured. With newfound clarity, Ethan, Olivia, and Rachel emerged from the shadows as a united front, inspiring their colleagues with humility and a renewed sense of purpose. Crescent Corp thrived under this newfound harmony, and their careers flourished in unison, supported by love that transcended the boundaries of the workplace. And so, amidst the concrete jungle of Marlowe, three lives were forever intertwined, their love triangle leaving an indelible mark on the tapestry of their souls. In the end, they learned that love, no matter its convoluted path, could heal and mend even the deepest wounds, and that true power was not obtained through ambition but through understanding and the strength to forgive.\n",
            "Example 11: Deep in the heart of Mexico, in the bustling city of Guadalajara, a covert operation was about to take place. Agent Mark Thompson, a seasoned and resourceful DEA agent, had been chosen for a dangerous undercover mission to infiltrate a notorious drug cartel known as Los Zetas. With his steely determination and quick thinking, Mark had successfully completed numerous assignments in the past. But this time, the stakes were higher, and there was no room for error. Mark's cover story was meticulously crafted. He would pose as Miguel Rodriguez, a trusted enforcer seeking to expand his network within the cartel. His mission was to gain the trust of the notorious cartel leader, Ramiro El Diablo Hernandez, and gather crucial intelligence that could bring the entire organization to its knees. As he stepped onto Mexican soil, Mark could feel a mix of excitement and trepidation coursing through his veins. The seedy underbelly of Guadalajara became Mark's new reality. Dark alleyways lined with dilapidated buildings became his stomping ground. He immersed himself in the local underworld, making connections with small-time criminals and low-ranking cartel members. Each interaction was calculated, every word carefully chosen to maintain his cover. Days turned into weeks, and Mark's reputation as a ruthless enforcer began to grow within the cartel's ranks. As he delved deeper into the labyrinthine world of Los Zetas, Mark unearthed a web of corruption and violence. The cartel controlled every aspect of the city, spreading fear and anguish with each passing day. Mark witnessed countless lives cut short, innocent victims caught in the crossfire. A deep-rooted sense of justice fueled his determination to bring an end to their reign of terror. With each step closer to El Diablo, Mark's life hung in the balance. The cartel's suspicion grew, and he found himself in increasingly perilous situations. But Mark's resolve never wavered. He had a mission to accomplish, and he would see it through, no matter the cost. One fateful evening, Mark finally caught El Diablo's attention. His reputation had preceded him, and now he had the cartel leader's undivided attention. Mark, now fully ingrained in the criminal world, was granted an audience with El Diablo himself in a high-security compound hidden deep in the nearby mountains. It was in this fortressed stronghold that Mark's true test began. Surrounded by armed guards, he had to tread carefully, always watching his back. But his cunning and years of training served him well. He began gathering crucial information, codes, and the location of hidden drug labs. Each piece of intel brought him closer to crippling the cartel. In a gripping climax, Mark led a joint operation involving Mexican federal agents and the DEA to raid the drug cartel's operations. The compound erupted into chaos as bullets flew, and the once-almighty cartel crumbled before their eyes. El Diablo's reign, built on fear and bloodshed, was finally brought to an end. With the cartel dismantled, the people of Guadalajara breathed a sigh of relief. Mark, hailed as a hero, quietly disappeared into the shadows once again. His mission was accomplished, but the scars he carried would forever remind him of the horrors he witnessed. As the sun set over the city, a sense of peace began to settle. Guadalajara was free from the grip of Los Zetas, thanks to the unwavering determination and sacrifice of one man. Agent Mark Thompson, the name forever etched in the annals of the DEA, would forever be remembered as the hero who dared to infiltrate a drug cartel and bring justice to a troubled city.\n",
            "Example 12: Long ago, in the sun-drenched land of ancient Greece, nestled at the foot of the majestic Mount Parnassus, there stood a sacred sanctuary known as the Oracle of Delphi. It was here, perched on a cliff overlooking lush olive groves and the sparkling waters of the Gulf of Corinth, that the famous Pythia, the high priestess of the oracle, resided. This mystical place drew people from far and wide seeking answers to their most profound questions, for it was believed that the oracle possessed the gift of prophecy, bestowed upon her by the gods themselves. Amongst the crowds that flocked to the Oracle of Delphi, there lived a young shepherd named Nikos. Tall and lean, with sun-kissed skin and a crown of unruly curls, Nikos spent his days tending to his flock amidst the rolling hills surrounding Delphi. His heart, however, longed for a greater destiny, one beyond the simple life of a shepherd. One fateful afternoon, as Nikos grazed his sheep near the sacred site, he heard whispers carried by the warm breeze. The whispers spoke of an ancient prophecy, buried deep within the heart of Delphi, waiting for someone bold enough to venture forth and unlock its secrets. Intrigued, Nikos followed the ethereal voices that guided his steps to a hidden chamber, its walls adorned with cryptic symbols and faded murals. As Nikos gazed at the ancient engravings, a deep and resonant voice pierced the silence. Young shepherd, it boomed, only one worthy to fulfill the prophecy shall possess the power to save our lands from impending doom. Startled, Nikos turned to find the spirit of the Pythia herself, her eyes shimmering with wisdom and a touch of sadness. She revealed to him the prophecy's riddle, half-spoken and half-veiled, leaving Nikos with a sense of both awe and trepidation. Driven by the oracle's words, Nikos embarked on a journey, traversing the rugged terrain of Greece in search of answers. He encountered trials and tribulations, battling mythical beasts and mischievous spirits who sought to impede his progress. Yet, his resolve never wavered, fueled by an unyielding faith in the prophecy's significance. After months of relentless pursuit, Nikos arrived at the sacred ruins of Delos, an island steeped in myth and legend. It is said that Delos was the birthplace of Apollo, the god of both prophecy and healing, and his divine presence still tingled in the air. As Nikos stood amidst the ruins, a radiant light enveloped him, and he heard the celestial voice of Apollo, guiding him to the final piece of the prophecy's puzzle. With newfound clarity, Nikos retraced his steps back to Delphi, where the Pythia awaited his return. Her smile, once cautious, now beamed with an unmistakable blend of pride and relief. For Nikos had solved the enigma of the prophecy, revealing the path to salvation for their troubled lands. The Oracle of Delphi gathered the people from every corner of Greece, from the humblest farmer to the mightiest warrior, in a grand ceremony to witness the fulfillment of the prophecy. Under the crumbling columns of the sanctuary, Nikos stood before his fellow mortals, his youthful face etched with resilience and determination. As Nikos began to recite the words of the prophecy, his voice rang out with a power that transcended his mortal frame. The ancient verses painted a stirring tapestry of unity, courage, and hope. It spoke of battles fought and victories won, of wisdom gained and darkness banished. The prophecy named Nikos as the chosen one, destined to lead his people to a future where peace and prosperity reigned. And so, with the weight of the prophecy on his shoulders, Nikos rallied the people of Greece, uniting them under a common purpose. They rebuilt their cities, rekindled long-lost alliances, and embraced a future intertwined with prosperity. The legacy of Nikos, the humble shepherd turned savior, echoed through the mountains and valleys of Greece for generations to come. His story became a testament to the enduring power of ancient prophecies, and the transformative potential they held. And whenever the wind whispered through the olive groves, the people knew that the Oracle of Delphi still watched over them, her wisdom guiding their path toward a brighter and more hopeful future.\n",
            "Example 13: A cool breeze rustled through the towering palm trees, as the bustling port of Timbuktu came alive with activity. It was the early 15th century, and the African empires stood as dominant players in global trade. From the vast Sahara Desert to the trading cities along the Niger River, Africa thrived as a center of commerce and exploration. In this alternate history, the African empires had not only resisted European colonization but had thrived, establishing a network of powerful kingdoms that spanned across the continent. Led by the legendary Mansa Musa, the Malian Empire had become the epicenter of this flourishing trade. Its capital, Timbuktu, sparkled with towering mosques, bustling markets, and a diverse tapestry of people from across the globe. Among the chaos, a young merchant named Amina stood at her stall, adorned with intricately woven fabrics and bejeweled artifacts. Her almond-shaped eyes, framed by ebony skin, sparkled with determination and ambition. Amina had grown up in a diverse and welcoming city, where stories abounded about the great explorers who traversed the vast Sahara Desert, opening up new trade routes and connecting Africa to the major civilizations of the world. As the days passed, Amina's reputation as a skilled negotiator grew, attracting the attention of the Mansa himself. Impressed by her acumen, he invited her to join a delegation to negotiate trade agreements with the Chinese Emperor, seeking to expand their influence beyond the African continent. Amina was elated but knew the journey would be perilous. Undeterred, she embarked on this historic voyage, determined to secure prosperity for her people. The journey was arduous, as they traversed the treacherous Silk Road, braving sandstorms and bandits lurking in the desert's shadowy corners. Finally, after months of travel, they arrived in the majestic city of Beijing. Amina marveled at the architecture, the opulence, and the sheer vastness of the Chinese Empire. The negotiations were tense, but Amina's charisma and wit won over the Chinese Emperor, opening up a new era of trade between the two powerful empires. News of this historic agreement spread like wildfire across the African continent, sparking a renewed sense of pride and ambition. The empires of Songhai, Benin, and Kanem-Bornu redoubled their efforts, expanding their reach into distant lands. African explorers ventured beyond the realms of their ancestors, sailing across the Atlantic Ocean to establish colonies in the Americas. Despite this newfound success, challenges emerged. European powers, envious of Africa's dominance, sought to undermine its position. They formed alliances, plotting to infiltrate and carve up the continent for their own gain. Amina, ever vigilant, rallied the African empires, urging them to unite against this encroaching threat. The final showdown came in the form of the Great African War. European cannons clashed with African warriors, as both sides fought tooth and nail for control over the lucrative trade routes. The African empires, driven by a fervent desire to protect their sovereignty, pushed back the invaders, routing their armies and forcing a retreat. Victorious, Amina stood amidst the ruins of war, surveying the transformed landscape. Africa was no longer just a distant land, but a global powerhouse, firmly establishing itself as the dominant force in global trade. The African empires harmoniously shared knowledge, culture, and prosperity, forever altering the course of history. In the years that followed, the African empires continued to expand their influence, reaching new heights of wealth and power. Timbuktu became a beacon of knowledge, with scholars and intellectuals flocking from around the world to study its libraries and universities. The wealth generated by trade flowed into the construction of breathtaking architectural wonders, adorning the African cities with splendor unmatched anywhere else in the world. The story of Amina, the ambitious merchant, became a legend passed down through generations, inspiring countless others to follow in her footsteps. Africa stood as a testament to the potential of alternate histories, where the empires of the African continent defied all odds to dominate global trade. It was a world where Africa's rich cultural diversity and enterprising spirit shone brightly, forever changing the course of history for generations to come.\n",
            "Example 14: In the quiet town of Oakwood, nestled among towering trees and whispers of haunted legends, stood an old Victorian mansion. Its darkened windows and crumbling facade seemed to reflect the secrets held within its walls. Locals spoke of the tale that plagued the town for generations—an unsolved mystery surrounding the death of the mansion's previous owner, the eccentric and reclusive Mr. Montgomery. Legends whispered of spirits trapped within, searching for a way to communicate with the living. Little did the townsfolk know that fate would soon draw them into a terrifying ordeal that involved a forbidden tool of spirit communication: the Ouija board. As the moon reached its zenith and an eerie stillness settled on the town, a group of curious teenagers, led by the intrepid Emily, decided to explore the mysteries within the old mansion. With nervous anticipation, they gathered beneath the shadowed archway, each clutching a flashlight and a heart filled with trepidation. They cautiously stepped into the dimly lit hallway, the scent of cedar and decay lingering in the air. The creaking floorboards seemed to echo the lurking presence of unknown entities. In the flickering glow of their flashlights, the group journeyed deeper into the mansion. Each room revealed a glimpse into Mr. Montgomery's peculiar life. Dust-covered furniture, moth-eaten drapes, and faded family portraits carried the weight of forgotten memories. And then, they saw it—the room where Mr. Montgomery had met his untimely demise. The wooden floorboards bore the stains of a violent struggle long past. Emily, sensing a connection to the spirits rumored to haunt the mansion, suggested they try to communicate using the forbidden tool of Edgar's cousin, the Ouija board. Nervously, they assembled in a circle, Ouija board placed upon their knees. The air grew heavy as they placed their trembling fingertips onto the planchette. With a collective breath held, they began to channel their energy, calling out to the spirits that resided within the mansion's walls. The planchette began to move, gliding across the board as the spirits answered their call. The group's excitement soon turned to fear when the messages spelled out Beware and Leave this place. Unease settled over the group, but their curiosity and determination pushed them to continue their exploration. As they ventured further into the mansion, strange occurrences began to unfold. Doors slammed shut, chilling whispers echoed through the rooms, and forgotten objects levitated in defiance of natural laws. Shadows danced upon the walls, manifesting into grotesque forms that sent icy shivers down their spines. The spirits were no longer content with mere warnings—they sought revenge and release from their eternal imprisonment. In their relentless pursuit, the spirits tormented the group, toying with their fears and exploiting their vulnerabilities. One by one, the teenagers fell prey to the malevolent forces lurking within the mansion's dark embrace. Emily, the last remaining survivor, knew she had to confront the spirits and put an end to their torment. Her heart pounding, she returned to the room where it all began—the room where Mr. Montgomery had met his demise. With trepidation, Emily summoned the spirits once more, Ouija board resting on her trembling knees. She pleaded for release, for forgiveness, and for the spirits to find peace. The planchette moved, spelling out their final message—It is done. Silence enveloped the room as Emily's anguished cries were replaced by an eerie stillness. The spirits had found solace, their malevolence vanquished. As dawn broke over Oakwood, the town awakened to a new day, blissfully unaware of the horrors that had unfolded within the old mansion. Emily, haunted by the experiences she had endured, decided to share her story with the town. The mansion, once a place of darkness and despair, became a symbol of resilience and triumph over the forces that sought to consume them. Oakwood whispered of the events that had transpired, a cautionary tale passed down through the generations. The legend of the old mansion and its spirits stood as a reminder that delving into the realm of spirit communication was not to be taken lightly. And though the horrors were but a memory, the stories would forever linger, etched into the fabric of Oakwood's ghostly past.\n",
            "Example 15: In the dimly-lit streets of Noirville, a city suffocated by its own secrets and sins, Detective Jack Sullivan roamed, a lone figure with a hardened heart and eyes that had stared too deeply into the abyss. The rain poured unyielding, drawing a watery curtain across the tainted cityscape. Tales of corruption and deceit were etched into every crumbling brick and whispered on the puffs of cigarette smoke that curled through the air like confessions of the damned. Jack, a man whose past was as shadowy as the murky alleyways he tread, arrived at his shabby office above the Lucky Star Diner. The flickering neon sign casting an eerie glow upon his worn-out trench coat. The stack of unsolved cases on his desk spoke of his immense workload, but one file stood out amidst the clutter—a case that had haunted him for months. The murder of a mysterious femme fatale named Victoria Lane. As he delved into the night's first bourbon-laced sip, Jack's weary eyes scanned the file, tracing each word like a labyrinth of secrets. Victoria, a seductive enchantress with a troubled past, had met a grisly demise in the cold embrace of her own apartment. A hint of opulence surrounded her, but the person responsible had carefully erased any trace of motive or evidence, leaving Jack with nothing but dead-ends. Driven by a relentless pursuit of justice, Jack grew consumed by the enigma that was Victoria's life and death. He began traversing the city's underbelly, visiting smoke-filled jazz clubs, shadowy brothels, and dimly lit speakeasies, seeking answers from those who whispered behind closed doors. In this city of lost souls, trust was a fragile thread, and Jack knew better than to hold on too tight. The streets whispered rumors about a notorious crime lord known only as The Raven, a name whispered in hushed voices by those who dared to cross his path. The Raven, a man shrouded in darkness and protected by an impenetrable web of deceit, seemed like the key to solving Victoria's murder. And so, Jack embarked on a treacherous journey, weaving through a treacherous web of lies, betrayal, and bloodshed. With each step, danger hung like a pallor of smoke in the air. Jack's investigation led him to a dilapidated warehouse at the city's edge, where The Raven's operations were said to reside. Heart pounding, he stealthily approached, senses heightened, ready to confront the city's malevolence head-on. Broken glass crunched beneath his weary feet as he slipped past the guards, moving like a phantom through the murky labyrinth of crates and cobwebs. Finally, he reached The Raven's lair, a dimly lit chamber where secrets and sins intertwined. It was there, in the murky depths of a conversation heavy with hidden meanings, that Jack uncovered a shocking truth. Victoria Lane had been an undercover agent, posing as a femme fatale to infiltrate The Raven's empire. But her true mission had remained obscured, leading to her tragic demise at the hands of a traitor within their midst. Determined to bring justice to the fallen, Jack fought his way through a storm of gunfire, navigating the chaos with the instinct of a survivor. The gritty struggle seemed endless, but he emerged, bloodied but triumphant, exposing the traitor who had betrayed Victoria and avenging her death. As the city bathed in the first rays of dawn, Detective Jack Sullivan stood amidst the wreckage of his quest for truth. The mystery of Victoria Lane's murder unraveled, her memory honored by the unyielding pursuit of justice. The city of Noirville, though still burdened by its dark underbelly, held a flickering hope—a testament to Jack's dedication and the indomitable spirit that lies within the heart of every noir detective. With the shadows gradually lifting, Jack knew his work was far from over, but he found solace in the knowledge that justice would prevail, even in the darkest of nights. And so, he ventured back into the depths of Noirville, ready to face the next enigma that lay hidden in the abyss, forever embracing the role of the city's guardian, the noir detective who dared to expose the truth in a world mired in shadows.\n",
            "Example 16: In the sprawling city of New York, amidst the bustling streets and towering skyscrapers, there existed a vibrant artistic community. It was within this realm of creativity that two souls found each other, drawn together by their mutual passion for the arts. Their names were Ethan McKenna and Isabella Rivera, both renowned painters in their own right. Ethan, with his rugged charm and thick, tousled hair, was known for his bold brushstrokes and vibrant color palettes. Isabella, on the other hand, possessed an ethereal beauty, her eyes reflecting the depth of emotions she poured into her delicate portraits. Each time their paths crossed at art exhibitions and galleries, a spark of recognition ignited within them, signaling a shared connection that yearned to be explored. It was fate that brought Ethan and Isabella together when they received a rare opportunity to collaborate on a groundbreaking project. A prestigious art gallery had commissioned them to create a masterpiece that would encapsulate the essence of romance. The challenge excited them, the prospect of crafting a masterpiece that would capture the intricate nuances of love. Their collaboration began in a spacious loft, transformed into a haven of artistry. Canvases of all sizes lined the walls, awaiting the touch of their brushes. The air was thick with the scent of turpentine and the subtle melodies emanating from Isabella's old record player. As they worked side by side, their creative energies intertwined, fueling one another's inspiration. The project progressed with an effortless fluidity. Ethan and Isabella exchanged ideas, effortlessly translating emotions onto the blank canvases. He painted bold, fiery strokes that spoke of the intoxicating passion of new love, while she added delicate details that mirrored the fleeting tenderness found in the gentlest of embraces. The artwork began to breathe with life, each brushstroke revealing a deeper layer of their shared vision. Yet, as their masterpiece took shape, so too did a deepening relationship between Ethan and Isabella. In the stillness of the loft, their gazes lingered a little longer, their brushes occasionally brushed against one another, igniting a gentle current that electrified the space between them. A whirlwind of emotions blossomed in their hearts, as they navigated the delicate balance between their collaboration and the budding romance that flourished beneath its surface. However, as their masterpiece neared completion, a collision of doubt and insecurity threatened to unravel their shared vision. Isabella, plagued by her own fears, questioned the depth of her artistic voice. She found herself questioning if the magic they had created together was the result of her skills or the enchantment of their connection. Doubt crept into her heart, casting a shadow over their once harmonious collaboration. Ethan, sensing Isabella's internal struggle, took her aside one evening to a quiet corner of the loft. With gentle words and a heart brimming with love, he reassured her of her immeasurable talent and her irreplaceable contribution to their masterpiece. He reminded her that their collaboration was not just a meeting of two artists but a convergence of souls who shared a bond that transcended the realms of art. Isabella, touched by his words, felt the weight of her insecurities lift, replaced by a renewed sense of purpose and confidence. Together, hand in hand, Ethan and Isabella put the finishing touches on their masterpiece. It stood before them, a tangible testament to their shared vision and intertwining romance. The painting danced with colors that celebrated the tangled web of emotions that love weaves. It captured the electrifying spark of attraction, the vulnerability of baring one's soul to another, and the quiet solace found in the embrace of a loved one. On the day of the grand unveiling, as the art world looked on in awe, Ethan and Isabella stood beside their masterpiece, their eyes locked in an unspoken understanding. It was in that moment that they knew their collaboration had transcended the realm of art, transforming into a love story written in the strokes of paint upon the canvas. Their shared masterpiece brought them recognition and praise from all corners of the art world, but for Ethan and Isabella, it held a deeper significance. It was a testament to their unyielding connection, a celebration of the romance that had blossomed amidst their shared creativity. As they stood amidst the applause and accolades, they felt a sense of fulfillment that surpassed any individual success. They had not only created a masterpiece that captured the essence of romance but had also found a love story of their own, one that would continue to evolve and inspire their art for years to come.\n",
            "Example 17: In the bustling metropolis of New York City, where dreams were born and ambitions flourished, there lived three individuals bound together by the intricate dance of love and ambition. At the heart of this tale was Amelia, a talented and tenacious young actress who yearned for the bright lights of Broadway. Her radiant smile and enchanting charisma drew the attention of many, but her heart was torn between two suitors. The first suitor, Alexander, was a dashing and successful playwright whose words ignited passion within Amelia's soul. His eyes, deep pools of wisdom and creativity, had captured her heart from the moment they met. Together, they shared countless nights under the moonlit sky, professing their love for each other amidst the poetic backdrop of the city that never slept. On the other side of this emotional triangle stood Benjamin, a captivating and charismatic theater director known for his unwavering dedication to his craft. Dark and brooding, he possessed an unparalleled intensity that both scared and intrigued Amelia. Their connection was undeniable, as if the cosmos had conspired to bring them together, yet their ambitions threatened to hinder their love. As the days turned into weeks, Amelia found herself entangled in a web of conflicting desires. On one hand, there was Alexander, who showered her with adoration and promised a life intertwined with artistic success. He wrote plays that echoed her deepest emotions and aspirations, leaving her yearning for more. On the other hand, Benjamin offered her the opportunity to foster her talent on a grander scale, with the promise of becoming a household name. The difficult decision between love and ambition began to pierce her heart like a thousand tiny shards of glass. Amidst these emotions, fate took a mischievous turn. A beloved theatrical production came to the city, casting both the playwright and director in a game of professional rivalry, further complicating the already intricate love triangle. Amelia was caught in the middle, her heart pleading for resolution, but her mind torn between the path of love and career. And so, the stage was set for the climax of this enthralling tale. The opening night arrived, enveloping the entire theater in a hushed anticipation. As the lights dimmed and the curtains rose, the magic of the theater engulfed the room, captivating each soul in attendance. The play, a masterpiece composed by Alexander, conjoined the desires and emotions of each character, mirroring the very essence of Amelia's struggle. On that fateful night, as the audience held their collective breath, Amelia took center stage, embodying the turmoil of her heart with every step she made. In a surprising twist of fate, the complexities of love and career unraveled into a harmonious resolution. As the final act unfolded, Amelia's performance reached new heights, showcasing the vulnerability and strength that had been simmering within her. The applause echoed through the theater, a testament to her talent and commitment, and a piercing moment of clarity washed over her. In that instant, Amelia knew that love and ambition need not be adversaries, but rather they could intertwine flawlessly like the notes of a symphony. With newfound resolve, Amelia stepped off the stage and into the embrace of both Alexander and Benjamin, knowing that her heart now belonged to the realm of love, while her career thrived under the guidance of Benjamin's guiding hand. The love triangle that had once rattled her spirit had evolved into a delicate balance, a dance between passion and success. And so, in the realm of love triangles intertwined with career conflicts, this tale of passion and ambition reached its conclusion. The city of dreams had witnessed the metamorphosis of Amelia, as she soared to both artistic and personal heights, a true embodiment of the indomitable spirit of love and the pursuit of one's dreams.\n",
            "Example 18: In the vast expanse of the Nevada desert, the scorching sun beat down mercilessly on the cracked earth below. Miles away from civilization, a small air force base stood as a solitary outpost amidst this desolate landscape. It was here that Captain Sarah Foster, an experienced pilot known for her nerve of steel, found herself stationed. As dusk began to settle over the horizon, a palpable tension filled the air. Rumors had been circulating amongst the pilots, whispers of strange lights and unidentified flying objects spotted in the night sky. Skepticism mingled with curiosity as they recounted their peculiar encounters, but none were more captivating than the stories told by Captain Foster. She had witnessed something extraordinary during her training mission the previous evening. It had started as a routine flight, with the shimmering expanse of the desert stretching out below her aircraft. But as she climbed higher into the heavens, Captain Foster noticed a pulsating light, casting an ethereal glow against the dark sky. Intrigued, she maneuvered her jet closer, only for the mysterious light to dart away with astonishing speed. The encounter left Captain Foster's mind consumed with questions and a restless determination to uncover the truth. Rumors suggested that the base's senior officers were keeping information regarding these sightings under wraps, adding to her frustration. With a sense of urgency, she embarked on a clandestine investigation, aided by a trusted fellow pilot named Lieutenant Alex Jacobs. Together, Foster and Jacobs delved into classified archives, old case files, and even covertly questioned retired personnel. As their search broadened, they uncovered a startling pattern of UFO sightings reported by pilots throughout the years, often dismissed as atmospheric anomalies or misidentifications. It became clear that there was a deliberate effort to suppress the truth, to keep the pilots in the dark about these unexplained aerial phenomena. Spurred by their discoveries, Captain Foster and Lieutenant Jacobs decided to confront their superiors, demanding an explanation. The commanding officer, Colonel Mitchell, appeared skeptical at first, dismissing their claims as baseless conspiracy theories. However, the duo presented a stack of documented evidence, forcing the Colonel to take their concerns seriously. With a heavy sigh, Colonel Mitchell revealed the shocking truth: the base had indeed been monitoring these UFO sightings for decades, but the nature of these encounters remained elusive. The Colonel confessed that their attempts to investigate the origins of these strange crafts had met with continuous dead ends, leaving them with more questions than answers. Refusing to be deterred, Captain Foster proposed a bold plan. She suggested organizing a covert operation, using a state-of-the-art surveillance aircraft equipped with advanced tracking systems. With the Colonel's reluctant approval, Foster and Jacobs set out to gather a team of trusted pilots who had also encountered unidentified objects in the sky. Under the cover of night, their squadron took to the skies, their aircraft fitted with cutting-edge technology. As they patrolled the vast Nevada desert, scanning the heavens for any signs of unknown entities, tension hung in the air. The pilots were prepared to face the unimaginable, their hearts pounding with a mix of trepidation and exhilaration. Hours passed, and just as they were about to return to base, an urgent transmission crackled through their headsets. Lieutenant Jacobs had spotted a massive object hovering near the base, emanating a radiant glow that bathed the surroundings in an otherworldly hue. As the squadron closed in, their tracking systems picked up a strange energy signature emanating from the object. It was like nothing they had ever seen before. With a sense of momentous trepidation, Captain Foster took the lead, banking her aircraft expertly towards the colossal craft. As she edged closer, a surge of adrenaline coursed through her veins, mingling with a deep-rooted awe. For the first time in history, humanity was about to make direct contact with an extraterrestrial presence. As the squadron approached, the colossal object responded, emitting a brilliant burst of light that enveloped the pilots' aircraft. Blinded momentarily, they regained their senses to discover the alien craft had vanished without a trace. Yet, despite its disappearance, the encounter forever changed Captain Foster's perspective and left an indelible mark on her soul. In the aftermath of this extraordinary event, the base slowly acknowledged the existence of these otherworldly encounters and made efforts to study and understand them. The daring actions of Captain Sarah Foster and Lieutenant Alex Jacobs propelled a paradigm shift in how humanity perceived the skies above. From that moment on, pilots were no longer mere witnesses to the unknown, but rather bold explorers of a universe teeming with unfathomable wonders.\n",
            "Example 19: Once in a small, idyllic village nestled among rolling hills, there lived a young boy named Noah. Noah was a quiet and introspective child, often lost in his own thoughts as he observed the world around him. His frail frame and delicate features marked him as one afflicted by a debilitating illness since birth. Despite the fragility of his body, Noah possessed a mind filled with curiosity and a spirit brimming with resilience. In this village, there was a famous festival that took place every year. The Festival of Transformation, as it was called, was a celebration of personal growth and metamorphosis. It was believed that during the festival, anyone could undergo a profound transformation, transcending their weaknesses and emerging stronger than before. The villagers eagerly awaited this remarkable event, hoping to witness miracles unfold before their eyes. As the day of the festival approached, Noah's heart yearned to participate. However, the weight of his physical limitations dampened his hopes. For years, he had watched others marvel at the spectacle, secretly envious of their ability to change and grow. But deep within him, a flicker of hope burned, urging him to find his own path to transformation. The morning of the festival arrived, bathing the village in a golden glow. The air was thick with anticipation and excitement as the villagers gathered at the heart of the village, surrounding a magnificent oak tree. In this vast open space, rituals of transformation would take place, guided by ancient traditions passed down through generations. Noah, determined to uncover his hidden strength, stepped forward and asked the village elders for an opportunity to prove himself. Initially hesitant, they agreed, curious to witness what a frail boy like Noah could possibly achieve. Noah was given a small sapling, barely clinging to life, and his task was to nurture it into a vibrant and robust tree during the course of the festival. With unwavering determination, Noah set to work. Each day, he tenderly watered the sapling, bathing it in warm sunlight and shielding it from harsh winds. And as the festival unfolded, Noah's weak body seemed to find strength, aligning with the flourishing sapling. The villagers marveled at this metaphoric dance of growth, struck by the profound bond between Noah and the tree. However, as the festival neared its end, a sudden storm descended upon the village, battering the fragile sapling with relentless fury. Noah, weakened by exhaustion, refused to let despair engulf him. In a remarkable display of resilience, he threw himself over the trembling sapling, shielding it from the storm's brutal onslaught. Morning arrived, revealing a village bruised and battered, but Noah's sapling stood tall and proud, strengthened by his unwavering protectiveness. The villagers, now witnesses to the indomitable spirit that radiated from Noah, applauded in a thunderous roar, recognizing the depth of his transformation. They had witnessed the birth of both a majestic tree and a young boy who had found strength in his weakness. Noah's transformation had not only nourished a sapling but had inspired the villagers, reminding them that strength and growth could be found in the most unexpected places. From that day forward, Noah became an emblem of resilience and determination, his frailty becoming a source of inspiration for others facing their own battles. The Festival of Transformation took on a new meaning, with Noah's story woven into its fabric, reminding all who heard it that they too could find strength in the face of adversity. And so, the village continued to celebrate the Festival of Transformation, cherishing the knowledge that beneath every weakness lay the potential for immense strength. Noah's journey became a parable for all who sought transformation, offering a ray of hope to those who dared to believe in their own ability to rise above their limitations. And in the annual gathering under the sprawling oak tree, the villagers found solace, inspiration, and the courage to embark on their own transformative journeys, just like Noah.\n",
            "Example 20: In a quaint little town nestled amongst the rolling hills, there lived a young woman named Genevieve. She possessed a passion for literature that burned brightly within her heart. Each night, under the comforting glow of her bedside lamp, she would devour the pages of classic novels, immersing herself in the world of love and romance crafted by the greatest literary minds. Genevieve dreamt of capturing the essence of passionate love within her own writing, longing for a love story that would rival those she had cherished within the pages of her beloved books. One crisp autumn day, the town's annual literary festival arrived, casting an enchanting spell over the bustling streets. Writers from far and wide flocked to the event, their words weaving tales of love and heartbreak, capturing the hearts of the attendees. Genevieve, with her overflowing passion for literature, decided to attend in hopes of finding inspiration and perhaps even the love that had eluded her thus far. As Genevieve strolled through the festival grounds, marveling at the vibrant tapestry of book stalls and the intoxicating scent of newly printed pages, her eyes were drawn to a reading taking place in a secluded corner. There, amidst a small gathering of spellbound listeners, stood a charismatic author named Alexander. His voice resonated with warmth, infusing life into the words of his recently published novel - a tale of star-crossed lovers bound by the whims of fate. Enthralled by his storytelling prowess, Genevieve found herself irresistibly drawn to Alexander's magnetic presence. She mustered the courage to approach him after the reading, her heart pounding in anticipation. As Alexander turned to face her, their eyes met, sparking an immediate connection. They engaged in deep conversations about literature, exchanged their favorite passages, and shared their dreams of weaving love stories that would stand the test of time. Days turned into weeks, and Genevieve and Alexander's bond grew stronger with each passing moment. As their love blossomed, their words intertwined like the delicate threads of a tapestry, creating a narrative that mirrored the great love stories they had admired for so long. They poured their hearts into their respective manuscripts, inspiring and supporting one another, further fueling their own romantic tale. But just as every great love story encounters its trials, Genevieve and Alexander faced their own. Doubts clouded their minds, whispering insecurities and fears of a love that might only exist within the pages of their imagination. Genevieve, burdened by the weight of her expectations, wondered if their love story could ever match the grandeur of those she had coveted in her literary escapades. It was during a moonlit stroll through the town's enchanting park that Genevieve and Alexander confronted their fears. Beneath the twinkling stars, surrounded by the soothing sound of rustling leaves, they revealed their vulnerabilities to one another. Each confessed to the insecurities that had haunted their hearts, acknowledging the immense pressure to create a love story that lived up to the lofty standards set by literature. In that moment of heartfelt honesty, they realized that their love, while not forged from the melodrama of a novel, was real and authentic. Their connection transcended the written word, and they found solace in the realization that their love story need not mimic those of the literary world. Love, they recognized, was bestowed upon them as a unique masterpiece, to be cherished and celebrated. Embracing their newfound understanding, Genevieve and Alexander continued to write, not for the sake of crafting the most epic love story but rather to express the raw, imperfect beauty of their own journey. Their words danced across the pages, painting a tale that was uniquely theirs, filled with real emotions, genuine struggles, and a love that grew stronger with each passing day. Soon, the day arrived when Genevieve and Alexander triumphantly held their published novels. As they looked upon their work, they marveled at how their independent stories, mirroring their personal and shared experiences, had converged to form a unified chorus of love. Their books resonated with readers, who were captivated by the depth and authenticity that emanated from the pages. Genevieve and Alexander had discovered that love and literature were not bound by the confines of perfection or societal pressure. Rather, it was the passion, vulnerability, and unwavering devotion they had poured into their words that touched the hearts of their readers the most. Their love story, though not the stuff of legends and fairy tales, became a beacon of hope and a testament to the power of genuine and imperfect love. And so, Genevieve and Alexander continued to write, weaving tales of love and romance that embraced the complexities and imperfections of the human experience, leaving an indelible mark on the literary world. Their story served as a reminder that love, both within the pages of literature and in the tapestry of life, could thrive in its most beautiful form when stripped of unrealistic expectations and allowed to flourish in its purest and most authentic state.\n"
          ]
        }
      ]
    },
    {
      "cell_type": "code",
      "source": [
        "print(list_of_20_examples)"
      ],
      "metadata": {
        "colab": {
          "base_uri": "https://localhost:8080/"
        },
        "id": "KQNGJxeB1qGL",
        "outputId": "13c81582-dfc7-4235-d269-067ac2664c1f"
      },
      "execution_count": 40,
      "outputs": [
        {
          "output_type": "stream",
          "name": "stdout",
          "text": [
            "[\"In the humble town of Newbridge, nestled in the heartland of the countryside, there lived a peculiar man named Barnaby Grimsby. Tall and hunched, with a shock of unruly gray hair and a perpetual crinkle of mischief in his eyes, Barnaby was the local satirist. With his sharp wit and cutting tongue, he sought to expose the follies and absurdities of society. But it was not just any society that captured Barnaby's satirical commentary—it was the glaring social inequality and rampant poverty that plagued the town. As the sun rose on another day in Newbridge, Barnaby set out on his mission of enlightenment. He wore a tattered coat, threadbare pants, and mismatched shoes, a deliberate choice to mirror the destitution that plagued so many. Armed with his trusty quill and boundless imagination, he roamed the cobblestone streets, observing the townsfolk and seeking inspiration for his biting commentary. At the center of Newbridge stood a grand mansion, belonging to Lord Percival Kingston, a self-proclaimed benefactor of the town. Dressed in exquisite garments and parading his wealth, Lord Kingston was the epitome of obliviousness to the suffering that surrounded him. Barnaby couldn't resist the opportunity to satirize this glaring hypocrisy. One fateful evening, during the annual masquerade ball held at Lord Kingston's mansion, Barnaby concocted an audacious plan. Disguised as a wealthy nobleman, he mingled with the elite, blending seamlessly in their opulent surroundings. As the night wore on, Barnaby skillfully steered conversations toward the topic of poverty, slowly revealing his knowledge of the cruel realities faced by the less fortunate. Word spread like wildfire throughout the grand ballroom, and soon whispers of Barnaby's presence reached Lord Kingston's ears. Filled with curiosity and amusement, Lord Kingston invited Barnaby to a private salon, where the two men engaged in a battle of wits and words. Barnaby pulled no punches as he charmed Lord Kingston with glittering tales of opulence and extravagance. With a subtle twist, he would then sprinkle his conversation with hard-hitting tales of the impoverished, their strife, and the inequality rampant in Newbridge. Slowly, but surely, Barnaby chipped away at the nobleman's facade. Days turned into weeks, and Barnaby's relentless satire began to stir something deep within Lord Kingston's conscience. The stark contrast between the lavish lifestyle he luxuriated in and the underprivileged citizens he rarely encountered plagued his mind. In sleepless nights, he questioned his role in perpetuating social inequality. And so it came to pass that Lord Kingston, struck by an epiphany, issued a public decree. He vowed to distribute a portion of his immense wealth to alleviate the suffering of the impoverished in Newbridge. The townspeople, once skeptical of his intentions, were astounded by his genuine desire for change. Barnaby watched from a distance as the town he loved began to transform. His biting satire had sparked a revolution of empathy, paving the way for a more equitable society. He continued to pen his witty commentaries, but now they carried a glimmer of hope, a call for unity and compassion. In the years that followed, Newbridge became a beacon of change. Lord Kingston's act of philanthropy inspired other wealthy individuals to follow suit, leading to the establishment of schools, hospitals, and welfare organizations. Poverty still existed, but its grip on the town had weakened significantly. And so, the tale of Barnaby Grimsby, the satirist of Newbridge, reached its poignant conclusion. His sharp quill, combined with the vulnerability of biting social commentary, had brought about a metamorphosis in the hearts and minds of the townspeople. Barnaby's legacy of satire, fused with a call for justice, would forever be cherished in the annals of Newbridge's history, serving as a reminder that even the bleakest of circumstances could be transformed by the power of words and the unwavering pursuit of equality.\", \"In a small town nestled amidst rolling hills and colorful meadows, there lived a spirited young woman named Emily. With her eyes alight with dreams and her heart brimming with passion, she longed to share her deep love for music with the world. Residing in this idyllic countryside, Emily yearned to uncover the secrets of melodies that echoed through the ages, for she firmly believed that music could transcend boundaries and unite souls. Little did she know that her journey would intertwine with a profound exploration of national anthems and their cultural significance. As Emily eagerly practiced her piano, her fingers dancing over the keys, her voice lifted in song, the townspeople couldn't help but be captivated by her enchanting performances. They gathered in the town square, drawn by the irresistible allure of her music. It was at one such gathering where Emily's talent caught the attention of Professor Michael Jefferson, a renowned musicologist with a deep fascination for the cultural power of national anthems. Curiosity ignited within Professor Jefferson as he watched Emily's fingers delicately caress the piano keys, effortlessly weaving a tapestry of emotions. He approached her with a gentle smile, extending an invitation to join him on a journey of discovery. Emily, filled with excitement and a thirst for knowledge, readily accepted his offer, eager to unravel the hidden stories locked within the notes of national anthems. Together, they embarked on a voyage through time and space, tracing the roots of national anthems from distant lands. From the epic and stirring melodies of the French La Marseillaise to the haunting beauty of Japan's Kimigayo, they reveled in the diversity and significance of each composition. Every interaction and exchange carried them deeper into the rich tapestry of humanity's musical heritage, enlightening them about the profound cultural bond that national anthems forged within societies. However, their voyage encountered turbulent waters when they stumbled upon a forgotten, yet incredibly powerful national anthem. It belonged to a war-torn nation where division and strife had torn the fabric of society apart. The anthem, known as The Song of Unity, had the potential to heal the wounds and bridge the chasms that had plagued the nation for decades. With hearts brimming with hope, Emily and Professor Jefferson made it their mission to restore the forgotten anthem to its rightful place in the hearts of the people. Through tireless research, they discovered that the words and melodies of the anthem held within them an inherent power to invoke unity, foster empathy, and inspire change. Bravely, they took to the streets, inviting all citizens to gather in the town square to witness the revitalization of this long-lost anthem. As the people assembled, the air crackled with anticipation. Emily took her place at the piano, and as her fingers danced across the keys, the melodies of The Song of Unity gracefully filled the space. The notes resonated within the souls of the onlookers, stirring emotions long suppressed by the unyielding force of division. Tears streamed down weathered faces, and hands interlocked in a newfound sense of solidarity. As the anthem reached its crescendo, the people erupted with thunderous applause, their voices joining in a triumphant chorus. In that moment, the power of music, harmonized with the cultural significance of the national anthem, had triumphed over discord, fostering compassion and healing the irrevocable wounds of the past. From that day forward, the town thrived as a haven of harmony and understanding. The story of Emily and Professor Jefferson's musical odyssey, intertwined with the exploration of national anthems and their cultural significance, became a legend passed down through generations. The people of the town celebrated their poignant journey, recognizing the everlasting bond between music and the cultural fabric of society. And there, amidst the rolling hills and colorful meadows, the transformative power of melody continued to echo, reminding all who listened of the transformative force that music, together with national anthems, encompassed.\", \"In the bustling halls of St. Mary's Hospital, amidst the whirlwind of beeping machines and urgent footsteps, stood Sarah Collins, a seasoned ER nurse with a heart of gold. The early morning light streamed through the windows, casting a warm glow on the sterile surroundings. Sarah, with her radiant smile and caring demeanor, was beloved by patients and colleagues alike. As she prepared for her shift, donning her crisp navy scrubs and tying her hair into a neat bun, Sarah's mind braced for the unpredictable day ahead. Today, she would be faced with the relentless flow of patients, each with their own unique story, pain, and hope. The ER, she knew, was a melting pot of human experiences. As the clock chimed 7, signaling the start of her shift, the ER doors swung open, revealing a flurry of activity. Sarah's heart quickened as she prepared herself mentally for the intricate dance that awaited her. She took her position at the triage desk, where she would assess the urgency of each patient's situation and prioritize their care accordingly. The day unfolded with a symphony of emotions, as Sarah attended to broken bones, fevers, and anguished cries. With each patient, she employed her gentle touch, offering words of comfort and reassurance. Be it stitching up a laceration or providing pain relief to those in need, Sarah's dedication to her craft shone through, unwavering and unwaveringly compassionate. Amidst the cadence of the ER, a particularly challenging case presented itself. A young boy named Tommy was rushed in, his face pale and his body wracked with coughs. Sarah's heart ached as she observed his distressed parents, their eyes filled with terror. Time seemed to stand still as she worked tirelessly to stabilize Tommy, coordinating swiftly with the medical team to administer lifesaving treatments. Hours turned into minutes as the ER became a whirlwind of activity. Sarah's adrenaline surged, propelling her forward into an endless cycle of healing. Yet, deep within her, fatigue threatened to take its toll. The weight of responsibility, the constant surge of emotions, and the demanding physicality of the job gnawed at her like a persistent ache. As the sun began its descent, Sarah's resolve remained steadfast. She knew that her purpose was to be the guiding light in the darkest hours of others. And so, with weary legs and a fierce determination, she pressed on. Finally, as the night settled in, a calmness washed over the ER. Sarah's eyes, heavy with exhaustion, took a moment to survey the space around her. The bustling chaos had transformed into a sanctuary of tranquility. She could almost hear the collective sigh of relief from both patients and staff. In the depths of that stillness, Sarah's unwavering commitment and unwavering strength found their reward. Tommy, the young boy she had fought so ardently for, slept peacefully, his fever subsiding and his breathing steady. His parents, worn but grateful, clung to each other, tears of relief streaming down their faces. Sarah, humbled by the impact of her work, felt a profound sense of fulfillment. In the face of all the heartaches and uncertainties that shadowed the ER, she was reminded of the power of resilience, compassion, and the unwavering spirit of those who dedicate their lives to healing. The morning sun peeked over the horizon, casting a golden glow on the world outside. As Sarah bid farewell to the ER, her steps carried a newfound sense of purpose. She knew that tomorrow would bring new challenges, new stories, and new lives to touch. And for that, she would forever be grateful – for the privilege of being an unsung hero in the ever-unfolding drama of life.\", \"In the bustling metropolis of NeoTech City, where the gleaming skyscrapers reached for the heavens and hovercars whizzed through the air like shooting stars, a young biohacker named Ethan Darrow toiled away in his hidden laboratory. Lit by the soft glow of monitors displaying complex strands of DNA code, Ethan feverishly worked towards his goal of harnessing the power of genetic modifications for the betterment of mankind. Ethan, with his unruly mop of jet-black hair and piercing blue eyes, had always been fascinated by the endless possibilities that the future held. He dreamed of a world where illnesses could be eradicated, where physical prowess could be enhanced, and where even the limitations of the human mind could be overcome. Inspired by the stories of the great biohackers who had come before him, he dedicated himself to pushing the boundaries of scientific discovery. In the heart of NeoTech City, Ethan was considered somewhat of a prodigy. He had gained a reputation for his remarkable aptitude in genetic engineering and his ability to push the limits of what was thought to be possible. He had a small circle of like-minded friends who shared his passion for biohacking, and together they formed a clandestine group known as the Gene Guardians. One evening, as Ethan worked diligently in his lab, he received an urgent message from his friend and fellow biohacker, Zoe. Something had gone horribly wrong with one of her experiments, and she needed Ethan's expertise to help her fix it. Intrigued and concerned, Ethan quickly packed his gear and made his way to Zoe's secret laboratory located on the outskirts of NeoTech City. Upon arriving at Zoe's laboratory, Ethan found her in a state of distress. Her usually vibrant green eyes were clouded with worry as she explained the situation. In her quest to unlock the secrets of intelligence enhancement, Zoe had inadvertently unleashed a strain of genetically modified bacteria that was rapidly multiplying and causing havoc in her lab. Realizing the potential danger this posed, Ethan activated the laboratory's containment protocols, sealing off the area and cutting off any possibility of the bacteria escaping into the city. Together, Ethan and Zoe began to analyze the bacteria and devise a solution to neutralize their unintended creation. After hours of tireless work, Ethan and Zoe made a breakthrough. They discovered a gene sequence that, when targeted with a specific enzyme, would trigger the bacteria to self-destruct. With this newfound knowledge, they swiftly synthesized the enzyme and administered it to the bacteria. As the last remnants of the bacteria disintegrated, Ethan and Zoe let out a collective sigh of relief. They had successfully averted what could have been a catastrophic event, safeguarding not only the city but also the reputation of the Gene Guardians. Eager to prevent any future mishaps, Ethan proposed the establishment of a dedicated research facility, funded by the city, where biohackers like themselves could explore the boundaries of genetic modifications under controlled conditions. Recognizing the potential benefits such a facility could bring, the city's governing council readily agreed and pledged their support. And so, NeoTech City became a beacon of futuristic innovation, a hub where biohacking and genetic modifications were embraced and carefully monitored. The city's residents marveled at the cutting-edge advancements that were ushered in, from the eradication of previously incurable diseases to the development of cognitive enhancements that propelled humanity to new heights of intellectual prowess. Ethan and Zoe, along with their fellow Gene Guardians, continued to push the boundaries of what was possible while ensuring the ethical and responsible use of genetic modifications. In this brave new world of the future, the power of biohacking stood as a testament to human ingenuity and the endless possibilities that awaited mankind.\", \"In the small town of Elmwood, nestled among the rolling hills of a picturesque countryside, lived the Parker family. They were known for their close-knit bond, spending Sundays picnicking at the nearby river and gathering for family dinners every Friday night. John and Emily Parker, the parents, had two children: Michael, an ambitious lawyer, and Sarah, a talented pianist. As the Parkers reveled in their seemingly idyllic life, little did they know that behind the walls of their cozy home, family secrets lay waiting to be unearthed. Part 1: The scent of fresh earth danced through the air in Elmwood as autumn arrived, gently painting the trees with fiery hues. The Parkers, like the rest of the town, were abuzz with excitement for the annual Fall Festival. This year, a small circus troupe was headlining the event with an impressive array of acrobats, tightrope walkers, and extraordinary performers. The whispered rumor among the townsfolk was that one of the acrobats had a striking resemblance to Emily Parker, the matriarch of the family. During the festival's opening night, the Parkers made their way through the bustling crowd. Suddenly, Sarah, the youngest of the family, froze upon catching sight of the acrobat. Her heart thudded in her chest as she realized the uncanny resemblance between the performer and her mother. Sarah's mind was whirling with questions, but she chose to keep her discovery to herself, not wanting to disrupt their harmonious family life. Part 2: As months passed, Sarah's curiosity consumed her. Unable to suppress her suspicions any longer, she decided to delve deeper into her mother's past. She discreetly searched through old photo albums, discarded letters, and hidden compartments, hoping to unravel the enigma shrouding her mother's identity. One afternoon, she stumbled upon an aged newspaper article, revealing the truth of her mother's secret past. Emily Parker had once been hailed as a talented trapeze artist known as The Flying Swan. With the weight of the secret bearing down on Sarah, she found herself torn between exposing the truth to her family or keeping the secret locked away forever. Knowing that the revelation could bring both joy and pain, she cautiously approached her mother one evening, gently revealing her discovery. Emily's eyes welled with tears as she confessed that before meeting John, she had led a life filled with leaps and twirls, soaring through the air to the applause of enraptured audiences. Part 3: The revelation sent ripples through the Parker family. Michael, unable to contain his astonishment, couldn't help but imagine the vibrant world his parents had hidden from them. Discussions were spurred, and the family found solace in sharing their deepest desires and regrets. Emily, with trepidation, contacted her former circus companions, reigniting her passion for the stage. The family rallied behind her, offering unwavering support and encouragement. With the Fall Festival approaching once again, the Parkers decided it was time to unveil the hidden talents that lay within their own family. Together, they devised a plan to create a memorable performance, a tribute to Emily's past life as The Flying Swan. Michael showcased his flair for storytelling through a tailored script, while Sarah's nimble fingers danced across the piano keys, composing an original score that resonated with every heart in the audience. As the night of the performance arrived, the townsfolk gathered under the starry sky. Emily, adorned in her vibrant circus attire, took center stage, ready to reclaim a piece of her past. The crowd held its breath as she gracefully ascended the trapeze, embracing her true self with every breathtaking stunt. It was a performance that transcended words, touching the deepest corners of the spectator's souls. At the culmination of the performance, not only did the Parkers discover the beauty of their family's legacy, but the town of Elmwood celebrated the unbreakable bond of family and the indomitable spirit that lies in facing one's past. From that moment on, the Parkers lived in harmony with their newfound truth, cherishing every moment and nurturing their dreams with unwavering determination.\", \"In the heart of the sprawling metropolis known as NeoCity, a sense of unease hung heavily in the air. Shadows danced across the towering skyscrapers, casting a veil of mystery over the city streets below. Among the multitudes of bustling life, there lived a young scientist named Dr. Evelyn Bennett. Driven by her insatiable curiosity and passion for unraveling the secrets of the universe, she dedicated her days to genetic manipulation, pushing the boundaries of what was deemed possible. In the basement laboratory of her modest brownstone, Dr. Bennett toiled tirelessly, studying the intricacies of DNA. Among her numerous experiments, she stumbled upon a groundbreaking discovery: a dormant gene that, when activated, granted extraordinary abilities. Eager to explore the boundless potential of this revelation, she named it the X1 gene. However, she soon realized the ethical implications of her findings and vowed to ensure that her research remained hidden from those who might abuse it. Months turned into years as Dr. Bennett painstakingly refined her work. The overwhelming secrecy surrounding her discoveries and her insistence on remaining undercover began to take its toll on her. Long-forgotten friends and family faded into the recesses of her mind as her obsession grew. Yet, an unforeseen twist of fate was about to alter the course of her solitary existence. Late one stormy evening, a hooded figure approached her doorstep. Reluctantly, Dr. Bennett opened the door and found herself face-to-face with a figure from her past - Dr. Thomas Stevens, her former mentor. His piercing eyes mirrored her own blend of curiosity and weariness, and his gravelly voice trembled with excitement. Evelyn, my dear, I've been tracking your progress from afar, he said. I've come to warn you. Legends speak of a hidden organization known as the Society of Shadows. They seek to manipulate the X1 gene for nefarious purposes. You must be extremely cautious. Dr. Bennett's heart raced with a mix of fear and exhilaration. The existence of an organization dedicated to harnessing the power of the X1 gene explained the unease that hung over NeoCity like a thick fog. Determined to protect her research and prevent further manipulation, she reluctantly agreed to collaborate with Dr. Stevens. Together, they delved into the dark underbelly of the city, following a trail of cryptic clues left behind by the Society of Shadows. The deeper they ventured, the more they realized the extent of the organization's reach. The Society's plans extended far beyond simple genetic manipulation - they sought to create an army of superhumans to orchestrate their bid for ultimate power. As they gathered evidence and mapped out their strategy, Dr. Bennett and Dr. Stevens became hunted. The Society's agents lurked in the shadows, always a step behind, as if they possessed an uncanny ability to anticipate their every move. With each passing encounter and confrontation, the stakes grew higher, and the noose tightened around their necks. In their darkest hour, on the eve of their final confrontation with the Society of Shadows, Dr. Bennett and Dr. Stevens uncovered the truth. The X1 gene was not merely a key to unlocking superhuman abilities; it was an evolutionary leap, a seed of extraordinary potential within every human being. The Society targeted them not just for their research, but because they understood the world-shattering implications of the X1 gene's true power. Armed with this knowledge, Dr. Bennett and Dr. Stevens devised a plan to expose the Society and its grotesque ambitions to the world. They unleashed their findings upon the global stage, causing a seismic shift in the balance of power. NeoCity erupted into chaos as the citizens, previously unaware of their own dormant abilities, awakened to a new reality. The Society's grand plans crumbled beneath the weight of public outcry and fierce opposition. In the aftermath of the revelation, Dr. Bennett and Dr. Stevens faded back into the obscurity from which they had emerged. Their deeds became the stuff of urban legends, whispered in hushed tones by those who dared to dream of the hidden potential carried within their very cells. Some years later, as the sun cast gentle rays upon the city streets, Dr. Evelyn Bennett marveled at the profound impact her work had made. Though she longed for the solitude of her basement laboratory, she knew her journey had only just begun. The mysteries of the X1 gene and the world of genetic manipulation would continue to unfold, promising new possibilities and untold wonders, forever altering the tapestry of human existence.\", \"In the dimly lit office of Detective Ethan Walker, the swirling smoke from his cigarette danced with the shadows on the wall. The room was filled with the smell of old books, the faint scent of coffee, and the weight of unsolved cases weighing heavy on his conscience. As a seasoned detective, Ethan had seen it all – the depravity of man's dark side, the twisted paths that led to violence and pain. But there was one case that haunted him, the elusive serial killer known only as The Shadow. The city, draped in an eternal darkness, was on edge. The inhabitants whispered fearful tales of The Shadow, a phantom who stalked the slums, preying on the vulnerable. Each victim was found with a single playing card, the infamous Ace of Spades, left as a morbid calling card. Despite his best efforts, Ethan had yet to catch a glimpse of the killer, a true puppet master who orchestrated his deadly game from the shadows. Determined to bring justice to the victims and peace to the city, Ethan threw himself headfirst into the investigation. Days blurred into nights as Ethan pieced together the fragments of the macabre puzzle. Mentally retracing the steps of the victims, he haunted crime scenes and interviewed witnesses, seeking the slightest shred of evidence to unmask The Shadow. As whispers of desperation grew louder, the weight of the case threatened to break him. But Ethan was driven, his spirit unyielding, as he refused to let the darkness consume him entirely. Just when hope seemed lost, a break in the case emerged. A witness, frail and fearful, came forward with information that could unravel the killer's twisted game. Cherise Malone, a survivor of an attempted attack, described the killer's chilling allure. With her help, Ethan crafted a composite sketch, hoping to put a face to the monster they chased. Media outlets seized the opportunity to showcase the drawing, plastering it across newspapers and TV screens, urging citizens to be vigilant and report any sightings. Days turned into weeks, and finally, a tip led Ethan and his team to a deserted warehouse on the outskirts of the city. As they descended upon the location, their hearts pounding with anticipation, they found themselves enraptured in a deadly game of cat and mouse. The sound of footsteps echoed through the vast emptiness, shrouded in a haunting silence. Ethan's pulse quickened, his senses heightened, as he followed the eerie whispers that seemed to lead him forward. Their footsteps halted suddenly, as they stumbled upon a hidden cellar, bathed in a dim, flickering light. With guns drawn and hearts racing, Ethan and his team descended into the depths of the abyss, each step echoing like a death knell. The cellar revealed a chilling tableau - walls adorned with photographs of the victims, arranged carefully like macabre trophies. In the corner of the room stood a man, the embodiment of evil itself – tall, gaunt, and clad in a black suit, concealing his morbid desires. It was The Shadow. Fear flickered across the killer's eyes as he realized his reign of terror was at an end. Ethan, the hunter, locked eyes with his prey, determined to bring an end to the darkness that consumed the city. In a tense standoff, shots rang out, shattering the silence of the cellar. The echoes of the gunshots mixed with the collective breath of a city held captive by fear. When the dust settled, The Shadow lay motionless on the cold cellar floor, his twisted reign of terror forever extinguished. The city breathed a collective sigh of relief, but Ethan knew that the scars left by the killer's heinous acts would linger. Justice had finally been done, but the road to healing would be long and arduous. As the city began to heal, Detective Ethan Walker stood at the edge of a cemetery, paying his respects to the victims who had lost their lives. Though the case had been solved, their memory would forever stay etched in his heart. With a heavy heart and a newfound resolve, Ethan vowed to protect the innocent, to be a beacon of light in a world shrouded by darkness. The city would rise once more, stronger than before, united by the triumph over evil. And so, the tale of The Shadow became a legend, a dark chapter in the city's history, reminding its inhabitants of the resilience of the human spirit. Detective Ethan Walker, forever marked by the haunting case, continued his pursuit of justice, knowing that the shadows would always lurk but never snuff out the light.\", \"In the quiet town of Willowbrook, nestled amidst rolling hills and meandering streams, there lived a young maiden named Ella. She possessed a delicate beauty that was matched only by her gentle demeanor. Ella was the village seamstress, weaving together fabrics with expert precision to create garments that spoke of grace and elegance. For many years, she had followed the path laid out for her, content with her craft and the modest life she led. Yet, deep within her heart, a longing yearned to be awakened, a desire to go beyond the mundane and bloom into something extraordinary. One fateful day, a mysterious traveler arrived in Willowbrook, his name whispered only as Xavier. Draped in a flowing cloak of midnight blue, he exuded an aura of wisdom and enchantment. Xavier had journeyed far and wide, seeking those who possessed an inner light awaiting to be ignited. As news of his arrival spread, the townsfolk gathered in anticipation, eager to witness the magic they believed he carried. Curiosity tugged at Ella, urging her to explore the realm of possibility that Xavier offered. Igniting a flame of courage within her, she bravely approached the enigmatic visitor, seeking guidance on her path to transformation. Xavier gazed into her eyes, recognizing the spark hidden within her and smiled knowingly. He spoke softly to Ella, his words weaving a tapestry of wisdom and insight, unveiling the way from ignorance to enlightenment. From that moment on, Ella embarked on a transformative journey, delving into the depths of her being to uncover the hidden reservoirs of knowledge waiting to be tapped. Xavier became her mentor, nurturing her hunger for understanding, as her mind blossomed like a rare flower under his tutelage. Day and night, they immersed themselves in ancient texts and philosophical discussions, unearthing the secrets of the universe and unraveling the mysteries of existence. As months turned into years, Ella witnessed her newfound enlightenment permeating every aspect of her life. The once mundane world transformed into a canvas of vibrant colors and intricate patterns. Her designs evolved, reflecting the depth of her newfound understanding. As each stitch bound together, she wove threads of enlightenment into the very fabric of her creations, infusing her garments with a touch of magic that captivated all who beheld them. Word of Ella's enchanting garments and her journey from ignorance to enlightenment spread far and wide, reaching the ears of a nobleman from a distant land. Curiosity piqued, the nobleman sought her out, captivated by the whispers of her extraordinary talents. Eager to possess such beauty, he commissioned Ella to create a masterpiece that would rival the grandest of works. With every stitch, Ella poured her heart and soul into the creation, infusing it with the profound wisdom she had gained from Xavier. The garment transcended mere cloth, becoming a testament to Ella's transformation and the power of enlightenment. It shimmered with a radiant glow, as if it held secrets whispered by the universe itself. When the nobleman beheld the completed masterpiece, tears streamed down his face, for he recognized in that moment that he too had witnessed a remarkable transformation. With newfound clarity, he vowed to use his power and influence not for personal gain, but to foster enlightenment and growth within his kingdom. And so, the story of Ella's transformation from ignorance to enlightenment, her beautiful garments, and the nobleman's newfound purpose spread throughout the land, inspiring countless souls to embark on their own journey of self-discovery. Guided by the light of knowledge, they awakened dormant aspirations and pursued the limitless possibilities that lay within each heart. Thus, in the quiet town of Willowbrook, the transformative power of enlightenment touched the lives of all who dared to embrace it, leaving an indelible mark on their souls and forever changing the course of their lives.\", \"In the small town of Riverton, nestled among rolling hills and whispering pines, stood St. Mary's Hospital. The narrow streets lined with quaint houses painted in pastel colors gave the town a whimsical charm. It was a place where everybody knew everybody, and secrets were shared in hushed whispers. At the heart of it all was Dr. Rebecca Lawson, a dedicated and compassionate physician who had felt the call to heal from a young age. Morning sunlight spilled through the large windows of Dr. Lawson's office, casting a warm glow on the rows of medical books and diplomas adorning the walls. Her desk, cluttered with patient files, held the weight of countless lives in its drawers. Dr. Lawson sat there, deep in thought, as she contemplated her latest case: Jack Thompson, a young man who had come to her seeking solace for wounds both physical and emotional. Jack, a former firefighter, had suffered a devastating accident that left him scarred, not just on the outside, but within his very soul. The fire that had consumed his body had ignited a myriad of painful memories from his past. Scars covered his once-handsome face, a constant reminder of the trauma he had endured. As Dr. Lawson reflected on Jack's case, she knew that healing wasn't just about mending wounds but also about addressing the deep-seated emotional pain that lingered beneath the surface. She knew that Jack needed more than just treatments and bandages; he needed understanding, empathy, and a community of support. With determination, Dr. Lawson embarked on a journey to bring healing not only to Jack but to the entire town of Riverton. She organized workshops to raise awareness about trauma and its healing process, inviting psychologists, therapists, and medical professionals from neighboring cities. The town's community center became a safe space, teeming with people seeking solace, understanding, and the chance to heal their own wounds. Through numerous conversations with Jack, Dr. Lawson uncovered the layers of pain that engulfed his spirit. They delved into his childhood scars, the fear that had haunted him since the accident, and the overwhelming guilt he carried for not saving all the lives he had sworn to protect. Weeks turned into months, and Dr. Lawson's efforts yielded significant progress. Jack, once withdrawn and reluctant, began to open up to the community of support that had rallied around him. The scars on his face, though still visible, no longer defined him. With each passing day, his smile grew wider, radiating the hope and strength that had been rekindled within him. The autumn air in Riverton was crisp as the town gathered for a celebration of healing, organized by Dr. Lawson. The community center buzzed with excitement, as townsfolk mingled, sharing stories of their personal triumphs and the newfound resilience they had discovered. And there, standing at the center of it all, was Dr. Lawson, gratified by the transformation she had witnessed in Jack and the entire community. She knew that healing wounds, both physical and emotional, required courage, determination, and the unwavering support of those around us. As the sun set on Riverton, casting a warm light over its winding streets, Dr. Lawson couldn't help but feel a sense of fulfillment. The scars of the town may never fully fade, but the wounds of the heart had begun to mend, one embrace, one conversation, and one act of kindness at a time. In the end, it was the collective healing of wounds, both physical and emotional, that forever changed the lives of the residents of Riverton, leaving behind an enduring legacy of resilience and hope, all thanks to the unwavering dedication of Dr. Rebecca Lawson, a healer armed not only with medicine but with compassion and the power to mend souls.\", \"In the bustling city of Marlowe, nestled within the glass and steel tower of Crescent Corp, three lives found themselves entangled in a web of desire and deception. At the heart of this tale was the enigmatic Ethan Holloway, a charismatic and ambitious young executive, whose charm was only rivaled by his ruthless pursuit of success. His piercing blue eyes and impeccably tailored suits gave him an air of invincibility that seemed to captivate all who crossed his path. Alongside Ethan was the beautiful and talented Olivia Morrison, a rising star within the company. Her stunning auburn locks cascaded down her shoulders, framing a face that held both intelligence and vulnerability. Olivia possessed a rare combination of intelligence and charm, making her an asset to Crescent Corp and sending male hearts aflutter. And then there was Rachel Adams, the vivacious and confident marketing expert. With her fiery red hair and a smile that could melt even the coldest of hearts, Rachel exuded an aura of adventure and spontaneity. Her sharp wit and fearless personality made her a force to be reckoned with, both in and out of the workplace. Within the confines of Crescent Corp, the three found themselves caught in a tempestuous love triangle, each driven by their own desires and ambitions, and unknowingly embarking on a perilous path that would test the limits of their relationships. As the days turned into weeks, Ethan found himself torn between the undeniable chemistry he shared with both Olivia and Rachel. He relished the intellectual stimulation of Olivia's company, finding solace in their late-night discussions about business strategies and ambitions. But deep within his heart, it was the fiery passion and uninhibited nature of Rachel that called to him, whispering promises of excitement and adventure. Olivia, on the other hand, was blissfully unaware of the fierce competition that raged beneath the facade of friendship. Her heart belonged wholly to Ethan, and she believed their connection was as unbreakable as the tower that housed Crescent Corp. Her nights were consumed with dreams of a future by his side, where they would conquer the corporate world together. Rachel, astute and perceptive, sensed the growing tension between Ethan and Olivia. With each passing day, her love for Ethan swelled, and she knew she had to be brave and fight for what she wanted. Yet, her loyalty to Olivia, her closest friend, created a tumult within her soul, tearing her between the desire for Ethan's love and the need to protect the friendships she held dear. As the pressure within the office began to build, the heightened emotions threatened to spill over, jeopardizing not only their personal lives but also the harmony within Crescent Corp. Gossip swirled, whispers echoed through the halls, and coworkers began to choose sides in the invisible battle for Ethan's affection. But destiny had a different plan in store for this impassioned trio. One fateful evening, as the city lights twinkled outside the corporate windows, the three found themselves locked in Ethan's spacious corner office, secrets and desires exposed in the raw honesty of the dimly lit room. In that moment, their shared vulnerability bridged the gap between them. The realization crystallized that their ambitions had led them astray, blinding them to the precious connections they had forged in one another. Love, tangled in a web of ambition and desire, had wounded them all, leaving invisible scars that could only heal with deeper understanding and forgiveness. United by the pain they had caused one another, Ethan, Olivia, and Rachel decided to face the consequences of their actions together. They sought redemption not only within themselves but within the company they had grown to love. They sought solace in friendships that could only be strengthened by the trials they had endured. With newfound clarity, Ethan, Olivia, and Rachel emerged from the shadows as a united front, inspiring their colleagues with humility and a renewed sense of purpose. Crescent Corp thrived under this newfound harmony, and their careers flourished in unison, supported by love that transcended the boundaries of the workplace. And so, amidst the concrete jungle of Marlowe, three lives were forever intertwined, their love triangle leaving an indelible mark on the tapestry of their souls. In the end, they learned that love, no matter its convoluted path, could heal and mend even the deepest wounds, and that true power was not obtained through ambition but through understanding and the strength to forgive.\", \"Deep in the heart of Mexico, in the bustling city of Guadalajara, a covert operation was about to take place. Agent Mark Thompson, a seasoned and resourceful DEA agent, had been chosen for a dangerous undercover mission to infiltrate a notorious drug cartel known as Los Zetas. With his steely determination and quick thinking, Mark had successfully completed numerous assignments in the past. But this time, the stakes were higher, and there was no room for error. Mark's cover story was meticulously crafted. He would pose as Miguel Rodriguez, a trusted enforcer seeking to expand his network within the cartel. His mission was to gain the trust of the notorious cartel leader, Ramiro El Diablo Hernandez, and gather crucial intelligence that could bring the entire organization to its knees. As he stepped onto Mexican soil, Mark could feel a mix of excitement and trepidation coursing through his veins. The seedy underbelly of Guadalajara became Mark's new reality. Dark alleyways lined with dilapidated buildings became his stomping ground. He immersed himself in the local underworld, making connections with small-time criminals and low-ranking cartel members. Each interaction was calculated, every word carefully chosen to maintain his cover. Days turned into weeks, and Mark's reputation as a ruthless enforcer began to grow within the cartel's ranks. As he delved deeper into the labyrinthine world of Los Zetas, Mark unearthed a web of corruption and violence. The cartel controlled every aspect of the city, spreading fear and anguish with each passing day. Mark witnessed countless lives cut short, innocent victims caught in the crossfire. A deep-rooted sense of justice fueled his determination to bring an end to their reign of terror. With each step closer to El Diablo, Mark's life hung in the balance. The cartel's suspicion grew, and he found himself in increasingly perilous situations. But Mark's resolve never wavered. He had a mission to accomplish, and he would see it through, no matter the cost. One fateful evening, Mark finally caught El Diablo's attention. His reputation had preceded him, and now he had the cartel leader's undivided attention. Mark, now fully ingrained in the criminal world, was granted an audience with El Diablo himself in a high-security compound hidden deep in the nearby mountains. It was in this fortressed stronghold that Mark's true test began. Surrounded by armed guards, he had to tread carefully, always watching his back. But his cunning and years of training served him well. He began gathering crucial information, codes, and the location of hidden drug labs. Each piece of intel brought him closer to crippling the cartel. In a gripping climax, Mark led a joint operation involving Mexican federal agents and the DEA to raid the drug cartel's operations. The compound erupted into chaos as bullets flew, and the once-almighty cartel crumbled before their eyes. El Diablo's reign, built on fear and bloodshed, was finally brought to an end. With the cartel dismantled, the people of Guadalajara breathed a sigh of relief. Mark, hailed as a hero, quietly disappeared into the shadows once again. His mission was accomplished, but the scars he carried would forever remind him of the horrors he witnessed. As the sun set over the city, a sense of peace began to settle. Guadalajara was free from the grip of Los Zetas, thanks to the unwavering determination and sacrifice of one man. Agent Mark Thompson, the name forever etched in the annals of the DEA, would forever be remembered as the hero who dared to infiltrate a drug cartel and bring justice to a troubled city.\", \"Long ago, in the sun-drenched land of ancient Greece, nestled at the foot of the majestic Mount Parnassus, there stood a sacred sanctuary known as the Oracle of Delphi. It was here, perched on a cliff overlooking lush olive groves and the sparkling waters of the Gulf of Corinth, that the famous Pythia, the high priestess of the oracle, resided. This mystical place drew people from far and wide seeking answers to their most profound questions, for it was believed that the oracle possessed the gift of prophecy, bestowed upon her by the gods themselves. Amongst the crowds that flocked to the Oracle of Delphi, there lived a young shepherd named Nikos. Tall and lean, with sun-kissed skin and a crown of unruly curls, Nikos spent his days tending to his flock amidst the rolling hills surrounding Delphi. His heart, however, longed for a greater destiny, one beyond the simple life of a shepherd. One fateful afternoon, as Nikos grazed his sheep near the sacred site, he heard whispers carried by the warm breeze. The whispers spoke of an ancient prophecy, buried deep within the heart of Delphi, waiting for someone bold enough to venture forth and unlock its secrets. Intrigued, Nikos followed the ethereal voices that guided his steps to a hidden chamber, its walls adorned with cryptic symbols and faded murals. As Nikos gazed at the ancient engravings, a deep and resonant voice pierced the silence. Young shepherd, it boomed, only one worthy to fulfill the prophecy shall possess the power to save our lands from impending doom. Startled, Nikos turned to find the spirit of the Pythia herself, her eyes shimmering with wisdom and a touch of sadness. She revealed to him the prophecy's riddle, half-spoken and half-veiled, leaving Nikos with a sense of both awe and trepidation. Driven by the oracle's words, Nikos embarked on a journey, traversing the rugged terrain of Greece in search of answers. He encountered trials and tribulations, battling mythical beasts and mischievous spirits who sought to impede his progress. Yet, his resolve never wavered, fueled by an unyielding faith in the prophecy's significance. After months of relentless pursuit, Nikos arrived at the sacred ruins of Delos, an island steeped in myth and legend. It is said that Delos was the birthplace of Apollo, the god of both prophecy and healing, and his divine presence still tingled in the air. As Nikos stood amidst the ruins, a radiant light enveloped him, and he heard the celestial voice of Apollo, guiding him to the final piece of the prophecy's puzzle. With newfound clarity, Nikos retraced his steps back to Delphi, where the Pythia awaited his return. Her smile, once cautious, now beamed with an unmistakable blend of pride and relief. For Nikos had solved the enigma of the prophecy, revealing the path to salvation for their troubled lands. The Oracle of Delphi gathered the people from every corner of Greece, from the humblest farmer to the mightiest warrior, in a grand ceremony to witness the fulfillment of the prophecy. Under the crumbling columns of the sanctuary, Nikos stood before his fellow mortals, his youthful face etched with resilience and determination. As Nikos began to recite the words of the prophecy, his voice rang out with a power that transcended his mortal frame. The ancient verses painted a stirring tapestry of unity, courage, and hope. It spoke of battles fought and victories won, of wisdom gained and darkness banished. The prophecy named Nikos as the chosen one, destined to lead his people to a future where peace and prosperity reigned. And so, with the weight of the prophecy on his shoulders, Nikos rallied the people of Greece, uniting them under a common purpose. They rebuilt their cities, rekindled long-lost alliances, and embraced a future intertwined with prosperity. The legacy of Nikos, the humble shepherd turned savior, echoed through the mountains and valleys of Greece for generations to come. His story became a testament to the enduring power of ancient prophecies, and the transformative potential they held. And whenever the wind whispered through the olive groves, the people knew that the Oracle of Delphi still watched over them, her wisdom guiding their path toward a brighter and more hopeful future.\", \"A cool breeze rustled through the towering palm trees, as the bustling port of Timbuktu came alive with activity. It was the early 15th century, and the African empires stood as dominant players in global trade. From the vast Sahara Desert to the trading cities along the Niger River, Africa thrived as a center of commerce and exploration. In this alternate history, the African empires had not only resisted European colonization but had thrived, establishing a network of powerful kingdoms that spanned across the continent. Led by the legendary Mansa Musa, the Malian Empire had become the epicenter of this flourishing trade. Its capital, Timbuktu, sparkled with towering mosques, bustling markets, and a diverse tapestry of people from across the globe. Among the chaos, a young merchant named Amina stood at her stall, adorned with intricately woven fabrics and bejeweled artifacts. Her almond-shaped eyes, framed by ebony skin, sparkled with determination and ambition. Amina had grown up in a diverse and welcoming city, where stories abounded about the great explorers who traversed the vast Sahara Desert, opening up new trade routes and connecting Africa to the major civilizations of the world. As the days passed, Amina's reputation as a skilled negotiator grew, attracting the attention of the Mansa himself. Impressed by her acumen, he invited her to join a delegation to negotiate trade agreements with the Chinese Emperor, seeking to expand their influence beyond the African continent. Amina was elated but knew the journey would be perilous. Undeterred, she embarked on this historic voyage, determined to secure prosperity for her people. The journey was arduous, as they traversed the treacherous Silk Road, braving sandstorms and bandits lurking in the desert's shadowy corners. Finally, after months of travel, they arrived in the majestic city of Beijing. Amina marveled at the architecture, the opulence, and the sheer vastness of the Chinese Empire. The negotiations were tense, but Amina's charisma and wit won over the Chinese Emperor, opening up a new era of trade between the two powerful empires. News of this historic agreement spread like wildfire across the African continent, sparking a renewed sense of pride and ambition. The empires of Songhai, Benin, and Kanem-Bornu redoubled their efforts, expanding their reach into distant lands. African explorers ventured beyond the realms of their ancestors, sailing across the Atlantic Ocean to establish colonies in the Americas. Despite this newfound success, challenges emerged. European powers, envious of Africa's dominance, sought to undermine its position. They formed alliances, plotting to infiltrate and carve up the continent for their own gain. Amina, ever vigilant, rallied the African empires, urging them to unite against this encroaching threat. The final showdown came in the form of the Great African War. European cannons clashed with African warriors, as both sides fought tooth and nail for control over the lucrative trade routes. The African empires, driven by a fervent desire to protect their sovereignty, pushed back the invaders, routing their armies and forcing a retreat. Victorious, Amina stood amidst the ruins of war, surveying the transformed landscape. Africa was no longer just a distant land, but a global powerhouse, firmly establishing itself as the dominant force in global trade. The African empires harmoniously shared knowledge, culture, and prosperity, forever altering the course of history. In the years that followed, the African empires continued to expand their influence, reaching new heights of wealth and power. Timbuktu became a beacon of knowledge, with scholars and intellectuals flocking from around the world to study its libraries and universities. The wealth generated by trade flowed into the construction of breathtaking architectural wonders, adorning the African cities with splendor unmatched anywhere else in the world. The story of Amina, the ambitious merchant, became a legend passed down through generations, inspiring countless others to follow in her footsteps. Africa stood as a testament to the potential of alternate histories, where the empires of the African continent defied all odds to dominate global trade. It was a world where Africa's rich cultural diversity and enterprising spirit shone brightly, forever changing the course of history for generations to come.\", \"In the quiet town of Oakwood, nestled among towering trees and whispers of haunted legends, stood an old Victorian mansion. Its darkened windows and crumbling facade seemed to reflect the secrets held within its walls. Locals spoke of the tale that plagued the town for generations—an unsolved mystery surrounding the death of the mansion's previous owner, the eccentric and reclusive Mr. Montgomery. Legends whispered of spirits trapped within, searching for a way to communicate with the living. Little did the townsfolk know that fate would soon draw them into a terrifying ordeal that involved a forbidden tool of spirit communication: the Ouija board. As the moon reached its zenith and an eerie stillness settled on the town, a group of curious teenagers, led by the intrepid Emily, decided to explore the mysteries within the old mansion. With nervous anticipation, they gathered beneath the shadowed archway, each clutching a flashlight and a heart filled with trepidation. They cautiously stepped into the dimly lit hallway, the scent of cedar and decay lingering in the air. The creaking floorboards seemed to echo the lurking presence of unknown entities. In the flickering glow of their flashlights, the group journeyed deeper into the mansion. Each room revealed a glimpse into Mr. Montgomery's peculiar life. Dust-covered furniture, moth-eaten drapes, and faded family portraits carried the weight of forgotten memories. And then, they saw it—the room where Mr. Montgomery had met his untimely demise. The wooden floorboards bore the stains of a violent struggle long past. Emily, sensing a connection to the spirits rumored to haunt the mansion, suggested they try to communicate using the forbidden tool of Edgar's cousin, the Ouija board. Nervously, they assembled in a circle, Ouija board placed upon their knees. The air grew heavy as they placed their trembling fingertips onto the planchette. With a collective breath held, they began to channel their energy, calling out to the spirits that resided within the mansion's walls. The planchette began to move, gliding across the board as the spirits answered their call. The group's excitement soon turned to fear when the messages spelled out Beware and Leave this place. Unease settled over the group, but their curiosity and determination pushed them to continue their exploration. As they ventured further into the mansion, strange occurrences began to unfold. Doors slammed shut, chilling whispers echoed through the rooms, and forgotten objects levitated in defiance of natural laws. Shadows danced upon the walls, manifesting into grotesque forms that sent icy shivers down their spines. The spirits were no longer content with mere warnings—they sought revenge and release from their eternal imprisonment. In their relentless pursuit, the spirits tormented the group, toying with their fears and exploiting their vulnerabilities. One by one, the teenagers fell prey to the malevolent forces lurking within the mansion's dark embrace. Emily, the last remaining survivor, knew she had to confront the spirits and put an end to their torment. Her heart pounding, she returned to the room where it all began—the room where Mr. Montgomery had met his demise. With trepidation, Emily summoned the spirits once more, Ouija board resting on her trembling knees. She pleaded for release, for forgiveness, and for the spirits to find peace. The planchette moved, spelling out their final message—It is done. Silence enveloped the room as Emily's anguished cries were replaced by an eerie stillness. The spirits had found solace, their malevolence vanquished. As dawn broke over Oakwood, the town awakened to a new day, blissfully unaware of the horrors that had unfolded within the old mansion. Emily, haunted by the experiences she had endured, decided to share her story with the town. The mansion, once a place of darkness and despair, became a symbol of resilience and triumph over the forces that sought to consume them. Oakwood whispered of the events that had transpired, a cautionary tale passed down through the generations. The legend of the old mansion and its spirits stood as a reminder that delving into the realm of spirit communication was not to be taken lightly. And though the horrors were but a memory, the stories would forever linger, etched into the fabric of Oakwood's ghostly past.\", \"In the dimly-lit streets of Noirville, a city suffocated by its own secrets and sins, Detective Jack Sullivan roamed, a lone figure with a hardened heart and eyes that had stared too deeply into the abyss. The rain poured unyielding, drawing a watery curtain across the tainted cityscape. Tales of corruption and deceit were etched into every crumbling brick and whispered on the puffs of cigarette smoke that curled through the air like confessions of the damned. Jack, a man whose past was as shadowy as the murky alleyways he tread, arrived at his shabby office above the Lucky Star Diner. The flickering neon sign casting an eerie glow upon his worn-out trench coat. The stack of unsolved cases on his desk spoke of his immense workload, but one file stood out amidst the clutter—a case that had haunted him for months. The murder of a mysterious femme fatale named Victoria Lane. As he delved into the night's first bourbon-laced sip, Jack's weary eyes scanned the file, tracing each word like a labyrinth of secrets. Victoria, a seductive enchantress with a troubled past, had met a grisly demise in the cold embrace of her own apartment. A hint of opulence surrounded her, but the person responsible had carefully erased any trace of motive or evidence, leaving Jack with nothing but dead-ends. Driven by a relentless pursuit of justice, Jack grew consumed by the enigma that was Victoria's life and death. He began traversing the city's underbelly, visiting smoke-filled jazz clubs, shadowy brothels, and dimly lit speakeasies, seeking answers from those who whispered behind closed doors. In this city of lost souls, trust was a fragile thread, and Jack knew better than to hold on too tight. The streets whispered rumors about a notorious crime lord known only as The Raven, a name whispered in hushed voices by those who dared to cross his path. The Raven, a man shrouded in darkness and protected by an impenetrable web of deceit, seemed like the key to solving Victoria's murder. And so, Jack embarked on a treacherous journey, weaving through a treacherous web of lies, betrayal, and bloodshed. With each step, danger hung like a pallor of smoke in the air. Jack's investigation led him to a dilapidated warehouse at the city's edge, where The Raven's operations were said to reside. Heart pounding, he stealthily approached, senses heightened, ready to confront the city's malevolence head-on. Broken glass crunched beneath his weary feet as he slipped past the guards, moving like a phantom through the murky labyrinth of crates and cobwebs. Finally, he reached The Raven's lair, a dimly lit chamber where secrets and sins intertwined. It was there, in the murky depths of a conversation heavy with hidden meanings, that Jack uncovered a shocking truth. Victoria Lane had been an undercover agent, posing as a femme fatale to infiltrate The Raven's empire. But her true mission had remained obscured, leading to her tragic demise at the hands of a traitor within their midst. Determined to bring justice to the fallen, Jack fought his way through a storm of gunfire, navigating the chaos with the instinct of a survivor. The gritty struggle seemed endless, but he emerged, bloodied but triumphant, exposing the traitor who had betrayed Victoria and avenging her death. As the city bathed in the first rays of dawn, Detective Jack Sullivan stood amidst the wreckage of his quest for truth. The mystery of Victoria Lane's murder unraveled, her memory honored by the unyielding pursuit of justice. The city of Noirville, though still burdened by its dark underbelly, held a flickering hope—a testament to Jack's dedication and the indomitable spirit that lies within the heart of every noir detective. With the shadows gradually lifting, Jack knew his work was far from over, but he found solace in the knowledge that justice would prevail, even in the darkest of nights. And so, he ventured back into the depths of Noirville, ready to face the next enigma that lay hidden in the abyss, forever embracing the role of the city's guardian, the noir detective who dared to expose the truth in a world mired in shadows.\", \"In the sprawling city of New York, amidst the bustling streets and towering skyscrapers, there existed a vibrant artistic community. It was within this realm of creativity that two souls found each other, drawn together by their mutual passion for the arts. Their names were Ethan McKenna and Isabella Rivera, both renowned painters in their own right. Ethan, with his rugged charm and thick, tousled hair, was known for his bold brushstrokes and vibrant color palettes. Isabella, on the other hand, possessed an ethereal beauty, her eyes reflecting the depth of emotions she poured into her delicate portraits. Each time their paths crossed at art exhibitions and galleries, a spark of recognition ignited within them, signaling a shared connection that yearned to be explored. It was fate that brought Ethan and Isabella together when they received a rare opportunity to collaborate on a groundbreaking project. A prestigious art gallery had commissioned them to create a masterpiece that would encapsulate the essence of romance. The challenge excited them, the prospect of crafting a masterpiece that would capture the intricate nuances of love. Their collaboration began in a spacious loft, transformed into a haven of artistry. Canvases of all sizes lined the walls, awaiting the touch of their brushes. The air was thick with the scent of turpentine and the subtle melodies emanating from Isabella's old record player. As they worked side by side, their creative energies intertwined, fueling one another's inspiration. The project progressed with an effortless fluidity. Ethan and Isabella exchanged ideas, effortlessly translating emotions onto the blank canvases. He painted bold, fiery strokes that spoke of the intoxicating passion of new love, while she added delicate details that mirrored the fleeting tenderness found in the gentlest of embraces. The artwork began to breathe with life, each brushstroke revealing a deeper layer of their shared vision. Yet, as their masterpiece took shape, so too did a deepening relationship between Ethan and Isabella. In the stillness of the loft, their gazes lingered a little longer, their brushes occasionally brushed against one another, igniting a gentle current that electrified the space between them. A whirlwind of emotions blossomed in their hearts, as they navigated the delicate balance between their collaboration and the budding romance that flourished beneath its surface. However, as their masterpiece neared completion, a collision of doubt and insecurity threatened to unravel their shared vision. Isabella, plagued by her own fears, questioned the depth of her artistic voice. She found herself questioning if the magic they had created together was the result of her skills or the enchantment of their connection. Doubt crept into her heart, casting a shadow over their once harmonious collaboration. Ethan, sensing Isabella's internal struggle, took her aside one evening to a quiet corner of the loft. With gentle words and a heart brimming with love, he reassured her of her immeasurable talent and her irreplaceable contribution to their masterpiece. He reminded her that their collaboration was not just a meeting of two artists but a convergence of souls who shared a bond that transcended the realms of art. Isabella, touched by his words, felt the weight of her insecurities lift, replaced by a renewed sense of purpose and confidence. Together, hand in hand, Ethan and Isabella put the finishing touches on their masterpiece. It stood before them, a tangible testament to their shared vision and intertwining romance. The painting danced with colors that celebrated the tangled web of emotions that love weaves. It captured the electrifying spark of attraction, the vulnerability of baring one's soul to another, and the quiet solace found in the embrace of a loved one. On the day of the grand unveiling, as the art world looked on in awe, Ethan and Isabella stood beside their masterpiece, their eyes locked in an unspoken understanding. It was in that moment that they knew their collaboration had transcended the realm of art, transforming into a love story written in the strokes of paint upon the canvas. Their shared masterpiece brought them recognition and praise from all corners of the art world, but for Ethan and Isabella, it held a deeper significance. It was a testament to their unyielding connection, a celebration of the romance that had blossomed amidst their shared creativity. As they stood amidst the applause and accolades, they felt a sense of fulfillment that surpassed any individual success. They had not only created a masterpiece that captured the essence of romance but had also found a love story of their own, one that would continue to evolve and inspire their art for years to come.\", \"In the bustling metropolis of New York City, where dreams were born and ambitions flourished, there lived three individuals bound together by the intricate dance of love and ambition. At the heart of this tale was Amelia, a talented and tenacious young actress who yearned for the bright lights of Broadway. Her radiant smile and enchanting charisma drew the attention of many, but her heart was torn between two suitors. The first suitor, Alexander, was a dashing and successful playwright whose words ignited passion within Amelia's soul. His eyes, deep pools of wisdom and creativity, had captured her heart from the moment they met. Together, they shared countless nights under the moonlit sky, professing their love for each other amidst the poetic backdrop of the city that never slept. On the other side of this emotional triangle stood Benjamin, a captivating and charismatic theater director known for his unwavering dedication to his craft. Dark and brooding, he possessed an unparalleled intensity that both scared and intrigued Amelia. Their connection was undeniable, as if the cosmos had conspired to bring them together, yet their ambitions threatened to hinder their love. As the days turned into weeks, Amelia found herself entangled in a web of conflicting desires. On one hand, there was Alexander, who showered her with adoration and promised a life intertwined with artistic success. He wrote plays that echoed her deepest emotions and aspirations, leaving her yearning for more. On the other hand, Benjamin offered her the opportunity to foster her talent on a grander scale, with the promise of becoming a household name. The difficult decision between love and ambition began to pierce her heart like a thousand tiny shards of glass. Amidst these emotions, fate took a mischievous turn. A beloved theatrical production came to the city, casting both the playwright and director in a game of professional rivalry, further complicating the already intricate love triangle. Amelia was caught in the middle, her heart pleading for resolution, but her mind torn between the path of love and career. And so, the stage was set for the climax of this enthralling tale. The opening night arrived, enveloping the entire theater in a hushed anticipation. As the lights dimmed and the curtains rose, the magic of the theater engulfed the room, captivating each soul in attendance. The play, a masterpiece composed by Alexander, conjoined the desires and emotions of each character, mirroring the very essence of Amelia's struggle. On that fateful night, as the audience held their collective breath, Amelia took center stage, embodying the turmoil of her heart with every step she made. In a surprising twist of fate, the complexities of love and career unraveled into a harmonious resolution. As the final act unfolded, Amelia's performance reached new heights, showcasing the vulnerability and strength that had been simmering within her. The applause echoed through the theater, a testament to her talent and commitment, and a piercing moment of clarity washed over her. In that instant, Amelia knew that love and ambition need not be adversaries, but rather they could intertwine flawlessly like the notes of a symphony. With newfound resolve, Amelia stepped off the stage and into the embrace of both Alexander and Benjamin, knowing that her heart now belonged to the realm of love, while her career thrived under the guidance of Benjamin's guiding hand. The love triangle that had once rattled her spirit had evolved into a delicate balance, a dance between passion and success. And so, in the realm of love triangles intertwined with career conflicts, this tale of passion and ambition reached its conclusion. The city of dreams had witnessed the metamorphosis of Amelia, as she soared to both artistic and personal heights, a true embodiment of the indomitable spirit of love and the pursuit of one's dreams.\", \"In the vast expanse of the Nevada desert, the scorching sun beat down mercilessly on the cracked earth below. Miles away from civilization, a small air force base stood as a solitary outpost amidst this desolate landscape. It was here that Captain Sarah Foster, an experienced pilot known for her nerve of steel, found herself stationed. As dusk began to settle over the horizon, a palpable tension filled the air. Rumors had been circulating amongst the pilots, whispers of strange lights and unidentified flying objects spotted in the night sky. Skepticism mingled with curiosity as they recounted their peculiar encounters, but none were more captivating than the stories told by Captain Foster. She had witnessed something extraordinary during her training mission the previous evening. It had started as a routine flight, with the shimmering expanse of the desert stretching out below her aircraft. But as she climbed higher into the heavens, Captain Foster noticed a pulsating light, casting an ethereal glow against the dark sky. Intrigued, she maneuvered her jet closer, only for the mysterious light to dart away with astonishing speed. The encounter left Captain Foster's mind consumed with questions and a restless determination to uncover the truth. Rumors suggested that the base's senior officers were keeping information regarding these sightings under wraps, adding to her frustration. With a sense of urgency, she embarked on a clandestine investigation, aided by a trusted fellow pilot named Lieutenant Alex Jacobs. Together, Foster and Jacobs delved into classified archives, old case files, and even covertly questioned retired personnel. As their search broadened, they uncovered a startling pattern of UFO sightings reported by pilots throughout the years, often dismissed as atmospheric anomalies or misidentifications. It became clear that there was a deliberate effort to suppress the truth, to keep the pilots in the dark about these unexplained aerial phenomena. Spurred by their discoveries, Captain Foster and Lieutenant Jacobs decided to confront their superiors, demanding an explanation. The commanding officer, Colonel Mitchell, appeared skeptical at first, dismissing their claims as baseless conspiracy theories. However, the duo presented a stack of documented evidence, forcing the Colonel to take their concerns seriously. With a heavy sigh, Colonel Mitchell revealed the shocking truth: the base had indeed been monitoring these UFO sightings for decades, but the nature of these encounters remained elusive. The Colonel confessed that their attempts to investigate the origins of these strange crafts had met with continuous dead ends, leaving them with more questions than answers. Refusing to be deterred, Captain Foster proposed a bold plan. She suggested organizing a covert operation, using a state-of-the-art surveillance aircraft equipped with advanced tracking systems. With the Colonel's reluctant approval, Foster and Jacobs set out to gather a team of trusted pilots who had also encountered unidentified objects in the sky. Under the cover of night, their squadron took to the skies, their aircraft fitted with cutting-edge technology. As they patrolled the vast Nevada desert, scanning the heavens for any signs of unknown entities, tension hung in the air. The pilots were prepared to face the unimaginable, their hearts pounding with a mix of trepidation and exhilaration. Hours passed, and just as they were about to return to base, an urgent transmission crackled through their headsets. Lieutenant Jacobs had spotted a massive object hovering near the base, emanating a radiant glow that bathed the surroundings in an otherworldly hue. As the squadron closed in, their tracking systems picked up a strange energy signature emanating from the object. It was like nothing they had ever seen before. With a sense of momentous trepidation, Captain Foster took the lead, banking her aircraft expertly towards the colossal craft. As she edged closer, a surge of adrenaline coursed through her veins, mingling with a deep-rooted awe. For the first time in history, humanity was about to make direct contact with an extraterrestrial presence. As the squadron approached, the colossal object responded, emitting a brilliant burst of light that enveloped the pilots' aircraft. Blinded momentarily, they regained their senses to discover the alien craft had vanished without a trace. Yet, despite its disappearance, the encounter forever changed Captain Foster's perspective and left an indelible mark on her soul. In the aftermath of this extraordinary event, the base slowly acknowledged the existence of these otherworldly encounters and made efforts to study and understand them. The daring actions of Captain Sarah Foster and Lieutenant Alex Jacobs propelled a paradigm shift in how humanity perceived the skies above. From that moment on, pilots were no longer mere witnesses to the unknown, but rather bold explorers of a universe teeming with unfathomable wonders.\", \"Once in a small, idyllic village nestled among rolling hills, there lived a young boy named Noah. Noah was a quiet and introspective child, often lost in his own thoughts as he observed the world around him. His frail frame and delicate features marked him as one afflicted by a debilitating illness since birth. Despite the fragility of his body, Noah possessed a mind filled with curiosity and a spirit brimming with resilience. In this village, there was a famous festival that took place every year. The Festival of Transformation, as it was called, was a celebration of personal growth and metamorphosis. It was believed that during the festival, anyone could undergo a profound transformation, transcending their weaknesses and emerging stronger than before. The villagers eagerly awaited this remarkable event, hoping to witness miracles unfold before their eyes. As the day of the festival approached, Noah's heart yearned to participate. However, the weight of his physical limitations dampened his hopes. For years, he had watched others marvel at the spectacle, secretly envious of their ability to change and grow. But deep within him, a flicker of hope burned, urging him to find his own path to transformation. The morning of the festival arrived, bathing the village in a golden glow. The air was thick with anticipation and excitement as the villagers gathered at the heart of the village, surrounding a magnificent oak tree. In this vast open space, rituals of transformation would take place, guided by ancient traditions passed down through generations. Noah, determined to uncover his hidden strength, stepped forward and asked the village elders for an opportunity to prove himself. Initially hesitant, they agreed, curious to witness what a frail boy like Noah could possibly achieve. Noah was given a small sapling, barely clinging to life, and his task was to nurture it into a vibrant and robust tree during the course of the festival. With unwavering determination, Noah set to work. Each day, he tenderly watered the sapling, bathing it in warm sunlight and shielding it from harsh winds. And as the festival unfolded, Noah's weak body seemed to find strength, aligning with the flourishing sapling. The villagers marveled at this metaphoric dance of growth, struck by the profound bond between Noah and the tree. However, as the festival neared its end, a sudden storm descended upon the village, battering the fragile sapling with relentless fury. Noah, weakened by exhaustion, refused to let despair engulf him. In a remarkable display of resilience, he threw himself over the trembling sapling, shielding it from the storm's brutal onslaught. Morning arrived, revealing a village bruised and battered, but Noah's sapling stood tall and proud, strengthened by his unwavering protectiveness. The villagers, now witnesses to the indomitable spirit that radiated from Noah, applauded in a thunderous roar, recognizing the depth of his transformation. They had witnessed the birth of both a majestic tree and a young boy who had found strength in his weakness. Noah's transformation had not only nourished a sapling but had inspired the villagers, reminding them that strength and growth could be found in the most unexpected places. From that day forward, Noah became an emblem of resilience and determination, his frailty becoming a source of inspiration for others facing their own battles. The Festival of Transformation took on a new meaning, with Noah's story woven into its fabric, reminding all who heard it that they too could find strength in the face of adversity. And so, the village continued to celebrate the Festival of Transformation, cherishing the knowledge that beneath every weakness lay the potential for immense strength. Noah's journey became a parable for all who sought transformation, offering a ray of hope to those who dared to believe in their own ability to rise above their limitations. And in the annual gathering under the sprawling oak tree, the villagers found solace, inspiration, and the courage to embark on their own transformative journeys, just like Noah.\", \"In a quaint little town nestled amongst the rolling hills, there lived a young woman named Genevieve. She possessed a passion for literature that burned brightly within her heart. Each night, under the comforting glow of her bedside lamp, she would devour the pages of classic novels, immersing herself in the world of love and romance crafted by the greatest literary minds. Genevieve dreamt of capturing the essence of passionate love within her own writing, longing for a love story that would rival those she had cherished within the pages of her beloved books. One crisp autumn day, the town's annual literary festival arrived, casting an enchanting spell over the bustling streets. Writers from far and wide flocked to the event, their words weaving tales of love and heartbreak, capturing the hearts of the attendees. Genevieve, with her overflowing passion for literature, decided to attend in hopes of finding inspiration and perhaps even the love that had eluded her thus far. As Genevieve strolled through the festival grounds, marveling at the vibrant tapestry of book stalls and the intoxicating scent of newly printed pages, her eyes were drawn to a reading taking place in a secluded corner. There, amidst a small gathering of spellbound listeners, stood a charismatic author named Alexander. His voice resonated with warmth, infusing life into the words of his recently published novel - a tale of star-crossed lovers bound by the whims of fate. Enthralled by his storytelling prowess, Genevieve found herself irresistibly drawn to Alexander's magnetic presence. She mustered the courage to approach him after the reading, her heart pounding in anticipation. As Alexander turned to face her, their eyes met, sparking an immediate connection. They engaged in deep conversations about literature, exchanged their favorite passages, and shared their dreams of weaving love stories that would stand the test of time. Days turned into weeks, and Genevieve and Alexander's bond grew stronger with each passing moment. As their love blossomed, their words intertwined like the delicate threads of a tapestry, creating a narrative that mirrored the great love stories they had admired for so long. They poured their hearts into their respective manuscripts, inspiring and supporting one another, further fueling their own romantic tale. But just as every great love story encounters its trials, Genevieve and Alexander faced their own. Doubts clouded their minds, whispering insecurities and fears of a love that might only exist within the pages of their imagination. Genevieve, burdened by the weight of her expectations, wondered if their love story could ever match the grandeur of those she had coveted in her literary escapades. It was during a moonlit stroll through the town's enchanting park that Genevieve and Alexander confronted their fears. Beneath the twinkling stars, surrounded by the soothing sound of rustling leaves, they revealed their vulnerabilities to one another. Each confessed to the insecurities that had haunted their hearts, acknowledging the immense pressure to create a love story that lived up to the lofty standards set by literature. In that moment of heartfelt honesty, they realized that their love, while not forged from the melodrama of a novel, was real and authentic. Their connection transcended the written word, and they found solace in the realization that their love story need not mimic those of the literary world. Love, they recognized, was bestowed upon them as a unique masterpiece, to be cherished and celebrated. Embracing their newfound understanding, Genevieve and Alexander continued to write, not for the sake of crafting the most epic love story but rather to express the raw, imperfect beauty of their own journey. Their words danced across the pages, painting a tale that was uniquely theirs, filled with real emotions, genuine struggles, and a love that grew stronger with each passing day. Soon, the day arrived when Genevieve and Alexander triumphantly held their published novels. As they looked upon their work, they marveled at how their independent stories, mirroring their personal and shared experiences, had converged to form a unified chorus of love. Their books resonated with readers, who were captivated by the depth and authenticity that emanated from the pages. Genevieve and Alexander had discovered that love and literature were not bound by the confines of perfection or societal pressure. Rather, it was the passion, vulnerability, and unwavering devotion they had poured into their words that touched the hearts of their readers the most. Their love story, though not the stuff of legends and fairy tales, became a beacon of hope and a testament to the power of genuine and imperfect love. And so, Genevieve and Alexander continued to write, weaving tales of love and romance that embraced the complexities and imperfections of the human experience, leaving an indelible mark on the literary world. Their story served as a reminder that love, both within the pages of literature and in the tapestry of life, could thrive in its most beautiful form when stripped of unrealistic expectations and allowed to flourish in its purest and most authentic state.\"]\n"
          ]
        }
      ]
    },
    {
      "cell_type": "code",
      "source": [
        "print(len(list_of_20_examples))"
      ],
      "metadata": {
        "colab": {
          "base_uri": "https://localhost:8080/"
        },
        "id": "ZKHbopt_2h9o",
        "outputId": "a3bedc34-cd22-4462-9a83-71d25bd9ae03"
      },
      "execution_count": 41,
      "outputs": [
        {
          "output_type": "stream",
          "name": "stdout",
          "text": [
            "20\n"
          ]
        }
      ]
    },
    {
      "cell_type": "markdown",
      "source": [
        "# **Generating Stories with prompts**"
      ],
      "metadata": {
        "id": "DjJOOH3nk819"
      }
    },
    {
      "cell_type": "code",
      "source": [
        "from transformers import pipeline\n",
        "\n",
        "test_dataset_file = '/content/drive/MyDrive/Story Generation/test_dataset.txt'\n",
        "\n",
        "# Initialize the text generation pipeline\n",
        "storyteller = pipeline('text-generation', model='./gpt2-storygeneration', tokenizer='gpt2')\n",
        "\n",
        "# Read your test dataset\n",
        "with open(test_dataset_file, 'r') as file:\n",
        "    test_content = file.read()\n",
        "\n",
        "# Split the content into individual stories based on the delimiter ('  ')\n",
        "test_stories = test_content.split('  ')\n",
        "\n",
        "# Function to generate stories based on the test dataset\n",
        "def generate_stories_from_test_dataset(story_pipeline, test_dataset, num_stories: int):\n",
        "    generated_stories = []\n",
        "    for i in range(num_stories):\n",
        "        # Extract the first 6 words from the stories as the prompt\n",
        "        words = test_dataset[i].split()[:6] if i < len(test_dataset) else test_dataset[-1].split()[:6]\n",
        "        prompt = ' '.join(words)\n",
        "        generated_story = story_pipeline(prompt, max_length=128)  # Adjust max_length as needed\n",
        "        generated_stories.append(generated_story[0]['generated_text'])\n",
        "    return generated_stories\n",
        "\n",
        "# Generate stories based on the test dataset\n",
        "num_stories_to_generate = 20  # Define the number of stories to generate\n",
        "generated_stories_from_test = generate_stories_from_test_dataset(storyteller, test_stories, num_stories_to_generate)\n",
        "\n",
        "# Display the generated stories\n",
        "for i, stories in enumerate(generated_stories_from_test, start=1):\n",
        "    print(f\"Generated Story {i}:\\n{stories}\\n\")\n",
        "\n",
        "# Save the generated stories in a list\n",
        "list_of_generated_stories = generated_stories_from_test\n"
      ],
      "metadata": {
        "colab": {
          "base_uri": "https://localhost:8080/"
        },
        "id": "faVx4i5L07fO",
        "outputId": "a678532e-07e9-446c-ede8-feff12c61840"
      },
      "execution_count": 57,
      "outputs": [
        {
          "output_type": "stream",
          "name": "stderr",
          "text": [
            "Setting `pad_token_id` to `eos_token_id`:50256 for open-end generation.\n",
            "Setting `pad_token_id` to `eos_token_id`:50256 for open-end generation.\n",
            "Setting `pad_token_id` to `eos_token_id`:50256 for open-end generation.\n",
            "Setting `pad_token_id` to `eos_token_id`:50256 for open-end generation.\n",
            "Setting `pad_token_id` to `eos_token_id`:50256 for open-end generation.\n",
            "Setting `pad_token_id` to `eos_token_id`:50256 for open-end generation.\n",
            "Setting `pad_token_id` to `eos_token_id`:50256 for open-end generation.\n",
            "Setting `pad_token_id` to `eos_token_id`:50256 for open-end generation.\n",
            "Setting `pad_token_id` to `eos_token_id`:50256 for open-end generation.\n",
            "Setting `pad_token_id` to `eos_token_id`:50256 for open-end generation.\n",
            "Setting `pad_token_id` to `eos_token_id`:50256 for open-end generation.\n",
            "Setting `pad_token_id` to `eos_token_id`:50256 for open-end generation.\n",
            "Setting `pad_token_id` to `eos_token_id`:50256 for open-end generation.\n",
            "Setting `pad_token_id` to `eos_token_id`:50256 for open-end generation.\n",
            "Setting `pad_token_id` to `eos_token_id`:50256 for open-end generation.\n",
            "Setting `pad_token_id` to `eos_token_id`:50256 for open-end generation.\n",
            "Setting `pad_token_id` to `eos_token_id`:50256 for open-end generation.\n",
            "Setting `pad_token_id` to `eos_token_id`:50256 for open-end generation.\n",
            "Setting `pad_token_id` to `eos_token_id`:50256 for open-end generation.\n",
            "Setting `pad_token_id` to `eos_token_id`:50256 for open-end generation.\n"
          ]
        },
        {
          "output_type": "stream",
          "name": "stdout",
          "text": [
            "Generated Story 1:\n",
            "In the humble town of Newbridge, nestled amidst rolling hills and picturesque forests, nestled among rolling hills and picturesque woods, lived a young woman named Lily. With a radiant smile and a fiery determination, she possessed an insatiable desire to excel academically and excel in her art. Lily, renowned for her poetic wit and unwavering determination, always found solace in her reading friends' hearts, seeking the courage to embark on this arduous academic journey. The town of Newbridge, nestled amidst rolling hills and picturesque forests, lay nestled amongst rolling hills and picturesque woods, where life had always seemed\n",
            "\n",
            "Generated Story 2:\n",
            "In a small town nestled amidst rolling hills and meandering streams, there lived a young woman named Amelia. With her flowing flowing green hair and piercing blue eyes, Amelia had always felt a flicker of excitement in her heart as she ventured into the realm of adventure. Amelia was known for her insatiable curiosity and tireless pursuit of knowledge. The townsfolk knew that Amelia was a seeker of adventure and, above all else, she believed in the beauty and wonder of the natural world. One fateful summer day, Amelia stumbled upon a hidden cabin perched on the edge of the brush. It was said that it held the key to the\n",
            "\n",
            "Generated Story 3:\n",
            "In the bustling halls of St. Joseph's Hospital, where surgical supplies, supplies, and equipment stood hand in hand, there was Dr. Amelia Thompson, a seasoned veteran who had spent countless hours battling the horrors of the virtual world. With her emerald eyes and piercing blue eyes, she possessed a calm demeanor that made her stand out among the crowd. With thick white hair and piercing green eyes, her demeanor shone like the flickering of a flickering candle. Days turned into weeks as Dr. Thompson continued her relentless pursuit of perfection, her mind fueled with hope for a better future. As the neon-lit hallway grew into a labyrinthine maze\n",
            "\n",
            "Generated Story 4:\n",
            "In the bustling metropolis of NeoTech, where vibrant technology transformed cities, a young engineer named Ethan Carter ventured into the virtual realm. Intrigued by the possibilities that awaited him, he started tinkering with his latest creation. His latest creation, the SmartLinkine, was a wireless connection that could seamlessly transfer pictures and audio files from one device to another seamlessly. Ethan understood the challenges that lay ahead—people working near or far distances, and machines with ever-diminished resources. He had spent countless hours tinkering, refining, and adapting the SmartLinkine to the intricacies of urban infrastructure. One fateful day, as Ethan\n",
            "\n",
            "Generated Story 5:\n",
            "In the small town of Elmwood, nestled among rolling hills and emerald green meadows, there lived a young woman named Lily Evans. Nestled in a modest cottage, she possessed a fiery passion for adventure and unwavering dedication to the cause. Lily's heart yearned to find solace and adventure in the unknown and sought out books that offered such adventures. Lily was captivated by Theodore, the esteemed renowned fantasy author, renowned for his unparalleled brilliance in creating dazzling tales that showcased a world beyond imagination. Her mind had been drawn to Theodore's books, and she had longed to discover more stories of extraordinary beings and magical landscapes\n",
            "\n",
            "Generated Story 6:\n",
            "In the heart of the sprawling metropolis, NeoTokyo stood within reach of an energy source. With its towering skyscrapers and neon-lit streets, it stood as a beacon of hope for a city desperate for change. In a small, but vibrant neighborhood nestled between dilapidated buildings, they formed an unlikely alliance. The influential Council of NeoTek found themselves divided over the fate of NeoTokyo's nuclear library, as influential politicians from both sides clashed over its safety. Mayor Takamaro and his allies orchestrated a bitter alliance where a group of influential corporations pledged their funds and support of the nuclear waste disposal industry.\n",
            "\n",
            "Generated Story 7:\n",
            "In the dimly lit office of The Jester, where silence and unwavering vigilance awaited, Detective Emily Caldwell, clad in her silver trench coat with shimmering patches, continued to investigate the latest in paranormal events. The town had once been riddled by supernatural phenomena, but now it seemed as if the city itself had become a haven for these rarefied creatures. With her trench coat and a wiry tousled beard, she could also be heard rifling through the ever-smelling archives of the paranormal community. One gloomy afternoon, during a routine patrol, as the sun bathed the desolate streets in a hypnotic ethereal\n",
            "\n",
            "Generated Story 8:\n",
            "In the quiet town of Willowbrook, nestled deep within the rolling hills of the Alleghenian, resided a young and imaginative inventor named Amelia Steele. With her flowing green hair and piercing emerald eyes, she possessed a unique ability to capture the essence of the supernatural and evoke emotions. Her days were filled with stories about mystical creatures and strange beings, painting an inviting canvas that matched her love for creating. Amelia discovered that the more stories she read, the more vibrant the enchantment within the book could become. In the end, Amelia realized that storytelling was not just about the mundane or the mundane; it was about the profound impact that a\n",
            "\n",
            "Generated Story 9:\n",
            "In the small town of Riverton, nestled amongst rolling hills and winding streams, lived James, a restless soul with dreams and dreams of discovering a way to transcend his earthly limitations and join the thriving world of literature. As summer arrived, the once serene town erupted in celebration, its vibrant green landscape filling the sky like a symphony of colors. James marveled at the vibrant tapestry that illuminated the horizon. His dreams took a tragic turn when he fell in love with a vibrant Scottish poet named Isabelle. Their love story ignited a fire within him, burning with a love for literature that matched their own. Bound by the\n",
            "\n",
            "Generated Story 10:\n",
            "In the bustling city of Marlowe, a world of invention and beauty hung in the balance. Amidst the vibrant colors and vibrant landscapes, a team of young and curious engineers assembled to create a prototype of artificial intelligence, capable of transcending human boundaries. The technology could do with great precision and emotion whatever their whimsical intentions were. It was not a flop, as the buzz was deafening. It was a beacon of hope, a testament to the relentless trials and successes in the field of artificial intelligence. The team's perseverance bore fruit, as they were rewarded with a coveted contract with Intel. Their creation, once shrouded\n",
            "\n",
            "Generated Story 11:\n",
            "Deep in the heart of Mexico, a dark secret lurked above, a key to unraveling the mysteries hidden beneath its surface. The city of Agate loomed as a dark shadow, whispering from the shadows over an ever-present shadow city. In this desolate city, where silence threatened to consume everything, a young and determined engineer named Elara possessed an uncanny ability to find and unlock the secrets of time manipulation. She exuded an air of mystery as she ventured deep into the heart of Agate. She ventured into the forbidden tunnels beneath, a place where the echoes of the past drowned out the echoes of technology. Elara's\n",
            "\n",
            "Generated Story 12:\n",
            "Long ago, in the sun-drenched land of Eldoria, a young woman named Amelia discovered a hidden gem hidden deep within the heart of the forest: the Lumari Forest. Dressed in ancient and enchanting garments, she shared her discovery with generations of her people who yearned to embark on their own voyages of the world's forest. Among Oakdale's inhabitants, there lived a young girl named Amelia Wells. With curly, weathered hair and eyes a mixture of mischief and curiosity, she was a woman from the heartland, each day captivated by the beauty of the unknown. As Amelia delved deeper into the\n",
            "\n",
            "Generated Story 13:\n",
            "A cool breeze rustled through the trees, gently caressing the delicate moss that covered their graves. It was a time of profound mourning, but also a time of hope, for those within its walls had found their strength. And amidst the cries of anguish and grief, Samuel stood, his face etched with the scars of death and mourning.  The night lay upon a tranquil town, a place not far from the bustling streets of NeoCitadel. The once-bright sky had long become smoky and obscured by a perpetual mist. The skyline had become a haunting reminder of humanity's constant pursuit of technological marvelry. Each step closer\n",
            "\n",
            "Generated Story 14:\n",
            "In the quiet town of Oakwood, nestled in the heart of the Appalachian Mountains, resided a charismatic local hero, John Adams, a fiery and determined young man. Samuel had once been accused of being a spy, but his love for the land had unraveled before his eyes. Now, Samuel's determination to uncover the truth was his greatest weapon in the war against crime. Armed with his trusty map and a thirst for justice, Samuel set out on a perilous quest throughout the countryside. He followed a small, worn trail with a series of unmarked corners, traversing treacherous mazes before descending into brushy valleys and crumbling mountain passes\n",
            "\n",
            "Generated Story 15:\n",
            "In the dimly-lit streets of Noirville, the town's residents sought solace amidst the laughter of their everyday lives. In the bustling halls of their local printing press, Sarah Davis and James Harper set up shop with a sense of humor, blending the simplicity of their everyday lives with the charm of their art and the spirit of a true literary hero. Their stories mirroring their own passions served as an invitation for reflection and inspiration. They embarked on a lifelong journey, painting vibrant encyclopedias on silver and bronze, meticulously crafting tales of redemption and redemption's connection to the story they had experienced. And when the sun rose over\n",
            "\n",
            "Generated Story 16:\n",
            "In the sprawling city of New York, where skyscrapers pierced the sky as skycars raced through the streets, there lived a man named Winston Jackson. As young as he had been, Winston possessed a peculiar charm and extraordinary abilities. His gentle voice carried the weight of a lifetime spent in the theater, a testament to the power of empathy and truth and the indomitable spirit of a man who believed in the possibilities of a world filled with darkness. Winston's days were filled with rehearsals, lectures, and discussions on the ins and outs of the world of theater. He delved deep into the mysteries of performance, crafting intricate works\n",
            "\n",
            "Generated Story 17:\n",
            "In the bustling metropolis of New York City, a young entrepreneur named Mark Alexander dedicated his life to the pursuit of knowledge and innovation. Mark's passion was to create innovative products that would revolutionize the lives of ordinary people. His idea, inspired by the success of his Smart Grid Project, had spread from the street corner cafes to the city's bustling metros. His dreams had now become reality. With each step closer to his dream, Mark grew aware of the obstacles that awaited him. The rising cost of electric vehicles, the diminishing returns to low-income communities, and the growing environmental concerns had all hindered his efforts. One stormy\n",
            "\n",
            "Generated Story 18:\n",
            "In the vast expanse of the world, explorers and colonels devised ingenious ways to transport their weary souls out into the unknown realms. They ventured onto ancient catacombs, conquered vast swamps, and explored breathtaking mountains. The once abominations and horrors that plagued the world of Veridion were transformed into ethereal landscapes, where life flourished and the elements breathed life anew. As the stars aligned, a newfound sense of wonder seeped in from the void, a beacon of hope that would forever be a guiding light amidst the darkness.  In the bustling city of Metropolis, it was the dawn of a new era.\n",
            "\n",
            "Generated Story 19:\n",
            "Once in a small, idyllic village nestled deep within the dense forest, lived two brave souls, Amelia and Thomas. They were the guardians of the village, protecting it from the deadly horrors that lurked in the depths of its ancient forests. Amelia possessed both courage and determination, sensing the pain and grief that awaited those fortunate enough to witness their very existence firsthand. Among the villagers, there lived a young apprentice named Ethan, with a hunger for knowledge and a spark of determination. His unwavering spirit carried him to every meeting, reminding each person of their duty to protect their homeland. Every once in a while, a traveler would\n",
            "\n",
            "Generated Story 20:\n",
            "In a quaint little town nestled along the shore, there lived a woman named Emily. With flowing cascading curls cascading down her back and eyes as bright as the morning sunlight, she possessed an air of mystery that drew people together. Emily possessed an insatiable curiosity about the mundane occurrences that plagued New Meadow. At school, she was always at the forefront, studying easements and puzzles designed by those who had experienced them firsthand. One fateful day, while conducting a class on plant-based healing, a mysterious woman slipped into the school's labyrinthine halls. She appeared to be in her early twenties, carrying with her a peculiar\n",
            "\n"
          ]
        }
      ]
    },
    {
      "cell_type": "code",
      "source": [
        "print(list_of_generated_stories)"
      ],
      "metadata": {
        "colab": {
          "base_uri": "https://localhost:8080/"
        },
        "id": "qYF2P0_L2XiN",
        "outputId": "e23f4070-b2d3-4b17-cabb-3099d2a3a0ee"
      },
      "execution_count": 60,
      "outputs": [
        {
          "output_type": "stream",
          "name": "stdout",
          "text": [
            "[\"In the humble town of Newbridge, nestled amidst rolling hills and picturesque forests, nestled among rolling hills and picturesque woods, lived a young woman named Lily. With a radiant smile and a fiery determination, she possessed an insatiable desire to excel academically and excel in her art. Lily, renowned for her poetic wit and unwavering determination, always found solace in her reading friends' hearts, seeking the courage to embark on this arduous academic journey. The town of Newbridge, nestled amidst rolling hills and picturesque forests, lay nestled amongst rolling hills and picturesque woods, where life had always seemed\", 'In a small town nestled amidst rolling hills and meandering streams, there lived a young woman named Amelia. With her flowing flowing green hair and piercing blue eyes, Amelia had always felt a flicker of excitement in her heart as she ventured into the realm of adventure. Amelia was known for her insatiable curiosity and tireless pursuit of knowledge. The townsfolk knew that Amelia was a seeker of adventure and, above all else, she believed in the beauty and wonder of the natural world. One fateful summer day, Amelia stumbled upon a hidden cabin perched on the edge of the brush. It was said that it held the key to the', \"In the bustling halls of St. Joseph's Hospital, where surgical supplies, supplies, and equipment stood hand in hand, there was Dr. Amelia Thompson, a seasoned veteran who had spent countless hours battling the horrors of the virtual world. With her emerald eyes and piercing blue eyes, she possessed a calm demeanor that made her stand out among the crowd. With thick white hair and piercing green eyes, her demeanor shone like the flickering of a flickering candle. Days turned into weeks as Dr. Thompson continued her relentless pursuit of perfection, her mind fueled with hope for a better future. As the neon-lit hallway grew into a labyrinthine maze\", 'In the bustling metropolis of NeoTech, where vibrant technology transformed cities, a young engineer named Ethan Carter ventured into the virtual realm. Intrigued by the possibilities that awaited him, he started tinkering with his latest creation. His latest creation, the SmartLinkine, was a wireless connection that could seamlessly transfer pictures and audio files from one device to another seamlessly. Ethan understood the challenges that lay ahead—people working near or far distances, and machines with ever-diminished resources. He had spent countless hours tinkering, refining, and adapting the SmartLinkine to the intricacies of urban infrastructure. One fateful day, as Ethan', \"In the small town of Elmwood, nestled among rolling hills and emerald green meadows, there lived a young woman named Lily Evans. Nestled in a modest cottage, she possessed a fiery passion for adventure and unwavering dedication to the cause. Lily's heart yearned to find solace and adventure in the unknown and sought out books that offered such adventures. Lily was captivated by Theodore, the esteemed renowned fantasy author, renowned for his unparalleled brilliance in creating dazzling tales that showcased a world beyond imagination. Her mind had been drawn to Theodore's books, and she had longed to discover more stories of extraordinary beings and magical landscapes\", \"In the heart of the sprawling metropolis, NeoTokyo stood within reach of an energy source. With its towering skyscrapers and neon-lit streets, it stood as a beacon of hope for a city desperate for change. In a small, but vibrant neighborhood nestled between dilapidated buildings, they formed an unlikely alliance. The influential Council of NeoTek found themselves divided over the fate of NeoTokyo's nuclear library, as influential politicians from both sides clashed over its safety. Mayor Takamaro and his allies orchestrated a bitter alliance where a group of influential corporations pledged their funds and support of the nuclear waste disposal industry.\", 'In the dimly lit office of The Jester, where silence and unwavering vigilance awaited, Detective Emily Caldwell, clad in her silver trench coat with shimmering patches, continued to investigate the latest in paranormal events. The town had once been riddled by supernatural phenomena, but now it seemed as if the city itself had become a haven for these rarefied creatures. With her trench coat and a wiry tousled beard, she could also be heard rifling through the ever-smelling archives of the paranormal community. One gloomy afternoon, during a routine patrol, as the sun bathed the desolate streets in a hypnotic ethereal', 'In the quiet town of Willowbrook, nestled deep within the rolling hills of the Alleghenian, resided a young and imaginative inventor named Amelia Steele. With her flowing green hair and piercing emerald eyes, she possessed a unique ability to capture the essence of the supernatural and evoke emotions. Her days were filled with stories about mystical creatures and strange beings, painting an inviting canvas that matched her love for creating. Amelia discovered that the more stories she read, the more vibrant the enchantment within the book could become. In the end, Amelia realized that storytelling was not just about the mundane or the mundane; it was about the profound impact that a', 'In the small town of Riverton, nestled amongst rolling hills and winding streams, lived James, a restless soul with dreams and dreams of discovering a way to transcend his earthly limitations and join the thriving world of literature. As summer arrived, the once serene town erupted in celebration, its vibrant green landscape filling the sky like a symphony of colors. James marveled at the vibrant tapestry that illuminated the horizon. His dreams took a tragic turn when he fell in love with a vibrant Scottish poet named Isabelle. Their love story ignited a fire within him, burning with a love for literature that matched their own. Bound by the', \"In the bustling city of Marlowe, a world of invention and beauty hung in the balance. Amidst the vibrant colors and vibrant landscapes, a team of young and curious engineers assembled to create a prototype of artificial intelligence, capable of transcending human boundaries. The technology could do with great precision and emotion whatever their whimsical intentions were. It was not a flop, as the buzz was deafening. It was a beacon of hope, a testament to the relentless trials and successes in the field of artificial intelligence. The team's perseverance bore fruit, as they were rewarded with a coveted contract with Intel. Their creation, once shrouded\", \"Deep in the heart of Mexico, a dark secret lurked above, a key to unraveling the mysteries hidden beneath its surface. The city of Agate loomed as a dark shadow, whispering from the shadows over an ever-present shadow city. In this desolate city, where silence threatened to consume everything, a young and determined engineer named Elara possessed an uncanny ability to find and unlock the secrets of time manipulation. She exuded an air of mystery as she ventured deep into the heart of Agate. She ventured into the forbidden tunnels beneath, a place where the echoes of the past drowned out the echoes of technology. Elara's\", \"Long ago, in the sun-drenched land of Eldoria, a young woman named Amelia discovered a hidden gem hidden deep within the heart of the forest: the Lumari Forest. Dressed in ancient and enchanting garments, she shared her discovery with generations of her people who yearned to embark on their own voyages of the world's forest. Among Oakdale's inhabitants, there lived a young girl named Amelia Wells. With curly, weathered hair and eyes a mixture of mischief and curiosity, she was a woman from the heartland, each day captivated by the beauty of the unknown. As Amelia delved deeper into the\", \"A cool breeze rustled through the trees, gently caressing the delicate moss that covered their graves. It was a time of profound mourning, but also a time of hope, for those within its walls had found their strength. And amidst the cries of anguish and grief, Samuel stood, his face etched with the scars of death and mourning.  The night lay upon a tranquil town, a place not far from the bustling streets of NeoCitadel. The once-bright sky had long become smoky and obscured by a perpetual mist. The skyline had become a haunting reminder of humanity's constant pursuit of technological marvelry. Each step closer\", \"In the quiet town of Oakwood, nestled in the heart of the Appalachian Mountains, resided a charismatic local hero, John Adams, a fiery and determined young man. Samuel had once been accused of being a spy, but his love for the land had unraveled before his eyes. Now, Samuel's determination to uncover the truth was his greatest weapon in the war against crime. Armed with his trusty map and a thirst for justice, Samuel set out on a perilous quest throughout the countryside. He followed a small, worn trail with a series of unmarked corners, traversing treacherous mazes before descending into brushy valleys and crumbling mountain passes\", \"In the dimly-lit streets of Noirville, the town's residents sought solace amidst the laughter of their everyday lives. In the bustling halls of their local printing press, Sarah Davis and James Harper set up shop with a sense of humor, blending the simplicity of their everyday lives with the charm of their art and the spirit of a true literary hero. Their stories mirroring their own passions served as an invitation for reflection and inspiration. They embarked on a lifelong journey, painting vibrant encyclopedias on silver and bronze, meticulously crafting tales of redemption and redemption's connection to the story they had experienced. And when the sun rose over\", \"In the sprawling city of New York, where skyscrapers pierced the sky as skycars raced through the streets, there lived a man named Winston Jackson. As young as he had been, Winston possessed a peculiar charm and extraordinary abilities. His gentle voice carried the weight of a lifetime spent in the theater, a testament to the power of empathy and truth and the indomitable spirit of a man who believed in the possibilities of a world filled with darkness. Winston's days were filled with rehearsals, lectures, and discussions on the ins and outs of the world of theater. He delved deep into the mysteries of performance, crafting intricate works\", \"In the bustling metropolis of New York City, a young entrepreneur named Mark Alexander dedicated his life to the pursuit of knowledge and innovation. Mark's passion was to create innovative products that would revolutionize the lives of ordinary people. His idea, inspired by the success of his Smart Grid Project, had spread from the street corner cafes to the city's bustling metros. His dreams had now become reality. With each step closer to his dream, Mark grew aware of the obstacles that awaited him. The rising cost of electric vehicles, the diminishing returns to low-income communities, and the growing environmental concerns had all hindered his efforts. One stormy\", 'In the vast expanse of the world, explorers and colonels devised ingenious ways to transport their weary souls out into the unknown realms. They ventured onto ancient catacombs, conquered vast swamps, and explored breathtaking mountains. The once abominations and horrors that plagued the world of Veridion were transformed into ethereal landscapes, where life flourished and the elements breathed life anew. As the stars aligned, a newfound sense of wonder seeped in from the void, a beacon of hope that would forever be a guiding light amidst the darkness.  In the bustling city of Metropolis, it was the dawn of a new era.', 'Once in a small, idyllic village nestled deep within the dense forest, lived two brave souls, Amelia and Thomas. They were the guardians of the village, protecting it from the deadly horrors that lurked in the depths of its ancient forests. Amelia possessed both courage and determination, sensing the pain and grief that awaited those fortunate enough to witness their very existence firsthand. Among the villagers, there lived a young apprentice named Ethan, with a hunger for knowledge and a spark of determination. His unwavering spirit carried him to every meeting, reminding each person of their duty to protect their homeland. Every once in a while, a traveler would', \"In a quaint little town nestled along the shore, there lived a woman named Emily. With flowing cascading curls cascading down her back and eyes as bright as the morning sunlight, she possessed an air of mystery that drew people together. Emily possessed an insatiable curiosity about the mundane occurrences that plagued New Meadow. At school, she was always at the forefront, studying easements and puzzles designed by those who had experienced them firsthand. One fateful day, while conducting a class on plant-based healing, a mysterious woman slipped into the school's labyrinthine halls. She appeared to be in her early twenties, carrying with her a peculiar\"]\n"
          ]
        }
      ]
    },
    {
      "cell_type": "code",
      "source": [
        "print(len(list_of_generated_stories))"
      ],
      "metadata": {
        "colab": {
          "base_uri": "https://localhost:8080/"
        },
        "id": "-M61BF8K2l5i",
        "outputId": "799899f2-3e08-4ccd-be08-0f44799cc7b9"
      },
      "execution_count": 61,
      "outputs": [
        {
          "output_type": "stream",
          "name": "stdout",
          "text": [
            "20\n"
          ]
        }
      ]
    },
    {
      "cell_type": "markdown",
      "source": [
        "# **Evaluating Generated Recipes Against Reference Recipes**"
      ],
      "metadata": {
        "id": "i9cKOEzV06kE"
      }
    },
    {
      "cell_type": "code",
      "source": [
        "!pip install rouge_score"
      ],
      "metadata": {
        "colab": {
          "base_uri": "https://localhost:8080/"
        },
        "id": "KOW3lJIp3JR6",
        "outputId": "d897e993-e69c-460e-9f8b-7d0cf96347be"
      },
      "execution_count": 46,
      "outputs": [
        {
          "output_type": "stream",
          "name": "stdout",
          "text": [
            "Collecting rouge_score\n",
            "  Downloading rouge_score-0.1.2.tar.gz (17 kB)\n",
            "  Preparing metadata (setup.py) ... \u001b[?25l\u001b[?25hdone\n",
            "Requirement already satisfied: absl-py in /usr/local/lib/python3.10/dist-packages (from rouge_score) (1.4.0)\n",
            "Requirement already satisfied: nltk in /usr/local/lib/python3.10/dist-packages (from rouge_score) (3.8.1)\n",
            "Requirement already satisfied: numpy in /usr/local/lib/python3.10/dist-packages (from rouge_score) (1.23.5)\n",
            "Requirement already satisfied: six>=1.14.0 in /usr/local/lib/python3.10/dist-packages (from rouge_score) (1.16.0)\n",
            "Requirement already satisfied: click in /usr/local/lib/python3.10/dist-packages (from nltk->rouge_score) (8.1.7)\n",
            "Requirement already satisfied: joblib in /usr/local/lib/python3.10/dist-packages (from nltk->rouge_score) (1.3.2)\n",
            "Requirement already satisfied: regex>=2021.8.3 in /usr/local/lib/python3.10/dist-packages (from nltk->rouge_score) (2023.6.3)\n",
            "Requirement already satisfied: tqdm in /usr/local/lib/python3.10/dist-packages (from nltk->rouge_score) (4.66.1)\n",
            "Building wheels for collected packages: rouge_score\n",
            "  Building wheel for rouge_score (setup.py) ... \u001b[?25l\u001b[?25hdone\n",
            "  Created wheel for rouge_score: filename=rouge_score-0.1.2-py3-none-any.whl size=24933 sha256=830cb89c8561c89ed0077c5687714f0df04108f1bdded756a004c966d7d9806a\n",
            "  Stored in directory: /root/.cache/pip/wheels/5f/dd/89/461065a73be61a532ff8599a28e9beef17985c9e9c31e541b4\n",
            "Successfully built rouge_score\n",
            "Installing collected packages: rouge_score\n",
            "Successfully installed rouge_score-0.1.2\n"
          ]
        }
      ]
    },
    {
      "cell_type": "code",
      "source": [
        "!pip install evaluate"
      ],
      "metadata": {
        "colab": {
          "base_uri": "https://localhost:8080/"
        },
        "id": "5KmtYC-H6bqX",
        "outputId": "ea1467be-903c-4906-a599-41129c1c4f0d"
      },
      "execution_count": 47,
      "outputs": [
        {
          "output_type": "stream",
          "name": "stdout",
          "text": [
            "Collecting evaluate\n",
            "  Downloading evaluate-0.4.1-py3-none-any.whl (84 kB)\n",
            "\u001b[2K     \u001b[90m━━━━━━━━━━━━━━━━━━━━━━━━━━━━━━━━━━━━━━━━\u001b[0m \u001b[32m84.1/84.1 kB\u001b[0m \u001b[31m944.2 kB/s\u001b[0m eta \u001b[36m0:00:00\u001b[0m\n",
            "\u001b[?25hRequirement already satisfied: datasets>=2.0.0 in /usr/local/lib/python3.10/dist-packages (from evaluate) (2.16.1)\n",
            "Requirement already satisfied: numpy>=1.17 in /usr/local/lib/python3.10/dist-packages (from evaluate) (1.23.5)\n",
            "Requirement already satisfied: dill in /usr/local/lib/python3.10/dist-packages (from evaluate) (0.3.7)\n",
            "Requirement already satisfied: pandas in /usr/local/lib/python3.10/dist-packages (from evaluate) (1.5.3)\n",
            "Requirement already satisfied: requests>=2.19.0 in /usr/local/lib/python3.10/dist-packages (from evaluate) (2.31.0)\n",
            "Requirement already satisfied: tqdm>=4.62.1 in /usr/local/lib/python3.10/dist-packages (from evaluate) (4.66.1)\n",
            "Requirement already satisfied: xxhash in /usr/local/lib/python3.10/dist-packages (from evaluate) (3.4.1)\n",
            "Requirement already satisfied: multiprocess in /usr/local/lib/python3.10/dist-packages (from evaluate) (0.70.15)\n",
            "Requirement already satisfied: fsspec[http]>=2021.05.0 in /usr/local/lib/python3.10/dist-packages (from evaluate) (2023.6.0)\n",
            "Requirement already satisfied: huggingface-hub>=0.7.0 in /usr/local/lib/python3.10/dist-packages (from evaluate) (0.20.1)\n",
            "Requirement already satisfied: packaging in /usr/local/lib/python3.10/dist-packages (from evaluate) (23.2)\n",
            "Collecting responses<0.19 (from evaluate)\n",
            "  Downloading responses-0.18.0-py3-none-any.whl (38 kB)\n",
            "Requirement already satisfied: filelock in /usr/local/lib/python3.10/dist-packages (from datasets>=2.0.0->evaluate) (3.13.1)\n",
            "Requirement already satisfied: pyarrow>=8.0.0 in /usr/local/lib/python3.10/dist-packages (from datasets>=2.0.0->evaluate) (10.0.1)\n",
            "Requirement already satisfied: pyarrow-hotfix in /usr/local/lib/python3.10/dist-packages (from datasets>=2.0.0->evaluate) (0.6)\n",
            "Requirement already satisfied: aiohttp in /usr/local/lib/python3.10/dist-packages (from datasets>=2.0.0->evaluate) (3.9.1)\n",
            "Requirement already satisfied: pyyaml>=5.1 in /usr/local/lib/python3.10/dist-packages (from datasets>=2.0.0->evaluate) (6.0.1)\n",
            "Requirement already satisfied: typing-extensions>=3.7.4.3 in /usr/local/lib/python3.10/dist-packages (from huggingface-hub>=0.7.0->evaluate) (4.5.0)\n",
            "Requirement already satisfied: charset-normalizer<4,>=2 in /usr/local/lib/python3.10/dist-packages (from requests>=2.19.0->evaluate) (3.3.2)\n",
            "Requirement already satisfied: idna<4,>=2.5 in /usr/local/lib/python3.10/dist-packages (from requests>=2.19.0->evaluate) (3.6)\n",
            "Requirement already satisfied: urllib3<3,>=1.21.1 in /usr/local/lib/python3.10/dist-packages (from requests>=2.19.0->evaluate) (2.0.7)\n",
            "Requirement already satisfied: certifi>=2017.4.17 in /usr/local/lib/python3.10/dist-packages (from requests>=2.19.0->evaluate) (2023.11.17)\n",
            "Requirement already satisfied: python-dateutil>=2.8.1 in /usr/local/lib/python3.10/dist-packages (from pandas->evaluate) (2.8.2)\n",
            "Requirement already satisfied: pytz>=2020.1 in /usr/local/lib/python3.10/dist-packages (from pandas->evaluate) (2023.3.post1)\n",
            "Requirement already satisfied: attrs>=17.3.0 in /usr/local/lib/python3.10/dist-packages (from aiohttp->datasets>=2.0.0->evaluate) (23.2.0)\n",
            "Requirement already satisfied: multidict<7.0,>=4.5 in /usr/local/lib/python3.10/dist-packages (from aiohttp->datasets>=2.0.0->evaluate) (6.0.4)\n",
            "Requirement already satisfied: yarl<2.0,>=1.0 in /usr/local/lib/python3.10/dist-packages (from aiohttp->datasets>=2.0.0->evaluate) (1.9.4)\n",
            "Requirement already satisfied: frozenlist>=1.1.1 in /usr/local/lib/python3.10/dist-packages (from aiohttp->datasets>=2.0.0->evaluate) (1.4.1)\n",
            "Requirement already satisfied: aiosignal>=1.1.2 in /usr/local/lib/python3.10/dist-packages (from aiohttp->datasets>=2.0.0->evaluate) (1.3.1)\n",
            "Requirement already satisfied: async-timeout<5.0,>=4.0 in /usr/local/lib/python3.10/dist-packages (from aiohttp->datasets>=2.0.0->evaluate) (4.0.3)\n",
            "Requirement already satisfied: six>=1.5 in /usr/local/lib/python3.10/dist-packages (from python-dateutil>=2.8.1->pandas->evaluate) (1.16.0)\n",
            "Installing collected packages: responses, evaluate\n",
            "Successfully installed evaluate-0.4.1 responses-0.18.0\n"
          ]
        }
      ]
    },
    {
      "cell_type": "code",
      "source": [
        "!pip install jiwer"
      ],
      "metadata": {
        "colab": {
          "base_uri": "https://localhost:8080/"
        },
        "id": "M1XS3r966y-R",
        "outputId": "abe68143-b94f-4825-c3d3-7dcc95b91b78"
      },
      "execution_count": 48,
      "outputs": [
        {
          "output_type": "stream",
          "name": "stdout",
          "text": [
            "Collecting jiwer\n",
            "  Downloading jiwer-3.0.3-py3-none-any.whl (21 kB)\n",
            "Requirement already satisfied: click<9.0.0,>=8.1.3 in /usr/local/lib/python3.10/dist-packages (from jiwer) (8.1.7)\n",
            "Collecting rapidfuzz<4,>=3 (from jiwer)\n",
            "  Downloading rapidfuzz-3.6.1-cp310-cp310-manylinux_2_17_x86_64.manylinux2014_x86_64.whl (3.4 MB)\n",
            "\u001b[2K     \u001b[90m━━━━━━━━━━━━━━━━━━━━━━━━━━━━━━━━━━━━━━━━\u001b[0m \u001b[32m3.4/3.4 MB\u001b[0m \u001b[31m11.0 MB/s\u001b[0m eta \u001b[36m0:00:00\u001b[0m\n",
            "\u001b[?25hInstalling collected packages: rapidfuzz, jiwer\n",
            "Successfully installed jiwer-3.0.3 rapidfuzz-3.6.1\n"
          ]
        }
      ]
    },
    {
      "cell_type": "code",
      "source": [
        "from evaluate import load\n",
        "# Load the evaluation metric for Character Error Rate (CER) and Word Error Rate (WER) and Exact Match(em)\n",
        "cer_metric = load(\"cer\")\n",
        "wer_metric = load(\"wer\")\n",
        "meteor = load('meteor')\n",
        "exact_match_metric = load(\"exact_match\")\n",
        "\n",
        "# Load BLEU and ROUGE metrics\n",
        "bleu_metric = load(\"bleu\")\n",
        "rouge_metric = load('rouge')"
      ],
      "metadata": {
        "colab": {
          "base_uri": "https://localhost:8080/",
          "height": 342,
          "referenced_widgets": [
            "86766aade4994d18bee8e70efdc911a8",
            "d93215a2f757403bbff3cfd6a1626c24",
            "f4873e542eae4f039ec228a5a1d02503",
            "cdd9f926131b433297fa42c0f0c59c12",
            "a05dd0394c614cb7be959182b83245f5",
            "5686a5c193764f93b01c356f57be3176",
            "59f4782c16e940dea768e7d2d4f78b93",
            "830938f8b7d4406f8b85177d3c3e8a16",
            "1d5f77facfaa4848a5461310f0e30361",
            "2a543edf392249fa8fdc28672b3a82dc",
            "1d9f44a156b94d639bb8541da3413b58",
            "e3338083d87e49f5b86d4c7146935c27",
            "17b6b442579a4ec9bf48b637fe1f40be",
            "c9cef36a1e494f98b0b97ab23d9e52db",
            "11be62a47be4453e803d5fe30251e165",
            "dc06ea7e81b14757b40f870b1e693ee9",
            "2f87da99cb7848cf82f6fc264bcde965",
            "46ee66bdc84343109752b68764381a50",
            "6e61ba8be91f4c7da9089a384de16de5",
            "010417f4fa944af380c0bfa5e128b45f",
            "5a5b04ec6c2d486da04affad7b443689",
            "771b3c2c303445a28a5f8ebe962ff0c5",
            "b19d62fc041e4e2782c2d046898faf3b",
            "d20a35a8815a454ea42853025fac2d3f",
            "36a454ea836e48308144576bc2f4da67",
            "16e023266d1e442f8bf4be7f78462815",
            "5acf31ac237e48b59f3412900db5fff6",
            "e7f2a46d95d148ce9f610fd399fbc5f3",
            "a545de9c3271475ebac4501a93b13fff",
            "da832a48e11243bb80804cda166c56bb",
            "3dca73bc2ea843bb81a2bcc67d05c401",
            "16f061830ac54a4aa6f9b6c06e747ae6",
            "57d62c7f36304d2fa3da562a3302f659",
            "c9e2ce1ae2d34c78a5476973ae5c6659",
            "cbf56e5b2be44d8dae78bc91833616c0",
            "5f2787f847e547769238f528e46c097c",
            "dcbdaf30d98d41998f5e6b1eded24a63",
            "80f0299a3c484ba8859d551673eb8007",
            "3d251504ce4f4c17b924ddaff28b282b",
            "a44178bf77f6458e9b799d7ab0fb619e",
            "1ab05bacda374ba5855be5b1f1231538",
            "941deda6e6ac47d0a348da34279dffc9",
            "73f0cf33af594293b5ed8bcb7148dc22",
            "d22c35e20c9a467a807a2b3d334d8a2b",
            "34e3c6ca763d489da4db832cf5cd00eb",
            "eee016b9a2194c1b95284ee74531e238",
            "5a5ae799407b405d9ce99b7d67746217",
            "16a007ec4a3b4aff815feaaeeebaa69b",
            "f4e5f509c18043edb2ad3406017321fb",
            "1b55d5a30f5a43689b14024a30c9bb47",
            "9e346ea2944045cc9c01b3b3ec5fb473",
            "c53ab92c50534efea57d3b79878a2072",
            "1481188971b94247b0779d4e53c3274e",
            "010e91886f2f458d806d9fd4f3497796",
            "12a8e975d9a9432395b94f7c3c4c13e2",
            "74c2ece0c47f4be9ba6feb4e66c35e24",
            "938875e6f8a34429995576fc039acc5e",
            "f05544f8500749a891da7322055b6983",
            "18b38b24f0a842fd9297718c3c36acb3",
            "51f718f6ee444d72a7b692eb1fb4934c",
            "8d3880f5d16c4601a93bdd1d274e626c",
            "a0cba7eac3114caa9251c332ed16131d",
            "ce05c8e4607c42ef85c7ec3824aab674",
            "10a966c5c8784ab4aeb5f7165b81dafd",
            "4c078ce5dd914798a6ec6ab3842e0277",
            "806ee39eb4b444a2952326b6931273e0",
            "426a47333ee4401580459c87dc5c7ea1",
            "b0a4f4e8b7cf4ebbae0c56e2da3aef5b",
            "a84aee3c920a43ed9bb58d1d14c419a2",
            "54ad115d83144f1f956204da5f868241",
            "b81f0f4e08d548749ebf4fe53f6f2c1a",
            "c3cf789f6e4e4632a4c6c89dc3c0f97b",
            "747fc6112b62412d945f5f3cf647f7fa",
            "8b2f217b70d94ff48d9d4feed95ff08f",
            "69f3f4ce2aad4837a2895331baa1625d",
            "271720e565474489b8c465d89daa35de",
            "6ddfdb4339ed45ffb6d471d0bbe80b3e",
            "6c86ac1af81642f8853b9ec9388ef613",
            "ff1dfa9d954349eeb2d327744b4c80fc",
            "c7170bafa2c54e5d8f99bdd56ad219e9",
            "b9ace6872d1346c9a264ecb9b2e40e6b",
            "ceafe36cf01f405682a76603e0f03978",
            "23d762a0e8fd4a50a8d3c38c3b7b172e",
            "9ef79019017344c0b98d5b8929ed80ef",
            "4bcc4601d2a2449385de0ff348416c4a",
            "674c79ec4ace4f1dadddaa137db30e1c",
            "49596b53602640eea19a01a7dd41f3d8",
            "0f3305aeeedc447d93cde22fc85c2e7e"
          ]
        },
        "id": "TrF_SmPF6qPU",
        "outputId": "d050e76d-4838-45fc-f52d-3e045be5f786"
      },
      "execution_count": 49,
      "outputs": [
        {
          "output_type": "display_data",
          "data": {
            "text/plain": [
              "Downloading builder script:   0%|          | 0.00/5.60k [00:00<?, ?B/s]"
            ],
            "application/vnd.jupyter.widget-view+json": {
              "version_major": 2,
              "version_minor": 0,
              "model_id": "86766aade4994d18bee8e70efdc911a8"
            }
          },
          "metadata": {}
        },
        {
          "output_type": "display_data",
          "data": {
            "text/plain": [
              "Downloading builder script:   0%|          | 0.00/4.49k [00:00<?, ?B/s]"
            ],
            "application/vnd.jupyter.widget-view+json": {
              "version_major": 2,
              "version_minor": 0,
              "model_id": "e3338083d87e49f5b86d4c7146935c27"
            }
          },
          "metadata": {}
        },
        {
          "output_type": "display_data",
          "data": {
            "text/plain": [
              "Downloading builder script:   0%|          | 0.00/6.93k [00:00<?, ?B/s]"
            ],
            "application/vnd.jupyter.widget-view+json": {
              "version_major": 2,
              "version_minor": 0,
              "model_id": "b19d62fc041e4e2782c2d046898faf3b"
            }
          },
          "metadata": {}
        },
        {
          "output_type": "stream",
          "name": "stderr",
          "text": [
            "[nltk_data] Downloading package wordnet to /root/nltk_data...\n",
            "[nltk_data] Downloading package punkt to /root/nltk_data...\n",
            "[nltk_data]   Unzipping tokenizers/punkt.zip.\n",
            "[nltk_data] Downloading package omw-1.4 to /root/nltk_data...\n"
          ]
        },
        {
          "output_type": "display_data",
          "data": {
            "text/plain": [
              "Downloading builder script:   0%|          | 0.00/5.67k [00:00<?, ?B/s]"
            ],
            "application/vnd.jupyter.widget-view+json": {
              "version_major": 2,
              "version_minor": 0,
              "model_id": "c9e2ce1ae2d34c78a5476973ae5c6659"
            }
          },
          "metadata": {}
        },
        {
          "output_type": "display_data",
          "data": {
            "text/plain": [
              "Downloading builder script:   0%|          | 0.00/5.94k [00:00<?, ?B/s]"
            ],
            "application/vnd.jupyter.widget-view+json": {
              "version_major": 2,
              "version_minor": 0,
              "model_id": "34e3c6ca763d489da4db832cf5cd00eb"
            }
          },
          "metadata": {}
        },
        {
          "output_type": "display_data",
          "data": {
            "text/plain": [
              "Downloading extra modules:   0%|          | 0.00/1.55k [00:00<?, ?B/s]"
            ],
            "application/vnd.jupyter.widget-view+json": {
              "version_major": 2,
              "version_minor": 0,
              "model_id": "74c2ece0c47f4be9ba6feb4e66c35e24"
            }
          },
          "metadata": {}
        },
        {
          "output_type": "display_data",
          "data": {
            "text/plain": [
              "Downloading extra modules:   0%|          | 0.00/3.34k [00:00<?, ?B/s]"
            ],
            "application/vnd.jupyter.widget-view+json": {
              "version_major": 2,
              "version_minor": 0,
              "model_id": "426a47333ee4401580459c87dc5c7ea1"
            }
          },
          "metadata": {}
        },
        {
          "output_type": "display_data",
          "data": {
            "text/plain": [
              "Downloading builder script:   0%|          | 0.00/6.27k [00:00<?, ?B/s]"
            ],
            "application/vnd.jupyter.widget-view+json": {
              "version_major": 2,
              "version_minor": 0,
              "model_id": "6c86ac1af81642f8853b9ec9388ef613"
            }
          },
          "metadata": {}
        }
      ]
    },
    {
      "cell_type": "code",
      "source": [
        "# Calculate Character Error Rate (CER) and Word Error Rate (WER)\n",
        "results_CER = cer_metric.compute(predictions=list_of_generated_stories, references=list_of_20_examples)\n",
        "results_WER = wer_metric.compute(predictions=list_of_generated_stories, references=list_of_20_examples)\n",
        "\n",
        "# Calculate Exact Match (EM) and METEOR(M)\n",
        "results_em = exact_match_metric.compute(predictions=list_of_generated_stories, references=list_of_20_examples)\n",
        "results_met = meteor.compute(predictions=list_of_generated_stories, references=list_of_20_examples)\n",
        "\n",
        "# Calculate Bilingual Evaluation Understudy (BLEU)\n",
        "results_bleu = bleu_metric.compute(predictions=list_of_generated_stories, references=list_of_20_examples)"
      ],
      "metadata": {
        "id": "cX_-CAXQ05c-"
      },
      "execution_count": 62,
      "outputs": []
    },
    {
      "cell_type": "markdown",
      "source": [
        "# **Printing evaluation metrics**"
      ],
      "metadata": {
        "id": "MQGVDMuN5jRY"
      }
    },
    {
      "cell_type": "code",
      "source": [
        "print(\"Character Error Rate for Story Generation:\", results_CER)\n",
        "print(\"Word Error Rate for Story Generation:\",results_WER)\n",
        "print(\"Exact Match for Story Generation:\",results_em)\n",
        "print(\"BLEU Score for Story Generation:\",results_bleu)\n",
        "print(\"METEOR for Story Generation:\",results_met)"
      ],
      "metadata": {
        "colab": {
          "base_uri": "https://localhost:8080/"
        },
        "id": "NeL2eQv45hXx",
        "outputId": "7f1dddda-7394-4c0a-893e-6f5281f00d4e"
      },
      "execution_count": 63,
      "outputs": [
        {
          "output_type": "stream",
          "name": "stdout",
          "text": [
            "Character Error Rate for Story Generation: 0.868756579716926\n",
            "Word Error Rate for Story Generation: 0.9477481416703104\n",
            "Exact Match for Story Generation: {'exact_match': 0.0}\n",
            "BLEU Score for Story Generation: {'bleu': 0.0004679039332456458, 'precisions': [0.5592497868712702, 0.17669819432502148, 0.06504770164787511, 0.04286964129483815], 'brevity_penalty': 0.0036316313778264535, 'length_ratio': 0.15110137833311865, 'translation_length': 2346, 'reference_length': 15526}\n",
            "METEOR for Story Generation: {'meteor': 0.05732767404320359}\n"
          ]
        }
      ]
    }
  ]
}