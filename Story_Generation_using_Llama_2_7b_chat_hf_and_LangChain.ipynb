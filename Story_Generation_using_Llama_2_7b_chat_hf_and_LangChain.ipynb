{
  "nbformat": 4,
  "nbformat_minor": 0,
  "metadata": {
    "colab": {
      "provenance": [],
      "gpuType": "T4",
      "include_colab_link": true
    },
    "kernelspec": {
      "name": "python3",
      "display_name": "Python 3"
    },
    "language_info": {
      "name": "python"
    },
    "widgets": {
      "application/vnd.jupyter.widget-state+json": {
        "4f971eaab49f4f7ba22dda378b848ea2": {
          "model_module": "@jupyter-widgets/controls",
          "model_name": "HBoxModel",
          "model_module_version": "1.5.0",
          "state": {
            "_dom_classes": [],
            "_model_module": "@jupyter-widgets/controls",
            "_model_module_version": "1.5.0",
            "_model_name": "HBoxModel",
            "_view_count": null,
            "_view_module": "@jupyter-widgets/controls",
            "_view_module_version": "1.5.0",
            "_view_name": "HBoxView",
            "box_style": "",
            "children": [
              "IPY_MODEL_a4ac8989b2cc4d0f9c4d9a44255e1feb",
              "IPY_MODEL_f4d495c93760487c94a012992bbadfe5",
              "IPY_MODEL_ac8bf74c509742c99bfa7d7803c2a9ab"
            ],
            "layout": "IPY_MODEL_9fde4d4891cd4ff38ded1c2b7e4d2fbb"
          }
        },
        "a4ac8989b2cc4d0f9c4d9a44255e1feb": {
          "model_module": "@jupyter-widgets/controls",
          "model_name": "HTMLModel",
          "model_module_version": "1.5.0",
          "state": {
            "_dom_classes": [],
            "_model_module": "@jupyter-widgets/controls",
            "_model_module_version": "1.5.0",
            "_model_name": "HTMLModel",
            "_view_count": null,
            "_view_module": "@jupyter-widgets/controls",
            "_view_module_version": "1.5.0",
            "_view_name": "HTMLView",
            "description": "",
            "description_tooltip": null,
            "layout": "IPY_MODEL_aa51de7139214cfc87fdb358c745f78b",
            "placeholder": "​",
            "style": "IPY_MODEL_214894d02611443588b1018022bff62a",
            "value": "Downloading data: 100%"
          }
        },
        "f4d495c93760487c94a012992bbadfe5": {
          "model_module": "@jupyter-widgets/controls",
          "model_name": "FloatProgressModel",
          "model_module_version": "1.5.0",
          "state": {
            "_dom_classes": [],
            "_model_module": "@jupyter-widgets/controls",
            "_model_module_version": "1.5.0",
            "_model_name": "FloatProgressModel",
            "_view_count": null,
            "_view_module": "@jupyter-widgets/controls",
            "_view_module_version": "1.5.0",
            "_view_name": "ProgressView",
            "bar_style": "success",
            "description": "",
            "description_tooltip": null,
            "layout": "IPY_MODEL_23b69af1d2c74ef496502091218925f6",
            "max": 21195548,
            "min": 0,
            "orientation": "horizontal",
            "style": "IPY_MODEL_1caa39ca41844661900f6d08d51a12ae",
            "value": 21195548
          }
        },
        "ac8bf74c509742c99bfa7d7803c2a9ab": {
          "model_module": "@jupyter-widgets/controls",
          "model_name": "HTMLModel",
          "model_module_version": "1.5.0",
          "state": {
            "_dom_classes": [],
            "_model_module": "@jupyter-widgets/controls",
            "_model_module_version": "1.5.0",
            "_model_name": "HTMLModel",
            "_view_count": null,
            "_view_module": "@jupyter-widgets/controls",
            "_view_module_version": "1.5.0",
            "_view_name": "HTMLView",
            "description": "",
            "description_tooltip": null,
            "layout": "IPY_MODEL_59e0a79666d041f4a58d3bbbad34836f",
            "placeholder": "​",
            "style": "IPY_MODEL_4958d954811d4f229cb5f01d4cb23762",
            "value": " 21.2M/21.2M [00:01&lt;00:00, 13.6MB/s]"
          }
        },
        "9fde4d4891cd4ff38ded1c2b7e4d2fbb": {
          "model_module": "@jupyter-widgets/base",
          "model_name": "LayoutModel",
          "model_module_version": "1.2.0",
          "state": {
            "_model_module": "@jupyter-widgets/base",
            "_model_module_version": "1.2.0",
            "_model_name": "LayoutModel",
            "_view_count": null,
            "_view_module": "@jupyter-widgets/base",
            "_view_module_version": "1.2.0",
            "_view_name": "LayoutView",
            "align_content": null,
            "align_items": null,
            "align_self": null,
            "border": null,
            "bottom": null,
            "display": null,
            "flex": null,
            "flex_flow": null,
            "grid_area": null,
            "grid_auto_columns": null,
            "grid_auto_flow": null,
            "grid_auto_rows": null,
            "grid_column": null,
            "grid_gap": null,
            "grid_row": null,
            "grid_template_areas": null,
            "grid_template_columns": null,
            "grid_template_rows": null,
            "height": null,
            "justify_content": null,
            "justify_items": null,
            "left": null,
            "margin": null,
            "max_height": null,
            "max_width": null,
            "min_height": null,
            "min_width": null,
            "object_fit": null,
            "object_position": null,
            "order": null,
            "overflow": null,
            "overflow_x": null,
            "overflow_y": null,
            "padding": null,
            "right": null,
            "top": null,
            "visibility": null,
            "width": null
          }
        },
        "aa51de7139214cfc87fdb358c745f78b": {
          "model_module": "@jupyter-widgets/base",
          "model_name": "LayoutModel",
          "model_module_version": "1.2.0",
          "state": {
            "_model_module": "@jupyter-widgets/base",
            "_model_module_version": "1.2.0",
            "_model_name": "LayoutModel",
            "_view_count": null,
            "_view_module": "@jupyter-widgets/base",
            "_view_module_version": "1.2.0",
            "_view_name": "LayoutView",
            "align_content": null,
            "align_items": null,
            "align_self": null,
            "border": null,
            "bottom": null,
            "display": null,
            "flex": null,
            "flex_flow": null,
            "grid_area": null,
            "grid_auto_columns": null,
            "grid_auto_flow": null,
            "grid_auto_rows": null,
            "grid_column": null,
            "grid_gap": null,
            "grid_row": null,
            "grid_template_areas": null,
            "grid_template_columns": null,
            "grid_template_rows": null,
            "height": null,
            "justify_content": null,
            "justify_items": null,
            "left": null,
            "margin": null,
            "max_height": null,
            "max_width": null,
            "min_height": null,
            "min_width": null,
            "object_fit": null,
            "object_position": null,
            "order": null,
            "overflow": null,
            "overflow_x": null,
            "overflow_y": null,
            "padding": null,
            "right": null,
            "top": null,
            "visibility": null,
            "width": null
          }
        },
        "214894d02611443588b1018022bff62a": {
          "model_module": "@jupyter-widgets/controls",
          "model_name": "DescriptionStyleModel",
          "model_module_version": "1.5.0",
          "state": {
            "_model_module": "@jupyter-widgets/controls",
            "_model_module_version": "1.5.0",
            "_model_name": "DescriptionStyleModel",
            "_view_count": null,
            "_view_module": "@jupyter-widgets/base",
            "_view_module_version": "1.2.0",
            "_view_name": "StyleView",
            "description_width": ""
          }
        },
        "23b69af1d2c74ef496502091218925f6": {
          "model_module": "@jupyter-widgets/base",
          "model_name": "LayoutModel",
          "model_module_version": "1.2.0",
          "state": {
            "_model_module": "@jupyter-widgets/base",
            "_model_module_version": "1.2.0",
            "_model_name": "LayoutModel",
            "_view_count": null,
            "_view_module": "@jupyter-widgets/base",
            "_view_module_version": "1.2.0",
            "_view_name": "LayoutView",
            "align_content": null,
            "align_items": null,
            "align_self": null,
            "border": null,
            "bottom": null,
            "display": null,
            "flex": null,
            "flex_flow": null,
            "grid_area": null,
            "grid_auto_columns": null,
            "grid_auto_flow": null,
            "grid_auto_rows": null,
            "grid_column": null,
            "grid_gap": null,
            "grid_row": null,
            "grid_template_areas": null,
            "grid_template_columns": null,
            "grid_template_rows": null,
            "height": null,
            "justify_content": null,
            "justify_items": null,
            "left": null,
            "margin": null,
            "max_height": null,
            "max_width": null,
            "min_height": null,
            "min_width": null,
            "object_fit": null,
            "object_position": null,
            "order": null,
            "overflow": null,
            "overflow_x": null,
            "overflow_y": null,
            "padding": null,
            "right": null,
            "top": null,
            "visibility": null,
            "width": null
          }
        },
        "1caa39ca41844661900f6d08d51a12ae": {
          "model_module": "@jupyter-widgets/controls",
          "model_name": "ProgressStyleModel",
          "model_module_version": "1.5.0",
          "state": {
            "_model_module": "@jupyter-widgets/controls",
            "_model_module_version": "1.5.0",
            "_model_name": "ProgressStyleModel",
            "_view_count": null,
            "_view_module": "@jupyter-widgets/base",
            "_view_module_version": "1.2.0",
            "_view_name": "StyleView",
            "bar_color": null,
            "description_width": ""
          }
        },
        "59e0a79666d041f4a58d3bbbad34836f": {
          "model_module": "@jupyter-widgets/base",
          "model_name": "LayoutModel",
          "model_module_version": "1.2.0",
          "state": {
            "_model_module": "@jupyter-widgets/base",
            "_model_module_version": "1.2.0",
            "_model_name": "LayoutModel",
            "_view_count": null,
            "_view_module": "@jupyter-widgets/base",
            "_view_module_version": "1.2.0",
            "_view_name": "LayoutView",
            "align_content": null,
            "align_items": null,
            "align_self": null,
            "border": null,
            "bottom": null,
            "display": null,
            "flex": null,
            "flex_flow": null,
            "grid_area": null,
            "grid_auto_columns": null,
            "grid_auto_flow": null,
            "grid_auto_rows": null,
            "grid_column": null,
            "grid_gap": null,
            "grid_row": null,
            "grid_template_areas": null,
            "grid_template_columns": null,
            "grid_template_rows": null,
            "height": null,
            "justify_content": null,
            "justify_items": null,
            "left": null,
            "margin": null,
            "max_height": null,
            "max_width": null,
            "min_height": null,
            "min_width": null,
            "object_fit": null,
            "object_position": null,
            "order": null,
            "overflow": null,
            "overflow_x": null,
            "overflow_y": null,
            "padding": null,
            "right": null,
            "top": null,
            "visibility": null,
            "width": null
          }
        },
        "4958d954811d4f229cb5f01d4cb23762": {
          "model_module": "@jupyter-widgets/controls",
          "model_name": "DescriptionStyleModel",
          "model_module_version": "1.5.0",
          "state": {
            "_model_module": "@jupyter-widgets/controls",
            "_model_module_version": "1.5.0",
            "_model_name": "DescriptionStyleModel",
            "_view_count": null,
            "_view_module": "@jupyter-widgets/base",
            "_view_module_version": "1.2.0",
            "_view_name": "StyleView",
            "description_width": ""
          }
        },
        "463895afe34e42e8961d4b827fb32772": {
          "model_module": "@jupyter-widgets/controls",
          "model_name": "HBoxModel",
          "model_module_version": "1.5.0",
          "state": {
            "_dom_classes": [],
            "_model_module": "@jupyter-widgets/controls",
            "_model_module_version": "1.5.0",
            "_model_name": "HBoxModel",
            "_view_count": null,
            "_view_module": "@jupyter-widgets/controls",
            "_view_module_version": "1.5.0",
            "_view_name": "HBoxView",
            "box_style": "",
            "children": [
              "IPY_MODEL_2c50934ce3084dc795e23840d6535b45",
              "IPY_MODEL_8b9ce9b248024d2592f87d1e15f7aaaa",
              "IPY_MODEL_5559232b8ad8485180236302967f792b"
            ],
            "layout": "IPY_MODEL_39da5fda762b40f08f042d9c86ee1c18"
          }
        },
        "2c50934ce3084dc795e23840d6535b45": {
          "model_module": "@jupyter-widgets/controls",
          "model_name": "HTMLModel",
          "model_module_version": "1.5.0",
          "state": {
            "_dom_classes": [],
            "_model_module": "@jupyter-widgets/controls",
            "_model_module_version": "1.5.0",
            "_model_name": "HTMLModel",
            "_view_count": null,
            "_view_module": "@jupyter-widgets/controls",
            "_view_module_version": "1.5.0",
            "_view_name": "HTMLView",
            "description": "",
            "description_tooltip": null,
            "layout": "IPY_MODEL_e0c497a42d054239976d47d648848db8",
            "placeholder": "​",
            "style": "IPY_MODEL_842e200bcfd74f85bda022241c3c0a30",
            "value": "Generating train split: "
          }
        },
        "8b9ce9b248024d2592f87d1e15f7aaaa": {
          "model_module": "@jupyter-widgets/controls",
          "model_name": "FloatProgressModel",
          "model_module_version": "1.5.0",
          "state": {
            "_dom_classes": [],
            "_model_module": "@jupyter-widgets/controls",
            "_model_module_version": "1.5.0",
            "_model_name": "FloatProgressModel",
            "_view_count": null,
            "_view_module": "@jupyter-widgets/controls",
            "_view_module_version": "1.5.0",
            "_view_name": "ProgressView",
            "bar_style": "success",
            "description": "",
            "description_tooltip": null,
            "layout": "IPY_MODEL_897472309bd941e2b01a8260dee84808",
            "max": 1,
            "min": 0,
            "orientation": "horizontal",
            "style": "IPY_MODEL_acc036d622eb4ffea61c0420cce095fb",
            "value": 1
          }
        },
        "5559232b8ad8485180236302967f792b": {
          "model_module": "@jupyter-widgets/controls",
          "model_name": "HTMLModel",
          "model_module_version": "1.5.0",
          "state": {
            "_dom_classes": [],
            "_model_module": "@jupyter-widgets/controls",
            "_model_module_version": "1.5.0",
            "_model_name": "HTMLModel",
            "_view_count": null,
            "_view_module": "@jupyter-widgets/controls",
            "_view_module_version": "1.5.0",
            "_view_name": "HTMLView",
            "description": "",
            "description_tooltip": null,
            "layout": "IPY_MODEL_49c2de86f0784c1296935961861460cf",
            "placeholder": "​",
            "style": "IPY_MODEL_5eec9fc00ec846f999126700c879641a",
            "value": " 5018/0 [00:00&lt;00:00, 20663.69 examples/s]"
          }
        },
        "39da5fda762b40f08f042d9c86ee1c18": {
          "model_module": "@jupyter-widgets/base",
          "model_name": "LayoutModel",
          "model_module_version": "1.2.0",
          "state": {
            "_model_module": "@jupyter-widgets/base",
            "_model_module_version": "1.2.0",
            "_model_name": "LayoutModel",
            "_view_count": null,
            "_view_module": "@jupyter-widgets/base",
            "_view_module_version": "1.2.0",
            "_view_name": "LayoutView",
            "align_content": null,
            "align_items": null,
            "align_self": null,
            "border": null,
            "bottom": null,
            "display": null,
            "flex": null,
            "flex_flow": null,
            "grid_area": null,
            "grid_auto_columns": null,
            "grid_auto_flow": null,
            "grid_auto_rows": null,
            "grid_column": null,
            "grid_gap": null,
            "grid_row": null,
            "grid_template_areas": null,
            "grid_template_columns": null,
            "grid_template_rows": null,
            "height": null,
            "justify_content": null,
            "justify_items": null,
            "left": null,
            "margin": null,
            "max_height": null,
            "max_width": null,
            "min_height": null,
            "min_width": null,
            "object_fit": null,
            "object_position": null,
            "order": null,
            "overflow": null,
            "overflow_x": null,
            "overflow_y": null,
            "padding": null,
            "right": null,
            "top": null,
            "visibility": null,
            "width": null
          }
        },
        "e0c497a42d054239976d47d648848db8": {
          "model_module": "@jupyter-widgets/base",
          "model_name": "LayoutModel",
          "model_module_version": "1.2.0",
          "state": {
            "_model_module": "@jupyter-widgets/base",
            "_model_module_version": "1.2.0",
            "_model_name": "LayoutModel",
            "_view_count": null,
            "_view_module": "@jupyter-widgets/base",
            "_view_module_version": "1.2.0",
            "_view_name": "LayoutView",
            "align_content": null,
            "align_items": null,
            "align_self": null,
            "border": null,
            "bottom": null,
            "display": null,
            "flex": null,
            "flex_flow": null,
            "grid_area": null,
            "grid_auto_columns": null,
            "grid_auto_flow": null,
            "grid_auto_rows": null,
            "grid_column": null,
            "grid_gap": null,
            "grid_row": null,
            "grid_template_areas": null,
            "grid_template_columns": null,
            "grid_template_rows": null,
            "height": null,
            "justify_content": null,
            "justify_items": null,
            "left": null,
            "margin": null,
            "max_height": null,
            "max_width": null,
            "min_height": null,
            "min_width": null,
            "object_fit": null,
            "object_position": null,
            "order": null,
            "overflow": null,
            "overflow_x": null,
            "overflow_y": null,
            "padding": null,
            "right": null,
            "top": null,
            "visibility": null,
            "width": null
          }
        },
        "842e200bcfd74f85bda022241c3c0a30": {
          "model_module": "@jupyter-widgets/controls",
          "model_name": "DescriptionStyleModel",
          "model_module_version": "1.5.0",
          "state": {
            "_model_module": "@jupyter-widgets/controls",
            "_model_module_version": "1.5.0",
            "_model_name": "DescriptionStyleModel",
            "_view_count": null,
            "_view_module": "@jupyter-widgets/base",
            "_view_module_version": "1.2.0",
            "_view_name": "StyleView",
            "description_width": ""
          }
        },
        "897472309bd941e2b01a8260dee84808": {
          "model_module": "@jupyter-widgets/base",
          "model_name": "LayoutModel",
          "model_module_version": "1.2.0",
          "state": {
            "_model_module": "@jupyter-widgets/base",
            "_model_module_version": "1.2.0",
            "_model_name": "LayoutModel",
            "_view_count": null,
            "_view_module": "@jupyter-widgets/base",
            "_view_module_version": "1.2.0",
            "_view_name": "LayoutView",
            "align_content": null,
            "align_items": null,
            "align_self": null,
            "border": null,
            "bottom": null,
            "display": null,
            "flex": null,
            "flex_flow": null,
            "grid_area": null,
            "grid_auto_columns": null,
            "grid_auto_flow": null,
            "grid_auto_rows": null,
            "grid_column": null,
            "grid_gap": null,
            "grid_row": null,
            "grid_template_areas": null,
            "grid_template_columns": null,
            "grid_template_rows": null,
            "height": null,
            "justify_content": null,
            "justify_items": null,
            "left": null,
            "margin": null,
            "max_height": null,
            "max_width": null,
            "min_height": null,
            "min_width": null,
            "object_fit": null,
            "object_position": null,
            "order": null,
            "overflow": null,
            "overflow_x": null,
            "overflow_y": null,
            "padding": null,
            "right": null,
            "top": null,
            "visibility": null,
            "width": "20px"
          }
        },
        "acc036d622eb4ffea61c0420cce095fb": {
          "model_module": "@jupyter-widgets/controls",
          "model_name": "ProgressStyleModel",
          "model_module_version": "1.5.0",
          "state": {
            "_model_module": "@jupyter-widgets/controls",
            "_model_module_version": "1.5.0",
            "_model_name": "ProgressStyleModel",
            "_view_count": null,
            "_view_module": "@jupyter-widgets/base",
            "_view_module_version": "1.2.0",
            "_view_name": "StyleView",
            "bar_color": null,
            "description_width": ""
          }
        },
        "49c2de86f0784c1296935961861460cf": {
          "model_module": "@jupyter-widgets/base",
          "model_name": "LayoutModel",
          "model_module_version": "1.2.0",
          "state": {
            "_model_module": "@jupyter-widgets/base",
            "_model_module_version": "1.2.0",
            "_model_name": "LayoutModel",
            "_view_count": null,
            "_view_module": "@jupyter-widgets/base",
            "_view_module_version": "1.2.0",
            "_view_name": "LayoutView",
            "align_content": null,
            "align_items": null,
            "align_self": null,
            "border": null,
            "bottom": null,
            "display": null,
            "flex": null,
            "flex_flow": null,
            "grid_area": null,
            "grid_auto_columns": null,
            "grid_auto_flow": null,
            "grid_auto_rows": null,
            "grid_column": null,
            "grid_gap": null,
            "grid_row": null,
            "grid_template_areas": null,
            "grid_template_columns": null,
            "grid_template_rows": null,
            "height": null,
            "justify_content": null,
            "justify_items": null,
            "left": null,
            "margin": null,
            "max_height": null,
            "max_width": null,
            "min_height": null,
            "min_width": null,
            "object_fit": null,
            "object_position": null,
            "order": null,
            "overflow": null,
            "overflow_x": null,
            "overflow_y": null,
            "padding": null,
            "right": null,
            "top": null,
            "visibility": null,
            "width": null
          }
        },
        "5eec9fc00ec846f999126700c879641a": {
          "model_module": "@jupyter-widgets/controls",
          "model_name": "DescriptionStyleModel",
          "model_module_version": "1.5.0",
          "state": {
            "_model_module": "@jupyter-widgets/controls",
            "_model_module_version": "1.5.0",
            "_model_name": "DescriptionStyleModel",
            "_view_count": null,
            "_view_module": "@jupyter-widgets/base",
            "_view_module_version": "1.2.0",
            "_view_name": "StyleView",
            "description_width": ""
          }
        },
        "c579f9c8d7884f3ebda735ea449ac111": {
          "model_module": "@jupyter-widgets/controls",
          "model_name": "HBoxModel",
          "model_module_version": "1.5.0",
          "state": {
            "_dom_classes": [],
            "_model_module": "@jupyter-widgets/controls",
            "_model_module_version": "1.5.0",
            "_model_name": "HBoxModel",
            "_view_count": null,
            "_view_module": "@jupyter-widgets/controls",
            "_view_module_version": "1.5.0",
            "_view_name": "HBoxView",
            "box_style": "",
            "children": [
              "IPY_MODEL_7f90a36510a54e1b96d936d8e6264828",
              "IPY_MODEL_807a77cfa13643799cd954127fe85875",
              "IPY_MODEL_71ed983a9ca54d56a278c9da3af1beeb"
            ],
            "layout": "IPY_MODEL_4c348c9abda64430a8ded31e08fcf038"
          }
        },
        "7f90a36510a54e1b96d936d8e6264828": {
          "model_module": "@jupyter-widgets/controls",
          "model_name": "HTMLModel",
          "model_module_version": "1.5.0",
          "state": {
            "_dom_classes": [],
            "_model_module": "@jupyter-widgets/controls",
            "_model_module_version": "1.5.0",
            "_model_name": "HTMLModel",
            "_view_count": null,
            "_view_module": "@jupyter-widgets/controls",
            "_view_module_version": "1.5.0",
            "_view_name": "HTMLView",
            "description": "",
            "description_tooltip": null,
            "layout": "IPY_MODEL_49963939811e4b9fbd5a47ecf583aade",
            "placeholder": "​",
            "style": "IPY_MODEL_37b00ba2a8744c9eb4d047dc28ca5da6",
            "value": "config.json: 100%"
          }
        },
        "807a77cfa13643799cd954127fe85875": {
          "model_module": "@jupyter-widgets/controls",
          "model_name": "FloatProgressModel",
          "model_module_version": "1.5.0",
          "state": {
            "_dom_classes": [],
            "_model_module": "@jupyter-widgets/controls",
            "_model_module_version": "1.5.0",
            "_model_name": "FloatProgressModel",
            "_view_count": null,
            "_view_module": "@jupyter-widgets/controls",
            "_view_module_version": "1.5.0",
            "_view_name": "ProgressView",
            "bar_style": "success",
            "description": "",
            "description_tooltip": null,
            "layout": "IPY_MODEL_f9fa735188a040e1b9e07ed8f19de6c2",
            "max": 583,
            "min": 0,
            "orientation": "horizontal",
            "style": "IPY_MODEL_c9f756d3b7ac46f49cc3b335bcd554c6",
            "value": 583
          }
        },
        "71ed983a9ca54d56a278c9da3af1beeb": {
          "model_module": "@jupyter-widgets/controls",
          "model_name": "HTMLModel",
          "model_module_version": "1.5.0",
          "state": {
            "_dom_classes": [],
            "_model_module": "@jupyter-widgets/controls",
            "_model_module_version": "1.5.0",
            "_model_name": "HTMLModel",
            "_view_count": null,
            "_view_module": "@jupyter-widgets/controls",
            "_view_module_version": "1.5.0",
            "_view_name": "HTMLView",
            "description": "",
            "description_tooltip": null,
            "layout": "IPY_MODEL_04f3ac2dc6d24529ac1f3fd4fbdad43b",
            "placeholder": "​",
            "style": "IPY_MODEL_8d0007dadc3140b0841606cbe8bde4fd",
            "value": " 583/583 [00:00&lt;00:00, 37.5kB/s]"
          }
        },
        "4c348c9abda64430a8ded31e08fcf038": {
          "model_module": "@jupyter-widgets/base",
          "model_name": "LayoutModel",
          "model_module_version": "1.2.0",
          "state": {
            "_model_module": "@jupyter-widgets/base",
            "_model_module_version": "1.2.0",
            "_model_name": "LayoutModel",
            "_view_count": null,
            "_view_module": "@jupyter-widgets/base",
            "_view_module_version": "1.2.0",
            "_view_name": "LayoutView",
            "align_content": null,
            "align_items": null,
            "align_self": null,
            "border": null,
            "bottom": null,
            "display": null,
            "flex": null,
            "flex_flow": null,
            "grid_area": null,
            "grid_auto_columns": null,
            "grid_auto_flow": null,
            "grid_auto_rows": null,
            "grid_column": null,
            "grid_gap": null,
            "grid_row": null,
            "grid_template_areas": null,
            "grid_template_columns": null,
            "grid_template_rows": null,
            "height": null,
            "justify_content": null,
            "justify_items": null,
            "left": null,
            "margin": null,
            "max_height": null,
            "max_width": null,
            "min_height": null,
            "min_width": null,
            "object_fit": null,
            "object_position": null,
            "order": null,
            "overflow": null,
            "overflow_x": null,
            "overflow_y": null,
            "padding": null,
            "right": null,
            "top": null,
            "visibility": null,
            "width": null
          }
        },
        "49963939811e4b9fbd5a47ecf583aade": {
          "model_module": "@jupyter-widgets/base",
          "model_name": "LayoutModel",
          "model_module_version": "1.2.0",
          "state": {
            "_model_module": "@jupyter-widgets/base",
            "_model_module_version": "1.2.0",
            "_model_name": "LayoutModel",
            "_view_count": null,
            "_view_module": "@jupyter-widgets/base",
            "_view_module_version": "1.2.0",
            "_view_name": "LayoutView",
            "align_content": null,
            "align_items": null,
            "align_self": null,
            "border": null,
            "bottom": null,
            "display": null,
            "flex": null,
            "flex_flow": null,
            "grid_area": null,
            "grid_auto_columns": null,
            "grid_auto_flow": null,
            "grid_auto_rows": null,
            "grid_column": null,
            "grid_gap": null,
            "grid_row": null,
            "grid_template_areas": null,
            "grid_template_columns": null,
            "grid_template_rows": null,
            "height": null,
            "justify_content": null,
            "justify_items": null,
            "left": null,
            "margin": null,
            "max_height": null,
            "max_width": null,
            "min_height": null,
            "min_width": null,
            "object_fit": null,
            "object_position": null,
            "order": null,
            "overflow": null,
            "overflow_x": null,
            "overflow_y": null,
            "padding": null,
            "right": null,
            "top": null,
            "visibility": null,
            "width": null
          }
        },
        "37b00ba2a8744c9eb4d047dc28ca5da6": {
          "model_module": "@jupyter-widgets/controls",
          "model_name": "DescriptionStyleModel",
          "model_module_version": "1.5.0",
          "state": {
            "_model_module": "@jupyter-widgets/controls",
            "_model_module_version": "1.5.0",
            "_model_name": "DescriptionStyleModel",
            "_view_count": null,
            "_view_module": "@jupyter-widgets/base",
            "_view_module_version": "1.2.0",
            "_view_name": "StyleView",
            "description_width": ""
          }
        },
        "f9fa735188a040e1b9e07ed8f19de6c2": {
          "model_module": "@jupyter-widgets/base",
          "model_name": "LayoutModel",
          "model_module_version": "1.2.0",
          "state": {
            "_model_module": "@jupyter-widgets/base",
            "_model_module_version": "1.2.0",
            "_model_name": "LayoutModel",
            "_view_count": null,
            "_view_module": "@jupyter-widgets/base",
            "_view_module_version": "1.2.0",
            "_view_name": "LayoutView",
            "align_content": null,
            "align_items": null,
            "align_self": null,
            "border": null,
            "bottom": null,
            "display": null,
            "flex": null,
            "flex_flow": null,
            "grid_area": null,
            "grid_auto_columns": null,
            "grid_auto_flow": null,
            "grid_auto_rows": null,
            "grid_column": null,
            "grid_gap": null,
            "grid_row": null,
            "grid_template_areas": null,
            "grid_template_columns": null,
            "grid_template_rows": null,
            "height": null,
            "justify_content": null,
            "justify_items": null,
            "left": null,
            "margin": null,
            "max_height": null,
            "max_width": null,
            "min_height": null,
            "min_width": null,
            "object_fit": null,
            "object_position": null,
            "order": null,
            "overflow": null,
            "overflow_x": null,
            "overflow_y": null,
            "padding": null,
            "right": null,
            "top": null,
            "visibility": null,
            "width": null
          }
        },
        "c9f756d3b7ac46f49cc3b335bcd554c6": {
          "model_module": "@jupyter-widgets/controls",
          "model_name": "ProgressStyleModel",
          "model_module_version": "1.5.0",
          "state": {
            "_model_module": "@jupyter-widgets/controls",
            "_model_module_version": "1.5.0",
            "_model_name": "ProgressStyleModel",
            "_view_count": null,
            "_view_module": "@jupyter-widgets/base",
            "_view_module_version": "1.2.0",
            "_view_name": "StyleView",
            "bar_color": null,
            "description_width": ""
          }
        },
        "04f3ac2dc6d24529ac1f3fd4fbdad43b": {
          "model_module": "@jupyter-widgets/base",
          "model_name": "LayoutModel",
          "model_module_version": "1.2.0",
          "state": {
            "_model_module": "@jupyter-widgets/base",
            "_model_module_version": "1.2.0",
            "_model_name": "LayoutModel",
            "_view_count": null,
            "_view_module": "@jupyter-widgets/base",
            "_view_module_version": "1.2.0",
            "_view_name": "LayoutView",
            "align_content": null,
            "align_items": null,
            "align_self": null,
            "border": null,
            "bottom": null,
            "display": null,
            "flex": null,
            "flex_flow": null,
            "grid_area": null,
            "grid_auto_columns": null,
            "grid_auto_flow": null,
            "grid_auto_rows": null,
            "grid_column": null,
            "grid_gap": null,
            "grid_row": null,
            "grid_template_areas": null,
            "grid_template_columns": null,
            "grid_template_rows": null,
            "height": null,
            "justify_content": null,
            "justify_items": null,
            "left": null,
            "margin": null,
            "max_height": null,
            "max_width": null,
            "min_height": null,
            "min_width": null,
            "object_fit": null,
            "object_position": null,
            "order": null,
            "overflow": null,
            "overflow_x": null,
            "overflow_y": null,
            "padding": null,
            "right": null,
            "top": null,
            "visibility": null,
            "width": null
          }
        },
        "8d0007dadc3140b0841606cbe8bde4fd": {
          "model_module": "@jupyter-widgets/controls",
          "model_name": "DescriptionStyleModel",
          "model_module_version": "1.5.0",
          "state": {
            "_model_module": "@jupyter-widgets/controls",
            "_model_module_version": "1.5.0",
            "_model_name": "DescriptionStyleModel",
            "_view_count": null,
            "_view_module": "@jupyter-widgets/base",
            "_view_module_version": "1.2.0",
            "_view_name": "StyleView",
            "description_width": ""
          }
        },
        "3e710a50b65347ac9d5cf8f436267db4": {
          "model_module": "@jupyter-widgets/controls",
          "model_name": "HBoxModel",
          "model_module_version": "1.5.0",
          "state": {
            "_dom_classes": [],
            "_model_module": "@jupyter-widgets/controls",
            "_model_module_version": "1.5.0",
            "_model_name": "HBoxModel",
            "_view_count": null,
            "_view_module": "@jupyter-widgets/controls",
            "_view_module_version": "1.5.0",
            "_view_name": "HBoxView",
            "box_style": "",
            "children": [
              "IPY_MODEL_e63f63b331fd4d75af94c4207f41e59a",
              "IPY_MODEL_a5607a916b994fe2b0083f8775f25104",
              "IPY_MODEL_cb22ca3d78c4415ab934f026a8db0f66"
            ],
            "layout": "IPY_MODEL_0dfc476555594065be005db65bc7bf93"
          }
        },
        "e63f63b331fd4d75af94c4207f41e59a": {
          "model_module": "@jupyter-widgets/controls",
          "model_name": "HTMLModel",
          "model_module_version": "1.5.0",
          "state": {
            "_dom_classes": [],
            "_model_module": "@jupyter-widgets/controls",
            "_model_module_version": "1.5.0",
            "_model_name": "HTMLModel",
            "_view_count": null,
            "_view_module": "@jupyter-widgets/controls",
            "_view_module_version": "1.5.0",
            "_view_name": "HTMLView",
            "description": "",
            "description_tooltip": null,
            "layout": "IPY_MODEL_2368fa2f183f495194929f973a4012e4",
            "placeholder": "​",
            "style": "IPY_MODEL_dd12adebbfdc471583b0cb1099300fdb",
            "value": "model.safetensors.index.json: 100%"
          }
        },
        "a5607a916b994fe2b0083f8775f25104": {
          "model_module": "@jupyter-widgets/controls",
          "model_name": "FloatProgressModel",
          "model_module_version": "1.5.0",
          "state": {
            "_dom_classes": [],
            "_model_module": "@jupyter-widgets/controls",
            "_model_module_version": "1.5.0",
            "_model_name": "FloatProgressModel",
            "_view_count": null,
            "_view_module": "@jupyter-widgets/controls",
            "_view_module_version": "1.5.0",
            "_view_name": "ProgressView",
            "bar_style": "success",
            "description": "",
            "description_tooltip": null,
            "layout": "IPY_MODEL_0063c681f3894606a98dac2fee492921",
            "max": 26788,
            "min": 0,
            "orientation": "horizontal",
            "style": "IPY_MODEL_f5981c6dd2df47b0b4007f45789a69f4",
            "value": 26788
          }
        },
        "cb22ca3d78c4415ab934f026a8db0f66": {
          "model_module": "@jupyter-widgets/controls",
          "model_name": "HTMLModel",
          "model_module_version": "1.5.0",
          "state": {
            "_dom_classes": [],
            "_model_module": "@jupyter-widgets/controls",
            "_model_module_version": "1.5.0",
            "_model_name": "HTMLModel",
            "_view_count": null,
            "_view_module": "@jupyter-widgets/controls",
            "_view_module_version": "1.5.0",
            "_view_name": "HTMLView",
            "description": "",
            "description_tooltip": null,
            "layout": "IPY_MODEL_0e561f5172e240d4b459114b67780731",
            "placeholder": "​",
            "style": "IPY_MODEL_4a7a873b2cf14698bccb8e5577c529d5",
            "value": " 26.8k/26.8k [00:00&lt;00:00, 1.80MB/s]"
          }
        },
        "0dfc476555594065be005db65bc7bf93": {
          "model_module": "@jupyter-widgets/base",
          "model_name": "LayoutModel",
          "model_module_version": "1.2.0",
          "state": {
            "_model_module": "@jupyter-widgets/base",
            "_model_module_version": "1.2.0",
            "_model_name": "LayoutModel",
            "_view_count": null,
            "_view_module": "@jupyter-widgets/base",
            "_view_module_version": "1.2.0",
            "_view_name": "LayoutView",
            "align_content": null,
            "align_items": null,
            "align_self": null,
            "border": null,
            "bottom": null,
            "display": null,
            "flex": null,
            "flex_flow": null,
            "grid_area": null,
            "grid_auto_columns": null,
            "grid_auto_flow": null,
            "grid_auto_rows": null,
            "grid_column": null,
            "grid_gap": null,
            "grid_row": null,
            "grid_template_areas": null,
            "grid_template_columns": null,
            "grid_template_rows": null,
            "height": null,
            "justify_content": null,
            "justify_items": null,
            "left": null,
            "margin": null,
            "max_height": null,
            "max_width": null,
            "min_height": null,
            "min_width": null,
            "object_fit": null,
            "object_position": null,
            "order": null,
            "overflow": null,
            "overflow_x": null,
            "overflow_y": null,
            "padding": null,
            "right": null,
            "top": null,
            "visibility": null,
            "width": null
          }
        },
        "2368fa2f183f495194929f973a4012e4": {
          "model_module": "@jupyter-widgets/base",
          "model_name": "LayoutModel",
          "model_module_version": "1.2.0",
          "state": {
            "_model_module": "@jupyter-widgets/base",
            "_model_module_version": "1.2.0",
            "_model_name": "LayoutModel",
            "_view_count": null,
            "_view_module": "@jupyter-widgets/base",
            "_view_module_version": "1.2.0",
            "_view_name": "LayoutView",
            "align_content": null,
            "align_items": null,
            "align_self": null,
            "border": null,
            "bottom": null,
            "display": null,
            "flex": null,
            "flex_flow": null,
            "grid_area": null,
            "grid_auto_columns": null,
            "grid_auto_flow": null,
            "grid_auto_rows": null,
            "grid_column": null,
            "grid_gap": null,
            "grid_row": null,
            "grid_template_areas": null,
            "grid_template_columns": null,
            "grid_template_rows": null,
            "height": null,
            "justify_content": null,
            "justify_items": null,
            "left": null,
            "margin": null,
            "max_height": null,
            "max_width": null,
            "min_height": null,
            "min_width": null,
            "object_fit": null,
            "object_position": null,
            "order": null,
            "overflow": null,
            "overflow_x": null,
            "overflow_y": null,
            "padding": null,
            "right": null,
            "top": null,
            "visibility": null,
            "width": null
          }
        },
        "dd12adebbfdc471583b0cb1099300fdb": {
          "model_module": "@jupyter-widgets/controls",
          "model_name": "DescriptionStyleModel",
          "model_module_version": "1.5.0",
          "state": {
            "_model_module": "@jupyter-widgets/controls",
            "_model_module_version": "1.5.0",
            "_model_name": "DescriptionStyleModel",
            "_view_count": null,
            "_view_module": "@jupyter-widgets/base",
            "_view_module_version": "1.2.0",
            "_view_name": "StyleView",
            "description_width": ""
          }
        },
        "0063c681f3894606a98dac2fee492921": {
          "model_module": "@jupyter-widgets/base",
          "model_name": "LayoutModel",
          "model_module_version": "1.2.0",
          "state": {
            "_model_module": "@jupyter-widgets/base",
            "_model_module_version": "1.2.0",
            "_model_name": "LayoutModel",
            "_view_count": null,
            "_view_module": "@jupyter-widgets/base",
            "_view_module_version": "1.2.0",
            "_view_name": "LayoutView",
            "align_content": null,
            "align_items": null,
            "align_self": null,
            "border": null,
            "bottom": null,
            "display": null,
            "flex": null,
            "flex_flow": null,
            "grid_area": null,
            "grid_auto_columns": null,
            "grid_auto_flow": null,
            "grid_auto_rows": null,
            "grid_column": null,
            "grid_gap": null,
            "grid_row": null,
            "grid_template_areas": null,
            "grid_template_columns": null,
            "grid_template_rows": null,
            "height": null,
            "justify_content": null,
            "justify_items": null,
            "left": null,
            "margin": null,
            "max_height": null,
            "max_width": null,
            "min_height": null,
            "min_width": null,
            "object_fit": null,
            "object_position": null,
            "order": null,
            "overflow": null,
            "overflow_x": null,
            "overflow_y": null,
            "padding": null,
            "right": null,
            "top": null,
            "visibility": null,
            "width": null
          }
        },
        "f5981c6dd2df47b0b4007f45789a69f4": {
          "model_module": "@jupyter-widgets/controls",
          "model_name": "ProgressStyleModel",
          "model_module_version": "1.5.0",
          "state": {
            "_model_module": "@jupyter-widgets/controls",
            "_model_module_version": "1.5.0",
            "_model_name": "ProgressStyleModel",
            "_view_count": null,
            "_view_module": "@jupyter-widgets/base",
            "_view_module_version": "1.2.0",
            "_view_name": "StyleView",
            "bar_color": null,
            "description_width": ""
          }
        },
        "0e561f5172e240d4b459114b67780731": {
          "model_module": "@jupyter-widgets/base",
          "model_name": "LayoutModel",
          "model_module_version": "1.2.0",
          "state": {
            "_model_module": "@jupyter-widgets/base",
            "_model_module_version": "1.2.0",
            "_model_name": "LayoutModel",
            "_view_count": null,
            "_view_module": "@jupyter-widgets/base",
            "_view_module_version": "1.2.0",
            "_view_name": "LayoutView",
            "align_content": null,
            "align_items": null,
            "align_self": null,
            "border": null,
            "bottom": null,
            "display": null,
            "flex": null,
            "flex_flow": null,
            "grid_area": null,
            "grid_auto_columns": null,
            "grid_auto_flow": null,
            "grid_auto_rows": null,
            "grid_column": null,
            "grid_gap": null,
            "grid_row": null,
            "grid_template_areas": null,
            "grid_template_columns": null,
            "grid_template_rows": null,
            "height": null,
            "justify_content": null,
            "justify_items": null,
            "left": null,
            "margin": null,
            "max_height": null,
            "max_width": null,
            "min_height": null,
            "min_width": null,
            "object_fit": null,
            "object_position": null,
            "order": null,
            "overflow": null,
            "overflow_x": null,
            "overflow_y": null,
            "padding": null,
            "right": null,
            "top": null,
            "visibility": null,
            "width": null
          }
        },
        "4a7a873b2cf14698bccb8e5577c529d5": {
          "model_module": "@jupyter-widgets/controls",
          "model_name": "DescriptionStyleModel",
          "model_module_version": "1.5.0",
          "state": {
            "_model_module": "@jupyter-widgets/controls",
            "_model_module_version": "1.5.0",
            "_model_name": "DescriptionStyleModel",
            "_view_count": null,
            "_view_module": "@jupyter-widgets/base",
            "_view_module_version": "1.2.0",
            "_view_name": "StyleView",
            "description_width": ""
          }
        },
        "efc46f4c67a649f9ad91da32e9b2d196": {
          "model_module": "@jupyter-widgets/controls",
          "model_name": "HBoxModel",
          "model_module_version": "1.5.0",
          "state": {
            "_dom_classes": [],
            "_model_module": "@jupyter-widgets/controls",
            "_model_module_version": "1.5.0",
            "_model_name": "HBoxModel",
            "_view_count": null,
            "_view_module": "@jupyter-widgets/controls",
            "_view_module_version": "1.5.0",
            "_view_name": "HBoxView",
            "box_style": "",
            "children": [
              "IPY_MODEL_ccc6eda3b0c24008820d1623596486b3",
              "IPY_MODEL_0658167590b6432b81328759e506ce9c",
              "IPY_MODEL_b693d17d4a5744a2b9540bc799cb0704"
            ],
            "layout": "IPY_MODEL_cd8ab0bdf90d468cbeb55dc5ca4c6b90"
          }
        },
        "ccc6eda3b0c24008820d1623596486b3": {
          "model_module": "@jupyter-widgets/controls",
          "model_name": "HTMLModel",
          "model_module_version": "1.5.0",
          "state": {
            "_dom_classes": [],
            "_model_module": "@jupyter-widgets/controls",
            "_model_module_version": "1.5.0",
            "_model_name": "HTMLModel",
            "_view_count": null,
            "_view_module": "@jupyter-widgets/controls",
            "_view_module_version": "1.5.0",
            "_view_name": "HTMLView",
            "description": "",
            "description_tooltip": null,
            "layout": "IPY_MODEL_0295d21b986c407d846df9aeabf51eca",
            "placeholder": "​",
            "style": "IPY_MODEL_dfd169cd812044ebbe778d1f5c90dfbe",
            "value": "Downloading shards: 100%"
          }
        },
        "0658167590b6432b81328759e506ce9c": {
          "model_module": "@jupyter-widgets/controls",
          "model_name": "FloatProgressModel",
          "model_module_version": "1.5.0",
          "state": {
            "_dom_classes": [],
            "_model_module": "@jupyter-widgets/controls",
            "_model_module_version": "1.5.0",
            "_model_name": "FloatProgressModel",
            "_view_count": null,
            "_view_module": "@jupyter-widgets/controls",
            "_view_module_version": "1.5.0",
            "_view_name": "ProgressView",
            "bar_style": "success",
            "description": "",
            "description_tooltip": null,
            "layout": "IPY_MODEL_5177a15dbc254a5da5b20d645d539661",
            "max": 2,
            "min": 0,
            "orientation": "horizontal",
            "style": "IPY_MODEL_39432300f6d04c3ba1b532ffd8b393be",
            "value": 2
          }
        },
        "b693d17d4a5744a2b9540bc799cb0704": {
          "model_module": "@jupyter-widgets/controls",
          "model_name": "HTMLModel",
          "model_module_version": "1.5.0",
          "state": {
            "_dom_classes": [],
            "_model_module": "@jupyter-widgets/controls",
            "_model_module_version": "1.5.0",
            "_model_name": "HTMLModel",
            "_view_count": null,
            "_view_module": "@jupyter-widgets/controls",
            "_view_module_version": "1.5.0",
            "_view_name": "HTMLView",
            "description": "",
            "description_tooltip": null,
            "layout": "IPY_MODEL_70d86958021d40a4a1ff50fced33e2df",
            "placeholder": "​",
            "style": "IPY_MODEL_756bd266046c4b858eaa093efdb4c873",
            "value": " 2/2 [02:02&lt;00:00, 54.89s/it]"
          }
        },
        "cd8ab0bdf90d468cbeb55dc5ca4c6b90": {
          "model_module": "@jupyter-widgets/base",
          "model_name": "LayoutModel",
          "model_module_version": "1.2.0",
          "state": {
            "_model_module": "@jupyter-widgets/base",
            "_model_module_version": "1.2.0",
            "_model_name": "LayoutModel",
            "_view_count": null,
            "_view_module": "@jupyter-widgets/base",
            "_view_module_version": "1.2.0",
            "_view_name": "LayoutView",
            "align_content": null,
            "align_items": null,
            "align_self": null,
            "border": null,
            "bottom": null,
            "display": null,
            "flex": null,
            "flex_flow": null,
            "grid_area": null,
            "grid_auto_columns": null,
            "grid_auto_flow": null,
            "grid_auto_rows": null,
            "grid_column": null,
            "grid_gap": null,
            "grid_row": null,
            "grid_template_areas": null,
            "grid_template_columns": null,
            "grid_template_rows": null,
            "height": null,
            "justify_content": null,
            "justify_items": null,
            "left": null,
            "margin": null,
            "max_height": null,
            "max_width": null,
            "min_height": null,
            "min_width": null,
            "object_fit": null,
            "object_position": null,
            "order": null,
            "overflow": null,
            "overflow_x": null,
            "overflow_y": null,
            "padding": null,
            "right": null,
            "top": null,
            "visibility": null,
            "width": null
          }
        },
        "0295d21b986c407d846df9aeabf51eca": {
          "model_module": "@jupyter-widgets/base",
          "model_name": "LayoutModel",
          "model_module_version": "1.2.0",
          "state": {
            "_model_module": "@jupyter-widgets/base",
            "_model_module_version": "1.2.0",
            "_model_name": "LayoutModel",
            "_view_count": null,
            "_view_module": "@jupyter-widgets/base",
            "_view_module_version": "1.2.0",
            "_view_name": "LayoutView",
            "align_content": null,
            "align_items": null,
            "align_self": null,
            "border": null,
            "bottom": null,
            "display": null,
            "flex": null,
            "flex_flow": null,
            "grid_area": null,
            "grid_auto_columns": null,
            "grid_auto_flow": null,
            "grid_auto_rows": null,
            "grid_column": null,
            "grid_gap": null,
            "grid_row": null,
            "grid_template_areas": null,
            "grid_template_columns": null,
            "grid_template_rows": null,
            "height": null,
            "justify_content": null,
            "justify_items": null,
            "left": null,
            "margin": null,
            "max_height": null,
            "max_width": null,
            "min_height": null,
            "min_width": null,
            "object_fit": null,
            "object_position": null,
            "order": null,
            "overflow": null,
            "overflow_x": null,
            "overflow_y": null,
            "padding": null,
            "right": null,
            "top": null,
            "visibility": null,
            "width": null
          }
        },
        "dfd169cd812044ebbe778d1f5c90dfbe": {
          "model_module": "@jupyter-widgets/controls",
          "model_name": "DescriptionStyleModel",
          "model_module_version": "1.5.0",
          "state": {
            "_model_module": "@jupyter-widgets/controls",
            "_model_module_version": "1.5.0",
            "_model_name": "DescriptionStyleModel",
            "_view_count": null,
            "_view_module": "@jupyter-widgets/base",
            "_view_module_version": "1.2.0",
            "_view_name": "StyleView",
            "description_width": ""
          }
        },
        "5177a15dbc254a5da5b20d645d539661": {
          "model_module": "@jupyter-widgets/base",
          "model_name": "LayoutModel",
          "model_module_version": "1.2.0",
          "state": {
            "_model_module": "@jupyter-widgets/base",
            "_model_module_version": "1.2.0",
            "_model_name": "LayoutModel",
            "_view_count": null,
            "_view_module": "@jupyter-widgets/base",
            "_view_module_version": "1.2.0",
            "_view_name": "LayoutView",
            "align_content": null,
            "align_items": null,
            "align_self": null,
            "border": null,
            "bottom": null,
            "display": null,
            "flex": null,
            "flex_flow": null,
            "grid_area": null,
            "grid_auto_columns": null,
            "grid_auto_flow": null,
            "grid_auto_rows": null,
            "grid_column": null,
            "grid_gap": null,
            "grid_row": null,
            "grid_template_areas": null,
            "grid_template_columns": null,
            "grid_template_rows": null,
            "height": null,
            "justify_content": null,
            "justify_items": null,
            "left": null,
            "margin": null,
            "max_height": null,
            "max_width": null,
            "min_height": null,
            "min_width": null,
            "object_fit": null,
            "object_position": null,
            "order": null,
            "overflow": null,
            "overflow_x": null,
            "overflow_y": null,
            "padding": null,
            "right": null,
            "top": null,
            "visibility": null,
            "width": null
          }
        },
        "39432300f6d04c3ba1b532ffd8b393be": {
          "model_module": "@jupyter-widgets/controls",
          "model_name": "ProgressStyleModel",
          "model_module_version": "1.5.0",
          "state": {
            "_model_module": "@jupyter-widgets/controls",
            "_model_module_version": "1.5.0",
            "_model_name": "ProgressStyleModel",
            "_view_count": null,
            "_view_module": "@jupyter-widgets/base",
            "_view_module_version": "1.2.0",
            "_view_name": "StyleView",
            "bar_color": null,
            "description_width": ""
          }
        },
        "70d86958021d40a4a1ff50fced33e2df": {
          "model_module": "@jupyter-widgets/base",
          "model_name": "LayoutModel",
          "model_module_version": "1.2.0",
          "state": {
            "_model_module": "@jupyter-widgets/base",
            "_model_module_version": "1.2.0",
            "_model_name": "LayoutModel",
            "_view_count": null,
            "_view_module": "@jupyter-widgets/base",
            "_view_module_version": "1.2.0",
            "_view_name": "LayoutView",
            "align_content": null,
            "align_items": null,
            "align_self": null,
            "border": null,
            "bottom": null,
            "display": null,
            "flex": null,
            "flex_flow": null,
            "grid_area": null,
            "grid_auto_columns": null,
            "grid_auto_flow": null,
            "grid_auto_rows": null,
            "grid_column": null,
            "grid_gap": null,
            "grid_row": null,
            "grid_template_areas": null,
            "grid_template_columns": null,
            "grid_template_rows": null,
            "height": null,
            "justify_content": null,
            "justify_items": null,
            "left": null,
            "margin": null,
            "max_height": null,
            "max_width": null,
            "min_height": null,
            "min_width": null,
            "object_fit": null,
            "object_position": null,
            "order": null,
            "overflow": null,
            "overflow_x": null,
            "overflow_y": null,
            "padding": null,
            "right": null,
            "top": null,
            "visibility": null,
            "width": null
          }
        },
        "756bd266046c4b858eaa093efdb4c873": {
          "model_module": "@jupyter-widgets/controls",
          "model_name": "DescriptionStyleModel",
          "model_module_version": "1.5.0",
          "state": {
            "_model_module": "@jupyter-widgets/controls",
            "_model_module_version": "1.5.0",
            "_model_name": "DescriptionStyleModel",
            "_view_count": null,
            "_view_module": "@jupyter-widgets/base",
            "_view_module_version": "1.2.0",
            "_view_name": "StyleView",
            "description_width": ""
          }
        },
        "afe95729e40b450d8dddc9a830464db3": {
          "model_module": "@jupyter-widgets/controls",
          "model_name": "HBoxModel",
          "model_module_version": "1.5.0",
          "state": {
            "_dom_classes": [],
            "_model_module": "@jupyter-widgets/controls",
            "_model_module_version": "1.5.0",
            "_model_name": "HBoxModel",
            "_view_count": null,
            "_view_module": "@jupyter-widgets/controls",
            "_view_module_version": "1.5.0",
            "_view_name": "HBoxView",
            "box_style": "",
            "children": [
              "IPY_MODEL_e9505eb4a1f744ddb7370a19f5cb02a9",
              "IPY_MODEL_3c4b64cc3ca942a79172879b736a37d5",
              "IPY_MODEL_31193f098f264b81b4860051f3172084"
            ],
            "layout": "IPY_MODEL_222af34da1794be09fa7f08442220bda"
          }
        },
        "e9505eb4a1f744ddb7370a19f5cb02a9": {
          "model_module": "@jupyter-widgets/controls",
          "model_name": "HTMLModel",
          "model_module_version": "1.5.0",
          "state": {
            "_dom_classes": [],
            "_model_module": "@jupyter-widgets/controls",
            "_model_module_version": "1.5.0",
            "_model_name": "HTMLModel",
            "_view_count": null,
            "_view_module": "@jupyter-widgets/controls",
            "_view_module_version": "1.5.0",
            "_view_name": "HTMLView",
            "description": "",
            "description_tooltip": null,
            "layout": "IPY_MODEL_f1e3268458ff4e4c9457021a27fa8682",
            "placeholder": "​",
            "style": "IPY_MODEL_c386b82b887f477ba61776edfcac8012",
            "value": "model-00001-of-00002.safetensors: 100%"
          }
        },
        "3c4b64cc3ca942a79172879b736a37d5": {
          "model_module": "@jupyter-widgets/controls",
          "model_name": "FloatProgressModel",
          "model_module_version": "1.5.0",
          "state": {
            "_dom_classes": [],
            "_model_module": "@jupyter-widgets/controls",
            "_model_module_version": "1.5.0",
            "_model_name": "FloatProgressModel",
            "_view_count": null,
            "_view_module": "@jupyter-widgets/controls",
            "_view_module_version": "1.5.0",
            "_view_name": "ProgressView",
            "bar_style": "success",
            "description": "",
            "description_tooltip": null,
            "layout": "IPY_MODEL_e37f41dda63d40aa8879bd6a4e8938c0",
            "max": 9976576152,
            "min": 0,
            "orientation": "horizontal",
            "style": "IPY_MODEL_4a544d8f23cc4367a6dfe1257594e963",
            "value": 9976576152
          }
        },
        "31193f098f264b81b4860051f3172084": {
          "model_module": "@jupyter-widgets/controls",
          "model_name": "HTMLModel",
          "model_module_version": "1.5.0",
          "state": {
            "_dom_classes": [],
            "_model_module": "@jupyter-widgets/controls",
            "_model_module_version": "1.5.0",
            "_model_name": "HTMLModel",
            "_view_count": null,
            "_view_module": "@jupyter-widgets/controls",
            "_view_module_version": "1.5.0",
            "_view_name": "HTMLView",
            "description": "",
            "description_tooltip": null,
            "layout": "IPY_MODEL_a847986998574cf69fc7ec55e2ad1ae4",
            "placeholder": "​",
            "style": "IPY_MODEL_eddec21920ce4aae803a74c5421cab1b",
            "value": " 9.98G/9.98G [01:35&lt;00:00, 139MB/s]"
          }
        },
        "222af34da1794be09fa7f08442220bda": {
          "model_module": "@jupyter-widgets/base",
          "model_name": "LayoutModel",
          "model_module_version": "1.2.0",
          "state": {
            "_model_module": "@jupyter-widgets/base",
            "_model_module_version": "1.2.0",
            "_model_name": "LayoutModel",
            "_view_count": null,
            "_view_module": "@jupyter-widgets/base",
            "_view_module_version": "1.2.0",
            "_view_name": "LayoutView",
            "align_content": null,
            "align_items": null,
            "align_self": null,
            "border": null,
            "bottom": null,
            "display": null,
            "flex": null,
            "flex_flow": null,
            "grid_area": null,
            "grid_auto_columns": null,
            "grid_auto_flow": null,
            "grid_auto_rows": null,
            "grid_column": null,
            "grid_gap": null,
            "grid_row": null,
            "grid_template_areas": null,
            "grid_template_columns": null,
            "grid_template_rows": null,
            "height": null,
            "justify_content": null,
            "justify_items": null,
            "left": null,
            "margin": null,
            "max_height": null,
            "max_width": null,
            "min_height": null,
            "min_width": null,
            "object_fit": null,
            "object_position": null,
            "order": null,
            "overflow": null,
            "overflow_x": null,
            "overflow_y": null,
            "padding": null,
            "right": null,
            "top": null,
            "visibility": null,
            "width": null
          }
        },
        "f1e3268458ff4e4c9457021a27fa8682": {
          "model_module": "@jupyter-widgets/base",
          "model_name": "LayoutModel",
          "model_module_version": "1.2.0",
          "state": {
            "_model_module": "@jupyter-widgets/base",
            "_model_module_version": "1.2.0",
            "_model_name": "LayoutModel",
            "_view_count": null,
            "_view_module": "@jupyter-widgets/base",
            "_view_module_version": "1.2.0",
            "_view_name": "LayoutView",
            "align_content": null,
            "align_items": null,
            "align_self": null,
            "border": null,
            "bottom": null,
            "display": null,
            "flex": null,
            "flex_flow": null,
            "grid_area": null,
            "grid_auto_columns": null,
            "grid_auto_flow": null,
            "grid_auto_rows": null,
            "grid_column": null,
            "grid_gap": null,
            "grid_row": null,
            "grid_template_areas": null,
            "grid_template_columns": null,
            "grid_template_rows": null,
            "height": null,
            "justify_content": null,
            "justify_items": null,
            "left": null,
            "margin": null,
            "max_height": null,
            "max_width": null,
            "min_height": null,
            "min_width": null,
            "object_fit": null,
            "object_position": null,
            "order": null,
            "overflow": null,
            "overflow_x": null,
            "overflow_y": null,
            "padding": null,
            "right": null,
            "top": null,
            "visibility": null,
            "width": null
          }
        },
        "c386b82b887f477ba61776edfcac8012": {
          "model_module": "@jupyter-widgets/controls",
          "model_name": "DescriptionStyleModel",
          "model_module_version": "1.5.0",
          "state": {
            "_model_module": "@jupyter-widgets/controls",
            "_model_module_version": "1.5.0",
            "_model_name": "DescriptionStyleModel",
            "_view_count": null,
            "_view_module": "@jupyter-widgets/base",
            "_view_module_version": "1.2.0",
            "_view_name": "StyleView",
            "description_width": ""
          }
        },
        "e37f41dda63d40aa8879bd6a4e8938c0": {
          "model_module": "@jupyter-widgets/base",
          "model_name": "LayoutModel",
          "model_module_version": "1.2.0",
          "state": {
            "_model_module": "@jupyter-widgets/base",
            "_model_module_version": "1.2.0",
            "_model_name": "LayoutModel",
            "_view_count": null,
            "_view_module": "@jupyter-widgets/base",
            "_view_module_version": "1.2.0",
            "_view_name": "LayoutView",
            "align_content": null,
            "align_items": null,
            "align_self": null,
            "border": null,
            "bottom": null,
            "display": null,
            "flex": null,
            "flex_flow": null,
            "grid_area": null,
            "grid_auto_columns": null,
            "grid_auto_flow": null,
            "grid_auto_rows": null,
            "grid_column": null,
            "grid_gap": null,
            "grid_row": null,
            "grid_template_areas": null,
            "grid_template_columns": null,
            "grid_template_rows": null,
            "height": null,
            "justify_content": null,
            "justify_items": null,
            "left": null,
            "margin": null,
            "max_height": null,
            "max_width": null,
            "min_height": null,
            "min_width": null,
            "object_fit": null,
            "object_position": null,
            "order": null,
            "overflow": null,
            "overflow_x": null,
            "overflow_y": null,
            "padding": null,
            "right": null,
            "top": null,
            "visibility": null,
            "width": null
          }
        },
        "4a544d8f23cc4367a6dfe1257594e963": {
          "model_module": "@jupyter-widgets/controls",
          "model_name": "ProgressStyleModel",
          "model_module_version": "1.5.0",
          "state": {
            "_model_module": "@jupyter-widgets/controls",
            "_model_module_version": "1.5.0",
            "_model_name": "ProgressStyleModel",
            "_view_count": null,
            "_view_module": "@jupyter-widgets/base",
            "_view_module_version": "1.2.0",
            "_view_name": "StyleView",
            "bar_color": null,
            "description_width": ""
          }
        },
        "a847986998574cf69fc7ec55e2ad1ae4": {
          "model_module": "@jupyter-widgets/base",
          "model_name": "LayoutModel",
          "model_module_version": "1.2.0",
          "state": {
            "_model_module": "@jupyter-widgets/base",
            "_model_module_version": "1.2.0",
            "_model_name": "LayoutModel",
            "_view_count": null,
            "_view_module": "@jupyter-widgets/base",
            "_view_module_version": "1.2.0",
            "_view_name": "LayoutView",
            "align_content": null,
            "align_items": null,
            "align_self": null,
            "border": null,
            "bottom": null,
            "display": null,
            "flex": null,
            "flex_flow": null,
            "grid_area": null,
            "grid_auto_columns": null,
            "grid_auto_flow": null,
            "grid_auto_rows": null,
            "grid_column": null,
            "grid_gap": null,
            "grid_row": null,
            "grid_template_areas": null,
            "grid_template_columns": null,
            "grid_template_rows": null,
            "height": null,
            "justify_content": null,
            "justify_items": null,
            "left": null,
            "margin": null,
            "max_height": null,
            "max_width": null,
            "min_height": null,
            "min_width": null,
            "object_fit": null,
            "object_position": null,
            "order": null,
            "overflow": null,
            "overflow_x": null,
            "overflow_y": null,
            "padding": null,
            "right": null,
            "top": null,
            "visibility": null,
            "width": null
          }
        },
        "eddec21920ce4aae803a74c5421cab1b": {
          "model_module": "@jupyter-widgets/controls",
          "model_name": "DescriptionStyleModel",
          "model_module_version": "1.5.0",
          "state": {
            "_model_module": "@jupyter-widgets/controls",
            "_model_module_version": "1.5.0",
            "_model_name": "DescriptionStyleModel",
            "_view_count": null,
            "_view_module": "@jupyter-widgets/base",
            "_view_module_version": "1.2.0",
            "_view_name": "StyleView",
            "description_width": ""
          }
        },
        "9c7ed2663c09458599c101dadbff48e1": {
          "model_module": "@jupyter-widgets/controls",
          "model_name": "HBoxModel",
          "model_module_version": "1.5.0",
          "state": {
            "_dom_classes": [],
            "_model_module": "@jupyter-widgets/controls",
            "_model_module_version": "1.5.0",
            "_model_name": "HBoxModel",
            "_view_count": null,
            "_view_module": "@jupyter-widgets/controls",
            "_view_module_version": "1.5.0",
            "_view_name": "HBoxView",
            "box_style": "",
            "children": [
              "IPY_MODEL_d948993c28ae4431ab5da6d5428ee224",
              "IPY_MODEL_20fe9c6d8b7f4c5f8a0b9e64d4963eae",
              "IPY_MODEL_7d6ada10ad634e4cb2e9d53a5baebf1c"
            ],
            "layout": "IPY_MODEL_12344d084a064b7483259a27ff695b97"
          }
        },
        "d948993c28ae4431ab5da6d5428ee224": {
          "model_module": "@jupyter-widgets/controls",
          "model_name": "HTMLModel",
          "model_module_version": "1.5.0",
          "state": {
            "_dom_classes": [],
            "_model_module": "@jupyter-widgets/controls",
            "_model_module_version": "1.5.0",
            "_model_name": "HTMLModel",
            "_view_count": null,
            "_view_module": "@jupyter-widgets/controls",
            "_view_module_version": "1.5.0",
            "_view_name": "HTMLView",
            "description": "",
            "description_tooltip": null,
            "layout": "IPY_MODEL_8e772cae9deb4e03ac77838b1be9d260",
            "placeholder": "​",
            "style": "IPY_MODEL_95c09d6aa37f4c0cad07b46299b39e2d",
            "value": "model-00002-of-00002.safetensors: 100%"
          }
        },
        "20fe9c6d8b7f4c5f8a0b9e64d4963eae": {
          "model_module": "@jupyter-widgets/controls",
          "model_name": "FloatProgressModel",
          "model_module_version": "1.5.0",
          "state": {
            "_dom_classes": [],
            "_model_module": "@jupyter-widgets/controls",
            "_model_module_version": "1.5.0",
            "_model_name": "FloatProgressModel",
            "_view_count": null,
            "_view_module": "@jupyter-widgets/controls",
            "_view_module_version": "1.5.0",
            "_view_name": "ProgressView",
            "bar_style": "success",
            "description": "",
            "description_tooltip": null,
            "layout": "IPY_MODEL_3d5612e91a924900a210eecf43327a32",
            "max": 3500296424,
            "min": 0,
            "orientation": "horizontal",
            "style": "IPY_MODEL_1b2a972012a04a8a8184a2fdd8b87a2b",
            "value": 3500296424
          }
        },
        "7d6ada10ad634e4cb2e9d53a5baebf1c": {
          "model_module": "@jupyter-widgets/controls",
          "model_name": "HTMLModel",
          "model_module_version": "1.5.0",
          "state": {
            "_dom_classes": [],
            "_model_module": "@jupyter-widgets/controls",
            "_model_module_version": "1.5.0",
            "_model_name": "HTMLModel",
            "_view_count": null,
            "_view_module": "@jupyter-widgets/controls",
            "_view_module_version": "1.5.0",
            "_view_name": "HTMLView",
            "description": "",
            "description_tooltip": null,
            "layout": "IPY_MODEL_d5897e1d22094dc38e9859060351b423",
            "placeholder": "​",
            "style": "IPY_MODEL_0bd69f99a7be4a1d9ae5e28c193b3d97",
            "value": " 3.50G/3.50G [00:26&lt;00:00, 179MB/s]"
          }
        },
        "12344d084a064b7483259a27ff695b97": {
          "model_module": "@jupyter-widgets/base",
          "model_name": "LayoutModel",
          "model_module_version": "1.2.0",
          "state": {
            "_model_module": "@jupyter-widgets/base",
            "_model_module_version": "1.2.0",
            "_model_name": "LayoutModel",
            "_view_count": null,
            "_view_module": "@jupyter-widgets/base",
            "_view_module_version": "1.2.0",
            "_view_name": "LayoutView",
            "align_content": null,
            "align_items": null,
            "align_self": null,
            "border": null,
            "bottom": null,
            "display": null,
            "flex": null,
            "flex_flow": null,
            "grid_area": null,
            "grid_auto_columns": null,
            "grid_auto_flow": null,
            "grid_auto_rows": null,
            "grid_column": null,
            "grid_gap": null,
            "grid_row": null,
            "grid_template_areas": null,
            "grid_template_columns": null,
            "grid_template_rows": null,
            "height": null,
            "justify_content": null,
            "justify_items": null,
            "left": null,
            "margin": null,
            "max_height": null,
            "max_width": null,
            "min_height": null,
            "min_width": null,
            "object_fit": null,
            "object_position": null,
            "order": null,
            "overflow": null,
            "overflow_x": null,
            "overflow_y": null,
            "padding": null,
            "right": null,
            "top": null,
            "visibility": null,
            "width": null
          }
        },
        "8e772cae9deb4e03ac77838b1be9d260": {
          "model_module": "@jupyter-widgets/base",
          "model_name": "LayoutModel",
          "model_module_version": "1.2.0",
          "state": {
            "_model_module": "@jupyter-widgets/base",
            "_model_module_version": "1.2.0",
            "_model_name": "LayoutModel",
            "_view_count": null,
            "_view_module": "@jupyter-widgets/base",
            "_view_module_version": "1.2.0",
            "_view_name": "LayoutView",
            "align_content": null,
            "align_items": null,
            "align_self": null,
            "border": null,
            "bottom": null,
            "display": null,
            "flex": null,
            "flex_flow": null,
            "grid_area": null,
            "grid_auto_columns": null,
            "grid_auto_flow": null,
            "grid_auto_rows": null,
            "grid_column": null,
            "grid_gap": null,
            "grid_row": null,
            "grid_template_areas": null,
            "grid_template_columns": null,
            "grid_template_rows": null,
            "height": null,
            "justify_content": null,
            "justify_items": null,
            "left": null,
            "margin": null,
            "max_height": null,
            "max_width": null,
            "min_height": null,
            "min_width": null,
            "object_fit": null,
            "object_position": null,
            "order": null,
            "overflow": null,
            "overflow_x": null,
            "overflow_y": null,
            "padding": null,
            "right": null,
            "top": null,
            "visibility": null,
            "width": null
          }
        },
        "95c09d6aa37f4c0cad07b46299b39e2d": {
          "model_module": "@jupyter-widgets/controls",
          "model_name": "DescriptionStyleModel",
          "model_module_version": "1.5.0",
          "state": {
            "_model_module": "@jupyter-widgets/controls",
            "_model_module_version": "1.5.0",
            "_model_name": "DescriptionStyleModel",
            "_view_count": null,
            "_view_module": "@jupyter-widgets/base",
            "_view_module_version": "1.2.0",
            "_view_name": "StyleView",
            "description_width": ""
          }
        },
        "3d5612e91a924900a210eecf43327a32": {
          "model_module": "@jupyter-widgets/base",
          "model_name": "LayoutModel",
          "model_module_version": "1.2.0",
          "state": {
            "_model_module": "@jupyter-widgets/base",
            "_model_module_version": "1.2.0",
            "_model_name": "LayoutModel",
            "_view_count": null,
            "_view_module": "@jupyter-widgets/base",
            "_view_module_version": "1.2.0",
            "_view_name": "LayoutView",
            "align_content": null,
            "align_items": null,
            "align_self": null,
            "border": null,
            "bottom": null,
            "display": null,
            "flex": null,
            "flex_flow": null,
            "grid_area": null,
            "grid_auto_columns": null,
            "grid_auto_flow": null,
            "grid_auto_rows": null,
            "grid_column": null,
            "grid_gap": null,
            "grid_row": null,
            "grid_template_areas": null,
            "grid_template_columns": null,
            "grid_template_rows": null,
            "height": null,
            "justify_content": null,
            "justify_items": null,
            "left": null,
            "margin": null,
            "max_height": null,
            "max_width": null,
            "min_height": null,
            "min_width": null,
            "object_fit": null,
            "object_position": null,
            "order": null,
            "overflow": null,
            "overflow_x": null,
            "overflow_y": null,
            "padding": null,
            "right": null,
            "top": null,
            "visibility": null,
            "width": null
          }
        },
        "1b2a972012a04a8a8184a2fdd8b87a2b": {
          "model_module": "@jupyter-widgets/controls",
          "model_name": "ProgressStyleModel",
          "model_module_version": "1.5.0",
          "state": {
            "_model_module": "@jupyter-widgets/controls",
            "_model_module_version": "1.5.0",
            "_model_name": "ProgressStyleModel",
            "_view_count": null,
            "_view_module": "@jupyter-widgets/base",
            "_view_module_version": "1.2.0",
            "_view_name": "StyleView",
            "bar_color": null,
            "description_width": ""
          }
        },
        "d5897e1d22094dc38e9859060351b423": {
          "model_module": "@jupyter-widgets/base",
          "model_name": "LayoutModel",
          "model_module_version": "1.2.0",
          "state": {
            "_model_module": "@jupyter-widgets/base",
            "_model_module_version": "1.2.0",
            "_model_name": "LayoutModel",
            "_view_count": null,
            "_view_module": "@jupyter-widgets/base",
            "_view_module_version": "1.2.0",
            "_view_name": "LayoutView",
            "align_content": null,
            "align_items": null,
            "align_self": null,
            "border": null,
            "bottom": null,
            "display": null,
            "flex": null,
            "flex_flow": null,
            "grid_area": null,
            "grid_auto_columns": null,
            "grid_auto_flow": null,
            "grid_auto_rows": null,
            "grid_column": null,
            "grid_gap": null,
            "grid_row": null,
            "grid_template_areas": null,
            "grid_template_columns": null,
            "grid_template_rows": null,
            "height": null,
            "justify_content": null,
            "justify_items": null,
            "left": null,
            "margin": null,
            "max_height": null,
            "max_width": null,
            "min_height": null,
            "min_width": null,
            "object_fit": null,
            "object_position": null,
            "order": null,
            "overflow": null,
            "overflow_x": null,
            "overflow_y": null,
            "padding": null,
            "right": null,
            "top": null,
            "visibility": null,
            "width": null
          }
        },
        "0bd69f99a7be4a1d9ae5e28c193b3d97": {
          "model_module": "@jupyter-widgets/controls",
          "model_name": "DescriptionStyleModel",
          "model_module_version": "1.5.0",
          "state": {
            "_model_module": "@jupyter-widgets/controls",
            "_model_module_version": "1.5.0",
            "_model_name": "DescriptionStyleModel",
            "_view_count": null,
            "_view_module": "@jupyter-widgets/base",
            "_view_module_version": "1.2.0",
            "_view_name": "StyleView",
            "description_width": ""
          }
        },
        "024c6d844bf7489eafee00e6f529da1f": {
          "model_module": "@jupyter-widgets/controls",
          "model_name": "HBoxModel",
          "model_module_version": "1.5.0",
          "state": {
            "_dom_classes": [],
            "_model_module": "@jupyter-widgets/controls",
            "_model_module_version": "1.5.0",
            "_model_name": "HBoxModel",
            "_view_count": null,
            "_view_module": "@jupyter-widgets/controls",
            "_view_module_version": "1.5.0",
            "_view_name": "HBoxView",
            "box_style": "",
            "children": [
              "IPY_MODEL_189f1848feb14fe89a297a9dccdd768a",
              "IPY_MODEL_09ee77864359407392723579bfe3544e",
              "IPY_MODEL_cb5f6d711e224dbaa235eba49b3dd53d"
            ],
            "layout": "IPY_MODEL_41478cbd987846b7943162c1fadaed63"
          }
        },
        "189f1848feb14fe89a297a9dccdd768a": {
          "model_module": "@jupyter-widgets/controls",
          "model_name": "HTMLModel",
          "model_module_version": "1.5.0",
          "state": {
            "_dom_classes": [],
            "_model_module": "@jupyter-widgets/controls",
            "_model_module_version": "1.5.0",
            "_model_name": "HTMLModel",
            "_view_count": null,
            "_view_module": "@jupyter-widgets/controls",
            "_view_module_version": "1.5.0",
            "_view_name": "HTMLView",
            "description": "",
            "description_tooltip": null,
            "layout": "IPY_MODEL_e81b106d4c674d8ba6af49c9b427333a",
            "placeholder": "​",
            "style": "IPY_MODEL_f51981ce565f4085bb39954f7383fad1",
            "value": "Loading checkpoint shards: 100%"
          }
        },
        "09ee77864359407392723579bfe3544e": {
          "model_module": "@jupyter-widgets/controls",
          "model_name": "FloatProgressModel",
          "model_module_version": "1.5.0",
          "state": {
            "_dom_classes": [],
            "_model_module": "@jupyter-widgets/controls",
            "_model_module_version": "1.5.0",
            "_model_name": "FloatProgressModel",
            "_view_count": null,
            "_view_module": "@jupyter-widgets/controls",
            "_view_module_version": "1.5.0",
            "_view_name": "ProgressView",
            "bar_style": "success",
            "description": "",
            "description_tooltip": null,
            "layout": "IPY_MODEL_7485da1f00c54bc8bcbf61ad729ce2a9",
            "max": 2,
            "min": 0,
            "orientation": "horizontal",
            "style": "IPY_MODEL_cb9db83e61f34074bbfdc643bbaad8b3",
            "value": 2
          }
        },
        "cb5f6d711e224dbaa235eba49b3dd53d": {
          "model_module": "@jupyter-widgets/controls",
          "model_name": "HTMLModel",
          "model_module_version": "1.5.0",
          "state": {
            "_dom_classes": [],
            "_model_module": "@jupyter-widgets/controls",
            "_model_module_version": "1.5.0",
            "_model_name": "HTMLModel",
            "_view_count": null,
            "_view_module": "@jupyter-widgets/controls",
            "_view_module_version": "1.5.0",
            "_view_name": "HTMLView",
            "description": "",
            "description_tooltip": null,
            "layout": "IPY_MODEL_1089292520344796a444672481440366",
            "placeholder": "​",
            "style": "IPY_MODEL_c3f2945a590144c28e194a34c5e5a610",
            "value": " 2/2 [00:58&lt;00:00, 26.79s/it]"
          }
        },
        "41478cbd987846b7943162c1fadaed63": {
          "model_module": "@jupyter-widgets/base",
          "model_name": "LayoutModel",
          "model_module_version": "1.2.0",
          "state": {
            "_model_module": "@jupyter-widgets/base",
            "_model_module_version": "1.2.0",
            "_model_name": "LayoutModel",
            "_view_count": null,
            "_view_module": "@jupyter-widgets/base",
            "_view_module_version": "1.2.0",
            "_view_name": "LayoutView",
            "align_content": null,
            "align_items": null,
            "align_self": null,
            "border": null,
            "bottom": null,
            "display": null,
            "flex": null,
            "flex_flow": null,
            "grid_area": null,
            "grid_auto_columns": null,
            "grid_auto_flow": null,
            "grid_auto_rows": null,
            "grid_column": null,
            "grid_gap": null,
            "grid_row": null,
            "grid_template_areas": null,
            "grid_template_columns": null,
            "grid_template_rows": null,
            "height": null,
            "justify_content": null,
            "justify_items": null,
            "left": null,
            "margin": null,
            "max_height": null,
            "max_width": null,
            "min_height": null,
            "min_width": null,
            "object_fit": null,
            "object_position": null,
            "order": null,
            "overflow": null,
            "overflow_x": null,
            "overflow_y": null,
            "padding": null,
            "right": null,
            "top": null,
            "visibility": null,
            "width": null
          }
        },
        "e81b106d4c674d8ba6af49c9b427333a": {
          "model_module": "@jupyter-widgets/base",
          "model_name": "LayoutModel",
          "model_module_version": "1.2.0",
          "state": {
            "_model_module": "@jupyter-widgets/base",
            "_model_module_version": "1.2.0",
            "_model_name": "LayoutModel",
            "_view_count": null,
            "_view_module": "@jupyter-widgets/base",
            "_view_module_version": "1.2.0",
            "_view_name": "LayoutView",
            "align_content": null,
            "align_items": null,
            "align_self": null,
            "border": null,
            "bottom": null,
            "display": null,
            "flex": null,
            "flex_flow": null,
            "grid_area": null,
            "grid_auto_columns": null,
            "grid_auto_flow": null,
            "grid_auto_rows": null,
            "grid_column": null,
            "grid_gap": null,
            "grid_row": null,
            "grid_template_areas": null,
            "grid_template_columns": null,
            "grid_template_rows": null,
            "height": null,
            "justify_content": null,
            "justify_items": null,
            "left": null,
            "margin": null,
            "max_height": null,
            "max_width": null,
            "min_height": null,
            "min_width": null,
            "object_fit": null,
            "object_position": null,
            "order": null,
            "overflow": null,
            "overflow_x": null,
            "overflow_y": null,
            "padding": null,
            "right": null,
            "top": null,
            "visibility": null,
            "width": null
          }
        },
        "f51981ce565f4085bb39954f7383fad1": {
          "model_module": "@jupyter-widgets/controls",
          "model_name": "DescriptionStyleModel",
          "model_module_version": "1.5.0",
          "state": {
            "_model_module": "@jupyter-widgets/controls",
            "_model_module_version": "1.5.0",
            "_model_name": "DescriptionStyleModel",
            "_view_count": null,
            "_view_module": "@jupyter-widgets/base",
            "_view_module_version": "1.2.0",
            "_view_name": "StyleView",
            "description_width": ""
          }
        },
        "7485da1f00c54bc8bcbf61ad729ce2a9": {
          "model_module": "@jupyter-widgets/base",
          "model_name": "LayoutModel",
          "model_module_version": "1.2.0",
          "state": {
            "_model_module": "@jupyter-widgets/base",
            "_model_module_version": "1.2.0",
            "_model_name": "LayoutModel",
            "_view_count": null,
            "_view_module": "@jupyter-widgets/base",
            "_view_module_version": "1.2.0",
            "_view_name": "LayoutView",
            "align_content": null,
            "align_items": null,
            "align_self": null,
            "border": null,
            "bottom": null,
            "display": null,
            "flex": null,
            "flex_flow": null,
            "grid_area": null,
            "grid_auto_columns": null,
            "grid_auto_flow": null,
            "grid_auto_rows": null,
            "grid_column": null,
            "grid_gap": null,
            "grid_row": null,
            "grid_template_areas": null,
            "grid_template_columns": null,
            "grid_template_rows": null,
            "height": null,
            "justify_content": null,
            "justify_items": null,
            "left": null,
            "margin": null,
            "max_height": null,
            "max_width": null,
            "min_height": null,
            "min_width": null,
            "object_fit": null,
            "object_position": null,
            "order": null,
            "overflow": null,
            "overflow_x": null,
            "overflow_y": null,
            "padding": null,
            "right": null,
            "top": null,
            "visibility": null,
            "width": null
          }
        },
        "cb9db83e61f34074bbfdc643bbaad8b3": {
          "model_module": "@jupyter-widgets/controls",
          "model_name": "ProgressStyleModel",
          "model_module_version": "1.5.0",
          "state": {
            "_model_module": "@jupyter-widgets/controls",
            "_model_module_version": "1.5.0",
            "_model_name": "ProgressStyleModel",
            "_view_count": null,
            "_view_module": "@jupyter-widgets/base",
            "_view_module_version": "1.2.0",
            "_view_name": "StyleView",
            "bar_color": null,
            "description_width": ""
          }
        },
        "1089292520344796a444672481440366": {
          "model_module": "@jupyter-widgets/base",
          "model_name": "LayoutModel",
          "model_module_version": "1.2.0",
          "state": {
            "_model_module": "@jupyter-widgets/base",
            "_model_module_version": "1.2.0",
            "_model_name": "LayoutModel",
            "_view_count": null,
            "_view_module": "@jupyter-widgets/base",
            "_view_module_version": "1.2.0",
            "_view_name": "LayoutView",
            "align_content": null,
            "align_items": null,
            "align_self": null,
            "border": null,
            "bottom": null,
            "display": null,
            "flex": null,
            "flex_flow": null,
            "grid_area": null,
            "grid_auto_columns": null,
            "grid_auto_flow": null,
            "grid_auto_rows": null,
            "grid_column": null,
            "grid_gap": null,
            "grid_row": null,
            "grid_template_areas": null,
            "grid_template_columns": null,
            "grid_template_rows": null,
            "height": null,
            "justify_content": null,
            "justify_items": null,
            "left": null,
            "margin": null,
            "max_height": null,
            "max_width": null,
            "min_height": null,
            "min_width": null,
            "object_fit": null,
            "object_position": null,
            "order": null,
            "overflow": null,
            "overflow_x": null,
            "overflow_y": null,
            "padding": null,
            "right": null,
            "top": null,
            "visibility": null,
            "width": null
          }
        },
        "c3f2945a590144c28e194a34c5e5a610": {
          "model_module": "@jupyter-widgets/controls",
          "model_name": "DescriptionStyleModel",
          "model_module_version": "1.5.0",
          "state": {
            "_model_module": "@jupyter-widgets/controls",
            "_model_module_version": "1.5.0",
            "_model_name": "DescriptionStyleModel",
            "_view_count": null,
            "_view_module": "@jupyter-widgets/base",
            "_view_module_version": "1.2.0",
            "_view_name": "StyleView",
            "description_width": ""
          }
        },
        "9df2a5f1256441fcbc1df03036f9d411": {
          "model_module": "@jupyter-widgets/controls",
          "model_name": "HBoxModel",
          "model_module_version": "1.5.0",
          "state": {
            "_dom_classes": [],
            "_model_module": "@jupyter-widgets/controls",
            "_model_module_version": "1.5.0",
            "_model_name": "HBoxModel",
            "_view_count": null,
            "_view_module": "@jupyter-widgets/controls",
            "_view_module_version": "1.5.0",
            "_view_name": "HBoxView",
            "box_style": "",
            "children": [
              "IPY_MODEL_8863d41d6ba64520b07bd784c70fdee1",
              "IPY_MODEL_0cdc04ea9df64a68afe2ec11c25d9ea9",
              "IPY_MODEL_0d456570a7694ae496c3fd86729e571d"
            ],
            "layout": "IPY_MODEL_9bb75bed5cea450c9abb9162ed8d2552"
          }
        },
        "8863d41d6ba64520b07bd784c70fdee1": {
          "model_module": "@jupyter-widgets/controls",
          "model_name": "HTMLModel",
          "model_module_version": "1.5.0",
          "state": {
            "_dom_classes": [],
            "_model_module": "@jupyter-widgets/controls",
            "_model_module_version": "1.5.0",
            "_model_name": "HTMLModel",
            "_view_count": null,
            "_view_module": "@jupyter-widgets/controls",
            "_view_module_version": "1.5.0",
            "_view_name": "HTMLView",
            "description": "",
            "description_tooltip": null,
            "layout": "IPY_MODEL_506093069aae4479a96da8cc896c00de",
            "placeholder": "​",
            "style": "IPY_MODEL_899cf5f028324678a0a4f430b7a3658f",
            "value": "generation_config.json: 100%"
          }
        },
        "0cdc04ea9df64a68afe2ec11c25d9ea9": {
          "model_module": "@jupyter-widgets/controls",
          "model_name": "FloatProgressModel",
          "model_module_version": "1.5.0",
          "state": {
            "_dom_classes": [],
            "_model_module": "@jupyter-widgets/controls",
            "_model_module_version": "1.5.0",
            "_model_name": "FloatProgressModel",
            "_view_count": null,
            "_view_module": "@jupyter-widgets/controls",
            "_view_module_version": "1.5.0",
            "_view_name": "ProgressView",
            "bar_style": "success",
            "description": "",
            "description_tooltip": null,
            "layout": "IPY_MODEL_1c54dd7253d54a698d986f8cab397bbd",
            "max": 179,
            "min": 0,
            "orientation": "horizontal",
            "style": "IPY_MODEL_c09106b4379f47a5ab579e5ea2bde4e1",
            "value": 179
          }
        },
        "0d456570a7694ae496c3fd86729e571d": {
          "model_module": "@jupyter-widgets/controls",
          "model_name": "HTMLModel",
          "model_module_version": "1.5.0",
          "state": {
            "_dom_classes": [],
            "_model_module": "@jupyter-widgets/controls",
            "_model_module_version": "1.5.0",
            "_model_name": "HTMLModel",
            "_view_count": null,
            "_view_module": "@jupyter-widgets/controls",
            "_view_module_version": "1.5.0",
            "_view_name": "HTMLView",
            "description": "",
            "description_tooltip": null,
            "layout": "IPY_MODEL_9ccbdc9ebe9240ba9214b55d51417a6f",
            "placeholder": "​",
            "style": "IPY_MODEL_9cf62a1557154f7caa57e715b5f7f27c",
            "value": " 179/179 [00:00&lt;00:00, 10.2kB/s]"
          }
        },
        "9bb75bed5cea450c9abb9162ed8d2552": {
          "model_module": "@jupyter-widgets/base",
          "model_name": "LayoutModel",
          "model_module_version": "1.2.0",
          "state": {
            "_model_module": "@jupyter-widgets/base",
            "_model_module_version": "1.2.0",
            "_model_name": "LayoutModel",
            "_view_count": null,
            "_view_module": "@jupyter-widgets/base",
            "_view_module_version": "1.2.0",
            "_view_name": "LayoutView",
            "align_content": null,
            "align_items": null,
            "align_self": null,
            "border": null,
            "bottom": null,
            "display": null,
            "flex": null,
            "flex_flow": null,
            "grid_area": null,
            "grid_auto_columns": null,
            "grid_auto_flow": null,
            "grid_auto_rows": null,
            "grid_column": null,
            "grid_gap": null,
            "grid_row": null,
            "grid_template_areas": null,
            "grid_template_columns": null,
            "grid_template_rows": null,
            "height": null,
            "justify_content": null,
            "justify_items": null,
            "left": null,
            "margin": null,
            "max_height": null,
            "max_width": null,
            "min_height": null,
            "min_width": null,
            "object_fit": null,
            "object_position": null,
            "order": null,
            "overflow": null,
            "overflow_x": null,
            "overflow_y": null,
            "padding": null,
            "right": null,
            "top": null,
            "visibility": null,
            "width": null
          }
        },
        "506093069aae4479a96da8cc896c00de": {
          "model_module": "@jupyter-widgets/base",
          "model_name": "LayoutModel",
          "model_module_version": "1.2.0",
          "state": {
            "_model_module": "@jupyter-widgets/base",
            "_model_module_version": "1.2.0",
            "_model_name": "LayoutModel",
            "_view_count": null,
            "_view_module": "@jupyter-widgets/base",
            "_view_module_version": "1.2.0",
            "_view_name": "LayoutView",
            "align_content": null,
            "align_items": null,
            "align_self": null,
            "border": null,
            "bottom": null,
            "display": null,
            "flex": null,
            "flex_flow": null,
            "grid_area": null,
            "grid_auto_columns": null,
            "grid_auto_flow": null,
            "grid_auto_rows": null,
            "grid_column": null,
            "grid_gap": null,
            "grid_row": null,
            "grid_template_areas": null,
            "grid_template_columns": null,
            "grid_template_rows": null,
            "height": null,
            "justify_content": null,
            "justify_items": null,
            "left": null,
            "margin": null,
            "max_height": null,
            "max_width": null,
            "min_height": null,
            "min_width": null,
            "object_fit": null,
            "object_position": null,
            "order": null,
            "overflow": null,
            "overflow_x": null,
            "overflow_y": null,
            "padding": null,
            "right": null,
            "top": null,
            "visibility": null,
            "width": null
          }
        },
        "899cf5f028324678a0a4f430b7a3658f": {
          "model_module": "@jupyter-widgets/controls",
          "model_name": "DescriptionStyleModel",
          "model_module_version": "1.5.0",
          "state": {
            "_model_module": "@jupyter-widgets/controls",
            "_model_module_version": "1.5.0",
            "_model_name": "DescriptionStyleModel",
            "_view_count": null,
            "_view_module": "@jupyter-widgets/base",
            "_view_module_version": "1.2.0",
            "_view_name": "StyleView",
            "description_width": ""
          }
        },
        "1c54dd7253d54a698d986f8cab397bbd": {
          "model_module": "@jupyter-widgets/base",
          "model_name": "LayoutModel",
          "model_module_version": "1.2.0",
          "state": {
            "_model_module": "@jupyter-widgets/base",
            "_model_module_version": "1.2.0",
            "_model_name": "LayoutModel",
            "_view_count": null,
            "_view_module": "@jupyter-widgets/base",
            "_view_module_version": "1.2.0",
            "_view_name": "LayoutView",
            "align_content": null,
            "align_items": null,
            "align_self": null,
            "border": null,
            "bottom": null,
            "display": null,
            "flex": null,
            "flex_flow": null,
            "grid_area": null,
            "grid_auto_columns": null,
            "grid_auto_flow": null,
            "grid_auto_rows": null,
            "grid_column": null,
            "grid_gap": null,
            "grid_row": null,
            "grid_template_areas": null,
            "grid_template_columns": null,
            "grid_template_rows": null,
            "height": null,
            "justify_content": null,
            "justify_items": null,
            "left": null,
            "margin": null,
            "max_height": null,
            "max_width": null,
            "min_height": null,
            "min_width": null,
            "object_fit": null,
            "object_position": null,
            "order": null,
            "overflow": null,
            "overflow_x": null,
            "overflow_y": null,
            "padding": null,
            "right": null,
            "top": null,
            "visibility": null,
            "width": null
          }
        },
        "c09106b4379f47a5ab579e5ea2bde4e1": {
          "model_module": "@jupyter-widgets/controls",
          "model_name": "ProgressStyleModel",
          "model_module_version": "1.5.0",
          "state": {
            "_model_module": "@jupyter-widgets/controls",
            "_model_module_version": "1.5.0",
            "_model_name": "ProgressStyleModel",
            "_view_count": null,
            "_view_module": "@jupyter-widgets/base",
            "_view_module_version": "1.2.0",
            "_view_name": "StyleView",
            "bar_color": null,
            "description_width": ""
          }
        },
        "9ccbdc9ebe9240ba9214b55d51417a6f": {
          "model_module": "@jupyter-widgets/base",
          "model_name": "LayoutModel",
          "model_module_version": "1.2.0",
          "state": {
            "_model_module": "@jupyter-widgets/base",
            "_model_module_version": "1.2.0",
            "_model_name": "LayoutModel",
            "_view_count": null,
            "_view_module": "@jupyter-widgets/base",
            "_view_module_version": "1.2.0",
            "_view_name": "LayoutView",
            "align_content": null,
            "align_items": null,
            "align_self": null,
            "border": null,
            "bottom": null,
            "display": null,
            "flex": null,
            "flex_flow": null,
            "grid_area": null,
            "grid_auto_columns": null,
            "grid_auto_flow": null,
            "grid_auto_rows": null,
            "grid_column": null,
            "grid_gap": null,
            "grid_row": null,
            "grid_template_areas": null,
            "grid_template_columns": null,
            "grid_template_rows": null,
            "height": null,
            "justify_content": null,
            "justify_items": null,
            "left": null,
            "margin": null,
            "max_height": null,
            "max_width": null,
            "min_height": null,
            "min_width": null,
            "object_fit": null,
            "object_position": null,
            "order": null,
            "overflow": null,
            "overflow_x": null,
            "overflow_y": null,
            "padding": null,
            "right": null,
            "top": null,
            "visibility": null,
            "width": null
          }
        },
        "9cf62a1557154f7caa57e715b5f7f27c": {
          "model_module": "@jupyter-widgets/controls",
          "model_name": "DescriptionStyleModel",
          "model_module_version": "1.5.0",
          "state": {
            "_model_module": "@jupyter-widgets/controls",
            "_model_module_version": "1.5.0",
            "_model_name": "DescriptionStyleModel",
            "_view_count": null,
            "_view_module": "@jupyter-widgets/base",
            "_view_module_version": "1.2.0",
            "_view_name": "StyleView",
            "description_width": ""
          }
        },
        "76a554bad0be4945b9ee6a0ad4f800af": {
          "model_module": "@jupyter-widgets/controls",
          "model_name": "HBoxModel",
          "model_module_version": "1.5.0",
          "state": {
            "_dom_classes": [],
            "_model_module": "@jupyter-widgets/controls",
            "_model_module_version": "1.5.0",
            "_model_name": "HBoxModel",
            "_view_count": null,
            "_view_module": "@jupyter-widgets/controls",
            "_view_module_version": "1.5.0",
            "_view_name": "HBoxView",
            "box_style": "",
            "children": [
              "IPY_MODEL_cf3b7d4411634f31afb87149442cb986",
              "IPY_MODEL_9774e91e077c4174afe84d867a7e2f43",
              "IPY_MODEL_83dc204cdf3741a1a5283a17675de282"
            ],
            "layout": "IPY_MODEL_ee93de43a44f435582e50d1083920af3"
          }
        },
        "cf3b7d4411634f31afb87149442cb986": {
          "model_module": "@jupyter-widgets/controls",
          "model_name": "HTMLModel",
          "model_module_version": "1.5.0",
          "state": {
            "_dom_classes": [],
            "_model_module": "@jupyter-widgets/controls",
            "_model_module_version": "1.5.0",
            "_model_name": "HTMLModel",
            "_view_count": null,
            "_view_module": "@jupyter-widgets/controls",
            "_view_module_version": "1.5.0",
            "_view_name": "HTMLView",
            "description": "",
            "description_tooltip": null,
            "layout": "IPY_MODEL_47a05ef79d3543deb3cb9e4542ac7fed",
            "placeholder": "​",
            "style": "IPY_MODEL_a2ac0139fa7a4c58ac895367ae2babce",
            "value": "tokenizer_config.json: 100%"
          }
        },
        "9774e91e077c4174afe84d867a7e2f43": {
          "model_module": "@jupyter-widgets/controls",
          "model_name": "FloatProgressModel",
          "model_module_version": "1.5.0",
          "state": {
            "_dom_classes": [],
            "_model_module": "@jupyter-widgets/controls",
            "_model_module_version": "1.5.0",
            "_model_name": "FloatProgressModel",
            "_view_count": null,
            "_view_module": "@jupyter-widgets/controls",
            "_view_module_version": "1.5.0",
            "_view_name": "ProgressView",
            "bar_style": "success",
            "description": "",
            "description_tooltip": null,
            "layout": "IPY_MODEL_8ccaab505e45419c9bb8c47522c7eb5f",
            "max": 746,
            "min": 0,
            "orientation": "horizontal",
            "style": "IPY_MODEL_52e8ab59735449b69ddced07216bdafa",
            "value": 746
          }
        },
        "83dc204cdf3741a1a5283a17675de282": {
          "model_module": "@jupyter-widgets/controls",
          "model_name": "HTMLModel",
          "model_module_version": "1.5.0",
          "state": {
            "_dom_classes": [],
            "_model_module": "@jupyter-widgets/controls",
            "_model_module_version": "1.5.0",
            "_model_name": "HTMLModel",
            "_view_count": null,
            "_view_module": "@jupyter-widgets/controls",
            "_view_module_version": "1.5.0",
            "_view_name": "HTMLView",
            "description": "",
            "description_tooltip": null,
            "layout": "IPY_MODEL_a81c6beb4cb8475eb6ebfb8ed8dba386",
            "placeholder": "​",
            "style": "IPY_MODEL_84cc6b1353b94c69af849cfe95cd1822",
            "value": " 746/746 [00:00&lt;00:00, 51.1kB/s]"
          }
        },
        "ee93de43a44f435582e50d1083920af3": {
          "model_module": "@jupyter-widgets/base",
          "model_name": "LayoutModel",
          "model_module_version": "1.2.0",
          "state": {
            "_model_module": "@jupyter-widgets/base",
            "_model_module_version": "1.2.0",
            "_model_name": "LayoutModel",
            "_view_count": null,
            "_view_module": "@jupyter-widgets/base",
            "_view_module_version": "1.2.0",
            "_view_name": "LayoutView",
            "align_content": null,
            "align_items": null,
            "align_self": null,
            "border": null,
            "bottom": null,
            "display": null,
            "flex": null,
            "flex_flow": null,
            "grid_area": null,
            "grid_auto_columns": null,
            "grid_auto_flow": null,
            "grid_auto_rows": null,
            "grid_column": null,
            "grid_gap": null,
            "grid_row": null,
            "grid_template_areas": null,
            "grid_template_columns": null,
            "grid_template_rows": null,
            "height": null,
            "justify_content": null,
            "justify_items": null,
            "left": null,
            "margin": null,
            "max_height": null,
            "max_width": null,
            "min_height": null,
            "min_width": null,
            "object_fit": null,
            "object_position": null,
            "order": null,
            "overflow": null,
            "overflow_x": null,
            "overflow_y": null,
            "padding": null,
            "right": null,
            "top": null,
            "visibility": null,
            "width": null
          }
        },
        "47a05ef79d3543deb3cb9e4542ac7fed": {
          "model_module": "@jupyter-widgets/base",
          "model_name": "LayoutModel",
          "model_module_version": "1.2.0",
          "state": {
            "_model_module": "@jupyter-widgets/base",
            "_model_module_version": "1.2.0",
            "_model_name": "LayoutModel",
            "_view_count": null,
            "_view_module": "@jupyter-widgets/base",
            "_view_module_version": "1.2.0",
            "_view_name": "LayoutView",
            "align_content": null,
            "align_items": null,
            "align_self": null,
            "border": null,
            "bottom": null,
            "display": null,
            "flex": null,
            "flex_flow": null,
            "grid_area": null,
            "grid_auto_columns": null,
            "grid_auto_flow": null,
            "grid_auto_rows": null,
            "grid_column": null,
            "grid_gap": null,
            "grid_row": null,
            "grid_template_areas": null,
            "grid_template_columns": null,
            "grid_template_rows": null,
            "height": null,
            "justify_content": null,
            "justify_items": null,
            "left": null,
            "margin": null,
            "max_height": null,
            "max_width": null,
            "min_height": null,
            "min_width": null,
            "object_fit": null,
            "object_position": null,
            "order": null,
            "overflow": null,
            "overflow_x": null,
            "overflow_y": null,
            "padding": null,
            "right": null,
            "top": null,
            "visibility": null,
            "width": null
          }
        },
        "a2ac0139fa7a4c58ac895367ae2babce": {
          "model_module": "@jupyter-widgets/controls",
          "model_name": "DescriptionStyleModel",
          "model_module_version": "1.5.0",
          "state": {
            "_model_module": "@jupyter-widgets/controls",
            "_model_module_version": "1.5.0",
            "_model_name": "DescriptionStyleModel",
            "_view_count": null,
            "_view_module": "@jupyter-widgets/base",
            "_view_module_version": "1.2.0",
            "_view_name": "StyleView",
            "description_width": ""
          }
        },
        "8ccaab505e45419c9bb8c47522c7eb5f": {
          "model_module": "@jupyter-widgets/base",
          "model_name": "LayoutModel",
          "model_module_version": "1.2.0",
          "state": {
            "_model_module": "@jupyter-widgets/base",
            "_model_module_version": "1.2.0",
            "_model_name": "LayoutModel",
            "_view_count": null,
            "_view_module": "@jupyter-widgets/base",
            "_view_module_version": "1.2.0",
            "_view_name": "LayoutView",
            "align_content": null,
            "align_items": null,
            "align_self": null,
            "border": null,
            "bottom": null,
            "display": null,
            "flex": null,
            "flex_flow": null,
            "grid_area": null,
            "grid_auto_columns": null,
            "grid_auto_flow": null,
            "grid_auto_rows": null,
            "grid_column": null,
            "grid_gap": null,
            "grid_row": null,
            "grid_template_areas": null,
            "grid_template_columns": null,
            "grid_template_rows": null,
            "height": null,
            "justify_content": null,
            "justify_items": null,
            "left": null,
            "margin": null,
            "max_height": null,
            "max_width": null,
            "min_height": null,
            "min_width": null,
            "object_fit": null,
            "object_position": null,
            "order": null,
            "overflow": null,
            "overflow_x": null,
            "overflow_y": null,
            "padding": null,
            "right": null,
            "top": null,
            "visibility": null,
            "width": null
          }
        },
        "52e8ab59735449b69ddced07216bdafa": {
          "model_module": "@jupyter-widgets/controls",
          "model_name": "ProgressStyleModel",
          "model_module_version": "1.5.0",
          "state": {
            "_model_module": "@jupyter-widgets/controls",
            "_model_module_version": "1.5.0",
            "_model_name": "ProgressStyleModel",
            "_view_count": null,
            "_view_module": "@jupyter-widgets/base",
            "_view_module_version": "1.2.0",
            "_view_name": "StyleView",
            "bar_color": null,
            "description_width": ""
          }
        },
        "a81c6beb4cb8475eb6ebfb8ed8dba386": {
          "model_module": "@jupyter-widgets/base",
          "model_name": "LayoutModel",
          "model_module_version": "1.2.0",
          "state": {
            "_model_module": "@jupyter-widgets/base",
            "_model_module_version": "1.2.0",
            "_model_name": "LayoutModel",
            "_view_count": null,
            "_view_module": "@jupyter-widgets/base",
            "_view_module_version": "1.2.0",
            "_view_name": "LayoutView",
            "align_content": null,
            "align_items": null,
            "align_self": null,
            "border": null,
            "bottom": null,
            "display": null,
            "flex": null,
            "flex_flow": null,
            "grid_area": null,
            "grid_auto_columns": null,
            "grid_auto_flow": null,
            "grid_auto_rows": null,
            "grid_column": null,
            "grid_gap": null,
            "grid_row": null,
            "grid_template_areas": null,
            "grid_template_columns": null,
            "grid_template_rows": null,
            "height": null,
            "justify_content": null,
            "justify_items": null,
            "left": null,
            "margin": null,
            "max_height": null,
            "max_width": null,
            "min_height": null,
            "min_width": null,
            "object_fit": null,
            "object_position": null,
            "order": null,
            "overflow": null,
            "overflow_x": null,
            "overflow_y": null,
            "padding": null,
            "right": null,
            "top": null,
            "visibility": null,
            "width": null
          }
        },
        "84cc6b1353b94c69af849cfe95cd1822": {
          "model_module": "@jupyter-widgets/controls",
          "model_name": "DescriptionStyleModel",
          "model_module_version": "1.5.0",
          "state": {
            "_model_module": "@jupyter-widgets/controls",
            "_model_module_version": "1.5.0",
            "_model_name": "DescriptionStyleModel",
            "_view_count": null,
            "_view_module": "@jupyter-widgets/base",
            "_view_module_version": "1.2.0",
            "_view_name": "StyleView",
            "description_width": ""
          }
        },
        "025a2f37af504439aa4109b13ea16f0b": {
          "model_module": "@jupyter-widgets/controls",
          "model_name": "HBoxModel",
          "model_module_version": "1.5.0",
          "state": {
            "_dom_classes": [],
            "_model_module": "@jupyter-widgets/controls",
            "_model_module_version": "1.5.0",
            "_model_name": "HBoxModel",
            "_view_count": null,
            "_view_module": "@jupyter-widgets/controls",
            "_view_module_version": "1.5.0",
            "_view_name": "HBoxView",
            "box_style": "",
            "children": [
              "IPY_MODEL_926469c66d1c4236ba303e1fcb4cfe59",
              "IPY_MODEL_5522a6a0b1354e138e37788a7d3d8ec7",
              "IPY_MODEL_072e61558d974d309ae04dcc773f1489"
            ],
            "layout": "IPY_MODEL_eb8e1c7ec79b46fba320694358391ff7"
          }
        },
        "926469c66d1c4236ba303e1fcb4cfe59": {
          "model_module": "@jupyter-widgets/controls",
          "model_name": "HTMLModel",
          "model_module_version": "1.5.0",
          "state": {
            "_dom_classes": [],
            "_model_module": "@jupyter-widgets/controls",
            "_model_module_version": "1.5.0",
            "_model_name": "HTMLModel",
            "_view_count": null,
            "_view_module": "@jupyter-widgets/controls",
            "_view_module_version": "1.5.0",
            "_view_name": "HTMLView",
            "description": "",
            "description_tooltip": null,
            "layout": "IPY_MODEL_8a4abe91364e43dd8c4e169ffd766bf6",
            "placeholder": "​",
            "style": "IPY_MODEL_ca9e467f0014438a97e805f83bbceab2",
            "value": "tokenizer.model: 100%"
          }
        },
        "5522a6a0b1354e138e37788a7d3d8ec7": {
          "model_module": "@jupyter-widgets/controls",
          "model_name": "FloatProgressModel",
          "model_module_version": "1.5.0",
          "state": {
            "_dom_classes": [],
            "_model_module": "@jupyter-widgets/controls",
            "_model_module_version": "1.5.0",
            "_model_name": "FloatProgressModel",
            "_view_count": null,
            "_view_module": "@jupyter-widgets/controls",
            "_view_module_version": "1.5.0",
            "_view_name": "ProgressView",
            "bar_style": "success",
            "description": "",
            "description_tooltip": null,
            "layout": "IPY_MODEL_240d9e35999c4f8a83009588d5363384",
            "max": 499723,
            "min": 0,
            "orientation": "horizontal",
            "style": "IPY_MODEL_bdca2139e87c4e05bac4815675ddcbd9",
            "value": 499723
          }
        },
        "072e61558d974d309ae04dcc773f1489": {
          "model_module": "@jupyter-widgets/controls",
          "model_name": "HTMLModel",
          "model_module_version": "1.5.0",
          "state": {
            "_dom_classes": [],
            "_model_module": "@jupyter-widgets/controls",
            "_model_module_version": "1.5.0",
            "_model_name": "HTMLModel",
            "_view_count": null,
            "_view_module": "@jupyter-widgets/controls",
            "_view_module_version": "1.5.0",
            "_view_name": "HTMLView",
            "description": "",
            "description_tooltip": null,
            "layout": "IPY_MODEL_edf9c402f9fd4f7597995eaf7edf7f0d",
            "placeholder": "​",
            "style": "IPY_MODEL_e9167bec2ca049c4a6862a6c45f15f39",
            "value": " 500k/500k [00:00&lt;00:00, 31.2MB/s]"
          }
        },
        "eb8e1c7ec79b46fba320694358391ff7": {
          "model_module": "@jupyter-widgets/base",
          "model_name": "LayoutModel",
          "model_module_version": "1.2.0",
          "state": {
            "_model_module": "@jupyter-widgets/base",
            "_model_module_version": "1.2.0",
            "_model_name": "LayoutModel",
            "_view_count": null,
            "_view_module": "@jupyter-widgets/base",
            "_view_module_version": "1.2.0",
            "_view_name": "LayoutView",
            "align_content": null,
            "align_items": null,
            "align_self": null,
            "border": null,
            "bottom": null,
            "display": null,
            "flex": null,
            "flex_flow": null,
            "grid_area": null,
            "grid_auto_columns": null,
            "grid_auto_flow": null,
            "grid_auto_rows": null,
            "grid_column": null,
            "grid_gap": null,
            "grid_row": null,
            "grid_template_areas": null,
            "grid_template_columns": null,
            "grid_template_rows": null,
            "height": null,
            "justify_content": null,
            "justify_items": null,
            "left": null,
            "margin": null,
            "max_height": null,
            "max_width": null,
            "min_height": null,
            "min_width": null,
            "object_fit": null,
            "object_position": null,
            "order": null,
            "overflow": null,
            "overflow_x": null,
            "overflow_y": null,
            "padding": null,
            "right": null,
            "top": null,
            "visibility": null,
            "width": null
          }
        },
        "8a4abe91364e43dd8c4e169ffd766bf6": {
          "model_module": "@jupyter-widgets/base",
          "model_name": "LayoutModel",
          "model_module_version": "1.2.0",
          "state": {
            "_model_module": "@jupyter-widgets/base",
            "_model_module_version": "1.2.0",
            "_model_name": "LayoutModel",
            "_view_count": null,
            "_view_module": "@jupyter-widgets/base",
            "_view_module_version": "1.2.0",
            "_view_name": "LayoutView",
            "align_content": null,
            "align_items": null,
            "align_self": null,
            "border": null,
            "bottom": null,
            "display": null,
            "flex": null,
            "flex_flow": null,
            "grid_area": null,
            "grid_auto_columns": null,
            "grid_auto_flow": null,
            "grid_auto_rows": null,
            "grid_column": null,
            "grid_gap": null,
            "grid_row": null,
            "grid_template_areas": null,
            "grid_template_columns": null,
            "grid_template_rows": null,
            "height": null,
            "justify_content": null,
            "justify_items": null,
            "left": null,
            "margin": null,
            "max_height": null,
            "max_width": null,
            "min_height": null,
            "min_width": null,
            "object_fit": null,
            "object_position": null,
            "order": null,
            "overflow": null,
            "overflow_x": null,
            "overflow_y": null,
            "padding": null,
            "right": null,
            "top": null,
            "visibility": null,
            "width": null
          }
        },
        "ca9e467f0014438a97e805f83bbceab2": {
          "model_module": "@jupyter-widgets/controls",
          "model_name": "DescriptionStyleModel",
          "model_module_version": "1.5.0",
          "state": {
            "_model_module": "@jupyter-widgets/controls",
            "_model_module_version": "1.5.0",
            "_model_name": "DescriptionStyleModel",
            "_view_count": null,
            "_view_module": "@jupyter-widgets/base",
            "_view_module_version": "1.2.0",
            "_view_name": "StyleView",
            "description_width": ""
          }
        },
        "240d9e35999c4f8a83009588d5363384": {
          "model_module": "@jupyter-widgets/base",
          "model_name": "LayoutModel",
          "model_module_version": "1.2.0",
          "state": {
            "_model_module": "@jupyter-widgets/base",
            "_model_module_version": "1.2.0",
            "_model_name": "LayoutModel",
            "_view_count": null,
            "_view_module": "@jupyter-widgets/base",
            "_view_module_version": "1.2.0",
            "_view_name": "LayoutView",
            "align_content": null,
            "align_items": null,
            "align_self": null,
            "border": null,
            "bottom": null,
            "display": null,
            "flex": null,
            "flex_flow": null,
            "grid_area": null,
            "grid_auto_columns": null,
            "grid_auto_flow": null,
            "grid_auto_rows": null,
            "grid_column": null,
            "grid_gap": null,
            "grid_row": null,
            "grid_template_areas": null,
            "grid_template_columns": null,
            "grid_template_rows": null,
            "height": null,
            "justify_content": null,
            "justify_items": null,
            "left": null,
            "margin": null,
            "max_height": null,
            "max_width": null,
            "min_height": null,
            "min_width": null,
            "object_fit": null,
            "object_position": null,
            "order": null,
            "overflow": null,
            "overflow_x": null,
            "overflow_y": null,
            "padding": null,
            "right": null,
            "top": null,
            "visibility": null,
            "width": null
          }
        },
        "bdca2139e87c4e05bac4815675ddcbd9": {
          "model_module": "@jupyter-widgets/controls",
          "model_name": "ProgressStyleModel",
          "model_module_version": "1.5.0",
          "state": {
            "_model_module": "@jupyter-widgets/controls",
            "_model_module_version": "1.5.0",
            "_model_name": "ProgressStyleModel",
            "_view_count": null,
            "_view_module": "@jupyter-widgets/base",
            "_view_module_version": "1.2.0",
            "_view_name": "StyleView",
            "bar_color": null,
            "description_width": ""
          }
        },
        "edf9c402f9fd4f7597995eaf7edf7f0d": {
          "model_module": "@jupyter-widgets/base",
          "model_name": "LayoutModel",
          "model_module_version": "1.2.0",
          "state": {
            "_model_module": "@jupyter-widgets/base",
            "_model_module_version": "1.2.0",
            "_model_name": "LayoutModel",
            "_view_count": null,
            "_view_module": "@jupyter-widgets/base",
            "_view_module_version": "1.2.0",
            "_view_name": "LayoutView",
            "align_content": null,
            "align_items": null,
            "align_self": null,
            "border": null,
            "bottom": null,
            "display": null,
            "flex": null,
            "flex_flow": null,
            "grid_area": null,
            "grid_auto_columns": null,
            "grid_auto_flow": null,
            "grid_auto_rows": null,
            "grid_column": null,
            "grid_gap": null,
            "grid_row": null,
            "grid_template_areas": null,
            "grid_template_columns": null,
            "grid_template_rows": null,
            "height": null,
            "justify_content": null,
            "justify_items": null,
            "left": null,
            "margin": null,
            "max_height": null,
            "max_width": null,
            "min_height": null,
            "min_width": null,
            "object_fit": null,
            "object_position": null,
            "order": null,
            "overflow": null,
            "overflow_x": null,
            "overflow_y": null,
            "padding": null,
            "right": null,
            "top": null,
            "visibility": null,
            "width": null
          }
        },
        "e9167bec2ca049c4a6862a6c45f15f39": {
          "model_module": "@jupyter-widgets/controls",
          "model_name": "DescriptionStyleModel",
          "model_module_version": "1.5.0",
          "state": {
            "_model_module": "@jupyter-widgets/controls",
            "_model_module_version": "1.5.0",
            "_model_name": "DescriptionStyleModel",
            "_view_count": null,
            "_view_module": "@jupyter-widgets/base",
            "_view_module_version": "1.2.0",
            "_view_name": "StyleView",
            "description_width": ""
          }
        },
        "6e62c95ca3c74c1e901c915075f508ae": {
          "model_module": "@jupyter-widgets/controls",
          "model_name": "HBoxModel",
          "model_module_version": "1.5.0",
          "state": {
            "_dom_classes": [],
            "_model_module": "@jupyter-widgets/controls",
            "_model_module_version": "1.5.0",
            "_model_name": "HBoxModel",
            "_view_count": null,
            "_view_module": "@jupyter-widgets/controls",
            "_view_module_version": "1.5.0",
            "_view_name": "HBoxView",
            "box_style": "",
            "children": [
              "IPY_MODEL_efb3df6c26ce42c883ca6aa1407be6f6",
              "IPY_MODEL_3a82677ba0a4447abf7ad4dbbacdafc4",
              "IPY_MODEL_4fede565d0a644598e98d96d5470995f"
            ],
            "layout": "IPY_MODEL_3bc4c47712f746f5b6ffdb343d291c58"
          }
        },
        "efb3df6c26ce42c883ca6aa1407be6f6": {
          "model_module": "@jupyter-widgets/controls",
          "model_name": "HTMLModel",
          "model_module_version": "1.5.0",
          "state": {
            "_dom_classes": [],
            "_model_module": "@jupyter-widgets/controls",
            "_model_module_version": "1.5.0",
            "_model_name": "HTMLModel",
            "_view_count": null,
            "_view_module": "@jupyter-widgets/controls",
            "_view_module_version": "1.5.0",
            "_view_name": "HTMLView",
            "description": "",
            "description_tooltip": null,
            "layout": "IPY_MODEL_126f9d4e56bb42eaad4f0cf4aefbfa46",
            "placeholder": "​",
            "style": "IPY_MODEL_fea62dcab8db405ab4b21071dac24f8e",
            "value": "tokenizer.json: 100%"
          }
        },
        "3a82677ba0a4447abf7ad4dbbacdafc4": {
          "model_module": "@jupyter-widgets/controls",
          "model_name": "FloatProgressModel",
          "model_module_version": "1.5.0",
          "state": {
            "_dom_classes": [],
            "_model_module": "@jupyter-widgets/controls",
            "_model_module_version": "1.5.0",
            "_model_name": "FloatProgressModel",
            "_view_count": null,
            "_view_module": "@jupyter-widgets/controls",
            "_view_module_version": "1.5.0",
            "_view_name": "ProgressView",
            "bar_style": "success",
            "description": "",
            "description_tooltip": null,
            "layout": "IPY_MODEL_6659378edeb649219507532cce071153",
            "max": 1842764,
            "min": 0,
            "orientation": "horizontal",
            "style": "IPY_MODEL_1ec9f3f1223942329c2260459c5b0a9e",
            "value": 1842764
          }
        },
        "4fede565d0a644598e98d96d5470995f": {
          "model_module": "@jupyter-widgets/controls",
          "model_name": "HTMLModel",
          "model_module_version": "1.5.0",
          "state": {
            "_dom_classes": [],
            "_model_module": "@jupyter-widgets/controls",
            "_model_module_version": "1.5.0",
            "_model_name": "HTMLModel",
            "_view_count": null,
            "_view_module": "@jupyter-widgets/controls",
            "_view_module_version": "1.5.0",
            "_view_name": "HTMLView",
            "description": "",
            "description_tooltip": null,
            "layout": "IPY_MODEL_787235bcab0a4cc5a21c9b0b63fcbe12",
            "placeholder": "​",
            "style": "IPY_MODEL_8ebe7fbc67754e76b1a009b5a30bb245",
            "value": " 1.84M/1.84M [00:00&lt;00:00, 15.6MB/s]"
          }
        },
        "3bc4c47712f746f5b6ffdb343d291c58": {
          "model_module": "@jupyter-widgets/base",
          "model_name": "LayoutModel",
          "model_module_version": "1.2.0",
          "state": {
            "_model_module": "@jupyter-widgets/base",
            "_model_module_version": "1.2.0",
            "_model_name": "LayoutModel",
            "_view_count": null,
            "_view_module": "@jupyter-widgets/base",
            "_view_module_version": "1.2.0",
            "_view_name": "LayoutView",
            "align_content": null,
            "align_items": null,
            "align_self": null,
            "border": null,
            "bottom": null,
            "display": null,
            "flex": null,
            "flex_flow": null,
            "grid_area": null,
            "grid_auto_columns": null,
            "grid_auto_flow": null,
            "grid_auto_rows": null,
            "grid_column": null,
            "grid_gap": null,
            "grid_row": null,
            "grid_template_areas": null,
            "grid_template_columns": null,
            "grid_template_rows": null,
            "height": null,
            "justify_content": null,
            "justify_items": null,
            "left": null,
            "margin": null,
            "max_height": null,
            "max_width": null,
            "min_height": null,
            "min_width": null,
            "object_fit": null,
            "object_position": null,
            "order": null,
            "overflow": null,
            "overflow_x": null,
            "overflow_y": null,
            "padding": null,
            "right": null,
            "top": null,
            "visibility": null,
            "width": null
          }
        },
        "126f9d4e56bb42eaad4f0cf4aefbfa46": {
          "model_module": "@jupyter-widgets/base",
          "model_name": "LayoutModel",
          "model_module_version": "1.2.0",
          "state": {
            "_model_module": "@jupyter-widgets/base",
            "_model_module_version": "1.2.0",
            "_model_name": "LayoutModel",
            "_view_count": null,
            "_view_module": "@jupyter-widgets/base",
            "_view_module_version": "1.2.0",
            "_view_name": "LayoutView",
            "align_content": null,
            "align_items": null,
            "align_self": null,
            "border": null,
            "bottom": null,
            "display": null,
            "flex": null,
            "flex_flow": null,
            "grid_area": null,
            "grid_auto_columns": null,
            "grid_auto_flow": null,
            "grid_auto_rows": null,
            "grid_column": null,
            "grid_gap": null,
            "grid_row": null,
            "grid_template_areas": null,
            "grid_template_columns": null,
            "grid_template_rows": null,
            "height": null,
            "justify_content": null,
            "justify_items": null,
            "left": null,
            "margin": null,
            "max_height": null,
            "max_width": null,
            "min_height": null,
            "min_width": null,
            "object_fit": null,
            "object_position": null,
            "order": null,
            "overflow": null,
            "overflow_x": null,
            "overflow_y": null,
            "padding": null,
            "right": null,
            "top": null,
            "visibility": null,
            "width": null
          }
        },
        "fea62dcab8db405ab4b21071dac24f8e": {
          "model_module": "@jupyter-widgets/controls",
          "model_name": "DescriptionStyleModel",
          "model_module_version": "1.5.0",
          "state": {
            "_model_module": "@jupyter-widgets/controls",
            "_model_module_version": "1.5.0",
            "_model_name": "DescriptionStyleModel",
            "_view_count": null,
            "_view_module": "@jupyter-widgets/base",
            "_view_module_version": "1.2.0",
            "_view_name": "StyleView",
            "description_width": ""
          }
        },
        "6659378edeb649219507532cce071153": {
          "model_module": "@jupyter-widgets/base",
          "model_name": "LayoutModel",
          "model_module_version": "1.2.0",
          "state": {
            "_model_module": "@jupyter-widgets/base",
            "_model_module_version": "1.2.0",
            "_model_name": "LayoutModel",
            "_view_count": null,
            "_view_module": "@jupyter-widgets/base",
            "_view_module_version": "1.2.0",
            "_view_name": "LayoutView",
            "align_content": null,
            "align_items": null,
            "align_self": null,
            "border": null,
            "bottom": null,
            "display": null,
            "flex": null,
            "flex_flow": null,
            "grid_area": null,
            "grid_auto_columns": null,
            "grid_auto_flow": null,
            "grid_auto_rows": null,
            "grid_column": null,
            "grid_gap": null,
            "grid_row": null,
            "grid_template_areas": null,
            "grid_template_columns": null,
            "grid_template_rows": null,
            "height": null,
            "justify_content": null,
            "justify_items": null,
            "left": null,
            "margin": null,
            "max_height": null,
            "max_width": null,
            "min_height": null,
            "min_width": null,
            "object_fit": null,
            "object_position": null,
            "order": null,
            "overflow": null,
            "overflow_x": null,
            "overflow_y": null,
            "padding": null,
            "right": null,
            "top": null,
            "visibility": null,
            "width": null
          }
        },
        "1ec9f3f1223942329c2260459c5b0a9e": {
          "model_module": "@jupyter-widgets/controls",
          "model_name": "ProgressStyleModel",
          "model_module_version": "1.5.0",
          "state": {
            "_model_module": "@jupyter-widgets/controls",
            "_model_module_version": "1.5.0",
            "_model_name": "ProgressStyleModel",
            "_view_count": null,
            "_view_module": "@jupyter-widgets/base",
            "_view_module_version": "1.2.0",
            "_view_name": "StyleView",
            "bar_color": null,
            "description_width": ""
          }
        },
        "787235bcab0a4cc5a21c9b0b63fcbe12": {
          "model_module": "@jupyter-widgets/base",
          "model_name": "LayoutModel",
          "model_module_version": "1.2.0",
          "state": {
            "_model_module": "@jupyter-widgets/base",
            "_model_module_version": "1.2.0",
            "_model_name": "LayoutModel",
            "_view_count": null,
            "_view_module": "@jupyter-widgets/base",
            "_view_module_version": "1.2.0",
            "_view_name": "LayoutView",
            "align_content": null,
            "align_items": null,
            "align_self": null,
            "border": null,
            "bottom": null,
            "display": null,
            "flex": null,
            "flex_flow": null,
            "grid_area": null,
            "grid_auto_columns": null,
            "grid_auto_flow": null,
            "grid_auto_rows": null,
            "grid_column": null,
            "grid_gap": null,
            "grid_row": null,
            "grid_template_areas": null,
            "grid_template_columns": null,
            "grid_template_rows": null,
            "height": null,
            "justify_content": null,
            "justify_items": null,
            "left": null,
            "margin": null,
            "max_height": null,
            "max_width": null,
            "min_height": null,
            "min_width": null,
            "object_fit": null,
            "object_position": null,
            "order": null,
            "overflow": null,
            "overflow_x": null,
            "overflow_y": null,
            "padding": null,
            "right": null,
            "top": null,
            "visibility": null,
            "width": null
          }
        },
        "8ebe7fbc67754e76b1a009b5a30bb245": {
          "model_module": "@jupyter-widgets/controls",
          "model_name": "DescriptionStyleModel",
          "model_module_version": "1.5.0",
          "state": {
            "_model_module": "@jupyter-widgets/controls",
            "_model_module_version": "1.5.0",
            "_model_name": "DescriptionStyleModel",
            "_view_count": null,
            "_view_module": "@jupyter-widgets/base",
            "_view_module_version": "1.2.0",
            "_view_name": "StyleView",
            "description_width": ""
          }
        },
        "9480c7ca214a4e6c83a41481b1bb7805": {
          "model_module": "@jupyter-widgets/controls",
          "model_name": "HBoxModel",
          "model_module_version": "1.5.0",
          "state": {
            "_dom_classes": [],
            "_model_module": "@jupyter-widgets/controls",
            "_model_module_version": "1.5.0",
            "_model_name": "HBoxModel",
            "_view_count": null,
            "_view_module": "@jupyter-widgets/controls",
            "_view_module_version": "1.5.0",
            "_view_name": "HBoxView",
            "box_style": "",
            "children": [
              "IPY_MODEL_d3926b2f444747ac9e43c9cb11df5e94",
              "IPY_MODEL_f0ef2df1dee6413c98444558314b391c",
              "IPY_MODEL_4363d5b69e2349c0b0dc6bf7cbbb7e59"
            ],
            "layout": "IPY_MODEL_c3c876be47af43dab5dcac49ee6241b5"
          }
        },
        "d3926b2f444747ac9e43c9cb11df5e94": {
          "model_module": "@jupyter-widgets/controls",
          "model_name": "HTMLModel",
          "model_module_version": "1.5.0",
          "state": {
            "_dom_classes": [],
            "_model_module": "@jupyter-widgets/controls",
            "_model_module_version": "1.5.0",
            "_model_name": "HTMLModel",
            "_view_count": null,
            "_view_module": "@jupyter-widgets/controls",
            "_view_module_version": "1.5.0",
            "_view_name": "HTMLView",
            "description": "",
            "description_tooltip": null,
            "layout": "IPY_MODEL_19b69566e9054ef98cee437003e99b9f",
            "placeholder": "​",
            "style": "IPY_MODEL_5d7b2cadaf27401d8b6ef1bed710bae0",
            "value": "added_tokens.json: 100%"
          }
        },
        "f0ef2df1dee6413c98444558314b391c": {
          "model_module": "@jupyter-widgets/controls",
          "model_name": "FloatProgressModel",
          "model_module_version": "1.5.0",
          "state": {
            "_dom_classes": [],
            "_model_module": "@jupyter-widgets/controls",
            "_model_module_version": "1.5.0",
            "_model_name": "FloatProgressModel",
            "_view_count": null,
            "_view_module": "@jupyter-widgets/controls",
            "_view_module_version": "1.5.0",
            "_view_name": "ProgressView",
            "bar_style": "success",
            "description": "",
            "description_tooltip": null,
            "layout": "IPY_MODEL_0fb392f59175468b84298f802fa81c6d",
            "max": 21,
            "min": 0,
            "orientation": "horizontal",
            "style": "IPY_MODEL_60263b727c1843c9ad66707a217efe56",
            "value": 21
          }
        },
        "4363d5b69e2349c0b0dc6bf7cbbb7e59": {
          "model_module": "@jupyter-widgets/controls",
          "model_name": "HTMLModel",
          "model_module_version": "1.5.0",
          "state": {
            "_dom_classes": [],
            "_model_module": "@jupyter-widgets/controls",
            "_model_module_version": "1.5.0",
            "_model_name": "HTMLModel",
            "_view_count": null,
            "_view_module": "@jupyter-widgets/controls",
            "_view_module_version": "1.5.0",
            "_view_name": "HTMLView",
            "description": "",
            "description_tooltip": null,
            "layout": "IPY_MODEL_2e81ae1f846141f0b846e5d8e152a02b",
            "placeholder": "​",
            "style": "IPY_MODEL_02cc63a779c0403393b3e6c815250a76",
            "value": " 21.0/21.0 [00:00&lt;00:00, 1.71kB/s]"
          }
        },
        "c3c876be47af43dab5dcac49ee6241b5": {
          "model_module": "@jupyter-widgets/base",
          "model_name": "LayoutModel",
          "model_module_version": "1.2.0",
          "state": {
            "_model_module": "@jupyter-widgets/base",
            "_model_module_version": "1.2.0",
            "_model_name": "LayoutModel",
            "_view_count": null,
            "_view_module": "@jupyter-widgets/base",
            "_view_module_version": "1.2.0",
            "_view_name": "LayoutView",
            "align_content": null,
            "align_items": null,
            "align_self": null,
            "border": null,
            "bottom": null,
            "display": null,
            "flex": null,
            "flex_flow": null,
            "grid_area": null,
            "grid_auto_columns": null,
            "grid_auto_flow": null,
            "grid_auto_rows": null,
            "grid_column": null,
            "grid_gap": null,
            "grid_row": null,
            "grid_template_areas": null,
            "grid_template_columns": null,
            "grid_template_rows": null,
            "height": null,
            "justify_content": null,
            "justify_items": null,
            "left": null,
            "margin": null,
            "max_height": null,
            "max_width": null,
            "min_height": null,
            "min_width": null,
            "object_fit": null,
            "object_position": null,
            "order": null,
            "overflow": null,
            "overflow_x": null,
            "overflow_y": null,
            "padding": null,
            "right": null,
            "top": null,
            "visibility": null,
            "width": null
          }
        },
        "19b69566e9054ef98cee437003e99b9f": {
          "model_module": "@jupyter-widgets/base",
          "model_name": "LayoutModel",
          "model_module_version": "1.2.0",
          "state": {
            "_model_module": "@jupyter-widgets/base",
            "_model_module_version": "1.2.0",
            "_model_name": "LayoutModel",
            "_view_count": null,
            "_view_module": "@jupyter-widgets/base",
            "_view_module_version": "1.2.0",
            "_view_name": "LayoutView",
            "align_content": null,
            "align_items": null,
            "align_self": null,
            "border": null,
            "bottom": null,
            "display": null,
            "flex": null,
            "flex_flow": null,
            "grid_area": null,
            "grid_auto_columns": null,
            "grid_auto_flow": null,
            "grid_auto_rows": null,
            "grid_column": null,
            "grid_gap": null,
            "grid_row": null,
            "grid_template_areas": null,
            "grid_template_columns": null,
            "grid_template_rows": null,
            "height": null,
            "justify_content": null,
            "justify_items": null,
            "left": null,
            "margin": null,
            "max_height": null,
            "max_width": null,
            "min_height": null,
            "min_width": null,
            "object_fit": null,
            "object_position": null,
            "order": null,
            "overflow": null,
            "overflow_x": null,
            "overflow_y": null,
            "padding": null,
            "right": null,
            "top": null,
            "visibility": null,
            "width": null
          }
        },
        "5d7b2cadaf27401d8b6ef1bed710bae0": {
          "model_module": "@jupyter-widgets/controls",
          "model_name": "DescriptionStyleModel",
          "model_module_version": "1.5.0",
          "state": {
            "_model_module": "@jupyter-widgets/controls",
            "_model_module_version": "1.5.0",
            "_model_name": "DescriptionStyleModel",
            "_view_count": null,
            "_view_module": "@jupyter-widgets/base",
            "_view_module_version": "1.2.0",
            "_view_name": "StyleView",
            "description_width": ""
          }
        },
        "0fb392f59175468b84298f802fa81c6d": {
          "model_module": "@jupyter-widgets/base",
          "model_name": "LayoutModel",
          "model_module_version": "1.2.0",
          "state": {
            "_model_module": "@jupyter-widgets/base",
            "_model_module_version": "1.2.0",
            "_model_name": "LayoutModel",
            "_view_count": null,
            "_view_module": "@jupyter-widgets/base",
            "_view_module_version": "1.2.0",
            "_view_name": "LayoutView",
            "align_content": null,
            "align_items": null,
            "align_self": null,
            "border": null,
            "bottom": null,
            "display": null,
            "flex": null,
            "flex_flow": null,
            "grid_area": null,
            "grid_auto_columns": null,
            "grid_auto_flow": null,
            "grid_auto_rows": null,
            "grid_column": null,
            "grid_gap": null,
            "grid_row": null,
            "grid_template_areas": null,
            "grid_template_columns": null,
            "grid_template_rows": null,
            "height": null,
            "justify_content": null,
            "justify_items": null,
            "left": null,
            "margin": null,
            "max_height": null,
            "max_width": null,
            "min_height": null,
            "min_width": null,
            "object_fit": null,
            "object_position": null,
            "order": null,
            "overflow": null,
            "overflow_x": null,
            "overflow_y": null,
            "padding": null,
            "right": null,
            "top": null,
            "visibility": null,
            "width": null
          }
        },
        "60263b727c1843c9ad66707a217efe56": {
          "model_module": "@jupyter-widgets/controls",
          "model_name": "ProgressStyleModel",
          "model_module_version": "1.5.0",
          "state": {
            "_model_module": "@jupyter-widgets/controls",
            "_model_module_version": "1.5.0",
            "_model_name": "ProgressStyleModel",
            "_view_count": null,
            "_view_module": "@jupyter-widgets/base",
            "_view_module_version": "1.2.0",
            "_view_name": "StyleView",
            "bar_color": null,
            "description_width": ""
          }
        },
        "2e81ae1f846141f0b846e5d8e152a02b": {
          "model_module": "@jupyter-widgets/base",
          "model_name": "LayoutModel",
          "model_module_version": "1.2.0",
          "state": {
            "_model_module": "@jupyter-widgets/base",
            "_model_module_version": "1.2.0",
            "_model_name": "LayoutModel",
            "_view_count": null,
            "_view_module": "@jupyter-widgets/base",
            "_view_module_version": "1.2.0",
            "_view_name": "LayoutView",
            "align_content": null,
            "align_items": null,
            "align_self": null,
            "border": null,
            "bottom": null,
            "display": null,
            "flex": null,
            "flex_flow": null,
            "grid_area": null,
            "grid_auto_columns": null,
            "grid_auto_flow": null,
            "grid_auto_rows": null,
            "grid_column": null,
            "grid_gap": null,
            "grid_row": null,
            "grid_template_areas": null,
            "grid_template_columns": null,
            "grid_template_rows": null,
            "height": null,
            "justify_content": null,
            "justify_items": null,
            "left": null,
            "margin": null,
            "max_height": null,
            "max_width": null,
            "min_height": null,
            "min_width": null,
            "object_fit": null,
            "object_position": null,
            "order": null,
            "overflow": null,
            "overflow_x": null,
            "overflow_y": null,
            "padding": null,
            "right": null,
            "top": null,
            "visibility": null,
            "width": null
          }
        },
        "02cc63a779c0403393b3e6c815250a76": {
          "model_module": "@jupyter-widgets/controls",
          "model_name": "DescriptionStyleModel",
          "model_module_version": "1.5.0",
          "state": {
            "_model_module": "@jupyter-widgets/controls",
            "_model_module_version": "1.5.0",
            "_model_name": "DescriptionStyleModel",
            "_view_count": null,
            "_view_module": "@jupyter-widgets/base",
            "_view_module_version": "1.2.0",
            "_view_name": "StyleView",
            "description_width": ""
          }
        },
        "dcdbf528e8f146c488d091289d99c5d3": {
          "model_module": "@jupyter-widgets/controls",
          "model_name": "HBoxModel",
          "model_module_version": "1.5.0",
          "state": {
            "_dom_classes": [],
            "_model_module": "@jupyter-widgets/controls",
            "_model_module_version": "1.5.0",
            "_model_name": "HBoxModel",
            "_view_count": null,
            "_view_module": "@jupyter-widgets/controls",
            "_view_module_version": "1.5.0",
            "_view_name": "HBoxView",
            "box_style": "",
            "children": [
              "IPY_MODEL_6550199c1ae0401aa6aec50df3b0613f",
              "IPY_MODEL_bf632403f01846ebb26e6a99f36801fa",
              "IPY_MODEL_3e42e3ae5d5447b4b0cc27ed86487bff"
            ],
            "layout": "IPY_MODEL_e95831c11de641ea8204d39d7626d5ae"
          }
        },
        "6550199c1ae0401aa6aec50df3b0613f": {
          "model_module": "@jupyter-widgets/controls",
          "model_name": "HTMLModel",
          "model_module_version": "1.5.0",
          "state": {
            "_dom_classes": [],
            "_model_module": "@jupyter-widgets/controls",
            "_model_module_version": "1.5.0",
            "_model_name": "HTMLModel",
            "_view_count": null,
            "_view_module": "@jupyter-widgets/controls",
            "_view_module_version": "1.5.0",
            "_view_name": "HTMLView",
            "description": "",
            "description_tooltip": null,
            "layout": "IPY_MODEL_7a6557e46d724346978bce19a15dafd7",
            "placeholder": "​",
            "style": "IPY_MODEL_13f1e875e9fc49419daf449ab59c2321",
            "value": "special_tokens_map.json: 100%"
          }
        },
        "bf632403f01846ebb26e6a99f36801fa": {
          "model_module": "@jupyter-widgets/controls",
          "model_name": "FloatProgressModel",
          "model_module_version": "1.5.0",
          "state": {
            "_dom_classes": [],
            "_model_module": "@jupyter-widgets/controls",
            "_model_module_version": "1.5.0",
            "_model_name": "FloatProgressModel",
            "_view_count": null,
            "_view_module": "@jupyter-widgets/controls",
            "_view_module_version": "1.5.0",
            "_view_name": "ProgressView",
            "bar_style": "success",
            "description": "",
            "description_tooltip": null,
            "layout": "IPY_MODEL_d1ad0fa3a6ef482a9bcbaaca4b230990",
            "max": 435,
            "min": 0,
            "orientation": "horizontal",
            "style": "IPY_MODEL_863d63e22d274d95b3eab7dc50b43a9e",
            "value": 435
          }
        },
        "3e42e3ae5d5447b4b0cc27ed86487bff": {
          "model_module": "@jupyter-widgets/controls",
          "model_name": "HTMLModel",
          "model_module_version": "1.5.0",
          "state": {
            "_dom_classes": [],
            "_model_module": "@jupyter-widgets/controls",
            "_model_module_version": "1.5.0",
            "_model_name": "HTMLModel",
            "_view_count": null,
            "_view_module": "@jupyter-widgets/controls",
            "_view_module_version": "1.5.0",
            "_view_name": "HTMLView",
            "description": "",
            "description_tooltip": null,
            "layout": "IPY_MODEL_c36b4cf4d5cf4955b031bdf7f81aaeca",
            "placeholder": "​",
            "style": "IPY_MODEL_48ece0ca0f3f466b8b5cb4c030549c53",
            "value": " 435/435 [00:00&lt;00:00, 34.2kB/s]"
          }
        },
        "e95831c11de641ea8204d39d7626d5ae": {
          "model_module": "@jupyter-widgets/base",
          "model_name": "LayoutModel",
          "model_module_version": "1.2.0",
          "state": {
            "_model_module": "@jupyter-widgets/base",
            "_model_module_version": "1.2.0",
            "_model_name": "LayoutModel",
            "_view_count": null,
            "_view_module": "@jupyter-widgets/base",
            "_view_module_version": "1.2.0",
            "_view_name": "LayoutView",
            "align_content": null,
            "align_items": null,
            "align_self": null,
            "border": null,
            "bottom": null,
            "display": null,
            "flex": null,
            "flex_flow": null,
            "grid_area": null,
            "grid_auto_columns": null,
            "grid_auto_flow": null,
            "grid_auto_rows": null,
            "grid_column": null,
            "grid_gap": null,
            "grid_row": null,
            "grid_template_areas": null,
            "grid_template_columns": null,
            "grid_template_rows": null,
            "height": null,
            "justify_content": null,
            "justify_items": null,
            "left": null,
            "margin": null,
            "max_height": null,
            "max_width": null,
            "min_height": null,
            "min_width": null,
            "object_fit": null,
            "object_position": null,
            "order": null,
            "overflow": null,
            "overflow_x": null,
            "overflow_y": null,
            "padding": null,
            "right": null,
            "top": null,
            "visibility": null,
            "width": null
          }
        },
        "7a6557e46d724346978bce19a15dafd7": {
          "model_module": "@jupyter-widgets/base",
          "model_name": "LayoutModel",
          "model_module_version": "1.2.0",
          "state": {
            "_model_module": "@jupyter-widgets/base",
            "_model_module_version": "1.2.0",
            "_model_name": "LayoutModel",
            "_view_count": null,
            "_view_module": "@jupyter-widgets/base",
            "_view_module_version": "1.2.0",
            "_view_name": "LayoutView",
            "align_content": null,
            "align_items": null,
            "align_self": null,
            "border": null,
            "bottom": null,
            "display": null,
            "flex": null,
            "flex_flow": null,
            "grid_area": null,
            "grid_auto_columns": null,
            "grid_auto_flow": null,
            "grid_auto_rows": null,
            "grid_column": null,
            "grid_gap": null,
            "grid_row": null,
            "grid_template_areas": null,
            "grid_template_columns": null,
            "grid_template_rows": null,
            "height": null,
            "justify_content": null,
            "justify_items": null,
            "left": null,
            "margin": null,
            "max_height": null,
            "max_width": null,
            "min_height": null,
            "min_width": null,
            "object_fit": null,
            "object_position": null,
            "order": null,
            "overflow": null,
            "overflow_x": null,
            "overflow_y": null,
            "padding": null,
            "right": null,
            "top": null,
            "visibility": null,
            "width": null
          }
        },
        "13f1e875e9fc49419daf449ab59c2321": {
          "model_module": "@jupyter-widgets/controls",
          "model_name": "DescriptionStyleModel",
          "model_module_version": "1.5.0",
          "state": {
            "_model_module": "@jupyter-widgets/controls",
            "_model_module_version": "1.5.0",
            "_model_name": "DescriptionStyleModel",
            "_view_count": null,
            "_view_module": "@jupyter-widgets/base",
            "_view_module_version": "1.2.0",
            "_view_name": "StyleView",
            "description_width": ""
          }
        },
        "d1ad0fa3a6ef482a9bcbaaca4b230990": {
          "model_module": "@jupyter-widgets/base",
          "model_name": "LayoutModel",
          "model_module_version": "1.2.0",
          "state": {
            "_model_module": "@jupyter-widgets/base",
            "_model_module_version": "1.2.0",
            "_model_name": "LayoutModel",
            "_view_count": null,
            "_view_module": "@jupyter-widgets/base",
            "_view_module_version": "1.2.0",
            "_view_name": "LayoutView",
            "align_content": null,
            "align_items": null,
            "align_self": null,
            "border": null,
            "bottom": null,
            "display": null,
            "flex": null,
            "flex_flow": null,
            "grid_area": null,
            "grid_auto_columns": null,
            "grid_auto_flow": null,
            "grid_auto_rows": null,
            "grid_column": null,
            "grid_gap": null,
            "grid_row": null,
            "grid_template_areas": null,
            "grid_template_columns": null,
            "grid_template_rows": null,
            "height": null,
            "justify_content": null,
            "justify_items": null,
            "left": null,
            "margin": null,
            "max_height": null,
            "max_width": null,
            "min_height": null,
            "min_width": null,
            "object_fit": null,
            "object_position": null,
            "order": null,
            "overflow": null,
            "overflow_x": null,
            "overflow_y": null,
            "padding": null,
            "right": null,
            "top": null,
            "visibility": null,
            "width": null
          }
        },
        "863d63e22d274d95b3eab7dc50b43a9e": {
          "model_module": "@jupyter-widgets/controls",
          "model_name": "ProgressStyleModel",
          "model_module_version": "1.5.0",
          "state": {
            "_model_module": "@jupyter-widgets/controls",
            "_model_module_version": "1.5.0",
            "_model_name": "ProgressStyleModel",
            "_view_count": null,
            "_view_module": "@jupyter-widgets/base",
            "_view_module_version": "1.2.0",
            "_view_name": "StyleView",
            "bar_color": null,
            "description_width": ""
          }
        },
        "c36b4cf4d5cf4955b031bdf7f81aaeca": {
          "model_module": "@jupyter-widgets/base",
          "model_name": "LayoutModel",
          "model_module_version": "1.2.0",
          "state": {
            "_model_module": "@jupyter-widgets/base",
            "_model_module_version": "1.2.0",
            "_model_name": "LayoutModel",
            "_view_count": null,
            "_view_module": "@jupyter-widgets/base",
            "_view_module_version": "1.2.0",
            "_view_name": "LayoutView",
            "align_content": null,
            "align_items": null,
            "align_self": null,
            "border": null,
            "bottom": null,
            "display": null,
            "flex": null,
            "flex_flow": null,
            "grid_area": null,
            "grid_auto_columns": null,
            "grid_auto_flow": null,
            "grid_auto_rows": null,
            "grid_column": null,
            "grid_gap": null,
            "grid_row": null,
            "grid_template_areas": null,
            "grid_template_columns": null,
            "grid_template_rows": null,
            "height": null,
            "justify_content": null,
            "justify_items": null,
            "left": null,
            "margin": null,
            "max_height": null,
            "max_width": null,
            "min_height": null,
            "min_width": null,
            "object_fit": null,
            "object_position": null,
            "order": null,
            "overflow": null,
            "overflow_x": null,
            "overflow_y": null,
            "padding": null,
            "right": null,
            "top": null,
            "visibility": null,
            "width": null
          }
        },
        "48ece0ca0f3f466b8b5cb4c030549c53": {
          "model_module": "@jupyter-widgets/controls",
          "model_name": "DescriptionStyleModel",
          "model_module_version": "1.5.0",
          "state": {
            "_model_module": "@jupyter-widgets/controls",
            "_model_module_version": "1.5.0",
            "_model_name": "DescriptionStyleModel",
            "_view_count": null,
            "_view_module": "@jupyter-widgets/base",
            "_view_module_version": "1.2.0",
            "_view_name": "StyleView",
            "description_width": ""
          }
        },
        "157133c7bde042e39a21ebc388c6cd37": {
          "model_module": "@jupyter-widgets/controls",
          "model_name": "HBoxModel",
          "model_module_version": "1.5.0",
          "state": {
            "_dom_classes": [],
            "_model_module": "@jupyter-widgets/controls",
            "_model_module_version": "1.5.0",
            "_model_name": "HBoxModel",
            "_view_count": null,
            "_view_module": "@jupyter-widgets/controls",
            "_view_module_version": "1.5.0",
            "_view_name": "HBoxView",
            "box_style": "",
            "children": [
              "IPY_MODEL_dbabe31fb6a2410ab5f92793a015825a",
              "IPY_MODEL_898a057204204c569d2ba473df687925",
              "IPY_MODEL_8bca14aa76914b959369ecab3ab6a3f6"
            ],
            "layout": "IPY_MODEL_7f1921528a7744a8a281aba0c94b4add"
          }
        },
        "dbabe31fb6a2410ab5f92793a015825a": {
          "model_module": "@jupyter-widgets/controls",
          "model_name": "HTMLModel",
          "model_module_version": "1.5.0",
          "state": {
            "_dom_classes": [],
            "_model_module": "@jupyter-widgets/controls",
            "_model_module_version": "1.5.0",
            "_model_name": "HTMLModel",
            "_view_count": null,
            "_view_module": "@jupyter-widgets/controls",
            "_view_module_version": "1.5.0",
            "_view_name": "HTMLView",
            "description": "",
            "description_tooltip": null,
            "layout": "IPY_MODEL_fd409d72aa3045a7a87961e2e30eb865",
            "placeholder": "​",
            "style": "IPY_MODEL_a05d1761c64d455a88b8eb69b395ba40",
            "value": "Generating train split: "
          }
        },
        "898a057204204c569d2ba473df687925": {
          "model_module": "@jupyter-widgets/controls",
          "model_name": "FloatProgressModel",
          "model_module_version": "1.5.0",
          "state": {
            "_dom_classes": [],
            "_model_module": "@jupyter-widgets/controls",
            "_model_module_version": "1.5.0",
            "_model_name": "FloatProgressModel",
            "_view_count": null,
            "_view_module": "@jupyter-widgets/controls",
            "_view_module_version": "1.5.0",
            "_view_name": "ProgressView",
            "bar_style": "success",
            "description": "",
            "description_tooltip": null,
            "layout": "IPY_MODEL_7f6498f78a1c4e70b22af702645d352e",
            "max": 1,
            "min": 0,
            "orientation": "horizontal",
            "style": "IPY_MODEL_d6e50faecb4e4bd0b4c7c95456e4a9a6",
            "value": 1
          }
        },
        "8bca14aa76914b959369ecab3ab6a3f6": {
          "model_module": "@jupyter-widgets/controls",
          "model_name": "HTMLModel",
          "model_module_version": "1.5.0",
          "state": {
            "_dom_classes": [],
            "_model_module": "@jupyter-widgets/controls",
            "_model_module_version": "1.5.0",
            "_model_name": "HTMLModel",
            "_view_count": null,
            "_view_module": "@jupyter-widgets/controls",
            "_view_module_version": "1.5.0",
            "_view_name": "HTMLView",
            "description": "",
            "description_tooltip": null,
            "layout": "IPY_MODEL_8fd6e7b5b0b14a4aba75299a2db23755",
            "placeholder": "​",
            "style": "IPY_MODEL_4efbb062a7bd43f6bd783b1a93e9659e",
            "value": " 1073/0 [00:03&lt;00:00, 422.73 examples/s]"
          }
        },
        "7f1921528a7744a8a281aba0c94b4add": {
          "model_module": "@jupyter-widgets/base",
          "model_name": "LayoutModel",
          "model_module_version": "1.2.0",
          "state": {
            "_model_module": "@jupyter-widgets/base",
            "_model_module_version": "1.2.0",
            "_model_name": "LayoutModel",
            "_view_count": null,
            "_view_module": "@jupyter-widgets/base",
            "_view_module_version": "1.2.0",
            "_view_name": "LayoutView",
            "align_content": null,
            "align_items": null,
            "align_self": null,
            "border": null,
            "bottom": null,
            "display": null,
            "flex": null,
            "flex_flow": null,
            "grid_area": null,
            "grid_auto_columns": null,
            "grid_auto_flow": null,
            "grid_auto_rows": null,
            "grid_column": null,
            "grid_gap": null,
            "grid_row": null,
            "grid_template_areas": null,
            "grid_template_columns": null,
            "grid_template_rows": null,
            "height": null,
            "justify_content": null,
            "justify_items": null,
            "left": null,
            "margin": null,
            "max_height": null,
            "max_width": null,
            "min_height": null,
            "min_width": null,
            "object_fit": null,
            "object_position": null,
            "order": null,
            "overflow": null,
            "overflow_x": null,
            "overflow_y": null,
            "padding": null,
            "right": null,
            "top": null,
            "visibility": null,
            "width": null
          }
        },
        "fd409d72aa3045a7a87961e2e30eb865": {
          "model_module": "@jupyter-widgets/base",
          "model_name": "LayoutModel",
          "model_module_version": "1.2.0",
          "state": {
            "_model_module": "@jupyter-widgets/base",
            "_model_module_version": "1.2.0",
            "_model_name": "LayoutModel",
            "_view_count": null,
            "_view_module": "@jupyter-widgets/base",
            "_view_module_version": "1.2.0",
            "_view_name": "LayoutView",
            "align_content": null,
            "align_items": null,
            "align_self": null,
            "border": null,
            "bottom": null,
            "display": null,
            "flex": null,
            "flex_flow": null,
            "grid_area": null,
            "grid_auto_columns": null,
            "grid_auto_flow": null,
            "grid_auto_rows": null,
            "grid_column": null,
            "grid_gap": null,
            "grid_row": null,
            "grid_template_areas": null,
            "grid_template_columns": null,
            "grid_template_rows": null,
            "height": null,
            "justify_content": null,
            "justify_items": null,
            "left": null,
            "margin": null,
            "max_height": null,
            "max_width": null,
            "min_height": null,
            "min_width": null,
            "object_fit": null,
            "object_position": null,
            "order": null,
            "overflow": null,
            "overflow_x": null,
            "overflow_y": null,
            "padding": null,
            "right": null,
            "top": null,
            "visibility": null,
            "width": null
          }
        },
        "a05d1761c64d455a88b8eb69b395ba40": {
          "model_module": "@jupyter-widgets/controls",
          "model_name": "DescriptionStyleModel",
          "model_module_version": "1.5.0",
          "state": {
            "_model_module": "@jupyter-widgets/controls",
            "_model_module_version": "1.5.0",
            "_model_name": "DescriptionStyleModel",
            "_view_count": null,
            "_view_module": "@jupyter-widgets/base",
            "_view_module_version": "1.2.0",
            "_view_name": "StyleView",
            "description_width": ""
          }
        },
        "7f6498f78a1c4e70b22af702645d352e": {
          "model_module": "@jupyter-widgets/base",
          "model_name": "LayoutModel",
          "model_module_version": "1.2.0",
          "state": {
            "_model_module": "@jupyter-widgets/base",
            "_model_module_version": "1.2.0",
            "_model_name": "LayoutModel",
            "_view_count": null,
            "_view_module": "@jupyter-widgets/base",
            "_view_module_version": "1.2.0",
            "_view_name": "LayoutView",
            "align_content": null,
            "align_items": null,
            "align_self": null,
            "border": null,
            "bottom": null,
            "display": null,
            "flex": null,
            "flex_flow": null,
            "grid_area": null,
            "grid_auto_columns": null,
            "grid_auto_flow": null,
            "grid_auto_rows": null,
            "grid_column": null,
            "grid_gap": null,
            "grid_row": null,
            "grid_template_areas": null,
            "grid_template_columns": null,
            "grid_template_rows": null,
            "height": null,
            "justify_content": null,
            "justify_items": null,
            "left": null,
            "margin": null,
            "max_height": null,
            "max_width": null,
            "min_height": null,
            "min_width": null,
            "object_fit": null,
            "object_position": null,
            "order": null,
            "overflow": null,
            "overflow_x": null,
            "overflow_y": null,
            "padding": null,
            "right": null,
            "top": null,
            "visibility": null,
            "width": "20px"
          }
        },
        "d6e50faecb4e4bd0b4c7c95456e4a9a6": {
          "model_module": "@jupyter-widgets/controls",
          "model_name": "ProgressStyleModel",
          "model_module_version": "1.5.0",
          "state": {
            "_model_module": "@jupyter-widgets/controls",
            "_model_module_version": "1.5.0",
            "_model_name": "ProgressStyleModel",
            "_view_count": null,
            "_view_module": "@jupyter-widgets/base",
            "_view_module_version": "1.2.0",
            "_view_name": "StyleView",
            "bar_color": null,
            "description_width": ""
          }
        },
        "8fd6e7b5b0b14a4aba75299a2db23755": {
          "model_module": "@jupyter-widgets/base",
          "model_name": "LayoutModel",
          "model_module_version": "1.2.0",
          "state": {
            "_model_module": "@jupyter-widgets/base",
            "_model_module_version": "1.2.0",
            "_model_name": "LayoutModel",
            "_view_count": null,
            "_view_module": "@jupyter-widgets/base",
            "_view_module_version": "1.2.0",
            "_view_name": "LayoutView",
            "align_content": null,
            "align_items": null,
            "align_self": null,
            "border": null,
            "bottom": null,
            "display": null,
            "flex": null,
            "flex_flow": null,
            "grid_area": null,
            "grid_auto_columns": null,
            "grid_auto_flow": null,
            "grid_auto_rows": null,
            "grid_column": null,
            "grid_gap": null,
            "grid_row": null,
            "grid_template_areas": null,
            "grid_template_columns": null,
            "grid_template_rows": null,
            "height": null,
            "justify_content": null,
            "justify_items": null,
            "left": null,
            "margin": null,
            "max_height": null,
            "max_width": null,
            "min_height": null,
            "min_width": null,
            "object_fit": null,
            "object_position": null,
            "order": null,
            "overflow": null,
            "overflow_x": null,
            "overflow_y": null,
            "padding": null,
            "right": null,
            "top": null,
            "visibility": null,
            "width": null
          }
        },
        "4efbb062a7bd43f6bd783b1a93e9659e": {
          "model_module": "@jupyter-widgets/controls",
          "model_name": "DescriptionStyleModel",
          "model_module_version": "1.5.0",
          "state": {
            "_model_module": "@jupyter-widgets/controls",
            "_model_module_version": "1.5.0",
            "_model_name": "DescriptionStyleModel",
            "_view_count": null,
            "_view_module": "@jupyter-widgets/base",
            "_view_module_version": "1.2.0",
            "_view_name": "StyleView",
            "description_width": ""
          }
        },
        "226b524a603245ecb426f4857cebe3fb": {
          "model_module": "@jupyter-widgets/controls",
          "model_name": "HBoxModel",
          "model_module_version": "1.5.0",
          "state": {
            "_dom_classes": [],
            "_model_module": "@jupyter-widgets/controls",
            "_model_module_version": "1.5.0",
            "_model_name": "HBoxModel",
            "_view_count": null,
            "_view_module": "@jupyter-widgets/controls",
            "_view_module_version": "1.5.0",
            "_view_name": "HBoxView",
            "box_style": "",
            "children": [
              "IPY_MODEL_0abf1cbb964c4d839eee612318f4a697",
              "IPY_MODEL_b690fccd28b24dd9be0fdb998729fe3d",
              "IPY_MODEL_c8060161594b495a8f69585ab009153f"
            ],
            "layout": "IPY_MODEL_8868e8da48784abdaaab89f45a3f5fb7"
          }
        },
        "0abf1cbb964c4d839eee612318f4a697": {
          "model_module": "@jupyter-widgets/controls",
          "model_name": "HTMLModel",
          "model_module_version": "1.5.0",
          "state": {
            "_dom_classes": [],
            "_model_module": "@jupyter-widgets/controls",
            "_model_module_version": "1.5.0",
            "_model_name": "HTMLModel",
            "_view_count": null,
            "_view_module": "@jupyter-widgets/controls",
            "_view_module_version": "1.5.0",
            "_view_name": "HTMLView",
            "description": "",
            "description_tooltip": null,
            "layout": "IPY_MODEL_40446c606adf48ffb06135a6c7036fc2",
            "placeholder": "​",
            "style": "IPY_MODEL_e60d5e1617104aa581e2aefbfb241b12",
            "value": "Generating train split: "
          }
        },
        "b690fccd28b24dd9be0fdb998729fe3d": {
          "model_module": "@jupyter-widgets/controls",
          "model_name": "FloatProgressModel",
          "model_module_version": "1.5.0",
          "state": {
            "_dom_classes": [],
            "_model_module": "@jupyter-widgets/controls",
            "_model_module_version": "1.5.0",
            "_model_name": "FloatProgressModel",
            "_view_count": null,
            "_view_module": "@jupyter-widgets/controls",
            "_view_module_version": "1.5.0",
            "_view_name": "ProgressView",
            "bar_style": "success",
            "description": "",
            "description_tooltip": null,
            "layout": "IPY_MODEL_7f3a2f09dfa341ad96f09f418bd61ab1",
            "max": 1,
            "min": 0,
            "orientation": "horizontal",
            "style": "IPY_MODEL_a044c85a80734afb95582f5dbd434682",
            "value": 1
          }
        },
        "c8060161594b495a8f69585ab009153f": {
          "model_module": "@jupyter-widgets/controls",
          "model_name": "HTMLModel",
          "model_module_version": "1.5.0",
          "state": {
            "_dom_classes": [],
            "_model_module": "@jupyter-widgets/controls",
            "_model_module_version": "1.5.0",
            "_model_name": "HTMLModel",
            "_view_count": null,
            "_view_module": "@jupyter-widgets/controls",
            "_view_module_version": "1.5.0",
            "_view_name": "HTMLView",
            "description": "",
            "description_tooltip": null,
            "layout": "IPY_MODEL_bffb44bb26ea4649bc7c1adac6c2587a",
            "placeholder": "​",
            "style": "IPY_MODEL_35751fd7d2cf4ccda9989b7049e18181",
            "value": " 425/0 [00:00&lt;00:00,  1.71 examples/s]"
          }
        },
        "8868e8da48784abdaaab89f45a3f5fb7": {
          "model_module": "@jupyter-widgets/base",
          "model_name": "LayoutModel",
          "model_module_version": "1.2.0",
          "state": {
            "_model_module": "@jupyter-widgets/base",
            "_model_module_version": "1.2.0",
            "_model_name": "LayoutModel",
            "_view_count": null,
            "_view_module": "@jupyter-widgets/base",
            "_view_module_version": "1.2.0",
            "_view_name": "LayoutView",
            "align_content": null,
            "align_items": null,
            "align_self": null,
            "border": null,
            "bottom": null,
            "display": null,
            "flex": null,
            "flex_flow": null,
            "grid_area": null,
            "grid_auto_columns": null,
            "grid_auto_flow": null,
            "grid_auto_rows": null,
            "grid_column": null,
            "grid_gap": null,
            "grid_row": null,
            "grid_template_areas": null,
            "grid_template_columns": null,
            "grid_template_rows": null,
            "height": null,
            "justify_content": null,
            "justify_items": null,
            "left": null,
            "margin": null,
            "max_height": null,
            "max_width": null,
            "min_height": null,
            "min_width": null,
            "object_fit": null,
            "object_position": null,
            "order": null,
            "overflow": null,
            "overflow_x": null,
            "overflow_y": null,
            "padding": null,
            "right": null,
            "top": null,
            "visibility": null,
            "width": null
          }
        },
        "40446c606adf48ffb06135a6c7036fc2": {
          "model_module": "@jupyter-widgets/base",
          "model_name": "LayoutModel",
          "model_module_version": "1.2.0",
          "state": {
            "_model_module": "@jupyter-widgets/base",
            "_model_module_version": "1.2.0",
            "_model_name": "LayoutModel",
            "_view_count": null,
            "_view_module": "@jupyter-widgets/base",
            "_view_module_version": "1.2.0",
            "_view_name": "LayoutView",
            "align_content": null,
            "align_items": null,
            "align_self": null,
            "border": null,
            "bottom": null,
            "display": null,
            "flex": null,
            "flex_flow": null,
            "grid_area": null,
            "grid_auto_columns": null,
            "grid_auto_flow": null,
            "grid_auto_rows": null,
            "grid_column": null,
            "grid_gap": null,
            "grid_row": null,
            "grid_template_areas": null,
            "grid_template_columns": null,
            "grid_template_rows": null,
            "height": null,
            "justify_content": null,
            "justify_items": null,
            "left": null,
            "margin": null,
            "max_height": null,
            "max_width": null,
            "min_height": null,
            "min_width": null,
            "object_fit": null,
            "object_position": null,
            "order": null,
            "overflow": null,
            "overflow_x": null,
            "overflow_y": null,
            "padding": null,
            "right": null,
            "top": null,
            "visibility": null,
            "width": null
          }
        },
        "e60d5e1617104aa581e2aefbfb241b12": {
          "model_module": "@jupyter-widgets/controls",
          "model_name": "DescriptionStyleModel",
          "model_module_version": "1.5.0",
          "state": {
            "_model_module": "@jupyter-widgets/controls",
            "_model_module_version": "1.5.0",
            "_model_name": "DescriptionStyleModel",
            "_view_count": null,
            "_view_module": "@jupyter-widgets/base",
            "_view_module_version": "1.2.0",
            "_view_name": "StyleView",
            "description_width": ""
          }
        },
        "7f3a2f09dfa341ad96f09f418bd61ab1": {
          "model_module": "@jupyter-widgets/base",
          "model_name": "LayoutModel",
          "model_module_version": "1.2.0",
          "state": {
            "_model_module": "@jupyter-widgets/base",
            "_model_module_version": "1.2.0",
            "_model_name": "LayoutModel",
            "_view_count": null,
            "_view_module": "@jupyter-widgets/base",
            "_view_module_version": "1.2.0",
            "_view_name": "LayoutView",
            "align_content": null,
            "align_items": null,
            "align_self": null,
            "border": null,
            "bottom": null,
            "display": null,
            "flex": null,
            "flex_flow": null,
            "grid_area": null,
            "grid_auto_columns": null,
            "grid_auto_flow": null,
            "grid_auto_rows": null,
            "grid_column": null,
            "grid_gap": null,
            "grid_row": null,
            "grid_template_areas": null,
            "grid_template_columns": null,
            "grid_template_rows": null,
            "height": null,
            "justify_content": null,
            "justify_items": null,
            "left": null,
            "margin": null,
            "max_height": null,
            "max_width": null,
            "min_height": null,
            "min_width": null,
            "object_fit": null,
            "object_position": null,
            "order": null,
            "overflow": null,
            "overflow_x": null,
            "overflow_y": null,
            "padding": null,
            "right": null,
            "top": null,
            "visibility": null,
            "width": "20px"
          }
        },
        "a044c85a80734afb95582f5dbd434682": {
          "model_module": "@jupyter-widgets/controls",
          "model_name": "ProgressStyleModel",
          "model_module_version": "1.5.0",
          "state": {
            "_model_module": "@jupyter-widgets/controls",
            "_model_module_version": "1.5.0",
            "_model_name": "ProgressStyleModel",
            "_view_count": null,
            "_view_module": "@jupyter-widgets/base",
            "_view_module_version": "1.2.0",
            "_view_name": "StyleView",
            "bar_color": null,
            "description_width": ""
          }
        },
        "bffb44bb26ea4649bc7c1adac6c2587a": {
          "model_module": "@jupyter-widgets/base",
          "model_name": "LayoutModel",
          "model_module_version": "1.2.0",
          "state": {
            "_model_module": "@jupyter-widgets/base",
            "_model_module_version": "1.2.0",
            "_model_name": "LayoutModel",
            "_view_count": null,
            "_view_module": "@jupyter-widgets/base",
            "_view_module_version": "1.2.0",
            "_view_name": "LayoutView",
            "align_content": null,
            "align_items": null,
            "align_self": null,
            "border": null,
            "bottom": null,
            "display": null,
            "flex": null,
            "flex_flow": null,
            "grid_area": null,
            "grid_auto_columns": null,
            "grid_auto_flow": null,
            "grid_auto_rows": null,
            "grid_column": null,
            "grid_gap": null,
            "grid_row": null,
            "grid_template_areas": null,
            "grid_template_columns": null,
            "grid_template_rows": null,
            "height": null,
            "justify_content": null,
            "justify_items": null,
            "left": null,
            "margin": null,
            "max_height": null,
            "max_width": null,
            "min_height": null,
            "min_width": null,
            "object_fit": null,
            "object_position": null,
            "order": null,
            "overflow": null,
            "overflow_x": null,
            "overflow_y": null,
            "padding": null,
            "right": null,
            "top": null,
            "visibility": null,
            "width": null
          }
        },
        "35751fd7d2cf4ccda9989b7049e18181": {
          "model_module": "@jupyter-widgets/controls",
          "model_name": "DescriptionStyleModel",
          "model_module_version": "1.5.0",
          "state": {
            "_model_module": "@jupyter-widgets/controls",
            "_model_module_version": "1.5.0",
            "_model_name": "DescriptionStyleModel",
            "_view_count": null,
            "_view_module": "@jupyter-widgets/base",
            "_view_module_version": "1.2.0",
            "_view_name": "StyleView",
            "description_width": ""
          }
        }
      }
    },
    "accelerator": "GPU"
  },
  "cells": [
    {
      "cell_type": "markdown",
      "metadata": {
        "id": "view-in-github",
        "colab_type": "text"
      },
      "source": [
        "<a href=\"https://colab.research.google.com/github/fatemafaria142/Comparative-Analysis-of-Diverse-Large-Language-Models-in-Story-Generation/blob/main/Story_Generation_using_Llama_2_7b_chat_hf_and_LangChain.ipynb\" target=\"_parent\"><img src=\"https://colab.research.google.com/assets/colab-badge.svg\" alt=\"Open In Colab\"/></a>"
      ]
    },
    {
      "cell_type": "markdown",
      "source": [
        "### **Install Required Packages**"
      ],
      "metadata": {
        "id": "iEkm_Q9AGgTX"
      }
    },
    {
      "cell_type": "code",
      "source": [
        "!pip install accelerate peft bitsandbytes transformers trl datasets torch langchain -q"
      ],
      "metadata": {
        "colab": {
          "base_uri": "https://localhost:8080/"
        },
        "id": "sp-9Dpjn8fAD",
        "outputId": "c1ea9628-03e0-4196-948f-e56dca08e6f0"
      },
      "execution_count": 1,
      "outputs": [
        {
          "output_type": "stream",
          "name": "stdout",
          "text": [
            "\u001b[?25l     \u001b[90m━━━━━━━━━━━━━━━━━━━━━━━━━━━━━━━━━━━━━━━━\u001b[0m \u001b[32m0.0/280.0 kB\u001b[0m \u001b[31m?\u001b[0m eta \u001b[36m-:--:--\u001b[0m\r\u001b[2K     \u001b[91m━━━━━\u001b[0m\u001b[91m╸\u001b[0m\u001b[90m━━━━━━━━━━━━━━━━━━━━━━━━━━━━━━━━━━\u001b[0m \u001b[32m41.0/280.0 kB\u001b[0m \u001b[31m1.1 MB/s\u001b[0m eta \u001b[36m0:00:01\u001b[0m\r\u001b[2K     \u001b[91m━━━━━━━━━━━━━━━━━━━━\u001b[0m\u001b[90m╺\u001b[0m\u001b[90m━━━━━━━━━━━━━━━━━━━\u001b[0m \u001b[32m143.4/280.0 kB\u001b[0m \u001b[31m2.0 MB/s\u001b[0m eta \u001b[36m0:00:01\u001b[0m\r\u001b[2K     \u001b[90m━━━━━━━━━━━━━━━━━━━━━━━━━━━━━━━━━━━━━━━━\u001b[0m \u001b[32m280.0/280.0 kB\u001b[0m \u001b[31m2.7 MB/s\u001b[0m eta \u001b[36m0:00:00\u001b[0m\n",
            "\u001b[2K     \u001b[90m━━━━━━━━━━━━━━━━━━━━━━━━━━━━━━━━━━━━━━━━\u001b[0m \u001b[32m183.4/183.4 kB\u001b[0m \u001b[31m14.0 MB/s\u001b[0m eta \u001b[36m0:00:00\u001b[0m\n",
            "\u001b[2K     \u001b[90m━━━━━━━━━━━━━━━━━━━━━━━━━━━━━━━━━━━━━━━━\u001b[0m \u001b[32m105.0/105.0 MB\u001b[0m \u001b[31m8.4 MB/s\u001b[0m eta \u001b[36m0:00:00\u001b[0m\n",
            "\u001b[2K     \u001b[90m━━━━━━━━━━━━━━━━━━━━━━━━━━━━━━━━━━━━━━━━\u001b[0m \u001b[32m155.3/155.3 kB\u001b[0m \u001b[31m21.2 MB/s\u001b[0m eta \u001b[36m0:00:00\u001b[0m\n",
            "\u001b[2K     \u001b[90m━━━━━━━━━━━━━━━━━━━━━━━━━━━━━━━━━━━━━━━━\u001b[0m \u001b[32m536.6/536.6 kB\u001b[0m \u001b[31m53.3 MB/s\u001b[0m eta \u001b[36m0:00:00\u001b[0m\n",
            "\u001b[2K     \u001b[90m━━━━━━━━━━━━━━━━━━━━━━━━━━━━━━━━━━━━━━━━\u001b[0m \u001b[32m815.9/815.9 kB\u001b[0m \u001b[31m63.5 MB/s\u001b[0m eta \u001b[36m0:00:00\u001b[0m\n",
            "\u001b[2K     \u001b[90m━━━━━━━━━━━━━━━━━━━━━━━━━━━━━━━━━━━━━━━━\u001b[0m \u001b[32m79.8/79.8 kB\u001b[0m \u001b[31m8.4 MB/s\u001b[0m eta \u001b[36m0:00:00\u001b[0m\n",
            "\u001b[2K     \u001b[90m━━━━━━━━━━━━━━━━━━━━━━━━━━━━━━━━━━━━━━━━\u001b[0m \u001b[32m38.3/38.3 MB\u001b[0m \u001b[31m24.6 MB/s\u001b[0m eta \u001b[36m0:00:00\u001b[0m\n",
            "\u001b[2K     \u001b[90m━━━━━━━━━━━━━━━━━━━━━━━━━━━━━━━━━━━━━━━━\u001b[0m \u001b[32m116.3/116.3 kB\u001b[0m \u001b[31m12.9 MB/s\u001b[0m eta \u001b[36m0:00:00\u001b[0m\n",
            "\u001b[2K     \u001b[90m━━━━━━━━━━━━━━━━━━━━━━━━━━━━━━━━━━━━━━━━\u001b[0m \u001b[32m134.8/134.8 kB\u001b[0m \u001b[31m14.4 MB/s\u001b[0m eta \u001b[36m0:00:00\u001b[0m\n",
            "\u001b[2K     \u001b[90m━━━━━━━━━━━━━━━━━━━━━━━━━━━━━━━━━━━━━━━━\u001b[0m \u001b[32m1.7/1.7 MB\u001b[0m \u001b[31m38.2 MB/s\u001b[0m eta \u001b[36m0:00:00\u001b[0m\n",
            "\u001b[2K     \u001b[90m━━━━━━━━━━━━━━━━━━━━━━━━━━━━━━━━━━━━━━━━\u001b[0m \u001b[32m241.2/241.2 kB\u001b[0m \u001b[31m17.8 MB/s\u001b[0m eta \u001b[36m0:00:00\u001b[0m\n",
            "\u001b[2K     \u001b[90m━━━━━━━━━━━━━━━━━━━━━━━━━━━━━━━━━━━━━━━━\u001b[0m \u001b[32m56.5/56.5 kB\u001b[0m \u001b[31m8.1 MB/s\u001b[0m eta \u001b[36m0:00:00\u001b[0m\n",
            "\u001b[2K     \u001b[90m━━━━━━━━━━━━━━━━━━━━━━━━━━━━━━━━━━━━━━━━\u001b[0m \u001b[32m49.4/49.4 kB\u001b[0m \u001b[31m6.2 MB/s\u001b[0m eta \u001b[36m0:00:00\u001b[0m\n",
            "\u001b[2K     \u001b[90m━━━━━━━━━━━━━━━━━━━━━━━━━━━━━━━━━━━━━━━━\u001b[0m \u001b[32m55.4/55.4 kB\u001b[0m \u001b[31m5.8 MB/s\u001b[0m eta \u001b[36m0:00:00\u001b[0m\n",
            "\u001b[?25h\u001b[31mERROR: pip's dependency resolver does not currently take into account all the packages that are installed. This behaviour is the source of the following dependency conflicts.\n",
            "ibis-framework 7.1.0 requires pyarrow<15,>=2, but you have pyarrow 15.0.0 which is incompatible.\u001b[0m\u001b[31m\n",
            "\u001b[0m"
          ]
        }
      ]
    },
    {
      "cell_type": "markdown",
      "source": [
        "#### **Dataset Link:** https://huggingface.co/datasets/AtlasUnified/atlas-storyteller"
      ],
      "metadata": {
        "id": "ck_5U-vIq7zW"
      }
    },
    {
      "cell_type": "code",
      "source": [
        "from datasets import load_dataset\n",
        "\n",
        "# Load the dataset\n",
        "instruct_tune_dataset = load_dataset(\"AtlasUnified/atlas-storyteller\")"
      ],
      "metadata": {
        "id": "DI1G_zS8PWh9",
        "colab": {
          "base_uri": "https://localhost:8080/",
          "height": 205,
          "referenced_widgets": [
            "4f971eaab49f4f7ba22dda378b848ea2",
            "a4ac8989b2cc4d0f9c4d9a44255e1feb",
            "f4d495c93760487c94a012992bbadfe5",
            "ac8bf74c509742c99bfa7d7803c2a9ab",
            "9fde4d4891cd4ff38ded1c2b7e4d2fbb",
            "aa51de7139214cfc87fdb358c745f78b",
            "214894d02611443588b1018022bff62a",
            "23b69af1d2c74ef496502091218925f6",
            "1caa39ca41844661900f6d08d51a12ae",
            "59e0a79666d041f4a58d3bbbad34836f",
            "4958d954811d4f229cb5f01d4cb23762",
            "463895afe34e42e8961d4b827fb32772",
            "2c50934ce3084dc795e23840d6535b45",
            "8b9ce9b248024d2592f87d1e15f7aaaa",
            "5559232b8ad8485180236302967f792b",
            "39da5fda762b40f08f042d9c86ee1c18",
            "e0c497a42d054239976d47d648848db8",
            "842e200bcfd74f85bda022241c3c0a30",
            "897472309bd941e2b01a8260dee84808",
            "acc036d622eb4ffea61c0420cce095fb",
            "49c2de86f0784c1296935961861460cf",
            "5eec9fc00ec846f999126700c879641a"
          ]
        },
        "outputId": "804cb58c-c86d-46a3-e03e-e8fe5ca9a0fc"
      },
      "execution_count": 2,
      "outputs": [
        {
          "output_type": "stream",
          "name": "stderr",
          "text": [
            "/usr/local/lib/python3.10/dist-packages/huggingface_hub/utils/_token.py:88: UserWarning: \n",
            "The secret `HF_TOKEN` does not exist in your Colab secrets.\n",
            "To authenticate with the Hugging Face Hub, create a token in your settings tab (https://huggingface.co/settings/tokens), set it as secret in your Google Colab and restart your session.\n",
            "You will be able to reuse this secret in all of your notebooks.\n",
            "Please note that authentication is recommended but still optional to access public models or datasets.\n",
            "  warnings.warn(\n"
          ]
        },
        {
          "output_type": "display_data",
          "data": {
            "text/plain": [
              "Downloading data:   0%|          | 0.00/21.2M [00:00<?, ?B/s]"
            ],
            "application/vnd.jupyter.widget-view+json": {
              "version_major": 2,
              "version_minor": 0,
              "model_id": "4f971eaab49f4f7ba22dda378b848ea2"
            }
          },
          "metadata": {}
        },
        {
          "output_type": "display_data",
          "data": {
            "text/plain": [
              "Generating train split: 0 examples [00:00, ? examples/s]"
            ],
            "application/vnd.jupyter.widget-view+json": {
              "version_major": 2,
              "version_minor": 0,
              "model_id": "463895afe34e42e8961d4b827fb32772"
            }
          },
          "metadata": {}
        }
      ]
    },
    {
      "cell_type": "code",
      "source": [
        "# Select 500 rows for training\n",
        "train_subset = instruct_tune_dataset[\"train\"].select(indices=range(500))\n",
        "\n",
        "# Select 200 rows for testing\n",
        "test_subset = instruct_tune_dataset[\"train\"].select(indices=range(500, 700))\n"
      ],
      "metadata": {
        "id": "9Y7j0nu1nf61"
      },
      "execution_count": 3,
      "outputs": []
    },
    {
      "cell_type": "code",
      "source": [
        "train_subset"
      ],
      "metadata": {
        "colab": {
          "base_uri": "https://localhost:8080/"
        },
        "id": "9fV3n8APPJM7",
        "outputId": "74789e3b-f292-4505-c004-aa8ea3964cee"
      },
      "execution_count": 4,
      "outputs": [
        {
          "output_type": "execute_result",
          "data": {
            "text/plain": [
              "Dataset({\n",
              "    features: ['id', 'Story'],\n",
              "    num_rows: 500\n",
              "})"
            ]
          },
          "metadata": {},
          "execution_count": 4
        }
      ]
    },
    {
      "cell_type": "code",
      "source": [
        "test_subset"
      ],
      "metadata": {
        "colab": {
          "base_uri": "https://localhost:8080/"
        },
        "id": "x7NmbbNKPK_6",
        "outputId": "9206f39a-18f6-4369-c77c-10c900c9a02b"
      },
      "execution_count": 5,
      "outputs": [
        {
          "output_type": "execute_result",
          "data": {
            "text/plain": [
              "Dataset({\n",
              "    features: ['id', 'Story'],\n",
              "    num_rows: 200\n",
              "})"
            ]
          },
          "metadata": {},
          "execution_count": 5
        }
      ]
    },
    {
      "cell_type": "code",
      "source": [
        "# Check the sizes of the subsets\n",
        "print(\"Train subset size:\", len(train_subset))\n",
        "print(\"Test subset size:\", len(test_subset))"
      ],
      "metadata": {
        "colab": {
          "base_uri": "https://localhost:8080/"
        },
        "id": "8-d_QhZsD2Pu",
        "outputId": "8cfc2aa6-e368-454d-a045-73924e1714fe"
      },
      "execution_count": 6,
      "outputs": [
        {
          "output_type": "stream",
          "name": "stdout",
          "text": [
            "Train subset size: 500\n",
            "Test subset size: 200\n"
          ]
        }
      ]
    },
    {
      "cell_type": "code",
      "source": [
        "# Show 3 examples from the train dataset\n",
        "print(\"Train subset examples:\")\n",
        "for i in range(3):\n",
        "    id = train_subset['id'][i]\n",
        "    story = train_subset['Story'][i]\n",
        "    print(f\"Example {i + 1}:\")\n",
        "    print(f\"ID: {id}\")\n",
        "    print(f\"Story: {story}\")\n",
        "    print(\"-------------------\")"
      ],
      "metadata": {
        "colab": {
          "base_uri": "https://localhost:8080/"
        },
        "id": "WUiuMQeYD5vm",
        "outputId": "860261d2-83c1-4ad8-cddd-eb3315dae57e"
      },
      "execution_count": 8,
      "outputs": [
        {
          "output_type": "stream",
          "name": "stdout",
          "text": [
            "Train subset examples:\n",
            "Example 1:\n",
            "ID: seed_task_0\n",
            "Story: In the bustling city of New York, where the neon lights flickered and the sound of traffic reverberated through the streets, lived a man named Ethan Sullivan. With his chiseled jawline, piercing blue eyes, and a physique carved by years of training, Ethan possessed an air of mystery that intrigued those who crossed his path. He lived a solitary life in a modest apartment, spending his days as an accountant, his nights cloaked in shadows and secrecy.  One fateful morning, as the city awoke to the rhythmic beat of its own heartbeat, Ethan received a cryptic message on a burner phone. It simply stated, \"They're coming for you.\" His heart quickened, and a wave of apprehension washed over him. Who were \"they,\" and why were they after him? Ethan's blood ran cold, fueling a surge of adrenaline that urged him to take action.  Without a moment's hesitation, Ethan gathered his meager belongings and made his way to a hidden room beneath his apartment. The room, concealed behind a bookshelf, was a secret sanctuary where he had spent countless hours honing his skills and preparing for the unknown. As he descended the narrow staircase, the walls whispered tales of peril and resilience, fueling his determination.  Days turned into nights, and the hunt for Ethan intensified. He navigated the city's labyrinthine underworld, seeking answers to the questions that shadowed his every step. His pursuit brought him face to face with a network of spies, double agents, and dangerous mercenaries, all entangled in a web of deception. Ethan's resilience was pushed to its limits as he evaded their clutches, relying on his training and instincts to outwit his adversaries.  Amidst the chaos, Ethan discovered a hidden connection between himself and the mysterious organization that sought his demise. Unbeknownst to him, he possessed an uncanny ability to unlock long-dormant memories, memories that held the key to an ancient artifact rumored to possess unimaginable power. This revelation marked a turning point in his quest, as he realized that his actions were not only a matter of personal survival but threatened the delicate balance of the entire world.  With newfound purpose, Ethan embarked on a perilous journey across continents, battling foes and confronting the ghosts of his past. He delved into ancient texts, deciphering cryptic symbols and untangling riddles that led him closer to the artifact's secret location. The world around him trembled, unaware of the cataclysmic power that awaited should the artifact fall into the wrong hands.  In the heart of the Amazon rainforest, amidst lush foliage and echoing wildlife, Ethan reached the sacred temple where the artifact lay hidden. The air crackled with anticipation as he overcame treacherous trials, testing both his physical and mental prowess. With each obstacle conquered, his purpose grew clearer, his resolve unyielding.  Finally, standing on the precipice of destiny, Ethan found himself face to face with his nemesis, the orchestrator of his torment. A battle of wills ensued, each combatant matching the other blow for blow, weaving a deadly dance of strength and strategy. It was a battle that transcended the physical, a clash between opposing ideologies.  In the end, it was Ethan's unwavering determination that prevailed. With a final, decisive strike, he thwarted his enemy's plans and secured the artifact, safeguarding the world from its malevolence. The weight of his actions settled upon him, and as he gazed upon the artifact, he understood the responsibility that came with its power.  With the threat vanquished and the world saved, Ethan's journey drew to a close. He returned to his solitary life in New York, no longer haunted by the phantom of impending danger. Yet, his actions had left an indelible mark upon his soul, a reminder that even in the face of insurmountable odds, one individual could make a difference. And with that knowledge, Ethan Sullivan embraced the path that lay ahead of him, ready to face whatever challenges may come his way.\n",
            "-------------------\n",
            "Example 2:\n",
            "ID: seed_task_1\n",
            "Story: The sky stretched out before them, an endless expanse of blue pierced only by fluffy white clouds. The air crackled with the anticipation of action as the squadron gathered at the airfield, their sleek fighter jets gleaming under the noon sun. Among the pilots was Captain Joshua Bennett, a seasoned veteran with eyes as sharp as a hawk's, and a heart that beat with the rhythm of war.  Set in the midst of a raging conflict, the story takes place during the height of World War II. Captain Bennett, a fearless and daring leader, had earned his reputation through countless successful missions. He was known for his audacious maneuvers and masterful control of aircraft, traits that instilled confidence in every member of his squadron.  Their current mission was crucial - they were tasked with intercepting and neutralizing a squadron of enemy bombers bound for a nearby heavily fortified city. The stakes were high; failure meant devastation for countless lives on the ground. But failure was not an option for Captain Bennett and his men.  As they climbed into their cockpits, each pilot embraced the danger that lay ahead. The roar of engines filled the air, drowning out all other sounds. The planes taxied onto the runway, lined up with military precision. The countdown began, the moment drawing closer with each passing second.  With a thunderous roar, the planes rocketed into the clear blue sky. Wings unfolded, propellers spun, and the pilots adjusted their throttles to find the perfect balance of speed and maneuverability. The rush of wind whipped their faces as they gained altitude, soaring towards their destiny.  As they closed in on the enemy formation, the first hints of adrenaline coursed through their veins. The lead bomber came into view, its gray monstrosity blotting out the sun. It was a formidable target, bristling with defensive guns and encased in heavy armor.  Captain Bennett's voice broke through the radio static, calm yet tinged with intensity. \"Stick to the plan, gentlemen. Stay in formation, and watch each other's backs.\" The squadron spread their wings and formed a protective wall around their leader. It was time to engage.  In a dazzling display of aerial acrobatics and precision, the dogfight began. Fighter jets darted and weaved through the air, leaving white contrails in their wake. The deafening roar of engines mingled with the staccato bursts of gunfire. Maneuvers honed through countless hours of training were put to the test as the pilots pushed themselves to the limits.  Enemy tracers wove through the sky like deadly ribbons, threatening to tear the squadron apart. Captain Bennett's instincts kicked in, his eyes scanning the chaotic battlefield, searching for weak points. He made split-second decisions, radioing commands to his men as they fought tooth and nail against their adversaries.  Bullets grazed wings, but the pilots pressed on, clinging to that indomitable spirit of victory. They danced with death, their every move calculated and executed with utmost precision. Captain Bennett, like a maestro directing an orchestra, orchestrated the deadly symphony of war, leading his men with unwavering determination.  As the fight raged on, the squadron's efforts began to bear fruit. One enemy bomber after another plummeted from the sky, engulfed in billowing flames. The sky turned into a kaleidoscope of smoke and fire, a testament to their courage and skill. The tide began to turn, the remaining enemy formations faltering under the relentless onslaught.  And then, silence fell upon the battlefield. The enemy bombers lay shattered and defeated, scattered like forlorn chess pieces across the sky. The squadron, weary yet triumphant, regrouped in a display of unity and solidarity.  Captain Bennett's voice broke through the radio once again, this time filled with pride. \"Well done, gentlemen. Another victory for the history books.\" The cheers of his comrades echoed in the air, mingling with the sea breeze.  As the planes headed back to base, engines humming in synchrony, the captain couldn't help but smile. They had prevailed against all odds, proving their mettle in the crucible of combat. He knew that their actions had made a difference, had saved lives, and kept hope alive in the hearts of those on the ground.  Their legacy as warriors in the skies would forever be remembered, etched in the annals of history. And Captain Joshua Bennett, the fearless leader who led his squadron with unwavering resolve, would forever be hailed as a hero, a beacon of courage in the darkest of times.\n",
            "-------------------\n",
            "Example 3:\n",
            "ID: seed_task_2\n",
            "Story: In the midst of a bustling metropolis teeming with skyscrapers that seemingly touched the heavens, nestled a small and unassuming garage. It belonged to Ethan, a young and brilliant engineer consumed by his insatiable thirst for innovation and adventure. With grease-stained hands and a mind full of ideas, he spent every waking hour tinkering and crafting marvelous inventions that could turn dreams into reality.  One fateful afternoon, while rummaging through a box filled with ancient blueprints, Ethan stumbled upon a peculiar schematic. It depicted a colossal machine, a menacing giant robot with gleaming steel limbs and an aura of unstoppable power. Intrigued and fascinated, he couldn't resist the temptation to bring this mechanical behemoth to life.  Days turned into weeks, and nights melted away as Ethan toiled tirelessly in his secluded workshop, pouring every ounce of his skill and determination into the construction of his masterpiece. Finally, after countless sleepless nights, his creation stood before him in all its majestic glory - a formidable mech equipped with an array of devastating weapons, ready to challenge any foe that dared face it.  News of Ethan's extraordinary creation spread like wildfire across the city, catching the attention of a notorious and power-hungry conglomerate known as IronCorp Industries. Their enigmatic leader, Raymond Blackwood, was a zealous man who sought to dominate the world using an army of unstoppable robots. Enraged by the presence of a potential rival, Blackwood devised a sinister plan to steal Ethan's invention, ensuring his own hegemony remained unchallenged.  As dusk settled over the city, Ethan climbed into the cockpit of his mighty mech, aptly named \"Ironfire,\" and prepared for battle. He had heard whispers of IronCorp's plans and knew that he must act swiftly to protect his creation, and by extension, the very heart of innovation itself.  Engulfed in the shadows, Ethan set out on a perilous journey through the dimly lit streets, radar systems humming softly as he tracked the movements of IronCorp's relentless forces. Every corner of the city seemed to pulsate with danger, each alleyway hiding a potential ambush. But Ethan's resolve burned bright, and with every step, his heart raced with a mix of anticipation and desperation.  Finally, deep within the heart of an abandoned factory, a cacophony of metallic growls echoed ominously. Ironfire stepped forward, ready to face an army of imposing IronCorp robots driven by malice and greed. As the battle raged on, Ethan's instincts and intimate knowledge of his creation guided him. He evaded crushing blows and countered with devastating precision, each strike in perfect harmony with the symphony of danger that surrounded him.  In a climactic clash of metal and might, Ironfire unleashed a powerful surge of energy that coursed through the remnants of IronCorp's defeated robots. Sparks danced and smoke filled the air, the battle leaving nothing but a wake of debris in its path. Ethan stood triumphant, having defended his creation and regained his vision of a world where innovation thrived untethered.  Word of Ethan's heroic victory spread throughout the city, and he became a legend, a symbol of defiance against corporate tyranny. IronCorp, left in shambles, retreated into the shadows, their dreams of domination shattered. From that day forward, the city monumentally shifted, embracing a new era where aspiring inventors and unyielding dreamers were celebrated and cherished.  As the sun set on the horizon, bathing the city in hues of crimson and gold, Ethan surveyed the landscape that had once been plagued by darkness. A smile graced his lips, knowing that he had played a pivotal role in defending the very essence of action and innovation against overwhelming odds. And with newfound hope in his heart, he embarked on a journey to inspire a generation and forge a future where dreams knew no boundaries.\n",
            "-------------------\n"
          ]
        }
      ]
    },
    {
      "cell_type": "code",
      "source": [
        "# Show 3 examples from the test dataset\n",
        "print(\"Test subset examples:\")\n",
        "for i in range(3):\n",
        "    id = test_subset['id'][i]\n",
        "    story = test_subset['Story'][i]\n",
        "    print(f\"Example {i + 1}:\")\n",
        "    print(f\"ID: {id}\")\n",
        "    print(f\"Story: {story}\")\n",
        "    print(\"-------------------\")"
      ],
      "metadata": {
        "colab": {
          "base_uri": "https://localhost:8080/"
        },
        "id": "JqmZtXSqEIQd",
        "outputId": "365df191-9720-47b6-94b2-a272fc023be9"
      },
      "execution_count": 9,
      "outputs": [
        {
          "output_type": "stream",
          "name": "stdout",
          "text": [
            "Test subset examples:\n",
            "Example 1:\n",
            "ID: seed_task_500\n",
            "Story: In the heart of Boston sits the grand Isabella Stewart Gardner Museum, an oasis of art and culture. With its ornate architecture and lush gardens, the museum is a testament to beauty and history. Within its walls resides a breathtaking collection of masterpieces by the greatest artists of all time.  It was a cool spring evening when two men, Mark and Ethan, stood outside the museum, their eyes fixed on the magnificent building that lay before them. They were not ordinary visitors or enthusiasts; they were art thieves plotting a daring heist. The allure of the Gardner Museum's valuable treasures had drawn them in like moths to a flame.  Mark, a seasoned thief with an eye for detail, had spent months carefully studying the museum's layout, security systems, and the positioning of the most prized artworks. Ethan, his young and eager apprentice, had admired Mark's skills and had accepted the opportunity to learn from a master.  They had painstakingly planned every step of the operation, their goal set on stealing the valuable works of art without a trace. On that fateful evening, Mark and Ethan disguised themselves as maintenance workers, armed with forged identification and knowledge of the museum's protocols.  Once inside, they moved swiftly through the dimly lit halls, their steps muffled by the soft carpet beneath their feet. As they reached the Dutch Room, home to the famous Vermeer painting \"The Concert\" and several other priceless artworks, their hearts raced with anticipation.  Mark skillfully disabled the security systems, while Ethan carefully removed the irreplaceable art from their frames. Their hands trembled with a mix of adrenaline and reverence, understanding the magnitude of what they were about to commit. They wrapped the stolen masterpieces meticulously, securing them in specialized cases designed to protect the fragile canvases.  With their hooded jackets draped over their arms, the two thieves made their way back through the museum, their every move measured and calculated. They exited through an emergency door, blending into the night like phantoms in the darkness.  Days turned into weeks, and the stolen artworks remained hidden away in a secret location. Yet, the absence of the masterpieces did not go unnoticed. The Gardner Museum's director, Mary, was devastated when she discovered the theft. The loss of these priceless treasures left a void within the museum's walls and in the hearts of art lovers worldwide.  News of the heist spread like wildfire, captivating the public's imagination. It became a topic of conversation in art circles and a source of fascination for investigators. As the museum worked tirelessly with law enforcement agencies, a reward was offered for any information that could lead to the recovery of the stolen artwork—a staggering $10 million.  Amidst the chaos, an anonymous tip arrived at the museum's doorstep, providing a glimmer of hope. The tipster claimed to have information about the whereabouts of the stolen art. Mary, desperate for any leads, welcomed the stranger into her office, agreeing to the terms of utmost secrecy.  The informant revealed a convoluted tale of betrayal and double-crossing. It seemed that within the criminal underworld, the stolen works had changed hands multiple times. The informant, who had a personal vendetta against one of the thieves, divulged their current location.  Working in close cooperation with law enforcement, Mary planned a daring raid to retrieve the stolen works. The early morning was shrouded in anticipation as the authorities closed in on the hideout. They had hoped for a swift, silent operation, but their target had been tipped off.  A frantic chase ensued through narrow alleys and abandoned buildings. Officers pursued the fleeing thieves, their collective determination overpowering any physical exhaustion they may have felt. As the criminals tried to escape, they were cornered in an old warehouse.  Gunshots pierced the dusty air, followed by shouts and the clatter of footsteps against a grimy floor. When the dust settled, the stolen masterpieces lay scattered across the ground, free from the grasp of those who sought to profit from their beauty.  Returning to the Gardner Museum, Mary stood before the restored Vermeer painting, her eyes welling up with tears. The stolen art had been successfully recovered, thanks to the unwavering dedication of the authorities and the resilience of those who refused to let the heist overshadow the museum's cultural significance.  The Gardner Museum art theft became a cautionary tale, a reminder of the eternal conflict between those who seek to possess beauty and the defenders who stand guard. And within the grand halls of the museum, the stolen artworks were once again displayed, a testament to the enduring power of art and the triumph of justice.\n",
            "-------------------\n",
            "Example 2:\n",
            "ID: seed_task_501\n",
            "Story: In the hushed halls of the grand Belvedere Palace, where a myriad of masterpieces adorned the walls, stood the renowned painting—Gustav Klimt's \"The Kiss.\" Its exquisite depiction of two lovers locked in an eternal embrace captivated the hearts and minds of all who beheld it. Immersed in its artistic brilliance, visitors from near and far flocked to the museum, eager to witness this iconic masterpiece firsthand. But unbeknownst to the curator and the enchanted crowd, a nefarious plot was about to unfold.  Deep within the shadows of the city, a notorious art thief named Raphael Thorne conceived a daring plan to steal \"The Kiss.\" Known for his audacious heists, Thorne had successfully pilfered priceless works of art from the world's most secure museums, leaving the authorities baffled. As whispers of his next conquest echoed through the art underworld, the elegant Belvedere Palace became his latest target.  Under cover of darkness, Thorne assembled a carefully selected team of accomplices, each with their own unique set of skills. There was Isabella, a seductive master of disguise who could seamlessly blend into any crowd, and Nicholas, a brilliant locksmith with an uncanny ability to open even the most intricate of safes. Together, they formed a formidable force, united by their shared passion for acquiring priceless treasures.  Unbeknownst to Thorne, one of his trusted accomplices, Olivia, had a change of heart. A former art aficionado herself, she had fallen under the spell of \"The Kiss.\" Consumed by guilt, she sought to protect the masterpiece from the clutches of her criminal comrades. Olivia's mind raced with ways to sabotage the heist and save Klimt's beloved painting from an uncertain fate.  The fateful night arrived, shrouding the Belvedere Palace in an eerie silence. Thorne and his team stealthily infiltrated the museum, their every step calculated and precise. Drawing nearer to the gallery where \"The Kiss\" awaited, their hearts raced with anticipation. The team's meticulous planning was about to be put to the ultimate test.  Just as Thorne's gloved hand reached out to pluck the painting from the wall, Olivia sprung into action. In a swift and unexpected move, she tripped an alarm, shattering the silence that enveloped the palace. Panic ensued as alarms blared, lights flashed, and security guards swarmed the scene.  Caught off guard by Olivia's betrayal, Thorne and his team scrambled to regain control of the situation. Isabella swiftly changed her appearance, becoming unrecognizable amidst the chaos. Nicholas, ever resourceful, devised an elaborate diversion, diverting the guards' attention away from their true intentions. But amidst the commotion, \"The Kiss\" remained untouched, guarded by an impenetrable security system.  As the authorities closed in on Thorne and his team, Olivia, desperate to make amends, made a daring move. With a mixture of guilt and determination, she risked her own safety to guide the police to the hiding place where Thorne had stashed his prior art heists. In doing so, she hoped to demonstrate her newfound redemption and secure the future of \"The Kiss.\"  With Olivia's help, the police arrived just in time to apprehend Thorne and his team, putting an end to their reign of art thievery. The stolen artworks were swiftly returned to their rightful homes, and the Belvedere Palace descended into a collective sigh of relief. As for \"The Kiss,\" it remained unscathed, proudly displayed for all to admire once more.  Years later, the tale of the audacious art heist at the Belvedere Palace would become the stuff of legend—a captivating story of treachery, redemption, and the enduring power of art. And Gustav Klimt's \"The Kiss\" served as a lasting reminder that even in the face of danger, the beauty forged by human hands would forever inspire and captivate the world.\n",
            "-------------------\n",
            "Example 3:\n",
            "ID: seed_task_502\n",
            "Story: The gallery was dimly lit, a hushed silence enveloping the room as visitors moved reverently from one masterpiece to another. Nestled within the heart of the city, the prestigious Vermeulen Gallery stood as a bastion of artistic brilliance, housing an impressive collection of priceless works. Amongst those works were several paintings, steeped in history and tragedy, stolen from Holocaust victims during the dark days of World War II. These stolen masterpieces whispered tales of sorrow and loss, waiting to be returned to their rightful owners.  Unknown to the gallery's patrons, a shadowy figure named Thomas 'The Phantom' Wagner had long harbored a plan to liberate the stolen art and restore justice. A master connoisseur and thief, Thomas possessed a unique set of skills. His sophisticated network of informants had alerted him to the presence of the looted art in the Vermeulen Gallery, sparking a flicker of hope in his heart. With this information, Thomas meticulously devised a plan, a web of deceit and cunning that would shake the art world to its core.  The night air was thick with anticipation as the city's residents retired to their homes, oblivious to the unfolding events. Inside the Vermeulen Gallery, Thomas weaved silently through the maze-like corridors, his steps muffled by the lush carpet beneath his feet. He found himself standing in front of the most prized exhibit of the night - a collection of looted art, each canvas teeming with untold stories.  With precision and grace, Thomas initiated his heist. He disabled security cameras and motion sensors, rendering the gallery vulnerable to his silent infiltration. Tightly clad in black, he moved like a phantom, his nimble fingers manipulating state-of-the-art locks with practiced ease. The hallowed walls of the Vermeulen Gallery did little to deter him; rather, they fueled his resolve to right the wrongs committed against the victims of history.  As the dawn broke, bathed in hues of soft pink and gold, Thomas succeeded in liberating the stolen art from their ornate frames. The stolen masterpieces were carefully tucked away, secreted within hidden compartments, waiting for their long-awaited return. But unbeknownst to Thomas, remnants of the past were stirring, threatening to expose his carefully conceived plan.  A tenacious investigative journalist named Emma Collins had stumbled upon a lead, a whisper within art circles that something extraordinary was about to occur. Indefatigable by nature, Emma was driven by an insatiable thirst for truth. Aware of the dark history surrounding the stolen art, she vowed to expose the elusive phantom and ensure the rightful return of the paintings.  In a gripping race against time, Emma followed the trail of breadcrumbs left by Thomas, deftly navigating the labyrinthine underworld of art theft. Thomas, evasive and elusive, remained one step ahead, his plan unfolding with the precision of clockwork. But as Thomas matched wits with Emma, an unexpected alliance formed, and together they unveiled the true magnitude of the stolen art's legacy.  With the stolen art secured, Thomas and Emma embarked on a treacherous journey to honor the memories of the Holocaust victims. Amidst whispers of conspiracy and deceit, they unearthed a hidden network responsible for trafficking stolen art, tracing its roots back to the darkest moments of human history.  Their long and arduous journey ultimately led them to a secret safe house, nestled far away in a remote European village. Behind heavily fortified walls, the stolen masterpieces were returned to their rightful heirs, their rightful place within the annals of art history restored. Tears mingled with whispered gratitude as the surviving relatives gazed upon the ethereal beauty of their ancestors' creations.  In the end, justice prevailed, and the true power of art to transcend time and tragedy was once again evident. The Vermeulen Gallery became a beacon of hope, a testament to the resilience of the human spirit, and a reminder that stolen treasures, no matter how hidden, can be reclaimed and restored to their rightful place in the tapestry of history.\n",
            "-------------------\n"
          ]
        }
      ]
    },
    {
      "cell_type": "markdown",
      "source": [
        "#### **Creating a Mental Health Support Prompt Using LangChain**"
      ],
      "metadata": {
        "id": "GsrE4Py-NOfv"
      }
    },
    {
      "cell_type": "code",
      "source": [
        "from langchain import PromptTemplate, LLMChain\n",
        "\n",
        "def create_prompt(sample):\n",
        "    # Creating prompt for large language model\n",
        "    pre_prompt = \"\"\"[INST] <<SYS>>\\nImagine you are the author of this story. Your task is to continue the narrative and unfold the plot. Introduce new characters, unexpected twists, and exciting events. Feel free to unleash your creativity and have fun crafting the next part of the story!\\n\"\"\"\n",
        "    prompt = pre_prompt + \"{Story}[\\INST]\"\n",
        "\n",
        "    # Extract Story from the sample\n",
        "    example_response = sample['Story']\n",
        "\n",
        "    # Create a prompt using the template and the example\n",
        "    prompt_template = PromptTemplate(template=prompt, input_variables=['Story'])\n",
        "    single_turn_prompt = prompt_template.format(Story=example_response)\n",
        "\n",
        "    return single_turn_prompt\n"
      ],
      "metadata": {
        "id": "ODT1bEaqNnUt"
      },
      "execution_count": 25,
      "outputs": []
    },
    {
      "cell_type": "markdown",
      "source": [
        "#### **Generating LangChain Prompt for a Training Subset Examples**"
      ],
      "metadata": {
        "id": "UlGNZwpBp_As"
      }
    },
    {
      "cell_type": "code",
      "source": [
        "prompt = create_prompt(train_subset[0])\n",
        "print(prompt)"
      ],
      "metadata": {
        "colab": {
          "base_uri": "https://localhost:8080/"
        },
        "id": "LuyCQOOdLnci",
        "outputId": "e35f33b5-2774-46b9-9abf-c12b585bea3a"
      },
      "execution_count": 26,
      "outputs": [
        {
          "output_type": "stream",
          "name": "stdout",
          "text": [
            "[INST] <<SYS>>\n",
            "Imagine you are the author of this story. Your task is to continue the narrative and unfold the plot. Introduce new characters, unexpected twists, and exciting events. Feel free to unleash your creativity and have fun crafting the next part of the story!\n",
            "In the bustling city of New York, where the neon lights flickered and the sound of traffic reverberated through the streets, lived a man named Ethan Sullivan. With his chiseled jawline, piercing blue eyes, and a physique carved by years of training, Ethan possessed an air of mystery that intrigued those who crossed his path. He lived a solitary life in a modest apartment, spending his days as an accountant, his nights cloaked in shadows and secrecy.  One fateful morning, as the city awoke to the rhythmic beat of its own heartbeat, Ethan received a cryptic message on a burner phone. It simply stated, \"They're coming for you.\" His heart quickened, and a wave of apprehension washed over him. Who were \"they,\" and why were they after him? Ethan's blood ran cold, fueling a surge of adrenaline that urged him to take action.  Without a moment's hesitation, Ethan gathered his meager belongings and made his way to a hidden room beneath his apartment. The room, concealed behind a bookshelf, was a secret sanctuary where he had spent countless hours honing his skills and preparing for the unknown. As he descended the narrow staircase, the walls whispered tales of peril and resilience, fueling his determination.  Days turned into nights, and the hunt for Ethan intensified. He navigated the city's labyrinthine underworld, seeking answers to the questions that shadowed his every step. His pursuit brought him face to face with a network of spies, double agents, and dangerous mercenaries, all entangled in a web of deception. Ethan's resilience was pushed to its limits as he evaded their clutches, relying on his training and instincts to outwit his adversaries.  Amidst the chaos, Ethan discovered a hidden connection between himself and the mysterious organization that sought his demise. Unbeknownst to him, he possessed an uncanny ability to unlock long-dormant memories, memories that held the key to an ancient artifact rumored to possess unimaginable power. This revelation marked a turning point in his quest, as he realized that his actions were not only a matter of personal survival but threatened the delicate balance of the entire world.  With newfound purpose, Ethan embarked on a perilous journey across continents, battling foes and confronting the ghosts of his past. He delved into ancient texts, deciphering cryptic symbols and untangling riddles that led him closer to the artifact's secret location. The world around him trembled, unaware of the cataclysmic power that awaited should the artifact fall into the wrong hands.  In the heart of the Amazon rainforest, amidst lush foliage and echoing wildlife, Ethan reached the sacred temple where the artifact lay hidden. The air crackled with anticipation as he overcame treacherous trials, testing both his physical and mental prowess. With each obstacle conquered, his purpose grew clearer, his resolve unyielding.  Finally, standing on the precipice of destiny, Ethan found himself face to face with his nemesis, the orchestrator of his torment. A battle of wills ensued, each combatant matching the other blow for blow, weaving a deadly dance of strength and strategy. It was a battle that transcended the physical, a clash between opposing ideologies.  In the end, it was Ethan's unwavering determination that prevailed. With a final, decisive strike, he thwarted his enemy's plans and secured the artifact, safeguarding the world from its malevolence. The weight of his actions settled upon him, and as he gazed upon the artifact, he understood the responsibility that came with its power.  With the threat vanquished and the world saved, Ethan's journey drew to a close. He returned to his solitary life in New York, no longer haunted by the phantom of impending danger. Yet, his actions had left an indelible mark upon his soul, a reminder that even in the face of insurmountable odds, one individual could make a difference. And with that knowledge, Ethan Sullivan embraced the path that lay ahead of him, ready to face whatever challenges may come his way.[\\INST]\n"
          ]
        }
      ]
    },
    {
      "cell_type": "code",
      "source": [
        "prompt = create_prompt(train_subset[1])\n",
        "print(prompt)"
      ],
      "metadata": {
        "colab": {
          "base_uri": "https://localhost:8080/"
        },
        "id": "evwVwgBAQnQs",
        "outputId": "8540cd30-73b0-4cbc-f85a-54e4d26a63eb"
      },
      "execution_count": 27,
      "outputs": [
        {
          "output_type": "stream",
          "name": "stdout",
          "text": [
            "[INST] <<SYS>>\n",
            "Imagine you are the author of this story. Your task is to continue the narrative and unfold the plot. Introduce new characters, unexpected twists, and exciting events. Feel free to unleash your creativity and have fun crafting the next part of the story!\n",
            "The sky stretched out before them, an endless expanse of blue pierced only by fluffy white clouds. The air crackled with the anticipation of action as the squadron gathered at the airfield, their sleek fighter jets gleaming under the noon sun. Among the pilots was Captain Joshua Bennett, a seasoned veteran with eyes as sharp as a hawk's, and a heart that beat with the rhythm of war.  Set in the midst of a raging conflict, the story takes place during the height of World War II. Captain Bennett, a fearless and daring leader, had earned his reputation through countless successful missions. He was known for his audacious maneuvers and masterful control of aircraft, traits that instilled confidence in every member of his squadron.  Their current mission was crucial - they were tasked with intercepting and neutralizing a squadron of enemy bombers bound for a nearby heavily fortified city. The stakes were high; failure meant devastation for countless lives on the ground. But failure was not an option for Captain Bennett and his men.  As they climbed into their cockpits, each pilot embraced the danger that lay ahead. The roar of engines filled the air, drowning out all other sounds. The planes taxied onto the runway, lined up with military precision. The countdown began, the moment drawing closer with each passing second.  With a thunderous roar, the planes rocketed into the clear blue sky. Wings unfolded, propellers spun, and the pilots adjusted their throttles to find the perfect balance of speed and maneuverability. The rush of wind whipped their faces as they gained altitude, soaring towards their destiny.  As they closed in on the enemy formation, the first hints of adrenaline coursed through their veins. The lead bomber came into view, its gray monstrosity blotting out the sun. It was a formidable target, bristling with defensive guns and encased in heavy armor.  Captain Bennett's voice broke through the radio static, calm yet tinged with intensity. \"Stick to the plan, gentlemen. Stay in formation, and watch each other's backs.\" The squadron spread their wings and formed a protective wall around their leader. It was time to engage.  In a dazzling display of aerial acrobatics and precision, the dogfight began. Fighter jets darted and weaved through the air, leaving white contrails in their wake. The deafening roar of engines mingled with the staccato bursts of gunfire. Maneuvers honed through countless hours of training were put to the test as the pilots pushed themselves to the limits.  Enemy tracers wove through the sky like deadly ribbons, threatening to tear the squadron apart. Captain Bennett's instincts kicked in, his eyes scanning the chaotic battlefield, searching for weak points. He made split-second decisions, radioing commands to his men as they fought tooth and nail against their adversaries.  Bullets grazed wings, but the pilots pressed on, clinging to that indomitable spirit of victory. They danced with death, their every move calculated and executed with utmost precision. Captain Bennett, like a maestro directing an orchestra, orchestrated the deadly symphony of war, leading his men with unwavering determination.  As the fight raged on, the squadron's efforts began to bear fruit. One enemy bomber after another plummeted from the sky, engulfed in billowing flames. The sky turned into a kaleidoscope of smoke and fire, a testament to their courage and skill. The tide began to turn, the remaining enemy formations faltering under the relentless onslaught.  And then, silence fell upon the battlefield. The enemy bombers lay shattered and defeated, scattered like forlorn chess pieces across the sky. The squadron, weary yet triumphant, regrouped in a display of unity and solidarity.  Captain Bennett's voice broke through the radio once again, this time filled with pride. \"Well done, gentlemen. Another victory for the history books.\" The cheers of his comrades echoed in the air, mingling with the sea breeze.  As the planes headed back to base, engines humming in synchrony, the captain couldn't help but smile. They had prevailed against all odds, proving their mettle in the crucible of combat. He knew that their actions had made a difference, had saved lives, and kept hope alive in the hearts of those on the ground.  Their legacy as warriors in the skies would forever be remembered, etched in the annals of history. And Captain Joshua Bennett, the fearless leader who led his squadron with unwavering resolve, would forever be hailed as a hero, a beacon of courage in the darkest of times.[\\INST]\n"
          ]
        }
      ]
    },
    {
      "cell_type": "code",
      "source": [
        "prompt = create_prompt(train_subset[2])\n",
        "print(prompt)"
      ],
      "metadata": {
        "colab": {
          "base_uri": "https://localhost:8080/"
        },
        "id": "xTz5vN9AQIZ0",
        "outputId": "859e230e-abc6-4abb-da8b-71dff2556a7b"
      },
      "execution_count": 28,
      "outputs": [
        {
          "output_type": "stream",
          "name": "stdout",
          "text": [
            "[INST] <<SYS>>\n",
            "Imagine you are the author of this story. Your task is to continue the narrative and unfold the plot. Introduce new characters, unexpected twists, and exciting events. Feel free to unleash your creativity and have fun crafting the next part of the story!\n",
            "In the midst of a bustling metropolis teeming with skyscrapers that seemingly touched the heavens, nestled a small and unassuming garage. It belonged to Ethan, a young and brilliant engineer consumed by his insatiable thirst for innovation and adventure. With grease-stained hands and a mind full of ideas, he spent every waking hour tinkering and crafting marvelous inventions that could turn dreams into reality.  One fateful afternoon, while rummaging through a box filled with ancient blueprints, Ethan stumbled upon a peculiar schematic. It depicted a colossal machine, a menacing giant robot with gleaming steel limbs and an aura of unstoppable power. Intrigued and fascinated, he couldn't resist the temptation to bring this mechanical behemoth to life.  Days turned into weeks, and nights melted away as Ethan toiled tirelessly in his secluded workshop, pouring every ounce of his skill and determination into the construction of his masterpiece. Finally, after countless sleepless nights, his creation stood before him in all its majestic glory - a formidable mech equipped with an array of devastating weapons, ready to challenge any foe that dared face it.  News of Ethan's extraordinary creation spread like wildfire across the city, catching the attention of a notorious and power-hungry conglomerate known as IronCorp Industries. Their enigmatic leader, Raymond Blackwood, was a zealous man who sought to dominate the world using an army of unstoppable robots. Enraged by the presence of a potential rival, Blackwood devised a sinister plan to steal Ethan's invention, ensuring his own hegemony remained unchallenged.  As dusk settled over the city, Ethan climbed into the cockpit of his mighty mech, aptly named \"Ironfire,\" and prepared for battle. He had heard whispers of IronCorp's plans and knew that he must act swiftly to protect his creation, and by extension, the very heart of innovation itself.  Engulfed in the shadows, Ethan set out on a perilous journey through the dimly lit streets, radar systems humming softly as he tracked the movements of IronCorp's relentless forces. Every corner of the city seemed to pulsate with danger, each alleyway hiding a potential ambush. But Ethan's resolve burned bright, and with every step, his heart raced with a mix of anticipation and desperation.  Finally, deep within the heart of an abandoned factory, a cacophony of metallic growls echoed ominously. Ironfire stepped forward, ready to face an army of imposing IronCorp robots driven by malice and greed. As the battle raged on, Ethan's instincts and intimate knowledge of his creation guided him. He evaded crushing blows and countered with devastating precision, each strike in perfect harmony with the symphony of danger that surrounded him.  In a climactic clash of metal and might, Ironfire unleashed a powerful surge of energy that coursed through the remnants of IronCorp's defeated robots. Sparks danced and smoke filled the air, the battle leaving nothing but a wake of debris in its path. Ethan stood triumphant, having defended his creation and regained his vision of a world where innovation thrived untethered.  Word of Ethan's heroic victory spread throughout the city, and he became a legend, a symbol of defiance against corporate tyranny. IronCorp, left in shambles, retreated into the shadows, their dreams of domination shattered. From that day forward, the city monumentally shifted, embracing a new era where aspiring inventors and unyielding dreamers were celebrated and cherished.  As the sun set on the horizon, bathing the city in hues of crimson and gold, Ethan surveyed the landscape that had once been plagued by darkness. A smile graced his lips, knowing that he had played a pivotal role in defending the very essence of action and innovation against overwhelming odds. And with newfound hope in his heart, he embarked on a journey to inspire a generation and forge a future where dreams knew no boundaries.[\\INST]\n"
          ]
        }
      ]
    },
    {
      "cell_type": "markdown",
      "source": [
        "#### **Generating LangChain Prompt for a Testing Subset Examples**"
      ],
      "metadata": {
        "id": "CAVNLGRbqPTB"
      }
    },
    {
      "cell_type": "code",
      "source": [
        "prompt = create_prompt(test_subset[0])\n",
        "print(prompt)"
      ],
      "metadata": {
        "colab": {
          "base_uri": "https://localhost:8080/"
        },
        "id": "tSyvpJ3MQy2V",
        "outputId": "be63e083-cf15-4706-c2aa-73cde344f32c"
      },
      "execution_count": 29,
      "outputs": [
        {
          "output_type": "stream",
          "name": "stdout",
          "text": [
            "[INST] <<SYS>>\n",
            "Imagine you are the author of this story. Your task is to continue the narrative and unfold the plot. Introduce new characters, unexpected twists, and exciting events. Feel free to unleash your creativity and have fun crafting the next part of the story!\n",
            "In the heart of Boston sits the grand Isabella Stewart Gardner Museum, an oasis of art and culture. With its ornate architecture and lush gardens, the museum is a testament to beauty and history. Within its walls resides a breathtaking collection of masterpieces by the greatest artists of all time.  It was a cool spring evening when two men, Mark and Ethan, stood outside the museum, their eyes fixed on the magnificent building that lay before them. They were not ordinary visitors or enthusiasts; they were art thieves plotting a daring heist. The allure of the Gardner Museum's valuable treasures had drawn them in like moths to a flame.  Mark, a seasoned thief with an eye for detail, had spent months carefully studying the museum's layout, security systems, and the positioning of the most prized artworks. Ethan, his young and eager apprentice, had admired Mark's skills and had accepted the opportunity to learn from a master.  They had painstakingly planned every step of the operation, their goal set on stealing the valuable works of art without a trace. On that fateful evening, Mark and Ethan disguised themselves as maintenance workers, armed with forged identification and knowledge of the museum's protocols.  Once inside, they moved swiftly through the dimly lit halls, their steps muffled by the soft carpet beneath their feet. As they reached the Dutch Room, home to the famous Vermeer painting \"The Concert\" and several other priceless artworks, their hearts raced with anticipation.  Mark skillfully disabled the security systems, while Ethan carefully removed the irreplaceable art from their frames. Their hands trembled with a mix of adrenaline and reverence, understanding the magnitude of what they were about to commit. They wrapped the stolen masterpieces meticulously, securing them in specialized cases designed to protect the fragile canvases.  With their hooded jackets draped over their arms, the two thieves made their way back through the museum, their every move measured and calculated. They exited through an emergency door, blending into the night like phantoms in the darkness.  Days turned into weeks, and the stolen artworks remained hidden away in a secret location. Yet, the absence of the masterpieces did not go unnoticed. The Gardner Museum's director, Mary, was devastated when she discovered the theft. The loss of these priceless treasures left a void within the museum's walls and in the hearts of art lovers worldwide.  News of the heist spread like wildfire, captivating the public's imagination. It became a topic of conversation in art circles and a source of fascination for investigators. As the museum worked tirelessly with law enforcement agencies, a reward was offered for any information that could lead to the recovery of the stolen artwork—a staggering $10 million.  Amidst the chaos, an anonymous tip arrived at the museum's doorstep, providing a glimmer of hope. The tipster claimed to have information about the whereabouts of the stolen art. Mary, desperate for any leads, welcomed the stranger into her office, agreeing to the terms of utmost secrecy.  The informant revealed a convoluted tale of betrayal and double-crossing. It seemed that within the criminal underworld, the stolen works had changed hands multiple times. The informant, who had a personal vendetta against one of the thieves, divulged their current location.  Working in close cooperation with law enforcement, Mary planned a daring raid to retrieve the stolen works. The early morning was shrouded in anticipation as the authorities closed in on the hideout. They had hoped for a swift, silent operation, but their target had been tipped off.  A frantic chase ensued through narrow alleys and abandoned buildings. Officers pursued the fleeing thieves, their collective determination overpowering any physical exhaustion they may have felt. As the criminals tried to escape, they were cornered in an old warehouse.  Gunshots pierced the dusty air, followed by shouts and the clatter of footsteps against a grimy floor. When the dust settled, the stolen masterpieces lay scattered across the ground, free from the grasp of those who sought to profit from their beauty.  Returning to the Gardner Museum, Mary stood before the restored Vermeer painting, her eyes welling up with tears. The stolen art had been successfully recovered, thanks to the unwavering dedication of the authorities and the resilience of those who refused to let the heist overshadow the museum's cultural significance.  The Gardner Museum art theft became a cautionary tale, a reminder of the eternal conflict between those who seek to possess beauty and the defenders who stand guard. And within the grand halls of the museum, the stolen artworks were once again displayed, a testament to the enduring power of art and the triumph of justice.[\\INST]\n"
          ]
        }
      ]
    },
    {
      "cell_type": "code",
      "source": [
        "prompt = create_prompt(test_subset[1])\n",
        "print(prompt)"
      ],
      "metadata": {
        "colab": {
          "base_uri": "https://localhost:8080/"
        },
        "id": "YWFQoChcQ1W5",
        "outputId": "8b423e9a-5e5e-4eff-a4d2-5895548a6cee"
      },
      "execution_count": 30,
      "outputs": [
        {
          "output_type": "stream",
          "name": "stdout",
          "text": [
            "[INST] <<SYS>>\n",
            "Imagine you are the author of this story. Your task is to continue the narrative and unfold the plot. Introduce new characters, unexpected twists, and exciting events. Feel free to unleash your creativity and have fun crafting the next part of the story!\n",
            "In the hushed halls of the grand Belvedere Palace, where a myriad of masterpieces adorned the walls, stood the renowned painting—Gustav Klimt's \"The Kiss.\" Its exquisite depiction of two lovers locked in an eternal embrace captivated the hearts and minds of all who beheld it. Immersed in its artistic brilliance, visitors from near and far flocked to the museum, eager to witness this iconic masterpiece firsthand. But unbeknownst to the curator and the enchanted crowd, a nefarious plot was about to unfold.  Deep within the shadows of the city, a notorious art thief named Raphael Thorne conceived a daring plan to steal \"The Kiss.\" Known for his audacious heists, Thorne had successfully pilfered priceless works of art from the world's most secure museums, leaving the authorities baffled. As whispers of his next conquest echoed through the art underworld, the elegant Belvedere Palace became his latest target.  Under cover of darkness, Thorne assembled a carefully selected team of accomplices, each with their own unique set of skills. There was Isabella, a seductive master of disguise who could seamlessly blend into any crowd, and Nicholas, a brilliant locksmith with an uncanny ability to open even the most intricate of safes. Together, they formed a formidable force, united by their shared passion for acquiring priceless treasures.  Unbeknownst to Thorne, one of his trusted accomplices, Olivia, had a change of heart. A former art aficionado herself, she had fallen under the spell of \"The Kiss.\" Consumed by guilt, she sought to protect the masterpiece from the clutches of her criminal comrades. Olivia's mind raced with ways to sabotage the heist and save Klimt's beloved painting from an uncertain fate.  The fateful night arrived, shrouding the Belvedere Palace in an eerie silence. Thorne and his team stealthily infiltrated the museum, their every step calculated and precise. Drawing nearer to the gallery where \"The Kiss\" awaited, their hearts raced with anticipation. The team's meticulous planning was about to be put to the ultimate test.  Just as Thorne's gloved hand reached out to pluck the painting from the wall, Olivia sprung into action. In a swift and unexpected move, she tripped an alarm, shattering the silence that enveloped the palace. Panic ensued as alarms blared, lights flashed, and security guards swarmed the scene.  Caught off guard by Olivia's betrayal, Thorne and his team scrambled to regain control of the situation. Isabella swiftly changed her appearance, becoming unrecognizable amidst the chaos. Nicholas, ever resourceful, devised an elaborate diversion, diverting the guards' attention away from their true intentions. But amidst the commotion, \"The Kiss\" remained untouched, guarded by an impenetrable security system.  As the authorities closed in on Thorne and his team, Olivia, desperate to make amends, made a daring move. With a mixture of guilt and determination, she risked her own safety to guide the police to the hiding place where Thorne had stashed his prior art heists. In doing so, she hoped to demonstrate her newfound redemption and secure the future of \"The Kiss.\"  With Olivia's help, the police arrived just in time to apprehend Thorne and his team, putting an end to their reign of art thievery. The stolen artworks were swiftly returned to their rightful homes, and the Belvedere Palace descended into a collective sigh of relief. As for \"The Kiss,\" it remained unscathed, proudly displayed for all to admire once more.  Years later, the tale of the audacious art heist at the Belvedere Palace would become the stuff of legend—a captivating story of treachery, redemption, and the enduring power of art. And Gustav Klimt's \"The Kiss\" served as a lasting reminder that even in the face of danger, the beauty forged by human hands would forever inspire and captivate the world.[\\INST]\n"
          ]
        }
      ]
    },
    {
      "cell_type": "code",
      "source": [
        "prompt = create_prompt(test_subset[2])\n",
        "print(prompt)"
      ],
      "metadata": {
        "colab": {
          "base_uri": "https://localhost:8080/"
        },
        "id": "I0BsM4NnQ23n",
        "outputId": "4f6708ea-1e34-4141-d33e-b022d5e0c965"
      },
      "execution_count": 31,
      "outputs": [
        {
          "output_type": "stream",
          "name": "stdout",
          "text": [
            "[INST] <<SYS>>\n",
            "Imagine you are the author of this story. Your task is to continue the narrative and unfold the plot. Introduce new characters, unexpected twists, and exciting events. Feel free to unleash your creativity and have fun crafting the next part of the story!\n",
            "The gallery was dimly lit, a hushed silence enveloping the room as visitors moved reverently from one masterpiece to another. Nestled within the heart of the city, the prestigious Vermeulen Gallery stood as a bastion of artistic brilliance, housing an impressive collection of priceless works. Amongst those works were several paintings, steeped in history and tragedy, stolen from Holocaust victims during the dark days of World War II. These stolen masterpieces whispered tales of sorrow and loss, waiting to be returned to their rightful owners.  Unknown to the gallery's patrons, a shadowy figure named Thomas 'The Phantom' Wagner had long harbored a plan to liberate the stolen art and restore justice. A master connoisseur and thief, Thomas possessed a unique set of skills. His sophisticated network of informants had alerted him to the presence of the looted art in the Vermeulen Gallery, sparking a flicker of hope in his heart. With this information, Thomas meticulously devised a plan, a web of deceit and cunning that would shake the art world to its core.  The night air was thick with anticipation as the city's residents retired to their homes, oblivious to the unfolding events. Inside the Vermeulen Gallery, Thomas weaved silently through the maze-like corridors, his steps muffled by the lush carpet beneath his feet. He found himself standing in front of the most prized exhibit of the night - a collection of looted art, each canvas teeming with untold stories.  With precision and grace, Thomas initiated his heist. He disabled security cameras and motion sensors, rendering the gallery vulnerable to his silent infiltration. Tightly clad in black, he moved like a phantom, his nimble fingers manipulating state-of-the-art locks with practiced ease. The hallowed walls of the Vermeulen Gallery did little to deter him; rather, they fueled his resolve to right the wrongs committed against the victims of history.  As the dawn broke, bathed in hues of soft pink and gold, Thomas succeeded in liberating the stolen art from their ornate frames. The stolen masterpieces were carefully tucked away, secreted within hidden compartments, waiting for their long-awaited return. But unbeknownst to Thomas, remnants of the past were stirring, threatening to expose his carefully conceived plan.  A tenacious investigative journalist named Emma Collins had stumbled upon a lead, a whisper within art circles that something extraordinary was about to occur. Indefatigable by nature, Emma was driven by an insatiable thirst for truth. Aware of the dark history surrounding the stolen art, she vowed to expose the elusive phantom and ensure the rightful return of the paintings.  In a gripping race against time, Emma followed the trail of breadcrumbs left by Thomas, deftly navigating the labyrinthine underworld of art theft. Thomas, evasive and elusive, remained one step ahead, his plan unfolding with the precision of clockwork. But as Thomas matched wits with Emma, an unexpected alliance formed, and together they unveiled the true magnitude of the stolen art's legacy.  With the stolen art secured, Thomas and Emma embarked on a treacherous journey to honor the memories of the Holocaust victims. Amidst whispers of conspiracy and deceit, they unearthed a hidden network responsible for trafficking stolen art, tracing its roots back to the darkest moments of human history.  Their long and arduous journey ultimately led them to a secret safe house, nestled far away in a remote European village. Behind heavily fortified walls, the stolen masterpieces were returned to their rightful heirs, their rightful place within the annals of art history restored. Tears mingled with whispered gratitude as the surviving relatives gazed upon the ethereal beauty of their ancestors' creations.  In the end, justice prevailed, and the true power of art to transcend time and tragedy was once again evident. The Vermeulen Gallery became a beacon of hope, a testament to the resilience of the human spirit, and a reminder that stolen treasures, no matter how hidden, can be reclaimed and restored to their rightful place in the tapestry of history.[\\INST]\n"
          ]
        }
      ]
    },
    {
      "cell_type": "code",
      "source": [
        "prompt = create_prompt(test_subset[2])\n",
        "print(prompt)"
      ],
      "metadata": {
        "id": "8WJD5S3sIiO1",
        "colab": {
          "base_uri": "https://localhost:8080/"
        },
        "outputId": "1bcedca0-02e1-486b-cc3d-9dc076acd2f4"
      },
      "execution_count": 32,
      "outputs": [
        {
          "output_type": "stream",
          "name": "stdout",
          "text": [
            "[INST] <<SYS>>\n",
            "Imagine you are the author of this story. Your task is to continue the narrative and unfold the plot. Introduce new characters, unexpected twists, and exciting events. Feel free to unleash your creativity and have fun crafting the next part of the story!\n",
            "The gallery was dimly lit, a hushed silence enveloping the room as visitors moved reverently from one masterpiece to another. Nestled within the heart of the city, the prestigious Vermeulen Gallery stood as a bastion of artistic brilliance, housing an impressive collection of priceless works. Amongst those works were several paintings, steeped in history and tragedy, stolen from Holocaust victims during the dark days of World War II. These stolen masterpieces whispered tales of sorrow and loss, waiting to be returned to their rightful owners.  Unknown to the gallery's patrons, a shadowy figure named Thomas 'The Phantom' Wagner had long harbored a plan to liberate the stolen art and restore justice. A master connoisseur and thief, Thomas possessed a unique set of skills. His sophisticated network of informants had alerted him to the presence of the looted art in the Vermeulen Gallery, sparking a flicker of hope in his heart. With this information, Thomas meticulously devised a plan, a web of deceit and cunning that would shake the art world to its core.  The night air was thick with anticipation as the city's residents retired to their homes, oblivious to the unfolding events. Inside the Vermeulen Gallery, Thomas weaved silently through the maze-like corridors, his steps muffled by the lush carpet beneath his feet. He found himself standing in front of the most prized exhibit of the night - a collection of looted art, each canvas teeming with untold stories.  With precision and grace, Thomas initiated his heist. He disabled security cameras and motion sensors, rendering the gallery vulnerable to his silent infiltration. Tightly clad in black, he moved like a phantom, his nimble fingers manipulating state-of-the-art locks with practiced ease. The hallowed walls of the Vermeulen Gallery did little to deter him; rather, they fueled his resolve to right the wrongs committed against the victims of history.  As the dawn broke, bathed in hues of soft pink and gold, Thomas succeeded in liberating the stolen art from their ornate frames. The stolen masterpieces were carefully tucked away, secreted within hidden compartments, waiting for their long-awaited return. But unbeknownst to Thomas, remnants of the past were stirring, threatening to expose his carefully conceived plan.  A tenacious investigative journalist named Emma Collins had stumbled upon a lead, a whisper within art circles that something extraordinary was about to occur. Indefatigable by nature, Emma was driven by an insatiable thirst for truth. Aware of the dark history surrounding the stolen art, she vowed to expose the elusive phantom and ensure the rightful return of the paintings.  In a gripping race against time, Emma followed the trail of breadcrumbs left by Thomas, deftly navigating the labyrinthine underworld of art theft. Thomas, evasive and elusive, remained one step ahead, his plan unfolding with the precision of clockwork. But as Thomas matched wits with Emma, an unexpected alliance formed, and together they unveiled the true magnitude of the stolen art's legacy.  With the stolen art secured, Thomas and Emma embarked on a treacherous journey to honor the memories of the Holocaust victims. Amidst whispers of conspiracy and deceit, they unearthed a hidden network responsible for trafficking stolen art, tracing its roots back to the darkest moments of human history.  Their long and arduous journey ultimately led them to a secret safe house, nestled far away in a remote European village. Behind heavily fortified walls, the stolen masterpieces were returned to their rightful heirs, their rightful place within the annals of art history restored. Tears mingled with whispered gratitude as the surviving relatives gazed upon the ethereal beauty of their ancestors' creations.  In the end, justice prevailed, and the true power of art to transcend time and tragedy was once again evident. The Vermeulen Gallery became a beacon of hope, a testament to the resilience of the human spirit, and a reminder that stolen treasures, no matter how hidden, can be reclaimed and restored to their rightful place in the tapestry of history.[\\INST]\n"
          ]
        }
      ]
    },
    {
      "cell_type": "markdown",
      "source": [
        "### **Initializing the Model**\n",
        "* Load the model using a 4-bit configuration, employing double quantization, and set bfloat16 as the compute data type.\n",
        "\n",
        "* Notably, we opt for the instruct-tuned model in this instance rather than the base model. It's worth mentioning that fine-tuning a base model necessitates a more substantial amount of data!"
      ],
      "metadata": {
        "id": "4qjy9PYUaY3W"
      }
    },
    {
      "cell_type": "code",
      "source": [
        "from transformers import AutoModelForCausalLM, AutoTokenizer, BitsAndBytesConfig\n",
        "import torch\n",
        "\n",
        "# Activate 4-bit precision base model loading\n",
        "use_4bit = True\n",
        "\n",
        "# Compute dtype for 4-bit base models\n",
        "bnb_4bit_compute_dtype = \"float16\"\n",
        "\n",
        "# Quantization type (fp4 or nf4)\n",
        "bnb_4bit_quant_type = \"nf4\"\n",
        "\n",
        "# Activate nested quantization for 4-bit base models (double quantization)\n",
        "use_nested_quant = False\n",
        "\n",
        "# Load tokenizer and model with QLoRA configuration\n",
        "compute_dtype = getattr(torch, bnb_4bit_compute_dtype)\n",
        "\n",
        "\n",
        "bnb_config = BitsAndBytesConfig(\n",
        "    load_in_4bit=use_4bit,\n",
        "    bnb_4bit_quant_type=bnb_4bit_quant_type,\n",
        "    bnb_4bit_compute_dtype=compute_dtype,\n",
        "    bnb_4bit_use_double_quant=use_nested_quant,\n",
        ")"
      ],
      "metadata": {
        "id": "P60Ij4YdS-Rc"
      },
      "execution_count": 33,
      "outputs": []
    },
    {
      "cell_type": "code",
      "source": [
        "# Check GPU compatibility with bfloat16\n",
        "if compute_dtype == torch.float16 and use_4bit:\n",
        "    major, _ = torch.cuda.get_device_capability()\n",
        "    if major >= 8:\n",
        "        print(\"=\" * 80)\n",
        "        print(\"Your GPU supports bfloat16: accelerate training with bf16=True\")\n",
        "        print(\"=\" * 80)"
      ],
      "metadata": {
        "id": "8_B2E4xCoKhO"
      },
      "execution_count": 34,
      "outputs": []
    },
    {
      "cell_type": "markdown",
      "source": [
        "* **Model and Tokenizer:** https://huggingface.co/NousResearch/Llama-2-7b-chat-hf"
      ],
      "metadata": {
        "id": "BAKb1MQOXzG7"
      }
    },
    {
      "cell_type": "code",
      "source": [
        "mode_id = \"NousResearch/Llama-2-7b-chat-hf\""
      ],
      "metadata": {
        "id": "LY1mIvbkCJij"
      },
      "execution_count": 35,
      "outputs": []
    },
    {
      "cell_type": "code",
      "source": [
        "model = AutoModelForCausalLM.from_pretrained(\n",
        "        mode_id, quantization_config=bnb_config, device_map=\"auto\", use_cache=False\n",
        "    )"
      ],
      "metadata": {
        "colab": {
          "base_uri": "https://localhost:8080/",
          "height": 330,
          "referenced_widgets": [
            "c579f9c8d7884f3ebda735ea449ac111",
            "7f90a36510a54e1b96d936d8e6264828",
            "807a77cfa13643799cd954127fe85875",
            "71ed983a9ca54d56a278c9da3af1beeb",
            "4c348c9abda64430a8ded31e08fcf038",
            "49963939811e4b9fbd5a47ecf583aade",
            "37b00ba2a8744c9eb4d047dc28ca5da6",
            "f9fa735188a040e1b9e07ed8f19de6c2",
            "c9f756d3b7ac46f49cc3b335bcd554c6",
            "04f3ac2dc6d24529ac1f3fd4fbdad43b",
            "8d0007dadc3140b0841606cbe8bde4fd",
            "3e710a50b65347ac9d5cf8f436267db4",
            "e63f63b331fd4d75af94c4207f41e59a",
            "a5607a916b994fe2b0083f8775f25104",
            "cb22ca3d78c4415ab934f026a8db0f66",
            "0dfc476555594065be005db65bc7bf93",
            "2368fa2f183f495194929f973a4012e4",
            "dd12adebbfdc471583b0cb1099300fdb",
            "0063c681f3894606a98dac2fee492921",
            "f5981c6dd2df47b0b4007f45789a69f4",
            "0e561f5172e240d4b459114b67780731",
            "4a7a873b2cf14698bccb8e5577c529d5",
            "efc46f4c67a649f9ad91da32e9b2d196",
            "ccc6eda3b0c24008820d1623596486b3",
            "0658167590b6432b81328759e506ce9c",
            "b693d17d4a5744a2b9540bc799cb0704",
            "cd8ab0bdf90d468cbeb55dc5ca4c6b90",
            "0295d21b986c407d846df9aeabf51eca",
            "dfd169cd812044ebbe778d1f5c90dfbe",
            "5177a15dbc254a5da5b20d645d539661",
            "39432300f6d04c3ba1b532ffd8b393be",
            "70d86958021d40a4a1ff50fced33e2df",
            "756bd266046c4b858eaa093efdb4c873",
            "afe95729e40b450d8dddc9a830464db3",
            "e9505eb4a1f744ddb7370a19f5cb02a9",
            "3c4b64cc3ca942a79172879b736a37d5",
            "31193f098f264b81b4860051f3172084",
            "222af34da1794be09fa7f08442220bda",
            "f1e3268458ff4e4c9457021a27fa8682",
            "c386b82b887f477ba61776edfcac8012",
            "e37f41dda63d40aa8879bd6a4e8938c0",
            "4a544d8f23cc4367a6dfe1257594e963",
            "a847986998574cf69fc7ec55e2ad1ae4",
            "eddec21920ce4aae803a74c5421cab1b",
            "9c7ed2663c09458599c101dadbff48e1",
            "d948993c28ae4431ab5da6d5428ee224",
            "20fe9c6d8b7f4c5f8a0b9e64d4963eae",
            "7d6ada10ad634e4cb2e9d53a5baebf1c",
            "12344d084a064b7483259a27ff695b97",
            "8e772cae9deb4e03ac77838b1be9d260",
            "95c09d6aa37f4c0cad07b46299b39e2d",
            "3d5612e91a924900a210eecf43327a32",
            "1b2a972012a04a8a8184a2fdd8b87a2b",
            "d5897e1d22094dc38e9859060351b423",
            "0bd69f99a7be4a1d9ae5e28c193b3d97",
            "024c6d844bf7489eafee00e6f529da1f",
            "189f1848feb14fe89a297a9dccdd768a",
            "09ee77864359407392723579bfe3544e",
            "cb5f6d711e224dbaa235eba49b3dd53d",
            "41478cbd987846b7943162c1fadaed63",
            "e81b106d4c674d8ba6af49c9b427333a",
            "f51981ce565f4085bb39954f7383fad1",
            "7485da1f00c54bc8bcbf61ad729ce2a9",
            "cb9db83e61f34074bbfdc643bbaad8b3",
            "1089292520344796a444672481440366",
            "c3f2945a590144c28e194a34c5e5a610",
            "9df2a5f1256441fcbc1df03036f9d411",
            "8863d41d6ba64520b07bd784c70fdee1",
            "0cdc04ea9df64a68afe2ec11c25d9ea9",
            "0d456570a7694ae496c3fd86729e571d",
            "9bb75bed5cea450c9abb9162ed8d2552",
            "506093069aae4479a96da8cc896c00de",
            "899cf5f028324678a0a4f430b7a3658f",
            "1c54dd7253d54a698d986f8cab397bbd",
            "c09106b4379f47a5ab579e5ea2bde4e1",
            "9ccbdc9ebe9240ba9214b55d51417a6f",
            "9cf62a1557154f7caa57e715b5f7f27c"
          ]
        },
        "id": "-KuZ1Az8eDnE",
        "outputId": "fcd2fdca-ff71-42d1-84b1-d9c2126066b6"
      },
      "execution_count": 36,
      "outputs": [
        {
          "output_type": "display_data",
          "data": {
            "text/plain": [
              "config.json:   0%|          | 0.00/583 [00:00<?, ?B/s]"
            ],
            "application/vnd.jupyter.widget-view+json": {
              "version_major": 2,
              "version_minor": 0,
              "model_id": "c579f9c8d7884f3ebda735ea449ac111"
            }
          },
          "metadata": {}
        },
        {
          "output_type": "display_data",
          "data": {
            "text/plain": [
              "model.safetensors.index.json:   0%|          | 0.00/26.8k [00:00<?, ?B/s]"
            ],
            "application/vnd.jupyter.widget-view+json": {
              "version_major": 2,
              "version_minor": 0,
              "model_id": "3e710a50b65347ac9d5cf8f436267db4"
            }
          },
          "metadata": {}
        },
        {
          "output_type": "display_data",
          "data": {
            "text/plain": [
              "Downloading shards:   0%|          | 0/2 [00:00<?, ?it/s]"
            ],
            "application/vnd.jupyter.widget-view+json": {
              "version_major": 2,
              "version_minor": 0,
              "model_id": "efc46f4c67a649f9ad91da32e9b2d196"
            }
          },
          "metadata": {}
        },
        {
          "output_type": "display_data",
          "data": {
            "text/plain": [
              "model-00001-of-00002.safetensors:   0%|          | 0.00/9.98G [00:00<?, ?B/s]"
            ],
            "application/vnd.jupyter.widget-view+json": {
              "version_major": 2,
              "version_minor": 0,
              "model_id": "afe95729e40b450d8dddc9a830464db3"
            }
          },
          "metadata": {}
        },
        {
          "output_type": "display_data",
          "data": {
            "text/plain": [
              "model-00002-of-00002.safetensors:   0%|          | 0.00/3.50G [00:00<?, ?B/s]"
            ],
            "application/vnd.jupyter.widget-view+json": {
              "version_major": 2,
              "version_minor": 0,
              "model_id": "9c7ed2663c09458599c101dadbff48e1"
            }
          },
          "metadata": {}
        },
        {
          "output_type": "display_data",
          "data": {
            "text/plain": [
              "Loading checkpoint shards:   0%|          | 0/2 [00:00<?, ?it/s]"
            ],
            "application/vnd.jupyter.widget-view+json": {
              "version_major": 2,
              "version_minor": 0,
              "model_id": "024c6d844bf7489eafee00e6f529da1f"
            }
          },
          "metadata": {}
        },
        {
          "output_type": "display_data",
          "data": {
            "text/plain": [
              "generation_config.json:   0%|          | 0.00/179 [00:00<?, ?B/s]"
            ],
            "application/vnd.jupyter.widget-view+json": {
              "version_major": 2,
              "version_minor": 0,
              "model_id": "9df2a5f1256441fcbc1df03036f9d411"
            }
          },
          "metadata": {}
        },
        {
          "output_type": "stream",
          "name": "stderr",
          "text": [
            "/usr/local/lib/python3.10/dist-packages/transformers/generation/configuration_utils.py:381: UserWarning: `do_sample` is set to `False`. However, `temperature` is set to `0.9` -- this flag is only used in sample-based generation modes. You should set `do_sample=True` or unset `temperature`. This was detected when initializing the generation config instance, which means the corresponding file may hold incorrect parameterization and should be fixed.\n",
            "  warnings.warn(\n",
            "/usr/local/lib/python3.10/dist-packages/transformers/generation/configuration_utils.py:386: UserWarning: `do_sample` is set to `False`. However, `top_p` is set to `0.6` -- this flag is only used in sample-based generation modes. You should set `do_sample=True` or unset `top_p`. This was detected when initializing the generation config instance, which means the corresponding file may hold incorrect parameterization and should be fixed.\n",
            "  warnings.warn(\n"
          ]
        }
      ]
    },
    {
      "cell_type": "code",
      "source": [
        "tokenizer = AutoTokenizer.from_pretrained(\"NousResearch/Llama-2-7b-chat-hf\")\n",
        "tokenizer.pad_token = tokenizer.eos_token\n",
        "tokenizer.padding_side = \"right\""
      ],
      "metadata": {
        "id": "9TzTWLD2WBZV",
        "colab": {
          "base_uri": "https://localhost:8080/",
          "height": 177,
          "referenced_widgets": [
            "76a554bad0be4945b9ee6a0ad4f800af",
            "cf3b7d4411634f31afb87149442cb986",
            "9774e91e077c4174afe84d867a7e2f43",
            "83dc204cdf3741a1a5283a17675de282",
            "ee93de43a44f435582e50d1083920af3",
            "47a05ef79d3543deb3cb9e4542ac7fed",
            "a2ac0139fa7a4c58ac895367ae2babce",
            "8ccaab505e45419c9bb8c47522c7eb5f",
            "52e8ab59735449b69ddced07216bdafa",
            "a81c6beb4cb8475eb6ebfb8ed8dba386",
            "84cc6b1353b94c69af849cfe95cd1822",
            "025a2f37af504439aa4109b13ea16f0b",
            "926469c66d1c4236ba303e1fcb4cfe59",
            "5522a6a0b1354e138e37788a7d3d8ec7",
            "072e61558d974d309ae04dcc773f1489",
            "eb8e1c7ec79b46fba320694358391ff7",
            "8a4abe91364e43dd8c4e169ffd766bf6",
            "ca9e467f0014438a97e805f83bbceab2",
            "240d9e35999c4f8a83009588d5363384",
            "bdca2139e87c4e05bac4815675ddcbd9",
            "edf9c402f9fd4f7597995eaf7edf7f0d",
            "e9167bec2ca049c4a6862a6c45f15f39",
            "6e62c95ca3c74c1e901c915075f508ae",
            "efb3df6c26ce42c883ca6aa1407be6f6",
            "3a82677ba0a4447abf7ad4dbbacdafc4",
            "4fede565d0a644598e98d96d5470995f",
            "3bc4c47712f746f5b6ffdb343d291c58",
            "126f9d4e56bb42eaad4f0cf4aefbfa46",
            "fea62dcab8db405ab4b21071dac24f8e",
            "6659378edeb649219507532cce071153",
            "1ec9f3f1223942329c2260459c5b0a9e",
            "787235bcab0a4cc5a21c9b0b63fcbe12",
            "8ebe7fbc67754e76b1a009b5a30bb245",
            "9480c7ca214a4e6c83a41481b1bb7805",
            "d3926b2f444747ac9e43c9cb11df5e94",
            "f0ef2df1dee6413c98444558314b391c",
            "4363d5b69e2349c0b0dc6bf7cbbb7e59",
            "c3c876be47af43dab5dcac49ee6241b5",
            "19b69566e9054ef98cee437003e99b9f",
            "5d7b2cadaf27401d8b6ef1bed710bae0",
            "0fb392f59175468b84298f802fa81c6d",
            "60263b727c1843c9ad66707a217efe56",
            "2e81ae1f846141f0b846e5d8e152a02b",
            "02cc63a779c0403393b3e6c815250a76",
            "dcdbf528e8f146c488d091289d99c5d3",
            "6550199c1ae0401aa6aec50df3b0613f",
            "bf632403f01846ebb26e6a99f36801fa",
            "3e42e3ae5d5447b4b0cc27ed86487bff",
            "e95831c11de641ea8204d39d7626d5ae",
            "7a6557e46d724346978bce19a15dafd7",
            "13f1e875e9fc49419daf449ab59c2321",
            "d1ad0fa3a6ef482a9bcbaaca4b230990",
            "863d63e22d274d95b3eab7dc50b43a9e",
            "c36b4cf4d5cf4955b031bdf7f81aaeca",
            "48ece0ca0f3f466b8b5cb4c030549c53"
          ]
        },
        "outputId": "1e93b31c-8277-42d4-eebb-3fe952b92ab1"
      },
      "execution_count": 37,
      "outputs": [
        {
          "output_type": "display_data",
          "data": {
            "text/plain": [
              "tokenizer_config.json:   0%|          | 0.00/746 [00:00<?, ?B/s]"
            ],
            "application/vnd.jupyter.widget-view+json": {
              "version_major": 2,
              "version_minor": 0,
              "model_id": "76a554bad0be4945b9ee6a0ad4f800af"
            }
          },
          "metadata": {}
        },
        {
          "output_type": "display_data",
          "data": {
            "text/plain": [
              "tokenizer.model:   0%|          | 0.00/500k [00:00<?, ?B/s]"
            ],
            "application/vnd.jupyter.widget-view+json": {
              "version_major": 2,
              "version_minor": 0,
              "model_id": "025a2f37af504439aa4109b13ea16f0b"
            }
          },
          "metadata": {}
        },
        {
          "output_type": "display_data",
          "data": {
            "text/plain": [
              "tokenizer.json:   0%|          | 0.00/1.84M [00:00<?, ?B/s]"
            ],
            "application/vnd.jupyter.widget-view+json": {
              "version_major": 2,
              "version_minor": 0,
              "model_id": "6e62c95ca3c74c1e901c915075f508ae"
            }
          },
          "metadata": {}
        },
        {
          "output_type": "display_data",
          "data": {
            "text/plain": [
              "added_tokens.json:   0%|          | 0.00/21.0 [00:00<?, ?B/s]"
            ],
            "application/vnd.jupyter.widget-view+json": {
              "version_major": 2,
              "version_minor": 0,
              "model_id": "9480c7ca214a4e6c83a41481b1bb7805"
            }
          },
          "metadata": {}
        },
        {
          "output_type": "display_data",
          "data": {
            "text/plain": [
              "special_tokens_map.json:   0%|          | 0.00/435 [00:00<?, ?B/s]"
            ],
            "application/vnd.jupyter.widget-view+json": {
              "version_major": 2,
              "version_minor": 0,
              "model_id": "dcdbf528e8f146c488d091289d99c5d3"
            }
          },
          "metadata": {}
        }
      ]
    },
    {
      "cell_type": "markdown",
      "source": [
        "### **Let's example how well the model does at this task currently  (without training):**\n",
        "* `do_sample:`This parameter controls whether to use sampling during text generation. When do_sample is set to True, the model samples words for the next token based on their probabilities. If set to False, the model uses greedy decoding and selects the token with the highest probability at each step.\n",
        "* `pad_token_id:` This parameter represents the token ID used for padding in the tokenizer. In text generation, it's common to set the padding token to the end-of-sequence token (eos_token_id) to ensure that the generated text is complete.\n",
        "* `top_k:` top_k controls the number of highest probability options considered during sampling. For each token, the model will limit the sampling to the top k tokens with the highest probabilities.\n",
        "* **High top_k Value:** More deterministic and focused generation. The\n",
        "model considers a larger number of top probability options, resulting in conservative and predictable outputs.\n",
        "* **Low top_k Value:** More randomness in sampling. The model restricts the number of top probability options, leading to diverse and creative text generation, but it may result in less coherent or focused output.\n",
        "\n",
        "* `top_p:` top_p is used in nucleus sampling, where the model considers the cumulative probability mass of the top tokens and stops sampling when it reaches a predefined threshold. It helps in preventing the model from being overly verbose and encourages diversity in the generated text.\n",
        "* **High top_p Value:** Promotes diverse and varied text generation by considering a larger range of probable tokens. It's good for creating exploratory and varied outputs.\n",
        "* **Low top_p Value:** Adopts a stricter threshold for selecting tokens, resulting in more conservative and focused text generation. This may lead to more deterministic outputs closely tied to the most probable tokens.\n",
        "* `temperature:` temperature controls the level of randomness in the sampling process. A higher temperature (e.g., 1.0) increases randomness, making the generated text more diverse. Lower values (e.g., 0.8) make the sampling more deterministic, with the model focusing on higher probability tokens.\n",
        "\n",
        "**Documentation Link:**\n",
        "* https://python.langchain.com/docs/integrations/llms/huggingface_pipelines\n"
      ],
      "metadata": {
        "id": "dlQxPyiKi51k"
      }
    },
    {
      "cell_type": "code",
      "source": [
        "from langchain_community.llms.huggingface_pipeline import HuggingFacePipeline\n",
        "from transformers import pipeline\n",
        "from langchain.prompts import PromptTemplate\n",
        "\n",
        "# Additional configuration parameters\n",
        "do_sample = True\n",
        "pad_token_id = tokenizer.eos_token_id\n",
        "top_p = 0.7  # You can adjust this value based on your preference\n",
        "temperature = 0.9  # You can adjust this value based on your preference\n",
        "\n",
        "pipe = pipeline(\"text-generation\", model=model, tokenizer=tokenizer, max_new_tokens=512, do_sample=do_sample, pad_token_id=pad_token_id,  top_p=top_p, temperature=temperature)\n",
        "llm = HuggingFacePipeline(pipeline=pipe)\n",
        "\n",
        "# Creating prompt for large language model\n",
        "pre_prompt = \"\"\"[INST] <<SYS>>\\nImagine you are the author of this story. Your task is to continue the narrative and unfold the plot. Introduce new characters, unexpected twists, and exciting events. Feel free to unleash your creativity and have fun crafting the next part of the story!\\n\"\"\"\n",
        "prompt = pre_prompt + \"{Story}[\\INST]\"\n",
        "\n",
        "prompt = PromptTemplate(template=prompt, input_variables=[\"Story\"])\n",
        "\n",
        "chain = prompt | llm\n",
        "\n",
        "Story = \"In Dhaka's vibrant Ahsanullah University, Asif Fahim, Mukaffi, and Morshed forged a lasting bond. As students, they navigated the complexities of science and technology, each with unique dreams.\"\n",
        "\n",
        "print(chain.invoke({\"Story\": Story}))"
      ],
      "metadata": {
        "colab": {
          "base_uri": "https://localhost:8080/"
        },
        "id": "eBcCFjkVW_q-",
        "outputId": "ad20a245-dba5-45a1-ea03-57c14290b292"
      },
      "execution_count": 39,
      "outputs": [
        {
          "output_type": "stream",
          "name": "stdout",
          "text": [
            "  As the days passed, the trio's friendship grew stronger, fueled by their shared passion for science and technology. They spent countless hours discussing their research projects, debating the latest scientific breakthroughs, and supporting each other through the challenges of university life.\n",
            "\n",
            "One day, while wandering through the campus, they stumbled upon an old, mysterious-looking book hidden away in the university library's dusty archives. The cover was worn and faded, but the pages were filled with strange symbols and diagrams that seemed to defy explanation.\n",
            "\n",
            "Intrigued, the trio decided to investigate further. They spent hours poring over the book, trying to decipher its secrets. As they delved deeper into the mysteries of the book, they began to notice strange occurrences happening around them. Equipment would malfunction, and strange noises could be heard coming from the depths of the library.\n",
            "\n",
            "Asif, Mukaffi, and Morshed soon realized that the book was more than just an ancient tome – it was a gateway to a hidden world of magic and wonder. They discovered that they had stumbled upon a long-forgotten text from a powerful sorcerer, one that held the secrets of manipulating the very fabric of reality.\n",
            "\n",
            "Excited by their discovery, the trio began to experiment with the magic they had uncovered. They started small, using their newfound powers to create simple illusions and tricks. But as they grew more confident in their abilities, they began to push the limits of their magic, experimenting with more complex spells and incantations.\n",
            "\n",
            "As their powers grew stronger, the trio realized that they had unleashed a force beyond their control. The magic they had uncovered was not just a tool for entertainment or experimentation – it was a powerful force that could change the course of their lives forever.\n",
            "\n",
            "Suddenly, the trio found themselves facing a new challenge: how to control their newfound powers and prevent them from getting out of hand. They knew that they had to find a way to harness their magic before it consumed them completely.\n",
            "\n",
            "With the fate of their lives hanging in the balance, Asif, Mukaffi, and Morshed embarked on a perilous journey to master their powers and uncover the secre\n"
          ]
        }
      ]
    },
    {
      "cell_type": "markdown",
      "source": [
        "### **Setting up the Training**\n",
        "we will be using the `huggingface` and the `peft` library!"
      ],
      "metadata": {
        "id": "g-Vs5Dc3DdY_"
      }
    },
    {
      "cell_type": "code",
      "source": [
        "from peft import AutoPeftModelForCausalLM, LoraConfig, get_peft_model, prepare_model_for_kbit_training\n",
        "\n",
        "peft_config = LoraConfig(r=8, lora_alpha=16, lora_dropout=0.05, bias=\"none\", task_type=\"CAUSAL_LM\")"
      ],
      "metadata": {
        "id": "SQulqDzjd0gD"
      },
      "execution_count": 40,
      "outputs": []
    },
    {
      "cell_type": "markdown",
      "source": [
        "* we need to prepare the model to be trained in 4bit so we will use the  **`prepare_model_for_kbit_training`** function from peft\n",
        "\n",
        "\n"
      ],
      "metadata": {
        "id": "1SWl1MgjDrXX"
      }
    },
    {
      "cell_type": "code",
      "source": [
        "model = prepare_model_for_kbit_training(model)\n",
        "model = get_peft_model(model, peft_config)"
      ],
      "metadata": {
        "id": "bcco3ITVd486"
      },
      "execution_count": 41,
      "outputs": []
    },
    {
      "cell_type": "markdown",
      "source": [
        "# **Training Hyperparameters**\n",
        "The choice of hyperparameters is contingent upon the desired training duration. Pay special attention to the following key factors:\n",
        "\n",
        "* `num_train_epochs/max_steps:` Dictates the number of iterations over the data. Exercise caution, as an excessive number may lead to overfitting!\n",
        "\n",
        "* `learning_rate:` Governs the convergence speed of the model. Adjust this parameter judiciously for optimal results."
      ],
      "metadata": {
        "id": "go8_nVq7jO9d"
      }
    },
    {
      "cell_type": "code",
      "source": [
        "from transformers import TrainingArguments\n",
        "output_model= \"Llama_instruct_generation\"\n",
        "training_arguments = TrainingArguments(\n",
        "        output_dir=output_model,\n",
        "        per_device_train_batch_size=1,\n",
        "        gradient_accumulation_steps=4,\n",
        "        optim=\"paged_adamw_32bit\",\n",
        "        learning_rate=2e-4,\n",
        "        lr_scheduler_type=\"cosine\",\n",
        "        save_strategy=\"epoch\",\n",
        "        logging_steps=10,\n",
        "        num_train_epochs=1,\n",
        "        max_steps=150,\n",
        "        fp16=True,\n",
        ")"
      ],
      "metadata": {
        "id": "lm65iOf5DOx3"
      },
      "execution_count": 42,
      "outputs": []
    },
    {
      "cell_type": "markdown",
      "source": [
        "### **Setting up the trainer**\n",
        "\n",
        "`max_seq_length`: Context window size\n"
      ],
      "metadata": {
        "id": "Gz6Vhh4WFpMM"
      }
    },
    {
      "cell_type": "code",
      "source": [
        "from trl import SFTTrainer\n",
        "\n",
        "max_seq_length = 512\n",
        "\n",
        "trainer = SFTTrainer(\n",
        "  model=model,\n",
        "  peft_config=peft_config,\n",
        "  max_seq_length=max_seq_length,\n",
        "  tokenizer=tokenizer,\n",
        "  packing=True,\n",
        "  formatting_func=create_prompt,  # This will apply the create_prompt mapping to all training and test dataset\n",
        "  args=training_arguments,\n",
        "  train_dataset=train_subset,      # Pass train_subset as train_dataset\n",
        "  eval_dataset=test_subset         # Pass test_subset as eval_dataset\n",
        ")\n"
      ],
      "metadata": {
        "id": "UyyNtDrmeAkc",
        "colab": {
          "base_uri": "https://localhost:8080/",
          "height": 136,
          "referenced_widgets": [
            "157133c7bde042e39a21ebc388c6cd37",
            "dbabe31fb6a2410ab5f92793a015825a",
            "898a057204204c569d2ba473df687925",
            "8bca14aa76914b959369ecab3ab6a3f6",
            "7f1921528a7744a8a281aba0c94b4add",
            "fd409d72aa3045a7a87961e2e30eb865",
            "a05d1761c64d455a88b8eb69b395ba40",
            "7f6498f78a1c4e70b22af702645d352e",
            "d6e50faecb4e4bd0b4c7c95456e4a9a6",
            "8fd6e7b5b0b14a4aba75299a2db23755",
            "4efbb062a7bd43f6bd783b1a93e9659e",
            "226b524a603245ecb426f4857cebe3fb",
            "0abf1cbb964c4d839eee612318f4a697",
            "b690fccd28b24dd9be0fdb998729fe3d",
            "c8060161594b495a8f69585ab009153f",
            "8868e8da48784abdaaab89f45a3f5fb7",
            "40446c606adf48ffb06135a6c7036fc2",
            "e60d5e1617104aa581e2aefbfb241b12",
            "7f3a2f09dfa341ad96f09f418bd61ab1",
            "a044c85a80734afb95582f5dbd434682",
            "bffb44bb26ea4649bc7c1adac6c2587a",
            "35751fd7d2cf4ccda9989b7049e18181"
          ]
        },
        "outputId": "95b3e973-47ce-42e2-ca2b-d2eab96c026d"
      },
      "execution_count": 43,
      "outputs": [
        {
          "output_type": "display_data",
          "data": {
            "text/plain": [
              "Generating train split: 0 examples [00:00, ? examples/s]"
            ],
            "application/vnd.jupyter.widget-view+json": {
              "version_major": 2,
              "version_minor": 0,
              "model_id": "157133c7bde042e39a21ebc388c6cd37"
            }
          },
          "metadata": {}
        },
        {
          "output_type": "display_data",
          "data": {
            "text/plain": [
              "Generating train split: 0 examples [00:00, ? examples/s]"
            ],
            "application/vnd.jupyter.widget-view+json": {
              "version_major": 2,
              "version_minor": 0,
              "model_id": "226b524a603245ecb426f4857cebe3fb"
            }
          },
          "metadata": {}
        },
        {
          "output_type": "stream",
          "name": "stderr",
          "text": [
            "/usr/local/lib/python3.10/dist-packages/trl/trainer/sft_trainer.py:318: UserWarning: You passed `packing=True` to the SFTTrainer, and you are training your model with `max_steps` strategy. The dataset will be iterated until the `max_steps` are reached.\n",
            "  warnings.warn(\n"
          ]
        }
      ]
    },
    {
      "cell_type": "markdown",
      "source": [
        "### **Training starts here**"
      ],
      "metadata": {
        "id": "ohVdVrSiVjzP"
      }
    },
    {
      "cell_type": "code",
      "source": [
        "trainer.train()"
      ],
      "metadata": {
        "colab": {
          "base_uri": "https://localhost:8080/",
          "height": 652
        },
        "id": "91-fVb37EZut",
        "outputId": "5fd642c5-6444-41bb-96c0-ea2b825e4406"
      },
      "execution_count": 44,
      "outputs": [
        {
          "output_type": "stream",
          "name": "stderr",
          "text": [
            "You're using a LlamaTokenizerFast tokenizer. Please note that with a fast tokenizer, using the `__call__` method is faster than using a method to encode the text followed by a call to the `pad` method to get a padded encoding.\n",
            "/usr/local/lib/python3.10/dist-packages/torch/utils/checkpoint.py:429: UserWarning: torch.utils.checkpoint: please pass in use_reentrant=True or use_reentrant=False explicitly. The default value of use_reentrant will be updated to be False in the future. To maintain current behavior, pass use_reentrant=True. It is recommended that you use use_reentrant=False. Refer to docs for more details on the differences between the two variants.\n",
            "  warnings.warn(\n"
          ]
        },
        {
          "output_type": "display_data",
          "data": {
            "text/plain": [
              "<IPython.core.display.HTML object>"
            ],
            "text/html": [
              "\n",
              "    <div>\n",
              "      \n",
              "      <progress value='150' max='150' style='width:300px; height:20px; vertical-align: middle;'></progress>\n",
              "      [150/150 19:49, Epoch 0/1]\n",
              "    </div>\n",
              "    <table border=\"1\" class=\"dataframe\">\n",
              "  <thead>\n",
              " <tr style=\"text-align: left;\">\n",
              "      <th>Step</th>\n",
              "      <th>Training Loss</th>\n",
              "    </tr>\n",
              "  </thead>\n",
              "  <tbody>\n",
              "    <tr>\n",
              "      <td>10</td>\n",
              "      <td>1.758500</td>\n",
              "    </tr>\n",
              "    <tr>\n",
              "      <td>20</td>\n",
              "      <td>1.552800</td>\n",
              "    </tr>\n",
              "    <tr>\n",
              "      <td>30</td>\n",
              "      <td>1.479200</td>\n",
              "    </tr>\n",
              "    <tr>\n",
              "      <td>40</td>\n",
              "      <td>1.437700</td>\n",
              "    </tr>\n",
              "    <tr>\n",
              "      <td>50</td>\n",
              "      <td>1.357900</td>\n",
              "    </tr>\n",
              "    <tr>\n",
              "      <td>60</td>\n",
              "      <td>1.402800</td>\n",
              "    </tr>\n",
              "    <tr>\n",
              "      <td>70</td>\n",
              "      <td>1.359700</td>\n",
              "    </tr>\n",
              "    <tr>\n",
              "      <td>80</td>\n",
              "      <td>1.381600</td>\n",
              "    </tr>\n",
              "    <tr>\n",
              "      <td>90</td>\n",
              "      <td>1.355200</td>\n",
              "    </tr>\n",
              "    <tr>\n",
              "      <td>100</td>\n",
              "      <td>1.370600</td>\n",
              "    </tr>\n",
              "    <tr>\n",
              "      <td>110</td>\n",
              "      <td>1.370600</td>\n",
              "    </tr>\n",
              "    <tr>\n",
              "      <td>120</td>\n",
              "      <td>1.333000</td>\n",
              "    </tr>\n",
              "    <tr>\n",
              "      <td>130</td>\n",
              "      <td>1.357900</td>\n",
              "    </tr>\n",
              "    <tr>\n",
              "      <td>140</td>\n",
              "      <td>1.372900</td>\n",
              "    </tr>\n",
              "    <tr>\n",
              "      <td>150</td>\n",
              "      <td>1.373900</td>\n",
              "    </tr>\n",
              "  </tbody>\n",
              "</table><p>"
            ]
          },
          "metadata": {}
        },
        {
          "output_type": "execute_result",
          "data": {
            "text/plain": [
              "TrainOutput(global_step=150, training_loss=1.4176239776611328, metrics={'train_runtime': 1197.7727, 'train_samples_per_second': 0.501, 'train_steps_per_second': 0.125, 'total_flos': 1.2186386694144e+16, 'train_loss': 1.4176239776611328, 'epoch': 0.56})"
            ]
          },
          "metadata": {},
          "execution_count": 44
        }
      ]
    },
    {
      "cell_type": "markdown",
      "source": [
        "### **Save the model**"
      ],
      "metadata": {
        "id": "VkeZV-BeVqOa"
      }
    },
    {
      "cell_type": "code",
      "source": [
        "trainer.save_model(\"Llama_instruct_generation\")"
      ],
      "metadata": {
        "id": "ysHgWnwbfRSt"
      },
      "execution_count": 45,
      "outputs": []
    },
    {
      "cell_type": "code",
      "source": [
        "merged_model = model.merge_and_unload()"
      ],
      "metadata": {
        "colab": {
          "base_uri": "https://localhost:8080/"
        },
        "id": "9zYrr6sfkA6M",
        "outputId": "c36e73ae-4539-49c1-83fc-d86f630be1eb"
      },
      "execution_count": 46,
      "outputs": [
        {
          "output_type": "stream",
          "name": "stderr",
          "text": [
            "/usr/local/lib/python3.10/dist-packages/peft/tuners/lora/bnb.py:249: UserWarning: Merge lora module to 4-bit linear may get different generations due to rounding errors.\n",
            "  warnings.warn(\n"
          ]
        }
      ]
    },
    {
      "cell_type": "markdown",
      "source": [
        "#### **Generate Answers After Training**\n",
        "\n",
        "* `invoke:` call the chain on an input\n",
        "* `batch:` call the chain on a list of inputs\n",
        "#### **Documentation Link:**\n",
        "* https://python.langchain.com/docs/expression_language/interface\n",
        "\n",
        "# **Conversation Buffer memory**"
      ],
      "metadata": {
        "id": "NsKxEwUU9qmN"
      }
    },
    {
      "cell_type": "code",
      "source": [
        "# Creating prompt for large language model\n",
        "pre_prompt = \"\"\"[INST] <<SYS>>\\nImagine you are the author of this story. Your task is to continue the narrative and unfold the plot. Introduce new characters, unexpected twists, and exciting events. Feel free to unleash your creativity and have fun crafting the next part of the story!\\n\"\"\"\n",
        "prompt = pre_prompt + \"{Story}[\\INST]\"\n",
        "\n",
        "prompt = PromptTemplate(template=prompt, input_variables=[\"Story\"])"
      ],
      "metadata": {
        "id": "PmNHY3ZWDypz"
      },
      "execution_count": 47,
      "outputs": []
    },
    {
      "cell_type": "code",
      "source": [
        "from langchain_community.llms.huggingface_pipeline import HuggingFacePipeline\n",
        "from transformers import pipeline\n",
        "from langchain.prompts import PromptTemplate\n",
        "from langchain.memory import ConversationBufferMemory\n",
        "from langchain.chains import LLMChain\n",
        "\n",
        "pipeline = pipeline(\"text-generation\", model=merged_model, tokenizer=tokenizer, max_new_tokens=512, do_sample=do_sample, pad_token_id=pad_token_id, top_p=top_p, temperature=temperature)\n",
        "llm = HuggingFacePipeline(pipeline=pipeline)\n",
        "\n",
        "memory = ConversationBufferMemory()\n",
        "chat_llm_chain = LLMChain(\n",
        "    llm=llm,\n",
        "    prompt=prompt,\n",
        "    verbose=True,\n",
        "    memory=memory,\n",
        ")"
      ],
      "metadata": {
        "id": "cO5qxNs_Dpkv"
      },
      "execution_count": 48,
      "outputs": []
    },
    {
      "cell_type": "markdown",
      "source": [
        "#### **Example: 01**"
      ],
      "metadata": {
        "id": "9Yz0DJuvFVg1"
      }
    },
    {
      "cell_type": "code",
      "source": [
        "context = \"Once upon a time in the vibrant city of Dhaka, there were three inseparable friends - Hridoy, Mukaffi, and Wasi. Their friendship was a testament to the bond that can be formed in the most unexpected of places.\"\n",
        "chat_llm_chain.predict(Story=context)"
      ],
      "metadata": {
        "colab": {
          "base_uri": "https://localhost:8080/",
          "height": 524
        },
        "id": "YeeLz6MjD2qk",
        "outputId": "ec17ee30-33e5-47be-a1d7-143f565d502c"
      },
      "execution_count": 49,
      "outputs": [
        {
          "output_type": "stream",
          "name": "stdout",
          "text": [
            "\n",
            "\n",
            "\u001b[1m> Entering new LLMChain chain...\u001b[0m\n",
            "Prompt after formatting:\n",
            "\u001b[32;1m\u001b[1;3m[INST] <<SYS>>\n",
            "Imagine you are the author of this story. Your task is to continue the narrative and unfold the plot. Introduce new characters, unexpected twists, and exciting events. Feel free to unleash your creativity and have fun crafting the next part of the story!\n",
            "Once upon a time in the vibrant city of Dhaka, there were three inseparable friends - Hridoy, Mukaffi, and Wasi. Their friendship was a testament to the bond that can be formed in the most unexpected of places.[\\INST]\u001b[0m\n"
          ]
        },
        {
          "output_type": "stream",
          "name": "stderr",
          "text": [
            "/usr/local/lib/python3.10/dist-packages/torch/utils/checkpoint.py:429: UserWarning: torch.utils.checkpoint: please pass in use_reentrant=True or use_reentrant=False explicitly. The default value of use_reentrant will be updated to be False in the future. To maintain current behavior, pass use_reentrant=True. It is recommended that you use use_reentrant=False. Refer to docs for more details on the differences between the two variants.\n",
            "  warnings.warn(\n",
            "/usr/local/lib/python3.10/dist-packages/torch/utils/checkpoint.py:61: UserWarning: None of the inputs have requires_grad=True. Gradients will be None\n",
            "  warnings.warn(\n"
          ]
        },
        {
          "output_type": "stream",
          "name": "stdout",
          "text": [
            "\n",
            "\u001b[1m> Finished chain.\u001b[0m\n"
          ]
        },
        {
          "output_type": "execute_result",
          "data": {
            "text/plain": [
              "'  Great! Here is a continuation of the story:\\n\\nAs the three friends navigated the bustling streets of Dhaka, they stumbled upon a mysterious old mansion that seemed to have been abandoned for decades. The mansion was hidden behind a thick wall of overgrown vegetation, and its crumbling facade seemed to whisper tales of a long-forgotten past.\\n\\nHridoy, being the adventurous one, suggested that they explore the mansion and uncover its secrets. Mukaffi and Wasi were hesitant at first, but their curiosity got the better of them, and they agreed to join Hridoy on his quest for discovery.\\n\\nAs they entered the mansion, they were struck by the eerie silence that surrounded them. The only sound was the creaking of the old wooden floorboards beneath their feet. They found themselves in a grand entrance hall, with a sweeping staircase that seemed to stretch up to the sky.\\n\\nSuddenly, they heard a faint whisper in the distance. It was a soft, melodic voice that seemed to be coming from everywhere and nowhere at the same time. The voice was singing a haunting melody that sent shivers down their spines.\\n\\n\"What was that?\" Mukaffi asked, his voice barely above a whisper.\\n\\n\"I don\\'t know,\" Hridoy replied, his eyes fixed on the staircase. \"But I think we\\'re not alone in this mansion.\"\\n\\nWasi nodded in agreement, his eyes wide with excitement. \"Let\\'s keep exploring and find out what\\'s going on.\"\\n\\nAs they cautiously made their way through the mansion, they encountered more strange occurrences. They found a room filled with old books, each one more mysterious than the last. They discovered a hidden laboratory filled with strange scientific equipment, and they even stumbled upon a hidden room filled with ancient artifacts.\\n\\nBut the most unexpected discovery of all was yet to come. As they ventured deeper into the mansion, they found themselves face to face with a ghostly figure. The figure was shrouded in mist, and its eyes glowed with an otherworldly light.\\n\\n\"Who are you?\" Mukaffi asked, his voice trembling with fear.\\n\\nThe'"
            ],
            "application/vnd.google.colaboratory.intrinsic+json": {
              "type": "string"
            }
          },
          "metadata": {},
          "execution_count": 49
        }
      ]
    },
    {
      "cell_type": "markdown",
      "source": [
        "#### **Example: 02**"
      ],
      "metadata": {
        "id": "MTLOm8ZnFZq2"
      }
    },
    {
      "cell_type": "code",
      "source": [
        "context = \"In Dhaka's vibrant Ahsanullah University, Asif Fahim, Mukaffi, and Morshed forged a lasting bond. As students, they navigated the complexities of science and technology, each with unique dreams.\"\n",
        "chat_llm_chain.predict(Story=context)"
      ],
      "metadata": {
        "colab": {
          "base_uri": "https://localhost:8080/",
          "height": 542
        },
        "id": "TGiMh_hK_a85",
        "outputId": "0832dfaa-7e71-45f4-dc22-82591009e244"
      },
      "execution_count": 50,
      "outputs": [
        {
          "output_type": "stream",
          "name": "stdout",
          "text": [
            "\n",
            "\n",
            "\u001b[1m> Entering new LLMChain chain...\u001b[0m\n",
            "Prompt after formatting:\n",
            "\u001b[32;1m\u001b[1;3m[INST] <<SYS>>\n",
            "Imagine you are the author of this story. Your task is to continue the narrative and unfold the plot. Introduce new characters, unexpected twists, and exciting events. Feel free to unleash your creativity and have fun crafting the next part of the story!\n",
            "In Dhaka's vibrant Ahsanullah University, Asif Fahim, Mukaffi, and Morshed forged a lasting bond. As students, they navigated the complexities of science and technology, each with unique dreams.[\\INST]\u001b[0m\n"
          ]
        },
        {
          "output_type": "stream",
          "name": "stderr",
          "text": [
            "/usr/local/lib/python3.10/dist-packages/torch/utils/checkpoint.py:429: UserWarning: torch.utils.checkpoint: please pass in use_reentrant=True or use_reentrant=False explicitly. The default value of use_reentrant will be updated to be False in the future. To maintain current behavior, pass use_reentrant=True. It is recommended that you use use_reentrant=False. Refer to docs for more details on the differences between the two variants.\n",
            "  warnings.warn(\n",
            "/usr/local/lib/python3.10/dist-packages/torch/utils/checkpoint.py:61: UserWarning: None of the inputs have requires_grad=True. Gradients will be None\n",
            "  warnings.warn(\n"
          ]
        },
        {
          "output_type": "stream",
          "name": "stdout",
          "text": [
            "\n",
            "\u001b[1m> Finished chain.\u001b[0m\n"
          ]
        },
        {
          "output_type": "execute_result",
          "data": {
            "text/plain": [
              "\"  Asif Fahim, Mukaffi, and Morshed were the best of friends, united by their passion for science and technology. They spent countless hours together in the university's state-of-the-art labs, experimenting with cutting-edge equipment and discussing their visions for the future. Asif, the brilliant and ambitious one, dreamed of revolutionizing the field of renewable energy, while Mukaffi, the quiet and reserved one, had a hidden talent for programming and artificial intelligence. Morshed, the charismatic and outgoing one, was a master of engineering and design, with a flair for creating innovative solutions to real-world problems.\\n\\nDespite their different areas of expertise, the three friends shared a common goal: to make a meaningful impact on the world through science and technology. They were determined to turn their ideas into reality, and they knew that the key to success lay in their ability to collaborate and support each other.\\n\\nOne day, as they were working on a project in the university's robotics lab, they received an unexpected visit from a mysterious stranger. The stranger, a tall, imposing figure with piercing eyes and a thick beard, introduced himself as Dr. Rashid, a renowned scientist from the United States. He had heard about the three friends and their groundbreaking work, and he was eager to learn more.\\n\\nDr. Rashid was impressed by the friends' passion and dedication, and he saw potential in their work. He offered to sponsor their research and provide them with access to the latest technology and resources. The friends were overjoyed and grateful for the opportunity, and they eagerly accepted Dr. Rashid's offer.\\n\\nUnder Dr. Rashid's guidance, the three friends made rapid progress on their projects. Asif worked on developing a new type of solar panel that could harness the power of the sun more efficiently, while Mukaffi and Morshed focused on creating a sophisticated AI system that could help solve complex problems in engineering and design.\\n\\nBut as they delved deeper into their research, the friends began to notice strange occurrences around the university. Equipment would malfunction, and strange noises could be heard in the hallways at night. They couldn't shake off the feeling that something was\""
            ],
            "application/vnd.google.colaboratory.intrinsic+json": {
              "type": "string"
            }
          },
          "metadata": {},
          "execution_count": 50
        }
      ]
    },
    {
      "cell_type": "markdown",
      "source": [
        "#### **Example: 03**"
      ],
      "metadata": {
        "id": "KdcIBt8OFbSm"
      }
    },
    {
      "cell_type": "code",
      "source": [
        "context = \"In a happy town where everyone laughed and had big dreams, there were two siblings named Fasabbih and Mariya. Fasabbih, the little brother, always worked quietly towards his goals, while Mariya, his big sister, had a bright and energetic personality that made their small town feel alive.\"\n",
        "chat_llm_chain.predict(Story=context)"
      ],
      "metadata": {
        "colab": {
          "base_uri": "https://localhost:8080/",
          "height": 524
        },
        "id": "UmvCVRfvDMvG",
        "outputId": "c755309d-c311-4d9f-b2ff-995084bfa976"
      },
      "execution_count": 51,
      "outputs": [
        {
          "output_type": "stream",
          "name": "stdout",
          "text": [
            "\n",
            "\n",
            "\u001b[1m> Entering new LLMChain chain...\u001b[0m\n",
            "Prompt after formatting:\n",
            "\u001b[32;1m\u001b[1;3m[INST] <<SYS>>\n",
            "Imagine you are the author of this story. Your task is to continue the narrative and unfold the plot. Introduce new characters, unexpected twists, and exciting events. Feel free to unleash your creativity and have fun crafting the next part of the story!\n",
            "In a happy town where everyone laughed and had big dreams, there were two siblings named Fasabbih and Mariya. Fasabbih, the little brother, always worked quietly towards his goals, while Mariya, his big sister, had a bright and energetic personality that made their small town feel alive.[\\INST]\u001b[0m\n"
          ]
        },
        {
          "output_type": "stream",
          "name": "stderr",
          "text": [
            "/usr/local/lib/python3.10/dist-packages/torch/utils/checkpoint.py:429: UserWarning: torch.utils.checkpoint: please pass in use_reentrant=True or use_reentrant=False explicitly. The default value of use_reentrant will be updated to be False in the future. To maintain current behavior, pass use_reentrant=True. It is recommended that you use use_reentrant=False. Refer to docs for more details on the differences between the two variants.\n",
            "  warnings.warn(\n",
            "/usr/local/lib/python3.10/dist-packages/torch/utils/checkpoint.py:61: UserWarning: None of the inputs have requires_grad=True. Gradients will be None\n",
            "  warnings.warn(\n"
          ]
        },
        {
          "output_type": "stream",
          "name": "stdout",
          "text": [
            "\n",
            "\u001b[1m> Finished chain.\u001b[0m\n"
          ]
        },
        {
          "output_type": "execute_result",
          "data": {
            "text/plain": [
              "\"  As the two siblings grew older, their paths began to diverge. Fasabbih became increasingly fascinated with the mysterious and unknown, spending countless hours in the town's library researching ancient texts and seeking out new knowledge. Mariya, on the other hand, became more and more involved in the town's social scene, throwing herself into various charity events and community projects. Despite their different interests, the two siblings remained close, with Mariya often turning to Fasabbih for advice and support.\\n\\nOne day, a strange and ominous event occurred in the town. A dark cloud appeared in the sky, growing larger and more menacing by the minute. The townspeople were terrified, unsure of what to do as the cloud seemed to be bearing down on them. Fasabbih, sensing an opportunity to put his knowledge to the test, urged Mariya to join him in a desperate attempt to save their town.\\n\\nTogether, the two siblings embarked on a perilous journey to uncover the source of the dark cloud and put an end to it. Along the way, they encountered a host of unexpected characters, including a wise old wizard, a band of mischievous fairies, and a brave warrior who had been tasked with protecting the town from an ancient evil.\\n\\nAs they journeyed deeper into the heart of the cloud, the siblings discovered that it was not a natural phenomenon, but rather the result of a powerful curse placed upon the town by a dark sorcerer. The sorcerer, who had been seeking revenge against the town for past injustices, had unleashed the curse in a last-ditch effort to destroy their home and everyone in it.\\n\\nWith the help of their newfound allies, Fasabbih and Mariya worked tirelessly to unravel the curse and lift the dark cloud from their town. It was a difficult and dangerous task, but with their combined knowledge and determination, they were finally able to defeat the sorcerer and lift the curse. The town was saved, and the siblings were hailed as heroes.\\n\\nBut their journey did not end there. As they returned to their town, they realized that the curse had left behind a lasting impact on their community. The once-happy town was\""
            ],
            "application/vnd.google.colaboratory.intrinsic+json": {
              "type": "string"
            }
          },
          "metadata": {},
          "execution_count": 51
        }
      ]
    },
    {
      "cell_type": "code",
      "source": [
        "memory.load_memory_variables({})"
      ],
      "metadata": {
        "colab": {
          "base_uri": "https://localhost:8080/"
        },
        "id": "nO5MTzQTGoQA",
        "outputId": "c055a966-6b37-48e0-fe2f-03177a0f7d83"
      },
      "execution_count": 52,
      "outputs": [
        {
          "output_type": "execute_result",
          "data": {
            "text/plain": [
              "{'history': 'Human: Once upon a time in the vibrant city of Dhaka, there were three inseparable friends - Hridoy, Mukaffi, and Wasi. Their friendship was a testament to the bond that can be formed in the most unexpected of places.\\nAI:   Great! Here is a continuation of the story:\\n\\nAs the three friends navigated the bustling streets of Dhaka, they stumbled upon a mysterious old mansion that seemed to have been abandoned for decades. The mansion was hidden behind a thick wall of overgrown vegetation, and its crumbling facade seemed to whisper tales of a long-forgotten past.\\n\\nHridoy, being the adventurous one, suggested that they explore the mansion and uncover its secrets. Mukaffi and Wasi were hesitant at first, but their curiosity got the better of them, and they agreed to join Hridoy on his quest for discovery.\\n\\nAs they entered the mansion, they were struck by the eerie silence that surrounded them. The only sound was the creaking of the old wooden floorboards beneath their feet. They found themselves in a grand entrance hall, with a sweeping staircase that seemed to stretch up to the sky.\\n\\nSuddenly, they heard a faint whisper in the distance. It was a soft, melodic voice that seemed to be coming from everywhere and nowhere at the same time. The voice was singing a haunting melody that sent shivers down their spines.\\n\\n\"What was that?\" Mukaffi asked, his voice barely above a whisper.\\n\\n\"I don\\'t know,\" Hridoy replied, his eyes fixed on the staircase. \"But I think we\\'re not alone in this mansion.\"\\n\\nWasi nodded in agreement, his eyes wide with excitement. \"Let\\'s keep exploring and find out what\\'s going on.\"\\n\\nAs they cautiously made their way through the mansion, they encountered more strange occurrences. They found a room filled with old books, each one more mysterious than the last. They discovered a hidden laboratory filled with strange scientific equipment, and they even stumbled upon a hidden room filled with ancient artifacts.\\n\\nBut the most unexpected discovery of all was yet to come. As they ventured deeper into the mansion, they found themselves face to face with a ghostly figure. The figure was shrouded in mist, and its eyes glowed with an otherworldly light.\\n\\n\"Who are you?\" Mukaffi asked, his voice trembling with fear.\\n\\nThe\\nHuman: In Dhaka\\'s vibrant Ahsanullah University, Asif Fahim, Mukaffi, and Morshed forged a lasting bond. As students, they navigated the complexities of science and technology, each with unique dreams.\\nAI:   Asif Fahim, Mukaffi, and Morshed were the best of friends, united by their passion for science and technology. They spent countless hours together in the university\\'s state-of-the-art labs, experimenting with cutting-edge equipment and discussing their visions for the future. Asif, the brilliant and ambitious one, dreamed of revolutionizing the field of renewable energy, while Mukaffi, the quiet and reserved one, had a hidden talent for programming and artificial intelligence. Morshed, the charismatic and outgoing one, was a master of engineering and design, with a flair for creating innovative solutions to real-world problems.\\n\\nDespite their different areas of expertise, the three friends shared a common goal: to make a meaningful impact on the world through science and technology. They were determined to turn their ideas into reality, and they knew that the key to success lay in their ability to collaborate and support each other.\\n\\nOne day, as they were working on a project in the university\\'s robotics lab, they received an unexpected visit from a mysterious stranger. The stranger, a tall, imposing figure with piercing eyes and a thick beard, introduced himself as Dr. Rashid, a renowned scientist from the United States. He had heard about the three friends and their groundbreaking work, and he was eager to learn more.\\n\\nDr. Rashid was impressed by the friends\\' passion and dedication, and he saw potential in their work. He offered to sponsor their research and provide them with access to the latest technology and resources. The friends were overjoyed and grateful for the opportunity, and they eagerly accepted Dr. Rashid\\'s offer.\\n\\nUnder Dr. Rashid\\'s guidance, the three friends made rapid progress on their projects. Asif worked on developing a new type of solar panel that could harness the power of the sun more efficiently, while Mukaffi and Morshed focused on creating a sophisticated AI system that could help solve complex problems in engineering and design.\\n\\nBut as they delved deeper into their research, the friends began to notice strange occurrences around the university. Equipment would malfunction, and strange noises could be heard in the hallways at night. They couldn\\'t shake off the feeling that something was\\nHuman: In a happy town where everyone laughed and had big dreams, there were two siblings named Fasabbih and Mariya. Fasabbih, the little brother, always worked quietly towards his goals, while Mariya, his big sister, had a bright and energetic personality that made their small town feel alive.\\nAI:   As the two siblings grew older, their paths began to diverge. Fasabbih became increasingly fascinated with the mysterious and unknown, spending countless hours in the town\\'s library researching ancient texts and seeking out new knowledge. Mariya, on the other hand, became more and more involved in the town\\'s social scene, throwing herself into various charity events and community projects. Despite their different interests, the two siblings remained close, with Mariya often turning to Fasabbih for advice and support.\\n\\nOne day, a strange and ominous event occurred in the town. A dark cloud appeared in the sky, growing larger and more menacing by the minute. The townspeople were terrified, unsure of what to do as the cloud seemed to be bearing down on them. Fasabbih, sensing an opportunity to put his knowledge to the test, urged Mariya to join him in a desperate attempt to save their town.\\n\\nTogether, the two siblings embarked on a perilous journey to uncover the source of the dark cloud and put an end to it. Along the way, they encountered a host of unexpected characters, including a wise old wizard, a band of mischievous fairies, and a brave warrior who had been tasked with protecting the town from an ancient evil.\\n\\nAs they journeyed deeper into the heart of the cloud, the siblings discovered that it was not a natural phenomenon, but rather the result of a powerful curse placed upon the town by a dark sorcerer. The sorcerer, who had been seeking revenge against the town for past injustices, had unleashed the curse in a last-ditch effort to destroy their home and everyone in it.\\n\\nWith the help of their newfound allies, Fasabbih and Mariya worked tirelessly to unravel the curse and lift the dark cloud from their town. It was a difficult and dangerous task, but with their combined knowledge and determination, they were finally able to defeat the sorcerer and lift the curse. The town was saved, and the siblings were hailed as heroes.\\n\\nBut their journey did not end there. As they returned to their town, they realized that the curse had left behind a lasting impact on their community. The once-happy town was'}"
            ]
          },
          "metadata": {},
          "execution_count": 52
        }
      ]
    },
    {
      "cell_type": "code",
      "source": [
        "print(memory.buffer)"
      ],
      "metadata": {
        "colab": {
          "base_uri": "https://localhost:8080/"
        },
        "id": "dBNpamyuGtIw",
        "outputId": "ccff1392-b563-4a4e-c4e2-16e8d95c0c8c"
      },
      "execution_count": 53,
      "outputs": [
        {
          "output_type": "stream",
          "name": "stdout",
          "text": [
            "Human: Once upon a time in the vibrant city of Dhaka, there were three inseparable friends - Hridoy, Mukaffi, and Wasi. Their friendship was a testament to the bond that can be formed in the most unexpected of places.\n",
            "AI:   Great! Here is a continuation of the story:\n",
            "\n",
            "As the three friends navigated the bustling streets of Dhaka, they stumbled upon a mysterious old mansion that seemed to have been abandoned for decades. The mansion was hidden behind a thick wall of overgrown vegetation, and its crumbling facade seemed to whisper tales of a long-forgotten past.\n",
            "\n",
            "Hridoy, being the adventurous one, suggested that they explore the mansion and uncover its secrets. Mukaffi and Wasi were hesitant at first, but their curiosity got the better of them, and they agreed to join Hridoy on his quest for discovery.\n",
            "\n",
            "As they entered the mansion, they were struck by the eerie silence that surrounded them. The only sound was the creaking of the old wooden floorboards beneath their feet. They found themselves in a grand entrance hall, with a sweeping staircase that seemed to stretch up to the sky.\n",
            "\n",
            "Suddenly, they heard a faint whisper in the distance. It was a soft, melodic voice that seemed to be coming from everywhere and nowhere at the same time. The voice was singing a haunting melody that sent shivers down their spines.\n",
            "\n",
            "\"What was that?\" Mukaffi asked, his voice barely above a whisper.\n",
            "\n",
            "\"I don't know,\" Hridoy replied, his eyes fixed on the staircase. \"But I think we're not alone in this mansion.\"\n",
            "\n",
            "Wasi nodded in agreement, his eyes wide with excitement. \"Let's keep exploring and find out what's going on.\"\n",
            "\n",
            "As they cautiously made their way through the mansion, they encountered more strange occurrences. They found a room filled with old books, each one more mysterious than the last. They discovered a hidden laboratory filled with strange scientific equipment, and they even stumbled upon a hidden room filled with ancient artifacts.\n",
            "\n",
            "But the most unexpected discovery of all was yet to come. As they ventured deeper into the mansion, they found themselves face to face with a ghostly figure. The figure was shrouded in mist, and its eyes glowed with an otherworldly light.\n",
            "\n",
            "\"Who are you?\" Mukaffi asked, his voice trembling with fear.\n",
            "\n",
            "The\n",
            "Human: In Dhaka's vibrant Ahsanullah University, Asif Fahim, Mukaffi, and Morshed forged a lasting bond. As students, they navigated the complexities of science and technology, each with unique dreams.\n",
            "AI:   Asif Fahim, Mukaffi, and Morshed were the best of friends, united by their passion for science and technology. They spent countless hours together in the university's state-of-the-art labs, experimenting with cutting-edge equipment and discussing their visions for the future. Asif, the brilliant and ambitious one, dreamed of revolutionizing the field of renewable energy, while Mukaffi, the quiet and reserved one, had a hidden talent for programming and artificial intelligence. Morshed, the charismatic and outgoing one, was a master of engineering and design, with a flair for creating innovative solutions to real-world problems.\n",
            "\n",
            "Despite their different areas of expertise, the three friends shared a common goal: to make a meaningful impact on the world through science and technology. They were determined to turn their ideas into reality, and they knew that the key to success lay in their ability to collaborate and support each other.\n",
            "\n",
            "One day, as they were working on a project in the university's robotics lab, they received an unexpected visit from a mysterious stranger. The stranger, a tall, imposing figure with piercing eyes and a thick beard, introduced himself as Dr. Rashid, a renowned scientist from the United States. He had heard about the three friends and their groundbreaking work, and he was eager to learn more.\n",
            "\n",
            "Dr. Rashid was impressed by the friends' passion and dedication, and he saw potential in their work. He offered to sponsor their research and provide them with access to the latest technology and resources. The friends were overjoyed and grateful for the opportunity, and they eagerly accepted Dr. Rashid's offer.\n",
            "\n",
            "Under Dr. Rashid's guidance, the three friends made rapid progress on their projects. Asif worked on developing a new type of solar panel that could harness the power of the sun more efficiently, while Mukaffi and Morshed focused on creating a sophisticated AI system that could help solve complex problems in engineering and design.\n",
            "\n",
            "But as they delved deeper into their research, the friends began to notice strange occurrences around the university. Equipment would malfunction, and strange noises could be heard in the hallways at night. They couldn't shake off the feeling that something was\n",
            "Human: In a happy town where everyone laughed and had big dreams, there were two siblings named Fasabbih and Mariya. Fasabbih, the little brother, always worked quietly towards his goals, while Mariya, his big sister, had a bright and energetic personality that made their small town feel alive.\n",
            "AI:   As the two siblings grew older, their paths began to diverge. Fasabbih became increasingly fascinated with the mysterious and unknown, spending countless hours in the town's library researching ancient texts and seeking out new knowledge. Mariya, on the other hand, became more and more involved in the town's social scene, throwing herself into various charity events and community projects. Despite their different interests, the two siblings remained close, with Mariya often turning to Fasabbih for advice and support.\n",
            "\n",
            "One day, a strange and ominous event occurred in the town. A dark cloud appeared in the sky, growing larger and more menacing by the minute. The townspeople were terrified, unsure of what to do as the cloud seemed to be bearing down on them. Fasabbih, sensing an opportunity to put his knowledge to the test, urged Mariya to join him in a desperate attempt to save their town.\n",
            "\n",
            "Together, the two siblings embarked on a perilous journey to uncover the source of the dark cloud and put an end to it. Along the way, they encountered a host of unexpected characters, including a wise old wizard, a band of mischievous fairies, and a brave warrior who had been tasked with protecting the town from an ancient evil.\n",
            "\n",
            "As they journeyed deeper into the heart of the cloud, the siblings discovered that it was not a natural phenomenon, but rather the result of a powerful curse placed upon the town by a dark sorcerer. The sorcerer, who had been seeking revenge against the town for past injustices, had unleashed the curse in a last-ditch effort to destroy their home and everyone in it.\n",
            "\n",
            "With the help of their newfound allies, Fasabbih and Mariya worked tirelessly to unravel the curse and lift the dark cloud from their town. It was a difficult and dangerous task, but with their combined knowledge and determination, they were finally able to defeat the sorcerer and lift the curse. The town was saved, and the siblings were hailed as heroes.\n",
            "\n",
            "But their journey did not end there. As they returned to their town, they realized that the curse had left behind a lasting impact on their community. The once-happy town was\n"
          ]
        }
      ]
    }
  ]
}